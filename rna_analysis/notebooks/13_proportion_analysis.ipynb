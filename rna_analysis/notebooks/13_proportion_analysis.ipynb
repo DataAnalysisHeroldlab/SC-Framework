{
 "cells": [
  {
   "cell_type": "code",
   "execution_count": null,
   "id": "c3c832d8",
   "metadata": {
    "hide_input": true,
    "init_cell": true,
    "run_control": {
     "marked": false
    }
   },
   "outputs": [],
   "source": [
    "from sctoolbox.utilities import bgcolor"
   ]
  },
  {
   "cell_type": "markdown",
   "id": "02e0b422",
   "metadata": {},
   "source": [
    "# Proportion Analysis\n",
    "<hr style=\"border:2px solid black\"> </hr>"
   ]
  },
  {
   "cell_type": "markdown",
   "id": "cbb28ac5",
   "metadata": {},
   "source": [
    "<h1><center>⬐ Fill in input data here ⬎</center></h1>"
   ]
  },
  {
   "cell_type": "code",
   "execution_count": null,
   "id": "91a84c82",
   "metadata": {
    "init_cell": true,
    "run_control": {
     "marked": false
    }
   },
   "outputs": [],
   "source": [
    "%bgcolor PowderBlue\n",
    "\n",
    "#Final clustering or celltype annotation column\n",
    "clustering_col = \"clustering\"\n",
    "\n",
    "#Set to None if not available\n",
    "sample_col = \"sample\"\n",
    "\n",
    "#Conditions to compare\n",
    "condition_col = \"chamber\"\n",
    "specific_conds = None  # specify conditions to compare: [\"cond1\", \"cond2\",...]. If None, all conditions are compared\n",
    "\n",
    "#Transformation method\n",
    "trans = 'logit'  # can be \"logit\" or \"arcsin\".\n",
    "\n",
    "#Covariates to include in analysis\n",
    "covariates = None\n",
    "\n",
    "### For unreplicated data ###\n",
    "#If sample_col=None, data is assumed unreplicated.\n",
    "#Parameters for the bootstrapping if data is unreplicated\n",
    "n_sims = 100  # number of bootstrapping simulations\n",
    "n_reps = 8  # number of pseudo-replicates to generate for each condition\n",
    "\n",
    "#P-value Threshold to determine significane\n",
    "significance_threshold = 0.05\n",
    "\n",
    "### Plots ###\n",
    "#Clusters to plot\n",
    "specific_clusters = None  # specify clusters you want to plot: [\"c1\", \"c2\",...], None to plot all\n",
    "#Number of plots per row\n",
    "n_cols = 4"
   ]
  },
  {
   "cell_type": "markdown",
   "id": "135a3550",
   "metadata": {},
   "source": [
    "<hr style=\"border:2px solid black\"> </hr>"
   ]
  },
  {
   "cell_type": "markdown",
   "id": "9814c461",
   "metadata": {},
   "source": [
    "## Loading packages"
   ]
  },
  {
   "cell_type": "code",
   "execution_count": null,
   "id": "635f923e",
   "metadata": {
    "run_control": {
     "marked": false
    }
   },
   "outputs": [],
   "source": [
    "import logging\n",
    "import scanpy as sc\n",
    "import pandas as pd\n",
    "pd.set_option('display.max_columns', None)  #no limit to the number of columns shown\n",
    "import sctoolbox.utilities as utils\n",
    "utils.settings_from_config(\"config.yaml\", key=\"13\")\n",
    "from sctoolbox._settings import settings\n",
    "import sctoolbox.utils.decorator as deco\n",
    "\n",
    "#We will use Scanpro for proportion analysis\n",
    "from scanpro import scanpro"
   ]
  },
  {
   "cell_type": "markdown",
   "id": "7a9534c2",
   "metadata": {},
   "source": [
    "## Loading adata"
   ]
  },
  {
   "cell_type": "code",
   "execution_count": null,
   "id": "6fa71032",
   "metadata": {
    "run_control": {
     "marked": false
    }
   },
   "outputs": [],
   "source": [
    "adata = utils.load_h5ad(\"anndata_4.h5ad\")\n",
    "display(adata)"
   ]
  },
  {
   "cell_type": "markdown",
   "id": "05233b5d",
   "metadata": {},
   "source": [
    "--------------"
   ]
  },
  {
   "cell_type": "markdown",
   "id": "2ceb779a",
   "metadata": {},
   "source": [
    "## Proportion analysis with Scanpro"
   ]
  },
  {
   "cell_type": "code",
   "execution_count": null,
   "id": "9c4e8839",
   "metadata": {
    "run_control": {
     "marked": false
    }
   },
   "outputs": [],
   "source": [
    "# add decorator to scanpro\n",
    "scanpro = deco.log_anndata(scanpro)"
   ]
  },
  {
   "cell_type": "code",
   "execution_count": null,
   "id": "c86edf5f",
   "metadata": {
    "run_control": {
     "marked": false
    }
   },
   "outputs": [],
   "source": [
    "out = scanpro(adata,\n",
    "              clusters_col=clustering_col,\n",
    "              samples_col=sample_col,\n",
    "              conds_col=condition_col,\n",
    "              conditions=specific_conds,\n",
    "              covariates=covariates,\n",
    "              transform=trans,\n",
    "              n_sims=n_sims,\n",
    "              n_reps=n_reps)\n",
    "\n",
    "out.results"
   ]
  },
  {
   "cell_type": "code",
   "execution_count": null,
   "id": "4e508df1",
   "metadata": {
    "run_control": {
     "marked": false
    }
   },
   "outputs": [],
   "source": [
    "significant_change = (out.results['adjusted_p_values'] < significance_threshold).to_dict()\n",
    "significant_change"
   ]
  },
  {
   "cell_type": "code",
   "execution_count": null,
   "id": "d8af48ed",
   "metadata": {
    "run_control": {
     "marked": false
    }
   },
   "outputs": [],
   "source": [
    "out.plot(kind='stripplot',\n",
    "         clusters=specific_clusters,\n",
    "         n_columns=n_cols,\n",
    "         save=f'{settings.figure_dir}scanpro_stripplot.pdf')"
   ]
  },
  {
   "cell_type": "code",
   "execution_count": null,
   "id": "54fc6ea9",
   "metadata": {
    "run_control": {
     "marked": false
    }
   },
   "outputs": [],
   "source": [
    "out.plot(kind='boxplot',\n",
    "         clusters=specific_clusters,\n",
    "         n_columns=n_cols,\n",
    "         save=f'{settings.figure_dir}scanpro_boxplot.pdf')"
   ]
  },
  {
   "cell_type": "code",
   "execution_count": null,
   "id": "ec8b4d0d",
   "metadata": {
    "run_control": {
     "marked": false
    }
   },
   "outputs": [],
   "source": [
    "# Save results to uns dictionary\n",
    "scanpro_uns_dict = {\"scanpro\": {\"results\": out.results,\n",
    "                                \"significance\": significant_change,\n",
    "                                \"proportions\": out.props,\n",
    "                                \"counts\": out.counts,\n",
    "                                \"transformation\": trans,\n",
    "                                \"conditions\": out.conditions}}\n",
    "# Add to adata\n",
    "adata.uns.update(scanpro_uns_dict)"
   ]
  },
  {
   "cell_type": "code",
   "execution_count": null,
   "id": "217308e0",
   "metadata": {
    "run_control": {
     "marked": false
    }
   },
   "outputs": [],
   "source": [
    "utils.save_h5ad(adata, \"anndata_13.h5ad\")"
   ]
  },
  {
   "cell_type": "code",
   "execution_count": null,
   "id": "b45dba7f",
   "metadata": {
    "run_control": {
     "marked": false
    }
   },
   "outputs": [],
   "source": []
  }
 ],
 "metadata": {
  "celltoolbar": "Initialization Cell",
  "kernelspec": {
   "display_name": "sctoolbox",
   "language": "python",
   "name": "sctoolbox"
  },
  "language_info": {
   "codemirror_mode": {
    "name": "ipython",
    "version": 3
   },
   "file_extension": ".py",
   "mimetype": "text/x-python",
   "name": "python",
   "nbconvert_exporter": "python",
   "pygments_lexer": "ipython3",
   "version": "3.10.13"
  }
 },
 "nbformat": 4,
 "nbformat_minor": 5
}
