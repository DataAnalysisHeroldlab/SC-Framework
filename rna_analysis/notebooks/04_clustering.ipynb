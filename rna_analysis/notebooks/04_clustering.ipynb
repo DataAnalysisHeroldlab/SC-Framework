{
 "cells": [
  {
   "cell_type": "code",
   "execution_count": 1,
   "metadata": {
    "ExecuteTime": {
     "end_time": "2024-03-28T13:59:25.943185Z",
     "start_time": "2024-03-28T13:59:23.051263Z"
    },
    "editable": false,
    "hide_input": true,
    "init_cell": true,
    "run_control": {
     "marked": false
    }
   },
   "outputs": [
    {
     "ename": "FileNotFoundError",
     "evalue": "[Errno 2] No such file or directory",
     "output_type": "error",
     "traceback": [
      "\u001b[0;31m---------------------------------------------------------------------------\u001b[0m",
      "\u001b[0;31mFileNotFoundError\u001b[0m                         Traceback (most recent call last)",
      "Cell \u001b[0;32mIn[1], line 1\u001b[0m\n\u001b[0;32m----> 1\u001b[0m \u001b[38;5;28;01mimport\u001b[39;00m \u001b[38;5;21;01msctoolbox\u001b[39;00m\n\u001b[1;32m      2\u001b[0m \u001b[38;5;28;01mfrom\u001b[39;00m \u001b[38;5;21;01msctoolbox\u001b[39;00m\u001b[38;5;21;01m.\u001b[39;00m\u001b[38;5;21;01mutilities\u001b[39;00m \u001b[38;5;28;01mimport\u001b[39;00m bgcolor\n",
      "File \u001b[0;32m/mnt/workspace2/rwiegan/conda_envs/sctoolbox_dev/lib/python3.10/site-packages/sctoolbox/__init__.py:26\u001b[0m\n\u001b[1;32m     23\u001b[0m sctoolbox_module \u001b[38;5;241m=\u001b[39m import_module(\u001b[38;5;124m\"\u001b[39m\u001b[38;5;124msctoolbox\u001b[39m\u001b[38;5;124m\"\u001b[39m)\n\u001b[1;32m     25\u001b[0m \u001b[38;5;28;01mfor\u001b[39;00m old_module_name, new_module_name \u001b[38;5;129;01min\u001b[39;00m old_to_new\u001b[38;5;241m.\u001b[39mitems():\n\u001b[0;32m---> 26\u001b[0m     new_module \u001b[38;5;241m=\u001b[39m \u001b[43mimport_module\u001b[49m\u001b[43m(\u001b[49m\u001b[38;5;124;43m\"\u001b[39;49m\u001b[38;5;124;43msctoolbox.\u001b[39;49m\u001b[38;5;124;43m\"\u001b[39;49m\u001b[43m \u001b[49m\u001b[38;5;241;43m+\u001b[39;49m\u001b[43m \u001b[49m\u001b[43mnew_module_name\u001b[49m\u001b[43m)\u001b[49m\n\u001b[1;32m     28\u001b[0m     sys\u001b[38;5;241m.\u001b[39mmodules[\u001b[38;5;124m\"\u001b[39m\u001b[38;5;124msctoolbox.\u001b[39m\u001b[38;5;124m\"\u001b[39m \u001b[38;5;241m+\u001b[39m old_module_name] \u001b[38;5;241m=\u001b[39m new_module\n\u001b[1;32m     29\u001b[0m     \u001b[38;5;28msetattr\u001b[39m(sctoolbox_module, old_module_name, new_module)  \u001b[38;5;66;03m# sets sctoolbox.<module> = sctoolbox.<new_base>.<module>\u001b[39;00m\n",
      "File \u001b[0;32m/mnt/workspace2/rwiegan/conda_envs/sctoolbox_dev/lib/python3.10/importlib/__init__.py:126\u001b[0m, in \u001b[0;36mimport_module\u001b[0;34m(name, package)\u001b[0m\n\u001b[1;32m    124\u001b[0m             \u001b[38;5;28;01mbreak\u001b[39;00m\n\u001b[1;32m    125\u001b[0m         level \u001b[38;5;241m+\u001b[39m\u001b[38;5;241m=\u001b[39m \u001b[38;5;241m1\u001b[39m\n\u001b[0;32m--> 126\u001b[0m \u001b[38;5;28;01mreturn\u001b[39;00m \u001b[43m_bootstrap\u001b[49m\u001b[38;5;241;43m.\u001b[39;49m\u001b[43m_gcd_import\u001b[49m\u001b[43m(\u001b[49m\u001b[43mname\u001b[49m\u001b[43m[\u001b[49m\u001b[43mlevel\u001b[49m\u001b[43m:\u001b[49m\u001b[43m]\u001b[49m\u001b[43m,\u001b[49m\u001b[43m \u001b[49m\u001b[43mpackage\u001b[49m\u001b[43m,\u001b[49m\u001b[43m \u001b[49m\u001b[43mlevel\u001b[49m\u001b[43m)\u001b[49m\n",
      "File \u001b[0;32m/mnt/workspace2/rwiegan/conda_envs/sctoolbox_dev/lib/python3.10/site-packages/sctoolbox/utils/__init__.py:11\u001b[0m\n\u001b[1;32m      8\u001b[0m \u001b[38;5;66;03m# Set base R home directory to prevent R_HOME not found error\u001b[39;00m\n\u001b[1;32m      9\u001b[0m os\u001b[38;5;241m.\u001b[39menviron[\u001b[38;5;124m'\u001b[39m\u001b[38;5;124mR_HOME\u001b[39m\u001b[38;5;124m'\u001b[39m] \u001b[38;5;241m=\u001b[39m os\u001b[38;5;241m.\u001b[39mpath\u001b[38;5;241m.\u001b[39mjoin(sys\u001b[38;5;241m.\u001b[39mexecutable\u001b[38;5;241m.\u001b[39msplit(\u001b[38;5;124m'\u001b[39m\u001b[38;5;124m/bin/\u001b[39m\u001b[38;5;124m'\u001b[39m)[\u001b[38;5;241m0\u001b[39m], \u001b[38;5;124m'\u001b[39m\u001b[38;5;124mlib/R\u001b[39m\u001b[38;5;124m'\u001b[39m)\n\u001b[0;32m---> 11\u001b[0m function_dict \u001b[38;5;241m=\u001b[39m \u001b[43mimport_submodules\u001b[49m\u001b[43m(\u001b[49m\u001b[38;5;28;43mglobals\u001b[39;49m\u001b[43m(\u001b[49m\u001b[43m)\u001b[49m\u001b[43m)\u001b[49m\n\u001b[1;32m     13\u001b[0m \u001b[38;5;66;03m# Add settings_from_config to utils (it is now located in _settings)\u001b[39;00m\n\u001b[1;32m     14\u001b[0m settings_module \u001b[38;5;241m=\u001b[39m import_module(\u001b[38;5;124m\"\u001b[39m\u001b[38;5;124msctoolbox._settings\u001b[39m\u001b[38;5;124m\"\u001b[39m)\n",
      "File \u001b[0;32m/mnt/workspace2/rwiegan/conda_envs/sctoolbox_dev/lib/python3.10/site-packages/sctoolbox/_modules.py:28\u001b[0m, in \u001b[0;36mimport_submodules\u001b[0;34m(globals)\u001b[0m\n\u001b[1;32m     26\u001b[0m \u001b[38;5;66;03m# Import each submodule to find functions\u001b[39;00m\n\u001b[1;32m     27\u001b[0m \u001b[38;5;28;01mfor\u001b[39;00m submodule_name \u001b[38;5;129;01min\u001b[39;00m submodule_names:\n\u001b[0;32m---> 28\u001b[0m     module \u001b[38;5;241m=\u001b[39m \u001b[43mimport_module\u001b[49m\u001b[43m(\u001b[49m\u001b[38;5;124;43m\"\u001b[39;49m\u001b[38;5;124;43msctoolbox.\u001b[39;49m\u001b[38;5;124;43m\"\u001b[39;49m\u001b[43m \u001b[49m\u001b[38;5;241;43m+\u001b[39;49m\u001b[43m \u001b[49m\u001b[43mmodule_name\u001b[49m\u001b[43m \u001b[49m\u001b[38;5;241;43m+\u001b[39;49m\u001b[43m \u001b[49m\u001b[38;5;124;43m\"\u001b[39;49m\u001b[38;5;124;43m.\u001b[39;49m\u001b[38;5;124;43m\"\u001b[39;49m\u001b[43m \u001b[49m\u001b[38;5;241;43m+\u001b[39;49m\u001b[43m \u001b[49m\u001b[43msubmodule_name\u001b[49m\u001b[43m)\u001b[49m\n\u001b[1;32m     29\u001b[0m     function_names \u001b[38;5;241m=\u001b[39m [function \u001b[38;5;28;01mfor\u001b[39;00m function \u001b[38;5;129;01min\u001b[39;00m \u001b[38;5;28mdir\u001b[39m(module) \u001b[38;5;28;01mif\u001b[39;00m \u001b[38;5;129;01mnot\u001b[39;00m function\u001b[38;5;241m.\u001b[39mstartswith(\u001b[38;5;124m\"\u001b[39m\u001b[38;5;124m__\u001b[39m\u001b[38;5;124m\"\u001b[39m)]  \u001b[38;5;66;03m# do not add internal functions\u001b[39;00m\n\u001b[1;32m     31\u001b[0m     \u001b[38;5;66;03m# Add each function to globals for this module\u001b[39;00m\n",
      "File \u001b[0;32m/mnt/workspace2/rwiegan/conda_envs/sctoolbox_dev/lib/python3.10/importlib/__init__.py:126\u001b[0m, in \u001b[0;36mimport_module\u001b[0;34m(name, package)\u001b[0m\n\u001b[1;32m    124\u001b[0m             \u001b[38;5;28;01mbreak\u001b[39;00m\n\u001b[1;32m    125\u001b[0m         level \u001b[38;5;241m+\u001b[39m\u001b[38;5;241m=\u001b[39m \u001b[38;5;241m1\u001b[39m\n\u001b[0;32m--> 126\u001b[0m \u001b[38;5;28;01mreturn\u001b[39;00m \u001b[43m_bootstrap\u001b[49m\u001b[38;5;241;43m.\u001b[39;49m\u001b[43m_gcd_import\u001b[49m\u001b[43m(\u001b[49m\u001b[43mname\u001b[49m\u001b[43m[\u001b[49m\u001b[43mlevel\u001b[49m\u001b[43m:\u001b[49m\u001b[43m]\u001b[49m\u001b[43m,\u001b[49m\u001b[43m \u001b[49m\u001b[43mpackage\u001b[49m\u001b[43m,\u001b[49m\u001b[43m \u001b[49m\u001b[43mlevel\u001b[49m\u001b[43m)\u001b[49m\n",
      "File \u001b[0;32m/mnt/workspace2/rwiegan/conda_envs/sctoolbox_dev/lib/python3.10/site-packages/sctoolbox/utils/checker.py:11\u001b[0m\n\u001b[1;32m      9\u001b[0m \u001b[38;5;28;01mimport\u001b[39;00m \u001b[38;5;21;01mgzip\u001b[39;00m\n\u001b[1;32m     10\u001b[0m \u001b[38;5;28;01mimport\u001b[39;00m \u001b[38;5;21;01mshutil\u001b[39;00m\n\u001b[0;32m---> 11\u001b[0m \u001b[38;5;28;01mimport\u001b[39;00m \u001b[38;5;21;01mscanpy\u001b[39;00m \u001b[38;5;28;01mas\u001b[39;00m \u001b[38;5;21;01msc\u001b[39;00m\n\u001b[1;32m     12\u001b[0m \u001b[38;5;28;01mimport\u001b[39;00m \u001b[38;5;21;01mpandas\u001b[39;00m \u001b[38;5;28;01mas\u001b[39;00m \u001b[38;5;21;01mpd\u001b[39;00m\n\u001b[1;32m     14\u001b[0m \u001b[38;5;28;01mfrom\u001b[39;00m \u001b[38;5;21;01mbeartype\u001b[39;00m\u001b[38;5;21;01m.\u001b[39;00m\u001b[38;5;21;01mtyping\u001b[39;00m \u001b[38;5;28;01mimport\u001b[39;00m Optional, Tuple, Any, Iterable\n",
      "File \u001b[0;32m/mnt/workspace2/rwiegan/conda_envs/sctoolbox_dev/lib/python3.10/site-packages/scanpy/__init__.py:16\u001b[0m\n\u001b[1;32m     11\u001b[0m     \u001b[38;5;28;01mexcept\u001b[39;00m \u001b[38;5;167;01mModuleNotFoundError\u001b[39;00m:\n\u001b[1;32m     12\u001b[0m         \u001b[38;5;28;01mraise\u001b[39;00m \u001b[38;5;167;01mRuntimeError\u001b[39;00m(\n\u001b[1;32m     13\u001b[0m             \u001b[38;5;124m\"\u001b[39m\u001b[38;5;124mscanpy is not correctly installed. Please install it, e.g. with pip.\u001b[39m\u001b[38;5;124m\"\u001b[39m\n\u001b[1;32m     14\u001b[0m         )\n\u001b[0;32m---> 16\u001b[0m \u001b[38;5;28;01mfrom\u001b[39;00m \u001b[38;5;21;01m.\u001b[39;00m\u001b[38;5;21;01m_utils\u001b[39;00m \u001b[38;5;28;01mimport\u001b[39;00m check_versions\n\u001b[1;32m     18\u001b[0m check_versions()\n\u001b[1;32m     19\u001b[0m \u001b[38;5;28;01mdel\u001b[39;00m check_versions\n",
      "File \u001b[0;32m/mnt/workspace2/rwiegan/conda_envs/sctoolbox_dev/lib/python3.10/site-packages/scanpy/_utils/__init__.py:25\u001b[0m\n\u001b[1;32m     22\u001b[0m \u001b[38;5;28;01mfrom\u001b[39;00m \u001b[38;5;21;01mtextwrap\u001b[39;00m \u001b[38;5;28;01mimport\u001b[39;00m dedent\n\u001b[1;32m     23\u001b[0m \u001b[38;5;28;01mfrom\u001b[39;00m \u001b[38;5;21;01mpackaging\u001b[39;00m \u001b[38;5;28;01mimport\u001b[39;00m version\n\u001b[0;32m---> 25\u001b[0m \u001b[38;5;28;01mfrom\u001b[39;00m \u001b[38;5;21;01m.\u001b[39;00m\u001b[38;5;21;01m.\u001b[39;00m\u001b[38;5;21;01m_settings\u001b[39;00m \u001b[38;5;28;01mimport\u001b[39;00m settings\n\u001b[1;32m     26\u001b[0m \u001b[38;5;28;01mfrom\u001b[39;00m \u001b[38;5;21;01m.\u001b[39;00m\u001b[38;5;21;01m.\u001b[39;00m \u001b[38;5;28;01mimport\u001b[39;00m logging \u001b[38;5;28;01mas\u001b[39;00m logg\n\u001b[1;32m     28\u001b[0m \u001b[38;5;28;01mfrom\u001b[39;00m \u001b[38;5;21;01m.\u001b[39;00m\u001b[38;5;21;01mcompute\u001b[39;00m\u001b[38;5;21;01m.\u001b[39;00m\u001b[38;5;21;01mis_constant\u001b[39;00m \u001b[38;5;28;01mimport\u001b[39;00m is_constant\n",
      "File \u001b[0;32m/mnt/workspace2/rwiegan/conda_envs/sctoolbox_dev/lib/python3.10/site-packages/scanpy/_settings.py:488\u001b[0m\n\u001b[1;32m    480\u001b[0m     \u001b[38;5;28;01mdef\u001b[39;00m \u001b[38;5;21m__str__\u001b[39m(\u001b[38;5;28mself\u001b[39m) \u001b[38;5;241m-\u001b[39m\u001b[38;5;241m>\u001b[39m \u001b[38;5;28mstr\u001b[39m:\n\u001b[1;32m    481\u001b[0m         \u001b[38;5;28;01mreturn\u001b[39;00m \u001b[38;5;124m'\u001b[39m\u001b[38;5;130;01m\\n\u001b[39;00m\u001b[38;5;124m'\u001b[39m\u001b[38;5;241m.\u001b[39mjoin(\n\u001b[1;32m    482\u001b[0m             \u001b[38;5;124mf\u001b[39m\u001b[38;5;124m'\u001b[39m\u001b[38;5;132;01m{\u001b[39;00mk\u001b[38;5;132;01m}\u001b[39;00m\u001b[38;5;124m = \u001b[39m\u001b[38;5;132;01m{\u001b[39;00mv\u001b[38;5;132;01m!r}\u001b[39;00m\u001b[38;5;124m'\u001b[39m\n\u001b[1;32m    483\u001b[0m             \u001b[38;5;28;01mfor\u001b[39;00m k, v \u001b[38;5;129;01min\u001b[39;00m inspect\u001b[38;5;241m.\u001b[39mgetmembers(\u001b[38;5;28mself\u001b[39m)\n\u001b[1;32m    484\u001b[0m             \u001b[38;5;28;01mif\u001b[39;00m \u001b[38;5;129;01mnot\u001b[39;00m k\u001b[38;5;241m.\u001b[39mstartswith(\u001b[38;5;124m\"\u001b[39m\u001b[38;5;124m_\u001b[39m\u001b[38;5;124m\"\u001b[39m) \u001b[38;5;129;01mand\u001b[39;00m \u001b[38;5;129;01mnot\u001b[39;00m k \u001b[38;5;241m==\u001b[39m \u001b[38;5;124m'\u001b[39m\u001b[38;5;124mgetdoc\u001b[39m\u001b[38;5;124m'\u001b[39m\n\u001b[1;32m    485\u001b[0m         )\n\u001b[0;32m--> 488\u001b[0m settings \u001b[38;5;241m=\u001b[39m \u001b[43mScanpyConfig\u001b[49m\u001b[43m(\u001b[49m\u001b[43m)\u001b[49m\n",
      "File \u001b[0;32m/mnt/workspace2/rwiegan/conda_envs/sctoolbox_dev/lib/python3.10/site-packages/scanpy/_settings.py:101\u001b[0m, in \u001b[0;36mScanpyConfig.__init__\u001b[0;34m(self, verbosity, plot_suffix, file_format_data, file_format_figs, autosave, autoshow, writedir, cachedir, datasetdir, figdir, cache_compression, max_memory, n_jobs, logfile, categories_to_ignore, _frameon, _vector_friendly, _low_resolution_warning, n_pcs)\u001b[0m\n\u001b[1;32m     99\u001b[0m \u001b[38;5;28mself\u001b[39m\u001b[38;5;241m.\u001b[39mwritedir \u001b[38;5;241m=\u001b[39m writedir\n\u001b[1;32m    100\u001b[0m \u001b[38;5;28mself\u001b[39m\u001b[38;5;241m.\u001b[39mcachedir \u001b[38;5;241m=\u001b[39m cachedir\n\u001b[0;32m--> 101\u001b[0m \u001b[38;5;28;43mself\u001b[39;49m\u001b[38;5;241;43m.\u001b[39;49m\u001b[43mdatasetdir\u001b[49m \u001b[38;5;241m=\u001b[39m datasetdir\n\u001b[1;32m    102\u001b[0m \u001b[38;5;28mself\u001b[39m\u001b[38;5;241m.\u001b[39mfigdir \u001b[38;5;241m=\u001b[39m figdir\n\u001b[1;32m    103\u001b[0m \u001b[38;5;28mself\u001b[39m\u001b[38;5;241m.\u001b[39mcache_compression \u001b[38;5;241m=\u001b[39m cache_compression\n",
      "File \u001b[0;32m/mnt/workspace2/rwiegan/conda_envs/sctoolbox_dev/lib/python3.10/site-packages/scanpy/_settings.py:269\u001b[0m, in \u001b[0;36mScanpyConfig.datasetdir\u001b[0;34m(self, datasetdir)\u001b[0m\n\u001b[1;32m    266\u001b[0m \u001b[38;5;129m@datasetdir\u001b[39m\u001b[38;5;241m.\u001b[39msetter\n\u001b[1;32m    267\u001b[0m \u001b[38;5;28;01mdef\u001b[39;00m \u001b[38;5;21mdatasetdir\u001b[39m(\u001b[38;5;28mself\u001b[39m, datasetdir: Union[\u001b[38;5;28mstr\u001b[39m, Path]):\n\u001b[1;32m    268\u001b[0m     _type_check(datasetdir, \u001b[38;5;124m\"\u001b[39m\u001b[38;5;124mdatasetdir\u001b[39m\u001b[38;5;124m\"\u001b[39m, (\u001b[38;5;28mstr\u001b[39m, Path))\n\u001b[0;32m--> 269\u001b[0m     \u001b[38;5;28mself\u001b[39m\u001b[38;5;241m.\u001b[39m_datasetdir \u001b[38;5;241m=\u001b[39m \u001b[43mPath\u001b[49m\u001b[43m(\u001b[49m\u001b[43mdatasetdir\u001b[49m\u001b[43m)\u001b[49m\u001b[38;5;241;43m.\u001b[39;49m\u001b[43mresolve\u001b[49m\u001b[43m(\u001b[49m\u001b[43m)\u001b[49m\n",
      "File \u001b[0;32m/mnt/workspace2/rwiegan/conda_envs/sctoolbox_dev/lib/python3.10/pathlib.py:1077\u001b[0m, in \u001b[0;36mPath.resolve\u001b[0;34m(self, strict)\u001b[0m\n\u001b[1;32m   1074\u001b[0m         \u001b[38;5;28;01mraise\u001b[39;00m \u001b[38;5;167;01mRuntimeError\u001b[39;00m(\u001b[38;5;124m\"\u001b[39m\u001b[38;5;124mSymlink loop from \u001b[39m\u001b[38;5;132;01m%r\u001b[39;00m\u001b[38;5;124m\"\u001b[39m \u001b[38;5;241m%\u001b[39m e\u001b[38;5;241m.\u001b[39mfilename)\n\u001b[1;32m   1076\u001b[0m \u001b[38;5;28;01mtry\u001b[39;00m:\n\u001b[0;32m-> 1077\u001b[0m     s \u001b[38;5;241m=\u001b[39m \u001b[38;5;28;43mself\u001b[39;49m\u001b[38;5;241;43m.\u001b[39;49m\u001b[43m_accessor\u001b[49m\u001b[38;5;241;43m.\u001b[39;49m\u001b[43mrealpath\u001b[49m\u001b[43m(\u001b[49m\u001b[38;5;28;43mself\u001b[39;49m\u001b[43m,\u001b[49m\u001b[43m \u001b[49m\u001b[43mstrict\u001b[49m\u001b[38;5;241;43m=\u001b[39;49m\u001b[43mstrict\u001b[49m\u001b[43m)\u001b[49m\n\u001b[1;32m   1078\u001b[0m \u001b[38;5;28;01mexcept\u001b[39;00m \u001b[38;5;167;01mOSError\u001b[39;00m \u001b[38;5;28;01mas\u001b[39;00m e:\n\u001b[1;32m   1079\u001b[0m     check_eloop(e)\n",
      "File \u001b[0;32m/mnt/workspace2/rwiegan/conda_envs/sctoolbox_dev/lib/python3.10/posixpath.py:397\u001b[0m, in \u001b[0;36mrealpath\u001b[0;34m(filename, strict)\u001b[0m\n\u001b[1;32m    395\u001b[0m filename \u001b[38;5;241m=\u001b[39m os\u001b[38;5;241m.\u001b[39mfspath(filename)\n\u001b[1;32m    396\u001b[0m path, ok \u001b[38;5;241m=\u001b[39m _joinrealpath(filename[:\u001b[38;5;241m0\u001b[39m], filename, strict, {})\n\u001b[0;32m--> 397\u001b[0m \u001b[38;5;28;01mreturn\u001b[39;00m \u001b[43mabspath\u001b[49m\u001b[43m(\u001b[49m\u001b[43mpath\u001b[49m\u001b[43m)\u001b[49m\n",
      "File \u001b[0;32m/mnt/workspace2/rwiegan/conda_envs/sctoolbox_dev/lib/python3.10/posixpath.py:384\u001b[0m, in \u001b[0;36mabspath\u001b[0;34m(path)\u001b[0m\n\u001b[1;32m    382\u001b[0m         cwd \u001b[38;5;241m=\u001b[39m os\u001b[38;5;241m.\u001b[39mgetcwdb()\n\u001b[1;32m    383\u001b[0m     \u001b[38;5;28;01melse\u001b[39;00m:\n\u001b[0;32m--> 384\u001b[0m         cwd \u001b[38;5;241m=\u001b[39m \u001b[43mos\u001b[49m\u001b[38;5;241;43m.\u001b[39;49m\u001b[43mgetcwd\u001b[49m\u001b[43m(\u001b[49m\u001b[43m)\u001b[49m\n\u001b[1;32m    385\u001b[0m     path \u001b[38;5;241m=\u001b[39m join(cwd, path)\n\u001b[1;32m    386\u001b[0m \u001b[38;5;28;01mreturn\u001b[39;00m normpath(path)\n",
      "\u001b[0;31mFileNotFoundError\u001b[0m: [Errno 2] No such file or directory"
     ]
    }
   ],
   "source": [
    "import sctoolbox\n",
    "from sctoolbox.utilities import bgcolor"
   ]
  },
  {
   "cell_type": "markdown",
   "metadata": {},
   "source": [
    "# Embedding and clustering\n",
    "<hr style=\"border:2px solid black\"> </hr>"
   ]
  },
  {
   "cell_type": "markdown",
   "metadata": {},
   "source": [
    "<h1><center>⬐ Fill in input data here ⬎</center></h1>"
   ]
  },
  {
   "cell_type": "code",
   "execution_count": null,
   "metadata": {
    "ExecuteTime": {
     "end_time": "2024-03-28T13:59:25.946139Z",
     "start_time": "2024-03-28T13:59:25.946124Z"
    },
    "hide_input": false,
    "init_cell": true,
    "run_control": {
     "marked": false
    }
   },
   "outputs": [],
   "source": [
    "%bgcolor PowderBlue\n",
    "\n",
    "#Column to show in UMAPs\n",
    "condition_column = \"sample\"\n",
    "\n",
    "#Number of threads to use for multiprocessing\n",
    "threads = 4\n",
    "\n",
    "# Search embedding parameters (or set parameters later)\n",
    "embedding = \"umap\"   #umap or tsne\n",
    "search_parameters = True\n",
    "dist_range = (0.1, 1, 0.2) # Set min_dist range for umap\n",
    "spread_range = (1.0, 2.0, 0.5) # Set spread range for umap\n",
    "n_components = 3 # Number of components for umap\n",
    "perplexity_range = (30, 60, 10)        # perplexity range for tsne\n",
    "learning_rate_range = (600, 1000, 200)   # learning_rate for tsne\n",
    "\n",
    "\n",
    "# Search different clustering resolutions\n",
    "search_clustering_parameters = True\n",
    "clustering_method = \"leiden\" #leiden/louvain"
   ]
  },
  {
   "cell_type": "markdown",
   "metadata": {},
   "source": [
    "_____________"
   ]
  },
  {
   "cell_type": "markdown",
   "metadata": {},
   "source": [
    "## Loading packages"
   ]
  },
  {
   "cell_type": "code",
   "execution_count": null,
   "metadata": {
    "editable": false,
    "hide_input": false,
    "run_control": {
     "marked": false
    }
   },
   "outputs": [],
   "source": [
    "import scanpy as sc\n",
    "import matplotlib.pyplot as plt\n",
    "import sctoolbox.utils as utils\n",
    "import sctoolbox.tools as tools\n",
    "import sctoolbox.plotting as pl\n",
    "import pandas as pd\n",
    "\n",
    "utils.settings_from_config(\"config.yaml\", key=\"04\")\n",
    "\n",
    "# Set additional options for figures\n",
    "sc.set_figure_params(vector_friendly=True, dpi_save=600, scanpy=False)"
   ]
  },
  {
   "cell_type": "markdown",
   "metadata": {},
   "source": [
    "-----------"
   ]
  },
  {
   "cell_type": "markdown",
   "metadata": {},
   "source": [
    "## Load anndata from previous notebook"
   ]
  },
  {
   "cell_type": "code",
   "execution_count": null,
   "metadata": {
    "editable": false,
    "hide_input": false,
    "run_control": {
     "marked": false
    }
   },
   "outputs": [],
   "source": [
    "adata = utils.load_h5ad(\"anndata_3.h5ad\")\n",
    "\n",
    "with pd.option_context(\"display.max.rows\", 5, \"display.max.columns\", None):\n",
    "    display(adata)\n",
    "    display(adata.obs)\n",
    "    display(adata.var)"
   ]
  },
  {
   "cell_type": "markdown",
   "metadata": {},
   "source": [
    "------------"
   ]
  },
  {
   "cell_type": "markdown",
   "metadata": {},
   "source": [
    "## Calculate UMAP/TSNE and find best setting"
   ]
  },
  {
   "cell_type": "markdown",
   "metadata": {},
   "source": [
    "- NOTE: min_dist: distances between points to make the plot looks more 'clustered'\n",
    "- NOTE: spread: The effective scale of embedded points value be de default is 1"
   ]
  },
  {
   "cell_type": "code",
   "execution_count": null,
   "metadata": {
    "editable": false,
    "hide_input": false,
    "run_control": {
     "marked": false
    }
   },
   "outputs": [],
   "source": [
    "if search_parameters:\n",
    "    if embedding == \"umap\":\n",
    "        pl.search_umap_parameters(adata, \n",
    "                                  min_dist_range=dist_range,\n",
    "                                  spread_range=spread_range,\n",
    "                                  color=condition_column,\n",
    "                                  n_components=n_components,\n",
    "                                  threads=threads,\n",
    "                                  save=\"UMAP_parameter_search.pdf\")\n",
    "    elif embedding == \"tsne\":\n",
    "        pl.search_tsne_parameters(adata, \n",
    "                                  perplexity_range=perplexity_range,\n",
    "                                  learning_rate_range=learning_rate_range,\n",
    "                                  color=condition_column,\n",
    "                                  threads=threads,\n",
    "                                  save=\"TSNE_parameter_search.pdf\")"
   ]
  },
  {
   "cell_type": "code",
   "execution_count": null,
   "metadata": {
    "ExecuteTime": {
     "end_time": "2024-03-28T13:59:25.947836Z",
     "start_time": "2024-03-28T13:59:25.947821Z"
    },
    "hide_input": false,
    "init_cell": true,
    "run_control": {
     "marked": false
    }
   },
   "outputs": [],
   "source": [
    "%bgcolor PowderBlue\n",
    "\n",
    "# Final choice of spread / dist for umap\n",
    "min_dist = 0.4\n",
    "spread = 2.5\n",
    "\n",
    "# Final choice of perplexity_range / perplexity_range for tsne\n",
    "perplexity = 50\n",
    "learning_rate = 800"
   ]
  },
  {
   "cell_type": "code",
   "execution_count": null,
   "metadata": {
    "editable": false,
    "run_control": {
     "marked": false
    }
   },
   "outputs": [],
   "source": [
    "# Calculate final embedding\n",
    "if embedding == \"umap\":\n",
    "    sc.tl.umap(adata, min_dist=min_dist, spread=spread, n_components=n_components)\n",
    "elif embedding == \"tsne\":\n",
    "    sc.tl.tsne(adata, perplexity=perplexity, learning_rate=learning_rate)"
   ]
  },
  {
   "cell_type": "markdown",
   "metadata": {},
   "source": [
    "## Plot final embedding with quality measures"
   ]
  },
  {
   "cell_type": "code",
   "execution_count": null,
   "metadata": {
    "run_control": {
     "marked": false
    }
   },
   "outputs": [],
   "source": [
    "# Adjust qc columns to show in plot\n",
    "qc_columns = [condition_column] + list(adata.uns[\"sctoolbox\"][\"obs_metrics\"])"
   ]
  },
  {
   "cell_type": "code",
   "execution_count": null,
   "metadata": {
    "editable": false,
    "run_control": {
     "marked": false
    }
   },
   "outputs": [],
   "source": [
    "# Plot final umap/tsne with quality measures\n",
    "sc.pl.embedding(adata, basis=embedding, color=qc_columns, ncols=3, show=False)\n",
    "pl._save_figure(\"embedding_quality.pdf\")"
   ]
  },
  {
   "cell_type": "code",
   "execution_count": null,
   "metadata": {
    "editable": false,
    "hide_input": false,
    "run_control": {
     "marked": false
    }
   },
   "outputs": [],
   "source": [
    "# Plot distribution of samples in embedding\n",
    "_ = pl.plot_group_embeddings(adata, groupby=condition_column, embedding=embedding,\n",
    "                             save=\"embedding_sample_distribution.pdf\")"
   ]
  },
  {
   "cell_type": "markdown",
   "metadata": {},
   "source": [
    "----------"
   ]
  },
  {
   "cell_type": "markdown",
   "metadata": {},
   "source": [
    "## Cell clustering\n",
    "<hr style=\"border:1px solid black\"> </hr>\n",
    "- NOTE: resolution: controls the coarseness of the clustering. Higher values lead to more clusters."
   ]
  },
  {
   "cell_type": "code",
   "execution_count": null,
   "metadata": {
    "editable": false,
    "hide_input": false,
    "run_control": {
     "marked": false
    }
   },
   "outputs": [],
   "source": [
    "if search_clustering_parameters:\n",
    "    pl.search_clustering_parameters(adata, ncols=4, method=clustering_method, \n",
    "                                    embedding=embedding,\n",
    "                                    save=\"clustering_search.png\")"
   ]
  },
  {
   "cell_type": "code",
   "execution_count": null,
   "metadata": {
    "ExecuteTime": {
     "end_time": "2024-03-28T13:59:25.949166Z",
     "start_time": "2024-03-28T13:59:25.949152Z"
    },
    "hide_input": false,
    "init_cell": true,
    "run_control": {
     "marked": false
    }
   },
   "outputs": [],
   "source": [
    "%bgcolor PowderBlue\n",
    "\n",
    "#Choose final resolution\n",
    "clustering_column = \"leiden_0.5\""
   ]
  },
  {
   "cell_type": "markdown",
   "metadata": {},
   "source": [
    "### Reclustering"
   ]
  },
  {
   "cell_type": "markdown",
   "metadata": {},
   "source": [
    "Here you can use the `tools.recluster` function to iteratively adjust clustering"
   ]
  },
  {
   "cell_type": "code",
   "execution_count": null,
   "metadata": {
    "run_control": {
     "marked": false
    }
   },
   "outputs": [],
   "source": [
    "tools.recluster(adata, clustering_column, [\"1\", \"3\"], task=\"join\", embedding=embedding)\n",
    "clustering_column = \"leiden_0.5_recluster\"  #update clustering column"
   ]
  },
  {
   "cell_type": "code",
   "execution_count": null,
   "metadata": {
    "run_control": {
     "marked": false
    }
   },
   "outputs": [],
   "source": [
    "tools.recluster(adata, clustering_column, [\"3\"], task=\"split\", resolution=0.15, embedding=embedding,\n",
    "                   key_added=clustering_column)  #overwrite column"
   ]
  },
  {
   "cell_type": "code",
   "execution_count": null,
   "metadata": {
    "editable": false,
    "hide_input": false,
    "run_control": {
     "marked": false
    }
   },
   "outputs": [],
   "source": [
    "#Create final clustering\n",
    "adata.obs[\"clustering\"] = utils.rename_categories(adata.obs[clustering_column])\n",
    "adata.uns[\"sctoolbox\"][\"obs_metrics\"] = list(adata.uns[\"sctoolbox\"][\"obs_metrics\"]) + [\"clustering\"]"
   ]
  },
  {
   "cell_type": "markdown",
   "metadata": {},
   "source": [
    "### Final clustering of cells"
   ]
  },
  {
   "cell_type": "code",
   "execution_count": null,
   "metadata": {
    "editable": false,
    "hide_input": false,
    "run_control": {
     "marked": false
    }
   },
   "outputs": [],
   "source": [
    "#Plot final leiden\n",
    "sc.pl.embedding(adata, basis=\"X_\" + embedding, color=[condition_column, \"clustering\"], show=False)\n",
    "pl._save_figure(\"embedding_clustering.pdf\")"
   ]
  },
  {
   "cell_type": "markdown",
   "metadata": {},
   "source": [
    "---------"
   ]
  },
  {
   "cell_type": "markdown",
   "metadata": {},
   "source": [
    "## Plot distribution of cells across clusters"
   ]
  },
  {
   "cell_type": "code",
   "execution_count": null,
   "metadata": {
    "editable": false,
    "hide_input": false,
    "run_control": {
     "marked": false
    }
   },
   "outputs": [],
   "source": [
    "_ = pl.n_cells_barplot(adata, \"clustering\", groupby=condition_column, \n",
    "                       save=\"cell_distribution_barplot.pdf\")"
   ]
  },
  {
   "cell_type": "markdown",
   "metadata": {},
   "source": [
    "------"
   ]
  },
  {
   "cell_type": "markdown",
   "metadata": {},
   "source": [
    "## Generating 3D Object with UMAP coordinates in HTML"
   ]
  },
  {
   "cell_type": "code",
   "execution_count": null,
   "metadata": {
    "run_control": {
     "marked": false
    }
   },
   "outputs": [],
   "source": [
    "#plot 3D html for the \"clustering\" adata.obs, change to individual leiden or other columns if needed\n",
    "column_3d = \"clustering\""
   ]
  },
  {
   "cell_type": "code",
   "execution_count": null,
   "metadata": {
    "editable": false,
    "hide_input": false,
    "run_control": {
     "marked": false
    }
   },
   "outputs": [],
   "source": [
    "if embedding == \"umap\" and n_components > 2:\n",
    "    pl.plot_3D_UMAP(adata, column_3d, save=f\"umap_3d_{column_3d}\")\n",
    "    html_file = sctoolbox.settings.full_figure_prefix + f\"umap_3d_{column_3d}.html\"\n",
    "    \n",
    "    from IPython.display import IFrame\n",
    "    display(IFrame(src=html_file, width=800, height=400))"
   ]
  },
  {
   "cell_type": "markdown",
   "metadata": {},
   "source": [
    "---------"
   ]
  },
  {
   "cell_type": "markdown",
   "metadata": {
    "ExecuteTime": {
     "end_time": "2022-02-23T08:59:45.129236Z",
     "start_time": "2022-02-23T08:59:31.820370Z"
    }
   },
   "source": [
    "## Saving adata for next notebook\n",
    "<hr style=\"border:2px solid black\"> </hr>"
   ]
  },
  {
   "cell_type": "code",
   "execution_count": null,
   "metadata": {
    "editable": false,
    "hide_input": false,
    "run_control": {
     "marked": false
    }
   },
   "outputs": [],
   "source": [
    "utils.save_h5ad(adata, \"anndata_4.h5ad\")"
   ]
  },
  {
   "cell_type": "code",
   "execution_count": null,
   "metadata": {
    "editable": false,
    "run_control": {
     "marked": false
    }
   },
   "outputs": [],
   "source": [
    "sctoolbox.settings.close_logfile()"
   ]
  }
 ],
 "metadata": {
  "kernelspec": {
   "display_name": "sctoolbox",
   "language": "python",
   "name": "sctoolbox"
  },
  "language_info": {
   "codemirror_mode": {
    "name": "ipython",
    "version": 3
   },
   "file_extension": ".py",
   "mimetype": "text/x-python",
   "name": "python",
   "nbconvert_exporter": "python",
   "pygments_lexer": "ipython3",
   "version": "3.10.13"
  }
 },
 "nbformat": 4,
 "nbformat_minor": 4
}
