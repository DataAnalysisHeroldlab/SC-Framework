{
 "cells": [
  {
   "cell_type": "code",
   "execution_count": null,
   "id": "2b9518df",
   "metadata": {
    "hide_input": true,
    "init_cell": true
   },
   "outputs": [],
   "source": [
    "import sctoolbox\n",
    "from sctoolbox.utils import bgcolor"
   ]
  },
  {
   "cell_type": "markdown",
   "id": "2cf01f69",
   "metadata": {},
   "source": [
    "# Assembling or loading anndata object\n",
    "<hr style=\"border:2px solid black\"> </hr>"
   ]
  },
  {
   "cell_type": "markdown",
   "id": "fd71c06f",
   "metadata": {},
   "source": [
    "This notebook is dedicated to load or create an anndata object. The anndata object is prepared for the following analysis notebooks and finally stored as an `.h5ad` file. Based on the available data files there are multiple options to create the anndata object.\n",
    "\n",
    "### 1. `.h5ad` file\n",
    "Choose this option if you have a `.h5ad` file. The file could be provided by a preprocessing pipeline, a public dataset or a preceeding analysis.\n",
    "\n",
    "### 2. star solo quant folder\n",
    "This option is intended to assemble anndata object from the standard [star solo](https://github.com/alexdobin/STAR/tree/master) output folder (`quant/`). This is done by scaning through the folder structure and using the `*_matrix.mtx`, `*_barcodes.tsv` and `*_genes.tsv` to create an anndata object per sample. The sample anndata objects are finally combined.\n",
    "\n",
    "### 3. .mtx, barcode.tsv, genes.tsv\n",
    "Choose this option if you have the expression matrix in `.mtx` format, a file containing the barcodes (`*_barcodes.tsv`) and a file containing the genes (`*_genes.tsv`). Use this option for cases with the aforementioned three files available e.g. from a public dataset.\n",
    "\n",
    "### 4. convert from R object\n",
    "This option should be used if the data was processed using R. This can either be a `.rds` or `.robj` file."
   ]
  },
  {
   "cell_type": "markdown",
   "id": "4d4d124c",
   "metadata": {},
   "source": [
    "<h1><center>⬐ Fill in input data here ⬎</center></h1>"
   ]
  },
  {
   "cell_type": "code",
   "execution_count": null,
   "id": "6fd2a83b",
   "metadata": {
    "init_cell": true
   },
   "outputs": [],
   "source": [
    "%bgcolor PowderBlue\n",
    "\n",
    "# For option 1: The path to an existing .h5ad file\n",
    "path_h5ad = \"test_data/adata_rna.h5ad\"\n",
    "\n",
    "# For option 2: Path to a star solo quant directory\n",
    "path_quant = \"\"\n",
    "\n",
    "# For option 3: Directory containing .mtx, barcodes.tsv and genes.tsv\n",
    "path_mtx = \"\"\n",
    "\n",
    "# For option 4: This is the path to the Seurat (.rds, .robj) file\n",
    "path_rds = \"\""
   ]
  },
  {
   "cell_type": "code",
   "execution_count": null,
   "id": "b6ee2f16",
   "metadata": {},
   "outputs": [],
   "source": [
    "if sum(map(lambda x: x != \"\", [path_h5ad, path_quant, path_mtx, path_rds])) != 1:\n",
    "    del path_h5ad, path_quant, path_mtx, path_rds\n",
    "    raise ValueError(\"Please set only one of the above variables. Adjust the cell above and re-run.\")"
   ]
  },
  {
   "cell_type": "markdown",
   "id": "c5bb0896",
   "metadata": {},
   "source": [
    "<hr style=\"border:2px solid black\"> </hr>"
   ]
  },
  {
   "cell_type": "markdown",
   "id": "3918c093",
   "metadata": {},
   "source": [
    "## Setup"
   ]
  },
  {
   "cell_type": "code",
   "execution_count": null,
   "id": "70496f93",
   "metadata": {
    "editable": false
   },
   "outputs": [],
   "source": [
    "import sctoolbox.utilities as utils\n",
    "import sctoolbox.assemblers as assembler\n",
    "import sctoolbox.file_converter as converter\n",
    "\n",
    "utils.settings_from_config(\"config.yaml\", key=\"01\")"
   ]
  },
  {
   "cell_type": "markdown",
   "id": "7ef8776e",
   "metadata": {},
   "source": [
    "---------"
   ]
  },
  {
   "cell_type": "markdown",
   "id": "f3a2d6fe",
   "metadata": {},
   "source": [
    "## Read in data"
   ]
  },
  {
   "cell_type": "markdown",
   "id": "872a9852",
   "metadata": {},
   "source": [
    "### Option 1: Read from h5ad"
   ]
  },
  {
   "cell_type": "code",
   "execution_count": null,
   "id": "93b46ab3",
   "metadata": {
    "editable": false
   },
   "outputs": [],
   "source": [
    "if path_h5ad:\n",
    "    adata = utils.load_h5ad(path_h5ad)"
   ]
  },
  {
   "cell_type": "markdown",
   "id": "ba401229",
   "metadata": {},
   "source": [
    "### Option 2: Assemble from preprocessing pipeline 'quant' folder"
   ]
  },
  {
   "cell_type": "code",
   "execution_count": null,
   "id": "33f523bc",
   "metadata": {
    "init_cell": true
   },
   "outputs": [],
   "source": [
    "%bgcolor PowderBlue\n",
    "\n",
    "# Set up additional sample the information below.\n",
    "# Follows the scheme:\n",
    "# <sample name>:<type>:<value>\n",
    "# E.g.: \n",
    "# sample1:condition:room_air\n",
    "# sample1:timepoint:early\n",
    "# sample2:timepoint:late\n",
    "the_10X_yml = []"
   ]
  },
  {
   "cell_type": "code",
   "execution_count": null,
   "id": "4fc89bbd",
   "metadata": {
    "editable": false
   },
   "outputs": [],
   "source": [
    "if path_quant:\n",
    "    adata = assembler.from_quant(path_quant, the_10X_yml)"
   ]
  },
  {
   "cell_type": "markdown",
   "id": "eaa06794",
   "metadata": {},
   "source": [
    "### Option 3: Create an anndata object from .mtx, barcodes.tsv and genes.tsv"
   ]
  },
  {
   "cell_type": "code",
   "execution_count": null,
   "id": "770bfc1f",
   "metadata": {
    "editable": false
   },
   "outputs": [],
   "source": [
    "if path_mtx:\n",
    "    adata = assembler.from_mtx(path_mtx)"
   ]
  },
  {
   "cell_type": "markdown",
   "id": "ffc8ce99",
   "metadata": {},
   "source": [
    "### Option 4: Convert from Seurat to anndata object"
   ]
  },
  {
   "cell_type": "code",
   "execution_count": null,
   "id": "f4042d32",
   "metadata": {
    "editable": false
   },
   "outputs": [],
   "source": [
    "# Converting from Seurat to anndata object\n",
    "if path_rds:\n",
    "    adata = converter.convertToAdata(file=path_rds)"
   ]
  },
  {
   "cell_type": "markdown",
   "id": "13db317e",
   "metadata": {},
   "source": [
    "------------"
   ]
  },
  {
   "cell_type": "markdown",
   "id": "db1d2497",
   "metadata": {},
   "source": [
    "## Saving the loaded anndata object"
   ]
  },
  {
   "cell_type": "code",
   "execution_count": null,
   "id": "64aecc20",
   "metadata": {
    "editable": false
   },
   "outputs": [],
   "source": [
    "# Overview of loaded adata\n",
    "display(adata)"
   ]
  },
  {
   "cell_type": "code",
   "execution_count": null,
   "id": "5d79b618",
   "metadata": {
    "editable": false
   },
   "outputs": [],
   "source": [
    "# Saving the data\n",
    "adata_output = \"anndata_1.h5ad\"\n",
    "utils.save_h5ad(adata, adata_output)"
   ]
  },
  {
   "cell_type": "code",
   "execution_count": null,
   "id": "ea4e485e",
   "metadata": {
    "editable": false
   },
   "outputs": [],
   "source": [
    "sctoolbox.settings.close_logfile()"
   ]
  }
 ],
 "metadata": {
  "kernelspec": {
   "display_name": "sctoolbox",
   "language": "python",
   "name": "sctoolbox"
  },
  "language_info": {
   "codemirror_mode": {
    "name": "ipython",
    "version": 3
   },
   "file_extension": ".py",
   "mimetype": "text/x-python",
   "name": "python",
   "nbconvert_exporter": "python",
   "pygments_lexer": "ipython3",
   "version": "3.10.12"
  }
 },
 "nbformat": 4,
 "nbformat_minor": 5
}
