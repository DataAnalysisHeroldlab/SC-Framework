{
 "cells": [
  {
   "cell_type": "code",
   "execution_count": null,
   "id": "e81ec1f2",
   "metadata": {
    "ExecuteTime": {
     "end_time": "2024-03-26T07:22:26.366080Z",
     "start_time": "2024-03-26T07:22:20.280261Z"
    },
    "hide_input": true,
    "init_cell": true,
    "run_control": {
     "marked": false
    }
   },
   "outputs": [],
   "source": [
    "from sctoolbox.utilities import bgcolor"
   ]
  },
  {
   "cell_type": "markdown",
   "id": "02e0b422",
   "metadata": {},
   "source": [
    "# Marker genes and differentially expressed genes between groups\n",
    "<hr style=\"border:2px solid black\"> </hr>"
   ]
  },
  {
   "cell_type": "markdown",
   "id": "e6d7d285",
   "metadata": {},
   "source": [
    "## Get marker genes per cluster"
   ]
  },
  {
   "cell_type": "markdown",
   "id": "32dc117a",
   "metadata": {},
   "source": [
    "The marker genes of a cluster are defined as differentially expressed genes of that cluster compared to all other cells/clusters. These genes are typically used to annotate the cluster to a specific cell type.\n",
    "\n",
    "The gene ranking uses the rank_genes_groups() method from scanpy. See detailed documentation [here](https://scanpy.readthedocs.io/en/stable/generated/scanpy.tl.rank_genes_groups.html)."
   ]
  },
  {
   "cell_type": "markdown",
   "id": "cfa7b885",
   "metadata": {},
   "source": [
    "---------"
   ]
  },
  {
   "cell_type": "markdown",
   "id": "f5fe7842",
   "metadata": {},
   "source": [
    "## Loading packages"
   ]
  },
  {
   "cell_type": "code",
   "execution_count": null,
   "id": "98c38347",
   "metadata": {
    "ExecuteTime": {
     "end_time": "2024-03-26T07:22:26.538284Z",
     "start_time": "2024-03-26T07:22:26.369731Z"
    },
    "run_control": {
     "marked": false
    }
   },
   "outputs": [],
   "source": [
    "import scanpy as sc\n",
    "import pandas as pd\n",
    "import sctoolbox.utilities as utils\n",
    "import sctoolbox.tools as tools\n",
    "import sctoolbox.plotting as pl\n",
    "import matplotlib.backends.backend_pdf\n",
    "utils.settings_from_config(\"config.yaml\", key=\"05\")"
   ]
  },
  {
   "cell_type": "markdown",
   "id": "7a9534c2",
   "metadata": {},
   "source": [
    "## Loading adata"
   ]
  },
  {
   "cell_type": "code",
   "execution_count": null,
   "id": "358b2039",
   "metadata": {
    "ExecuteTime": {
     "end_time": "2024-03-26T07:22:27.521830Z",
     "start_time": "2024-03-26T07:22:26.540905Z"
    },
    "run_control": {
     "marked": false
    },
    "scrolled": false
   },
   "outputs": [],
   "source": [
    "adata = utils.load_h5ad(\"anndata_4.h5ad\")\n",
    "\n",
    "with pd.option_context(\"display.max.rows\", 5, \"display.max.columns\", None):\n",
    "    display(adata)\n",
    "    display(adata.obs)\n",
    "    display(adata.var)"
   ]
  },
  {
   "cell_type": "markdown",
   "id": "2afeefb5",
   "metadata": {},
   "source": [
    "<hr style=\"border:2px solid black\"> </hr>"
   ]
  },
  {
   "cell_type": "markdown",
   "id": "cbb28ac5",
   "metadata": {},
   "source": [
    "<h1><center>⬐ Fill in input data here ⬎</center></h1>"
   ]
  },
  {
   "cell_type": "code",
   "execution_count": null,
   "id": "f5606282",
   "metadata": {
    "ExecuteTime": {
     "end_time": "2024-03-26T07:22:27.530385Z",
     "start_time": "2024-03-26T07:22:27.524898Z"
    },
    "init_cell": true,
    "run_control": {
     "marked": false
    }
   },
   "outputs": [],
   "source": [
    "%bgcolor PowderBlue\n",
    "\n",
    "# Column names of clustering columns\n",
    "clustering_cols = [\"leiden_0.1\", \"leiden_0.2\", \"leiden_0.3\", \"leiden_0.4\", \"leiden_0.5\",\n",
    "                   \"leiden_0.6\", \"leiden_0.7\", \"leiden_0.8\", \"leiden_0.9\"]\n",
    "\n",
    "# Marker genes\n",
    "\n",
    "# Method for gene ranking\n",
    "ranking_method = \"t-test\"\n",
    "# Top X genes to be reported, None for all genes\n",
    "n_genes = None\n",
    "\n",
    "# Marker gene filter\n",
    "\n",
    "# Minimum fraction of cells in a group that must express a gene to be considered as a marker gene\n",
    "min_in_group_fraction = 0.25\n",
    "# Minimum foldchange (+/-) to be considered as a marker gene\n",
    "min_fold_change = 0.5\n",
    "# Maximum fraction of cells in other groups that must express a gene to be considered as a marker gene\n",
    "max_out_group_fraction = 0.8\n",
    "\n",
    "# Plotting\n",
    "n_genes_markerplot = 15\n",
    "marker_style = \"dots\"  # Either `dots` or `heatmap`."
   ]
  },
  {
   "cell_type": "markdown",
   "id": "efd67d29",
   "metadata": {},
   "source": [
    "<hr style=\"border:2px solid black\"> </hr>"
   ]
  },
  {
   "cell_type": "markdown",
   "id": "f5f1f953",
   "metadata": {},
   "source": [
    "## Automatic markers per cluster using rank_genes_groups"
   ]
  },
  {
   "cell_type": "code",
   "execution_count": null,
   "id": "cb399949",
   "metadata": {
    "ExecuteTime": {
     "end_time": "2024-03-26T07:24:57.982311Z",
     "start_time": "2024-03-26T07:22:27.532234Z"
    },
    "run_control": {
     "marked": false
    }
   },
   "outputs": [],
   "source": [
    "marker_tables = dict()\n",
    "for clustering in clustering_cols:\n",
    "    \n",
    "    # Identify markers per cluster (adjust group fraction and fold change to filter genes)\n",
    "    tools.run_rank_genes(adata, clustering,\n",
    "                         min_in_group_fraction=min_in_group_fraction,\n",
    "                         min_fold_change=min_fold_change,\n",
    "                         max_out_group_fraction=max_out_group_fraction,\n",
    "                         n_genes=n_genes,\n",
    "                         ranking_method=ranking_method)\n",
    "    \n",
    "    # Plot dotplot of markers\n",
    "    _ = pl.rank_genes_plot(adata, key=f\"rank_genes_{clustering}_filtered\",\n",
    "                           n_genes=n_genes_markerplot, style=marker_style,\n",
    "                           save=f\"marker_genes_{marker_style}_{clustering}.pdf\")\n",
    "\n",
    "    # Write marker genes to table\n",
    "    marker_table = tools.get_rank_genes_tables(adata, out_group_fractions=True,\n",
    "                                               key=f\"rank_genes_{clustering}_filtered\",\n",
    "                                               save_excel=f\"cluster_marker_genes_{clustering}.xlsx\")\n",
    "    marker_tables[clustering] = marker_table"
   ]
  },
  {
   "cell_type": "markdown",
   "id": "edf56fd4",
   "metadata": {},
   "source": [
    "---------"
   ]
  },
  {
   "cell_type": "markdown",
   "id": "9a008f34",
   "metadata": {},
   "source": [
    "# Plot expression"
   ]
  },
  {
   "cell_type": "markdown",
   "id": "e3076167",
   "metadata": {},
   "source": [
    "This section of the notebook plots the marker gene expression for each selected clustering in the selected embedding scatterplot. There is also an option to specify a custom list of genes to be plotted."
   ]
  },
  {
   "cell_type": "markdown",
   "id": "36f605bb",
   "metadata": {},
   "source": [
    "<hr style=\"border:2px solid black\"> </hr>"
   ]
  },
  {
   "cell_type": "markdown",
   "id": "700bf580",
   "metadata": {},
   "source": [
    "<h1><center>⬐ Fill in input data here ⬎</center></h1>"
   ]
  },
  {
   "cell_type": "code",
   "execution_count": null,
   "id": "001b376d",
   "metadata": {
    "ExecuteTime": {
     "end_time": "2024-03-26T07:24:57.991233Z",
     "start_time": "2024-03-26T07:24:57.984995Z"
    },
    "init_cell": true,
    "run_control": {
     "marked": false
    }
   },
   "outputs": [],
   "source": [
    "%bgcolor PowderBlue\n",
    "\n",
    "# Column names of clustering columns\n",
    "marker_table_cols = [\"leiden_0.1\", \"leiden_0.2\", \"leiden_0.3\", \"leiden_0.4\", \"leiden_0.5\",\n",
    "                     \"leiden_0.6\", \"leiden_0.7\", \"leiden_0.8\", \"leiden_0.9\"]\n",
    "# Top X marker to be plotted\n",
    "n_marker = 5\n",
    "# Number of columns in plot\n",
    "n_cols = 5\n",
    "\n",
    "# List of genes which should be plotted instead\n",
    "custom_gene_list = []\n",
    "\n",
    "embedding = \"umap\"  # Either umap or tsne"
   ]
  },
  {
   "cell_type": "markdown",
   "id": "43243146",
   "metadata": {},
   "source": [
    "<hr style=\"border:2px solid black\"> </hr>"
   ]
  },
  {
   "cell_type": "code",
   "execution_count": null,
   "id": "c157b020",
   "metadata": {
    "ExecuteTime": {
     "end_time": "2024-03-26T07:24:57.996983Z",
     "start_time": "2024-03-26T07:24:57.993457Z"
    },
    "run_control": {
     "marked": false
    }
   },
   "outputs": [],
   "source": [
    "if embedding == \"umap\":\n",
    "    pl_method = sc.pl.umap\n",
    "elif embedding == \"tsne\":\n",
    "    pl_method = sc.pl.tsne\n",
    "else:\n",
    "    raise ValueError(\"Invalid embedding set.\")"
   ]
  },
  {
   "cell_type": "markdown",
   "id": "330de9f7",
   "metadata": {},
   "source": [
    "## Plot custom gene list"
   ]
  },
  {
   "cell_type": "code",
   "execution_count": null,
   "id": "6f4d9eec",
   "metadata": {
    "ExecuteTime": {
     "end_time": "2024-03-26T07:24:58.002126Z",
     "start_time": "2024-03-26T07:24:57.998949Z"
    },
    "run_control": {
     "marked": false
    }
   },
   "outputs": [],
   "source": [
    "if custom_gene_list:\n",
    "    pl_method(adata, color=custom_gene_list, cmap=pl.sc_colormap(), ncols=n_cols)\n",
    "    pl._save_figure(f\"{embedding}_custom_gene_list_expression.pdf\")"
   ]
  },
  {
   "cell_type": "markdown",
   "id": "fd630827",
   "metadata": {},
   "source": [
    "### Plot cluster marker"
   ]
  },
  {
   "cell_type": "code",
   "execution_count": null,
   "id": "96471005",
   "metadata": {
    "ExecuteTime": {
     "end_time": "2024-03-26T07:27:22.379212Z",
     "start_time": "2024-03-26T07:24:58.004112Z"
    },
    "run_control": {
     "marked": false
    },
    "scrolled": true
   },
   "outputs": [],
   "source": [
    "for cluster_col in marker_table_cols:\n",
    "    pdf = matplotlib.backends.backend_pdf.PdfPages(f\"{utils.settings.figure_dir}/{embedding}_clustering_{cluster_col}_expression.pdf\")\n",
    "    for cluster, table in marker_tables[cluster_col].items():\n",
    "        marker = list(table[\"names\"][:n_marker])\n",
    "        title = [f\"Cluster_{cluster} - {gene}\" for gene in marker]\n",
    "        fig = sc.pl.embedding(adata, basis=\"X_\" + embedding, color=marker, show=False,\n",
    "                              ncols=n_cols, title=title, return_fig=True)\n",
    "        pdf.savefig(fig)\n",
    "    pdf.close()"
   ]
  },
  {
   "cell_type": "markdown",
   "id": "40f33740",
   "metadata": {},
   "source": [
    "-------------"
   ]
  },
  {
   "cell_type": "markdown",
   "id": "aec6d94c",
   "metadata": {},
   "source": [
    "# DEG between conditions"
   ]
  },
  {
   "cell_type": "markdown",
   "id": "06fd0df4",
   "metadata": {},
   "source": [
    "## Using scanpy rank gene groups\n",
    "Calcualte DEGs per cluster between conditions"
   ]
  },
  {
   "cell_type": "markdown",
   "id": "52ecb470",
   "metadata": {},
   "source": [
    "<hr style=\"border:2px solid black\"> </hr>"
   ]
  },
  {
   "cell_type": "markdown",
   "id": "d9380a78",
   "metadata": {},
   "source": [
    "<h1><center>⬐ Fill in input data here ⬎</center></h1>"
   ]
  },
  {
   "cell_type": "code",
   "execution_count": null,
   "id": "0e1ade35",
   "metadata": {
    "ExecuteTime": {
     "end_time": "2024-03-26T07:27:22.388235Z",
     "start_time": "2024-03-26T07:27:22.383187Z"
    },
    "init_cell": true
   },
   "outputs": [],
   "source": [
    "%bgcolor PowderBlue\n",
    "\n",
    "clustering_col = \"leiden_0.5\" \n",
    "condition_col = \"chamber\"\n",
    "\n",
    "# Method for gene ranking\n",
    "deg_ranking_method = \"t-test\"\n",
    "# Top X genes to be reported, None for all genes\n",
    "deg_n_genes = None\n",
    "\n",
    "# Minimum fraction of cells in a group that must express a gene to be considered as a marker gene\n",
    "deg_min_in_group_fraction = 0.25\n",
    "# Minimum foldchange (+/-) to be considered as a marker gene\n",
    "deg_min_fold_change = 0.5\n",
    "# Maximum fraction of cells in other groups that must express a gene to be considered as a marker gene\n",
    "deg_max_out_group_fraction = 0.8\n",
    "\n",
    "# Plotting\n",
    "n_genes_deg_plot = 15\n",
    "deg_style = \"dots\"  # Either 'dots' or 'heatmap'"
   ]
  },
  {
   "cell_type": "markdown",
   "id": "57b06f06",
   "metadata": {},
   "source": [
    "<hr style=\"border:2px solid black\"> </hr>"
   ]
  },
  {
   "cell_type": "code",
   "execution_count": null,
   "id": "82fc5aab",
   "metadata": {
    "ExecuteTime": {
     "end_time": "2024-03-26T07:28:18.474561Z",
     "start_time": "2024-03-26T07:27:22.389903Z"
    },
    "scrolled": true
   },
   "outputs": [],
   "source": [
    "for cluster in set(adata.obs[clustering_col]):\n",
    "    print(f\"Cluster {cluster}\")\n",
    "    adata_sub = adata[adata.obs[clustering_col] == cluster]\n",
    "    \n",
    "    # Check if sample count is sufficent\n",
    "    value_counts = adata_sub.obs[condition_col].value_counts()\n",
    "    insufficient_size = [i for i in value_counts.index if value_counts[i] == 1]\n",
    "    if insufficient_size: print(f\"Removed conditions due to insufficent size {insufficient_size}\") \n",
    "    adata_sub = adata_sub[~adata_sub.obs[condition_col].isin(insufficient_size)]\n",
    "    if len(set(adata_sub.obs[condition_col])) < 2:\n",
    "        print(f\"Skipped Cluster {cluster}\")\n",
    "        continue\n",
    "\n",
    "    tools.run_rank_genes(adata_sub, condition_col,\n",
    "                         min_in_group_fraction=deg_min_in_group_fraction,\n",
    "                         min_fold_change=deg_min_fold_change,\n",
    "                         max_out_group_fraction=deg_max_out_group_fraction,\n",
    "                         n_genes=deg_n_genes,\n",
    "                         ranking_method=deg_ranking_method)\n",
    "    \n",
    "    # Plot dotplot of markers\n",
    "    _ = pl.rank_genes_plot(adata_sub, key=f\"rank_genes_{condition_col}_filtered\",\n",
    "                           n_genes=n_genes_deg_plot, style=deg_style,\n",
    "                           save=f\"DEG_{deg_style}_{condition_col}_cluster_{cluster}.pdf\")\n",
    "\n",
    "    # Write marker genes to table\n",
    "    deg_table = tools.get_rank_genes_tables(adata_sub, out_group_fractions=True,\n",
    "                                               key=f\"rank_genes_{condition_col}_filtered\",\n",
    "                                               save_excel=f\"DEG_{condition_col}_cluster_{cluster}.xlsx\")"
   ]
  },
  {
   "cell_type": "markdown",
   "id": "2981b3c0",
   "metadata": {},
   "source": [
    " ## Run DEseq2 between conditions/samples"
   ]
  },
  {
   "cell_type": "markdown",
   "id": "1d787d37",
   "metadata": {},
   "source": [
    "<hr style=\"border:2px solid black\"> </hr>"
   ]
  },
  {
   "cell_type": "markdown",
   "id": "b0d964e0",
   "metadata": {},
   "source": [
    "<h1><center>⬐ Fill in input data here ⬎</center></h1>"
   ]
  },
  {
   "cell_type": "code",
   "execution_count": null,
   "id": "356d4d24",
   "metadata": {
    "ExecuteTime": {
     "end_time": "2024-03-26T07:28:18.525116Z",
     "start_time": "2024-03-26T07:28:18.520143Z"
    },
    "init_cell": true,
    "run_control": {
     "marked": false
    }
   },
   "outputs": [],
   "source": [
    "%bgcolor PowderBlue\n",
    "\n",
    "# Adjust which columns to use for DEseq2\n",
    "sample_col = \"sample\"\n",
    "condition_col = \"chamber\""
   ]
  },
  {
   "cell_type": "markdown",
   "id": "e103b4a1",
   "metadata": {},
   "source": [
    "<hr style=\"border:2px solid black\"> </hr>"
   ]
  },
  {
   "cell_type": "code",
   "execution_count": null,
   "id": "07812f3e",
   "metadata": {
    "ExecuteTime": {
     "end_time": "2024-03-26T07:28:18.517581Z",
     "start_time": "2024-03-26T07:28:18.477768Z"
    },
    "run_control": {
     "marked": false
    }
   },
   "outputs": [],
   "source": [
    "# Normalize raw counts across cells\n",
    "d = sc.pp.normalize_total(adata, layer=\"raw\", inplace=False) # returns a dict\n",
    "adata.layers[\"raw_norm\"] = d[\"X\"]\n",
    "adata.layers[\"raw_norm\"] = adata.layers[\"raw_norm\"].ceil().astype(int)"
   ]
  },
  {
   "cell_type": "code",
   "execution_count": null,
   "id": "973c1d71",
   "metadata": {
    "ExecuteTime": {
     "end_time": "2024-03-26T07:28:42.738859Z",
     "start_time": "2024-03-26T07:28:18.527205Z"
    },
    "run_control": {
     "marked": false
    }
   },
   "outputs": [],
   "source": [
    "# Run DEseq2\n",
    "deseq_table = tools.run_deseq2(adata, sample_col, condition_col, layer=\"raw_norm\")"
   ]
  },
  {
   "cell_type": "code",
   "execution_count": null,
   "id": "af8a1f93",
   "metadata": {
    "ExecuteTime": {
     "end_time": "2024-03-26T07:28:42.769054Z",
     "start_time": "2024-03-26T07:28:42.742594Z"
    },
    "run_control": {
     "marked": false
    }
   },
   "outputs": [],
   "source": [
    "deseq_table.head(10)"
   ]
  },
  {
   "cell_type": "code",
   "execution_count": null,
   "id": "0112a5e1",
   "metadata": {
    "ExecuteTime": {
     "end_time": "2024-03-26T08:33:22.277034Z",
     "start_time": "2024-03-26T08:32:56.647723Z"
    }
   },
   "outputs": [],
   "source": [
    "deseq_table.to_excel(f\"{utils.settings.table_dir}/DEseq_{sample_col}_vs_{condition_col}.xlsx\")"
   ]
  },
  {
   "cell_type": "markdown",
   "id": "6f1a0f1e",
   "metadata": {},
   "source": [
    "--------------"
   ]
  },
  {
   "cell_type": "markdown",
   "id": "3c0070f9",
   "metadata": {},
   "source": [
    "## Save adata"
   ]
  },
  {
   "cell_type": "markdown",
   "id": "aadbc5a4",
   "metadata": {},
   "source": [
    "Fix error when saving filtered rank gene names by removing nan in adata.uns[RANK_GENES_KEY]['names']"
   ]
  },
  {
   "cell_type": "code",
   "execution_count": null,
   "id": "9d195ab0",
   "metadata": {
    "ExecuteTime": {
     "end_time": "2024-03-26T08:24:12.375760Z",
     "start_time": "2024-03-26T08:24:07.302738Z"
    }
   },
   "outputs": [],
   "source": [
    "for key in adata.uns.keys():\n",
    "    if key.startswith(\"rank_genes\"):\n",
    "        names = list()\n",
    "        for i in adata.uns[key][\"names\"]:\n",
    "            names.append([j if j == j else \"\" for j in i])\n",
    "        adata.uns[key][\"names\"] = pd.DataFrame(data=names).to_records(index=False)"
   ]
  },
  {
   "cell_type": "code",
   "execution_count": null,
   "id": "8abc5688",
   "metadata": {
    "ExecuteTime": {
     "end_time": "2024-03-26T08:24:22.095246Z",
     "start_time": "2024-03-26T08:24:16.810104Z"
    },
    "run_control": {
     "marked": false
    }
   },
   "outputs": [],
   "source": [
    "utils.save_h5ad(adata, \"anndata_5.h5ad\")"
   ]
  }
 ],
 "metadata": {
  "celltoolbar": "Initialization Cell",
  "kernelspec": {
   "display_name": "sctoolbox",
   "language": "python",
   "name": "sctoolbox"
  },
  "language_info": {
   "codemirror_mode": {
    "name": "ipython",
    "version": 3
   },
   "file_extension": ".py",
   "mimetype": "text/x-python",
   "name": "python",
   "nbconvert_exporter": "python",
   "pygments_lexer": "ipython3",
   "version": "3.10.13"
  }
 },
 "nbformat": 4,
 "nbformat_minor": 5
}
