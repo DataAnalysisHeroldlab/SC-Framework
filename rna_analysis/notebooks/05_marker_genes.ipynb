{
 "cells": [
  {
   "cell_type": "code",
   "execution_count": null,
   "id": "e81ec1f2",
   "metadata": {
    "hide_input": true,
    "init_cell": true,
    "run_control": {
     "marked": false
    }
   },
   "outputs": [],
   "source": [
    "from sctoolbox.utilities import bgcolor"
   ]
  },
  {
   "cell_type": "markdown",
   "id": "02e0b422",
   "metadata": {},
   "source": [
    "# Marker genes and differentially expressed genes between groups\n",
    "<hr style=\"border:2px solid black\"> </hr>"
   ]
  },
  {
   "cell_type": "markdown",
   "id": "e6d7d285",
   "metadata": {},
   "source": [
    "## Get marker genes per cluster"
   ]
  },
  {
   "cell_type": "markdown",
   "id": "32dc117a",
   "metadata": {},
   "source": [
    "The marker genes of a cluster are defined as differentially expressed genes of that cluster compared to all other cells/clusters. These genes are typically used to annotate the cluster to a specific cell type.\n",
    "\n",
    "The gene ranking uses the rank_genes_groups() method from scanpy. See detailed documentation [here](https://scanpy.readthedocs.io/en/stable/generated/scanpy.tl.rank_genes_groups.html)."
   ]
  },
  {
   "cell_type": "markdown",
   "id": "cfa7b885",
   "metadata": {},
   "source": [
    "---------"
   ]
  },
  {
   "cell_type": "markdown",
   "id": "f5fe7842",
   "metadata": {},
   "source": [
    "## Loading packages"
   ]
  },
  {
   "cell_type": "code",
   "execution_count": null,
   "id": "98c38347",
   "metadata": {
    "ExecuteTime": {
     "end_time": "2024-03-08T10:32:37.868122Z",
     "start_time": "2024-03-08T10:32:28.697366Z"
    },
    "run_control": {
     "marked": false
    }
   },
   "outputs": [],
   "source": [
    "import scanpy as sc\n",
    "import pandas as pd\n",
    "pd.set_option('display.max_columns', None)  #no limit to the number of columns shown\n",
    "import sctoolbox.utilities as utils\n",
    "import sctoolbox.tools as tools\n",
    "import sctoolbox.plotting as pl\n",
    "utils.settings_from_config(\"config.yaml\", key=\"05\")"
   ]
  },
  {
   "cell_type": "markdown",
   "id": "7a9534c2",
   "metadata": {},
   "source": [
    "## Loading adata"
   ]
  },
  {
   "cell_type": "code",
   "execution_count": null,
   "id": "358b2039",
   "metadata": {
    "ExecuteTime": {
     "end_time": "2024-03-08T10:12:00.815984Z",
     "start_time": "2024-03-08T10:12:00.151472Z"
    },
    "run_control": {
     "marked": false
    }
   },
   "outputs": [],
   "source": [
    "adata = utils.load_h5ad(\"anndata_4.h5ad\")\n",
    "display(adata)"
   ]
  },
  {
   "cell_type": "markdown",
   "id": "2afeefb5",
   "metadata": {},
   "source": [
    "<hr style=\"border:2px solid black\"> </hr>"
   ]
  },
  {
   "cell_type": "markdown",
   "id": "cbb28ac5",
   "metadata": {},
   "source": [
    "<h1><center>⬐ Fill in input data here ⬎</center></h1>"
   ]
  },
  {
   "cell_type": "code",
   "execution_count": null,
   "id": "f5606282",
   "metadata": {
    "ExecuteTime": {
     "end_time": "2024-03-08T10:12:00.828276Z",
     "start_time": "2024-03-08T10:12:00.819973Z"
    },
    "init_cell": true,
    "run_control": {
     "marked": false
    }
   },
   "outputs": [],
   "source": [
    "%bgcolor PowderBlue\n",
    "\n",
    "# Column names of clustering columns\n",
    "clustering_cols = [\"leiden_0.1\", \"leiden_0.2\", \"leiden_0.3\", \"leiden_0.4\", \"leiden_0.5\",\n",
    "                   \"leiden_0.6\", \"leiden_0.7\", \"leiden_0.8\", \"leiden_0.9\" ]\n",
    "\n",
    "# Marker genes\n",
    "\n",
    "# Method for gene ranking\n",
    "ranking_method = \"t-test\"\n",
    "# Top X genes to be reported, None for all genes\n",
    "n_genes = None\n",
    "\n",
    "# Marker gene filter\n",
    "\n",
    "# Minimum fraction of cells in a group that must express a gene to be considered as a marker gene\n",
    "min_in_group_fraction = 0.25\n",
    "# Minimum foldchange (+/-) to be considered as a marker gene\n",
    "min_fold_change = 0.5\n",
    "# Maximum fraction of cells in other groups that must express a gene to be considered as a marker gene\n",
    "max_out_group_fraction = 0.8\n",
    "\n",
    "# Plotting\n",
    "n_genes_dotplot = 15"
   ]
  },
  {
   "cell_type": "markdown",
   "id": "efd67d29",
   "metadata": {},
   "source": [
    "<hr style=\"border:2px solid black\"> </hr>"
   ]
  },
  {
   "cell_type": "markdown",
   "id": "f5f1f953",
   "metadata": {},
   "source": [
    "## Automatic markers per cluster using rank_genes_groups"
   ]
  },
  {
   "cell_type": "code",
   "execution_count": null,
   "id": "6a99522e",
   "metadata": {
    "ExecuteTime": {
     "end_time": "2024-03-08T10:12:01.306424Z",
     "start_time": "2024-03-08T10:12:01.303149Z"
    }
   },
   "outputs": [],
   "source": [
    "marker_tables = dict()"
   ]
  },
  {
   "cell_type": "code",
   "execution_count": null,
   "id": "cb399949",
   "metadata": {
    "ExecuteTime": {
     "end_time": "2024-03-08T10:21:39.987937Z",
     "start_time": "2024-03-08T10:19:17.675599Z"
    }
   },
   "outputs": [],
   "source": [
    "for clustering in clustering_cols:\n",
    "    \n",
    "    # Identify markers per cluster (adjust group fraction and fold change to filter genes)\n",
    "    tools.run_rank_genes(adata, clustering,\n",
    "                         min_in_group_fraction=min_in_group_fraction,\n",
    "                         min_fold_change=min_fold_change,\n",
    "                         max_out_group_fraction=max_out_group_fraction,\n",
    "                         n_genes=n_genes,\n",
    "                         ranking_method=ranking_method)\n",
    "    \n",
    "    # Plot dotplot of markers\n",
    "    _ = pl.rank_genes_plot(adata, key=f\"rank_genes_{clustering}_filtered\",\n",
    "                           n_genes=n_genes_dotplot, \n",
    "                           save=f\"marker_genes_dotplot_{clustering}.pdf\")\n",
    "\n",
    "    # Write marker genes to table\n",
    "    marker_table = tools.get_rank_genes_tables(adata, out_group_fractions=True,\n",
    "                                               key=f\"rank_genes_{clustering}_filtered\",\n",
    "                                               save_excel=f\"cluster_marker_genes_{clustering}.xlsx\")\n",
    "    marker_tables[clustering] = marker_table"
   ]
  },
  {
   "cell_type": "markdown",
   "id": "edf56fd4",
   "metadata": {},
   "source": [
    "---------"
   ]
  },
  {
   "cell_type": "markdown",
   "id": "9a008f34",
   "metadata": {},
   "source": [
    "# Plot expression"
   ]
  },
  {
   "cell_type": "markdown",
   "id": "36f605bb",
   "metadata": {},
   "source": [
    "<hr style=\"border:2px solid black\"> </hr>"
   ]
  },
  {
   "cell_type": "markdown",
   "id": "700bf580",
   "metadata": {},
   "source": [
    "<h1><center>⬐ Fill in input data here ⬎</center></h1>"
   ]
  },
  {
   "cell_type": "code",
   "execution_count": null,
   "id": "001b376d",
   "metadata": {
    "ExecuteTime": {
     "end_time": "2024-03-08T09:36:13.424308Z",
     "start_time": "2024-03-08T09:36:13.418333Z"
    },
    "init_cell": true,
    "run_control": {
     "marked": false
    }
   },
   "outputs": [],
   "source": [
    "%bgcolor PowderBlue\n",
    "\n",
    "# Column names of clustering columns\n",
    "marker_table_cols = [\"leiden_0.1\", \"leiden_0.2\", \"leiden_0.3\", \"leiden_0.4\", \"leiden_0.5\",\n",
    "                     \"leiden_0.6\", \"leiden_0.7\", \"leiden_0.8\", \"leiden_0.9\" ]\n",
    "n_marker = 5\n",
    "n_cols = 5\n",
    "\n",
    "# List of genes which should be plotted instead\n",
    "custom_gene_list = []\n",
    "\n",
    "embedding = \"umap\""
   ]
  },
  {
   "cell_type": "markdown",
   "id": "43243146",
   "metadata": {},
   "source": [
    "<hr style=\"border:2px solid black\"> </hr>"
   ]
  },
  {
   "cell_type": "code",
   "execution_count": null,
   "id": "c157b020",
   "metadata": {
    "ExecuteTime": {
     "end_time": "2024-03-08T09:36:13.649944Z",
     "start_time": "2024-03-08T09:36:13.647143Z"
    }
   },
   "outputs": [],
   "source": [
    "if embedding == \"umap\":\n",
    "    pl_method = sc.pl.umap\n",
    "elif embedding == \"tsne\":\n",
    "    pl_method = sc.pl.tsne\n",
    "else:\n",
    "    raise ValueError(\"Invalid embedding set.\")"
   ]
  },
  {
   "cell_type": "markdown",
   "id": "330de9f7",
   "metadata": {},
   "source": [
    "## Plot custom gene list"
   ]
  },
  {
   "cell_type": "code",
   "execution_count": null,
   "id": "6f4d9eec",
   "metadata": {
    "ExecuteTime": {
     "end_time": "2024-03-08T09:36:14.075044Z",
     "start_time": "2024-03-08T09:36:14.072309Z"
    },
    "run_control": {
     "marked": false
    }
   },
   "outputs": [],
   "source": [
    "if custom_gene_list:\n",
    "    pl_method(adata, color=custom_gene_list, cmap=pl.sc_colormap(), ncols=n_cols)"
   ]
  },
  {
   "cell_type": "markdown",
   "id": "fd630827",
   "metadata": {},
   "source": [
    "### Plot cluster marker"
   ]
  },
  {
   "cell_type": "code",
   "execution_count": null,
   "id": "96471005",
   "metadata": {
    "ExecuteTime": {
     "end_time": "2024-03-08T09:37:18.501917Z",
     "start_time": "2024-03-08T09:36:14.778302Z"
    },
    "run_control": {
     "marked": false
    }
   },
   "outputs": [],
   "source": [
    "for cluster_col in marker_table_cols:\n",
    "    for cluster, table in marker_tables[cluster_col].items():\n",
    "        marker = list(table[\"names\"][:n_marker])\n",
    "        title = [f\"Cluster_{cluster} - {gene}\" for gene in marker]\n",
    "        pl_method(adata, color=marker, title=title, cmap=pl.sc_colormap(), ncols=n_cols)"
   ]
  },
  {
   "cell_type": "markdown",
   "id": "40f33740",
   "metadata": {},
   "source": [
    "-------------"
   ]
  },
  {
   "cell_type": "markdown",
   "id": "aec6d94c",
   "metadata": {},
   "source": [
    "# DEG between conditions"
   ]
  },
  {
   "cell_type": "markdown",
   "id": "2981b3c0",
   "metadata": {},
   "source": [
    " ## Run DEseq2 between conditions/clusters"
   ]
  },
  {
   "cell_type": "code",
   "execution_count": null,
   "id": "07812f3e",
   "metadata": {
    "ExecuteTime": {
     "end_time": "2024-03-08T10:21:40.062150Z",
     "start_time": "2024-03-08T10:21:40.016826Z"
    },
    "run_control": {
     "marked": false
    }
   },
   "outputs": [],
   "source": [
    "# Normalize raw counts across cells\n",
    "d = sc.pp.normalize_total(adata, layer=\"raw\", inplace=False) # returns a dict\n",
    "adata.layers[\"raw_norm\"] = d[\"X\"]\n",
    "adata.layers[\"raw_norm\"] = adata.layers[\"raw_norm\"].ceil().astype(int)"
   ]
  },
  {
   "cell_type": "code",
   "execution_count": null,
   "id": "356d4d24",
   "metadata": {
    "ExecuteTime": {
     "end_time": "2024-03-08T10:21:40.069928Z",
     "start_time": "2024-03-08T10:21:40.064925Z"
    },
    "init_cell": true,
    "run_control": {
     "marked": false
    }
   },
   "outputs": [],
   "source": [
    "%bgcolor PowderBlue\n",
    "\n",
    "# Adjust which columns to use for DEseq2\n",
    "sample_col = \"sample\"\n",
    "condition_col = \"chamber\""
   ]
  },
  {
   "cell_type": "code",
   "execution_count": null,
   "id": "973c1d71",
   "metadata": {
    "ExecuteTime": {
     "end_time": "2024-03-08T10:22:17.486951Z",
     "start_time": "2024-03-08T10:21:40.071921Z"
    },
    "run_control": {
     "marked": false
    }
   },
   "outputs": [],
   "source": [
    "# Run DEseq2\n",
    "deseq_table = tools.run_deseq2(adata, sample_col, condition_col, layer=\"raw_norm\")"
   ]
  },
  {
   "cell_type": "code",
   "execution_count": null,
   "id": "af8a1f93",
   "metadata": {
    "ExecuteTime": {
     "end_time": "2024-03-08T10:22:23.024742Z",
     "start_time": "2024-03-08T10:22:22.980782Z"
    },
    "run_control": {
     "marked": false
    }
   },
   "outputs": [],
   "source": [
    "deseq_table.head(10)"
   ]
  },
  {
   "cell_type": "markdown",
   "id": "6f1a0f1e",
   "metadata": {},
   "source": [
    "--------------"
   ]
  },
  {
   "cell_type": "markdown",
   "id": "3c0070f9",
   "metadata": {},
   "source": [
    "## Save adata"
   ]
  },
  {
   "cell_type": "code",
   "execution_count": null,
   "id": "c4b3a320",
   "metadata": {
    "run_control": {
     "marked": false
    }
   },
   "outputs": [],
   "source": [
    "#fix error when saving filtered rank gene names\n",
    "import re\n",
    "for key in list(adata.uns.keys()):\n",
    "    if re.match(\"rank_genes_.*_filtered\", key):\n",
    "        del adata.uns[key]"
   ]
  },
  {
   "cell_type": "code",
   "execution_count": null,
   "id": "610bce07",
   "metadata": {
    "run_control": {
     "marked": false
    }
   },
   "outputs": [],
   "source": [
    "adata"
   ]
  },
  {
   "cell_type": "code",
   "execution_count": null,
   "id": "8abc5688",
   "metadata": {
    "run_control": {
     "marked": false
    }
   },
   "outputs": [],
   "source": [
    "utils.save_h5ad(adata, \"anndata_5.h5ad\")"
   ]
  },
  {
   "cell_type": "code",
   "execution_count": null,
   "id": "5cb32353",
   "metadata": {
    "run_control": {
     "marked": false
    }
   },
   "outputs": [],
   "source": []
  }
 ],
 "metadata": {
  "celltoolbar": "Initialization Cell",
  "kernelspec": {
   "display_name": "sctoolbox",
   "language": "python",
   "name": "sctoolbox"
  },
  "language_info": {
   "codemirror_mode": {
    "name": "ipython",
    "version": 3
   },
   "file_extension": ".py",
   "mimetype": "text/x-python",
   "name": "python",
   "nbconvert_exporter": "python",
   "pygments_lexer": "ipython3",
   "version": "3.10.13"
  }
 },
 "nbformat": 4,
 "nbformat_minor": 5
}
