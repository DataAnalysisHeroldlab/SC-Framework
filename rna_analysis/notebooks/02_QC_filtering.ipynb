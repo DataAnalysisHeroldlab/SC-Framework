{
 "cells": [
  {
   "cell_type": "code",
   "execution_count": 4,
   "metadata": {
    "ExecuteTime": {
     "end_time": "2024-03-28T14:27:15.503605Z",
     "start_time": "2024-03-28T14:27:15.494525Z"
    },
    "hide_input": true,
    "init_cell": true,
    "run_control": {
     "marked": false
    }
   },
   "outputs": [],
   "source": [
    "import sctoolbox\n",
    "from sctoolbox.utilities import bgcolor"
   ]
  },
  {
   "cell_type": "markdown",
   "metadata": {},
   "source": [
    "# QC and filtering\n",
    "<hr style=\"border:2px solid black\"> </hr>"
   ]
  },
  {
   "cell_type": "markdown",
   "metadata": {},
   "source": [
    "**Quality control**\n",
    "\n",
    "\"We must ensure that all cellular barcode data correspond to viable cells.\n",
    "\n",
    "Cell QC is commonly performed based on three QC covariates: the number of counts per barcode (count depth), the number of genes per barcode, and the fraction of counts from mitochondrial genes per barcode.\n",
    "\n",
    "The distributions of these QC covariates are examined for outlier peaks that are filtered out by thresholding.\n",
    "\n",
    "These outlier barcodes can correspond to dying cells, cells whose membranes are broken, or doublets\".\n",
    "\n",
    "Samples with a low count depth, few detected genes, and a high fraction of mitochondrial counts are indicative of cells whose cytoplasmic mRNA has leaked out through a broken membrane.\n",
    "\n",
    "In contrast, cells with unexpectedly high counts and a large number of detected genes may represent doublets.\n",
    "\n",
    "**DOI: 10.15252/msb.20188746**"
   ]
  },
  {
   "cell_type": "markdown",
   "metadata": {},
   "source": [
    "_______"
   ]
  },
  {
   "cell_type": "markdown",
   "metadata": {},
   "source": [
    "## Setup"
   ]
  },
  {
   "cell_type": "code",
   "execution_count": null,
   "metadata": {
    "editable": false,
    "hide_input": false,
    "run_control": {
     "marked": false
    }
   },
   "outputs": [],
   "source": [
    "import sctoolbox.utilities as utils\n",
    "import sctoolbox.tools.qc_filter as qc\n",
    "import sctoolbox.marker_genes as marker_genes\n",
    "import sctoolbox.plotting as pl\n",
    "import matplotlib.pyplot as plt\n",
    "import pandas as pd\n",
    "\n",
    "utils.settings_from_config(\"config.yaml\", key=\"02\")"
   ]
  },
  {
   "cell_type": "markdown",
   "metadata": {},
   "source": [
    "## Load anndata\n",
    "Uses anndata object written by the previous notebook."
   ]
  },
  {
   "cell_type": "code",
   "execution_count": null,
   "metadata": {
    "editable": false,
    "hide_input": false,
    "run_control": {
     "marked": false
    }
   },
   "outputs": [],
   "source": [
    "adata = utils.load_h5ad(\"anndata_1.h5ad\")\n",
    "\n",
    "with pd.option_context(\"display.max.rows\", 5, \"display.max.columns\", None):\n",
    "    display(adata)\n",
    "    display(adata.obs)\n",
    "    display(adata.var)"
   ]
  },
  {
   "cell_type": "markdown",
   "metadata": {},
   "source": [
    "## QC and filtering\n",
    "<hr style=\"border:2px solid black\"> </hr>"
   ]
  },
  {
   "cell_type": "markdown",
   "metadata": {},
   "source": [
    "<h1><center>⬐ Fill in input data here ⬎</center></h1>"
   ]
  },
  {
   "cell_type": "code",
   "execution_count": 5,
   "metadata": {
    "ExecuteTime": {
     "end_time": "2024-03-28T14:27:15.518731Z",
     "start_time": "2024-03-28T14:27:15.507423Z"
    },
    "hide_input": false,
    "init_cell": true,
    "run_control": {
     "marked": false
    }
   },
   "outputs": [
    {
     "data": {
      "text/html": [
       "<img src onerror=\"\n",
       "                var cell = this.closest('.code_cell');\n",
       "                var editor = cell.querySelector('.CodeMirror-sizer');\n",
       "                editor.style.background='PowderBlue';\n",
       "                this.parentNode.removeChild(this)\n",
       "                \">"
      ],
      "text/plain": [
       "<IPython.core.display.HTML object>"
      ]
     },
     "metadata": {},
     "output_type": "display_data"
    }
   ],
   "source": [
    "%bgcolor PowderBlue\n",
    "\n",
    "# Set the species of the data\n",
    "species = \"human\"\n",
    "\n",
    "# Set the column in adata.obs containing the biological condition to evaluate\n",
    "condition_column = \"sample\"\n",
    "\n",
    "# Set the column in adata.var containing gene names (or set to None to use adata.var index)\n",
    "gene_column = None\n",
    "\n",
    "# Absolute minimum number of genes for pre-selection of cells before QC plotting\n",
    "min_genes = 1\n",
    "\n",
    "# Decide whether to remove doublets using scrublet (True) or to skip doublet calculation (False)\n",
    "filter_doublets = True\n",
    "threads = 4\n",
    "doublet_threshold = 0.2\n",
    "\n",
    "# Whether to try to predict sex of samples using the expression of a female gene\n",
    "predict_sex = True\n",
    "female_gene = \"Xist\"  #name of gene to use for assignment\n",
    "\n",
    "# Decide whether to estimate thresholds individual per condition (False) or globally (True)\n",
    "global_threshold = False\n",
    "\n",
    "# Removal of gene subsets\n",
    "filter_mito = True\n",
    "filter_ribo = False\n",
    "filter_gender = False\n",
    "\n",
    "# Optional: Plot STARsolo quality if path given\n",
    "quant_folder = \"\""
   ]
  },
  {
   "cell_type": "markdown",
   "metadata": {},
   "source": [
    "________"
   ]
  },
  {
   "cell_type": "code",
   "execution_count": null,
   "metadata": {
    "editable": false,
    "hide_input": false,
    "run_control": {
     "marked": false
    }
   },
   "outputs": [],
   "source": [
    "#Ensure that condition column is a category\n",
    "adata.obs[condition_column] = adata.obs[condition_column].astype(\"category\")"
   ]
  },
  {
   "cell_type": "markdown",
   "metadata": {},
   "source": [
    "### Show STARsolo quality (optional)\n",
    "\n",
    "If the data was mapped using STARsolo, use the parameter to set the path to the STARsolo runs and plot quality measures across runs. The path must be a folder, e.g. \"path/to/starsolo_output\", which contains folders per condition e.g. \"cond1\", \"cond2\", etc."
   ]
  },
  {
   "cell_type": "code",
   "execution_count": null,
   "metadata": {
    "editable": false,
    "run_control": {
     "marked": false
    }
   },
   "outputs": [],
   "source": [
    "if quant_folder != \"\":\n",
    "    _ = pl.plot_starsolo_quality(quant_folder, save=\"starsolo_quality.pdf\")\n",
    "    _ = pl.plot_starsolo_UMI(quant_folder, ncol=3, save=\"starsolo_cell_selection.pdf\")"
   ]
  },
  {
   "cell_type": "markdown",
   "metadata": {},
   "source": [
    "_________"
   ]
  },
  {
   "cell_type": "markdown",
   "metadata": {},
   "source": [
    "### Label genes\n",
    "Mark genes on their general association. E.g. mitochondrial."
   ]
  },
  {
   "cell_type": "code",
   "execution_count": null,
   "metadata": {
    "editable": false,
    "hide_input": false,
    "run_control": {
     "marked": false
    }
   },
   "outputs": [],
   "source": [
    "qc_vars = marker_genes.label_genes(adata, gene_column=gene_column, species=species)\n",
    "qc_vars"
   ]
  },
  {
   "cell_type": "code",
   "execution_count": null,
   "metadata": {
    "editable": false,
    "run_control": {
     "marked": false
    }
   },
   "outputs": [],
   "source": [
    "adata.obs"
   ]
  },
  {
   "cell_type": "markdown",
   "metadata": {},
   "source": [
    "_________"
   ]
  },
  {
   "cell_type": "markdown",
   "metadata": {},
   "source": [
    "### Calculate QC metrics\n",
    "Create quality control metrics to filter the data on."
   ]
  },
  {
   "cell_type": "code",
   "execution_count": null,
   "metadata": {
    "editable": false,
    "hide_input": false,
    "run_control": {
     "marked": false
    }
   },
   "outputs": [],
   "source": [
    "adata = qc.calculate_qc_metrics(adata, qc_vars=qc_vars)"
   ]
  },
  {
   "cell_type": "markdown",
   "metadata": {},
   "source": [
    "_________"
   ]
  },
  {
   "cell_type": "markdown",
   "metadata": {},
   "source": [
    "### Calculate doublet scores"
   ]
  },
  {
   "cell_type": "code",
   "execution_count": null,
   "metadata": {
    "editable": false,
    "hide_input": false,
    "run_control": {
     "marked": false
    }
   },
   "outputs": [],
   "source": [
    "# Set filter for number of genes before calculating doublets\n",
    "n_cells_before = len(adata)\n",
    "adata = adata[adata.obs[\"n_genes\"] >= min_genes]\n",
    "n_cells_after = len(adata)\n",
    "print(f\"Filtered out {n_cells_before-n_cells_after} cells which had less than {min_genes} gene(s) expressed.\")"
   ]
  },
  {
   "cell_type": "code",
   "execution_count": null,
   "metadata": {
    "editable": false,
    "hide_input": false,
    "run_control": {
     "marked": false
    }
   },
   "outputs": [],
   "source": [
    "if filter_doublets:\n",
    "    \n",
    "    qc.estimate_doublets(adata, groupby=condition_column, threads=threads, threshold=doublet_threshold)\n",
    "    \n",
    "    #Remove the duplicates from adata\n",
    "    qc.filter_cells(adata, \"predicted_doublet\", remove_bool=True)"
   ]
  },
  {
   "cell_type": "markdown",
   "metadata": {},
   "source": [
    "_________"
   ]
  },
  {
   "cell_type": "markdown",
   "metadata": {},
   "source": [
    "### Predict sex per sample"
   ]
  },
  {
   "cell_type": "code",
   "execution_count": null,
   "metadata": {
    "editable": false,
    "hide_input": false,
    "run_control": {
     "marked": false
    }
   },
   "outputs": [],
   "source": [
    "if predict_sex:\n",
    "    qc.predict_sex(adata, groupby=condition_column, gene_column=gene_column, gene=female_gene, \n",
    "                   save=\"female_prediction.pdf\")"
   ]
  },
  {
   "cell_type": "markdown",
   "metadata": {},
   "source": [
    "_________"
   ]
  },
  {
   "cell_type": "markdown",
   "metadata": {},
   "source": [
    "### Cell filtering\n",
    "<hr style=\"border:1px solid black\"> </hr>"
   ]
  },
  {
   "cell_type": "markdown",
   "metadata": {},
   "source": [
    "Low and high count depth indicates cells with low integrity and doublets, respectively (DOI: 10.15252/msb.20188746)."
   ]
  },
  {
   "cell_type": "code",
   "execution_count": null,
   "metadata": {
    "editable": false,
    "hide_input": false,
    "run_control": {
     "marked": false
    }
   },
   "outputs": [],
   "source": [
    "# Choose columns to be used for filtering\n",
    "obs_columns = [\"n_genes\", \"log1p_total_counts\"]\n",
    "obs_columns += [\"pct_counts_\" + var for var in qc_vars if var != \"is_gender\"]\n",
    "\n",
    "utils.add_uns_info(adata, \"obs_metrics\", obs_columns, how=\"append\")\n",
    "obs_columns"
   ]
  },
  {
   "cell_type": "markdown",
   "metadata": {},
   "source": [
    "#### Estimate initial thresholds automatically"
   ]
  },
  {
   "cell_type": "code",
   "execution_count": null,
   "metadata": {
    "editable": false,
    "hide_input": false,
    "run_control": {
     "marked": false
    }
   },
   "outputs": [],
   "source": [
    "groupby = condition_column if global_threshold is False else None\n",
    "initial_thresholds = qc.automatic_thresholds(adata, which=\"obs\", groupby=groupby, columns=obs_columns)\n",
    "qc.thresholds_as_table(initial_thresholds) # show thresholds"
   ]
  },
  {
   "cell_type": "markdown",
   "metadata": {},
   "source": [
    "#### Customize thresholds via sliders"
   ]
  },
  {
   "cell_type": "markdown",
   "metadata": {},
   "source": [
    " (Rerun cell if plot is not shown)"
   ]
  },
  {
   "cell_type": "code",
   "execution_count": null,
   "metadata": {
    "editable": false,
    "hide_input": false,
    "run_control": {
     "marked": false
    }
   },
   "outputs": [],
   "source": [
    "%matplotlib widget\n",
    "\n",
    "#Plot violins and sliders\n",
    "obs_figure, obs_slider_dict = pl.quality_violin(adata, obs_columns,\n",
    "                                            groupby=condition_column,\n",
    "                                            which=\"obs\",\n",
    "                                            thresholds=initial_thresholds,\n",
    "                                            global_threshold=global_threshold,\n",
    "                                            title=\"Cell quality control (before)\",\n",
    "                                            save=\"cell_filtering.png\")\n",
    "obs_figure"
   ]
  },
  {
   "cell_type": "code",
   "execution_count": null,
   "metadata": {
    "editable": false,
    "hide_input": false,
    "run_control": {
     "marked": false
    }
   },
   "outputs": [],
   "source": [
    "# Get final thresholds\n",
    "final_thresholds = pl.get_slider_thresholds(obs_slider_dict)\n",
    "qc.thresholds_as_table(final_thresholds) # show thresholds"
   ]
  },
  {
   "cell_type": "code",
   "execution_count": null,
   "metadata": {
    "editable": false,
    "run_control": {
     "marked": false
    }
   },
   "outputs": [],
   "source": [
    "# Show pairwise comparisons of column values w/ thresholds (mean values in case thresholds are grouped)\n",
    "%matplotlib inline\n",
    "plt.close()  # close previous figure\n",
    "if len(final_thresholds) > 1:\n",
    "    mean_thresholds = qc.get_mean_thresholds(final_thresholds)\n",
    "    _ = pl.pairwise_scatter(adata.obs, obs_columns, thresholds=mean_thresholds, save=\"cell_filtering_scatter.pdf\")"
   ]
  },
  {
   "cell_type": "markdown",
   "metadata": {},
   "source": [
    "#### Apply final thresholds\n",
    "Filter the anndata object based on the thresholds in the threshold table."
   ]
  },
  {
   "cell_type": "code",
   "execution_count": null,
   "metadata": {
    "editable": false,
    "hide_input": false,
    "run_control": {
     "marked": false
    }
   },
   "outputs": [],
   "source": [
    "qc.apply_qc_thresholds(adata, which=\"obs\", thresholds=final_thresholds, groupby=groupby)"
   ]
  },
  {
   "cell_type": "markdown",
   "metadata": {},
   "source": [
    "#### Show data after filtering"
   ]
  },
  {
   "cell_type": "code",
   "execution_count": null,
   "metadata": {
    "editable": false,
    "hide_input": false,
    "run_control": {
     "marked": false
    }
   },
   "outputs": [],
   "source": [
    "%matplotlib inline \n",
    "\n",
    "#Plot violins and sliders\n",
    "figure, slider_dict = pl.quality_violin(adata, obs_columns,\n",
    "                                     groupby=condition_column,\n",
    "                                     which=\"obs\", ncols=3,\n",
    "                                     global_threshold = global_threshold,\n",
    "                                     title=\"Cell quality control (after)\",\n",
    "                                     save=\"cell_filtering_final.png\")\n",
    "figure"
   ]
  },
  {
   "cell_type": "markdown",
   "metadata": {},
   "source": [
    "_________"
   ]
  },
  {
   "cell_type": "markdown",
   "metadata": {},
   "source": [
    "### Gene filtering\n",
    "<hr style=\"border:1px solid black\"> </hr>"
   ]
  },
  {
   "cell_type": "code",
   "execution_count": null,
   "metadata": {
    "editable": false,
    "hide_input": false,
    "run_control": {
     "marked": false
    }
   },
   "outputs": [],
   "source": [
    "#Recalculate quality measures for genes\n",
    "adata = qc.calculate_qc_metrics(adata)"
   ]
  },
  {
   "cell_type": "code",
   "execution_count": null,
   "metadata": {
    "editable": false,
    "hide_input": false,
    "run_control": {
     "marked": false
    }
   },
   "outputs": [],
   "source": [
    "#Remove genes with 0 count\n",
    "zero_bool = adata.var[\"n_cells_by_counts\"] == 0\n",
    "adata = adata[:,~zero_bool]"
   ]
  },
  {
   "cell_type": "markdown",
   "metadata": {},
   "source": [
    "<h1><center>⬐ Fill in input data here ⬎</center></h1>"
   ]
  },
  {
   "cell_type": "code",
   "execution_count": 6,
   "metadata": {
    "ExecuteTime": {
     "end_time": "2024-03-28T14:27:15.526468Z",
     "start_time": "2024-03-28T14:27:15.521437Z"
    },
    "hide_input": false,
    "init_cell": true,
    "run_control": {
     "marked": false
    }
   },
   "outputs": [
    {
     "data": {
      "text/html": [
       "<img src onerror=\"\n",
       "                var cell = this.closest('.code_cell');\n",
       "                var editor = cell.querySelector('.CodeMirror-sizer');\n",
       "                editor.style.background='PowderBlue';\n",
       "                this.parentNode.removeChild(this)\n",
       "                \">"
      ],
      "text/plain": [
       "<IPython.core.display.HTML object>"
      ]
     },
     "metadata": {},
     "output_type": "display_data"
    }
   ],
   "source": [
    "%bgcolor PowderBlue\n",
    "\n",
    "#Choose columns for quality control\n",
    "var_columns = [\"n_cells_by_counts\", \"log1p_mean_counts\"]"
   ]
  },
  {
   "cell_type": "markdown",
   "metadata": {},
   "source": [
    "____________"
   ]
  },
  {
   "cell_type": "markdown",
   "metadata": {},
   "source": [
    "#### Customize thresholds via sliders"
   ]
  },
  {
   "cell_type": "markdown",
   "metadata": {},
   "source": [
    " (Rerun cell if plot is not shown)"
   ]
  },
  {
   "cell_type": "code",
   "execution_count": null,
   "metadata": {
    "editable": false,
    "hide_input": false,
    "run_control": {
     "marked": false
    }
   },
   "outputs": [],
   "source": [
    "%matplotlib widget\n",
    "\n",
    "#Plot violins and sliders\n",
    "var_figure, var_slider_dict = pl.quality_violin(adata, var_columns,\n",
    "                                            which=\"var\",\n",
    "                                            title=\"Gene quality control (before)\",\n",
    "                                            save=\"gene_filtering.png\")\n",
    "var_figure"
   ]
  },
  {
   "cell_type": "markdown",
   "metadata": {},
   "source": [
    "#### Apply gene filtering"
   ]
  },
  {
   "cell_type": "code",
   "execution_count": null,
   "metadata": {
    "editable": false,
    "hide_input": false,
    "run_control": {
     "marked": false
    }
   },
   "outputs": [],
   "source": [
    "# Get final thresholds\n",
    "final_thresholds = pl.get_slider_thresholds(var_slider_dict)\n",
    "qc.thresholds_as_table(final_thresholds) # show thresholds"
   ]
  },
  {
   "cell_type": "code",
   "execution_count": null,
   "metadata": {
    "editable": false,
    "hide_input": false,
    "run_control": {
     "marked": false
    }
   },
   "outputs": [],
   "source": [
    "qc.apply_qc_thresholds(adata, which=\"var\", thresholds=final_thresholds)"
   ]
  },
  {
   "cell_type": "markdown",
   "metadata": {},
   "source": [
    "#### Show data after filtering"
   ]
  },
  {
   "cell_type": "code",
   "execution_count": null,
   "metadata": {
    "editable": false,
    "hide_input": false,
    "run_control": {
     "marked": false
    }
   },
   "outputs": [],
   "source": [
    "%matplotlib inline \n",
    "\n",
    "#Plot violins and sliders\n",
    "figure, slider_dict = pl.quality_violin(adata, var_columns,\n",
    "                                        which=\"var\", ncols=3,\n",
    "                                        title=\"Gene quality control (after)\",\n",
    "                                        save=\"gene_filtering_final.png\")\n",
    "figure"
   ]
  },
  {
   "cell_type": "markdown",
   "metadata": {
    "ExecuteTime": {
     "end_time": "2022-06-13T13:09:34.519228Z",
     "start_time": "2022-06-13T13:09:34.515398Z"
    }
   },
   "source": [
    "#### Filter additional marked genes\n",
    "Remove genes that are labeled as e.g. mitochondrial genes."
   ]
  },
  {
   "cell_type": "code",
   "execution_count": null,
   "metadata": {
    "editable": false,
    "hide_input": false,
    "run_control": {
     "marked": false
    }
   },
   "outputs": [],
   "source": [
    "#Remove mitochrondrial genes\n",
    "if filter_mito is True:\n",
    "    print(\"Removing mitochrondrial genes:\")\n",
    "    qc.filter_genes(adata, \"is_mito\")\n",
    "\n",
    "#Remove ribosomal genes\n",
    "if filter_ribo is True:\n",
    "    print(\"Removing ribosomal genes:\")\n",
    "    qc.filter_genes(adata, \"is_ribo\")\n",
    "\n",
    "#Remove gender genes    \n",
    "if filter_gender is True:\n",
    "    print(\"Removing gender genes:\")\n",
    "    qc.filter_genes(adata, \"is_gender\")"
   ]
  },
  {
   "cell_type": "markdown",
   "metadata": {},
   "source": [
    "_________"
   ]
  },
  {
   "cell_type": "markdown",
   "metadata": {},
   "source": [
    "## Save filtered adata\n",
    "<hr style=\"border:2px solid black\"> </hr>\n",
    "Store the final results"
   ]
  },
  {
   "cell_type": "code",
   "execution_count": null,
   "metadata": {
    "editable": false,
    "hide_input": false,
    "run_control": {
     "marked": false
    }
   },
   "outputs": [],
   "source": [
    "adata"
   ]
  },
  {
   "cell_type": "code",
   "execution_count": null,
   "metadata": {
    "editable": false,
    "hide_input": false,
    "run_control": {
     "marked": false
    }
   },
   "outputs": [],
   "source": [
    "#Saving the data\n",
    "adata_output = \"anndata_2.h5ad\"\n",
    "utils.save_h5ad(adata, adata_output)"
   ]
  },
  {
   "cell_type": "code",
   "execution_count": null,
   "metadata": {
    "editable": false,
    "run_control": {
     "marked": false
    }
   },
   "outputs": [],
   "source": [
    "sctoolbox.settings.close_logfile()"
   ]
  }
 ],
 "metadata": {
  "kernelspec": {
   "display_name": "sctoolbox",
   "language": "python",
   "name": "sctoolbox"
  },
  "language_info": {
   "codemirror_mode": {
    "name": "ipython",
    "version": 3
   },
   "file_extension": ".py",
   "mimetype": "text/x-python",
   "name": "python",
   "nbconvert_exporter": "python",
   "pygments_lexer": "ipython3",
   "version": "3.10.13"
  }
 },
 "nbformat": 4,
 "nbformat_minor": 4
}
