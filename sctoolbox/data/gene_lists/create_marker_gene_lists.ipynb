{
 "cells": [
  {
   "cell_type": "markdown",
   "id": "66a6ecd6",
   "metadata": {},
   "source": [
    "# Create marker gene lists from gtfs"
   ]
  },
  {
   "cell_type": "code",
   "execution_count": null,
   "id": "7aaf0eed",
   "metadata": {},
   "outputs": [],
   "source": [
    "import sctoolbox.marker_genes\n",
    "import sctoolbox.utilities"
   ]
  },
  {
   "cell_type": "code",
   "execution_count": null,
   "id": "135d958c",
   "metadata": {},
   "outputs": [],
   "source": [
    "path = \"./\"  #path to save gene lists"
   ]
  },
  {
   "cell_type": "code",
   "execution_count": null,
   "id": "df19cc1e",
   "metadata": {},
   "outputs": [],
   "source": [
    "gtfs = {\"zebrafish\": \"/mnt/flatfiles/organisms/new_organism/danio_rerio/104/danio_rerio.104.genes.gtf\",\n",
    "        \"human\": \"/mnt/flatfiles/organisms/new_organism/homo_sapiens/104/homo_sapiens.104.genes.gtf\",\n",
    "        \"mouse\": \"/mnt/flatfiles/organisms/new_organism/mus_musculus/104/mus_musculus.104.genes.gtf\",\n",
    "        \"rat\": \"/mnt/flatfiles/organisms/new_organism/rattus_norvegicus/106/rattus_norvegicus.106.genes.gtf\"\n",
    "       }"
   ]
  },
  {
   "cell_type": "markdown",
   "id": "0ad4406b",
   "metadata": {},
   "source": [
    "## ChrM genes"
   ]
  },
  {
   "cell_type": "code",
   "execution_count": null,
   "id": "c17e3a87",
   "metadata": {},
   "outputs": [],
   "source": [
    "for organism in gtfs:\n",
    "    markers = sctoolbox.marker_genes.get_chromosome_genes(gtfs[organism], \"chrM\")\n",
    "    \n",
    "    f_name = path + organism + \"_mito_genes.txt\"\n",
    "    sctoolbox.utilities.write_list_file(markers, f_name)"
   ]
  },
  {
   "cell_type": "markdown",
   "id": "80f69dc9",
   "metadata": {},
   "source": [
    "## Gender genes"
   ]
  },
  {
   "cell_type": "code",
   "execution_count": null,
   "id": "c633e2e8",
   "metadata": {},
   "outputs": [],
   "source": [
    "for organism in gtfs:\n",
    "    if organism is \"zebrafish\":\n",
    "        continue\n",
    "        \n",
    "    markers = sctoolbox.marker_genes.get_chromosome_genes(gtfs[organism], [\"chrX\", \"chrY\"])\n",
    "    \n",
    "    f_name = path + organism + \"_gender_genes.txt\"\n",
    "    sctoolbox.utilities.write_list_file(markers, f_name)"
   ]
  }
 ],
 "metadata": {
  "language_info": {
   "name": "python"
  },
  "sc_framework": {
   "version": "0.9.0b"
  }
 },
 "nbformat": 4,
 "nbformat_minor": 5
}
