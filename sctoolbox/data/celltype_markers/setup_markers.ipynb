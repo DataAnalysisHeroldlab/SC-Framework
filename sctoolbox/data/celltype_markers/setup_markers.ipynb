{
 "cells": [
  {
   "cell_type": "code",
   "execution_count": null,
   "id": "5881fd88",
   "metadata": {},
   "outputs": [],
   "source": [
    "import wget\n",
    "import pandas as pd\n",
    "from datetime import date\n",
    "import apybiomart"
   ]
  },
  {
   "cell_type": "code",
   "execution_count": null,
   "id": "5b97c110",
   "metadata": {},
   "outputs": [],
   "source": [
    "today = date.today()\n",
    "print(\"Today's date:\", today)"
   ]
  },
  {
   "cell_type": "markdown",
   "id": "5cc0cb22",
   "metadata": {},
   "source": [
    "## Human markers"
   ]
  },
  {
   "cell_type": "code",
   "execution_count": null,
   "id": "f50a4a07",
   "metadata": {},
   "outputs": [],
   "source": [
    "f = wget.download(\"http://bio-bigdata.hrbmu.edu.cn/CellMarker/CellMarker_download_files/file/Cell_marker_Human.xlsx\")"
   ]
  },
  {
   "cell_type": "code",
   "execution_count": null,
   "id": "b7fb1678",
   "metadata": {},
   "outputs": [],
   "source": [
    "df = pd.read_excel(f)\n",
    "df = df[[\"cell_name\", \"Symbol\", \"tissue_type\"]]\n",
    "df.columns = [\"cell_name\", \"gene_name\", \"tissue_type\"]"
   ]
  },
  {
   "cell_type": "code",
   "execution_count": null,
   "id": "f3623e59",
   "metadata": {},
   "outputs": [],
   "source": [
    "df"
   ]
  },
  {
   "cell_type": "code",
   "execution_count": null,
   "id": "d558ed22",
   "metadata": {},
   "outputs": [],
   "source": [
    "# convert to gene id\n",
    "ENSEMBL_DATASET = \"hsapiens_gene_ensembl\"\n",
    "ensembl_df = apybiomart.query(attributes=[\"ensembl_gene_id\", \"external_gene_name\"],\n",
    "                              dataset=ENSEMBL_DATASET,\n",
    "                              filters={})"
   ]
  },
  {
   "cell_type": "code",
   "execution_count": null,
   "id": "6297c5fc",
   "metadata": {},
   "outputs": [],
   "source": [
    "df = df.merge(ensembl_df, left_on=\"gene_name\", right_on=\"Gene name\", how=\"left\")\n",
    "df.drop(columns=[\"Gene name\"], inplace=True)\n",
    "df.rename(columns={\"Gene stable ID\": \"gene_id\"}, inplace=True)"
   ]
  },
  {
   "cell_type": "code",
   "execution_count": null,
   "id": "f95ff8e2",
   "metadata": {},
   "outputs": [],
   "source": [
    "df"
   ]
  },
  {
   "cell_type": "code",
   "execution_count": null,
   "id": "714a7feb",
   "metadata": {},
   "outputs": [],
   "source": [
    "df.to_csv(\"cellmarker_human.tsv\", sep=\"\\t\", index=False)"
   ]
  },
  {
   "cell_type": "markdown",
   "id": "29e0b376",
   "metadata": {},
   "source": [
    "## Mouse markers"
   ]
  },
  {
   "cell_type": "code",
   "execution_count": null,
   "id": "976fc957",
   "metadata": {},
   "outputs": [],
   "source": [
    "f = wget.download(\"http://bio-bigdata.hrbmu.edu.cn/CellMarker/CellMarker_download_files/file/Cell_marker_Mouse.xlsx\")"
   ]
  },
  {
   "cell_type": "code",
   "execution_count": null,
   "id": "4b9e4a06",
   "metadata": {},
   "outputs": [],
   "source": [
    "df = pd.read_excel(f)\n",
    "df = df[[\"cell_name\", \"Symbol\", \"tissue_type\"]]\n",
    "df.columns = [\"cell_name\", \"gene_name\", \"tissue_type\"]"
   ]
  },
  {
   "cell_type": "code",
   "execution_count": null,
   "id": "371a8bd8",
   "metadata": {},
   "outputs": [],
   "source": [
    "# convert to gene id\n",
    "ENSEMBL_DATASET = \"mmusculus_gene_ensembl\"\n",
    "ensembl_df = apybiomart.query(attributes=[\"ensembl_gene_id\", \"external_gene_name\"],\n",
    "                              dataset=ENSEMBL_DATASET,\n",
    "                              filters={})"
   ]
  },
  {
   "cell_type": "code",
   "execution_count": null,
   "id": "edc7ec19",
   "metadata": {},
   "outputs": [],
   "source": [
    "df = df.merge(ensembl_df, left_on=\"gene_name\", right_on=\"Gene name\", how=\"left\")\n",
    "df.drop(columns=[\"Gene name\"], inplace=True)\n",
    "df.rename(columns={\"Gene stable ID\": \"gene_id\"}, inplace=True)"
   ]
  },
  {
   "cell_type": "code",
   "execution_count": null,
   "id": "fe849075",
   "metadata": {},
   "outputs": [],
   "source": [
    "df.to_csv(\"cellmarker_mouse.tsv\", sep=\"\\t\", index=False)"
   ]
  }
 ],
 "metadata": {
  "language_info": {
   "name": "python"
  }
 },
 "nbformat": 4,
 "nbformat_minor": 5
}
