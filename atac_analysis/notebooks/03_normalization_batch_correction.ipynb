{
 "cells": [
  {
   "cell_type": "code",
   "execution_count": null,
   "id": "01b04638",
   "metadata": {},
   "outputs": [],
   "source": [
    "import sctoolbox\n",
    "from sctoolbox.utilities import bgcolor"
   ]
  },
  {
   "cell_type": "markdown",
   "id": "edf8be50",
   "metadata": {},
   "source": [
    "# Batch effect correction and comparisons\n",
    "<hr style=\"border:2px solid black\"> </hr>"
   ]
  },
  {
   "cell_type": "markdown",
   "id": "4a57a73b",
   "metadata": {},
   "source": [
    "<h1><center>⬐ Fill in input data here ⬎</center></h1>"
   ]
  },
  {
   "cell_type": "code",
   "execution_count": null,
   "id": "88c3aa60",
   "metadata": {},
   "outputs": [],
   "source": [
    "%bgcolor PowderBlue\n",
    "\n",
    "# Choose normalization method\n",
    "norm_methods = ['tfidf', 'total']  # can be 'tfidf' and/or 'total'\n",
    "\n",
    "# Set number of neighbors\n",
    "n_neighbors = 15  #Default=15\n",
    "\n",
    "# UMAP related settings \n",
    "metacol = 'sample'\n",
    "\n",
    "# batch correction: If True, several batch correction methods will be performed,\n",
    "# you can choose the best one after\n",
    "batch_column = \"sample\"\n",
    "perform_batch_correction = True\n",
    "batch_methods = [\"bbknn\", \"harmony\"] # \"mnn\", \"scanorama\"\n",
    "threads = 8"
   ]
  },
  {
   "cell_type": "markdown",
   "id": "f70e9c77",
   "metadata": {},
   "source": [
    "<hr style=\"border:2px solid black\"> </hr>"
   ]
  },
  {
   "cell_type": "markdown",
   "id": "f64aaa76",
   "metadata": {},
   "source": [
    "## Set up"
   ]
  },
  {
   "cell_type": "code",
   "execution_count": null,
   "id": "61a4987b",
   "metadata": {},
   "outputs": [],
   "source": [
    "import sctoolbox.tools as tools\n",
    "import sctoolbox.plotting as pl\n",
    "import sctoolbox.utils as utils\n",
    "import scanpy as sc\n",
    "import episcanpy as epi\n",
    "import numpy as np\n",
    "import matplotlib.pyplot as plt\n",
    "utils.settings_from_config(\"config.yaml\", key=\"03\")\n",
    "\n",
    "sc.set_figure_params(vector_friendly=True, dpi_save=600, scanpy=False)"
   ]
  },
  {
   "cell_type": "markdown",
   "id": "0531eb8c",
   "metadata": {},
   "source": [
    "----------------"
   ]
  },
  {
   "cell_type": "markdown",
   "id": "8cc1a8a9",
   "metadata": {},
   "source": [
    "## Load anndata "
   ]
  },
  {
   "cell_type": "code",
   "execution_count": null,
   "id": "61b56239",
   "metadata": {},
   "outputs": [],
   "source": [
    "# probably updated in future\n",
    "adata = utils.load_h5ad(\"anndata_2.h5ad\")\n",
    "display(adata)"
   ]
  },
  {
   "cell_type": "markdown",
   "id": "5a338aad",
   "metadata": {},
   "source": [
    "----------"
   ]
  },
  {
   "cell_type": "markdown",
   "id": "0e9b520a",
   "metadata": {},
   "source": [
    "## Normalization"
   ]
  },
  {
   "cell_type": "code",
   "execution_count": null,
   "id": "20fd53d3",
   "metadata": {},
   "outputs": [],
   "source": [
    "normalizations = tools.normalize_adata(adata, norm_methods)"
   ]
  },
  {
   "cell_type": "markdown",
   "id": "99ba648f",
   "metadata": {},
   "source": [
    "--------"
   ]
  },
  {
   "cell_type": "markdown",
   "id": "1399c244",
   "metadata": {},
   "source": [
    "## Show PC embedding per method"
   ]
  },
  {
   "cell_type": "code",
   "execution_count": null,
   "id": "c434beeb",
   "metadata": {},
   "outputs": [],
   "source": [
    "%bgcolor PowderBlue\n",
    "\n",
    "# number of PCs shown within the heatmap\n",
    "n_pcs_heatmap = 15"
   ]
  },
  {
   "cell_type": "code",
   "execution_count": null,
   "id": "4073049b",
   "metadata": {},
   "outputs": [],
   "source": [
    "_ = pl.compare_embeddings(list(normalizations.values()), adata_names=list(normalizations.keys()),\n",
    "                          var_list=[batch_column], embedding=\"pca\")"
   ]
  },
  {
   "cell_type": "code",
   "execution_count": null,
   "id": "4bab6a9a",
   "metadata": {},
   "outputs": [],
   "source": [
    "# PCA correlations with obs and var variables\n",
    "for method, adata_norm in normalizations.items():\n",
    "    \n",
    "    _ = pl.plot_pca_correlation(adata_norm, \n",
    "                                n_components=n_pcs_heatmap,\n",
    "                                which=\"obs\", \n",
    "                                title=f\"Normalization method = {method}\\nCorrelation of .obs columns with PCA loadings\",\n",
    "                                save=f\"PCA_{method}_correlation_obs.pdf\")\n",
    "    \n",
    "    _ = pl.plot_pca_correlation(adata_norm, \n",
    "                                n_components=n_pcs_heatmap,\n",
    "                                which=\"var\", \n",
    "                                title=f\"Normalization method = {method}\\nCorrelation of .var columns with PCA loadings\",\n",
    "                                save=f\"PCA_{method}_correlation_var.pdf\")"
   ]
  },
  {
   "cell_type": "markdown",
   "id": "7177cc2a",
   "metadata": {},
   "source": [
    "---------------------"
   ]
  },
  {
   "cell_type": "markdown",
   "id": "79a585c8",
   "metadata": {},
   "source": [
    "## Subset PCs"
   ]
  },
  {
   "cell_type": "code",
   "execution_count": null,
   "id": "630e3121",
   "metadata": {},
   "outputs": [],
   "source": [
    "%bgcolor PowderBlue\n",
    "\n",
    "# Whether PCs should be filtered\n",
    "subset_pcs = True\n",
    "\n",
    "corr_thresh = 0.5  # PCs with an absolut correlation above this will be filtered\n",
    "perc_thresh = 50  # Top percentile of PCs that should be kept\n",
    "filter_methods = ['variance', 'correlation']  # propose PCs based on the provided methods\n",
    "basis = 'obs'  # base correlation on obs or var"
   ]
  },
  {
   "cell_type": "code",
   "execution_count": null,
   "id": "9f519da2",
   "metadata": {},
   "outputs": [],
   "source": [
    "if subset_pcs:\n",
    "    for key, adata_normed in normalizations.items():\n",
    "        \n",
    "        selected_pcs = tools.propose_pcs(anndata=adata_normed,\n",
    "                                 how=filter_methods,\n",
    "                                 corr_thresh=corr_thresh,\n",
    "                                 perc_thresh=perc_thresh,\n",
    "                                 corr_kwargs={'method': 'spearmanr', 'which': basis})\n",
    "        \n",
    "        # Plot and select number of PCs\n",
    "        _, ax = plt.subplots()\n",
    "        ax.set_title(key)\n",
    "        _ = pl.plot_pca_variance(adata_normed, \n",
    "                                 save=key + \"_PCA_variance_selected.pdf\",selected=selected_pcs,\n",
    "                                 n_pcs=50,\n",
    "                                 n_thresh=max(selected_pcs),\n",
    "                                 corr_plot='spearmanr',\n",
    "                                 corr_thresh=corr_thresh,\n",
    "                                 corr_on=basis, \n",
    "                                 ax=ax)\n",
    "        tools.subset_PCA(adata_normed, select=selected_pcs)\n",
    "        \n",
    "        normalizations[key] = adata_normed"
   ]
  },
  {
   "cell_type": "markdown",
   "id": "165ec27b",
   "metadata": {},
   "source": [
    "--------"
   ]
  },
  {
   "cell_type": "markdown",
   "id": "bdeca85b",
   "metadata": {},
   "source": [
    "## Calc standard neighbors and umap for each adata"
   ]
  },
  {
   "cell_type": "code",
   "execution_count": null,
   "id": "0d7d720d",
   "metadata": {},
   "outputs": [],
   "source": [
    "for adata in normalizations.values():\n",
    "    sc.pp.neighbors(adata, n_neighbors=n_neighbors, method='umap', metric='euclidean')"
   ]
  },
  {
   "cell_type": "code",
   "execution_count": null,
   "id": "aa2ddded",
   "metadata": {},
   "outputs": [],
   "source": [
    "tools.wrap_umap(normalizations.values())"
   ]
  },
  {
   "cell_type": "markdown",
   "id": "32ae5faf",
   "metadata": {},
   "source": [
    "------------------------"
   ]
  },
  {
   "cell_type": "markdown",
   "id": "b3478766",
   "metadata": {},
   "source": [
    "## Compare between normalizations"
   ]
  },
  {
   "cell_type": "code",
   "execution_count": null,
   "id": "be9aab4b",
   "metadata": {},
   "outputs": [],
   "source": [
    "#Plot the overview of batch correction methods\n",
    "_ = pl.anndata_overview(normalizations, \n",
    "                        plots=[\"PCA\", \"PCA-var\", \"UMAP\"],\n",
    "                        color_by=[\"n_features\"], \n",
    "                        output=None)"
   ]
  },
  {
   "cell_type": "code",
   "execution_count": null,
   "id": "030b3bea",
   "metadata": {},
   "outputs": [],
   "source": [
    "%bgcolor PowderBlue\n",
    "\n",
    "# Choose the final normalization method\n",
    "norm_method = \"tfidf\"\n",
    "\n",
    "adata = normalizations[norm_method]"
   ]
  },
  {
   "cell_type": "markdown",
   "id": "af9a621d",
   "metadata": {},
   "source": [
    "-----------"
   ]
  },
  {
   "cell_type": "markdown",
   "id": "52137416",
   "metadata": {},
   "source": [
    "## Plot final PCA"
   ]
  },
  {
   "cell_type": "code",
   "execution_count": null,
   "id": "b042acad",
   "metadata": {},
   "outputs": [],
   "source": [
    "sc.pl.pca_overview(adata, color=['n_features'], show=False)\n",
    "\n",
    "_ = pl.plot_pca_correlation(adata, which=\"var\", \n",
    "                            title=f\"Normalization method = {method}\\nCorrelation of .var columns with PCA loadings\",\n",
    "                            save=f\"PCA_{method}_correlation_var.pdf\")"
   ]
  },
  {
   "cell_type": "markdown",
   "id": "e542eb09",
   "metadata": {},
   "source": [
    "-----------"
   ]
  },
  {
   "cell_type": "markdown",
   "id": "0765a75e",
   "metadata": {},
   "source": [
    "## Batch correction"
   ]
  },
  {
   "cell_type": "code",
   "execution_count": null,
   "id": "15149b64",
   "metadata": {},
   "outputs": [],
   "source": [
    "if perform_batch_correction:\n",
    "    batch_corrections = tools.wrap_corrections(adata, \n",
    "                                                  batch_key=batch_column,\n",
    "                                                  methods=batch_methods)\n",
    "else:\n",
    "    batch_corrections = {\"uncorrected\": adata}"
   ]
  },
  {
   "cell_type": "code",
   "execution_count": null,
   "id": "b8229b7c",
   "metadata": {},
   "outputs": [],
   "source": [
    "#Run standard umap for all adatas\n",
    "tools.wrap_umap(batch_corrections.values(), threads=threads)"
   ]
  },
  {
   "cell_type": "code",
   "execution_count": null,
   "id": "bdd0ae2e",
   "metadata": {},
   "outputs": [],
   "source": [
    "# Should preliminary clustering be performed?\n",
    "do_clustering = True #True or False"
   ]
  },
  {
   "cell_type": "code",
   "execution_count": null,
   "id": "0ab1d2bf",
   "metadata": {},
   "outputs": [],
   "source": [
    "#Perform additional clustering if it was chosen\n",
    "color_by = []\n",
    "if do_clustering:\n",
    "    for adata in batch_corrections.values():\n",
    "        sc.tl.leiden(adata, 0.1)\n",
    "    color_by.append(\"leiden\")"
   ]
  },
  {
   "cell_type": "code",
   "execution_count": null,
   "id": "e6b74605",
   "metadata": {},
   "outputs": [],
   "source": [
    "# Calculate LISI scores for batch\n",
    "tools.wrap_batch_evaluation(batch_corrections, batch_key=batch_column, threads=threads, inplace=True)"
   ]
  },
  {
   "cell_type": "code",
   "execution_count": null,
   "id": "4a5a35c0",
   "metadata": {},
   "outputs": [],
   "source": [
    "#Plot the overview of batch correction methods\n",
    "adata.obs[batch_column] = adata.obs[batch_column].astype(\"category\") #ensure that batch column is a category\n",
    "\n",
    "_ = pl.anndata_overview(batch_corrections, color_by=color_by + [batch_column], \n",
    "                        output=None)"
   ]
  },
  {
   "cell_type": "code",
   "execution_count": null,
   "id": "297d581e",
   "metadata": {},
   "outputs": [],
   "source": [
    "%bgcolor PowderBlue\n",
    "\n",
    "#Choose an anndata object to proceed\n",
    "batch_name = \"bbknn\"\n",
    "\n",
    "adata_corrected = batch_corrections[batch_name]"
   ]
  },
  {
   "cell_type": "markdown",
   "id": "6c651e65",
   "metadata": {},
   "source": [
    "---------"
   ]
  },
  {
   "cell_type": "markdown",
   "id": "59fdbc93",
   "metadata": {},
   "source": [
    "## Save anndata"
   ]
  },
  {
   "cell_type": "code",
   "execution_count": null,
   "id": "623403df",
   "metadata": {},
   "outputs": [],
   "source": [
    "#Saving the data\n",
    "adata_output = \"anndata_3.h5ad\"\n",
    "utils.save_h5ad(adata, adata_output)"
   ]
  },
  {
   "cell_type": "code",
   "execution_count": null,
   "id": "2374bf57",
   "metadata": {},
   "outputs": [],
   "source": []
  }
 ],
 "metadata": {
  "kernelspec": {
   "display_name": "sctoolbox",
   "language": "python",
   "name": "sctoolbox"
  },
  "language_info": {
   "codemirror_mode": {
    "name": "ipython",
    "version": 3
   },
   "file_extension": ".py",
   "mimetype": "text/x-python",
   "name": "python",
   "nbconvert_exporter": "python",
   "pygments_lexer": "ipython3",
   "version": "3.10.13"
  }
 },
 "nbformat": 4,
 "nbformat_minor": 5
}
