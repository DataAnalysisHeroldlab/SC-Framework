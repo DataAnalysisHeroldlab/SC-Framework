{
 "cells": [
  {
   "cell_type": "code",
   "execution_count": null,
   "id": "e82954e4",
   "metadata": {},
   "outputs": [],
   "source": [
    "import sctoolbox\n",
    "from sctoolbox.utilities import bgcolor"
   ]
  },
  {
   "cell_type": "markdown",
   "id": "ce30c0cc",
   "metadata": {},
   "source": [
    "# Embedding and clustering\n",
    "<hr style=\"border:2px solid black\"> </hr>"
   ]
  },
  {
   "cell_type": "markdown",
   "id": "3c3b2bb6",
   "metadata": {},
   "source": [
    "<h1><center>⬐ Fill in input data here ⬎</center></h1>"
   ]
  },
  {
   "cell_type": "code",
   "execution_count": null,
   "id": "88c3aa60",
   "metadata": {},
   "outputs": [],
   "source": [
    "%bgcolor PowderBlue\n",
    "\n",
    "#Column to show in UMAPs\n",
    "metacol = 'sample'\n",
    "\n",
    "#Number of threads to use for multiprocessing\n",
    "threads = 4\n",
    "\n",
    "# Search embedding parameters (or set parameters later)\n",
    "embedding = \"umap\"   #umap or tsne\n",
    "search_parameters = True\n",
    "\n",
    "dist_range = (0.1, 0.3, 0.1) # Set min_dist range for umap\n",
    "spread_range = (1.0, 2.0, 0.5) # Set spread range for umap\n",
    "n_components = 3 # Number of components for umap\n",
    "perplexity_range = (30, 60, 10)        # perplexity range for tsne\n",
    "learning_rate_range = (600, 1000, 200)   # learning_rate for tsne\n",
    "\n",
    "# Search different clustering resolutions\n",
    "search_clustering_parameters = True\n",
    "clustering_method = \"leiden\" #leiden/louvain\n",
    "\n",
    "# Annotate regions to genes\n",
    "GTF_PATH = \"test_data/hg38_genes.gtf\" # genes gtf file"
   ]
  },
  {
   "cell_type": "markdown",
   "id": "a0211adc",
   "metadata": {},
   "source": [
    "<hr style=\"border:2px solid black\"> </hr>"
   ]
  },
  {
   "cell_type": "markdown",
   "id": "f64aaa76",
   "metadata": {},
   "source": [
    "## Set up"
   ]
  },
  {
   "cell_type": "code",
   "execution_count": null,
   "id": "61a4987b",
   "metadata": {},
   "outputs": [],
   "source": [
    "import sctoolbox\n",
    "import sctoolbox.tools as tools\n",
    "import sctoolbox.plotting as pl\n",
    "import sctoolbox.utils as utils\n",
    "import scanpy as sc\n",
    "\n",
    "utils.settings_from_config(\"config.yaml\", key=\"04\")\n",
    "\n",
    "sc.set_figure_params(vector_friendly=True, dpi_save=600, scanpy=False)"
   ]
  },
  {
   "cell_type": "markdown",
   "id": "e4cd0b7f",
   "metadata": {},
   "source": [
    "-----------------------------"
   ]
  },
  {
   "cell_type": "markdown",
   "id": "8cc1a8a9",
   "metadata": {},
   "source": [
    "## Load anndata "
   ]
  },
  {
   "cell_type": "code",
   "execution_count": null,
   "id": "61b56239",
   "metadata": {},
   "outputs": [],
   "source": [
    "adata = utils.load_h5ad(\"anndata_3.h5ad\")\n",
    "display(adata)"
   ]
  },
  {
   "cell_type": "markdown",
   "id": "864eed0b",
   "metadata": {},
   "source": [
    "------------------------------------"
   ]
  },
  {
   "cell_type": "markdown",
   "id": "652f72f0",
   "metadata": {},
   "source": [
    "## Embedding"
   ]
  },
  {
   "cell_type": "code",
   "execution_count": null,
   "id": "fe4b718e",
   "metadata": {},
   "outputs": [],
   "source": [
    "if search_parameters:\n",
    "    if embedding == \"umap\":\n",
    "        pl.search_umap_parameters(adata, \n",
    "                                  min_dist_range=dist_range,\n",
    "                                  spread_range=spread_range,\n",
    "                                  color=metacol,\n",
    "                                  n_components=n_components,\n",
    "                                  threads=threads,\n",
    "                                  save=\"UMAP_parameter_search.pdf\")\n",
    "    elif embedding == \"tsne\":\n",
    "        pl.search_tsne_parameters(adata, \n",
    "                                  perplexity_range=perplexity_range,\n",
    "                                  learning_rate_range=learning_rate_range,\n",
    "                                  color=metacol,\n",
    "                                  threads=threads,\n",
    "                                  save=\"TSNE_parameter_search.pdf\")"
   ]
  },
  {
   "cell_type": "code",
   "execution_count": null,
   "id": "2f335f94",
   "metadata": {},
   "outputs": [],
   "source": [
    "%bgcolor PowderBlue\n",
    "\n",
    "# Final choice of spread / dist for umap\n",
    "min_dist = 0.2\n",
    "spread = 1.5\n",
    "\n",
    "# Final choice of perplexity_range / perplexity_range for tsne\n",
    "perplexity = 50\n",
    "learning_rate = 800"
   ]
  },
  {
   "cell_type": "code",
   "execution_count": null,
   "id": "76105e6d",
   "metadata": {},
   "outputs": [],
   "source": [
    "# Calculate final embedding\n",
    "if embedding == \"umap\":\n",
    "    sc.tl.umap(adata, min_dist=min_dist, spread=spread, n_components=n_components)\n",
    "elif embedding == \"tsne\":\n",
    "    sc.tl.tsne(adata, perplexity=perplexity, learning_rate=learning_rate)"
   ]
  },
  {
   "cell_type": "code",
   "execution_count": null,
   "id": "00ec6190",
   "metadata": {},
   "outputs": [],
   "source": [
    "#Adjust qc columns to show in plot \n",
    "qc_columns = [metacol] + list(adata.uns[\"sctoolbox\"][\"obs_metrics\"])"
   ]
  },
  {
   "cell_type": "code",
   "execution_count": null,
   "id": "25601fba",
   "metadata": {},
   "outputs": [],
   "source": [
    "# Plot final umap/tsne with quality measures\n",
    "sc.pl.embedding(adata, basis=embedding, color=qc_columns, ncols=3, show=False)\n",
    "pl._save_figure(\"embedding_quality.pdf\")"
   ]
  },
  {
   "cell_type": "markdown",
   "id": "5646f8af",
   "metadata": {},
   "source": [
    "--------------"
   ]
  },
  {
   "cell_type": "markdown",
   "id": "0765a75e",
   "metadata": {},
   "source": [
    "## Cell Clustering\n",
    "- NOTE: resolution: controls the coarseness of the clustering. Higher values lead to more clusters."
   ]
  },
  {
   "cell_type": "code",
   "execution_count": null,
   "id": "11c56436",
   "metadata": {},
   "outputs": [],
   "source": [
    "# plot different clustering resolutions\n",
    "if search_clustering_parameters:\n",
    "    pl.search_clustering_parameters(adata, ncols=4, method=clustering_method)"
   ]
  },
  {
   "cell_type": "code",
   "execution_count": null,
   "id": "623403df",
   "metadata": {},
   "outputs": [],
   "source": [
    "%bgcolor PowderBlue\n",
    "\n",
    "# choose final resolution\n",
    "resolution = \"0.1\""
   ]
  },
  {
   "cell_type": "code",
   "execution_count": null,
   "id": "3831312a",
   "metadata": {},
   "outputs": [],
   "source": [
    "clustering_column = \"leiden_\" + str(resolution)\n",
    "adata.uns['sctoolbox']['clustering'] = [clustering_column]"
   ]
  },
  {
   "cell_type": "markdown",
   "id": "b85eaa74",
   "metadata": {},
   "source": [
    "------------------------------------"
   ]
  },
  {
   "cell_type": "markdown",
   "id": "698cb799",
   "metadata": {},
   "source": [
    "## Reclustering\n",
    "- Based on the last two plots, mainly the heatmap, decide how to make reclusterization."
   ]
  },
  {
   "cell_type": "code",
   "execution_count": null,
   "id": "be3478dc",
   "metadata": {},
   "outputs": [],
   "source": [
    "#recluster_dec = input('Do you want to recluster? answer with yes or no: ')\n",
    "recluster_dec = \"no\""
   ]
  },
  {
   "cell_type": "code",
   "execution_count": null,
   "id": "dc98c62c",
   "metadata": {},
   "outputs": [],
   "source": [
    "if recluster_dec.lower() == 'yes':\n",
    "    recluster_cols = input('Which clusters do you want to recluster? Enter cluster numbers sperated by commas: ')\n",
    "    recluster_cols = recluster_cols.split(',')\n",
    "    join_split = input(\"Do you want to join or split the clusters? \")\n",
    "    tools.recluster(adata, clustering_column, recluster_cols, task=join_split)\n",
    "    clustering_column += \"_recluster\"  #update clustering column"
   ]
  },
  {
   "cell_type": "code",
   "execution_count": null,
   "id": "3a54e7ef",
   "metadata": {},
   "outputs": [],
   "source": [
    "#Create final clustering\n",
    "adata.obs[\"clustering\"] = utils.rename_categories(adata.obs[clustering_column])"
   ]
  },
  {
   "cell_type": "markdown",
   "id": "81d2dba8",
   "metadata": {},
   "source": [
    "----------------------"
   ]
  },
  {
   "cell_type": "markdown",
   "id": "c58a4d35",
   "metadata": {},
   "source": [
    "## Final clustering of cells"
   ]
  },
  {
   "cell_type": "code",
   "execution_count": null,
   "id": "4d2b0c49",
   "metadata": {},
   "outputs": [],
   "source": [
    "#Plot final leiden\n",
    "sc.pl.embedding(adata, basis=\"X_\" + embedding, color=[metacol, \"clustering\"], show=False)\n",
    "pl._save_figure(\"embedding_clustering.pdf\")"
   ]
  },
  {
   "cell_type": "markdown",
   "id": "9ca3a977",
   "metadata": {},
   "source": [
    "---------------"
   ]
  },
  {
   "cell_type": "markdown",
   "id": "65260724",
   "metadata": {},
   "source": [
    "## Plot distribution of cells across clusters"
   ]
  },
  {
   "cell_type": "code",
   "execution_count": null,
   "id": "a9ce70d1",
   "metadata": {},
   "outputs": [],
   "source": [
    "_ = pl.n_cells_barplot(adata, \"clustering\", groupby=metacol, \n",
    "                       save=\"cell_distribution_barplot.pdf\")"
   ]
  },
  {
   "cell_type": "markdown",
   "id": "8b3c4d30",
   "metadata": {},
   "source": [
    "---------"
   ]
  },
  {
   "cell_type": "markdown",
   "id": "cbcd606e",
   "metadata": {},
   "source": [
    "## Generating 3D Object with UMAP coordinates in HTML"
   ]
  },
  {
   "cell_type": "code",
   "execution_count": null,
   "id": "ddcea7ed",
   "metadata": {},
   "outputs": [],
   "source": [
    "#plot 3D html for the \"clustering\" adata.obs, change to individual leiden or other columns if needed\n",
    "column_3d = \"clustering\""
   ]
  },
  {
   "cell_type": "code",
   "execution_count": null,
   "id": "f18f3ee2",
   "metadata": {},
   "outputs": [],
   "source": [
    "if embedding == \"umap\" and n_components > 2:\n",
    "    pl.plot_3D_UMAP(adata, column_3d, save=f\"umap_3d_{column_3d}\")\n",
    "    html_file = sctoolbox.settings.full_figure_prefix + f\"umap_3d_{column_3d}.html\"\n",
    "    \n",
    "    from IPython.display import IFrame\n",
    "    display(IFrame(src=html_file, width=800, height=400))"
   ]
  },
  {
   "cell_type": "markdown",
   "id": "03211fef",
   "metadata": {},
   "source": [
    "---------"
   ]
  },
  {
   "cell_type": "markdown",
   "id": "ee366171",
   "metadata": {},
   "source": [
    "## Annotate regions to genes\n",
    "This function uses UROPA to annotate regions to genes with a gtf file containing the genes as reference"
   ]
  },
  {
   "cell_type": "code",
   "execution_count": null,
   "id": "675ae255",
   "metadata": {},
   "outputs": [],
   "source": [
    "tools.annotate_adata(adata,\n",
    "                       GTF_PATH,\n",
    "                       config=None,\n",
    "                       best=True,\n",
    "                       threads=6,\n",
    "                       coordinate_cols=None,\n",
    "                       temp_dir=\"tmp\",\n",
    "                       inplace=True)"
   ]
  },
  {
   "cell_type": "code",
   "execution_count": null,
   "id": "4085a346",
   "metadata": {},
   "outputs": [],
   "source": [
    "adata.var"
   ]
  },
  {
   "cell_type": "markdown",
   "id": "b3bf699a",
   "metadata": {},
   "source": [
    "--------------------------------------"
   ]
  },
  {
   "cell_type": "markdown",
   "id": "c8f90f0f",
   "metadata": {},
   "source": [
    "## Save anndata"
   ]
  },
  {
   "cell_type": "code",
   "execution_count": null,
   "id": "feefd913",
   "metadata": {},
   "outputs": [],
   "source": [
    "utils.save_h5ad(adata, \"anndata_4.h5ad\")"
   ]
  },
  {
   "cell_type": "code",
   "execution_count": null,
   "id": "7d50b06d",
   "metadata": {},
   "outputs": [],
   "source": []
  }
 ],
 "metadata": {
  "kernelspec": {
   "display_name": "sctoolbox",
   "language": "python",
   "name": "sctoolbox"
  },
  "language_info": {
   "codemirror_mode": {
    "name": "ipython",
    "version": 3
   },
   "file_extension": ".py",
   "mimetype": "text/x-python",
   "name": "python",
   "nbconvert_exporter": "python",
   "pygments_lexer": "ipython3",
   "version": "3.10.13"
  }
 },
 "nbformat": 4,
 "nbformat_minor": 5
}
