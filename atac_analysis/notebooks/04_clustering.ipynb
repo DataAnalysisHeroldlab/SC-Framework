{
 "cells": [
  {
   "cell_type": "code",
   "execution_count": null,
   "id": "e82954e4",
   "metadata": {
    "editable": false,
    "hide_input": true,
    "init_cell": true
   },
   "source": [
    "from sctoolbox.utils.jupyter import bgcolor, _compare_version\n",
    "\n",
    "nb_name = \"04_clustering.ipynb\"\n",
    "\n",
    "_compare_version(nb_name)"
   ],
   "outputs": []
  },
  {
   "cell_type": "markdown",
   "id": "ce30c0cc",
   "metadata": {},
   "source": [
    "#  04 - Embedding and clustering\n",
    "<hr style=\"border:2px solid black\"> </hr>"
   ]
  },
  {
   "cell_type": "markdown",
   "id": "bfcaa5c4",
   "metadata": {},
   "source": [
    "## 1 - Description\n",
    "### 1.1 Embedding\n",
    "Embeddings are dimension reduction methods to transform high-dimensional data into lower-dimensional representations while preserving the inherent structure and relationships between individual cells.  \n",
    "The sctoolbox supports the [Uniform Manifold Approximation and Projection (UMAP)](https://arxiv.org/abs/1802.03426) and the [t-distributed stochastic neighbor embedding (t-SNE)](https://www.jmlr.org/papers/volume9/vandermaaten08a/vandermaaten08a.pdf) methods for dimension reduction, with UMAP being set as the default value.\n",
    "To learn more about the differences between those methods and get more insight in the parameter selction have a look [here for umap](https://pair-code.github.io/understanding-umap/) and [here for t-SNE](https://distill.pub/2016/misread-tsne/?_ga=2.135835192.888864733.1531353600-1779571267.1531353600).\n",
    "### 1.2 Clustering\n",
    "Single cell clustering is used to group individual cells into clusters based on similarities in their gene expression. The clustering allows to identify distinct cell types and characterize cellular heterogeneity within a population.\n",
    "The sctoolbox supports the [leiden](https://www.nature.com/articles/s41598-019-41695-z) and the [louvain](https://iopscience.iop.org/article/10.1088/1742-5468/2008/10/P10008) clustering methods, with the leiden clustering algorithm being newer and recommended to use."
   ]
  },
  {
   "cell_type": "markdown",
   "id": "3bd5aae2",
   "metadata": {},
   "source": [
    "__________"
   ]
  },
  {
   "cell_type": "markdown",
   "id": "84f514fe",
   "metadata": {},
   "source": [
    "## 2 - Setup"
   ]
  },
  {
   "cell_type": "code",
   "execution_count": null,
   "id": "f81ad691",
   "metadata": {
    "editable": false
   },
   "source": [
    "import sctoolbox\n",
    "import sctoolbox.tools as tools\n",
    "import sctoolbox.plotting as pl\n",
    "import sctoolbox.utils as utils\n",
    "import scanpy as sc\n",
    "import pandas as pd\n",
    "\n",
    "sctoolbox.settings.settings_from_config(\"config.yaml\", key=\"04\")\n",
    "\n",
    "sc.set_figure_params(vector_friendly=True, dpi_save=600, scanpy=False)"
   ],
   "outputs": []
  },
  {
   "cell_type": "markdown",
   "id": "472e8157",
   "metadata": {},
   "source": [
    "__________"
   ]
  },
  {
   "cell_type": "markdown",
   "id": "db8dc437",
   "metadata": {},
   "source": [
    "## 3 - Load anndata"
   ]
  },
  {
   "cell_type": "code",
   "execution_count": null,
   "id": "e783d8d4",
   "metadata": {
    "editable": false
   },
   "source": [
    "adata = utils.adata.load_h5ad(\"anndata_3.h5ad\")\n",
    "\n",
    "with pd.option_context(\"display.max.rows\", 5, \"display.max.columns\", None):\n",
    "    display(adata)\n",
    "    display(adata.obs)\n",
    "    display(adata.var)"
   ],
   "outputs": []
  },
  {
   "cell_type": "markdown",
   "id": "81e6e47d",
   "metadata": {},
   "source": [
    "_______"
   ]
  },
  {
   "cell_type": "markdown",
   "id": "444353d8",
   "metadata": {},
   "source": [
    "## 4 - General input"
   ]
  },
  {
   "cell_type": "markdown",
   "id": "3c3b2bb6",
   "metadata": {},
   "source": [
    "<h1><center>⬐ Fill in input data here ⬎</center></h1>"
   ]
  },
  {
   "cell_type": "code",
   "execution_count": null,
   "id": "88c3aa60",
   "metadata": {
    "init_cell": true
   },
   "source": [
    "%bgcolor PowderBlue\n",
    "\n",
    "#Column to show in UMAPs\n",
    "condition_column = 'sample'\n",
    "\n",
    "#Number of threads to use for multiprocessing\n",
    "threads = 4\n",
    "\n",
    "# Search embedding parameters (or set parameters later)\n",
    "embedding = \"umap\"   #umap or tsne\n",
    "search_parameters = True\n",
    "\n",
    "dist_range = (0.1, 0.3, 0.1) # Set min_dist range for umap\n",
    "spread_range = (1.0, 2.0, 0.5) # Set spread range for umap\n",
    "n_components = 2 # Number of components for umap\n",
    "perplexity_range = (30, 60, 10)        # perplexity range for tsne\n",
    "learning_rate_range = (600, 1000, 200)   # learning_rate for tsne\n",
    "\n",
    "# Search different clustering resolutions\n",
    "search_clustering_parameters = True\n",
    "clustering_method = \"leiden\" #leiden/louvain\n",
    "\n",
    "# Annotate regions to genes\n",
    "GTF_PATH = \"test_data/hg38_genes.gtf\" # genes gtf file"
   ],
   "outputs": []
  },
  {
   "cell_type": "markdown",
   "id": "a0211adc",
   "metadata": {},
   "source": [
    "_______"
   ]
  },
  {
   "cell_type": "markdown",
   "id": "98c7e0f5",
   "metadata": {},
   "source": [
    "## 5 - Calculate UMAP/TSNE and find best setting"
   ]
  },
  {
   "cell_type": "markdown",
   "id": "df9fbca9",
   "metadata": {},
   "source": [
    "- NOTE: min_dist: distances between points to make the plot looks more 'clustered'\n",
    "- NOTE: spread: The effective scale of embedded points value be de default is 1"
   ]
  },
  {
   "cell_type": "code",
   "execution_count": null,
   "id": "0d6a06d8",
   "metadata": {
    "editable": false
   },
   "source": [
    "if search_parameters:\n",
    "    if embedding == \"umap\":\n",
    "        pl.embedding.search_umap_parameters(\n",
    "            adata, \n",
    "            min_dist_range=dist_range,\n",
    "            spread_range=spread_range,\n",
    "            color=condition_column,\n",
    "            n_components=n_components,\n",
    "            threads=threads,\n",
    "            save=\"UMAP_parameter_search.pdf\"\n",
    "        )\n",
    "    elif embedding == \"tsne\":\n",
    "        pl.embedding.search_tsne_parameters(\n",
    "            adata, \n",
    "            perplexity_range=perplexity_range,\n",
    "            learning_rate_range=learning_rate_range,\n",
    "            color=condition_column,\n",
    "            threads=threads,\n",
    "            save=\"TSNE_parameter_search.pdf\"\n",
    "        )"
   ],
   "outputs": []
  },
  {
   "cell_type": "markdown",
   "id": "0b357c27",
   "metadata": {},
   "source": [
    "<h1><center>⬐ Fill in input data here ⬎</center></h1>"
   ]
  },
  {
   "cell_type": "code",
   "execution_count": null,
   "id": "e0e61eb8",
   "metadata": {
    "init_cell": true
   },
   "source": [
    "%bgcolor PowderBlue\n",
    "\n",
    "# Final choice of spread / dist for umap\n",
    "min_dist = 0.2\n",
    "spread = 1.5\n",
    "\n",
    "# Final choice of perplexity_range / perplexity_range for tsne\n",
    "perplexity = 50\n",
    "learning_rate = 800"
   ],
   "outputs": []
  },
  {
   "cell_type": "markdown",
   "id": "4b99a5c2",
   "metadata": {},
   "source": [
    "_________"
   ]
  },
  {
   "cell_type": "code",
   "execution_count": null,
   "id": "c23fcea2",
   "metadata": {
    "editable": false
   },
   "source": [
    "# Calculate final embedding\n",
    "if embedding == \"umap\":\n",
    "    sc.tl.umap(adata, min_dist=min_dist, spread=spread, n_components=n_components)\n",
    "elif embedding == \"tsne\":\n",
    "    sc.tl.tsne(adata, perplexity=perplexity, learning_rate=learning_rate)"
   ],
   "outputs": []
  },
  {
   "cell_type": "markdown",
   "id": "45390df2",
   "metadata": {},
   "source": [
    "___________"
   ]
  },
  {
   "cell_type": "markdown",
   "id": "f00eba5e",
   "metadata": {},
   "source": [
    "## 6 - Cell clustering\n",
    "<hr style=\"border:2px solid black\"> </hr>\n",
    "- NOTE: resolution: controls the coarseness of the clustering. Higher values lead to more clusters."
   ]
  },
  {
   "cell_type": "code",
   "execution_count": null,
   "id": "9bb31817",
   "metadata": {
    "editable": false
   },
   "source": [
    "# plot different clustering resolutions\n",
    "if search_clustering_parameters:\n",
    "    pl.clustering.search_clustering_parameters(adata, ncols=4, method=clustering_method)"
   ],
   "outputs": []
  },
  {
   "cell_type": "markdown",
   "id": "5fa4a773",
   "metadata": {},
   "source": [
    "<h1><center>⬐ Fill in input data here ⬎</center></h1>"
   ]
  },
  {
   "cell_type": "code",
   "execution_count": null,
   "id": "7e42e84e",
   "metadata": {
    "init_cell": true
   },
   "source": [
    "%bgcolor PowderBlue\n",
    "\n",
    "# choose final resolution\n",
    "clustering_column = \"leiden_0.5\""
   ],
   "outputs": []
  },
  {
   "cell_type": "markdown",
   "id": "ae55bf17",
   "metadata": {},
   "source": [
    "_________"
   ]
  },
  {
   "cell_type": "markdown",
   "id": "6f8ae909",
   "metadata": {},
   "source": [
    "### 6.1 - Revise clustering (optional)\n",
    "Here you can use the `tools.clustering.recluster` function to iteratively adjust clustering. The two cells below are provided as a template for either *joining* clusters (first cell) or *splitting* clusters (second cell) __copy the cells as needed__. Fill in the list at the top of the respective cell to activate *joining* or *splitting*."
   ]
  },
  {
   "cell_type": "code",
   "execution_count": null,
   "id": "9cabf898",
   "metadata": {
    "init_cell": true
   },
   "source": [
    "%bgcolor PowderBlue\n",
    "# combine multiple clusters into one\n",
    "# skipped when empty\n",
    "combine = [] # add cluster names\n",
    "\n",
    "if combine:\n",
    "    tools.clustering.recluster(\n",
    "        adata=adata,\n",
    "        column=clustering_column,\n",
    "        clusters=combine,\n",
    "        task=\"join\",\n",
    "        embedding=embedding,\n",
    "        key_added=\"recluster\"\n",
    "    )\n",
    "\n",
    "    clustering_column = \"recluster\""
   ],
   "outputs": []
  },
  {
   "cell_type": "code",
   "execution_count": null,
   "id": "cd17648f",
   "metadata": {
    "init_cell": true
   },
   "source": [
    "%bgcolor PowderBlue\n",
    "# split (recluster) one or more clusters\n",
    "# skipped when empty\n",
    "split = [] # add cluster names\n",
    "resolution=0.15 # 0-1, small values create less clusters\n",
    "\n",
    "if split:\n",
    "    tools.clustering.recluster(\n",
    "        adata=adata, \n",
    "        column=clustering_column,\n",
    "        clusters=split,\n",
    "        task=\"split\",\n",
    "        resolution=resolution,\n",
    "        embedding=embedding,\n",
    "        key_added=\"recluster\"\n",
    "    )\n",
    "\n",
    "    clustering_column = \"recluster\""
   ],
   "outputs": []
  },
  {
   "cell_type": "code",
   "execution_count": null,
   "id": "dcdbf89a",
   "metadata": {},
   "source": [
    " # Create final clustering\n",
    "adata.obs[\"clustering\"] = utils.tables.rename_categories(adata.obs[clustering_column])"
   ],
   "outputs": []
  },
  {
   "cell_type": "markdown",
   "id": "835a0ce2",
   "metadata": {},
   "source": [
    "___________"
   ]
  },
  {
   "cell_type": "markdown",
   "id": "d3eacda3",
   "metadata": {},
   "source": [
    "### 6.2 - Final clustering of cells"
   ]
  },
  {
   "cell_type": "code",
   "execution_count": null,
   "id": "7008b674",
   "metadata": {
    "editable": false
   },
   "source": [
    "#Plot final leiden\n",
    "sc.pl.embedding(adata, basis=\"X_\" + embedding, color=[condition_column, \"clustering\"], show=False)\n",
    "pl.general._save_figure(\"embedding_clustering.pdf\")"
   ],
   "outputs": []
  },
  {
   "cell_type": "markdown",
   "id": "d07a391d",
   "metadata": {},
   "source": [
    "___________"
   ]
  },
  {
   "cell_type": "markdown",
   "id": "66b670fb",
   "metadata": {},
   "source": [
    "## 7 - Plot distribution of cells across clusters"
   ]
  },
  {
   "cell_type": "code",
   "execution_count": null,
   "id": "217e6f3e",
   "metadata": {
    "editable": false
   },
   "source": [
    "_ = pl.qc_filter.n_cells_barplot(\n",
    "    adata,\n",
    "    \"clustering\",\n",
    "    groupby=condition_column,\n",
    "    save=\"cell_distribution_barplot.pdf\"\n",
    ")"
   ],
   "outputs": []
  },
  {
   "cell_type": "markdown",
   "id": "9b3a83a8",
   "metadata": {},
   "source": [
    "________"
   ]
  },
  {
   "cell_type": "markdown",
   "id": "42f995f7",
   "metadata": {},
   "source": [
    "## 8 - Generating 3D Object with UMAP coordinates in HTML"
   ]
  },
  {
   "cell_type": "markdown",
   "id": "716d2371",
   "metadata": {},
   "source": [
    "<h1><center>⬐ Fill in input data here ⬎</center></h1>"
   ]
  },
  {
   "cell_type": "code",
   "execution_count": null,
   "id": "813757b1",
   "metadata": {},
   "source": [
    "%bgcolor PowderBlue\n",
    "\n",
    "#plot 3D html for the \"clustering\" adata.obs, change to individual leiden or other columns if needed\n",
    "column_3d = \"clustering\""
   ],
   "outputs": []
  },
  {
   "cell_type": "markdown",
   "id": "0874870d",
   "metadata": {},
   "source": [
    "____"
   ]
  },
  {
   "cell_type": "code",
   "execution_count": null,
   "id": "ae4091e4",
   "metadata": {
    "editable": false
   },
   "source": [
    "if embedding == \"umap\" and n_components > 2:\n",
    "    pl.embedding.plot_3D_UMAP(adata, column_3d, save=f\"umap_3d_{column_3d}\")\n",
    "    html_file = sctoolbox.settings.full_figure_prefix + f\"umap_3d_{column_3d}.html\"\n",
    "\n",
    "    from IPython.display import IFrame\n",
    "    display(IFrame(src=html_file, width=800, height=400))"
   ],
   "outputs": []
  },
  {
   "cell_type": "markdown",
   "id": "be5f870f",
   "metadata": {},
   "source": [
    "_________"
   ]
  },
  {
   "cell_type": "markdown",
   "id": "87fdaa46",
   "metadata": {},
   "source": [
    "## 9 - Annotate regions to genes\n",
    "This function uses UROPA to annotate regions to genes with a gtf file containing the genes as reference."
   ]
  },
  {
   "cell_type": "code",
   "execution_count": null,
   "id": "263ae67a",
   "metadata": {
    "editable": false
   },
   "source": [
    "tools.peak_annotation.annotate_adata(\n",
    "    adata,\n",
    "    GTF_PATH,\n",
    "    config=None,\n",
    "    best=True,\n",
    "    threads=6,\n",
    "    coordinate_cols=None,\n",
    "    temp_dir=\"tmp\",\n",
    "    inplace=True\n",
    ")"
   ],
   "outputs": []
  },
  {
   "cell_type": "code",
   "execution_count": null,
   "id": "02436807",
   "metadata": {},
   "source": [
    "adata.var"
   ],
   "outputs": []
  },
  {
   "cell_type": "markdown",
   "id": "0ee3ccf1",
   "metadata": {},
   "source": [
    "__________"
   ]
  },
  {
   "cell_type": "markdown",
   "id": "3c82fdf8",
   "metadata": {},
   "source": [
    "## 10 - Saving adata for next notebook"
   ]
  },
  {
   "cell_type": "code",
   "execution_count": null,
   "id": "2f8caffc",
   "metadata": {
    "editable": false
   },
   "source": [
    "utils.adata.save_h5ad(adata, \"anndata_4.h5ad\")"
   ],
   "outputs": []
  },
  {
   "cell_type": "code",
   "execution_count": null,
   "id": "d4a2cf3e",
   "metadata": {
    "editable": false
   },
   "source": [
    "sctoolbox.settings.close_logfile()"
   ],
   "outputs": []
  }
 ],
 "metadata": {
  "kernelspec": {
   "display_name": "sctoolbox",
   "language": "python",
   "name": "sctoolbox"
  },
  "language_info": {
   "codemirror_mode": {
    "name": "ipython",
    "version": 3
   },
   "file_extension": ".py",
   "mimetype": "text/x-python",
   "name": "python",
   "nbconvert_exporter": "python",
   "pygments_lexer": "ipython3",
   "version": "3.10.14"
  },
  "sc_framework": {
   "version": "0.9.0b"
  }
 },
 "nbformat": 4,
 "nbformat_minor": 5
}
