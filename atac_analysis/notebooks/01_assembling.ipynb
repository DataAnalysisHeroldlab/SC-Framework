{
 "cells": [
  {
   "cell_type": "markdown",
   "id": "bf52b2e2",
   "metadata": {
    "pycharm": {
     "name": "#%% md\n"
    }
   },
   "source": [
    "# Assembling\n",
    "\n",
    "This notebook is used to assemble a processable h5ad object for subsequent notebooks.\n",
    "<hr style=\"border:2px solid black\"> </hr>"
   ]
  },
  {
   "cell_type": "code",
   "execution_count": null,
   "id": "d397d25e",
   "metadata": {},
   "outputs": [],
   "source": [
    "from sctoolbox.utils import bgcolor"
   ]
  },
  {
   "cell_type": "markdown",
   "id": "c9e8b8fd",
   "metadata": {
    "pycharm": {
     "name": "#%% md\n"
    }
   },
   "source": [
    "<h1><center>⬐ Fill in input data here ⬎</center></h1>"
   ]
  },
  {
   "cell_type": "code",
   "execution_count": null,
   "id": "120c0f22",
   "metadata": {},
   "outputs": [],
   "source": [
    "%bgcolor PowderBlue\n",
    "\n",
    "################### DEFINING STRATEGY ###############################\n",
    "from_h5ad = True #option 1\n",
    "assembling_10_velocity = False #option 2\n",
    "assembling_10_public = False #option 3\n",
    "convert_seurat = False #option 4\n",
    "\n",
    "###################### INPUT DATA ###################################\n",
    "\n",
    "# For option 1: The path to an existing .h5ad file\n",
    "h5ad_file = 'test_data/scatac_pbmc.h5ad'\n",
    "coordinate_cols = ['chr', 'start', 'end'] # (list:str) columns where peak location data is stored (['chr', 'start', 'end'])\n",
    "set_index = True       # (boolean) should the adata.var index be formatted, that it matches chr:start-stop\n",
    "index_from = None    # (str) should the .var index be generated from a certain column. Otherwise this is None (SnapATAC: name)\n",
    "\n",
    "# Manually set existing QC Columns\n",
    "existing_qc_columns = []\n",
    "\n",
    "#################### Calc QC Columns ###############################\n",
    "# set available number of threads\n",
    "n_threads = 10\n",
    "\n",
    "# Step 1 & 2\n",
    "barcode_tag = 'CB' # set the tag where to find the barcode to use (only for .bam)\n",
    "\n",
    "# if Step 1, 2 or both is executed specify either a BAM file or a fragments file:\n",
    "fragments_file = 'test_data/scatac_pbmc_fragments.tsv' # specify file holding fragments information as a bamfile or fragments bedfile(recommended)\n",
    "\n",
    "# Step 1: Calc metrics related to fragment length\n",
    "calc_fragment_length_metrics = True # set True if the mean insertsize should be calculated\n",
    "\n",
    "# Step 2: Promotor-enrichment\n",
    "calc_promotor_enrichment = False # set True if the promotor-enrichment should be calculated\n",
    "# specify promotors_gtf if another promoter than the fixed ones should be used\n",
    "# if promotors is None please specify species\n",
    "promoters_gtf = None\n",
    "species = \"human\""
   ]
  },
  {
   "cell_type": "markdown",
   "id": "69f36492",
   "metadata": {},
   "source": [
    "<hr style=\"border:2px solid black\"> </hr>"
   ]
  },
  {
   "cell_type": "markdown",
   "id": "51da2387",
   "metadata": {},
   "source": [
    "----------------"
   ]
  },
  {
   "cell_type": "markdown",
   "id": "6d6dd817",
   "metadata": {
    "pycharm": {
     "name": "#%% md\n"
    }
   },
   "source": [
    "## Import modules"
   ]
  },
  {
   "cell_type": "code",
   "execution_count": null,
   "id": "c997211a",
   "metadata": {},
   "outputs": [],
   "source": [
    "# sctoolbox modules \n",
    "import sctoolbox.calc_overlap_pct as overlap\n",
    "import peakqc.fld_scoring as fld\n",
    "from sctoolbox.qc_filter import *\n",
    "from sctoolbox.atac_utils import *\n",
    "import sctoolbox.utils as utils\n",
    "\n",
    "utils.settings_from_config(\"config.yaml\", key=\"01\")"
   ]
  },
  {
   "cell_type": "markdown",
   "id": "4363ce3b",
   "metadata": {},
   "source": [
    "<hr style=\"border:2px solid black\"> </hr>"
   ]
  },
  {
   "cell_type": "markdown",
   "id": "84b9cddf",
   "metadata": {
    "pycharm": {
     "name": "#%% md\n"
    }
   },
   "source": [
    "## 1. Read in data"
   ]
  },
  {
   "cell_type": "markdown",
   "id": "7e7b43d6",
   "metadata": {
    "pycharm": {
     "name": "#%% md\n"
    }
   },
   "source": [
    "### Option 1: Read from .h5ad"
   ]
  },
  {
   "cell_type": "code",
   "execution_count": null,
   "id": "6b900535",
   "metadata": {},
   "outputs": [],
   "source": [
    "if from_h5ad:\n",
    "    \n",
    "    adata = utils.load_h5ad(h5ad_file)\n",
    "    adata = utils.prepare_atac_anndata(adata,\n",
    "                       coordinate_cols=coordinate_cols,\n",
    "                       set_index=set_index,\n",
    "                       index_from=index_from)"
   ]
  },
  {
   "cell_type": "markdown",
   "id": "746f9da5",
   "metadata": {
    "pycharm": {
     "name": "#%% md\n"
    }
   },
   "source": [
    "### Inspect adata"
   ]
  },
  {
   "cell_type": "code",
   "execution_count": null,
   "id": "9e059525",
   "metadata": {},
   "outputs": [],
   "source": [
    "display(adata)"
   ]
  },
  {
   "cell_type": "code",
   "execution_count": null,
   "id": "03c75697",
   "metadata": {},
   "outputs": [],
   "source": [
    "adata.var.head()"
   ]
  },
  {
   "cell_type": "markdown",
   "id": "b9d6d72b",
   "metadata": {},
   "source": [
    "<hr style=\"border:2px solid black\"> </hr>"
   ]
  },
  {
   "cell_type": "markdown",
   "id": "4239b145",
   "metadata": {},
   "source": [
    "------------"
   ]
  },
  {
   "cell_type": "markdown",
   "id": "3405de5d",
   "metadata": {
    "pycharm": {
     "name": "#%% md\n"
    }
   },
   "source": [
    "## 2. Calculate QC columns related to fragments"
   ]
  },
  {
   "cell_type": "markdown",
   "id": "a26513bb",
   "metadata": {
    "pycharm": {
     "name": "#%% md\n"
    }
   },
   "source": [
    "### Check barcode tag"
   ]
  },
  {
   "cell_type": "code",
   "execution_count": null,
   "id": "5a82cc77",
   "metadata": {},
   "outputs": [],
   "source": [
    "use_bam = fragments_file.endswith(\"bam\")\n",
    "if use_bam:\n",
    "    check_barcode_tag(adata, fragments_file, barcode_tag)"
   ]
  },
  {
   "cell_type": "markdown",
   "id": "e5d66924",
   "metadata": {},
   "source": [
    "### 2.1. Calc mean insertsize and count if missing "
   ]
  },
  {
   "cell_type": "code",
   "execution_count": null,
   "id": "114893bd",
   "metadata": {},
   "outputs": [],
   "source": [
    "if calc_fragment_length_metrics:\n",
    "\n",
    "    fld.add_fld_metrics(adata=adata,\n",
    "                        fragments=fragments_file,\n",
    "                        barcode_col=None,\n",
    "                        barcode_tag=\"CB\",\n",
    "                        chunk_size_bam=1000000,\n",
    "                        regions=None,\n",
    "                        peaks_thr=10,\n",
    "                        wavelength=150,\n",
    "                        sigma=0.4,\n",
    "                        plot=False,\n",
    "                        save_density=None,\n",
    "                        save_overview=None,\n",
    "                        sample=0)\n",
    "\n",
    "    adata.obs"
   ]
  },
  {
   "cell_type": "code",
   "execution_count": null,
   "id": "bd633f0e",
   "metadata": {},
   "outputs": [],
   "source": [
    "adata.obs"
   ]
  },
  {
   "cell_type": "markdown",
   "id": "5a1bfbd4",
   "metadata": {
    "pycharm": {
     "name": "#%% md\n"
    }
   },
   "source": [
    "### 2.2 Promotor enrichment "
   ]
  },
  {
   "cell_type": "code",
   "execution_count": null,
   "id": "c414cbec",
   "metadata": {},
   "outputs": [],
   "source": [
    "if calc_promotor_enrichment:\n",
    "    \n",
    "    if use_bam:\n",
    "        overlap.pct_fragments_overlap(adata, regions_file=promoters_gtf, bam_file=fragments_file, cb_col=None,\n",
    "                                  cb_tag='CB', regions_name='promoters', nproc=1, sort_bam=False, sort_regions=False, keep_fragments=False)\n",
    "    else:\n",
    "        overlap.pct_fragments_overlap(adata, regions_file=promoters_gtf, fragments_file=fragments_file, cb_col=None,\n",
    "                                  cb_tag='CB', regions_name='promoters', nproc=1, sort_bam=False, sort_regions=False, keep_fragments=False)\n",
    "\n",
    "    if calc_fragment_length_metrics:\n",
    "        adata.obs.pop('n_total_fragments')\n",
    "    else:\n",
    "        adata.obs.rename(columns={'n_total_fragments': 'genome_counts'}, inplace=True)\n",
    "        qc_columns['genome_counts'] = 'genome_counts'\n",
    "        #build_legend(adata, 'genome_counts', 'genome_counts')\n",
    "        "
   ]
  },
  {
   "cell_type": "markdown",
   "id": "277b6b29",
   "metadata": {},
   "source": [
    "-------------"
   ]
  },
  {
   "cell_type": "markdown",
   "id": "dae390c8",
   "metadata": {
    "pycharm": {
     "name": "#%% md\n"
    }
   },
   "source": [
    "## Save adata to .h5ad"
   ]
  },
  {
   "cell_type": "code",
   "execution_count": null,
   "id": "a4ec24c8",
   "metadata": {},
   "outputs": [],
   "source": [
    "#Overview of loaded adata\n",
    "display(adata)"
   ]
  },
  {
   "cell_type": "code",
   "execution_count": null,
   "id": "2598caa1",
   "metadata": {},
   "outputs": [],
   "source": [
    "#Saving the data\n",
    "adata_output = \"anndata_1.h5ad\"\n",
    "utils.save_h5ad(adata, adata_output)"
   ]
  },
  {
   "cell_type": "code",
   "execution_count": null,
   "id": "75fefb36",
   "metadata": {},
   "outputs": [],
   "source": []
  }
 ],
 "metadata": {
  "kernelspec": {
   "display_name": "sctoolbox",
   "language": "python",
   "name": "sctoolbox"
  },
  "language_info": {
   "codemirror_mode": {
    "name": "ipython",
    "version": 3
   },
   "file_extension": ".py",
   "mimetype": "text/x-python",
   "name": "python",
   "nbconvert_exporter": "python",
   "pygments_lexer": "ipython3",
   "version": "3.10.13"
  }
 },
 "nbformat": 4,
 "nbformat_minor": 5
}
