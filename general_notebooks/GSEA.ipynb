{
 "cells": [
  {
   "cell_type": "code",
   "execution_count": 7,
   "id": "20d2dd96",
   "metadata": {
    "editable": false,
    "hide_input": true,
    "init_cell": true,
    "run_control": {
     "marked": false
    }
   },
   "outputs": [
    {
     "name": "stderr",
     "output_type": "stream",
     "text": [
      "/mnt/workspace2/rwiegan/conda_envs/sctoolbox/lib/python3.10/site-packages/sctoolbox/utils/jupyter.py:106: UserWarning: The Notebook has an newer version compared to the installed sctoolbox version ({nb['metadata']['sc_framework']['version']} > {sctoolbox.__version__})\n",
      "Some function might not work!\n",
      "  warnings.warn(f\"The Notebook has an newer version compared to the installed sctoolbox version \"\n"
     ]
    }
   ],
   "source": [
    "from sctoolbox.utils.jupyter import bgcolor, _compare_version\n",
    "from sctoolbox import settings\n",
    "\n",
    "nb_name = \"GSEA.ipynb\"\n",
    "\n",
    "_compare_version(nb_name)"
   ]
  },
  {
   "cell_type": "markdown",
   "id": "92393a9a",
   "metadata": {},
   "source": [
    "# Gene Set Enrichment Analysis (GSEA)\n",
    "<hr style=\"border:2px solid black\"> </hr>"
   ]
  },
  {
   "cell_type": "markdown",
   "id": "4e8df964",
   "metadata": {},
   "source": [
    "## 1 - Description\n",
    "\n",
    "**Note: You need to have run the marker gene notebook before using the GSEA notebook!**\n",
    "\n",
    "The main function of this notebook is to get the enrichted GO pathways per cluster. For this we use the marker genes as the gene set input.  \n",
    "This notebook uses [enrichr](https://maayanlab.cloud/Enrichr/) which is implemented in [geseapy](https://github.com/zqfang/GSEApy).    \n",
    "\n",
    "Enrichr is a web-based tool for analysing gene sets and returns any enrichment of common annotated biological features.\n",
    "Enrichment analysis is a computational method for inferring knowledge about an input gene set by comparing it to annotated gene sets representing prior biological knowledge. See <https://maayanlab.cloud/Enrichr/> for further details.  \n",
    "-- https://cran.r-project.org/web/packages/enrichR/index.html"
   ]
  },
  {
   "cell_type": "markdown",
   "id": "10689dc1",
   "metadata": {},
   "source": [
    "---"
   ]
  },
  {
   "cell_type": "markdown",
   "id": "69e4730b",
   "metadata": {},
   "source": [
    "## 2 - Setup"
   ]
  },
  {
   "cell_type": "code",
   "execution_count": 8,
   "id": "4fa4f3ca",
   "metadata": {
    "editable": false,
    "hide_input": false,
    "init_cell": true,
    "run_control": {
     "marked": false
    }
   },
   "outputs": [],
   "source": [
    "import sctoolbox.utils as utils\n",
    "import sctoolbox.tools as tools\n",
    "import sctoolbox.plotting as pl\n",
    "\n",
    "import pandas as pd\n",
    "import gseapy as gp\n",
    "import tqdm\n",
    "import matplotlib.pyplot as plt"
   ]
  },
  {
   "cell_type": "markdown",
   "id": "2ed04507",
   "metadata": {},
   "source": [
    "---"
   ]
  },
  {
   "cell_type": "markdown",
   "id": "f915d7d2",
   "metadata": {},
   "source": [
    "## 3 - General Input"
   ]
  },
  {
   "cell_type": "markdown",
   "id": "a1019ece",
   "metadata": {},
   "source": [
    "<h1><center>⬐ Fill in input data here ⬎</center></h1>"
   ]
  },
  {
   "cell_type": "code",
   "execution_count": 9,
   "id": "e4652c78",
   "metadata": {
    "init_cell": true,
    "run_control": {
     "marked": false
    }
   },
   "outputs": [
    {
     "data": {
      "text/html": [
       "<img src onerror=\"\n",
       "                var cell = this.closest('.code_cell');\n",
       "                var editor = cell.querySelector('.CodeMirror-sizer');\n",
       "                editor.style.background='PowderBlue';\n",
       "                this.parentNode.removeChild(this)\n",
       "                \">"
      ],
      "text/plain": [
       "<IPython.core.display.HTML object>"
      ]
     },
     "metadata": {},
     "output_type": "display_data"
    },
    {
     "name": "stdout",
     "output_type": "stream",
     "text": [
      "[WARNING] Log file '../logs/GSEA_log.txt' already exists. Logging messages will be appended to file. Set overwrite_log=True to overwrite the file.\n"
     ]
    }
   ],
   "source": [
    "%bgcolor PowderBlue\n",
    "\n",
    "# sctoolbox settings\n",
    "settings.adata_input_dir = \"../adatas/\"\n",
    "settings.adata_output_dir = \"../adatas/\"\n",
    "settings.figure_dir = \"../figures/GSEA/\"\n",
    "settings.log_file = \"../logs/GSEA_log.txt\"\n",
    "last_notebook_adata = \"anndata_0A.h5ad\"\n",
    "\n",
    "organism = \"human\"\n",
    "\n",
    "# key for marker table in adata.uns\n",
    "marker_key = \"rank_genes_leiden_0.1_filtered\" \n",
    "pvals_adj_tresh = 0.05"
   ]
  },
  {
   "cell_type": "markdown",
   "id": "ab688743",
   "metadata": {},
   "source": [
    "---"
   ]
  },
  {
   "cell_type": "markdown",
   "id": "503e8ea0",
   "metadata": {},
   "source": [
    "## 4 - Load anndata"
   ]
  },
  {
   "cell_type": "code",
   "execution_count": null,
   "id": "e04f020c",
   "metadata": {
    "editable": false,
    "hide_input": false,
    "run_control": {
     "marked": false
    }
   },
   "outputs": [],
   "source": [
    "adata = utils.adata.load_h5ad(last_notebook_adata)\n",
    "\n",
    "with pd.option_context(\"display.max.rows\", 5, \"display.max.columns\", None):\n",
    "    display(adata)\n",
    "    display(adata.obs)\n",
    "    display(adata.var)"
   ]
  },
  {
   "cell_type": "markdown",
   "id": "0ed3cadf",
   "metadata": {},
   "source": [
    "---"
   ]
  },
  {
   "cell_type": "markdown",
   "id": "ad742c46",
   "metadata": {},
   "source": [
    "## 5 - Select library\n",
    "\n",
    "**Molecular Function**  \n",
    "Molecular-level activities performed by gene products. Molecular function terms describe activities that occur at the molecular level, such as “catalysis” or “transport”. GO molecular function terms represent activities rather than the entities (molecules or complexes) that perform the actions, and do not specify where, when, or in what context the action takes place. Molecular functions generally correspond to activities that can be performed by individual gene products (i.e. a protein or RNA), but some activities are performed by molecular complexes composed of multiple gene products. Examples of broad functional terms are catalytic activity and transporter activity; examples of narrower functional terms are adenylate cyclase activity or Toll-like receptor binding. To avoid confusion between gene product names and their molecular functions, GO molecular functions are often appended with the word “activity” (a protein kinase would have the GO molecular function protein kinase activity).  \n",
    "\n",
    "**Cellular Component**  \n",
    "A location, relative to cellular compartments and structures, occupied by a macromolecular machine. There are two ways in which the gene ontology describes locations of gene products: (1) the cellular anatomical entities, in which a gene product carries out a molecular function. Cellular anatomical entities includes cellular structures such as the plasma membrane and the cytoskeleton, as well as membrane-enclosed cellular compartments such as the mitochondrion, and (2) the stable macromolecular complexes of which they are parts, e.g., the clathrin complex.  \n",
    "\n",
    "**Biological Process**  \n",
    "The larger processes, or ‘biological programs’ accomplished by multiple molecular activities. Examples of broad biological process terms are DNA repair or signal transduction. Examples of more specific terms are pyrimidine nucleobase biosynthetic process or glucose transmembrane transport. Note that a biological process is not equivalent to a pathway. At present, the GO does not try to represent the dynamics or dependencies that would be required to fully describe a pathway.\n",
    "\n",
    "-- https://geneontology.org/docs/ontology-documentation/"
   ]
  },
  {
   "cell_type": "markdown",
   "id": "b032a15f",
   "metadata": {},
   "source": [
    "**List of available librarys**"
   ]
  },
  {
   "cell_type": "code",
   "execution_count": null,
   "id": "df973f2c",
   "metadata": {
    "editable": false,
    "hide_input": false,
    "run_control": {
     "marked": false
    }
   },
   "outputs": [],
   "source": [
    "[db for db in gp.get_library_name(organism) if db.startswith(\"GO\")]"
   ]
  },
  {
   "cell_type": "markdown",
   "id": "2b70d7b8",
   "metadata": {},
   "source": [
    "<h1><center>⬐ Fill in input data here ⬎</center></h1>"
   ]
  },
  {
   "cell_type": "code",
   "execution_count": 10,
   "id": "55e87875",
   "metadata": {
    "init_cell": true,
    "run_control": {
     "marked": false
    }
   },
   "outputs": [
    {
     "data": {
      "text/html": [
       "<img src onerror=\"\n",
       "                var cell = this.closest('.code_cell');\n",
       "                var editor = cell.querySelector('.CodeMirror-sizer');\n",
       "                editor.style.background='PowderBlue';\n",
       "                this.parentNode.removeChild(this)\n",
       "                \">"
      ],
      "text/plain": [
       "<IPython.core.display.HTML object>"
      ]
     },
     "metadata": {},
     "output_type": "display_data"
    }
   ],
   "source": [
    "%bgcolor PowderBlue\n",
    "\n",
    "# Choose public library to use\n",
    "library_name = \"GO_Biological_Process_2023\"\n",
    "\n",
    "# If custom gene sets and background should be used set here.\n",
    "# The public library will be ignored if custom_gene_set is given.\n",
    "# To use a custom background for the public gene set library only set custom_background.\n",
    "custom_gene_set = None     # {\"Pathway 1\": [\"Gene1\", \"Gene2\",...], ...}\n",
    "custom_background = None   # [\"Gene 1\", \"Gene 2\", ....]"
   ]
  },
  {
   "cell_type": "markdown",
   "id": "c8607357",
   "metadata": {},
   "source": [
    "---"
   ]
  },
  {
   "cell_type": "markdown",
   "id": "f76163fb",
   "metadata": {},
   "source": [
    "## 6 - Run enrichr"
   ]
  },
  {
   "cell_type": "code",
   "execution_count": null,
   "id": "ac249567",
   "metadata": {
    "editable": false,
    "hide_input": false,
    "run_control": {
     "marked": false
    }
   },
   "outputs": [],
   "source": [
    "combined = tools.gsea.enrichr_marker_genes(adata,\n",
    "                                           marker_key=marker_key,\n",
    "                                           organism=organism,\n",
    "                                           pvals_adj_tresh=pvals_adj_tresh,\n",
    "                                           gene_sets=custom_gene_set,\n",
    "                                           background=custom_background,\n",
    "                                           library_name=library_name)"
   ]
  },
  {
   "cell_type": "markdown",
   "id": "e62e582b",
   "metadata": {},
   "source": [
    "---"
   ]
  },
  {
   "cell_type": "markdown",
   "id": "b530ff0c",
   "metadata": {},
   "source": [
    "## 7 - Plotting\n",
    "<hr style=\"border:2px solid black\"> </hr>"
   ]
  },
  {
   "cell_type": "markdown",
   "id": "d64ce8ea",
   "metadata": {},
   "source": [
    "### 7.1 - Dotplot\n",
    "\n",
    "The dotplot shows all pathways as dots per cluster.  \n",
    "The size of the dot indicates the fraction of genes in the cluster that match the pathway.  \n",
    "The color of the dot indicates the adjusted p-value."
   ]
  },
  {
   "cell_type": "markdown",
   "id": "8dd7ae48",
   "metadata": {},
   "source": [
    "<h1><center>⬐ Fill in input data here ⬎</center></h1>"
   ]
  },
  {
   "cell_type": "code",
   "execution_count": 11,
   "id": "b6f664b8",
   "metadata": {
    "init_cell": true,
    "run_control": {
     "marked": false
    }
   },
   "outputs": [
    {
     "data": {
      "text/html": [
       "<img src onerror=\"\n",
       "                var cell = this.closest('.code_cell');\n",
       "                var editor = cell.querySelector('.CodeMirror-sizer');\n",
       "                editor.style.background='PowderBlue';\n",
       "                this.parentNode.removeChild(this)\n",
       "                \">"
      ],
      "text/plain": [
       "<IPython.core.display.HTML object>"
      ]
     },
     "metadata": {},
     "output_type": "display_data"
    }
   ],
   "source": [
    "%bgcolor PowderBlue\n",
    "\n",
    "# Dotplot\n",
    "figsize = (8, 20) # Set figure size for dotplot\n",
    "top_term = 10     # Number of pathways shown per cluster\n",
    "size = 5          # Size scale for dots"
   ]
  },
  {
   "cell_type": "markdown",
   "id": "670fa1d4",
   "metadata": {},
   "source": [
    "---"
   ]
  },
  {
   "cell_type": "code",
   "execution_count": null,
   "id": "9e83d85c",
   "metadata": {
    "editable": false,
    "hide_input": false,
    "run_control": {
     "marked": false
    }
   },
   "outputs": [],
   "source": [
    "for reg in [\"UP\", \"DOWN\"]:\n",
    "    comb = combined[combined[\"UP_DW\"] == reg]\n",
    "    if not comb.empty:\n",
    "        ax = gp.dotplot(comb,\n",
    "                        figsize=figsize,\n",
    "                        x='Cluster',\n",
    "                        title=f\"Top {top_term} {reg} regulated Pathways per Cluster\",\n",
    "                        cmap = plt.cm.autumn_r,\n",
    "                        size=size,\n",
    "                        show_ring=True,\n",
    "                        top_term=top_term,\n",
    "                        xticklabels_rot=45\n",
    "                       )\n",
    "        ax.set_xlabel(\"\")\n",
    "        plt.tight_layout()\n",
    "        plt.savefig(f\"{settings.figure_dir}/GSEA_dotplot_top{top_term}_{reg}_pathways_per_cluster.pdf\", dpi=300)"
   ]
  },
  {
   "cell_type": "markdown",
   "id": "6c3dbf20",
   "metadata": {},
   "source": [
    "---"
   ]
  },
  {
   "cell_type": "markdown",
   "id": "2ae4f657",
   "metadata": {},
   "source": [
    "### 7.2 - Term dotplot\n",
    "The term dotplot only focuses on one term/pathway.\n",
    "It shows the mean gene expression and zscore per group."
   ]
  },
  {
   "cell_type": "markdown",
   "id": "73aefe2d",
   "metadata": {},
   "source": [
    "<h1><center>⬐ Fill in input data here ⬎</center></h1>"
   ]
  },
  {
   "cell_type": "code",
   "execution_count": 12,
   "id": "705fb9e9",
   "metadata": {
    "init_cell": true,
    "run_control": {
     "marked": false
    }
   },
   "outputs": [
    {
     "data": {
      "text/html": [
       "<img src onerror=\"\n",
       "                var cell = this.closest('.code_cell');\n",
       "                var editor = cell.querySelector('.CodeMirror-sizer');\n",
       "                editor.style.background='PowderBlue';\n",
       "                this.parentNode.removeChild(this)\n",
       "                \">"
      ],
      "text/plain": [
       "<IPython.core.display.HTML object>"
      ]
     },
     "metadata": {},
     "output_type": "display_data"
    }
   ],
   "source": [
    "%bgcolor PowderBlue\n",
    "\n",
    "# Term dotplot\n",
    "term = \"Actin Filament Organization (GO:0007015)\"               # GO term\n",
    "groupby = \"clustering\"            # Key of group column e.g. 'clustering'\n",
    "groups = None           # Subset on groups\n",
    "figsize_term_dot = None # Set figure size for term dotplot\n",
    "save_term_dot = f\"term_dotplot_{term}_{groupby}.pdf\""
   ]
  },
  {
   "cell_type": "markdown",
   "id": "d1bbd9b5",
   "metadata": {},
   "source": [
    "---"
   ]
  },
  {
   "cell_type": "code",
   "execution_count": null,
   "id": "32b0cca2",
   "metadata": {
    "editable": false,
    "hide_input": false,
    "run_control": {
     "marked": false
    }
   },
   "outputs": [],
   "source": [
    "if term:\n",
    "    pl.gsea.term_dotplot(term=term,\n",
    "                         term_table=combined[combined[\"UP_DW\"] == \"UP\"],\n",
    "                         adata=adata,\n",
    "                         groupby=groupby,\n",
    "                         groups=groups,\n",
    "                         figsize=figsize_term_dot,\n",
    "                         save=save_term_dot)"
   ]
  }
 ],
 "metadata": {
  "kernelspec": {
   "display_name": "sctoolbox",
   "language": "python",
   "name": "sctoolbox"
  },
  "language_info": {
   "codemirror_mode": {
    "name": "ipython",
    "version": 3
   },
   "file_extension": ".py",
   "mimetype": "text/x-python",
   "name": "python",
   "nbconvert_exporter": "python",
   "pygments_lexer": "ipython3",
   "version": "3.10.14"
  },
  "sc_framework": {
   "version": "0.9.0b"
  }
 },
 "nbformat": 4,
 "nbformat_minor": 5
}
