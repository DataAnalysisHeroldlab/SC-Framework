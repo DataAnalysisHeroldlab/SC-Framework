{
 "cells": [
  {
   "cell_type": "code",
   "execution_count": null,
   "id": "b5493446",
   "metadata": {
    "hide_input": true,
    "init_cell": true,
    "run_control": {
     "marked": false
    }
   },
   "outputs": [],
   "source": [
    "from sctoolbox.utils.jupyter import bgcolor"
   ]
  },
  {
   "cell_type": "markdown",
   "id": "de917d11",
   "metadata": {},
   "source": [
    "# Gene Set Enrichment Analysis (GSEA)\n",
    "<hr style=\"border:2px solid black\"> </hr>"
   ]
  },
  {
   "cell_type": "markdown",
   "id": "7d3ee3ed",
   "metadata": {},
   "source": [
    "## 1 - Description\n",
    "\n",
    "**Note: You need to have run the marker gene notebook before using the GSEA notebook**\n",
    "\n",
    "The main function of this notebook is to get the enrichted GO pathways per cluster. For this we use the marker genes as the gene set input.  \n",
    "This notebook uses [enrichr](https://maayanlab.cloud/Enrichr/) which is implemented in [geseapy](https://github.com/zqfang/GSEApy).    \n",
    "\n",
    "`The enrichr module enable you perform gene set enrichment analysis using Enrichr API. Enrichr is open source and freely available online at: http://amp.pharm.mssm.edu/Enrichr . It runs very fast.` - GSEApy docu"
   ]
  },
  {
   "cell_type": "markdown",
   "id": "94baeeab",
   "metadata": {},
   "source": [
    "---"
   ]
  },
  {
   "cell_type": "markdown",
   "id": "49952c7d",
   "metadata": {},
   "source": [
    "## 2 - Setup"
   ]
  },
  {
   "cell_type": "code",
   "execution_count": null,
   "id": "4bc04591",
   "metadata": {},
   "outputs": [],
   "source": [
    "import sctoolbox.utils as utils\n",
    "import sctoolbox.tools as tools\n",
    "from sctoolbox import settings\n",
    "\n",
    "import pandas as pd\n",
    "import gseapy as gp\n",
    "import tqdm\n",
    "import matplotlib.pyplot as plt"
   ]
  },
  {
   "cell_type": "markdown",
   "id": "e32b9089",
   "metadata": {},
   "source": [
    "---"
   ]
  },
  {
   "cell_type": "markdown",
   "id": "bbfebf1b",
   "metadata": {},
   "source": [
    "## 3 - General Input"
   ]
  },
  {
   "cell_type": "code",
   "execution_count": null,
   "id": "183c07b3",
   "metadata": {
    "init_cell": true
   },
   "outputs": [],
   "source": [
    "%bgcolor PowderBlue\n",
    "\n",
    "# sctoolbox settings\n",
    "settings.adata_input_dir = \"../adatas/\"\n",
    "settings.adata_output_dir = \"../adatas/\"\n",
    "settings.figure_dir = \"../figures/GSEA/\"\n",
    "settings.log_file = \"../logs/GSEA_log.txt\"\n",
    "last_notebook_adata = \"anndata_5.h5ad\"\n",
    "\n",
    "organism = \"human\"\n",
    "\n",
    "# key for marker table in adata.uns\n",
    "marker_key = \"rank_genes_leiden_0.1_filtered\" \n",
    "pvals_adj_tresh = 0.05"
   ]
  },
  {
   "cell_type": "markdown",
   "id": "a04002db",
   "metadata": {},
   "source": [
    "---"
   ]
  },
  {
   "cell_type": "markdown",
   "id": "3f926064",
   "metadata": {},
   "source": [
    "## 4 - Load anndata"
   ]
  },
  {
   "cell_type": "code",
   "execution_count": null,
   "id": "22f05414",
   "metadata": {},
   "outputs": [],
   "source": [
    "adata = utils.adata.load_h5ad(last_notebook_adata)\n",
    "\n",
    "with pd.option_context(\"display.max.rows\", 5, \"display.max.columns\", None):\n",
    "    display(adata)\n",
    "    display(adata.obs)\n",
    "    display(adata.var)"
   ]
  },
  {
   "cell_type": "markdown",
   "id": "35f275ab",
   "metadata": {},
   "source": [
    "---"
   ]
  },
  {
   "cell_type": "markdown",
   "id": "1bd8ae53",
   "metadata": {},
   "source": [
    "## 5 - Select library"
   ]
  },
  {
   "cell_type": "code",
   "execution_count": null,
   "id": "d191e6f4",
   "metadata": {
    "scrolled": true
   },
   "outputs": [],
   "source": [
    "[db for db in gp.get_library_name(organism) if db.startswith(\"GO\")]"
   ]
  },
  {
   "cell_type": "code",
   "execution_count": null,
   "id": "49b40e23",
   "metadata": {
    "init_cell": true
   },
   "outputs": [],
   "source": [
    "%bgcolor PowderBlue\n",
    "\n",
    "library_name = \"GO_Biological_Process_2023\""
   ]
  },
  {
   "cell_type": "code",
   "execution_count": null,
   "id": "e1121d4a",
   "metadata": {},
   "outputs": [],
   "source": [
    "## download a library or read a .gmt file\n",
    "go_mf = gp.get_library(name=library_name, organism=organism)\n",
    "# list of all genes as background\n",
    "flat_list = set([item for sublist in go_mf.values() for item in sublist])"
   ]
  },
  {
   "cell_type": "markdown",
   "id": "1bb1138d",
   "metadata": {},
   "source": [
    "---"
   ]
  },
  {
   "cell_type": "markdown",
   "id": "70a9bd91",
   "metadata": {},
   "source": [
    "## 7 - Run enrichr"
   ]
  },
  {
   "cell_type": "code",
   "execution_count": null,
   "id": "4cbe7786",
   "metadata": {},
   "outputs": [],
   "source": [
    "combined = tools.gsea.enrichr_marker_genes(adata,\n",
    "                                           marker_key = marker_key,\n",
    "                                           gene_sets = go_mf,\n",
    "                                           organism = organsim,\n",
    "                                           background = flat_list,\n",
    "                                           pvals_adj_tresh = pvals_adj_tresh)"
   ]
  },
  {
   "cell_type": "markdown",
   "id": "77019754",
   "metadata": {},
   "source": [
    "---"
   ]
  },
  {
   "cell_type": "markdown",
   "id": "091997c4",
   "metadata": {},
   "source": [
    "## 8 - Plotting"
   ]
  },
  {
   "cell_type": "code",
   "execution_count": null,
   "id": "045a0b57",
   "metadata": {
    "init_cell": true
   },
   "outputs": [],
   "source": [
    "%bgcolor PowderBlue\n",
    "\n",
    "# Dotplot\n",
    "figsize = (8, 20)\n",
    "top_term = 10\n",
    "\n",
    "size = 5"
   ]
  },
  {
   "cell_type": "code",
   "execution_count": null,
   "id": "30eea7b8",
   "metadata": {
    "scrolled": true
   },
   "outputs": [],
   "source": [
    "for reg in [\"UP\", \"DOWN\"]:\n",
    "    comb = combined[combined[\"UP_DW\"] == reg]\n",
    "    if not comb.empty:\n",
    "        ax = gp.dotplot(comb,\n",
    "                        figsize=figsize,\n",
    "                        x='Cluster',\n",
    "                        title=f\"Top {top_term} {reg} regulated Pathways per Cluster\",\n",
    "                        cmap = plt.cm.autumn_r,\n",
    "                        size=size,\n",
    "                        show_ring=True,\n",
    "                        top_term=top_term,\n",
    "                        xticklabels_rot=45\n",
    "                       )\n",
    "        ax.set_xlabel(\"\")\n",
    "        plt.tight_layout()\n",
    "        plt.savefig(f\"{settings.figure_dir}/GSEA_dotplot_top{top_term}_{reg}_pathways_per_cluster.pdf\", dpi=300)"
   ]
  },
  {
   "cell_type": "markdown",
   "id": "57f96f99",
   "metadata": {},
   "source": [
    "---"
   ]
  }
 ],
 "metadata": {
  "kernelspec": {
   "display_name": "sctoolbox",
   "language": "python",
   "name": "sctoolbox"
  },
  "language_info": {
   "codemirror_mode": {
    "name": "ipython",
    "version": 3
   },
   "file_extension": ".py",
   "mimetype": "text/x-python",
   "name": "python",
   "nbconvert_exporter": "python",
   "pygments_lexer": "ipython3",
   "version": "3.10.14"
  }
 },
 "nbformat": 4,
 "nbformat_minor": 5
}
