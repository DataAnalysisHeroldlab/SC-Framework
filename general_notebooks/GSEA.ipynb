{
 "cells": [
  {
   "cell_type": "code",
   "execution_count": null,
   "id": "5e750f55",
   "metadata": {
    "init_cell": true
   },
   "outputs": [],
   "source": [
    "from sctoolbox.utils.jupyter import bgcolor"
   ]
  },
  {
   "cell_type": "markdown",
   "id": "51ce2394",
   "metadata": {},
   "source": [
    "# Gene Set Enrichment Analysis (GSEA)\n",
    "<hr style=\"border:2px solid black\"> </hr>"
   ]
  },
  {
   "cell_type": "markdown",
   "id": "b83256e8",
   "metadata": {},
   "source": [
    "## 1 - Description\n",
    "\n",
    "**Note: You need to have run the marker gene notebook before using the GSEA notebook**\n",
    "\n",
    "The main function of this notebook is to get the enrichted GO pathways per cluster. For this we use the marker genes as the gene set input.  \n",
    "This notebook uses [enrichr](https://maayanlab.cloud/Enrichr/) which is implemented in [geseapy](https://github.com/zqfang/GSEApy).    \n",
    "\n",
    "`The enrichr module enable you perform gene set enrichment analysis using Enrichr API. Enrichr is open source and freely available online at: http://amp.pharm.mssm.edu/Enrichr . It runs very fast.` - GSEApy docu"
   ]
  },
  {
   "cell_type": "markdown",
   "id": "3f0f5f1b",
   "metadata": {},
   "source": [
    "---"
   ]
  },
  {
   "cell_type": "markdown",
   "id": "836e3ea4",
   "metadata": {},
   "source": [
    "## 2 - Setup"
   ]
  },
  {
   "cell_type": "code",
   "execution_count": null,
   "id": "6673a51e",
   "metadata": {},
   "outputs": [],
   "source": [
    "import sctoolbox.utils as utils\n",
    "import sctoolbox.tools as tools\n",
    "from sctoolbox import settings\n",
    "\n",
    "import pandas as pd\n",
    "import gseapy as gp\n",
    "import tqdm\n",
    "import matplotlib.pyplot as plt"
   ]
  },
  {
   "cell_type": "markdown",
   "id": "8658a66e",
   "metadata": {},
   "source": [
    "---"
   ]
  },
  {
   "cell_type": "markdown",
   "id": "e7408298",
   "metadata": {},
   "source": [
    "## 3 - General Input"
   ]
  },
  {
   "cell_type": "code",
   "execution_count": null,
   "id": "2d2b20f4",
   "metadata": {
    "init_cell": true
   },
   "outputs": [],
   "source": [
    "%bgcolor PowderBlue\n",
    "\n",
    "# sctoolbox settings\n",
    "settings.adata_input_dir = \"../adatas/\"\n",
    "settings.adata_output_dir = \"../adatas/\"\n",
    "settings.figure_dir = \"../figures/GSEA/\"\n",
    "settings.log_file = \"../logs/GSEA_log.txt\"\n",
    "last_notebook_adata = \"anndata_5.h5ad\"\n",
    "\n",
    "organism = \"human\"\n",
    "\n",
    "# key for marker table in adata.uns\n",
    "marker_key = \"rank_genes_leiden_0.1_filtered\" \n",
    "pvals_adj_tresh = 0.05"
   ]
  },
  {
   "cell_type": "markdown",
   "id": "22f9ac84",
   "metadata": {},
   "source": [
    "---"
   ]
  },
  {
   "cell_type": "markdown",
   "id": "221b0a1f",
   "metadata": {},
   "source": [
    "## 4 - Load anndata"
   ]
  },
  {
   "cell_type": "code",
   "execution_count": null,
   "id": "2c110ef3",
   "metadata": {},
   "outputs": [],
   "source": [
    "adata = utils.adata.load_h5ad(last_notebook_adata)\n",
    "\n",
    "with pd.option_context(\"display.max.rows\", 5, \"display.max.columns\", None):\n",
    "    display(adata)\n",
    "    display(adata.obs)\n",
    "    display(adata.var)"
   ]
  },
  {
   "cell_type": "markdown",
   "id": "7af07146",
   "metadata": {},
   "source": [
    "---"
   ]
  },
  {
   "cell_type": "markdown",
   "id": "8ea6a0c5",
   "metadata": {},
   "source": [
    "## 5 - Get marker"
   ]
  },
  {
   "cell_type": "code",
   "execution_count": null,
   "id": "b7b146fa",
   "metadata": {
    "scrolled": true
   },
   "outputs": [],
   "source": [
    "if marker_key in adata.uns:\n",
    "    marker_tables = tools.marker_genes.get_rank_genes_tables(adata,\n",
    "                                                            out_group_fractions=True,\n",
    "                                                            key=marker_key)\n",
    "else:\n",
    "    raise KeyError(\"Marker key not found! Please check parameter!\")"
   ]
  },
  {
   "cell_type": "markdown",
   "id": "99da4935",
   "metadata": {},
   "source": [
    "---"
   ]
  },
  {
   "cell_type": "markdown",
   "id": "b93d8b17",
   "metadata": {},
   "source": [
    "## 6 - Select library"
   ]
  },
  {
   "cell_type": "code",
   "execution_count": null,
   "id": "a22afb78",
   "metadata": {},
   "outputs": [],
   "source": [
    "[db for db in gp.get_library_name(organism) if db.startswith(\"GO\")]"
   ]
  },
  {
   "cell_type": "code",
   "execution_count": null,
   "id": "ba2fddb8",
   "metadata": {
    "init_cell": true
   },
   "outputs": [],
   "source": [
    "%bgcolor PowderBlue\n",
    "\n",
    "library_name = \"GO_Biological_Process_2023\""
   ]
  },
  {
   "cell_type": "code",
   "execution_count": null,
   "id": "3dccaf4f",
   "metadata": {},
   "outputs": [],
   "source": [
    "## download a library or read a .gmt file\n",
    "go_mf = gp.get_library(name=library_name, organism=organism)\n",
    "# list of all genes as background\n",
    "flat_list = set([item for sublist in go_mf.values() for item in sublist])"
   ]
  },
  {
   "cell_type": "markdown",
   "id": "f38de021",
   "metadata": {},
   "source": [
    "---"
   ]
  },
  {
   "cell_type": "markdown",
   "id": "d1c37ed0",
   "metadata": {},
   "source": [
    "## 7 - Run enrichr"
   ]
  },
  {
   "cell_type": "code",
   "execution_count": null,
   "id": "16836498",
   "metadata": {},
   "outputs": [],
   "source": [
    "path_enr = {}\n",
    "\n",
    "for ct, table in tqdm.tqdm(marker_tables.items()):    \n",
    "    # subset up or down regulated genes\n",
    "    degs_sig = table[table[\"pvals_adj\"] < pvals_adj_tresh]\n",
    "    degs_up = degs_sig[degs_sig[\"logfoldchanges\"] > 0]\n",
    "    degs_dw = degs_sig[degs_sig[\"logfoldchanges\"] < 0]\n",
    "    up_2D, dw_2D = None, None\n",
    "    \n",
    "    try:\n",
    "        # Enricr API\n",
    "\n",
    "        if len(degs_up) > 0 :\n",
    "            enr_up = gp.enrichr(list(degs_up[\"names\"].str.upper()),\n",
    "                                gene_sets=go_mf,\n",
    "                                organism=organism,\n",
    "                                background=flat_list,\n",
    "                                outdir=None,\n",
    "                                no_plot=True,\n",
    "                                verbose=False)\n",
    "            enr_up.res2d['UP_DW'] = \"UP\"\n",
    "            up_2D = enr_up.res2d\n",
    "        if len(degs_dw) > 0:\n",
    "            enr_dw = gp.enrichr(list(degs_dw[\"names\"].str.upper()),\n",
    "                                gene_sets=go_mf,\n",
    "                                organism=organism,\n",
    "                                background=flat_list,\n",
    "                                outdir=None,\n",
    "                                no_plot=True,\n",
    "                                verbose=False)\n",
    "            enr_dw.res2d['UP_DW'] = \"DOWN\"\n",
    "            dw_2D = enr_dw.res2d\n",
    "\n",
    "        # concat results\n",
    "        path_enr[ct] = pd.concat([up_2D, dw_2D])\n",
    "        path_enr[ct][\"Cluster\"] = ct\n",
    "    except:\n",
    "        display(ct)\n",
    "# Get combined table\n",
    "combined = pd.concat(path_enr.values())"
   ]
  },
  {
   "cell_type": "markdown",
   "id": "0da3ee61",
   "metadata": {},
   "source": [
    "---"
   ]
  },
  {
   "cell_type": "markdown",
   "id": "e9fa94f6",
   "metadata": {},
   "source": [
    "## 8 - Plotting"
   ]
  },
  {
   "cell_type": "code",
   "execution_count": null,
   "id": "bcb7d997",
   "metadata": {
    "init_cell": true
   },
   "outputs": [],
   "source": [
    "%bgcolor PowderBlue\n",
    "\n",
    "# Dotplot\n",
    "figsize = (8, 20)\n",
    "top_term = 10\n",
    "\n",
    "size = 5"
   ]
  },
  {
   "cell_type": "code",
   "execution_count": null,
   "id": "5f2039e7",
   "metadata": {
    "scrolled": true
   },
   "outputs": [],
   "source": [
    "for reg in [\"UP\", \"DOWN\"]:\n",
    "    comb = combined[combined[\"UP_DW\"] == reg]\n",
    "    if not comb.empty:\n",
    "        ax = gp.dotplot(comb,\n",
    "                        figsize=figsize,\n",
    "                        x='Cluster',\n",
    "                        title=f\"Top {top_term} {reg} regulated Pathways per Cluster\",\n",
    "                        cmap = plt.cm.autumn_r,\n",
    "                        size=size,\n",
    "                        show_ring=True,\n",
    "                        top_term=top_term,\n",
    "                        xticklabels_rot=45\n",
    "                       )\n",
    "        ax.set_xlabel(\"\")\n",
    "        plt.tight_layout()\n",
    "        plt.savefig(f\"{settings.figure_dir}/GSEA_dotplot_top{top_term}_{reg}_pathways_per_cluster.pdf\", dpi=300)"
   ]
  },
  {
   "cell_type": "markdown",
   "id": "192a972d",
   "metadata": {},
   "source": [
    "---"
   ]
  }
 ],
 "metadata": {
  "kernelspec": {
   "display_name": "sctoolbox",
   "language": "python",
   "name": "sctoolbox"
  },
  "language_info": {
   "codemirror_mode": {
    "name": "ipython",
    "version": 3
   },
   "file_extension": ".py",
   "mimetype": "text/x-python",
   "name": "python",
   "nbconvert_exporter": "python",
   "pygments_lexer": "ipython3",
   "version": "3.10.14"
  }
 },
 "nbformat": 4,
 "nbformat_minor": 5
}
