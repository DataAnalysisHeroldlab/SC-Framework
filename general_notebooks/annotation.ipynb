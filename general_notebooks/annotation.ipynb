{
 "cells": [
  {
   "cell_type": "code",
   "execution_count": null,
   "id": "f8b37d85",
   "metadata": {},
   "outputs": [],
   "source": [
    "from sctoolbox.utilities import bgcolor"
   ]
  },
  {
   "cell_type": "markdown",
   "id": "0f123ffb",
   "metadata": {},
   "source": [
    "# Cell type annotation\n",
    "<hr style=\"border:2px solid black\"> </hr>"
   ]
  },
  {
   "cell_type": "markdown",
   "id": "234cd969",
   "metadata": {},
   "source": [
    "<h1><center>⬐ Fill in input data here ⬎</center></h1>"
   ]
  },
  {
   "cell_type": "code",
   "execution_count": null,
   "id": "1612d966",
   "metadata": {},
   "outputs": [],
   "source": [
    "%bgcolor PowderBlue\n",
    "\n",
    "#Final clustering column to use for cell type assignment\n",
    "clustering_col = \"leiden\"\n",
    "\n",
    "#Name of column to add with the final cell type annotation\n",
    "celltype_column_name = \"pred_celltype\"\n",
    "\n",
    "#List of marker list paths\n",
    "marker_lists = None"
   ]
  },
  {
   "cell_type": "markdown",
   "id": "8ff3283b",
   "metadata": {},
   "source": [
    "Fill out the following cell only if no marker list has been specified and you wish to assemble marker lists using the MarkerRepo."
   ]
  },
  {
   "cell_type": "code",
   "execution_count": null,
   "id": "68049ca1",
   "metadata": {},
   "outputs": [],
   "source": [
    "%bgcolor Yellow\n",
    "\n",
    "#Assemble marker lists from MarkerRepo using specified search terms (values) for targeted columns (keys)\n",
    "#If none, marker lists can be interactively assembled\n",
    "column_specific_terms = {\"Organism name\": \"human\", \"Source\": \"panglao.se\"}\n",
    "\n",
    "#File name of assembled marker list\n",
    "file_name = \"marker_list\"\n",
    "\n",
    "#Specify whether your index of the .var tables are ensembl IDs (True) or gene symbols (False)\n",
    "ensembl = False\n",
    "\n",
    "#The style of the marker list: \"two_column\" or \"score\", which adds an extra column with a marker weight\n",
    "style = \"two_column\"\n",
    "\n",
    "#Path of MarkerRepo\n",
    "repo_path = \"/mnt/workspace/mkessle/projects/annotate_by_marker_and_features\""
   ]
  },
  {
   "cell_type": "markdown",
   "id": "228603de",
   "metadata": {},
   "source": [
    "<hr style=\"border:2px solid black\"> </hr>"
   ]
  },
  {
   "cell_type": "markdown",
   "id": "c33b11ce",
   "metadata": {},
   "source": [
    "## Loading packages"
   ]
  },
  {
   "cell_type": "code",
   "execution_count": null,
   "id": "0f2d9d93",
   "metadata": {},
   "outputs": [],
   "source": [
    "import scanpy as sc\n",
    "import pandas as pd\n",
    "pd.set_option('display.max_columns', None)  #no limit to the number of columns shown\n",
    "import sctoolbox.utilities as utils\n",
    "from sctoolbox.tools import celltype_annotation\n",
    "import sctoolbox.plotting as pl\n",
    "# utils.settings_from_config(\"config.yaml\", key=\"05\")\n",
    "\n",
    "%load_ext autoreload\n",
    "%autoreload 2"
   ]
  },
  {
   "cell_type": "code",
   "execution_count": null,
   "id": "df672658",
   "metadata": {},
   "outputs": [],
   "source": [
    "try:\n",
    "    import markerrepo.wrappers as wrap\n",
    "except ModuleNotFoundError:\n",
    "    raise ModuleNotFoundError(\"Please install the latest MarkerRepo version.\")"
   ]
  },
  {
   "cell_type": "markdown",
   "id": "5bd3d82a",
   "metadata": {},
   "source": [
    "--------------"
   ]
  },
  {
   "cell_type": "markdown",
   "id": "f51d3a6b",
   "metadata": {},
   "source": [
    "## Loading adata"
   ]
  },
  {
   "cell_type": "code",
   "execution_count": null,
   "id": "e099e3a4",
   "metadata": {},
   "outputs": [],
   "source": [
    "adata = utils.load_h5ad(\"/mnt/workspace/mkessle/master/refdata/hs.h5ad\")\n",
    "display(adata)"
   ]
  },
  {
   "cell_type": "markdown",
   "id": "e6f1b8d8",
   "metadata": {},
   "source": [
    "--------------"
   ]
  },
  {
   "cell_type": "markdown",
   "id": "f5113a12",
   "metadata": {},
   "source": [
    "## Create suitable marker lists"
   ]
  },
  {
   "cell_type": "markdown",
   "id": "075575c5",
   "metadata": {},
   "source": [
    "The paths of the marker lists will be stored in the <b>marker_lists</b> variable. They will work as input for the actual cell type annotation of the next cell. If the index of adata.var contains ensembl IDs, set <b>ensembl=True</b>, otherwise gene symbols are used."
   ]
  },
  {
   "cell_type": "code",
   "execution_count": null,
   "id": "5b4da604",
   "metadata": {},
   "outputs": [],
   "source": [
    "if not marker_lists:\n",
    "    marker_lists = wrap.create_marker_lists(organism=None, repo_path=repo_path, style=style, file_name=file_name, \n",
    "                                            ensembl=ensembl, column_specific_terms=column_specific_terms)"
   ]
  },
  {
   "cell_type": "markdown",
   "id": "10fe0c90",
   "metadata": {},
   "source": [
    "--------------"
   ]
  },
  {
   "cell_type": "markdown",
   "id": "74aa1db9",
   "metadata": {},
   "source": [
    "## Annotate adata"
   ]
  },
  {
   "cell_type": "code",
   "execution_count": null,
   "id": "1fd7660e",
   "metadata": {},
   "outputs": [],
   "source": [
    "annotation_column = wrap.run_annotation(adata, marker_repo=True, SCSA=True, marker_lists=marker_lists, \n",
    "                                        mr_obs=\"mr\", scsa_obs=\"scsa\", rank_genes_column=None, \n",
    "                                        clustering_column=clustering_col, reference_obs=None, \n",
    "                                        show_comparison=True, ignore_overwrite=True, show_plots=True)"
   ]
  },
  {
   "cell_type": "markdown",
   "id": "4b288700",
   "metadata": {},
   "source": [
    "--------------"
   ]
  },
  {
   "cell_type": "markdown",
   "id": "d3e686bd",
   "metadata": {},
   "source": [
    "## Add annotation to adata .obs table"
   ]
  },
  {
   "cell_type": "code",
   "execution_count": null,
   "id": "f3e452b1",
   "metadata": {},
   "outputs": [],
   "source": [
    "adata.obs.rename(columns={annotation_column: celltype_column_name}, inplace=True)\n",
    "display(adata.obs)"
   ]
  },
  {
   "cell_type": "markdown",
   "id": "46678440",
   "metadata": {},
   "source": [
    "--------------"
   ]
  },
  {
   "cell_type": "markdown",
   "id": "f84f0579",
   "metadata": {},
   "source": [
    "## Save adata"
   ]
  },
  {
   "cell_type": "code",
   "execution_count": null,
   "id": "b684b120",
   "metadata": {},
   "outputs": [],
   "source": [
    "# utils.save_h5ad(adata, \"anndata_xx.h5ad\")"
   ]
  }
 ],
 "metadata": {
  "kernelspec": {
   "display_name": "sctoolbox",
   "language": "python",
   "name": "sctoolbox"
  },
  "language_info": {
   "codemirror_mode": {
    "name": "ipython",
    "version": 3
   },
   "file_extension": ".py",
   "mimetype": "text/x-python",
   "name": "python",
   "nbconvert_exporter": "python",
   "pygments_lexer": "ipython3",
   "version": "3.10.13"
  }
 },
 "nbformat": 4,
 "nbformat_minor": 5
}
