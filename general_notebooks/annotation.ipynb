{
 "cells": [
  {
   "cell_type": "code",
   "execution_count": null,
   "id": "e388ba22",
   "metadata": {
    "editable": false,
    "hide_input": true,
    "init_cell": true
   },
   "outputs": [],
   "source": [
    "from sctoolbox.utils.jupyter import bgcolor, _compare_version\n",
    "# create a temporary mock of settings to avoid undefined errors and retain startup time\n",
    "from types import SimpleNamespace\n",
    "settings = SimpleNamespace()\n",
    "\n",
    "nb_name = \"annotation.ipynb\"\n",
    "\n",
    "_compare_version(nb_name)"
   ]
  },
  {
   "cell_type": "markdown",
   "id": "0f123ffb",
   "metadata": {},
   "source": [
    "# Cell type annotation and marker list assembly\n",
    "<hr style=\"border:2px solid black\"> </hr>"
   ]
  },
  {
   "cell_type": "markdown",
   "id": "32f27ac3",
   "metadata": {},
   "source": [
    "## 1 - Description\n",
    "\n",
    "**Requires a clustered or otherwise categorized anndata object. A clustering can be generated with a clustering notebook (e.g. `rna_analysis/notebooks/04_clustering.ipynb`).**\n",
    "\n",
    "**Move this notebook into the notebook folder (e.g. `rna_analysis/notebooks/`) of the respective analysis before using it!**\n",
    "\n",
    "This Jupyter Notebook is designed for annotating cell types in clustered AnnData objects. It is divided into two main parts:\n",
    "\n",
    "- **Marker List Assembly**: This part is used when no existing marker lists are available. It enables users to assemble custom marker lists using the MarkerRepo.\n",
    "\n",
    "- **Annotation**: This section applies the created or provided marker lists to annotate cell types in AnnData objects.\n",
    "\n",
    "The parameters are organized in three tables:\n",
    "1. The first table contains basic parameters necessary for the annotation process.\n",
    "2. The second table lists parameters specific to the Marker List Assembly section.\n",
    "3. The third table lists parameters related to the Annotation section.\n",
    "\n",
    "For a basic analysis, the parameters in section **4** should be sufficient. However, for more advanced fine-tuning and detailed control of the analysis, the parameters in the second and third tables become critical.\n",
    "\n",
    "\n",
    "For more information about MarkerRepo, click [here](https://gitlab.gwdg.de/loosolab/software/annotate_by_marker_and_features)."
   ]
  },
  {
   "cell_type": "markdown",
   "id": "5bd3d82a",
   "metadata": {},
   "source": [
    "--------------"
   ]
  },
  {
   "cell_type": "markdown",
   "id": "c33b11ce",
   "metadata": {},
   "source": [
    "## 2- Setup"
   ]
  },
  {
   "cell_type": "code",
   "execution_count": null,
   "id": "0f2d9d93",
   "metadata": {
    "editable": false,
    "hide_input": false
   },
   "outputs": [],
   "source": [
    "from sctoolbox import settings\n",
    "import sctoolbox.utils as utils\n",
    "import sctoolbox.plotting as pl\n",
    "import pandas as pd\n",
    "pd.set_option('display.max_columns', None)  # no limit to the number of columns shown"
   ]
  },
  {
   "cell_type": "code",
   "execution_count": null,
   "id": "9489125c",
   "metadata": {
    "editable": false,
    "hide_input": false
   },
   "outputs": [],
   "source": [
    "try:\n",
    "    import markerrepo.wrappers as wrap\n",
    "    import markerrepo.marker_repo as mr\n",
    "except ModuleNotFoundError:\n",
    "    raise ModuleNotFoundError(\"Please install the latest MarkerRepo version.\")"
   ]
  },
  {
   "cell_type": "markdown",
   "id": "a0b462fb",
   "metadata": {},
   "source": [
    "<h1><center>⬐ Fill in input data here ⬎</center></h1>"
   ]
  },
  {
   "cell_type": "code",
   "execution_count": null,
   "id": "d14e02b0",
   "metadata": {
    "hide_input": false,
    "init_cell": true
   },
   "outputs": [],
   "source": [
    "%bgcolor PowderBlue\n",
    "\n",
    "# sctoolbox settings\n",
    "settings.adata_input_dir = \"../adatas/\"\n",
    "settings.adata_output_dir = \"../adatas/\"\n",
    "settings.figure_dir = \"../figures/annotation/\"\n",
    "settings.table_dir = \"../tables/annotation/\"\n",
    "settings.log_file = \"../logs/annotation_log.txt\"\n",
    "\n",
    "clustered_adata = \"anndata_4.h5ad\""
   ]
  },
  {
   "cell_type": "markdown",
   "id": "f4b227d5",
   "metadata": {},
   "source": [
    "___"
   ]
  },
  {
   "cell_type": "markdown",
   "id": "f51d3a6b",
   "metadata": {},
   "source": [
    "## 3 - Loading adata"
   ]
  },
  {
   "cell_type": "code",
   "execution_count": null,
   "id": "e099e3a4",
   "metadata": {
    "editable": false,
    "hide_input": false
   },
   "outputs": [],
   "source": [
    "adata = utils.adata.load_h5ad(clustered_adata)"
   ]
  },
  {
   "cell_type": "code",
   "execution_count": null,
   "id": "0793596e",
   "metadata": {
    "editable": false,
    "hide_input": false
   },
   "outputs": [],
   "source": [
    "with pd.option_context(\"display.max.rows\", 5, \"display.max.columns\", None):\n",
    "    display(adata)\n",
    "    display(adata.obs)\n",
    "    display(adata.var)"
   ]
  },
  {
   "cell_type": "markdown",
   "id": "e6f53dad",
   "metadata": {},
   "source": [
    "___"
   ]
  },
  {
   "cell_type": "markdown",
   "id": "f53b01f3",
   "metadata": {},
   "source": [
    "## 4 - Essential Input"
   ]
  },
  {
   "cell_type": "markdown",
   "id": "54a60a0f",
   "metadata": {},
   "source": [
    "### 4.1 - Parameter Overview\n",
    "\n",
    "\n",
    "| Parameter | Description | Options |\n",
    "|-----------|-------------|--------------|\n",
    "| `clustering_column` | `.obs` column used for cell type assignment. | `None` (select interactively) or String (e.g., `\"leiden\"`) |\n",
    "| `organism` | Specifies the organism for marker list assembly. If set to None, you should provide a custom marker list | `None` or String (e.g., `\"human\"`) |\n",
    "| `marker_lists` | Paths to marker lists. If `None`, assemble lists using MarkerRepo. | `None` or String or list of Strings (e.g., `\"/path/my_markers\"` or `[\"/heart_markers/markers\", \"/human/panglao\"]` |\n",
    "| `repo_path` | Path to MarkerRepo. | String |\n",
    "| `lists_path` | Path to a custom marker lists folder in the MarkerRepo. If `None`, the `lists` folder of the `repo_path` will be used. | `None` or String (e.g., `\"/path/my_markers\"`) |\n",
    "\n",
    "#### 4.1.1 - Custom marker list\n",
    "Alternatively, the user has the option to supply a custom list of marker genes by setting `marker_lists` to a user supplied file. This has to be a delimited text file (`.csv`, `.tsv`, etc.) with two columns. The first column are the marker names and the second column are cell types. For example:\n",
    "```\n",
    "marker_1    Fibroblast\n",
    "marker_2    Fibroblast\n",
    "marker_3    Endocardium\n",
    "...\n",
    "```\n",
    "\n",
    "#### 4.1.2 Available organisms\n",
    "* organisms available for marker list assembly in case you don't provide a custom list (or lists):\n",
    "```\n",
    "'human', 'mouse', 'zebrafish', 'rat'\n",
    "```\n",
    "\n",
    "* If you provide at least one custom marker list in `marker_lists`, the parameter `organism` will not be used and the **Assemble marker lists** step is skipped\n"
   ]
  },
  {
   "cell_type": "markdown",
   "id": "234cd969",
   "metadata": {},
   "source": [
    "<h1><center>⬐ Fill in input data here ⬎</center></h1>"
   ]
  },
  {
   "cell_type": "code",
   "execution_count": null,
   "id": "1612d966",
   "metadata": {
    "hide_input": false,
    "init_cell": true
   },
   "outputs": [],
   "source": [
    "%bgcolor PowderBlue\n",
    "\n",
    "# Annotation settings\n",
    "clustering_column = \"leiden_0.1\"\n",
    "organism = \"human\"\n",
    "# set path to custom marker lists\n",
    "marker_lists = None\n",
    "\n",
    "# add the path to annotate_by_marker_and_features repo\n",
    "repo_path = \"./test_data/marker_repo/\"\n",
    "lists_path = \"./test_data/marker_repo/marker_lists/\"  # set to None to use all lists in the lists folder, or set the path to a folder in\n",
    "                                                      # repo which contains the lists you want"
   ]
  },
  {
   "cell_type": "markdown",
   "id": "e6f1b8d8",
   "metadata": {},
   "source": [
    "--------------"
   ]
  },
  {
   "cell_type": "markdown",
   "id": "f5113a12",
   "metadata": {},
   "source": [
    "## 5 - Marker List Assembly"
   ]
  },
  {
   "cell_type": "markdown",
   "id": "ade0158f",
   "metadata": {},
   "source": [
    "### 5.1 - Parameter Overview\n",
    "\n",
    "| Parameter | Description | Options |\n",
    "|-----------|-------------|---------|\n",
    "| `column_specific_terms` | Search terms for marker list assembly, targeting specific columns. | `None` or Dictionary (e.g., `{\"Source\": \"panglao.se\", \"Tissue\", \"Heart\"}`) |\n",
    "| `cml_parameters` | Additional parameters for marker list assembly. One marker list is created per dictionary. | `None` or List of dictionaries (e.g., `[{\"style\":\"two_column\", \"file_name\":\"two_column\"}, {\"style\":\"score\", \"file_name\":\"score\"}]`|\n",
    "\n",
    "If `column_specific_terms` and `cml_parameters` are `None`, you can assemble marker lists interactively.\n",
    "\n",
    "#### 5.1.1 column_specific_terms\n",
    "each `key:value` pair will narrow the search in the marker list database to target specific lists, for example setting \"Organism name\" will exclude marker lists that don't match the organism, setting \"Tissue\" narrows the search more to only include marker lists for that specific tissue\n",
    "\n",
    "Run the following cell to see available input for `column_specific_terms`\n",
    "\n",
    "#### 5.1.2 cml_parameters\n",
    "The cml_parameters decide the method of annotation used by MarkerRepo. Each dictionary entry will result in a marker list\n",
    "which will be saved locally, and a seperate annotation based on that marker list\n",
    "\n",
    "`file_name`: The name of the exported marker lists --> `None` (enter interactively) or String\n",
    "\n",
    "`style`: The style of the marker lists. Options include \"two_column\", \"score\" and \"ui\". The \"score\" option will add \n",
    "an extra column comprised of scores for each marker gene. The \"ui\" option will update the scores\n",
    "based on the ubiquitousness index(1) of the panglao database. These weighted lists will be used to annotate the clusters  --> String\n",
    "\n",
    "(1) \"ubiquitousness index (UI), which is an indicator of how often the gene is expressed in cell clusters. UI takes values between 0 and 1. Values toward 1 indicate the gene is expressed in more cell clusters, indicating the gene to be involved in housekeeping tasks\" (https://www.ncbi.nlm.nih.gov/pmc/articles/PMC6450036/)"
   ]
  },
  {
   "cell_type": "code",
   "execution_count": null,
   "id": "aca609b4",
   "metadata": {
    "editable": false
   },
   "outputs": [],
   "source": [
    "if not marker_lists and not organism:\n",
    "    raise ValueError(\"Please provide either <organism> or a path to custom marker list <marker_lists>\")\n",
    "if not marker_lists:\n",
    "    df = mr.search_df(df=mr.combine_dfs(repo_path=repo_path, lists_path=lists_path), col_to_search=\"Organism name\", search_terms=[f\"+{organism.split(' ')[0]}\"])\n",
    "    print(f\"* Possible keys for <column_specific_terms>:\\n {df.columns.to_list()}\\n\")\n",
    "    for col in df.columns[:12]: \n",
    "        print(f\"* Possible values for {col}: {df[col].dropna().drop_duplicates().to_list()}\\n\")"
   ]
  },
  {
   "cell_type": "markdown",
   "id": "e3576d29",
   "metadata": {},
   "source": [
    "<h1><center>⬐ Fill in input data here ⬎</center></h1>"
   ]
  },
  {
   "cell_type": "code",
   "execution_count": null,
   "id": "cf336332",
   "metadata": {
    "hide_input": false,
    "init_cell": true
   },
   "outputs": [],
   "source": [
    "%bgcolor PowderBlue\n",
    "\n",
    "# Marker list assembly\n",
    "if not marker_lists:\n",
    "    # we recommend specifying \"Tissue\" if possible to get more accurate results\n",
    "    column_specific_terms = {\"Organism name\": organism}\n",
    "\n",
    "    cml_parameters = [{\"file_name\":\"panglao_two_column\", \"style\":\"two_column\"}, \n",
    "                      {\"file_name\":\"panglao_score\", \"style\":\"score\"},\n",
    "                      #{\"file_name\":\"panglao_ui\", \"style\":\"ui\"}\n",
    "                     ]"
   ]
  },
  {
   "cell_type": "markdown",
   "id": "cb89835a",
   "metadata": {},
   "source": [
    "___"
   ]
  },
  {
   "cell_type": "code",
   "execution_count": null,
   "id": "5b4da604",
   "metadata": {
    "editable": false,
    "hide_input": false
   },
   "outputs": [],
   "source": [
    "if not marker_lists:\n",
    "    marker_lists = wrap.create_multiple_marker_lists(\n",
    "        cml_parameters=cml_parameters, \n",
    "        repo_path=repo_path, \n",
    "        lists_path=lists_path,\n",
    "        organism=organism, \n",
    "        ensembl=mr.check_ensembl(adata), \n",
    "        column_specific_terms=column_specific_terms, \n",
    "        show_lists=True,\n",
    "        path=settings.table_dir\n",
    "    )"
   ]
  },
  {
   "cell_type": "markdown",
   "id": "edc09141",
   "metadata": {},
   "source": [
    "--------------"
   ]
  },
  {
   "cell_type": "markdown",
   "id": "74aa1db9",
   "metadata": {},
   "source": [
    "## 6 - Annotate adata"
   ]
  },
  {
   "cell_type": "markdown",
   "id": "3b737487",
   "metadata": {},
   "source": [
    "### 6.1 - Parameter Overview\n",
    "\n",
    "| Parameter | Description | Options/Type |\n",
    "|-----------|-------------|--------------|\n",
    "| `marker_repo` | Use [MarkerRepo](https://gitlab.gwdg.de/loosolab/software/annotate_by_marker_and_features) for annotation. | Boolean |\n",
    "| `SCSA` | Use [SCSA](https://github.com/bioinfo-ibms-pumc/SCSA) for annotation. | Boolean |\n",
    "| `mr_obs` | Prefix of the MarkerRepo annotation columns added to `anndata.obs`. | String (e.g., \"mr\") |\n",
    "| `scsa_obs` | Prefix of the SCSA annotation columns added to `anndata.obs`. | String (e.g., \"scsa\") |\n",
    "| `rank_genes_column` | Column of `.uns` table with rank genes scores. If `None`, the ranking will be performed on the clustering_column. | `None` or String |\n",
    "| `reference_obs` | A reference annotation in `.obs` for comparison. | `None` or String |"
   ]
  },
  {
   "cell_type": "markdown",
   "id": "9a1b486e",
   "metadata": {},
   "source": [
    "<h1><center>⬐ Fill in input data here ⬎</center></h1>"
   ]
  },
  {
   "cell_type": "code",
   "execution_count": null,
   "id": "c60c7d22",
   "metadata": {
    "hide_input": false,
    "init_cell": true
   },
   "outputs": [],
   "source": [
    "%bgcolor PowderBlue\n",
    "\n",
    "marker_repo = True\n",
    "SCSA = True\n",
    "mr_obs = \"MR\"\n",
    "scsa_obs = \"SCSA\"\n",
    "rank_genes_column = None\n",
    "reference_obs = None"
   ]
  },
  {
   "cell_type": "markdown",
   "id": "24d6f352",
   "metadata": {},
   "source": [
    "___"
   ]
  },
  {
   "cell_type": "code",
   "execution_count": null,
   "id": "1fd7660e",
   "metadata": {
    "editable": false,
    "hide_input": false
   },
   "outputs": [],
   "source": [
    "compare_df = wrap.run_annotation(adata, \n",
    "                                 marker_repo=marker_repo, \n",
    "                                 SCSA=SCSA, \n",
    "                                 marker_lists=marker_lists, \n",
    "                                 mr_obs=mr_obs, \n",
    "                                 scsa_obs=scsa_obs, \n",
    "                                 rank_genes_column=rank_genes_column, \n",
    "                                 clustering_column=clustering_column, \n",
    "                                 reference_obs=reference_obs, \n",
    "                                 show_comparison=True, \n",
    "                                 ignore_overwrite=True, \n",
    "                                 show_plots=False,\n",
    "                                 output_path=settings.table_dir\n",
    "                                )"
   ]
  },
  {
   "cell_type": "code",
   "execution_count": null,
   "id": "a2439d42",
   "metadata": {
    "editable": false,
    "hide_input": false
   },
   "outputs": [],
   "source": [
    "if not rank_genes_column:\n",
    "    rank_genes_column = f\"rank_genes_groups_{clustering_column}\"\n",
    "\n",
    "# Plot dotplot of markers\n",
    "_ = pl.marker_genes.rank_genes_plot(\n",
    "    adata,\n",
    "    key=rank_genes_column,\n",
    "    n_genes=10,\n",
    "    style=\"dots\",\n",
    "    save=f\"marker_genes_dots_{clustering_column}.pdf\"\n",
    ")"
   ]
  },
  {
   "cell_type": "code",
   "execution_count": null,
   "id": "2737a2a2",
   "metadata": {
    "editable": false,
    "hide_input": false
   },
   "outputs": [],
   "source": [
    "# Plot cell type annotations\n",
    "columns = [clustering_column] + list(compare_df.columns)\n",
    "_ = pl.embedding.plot_embedding(adata, method=\"umap\", color=columns, ncols=2,\n",
    "                                save=\"compare_annotations.pdf\")"
   ]
  },
  {
   "cell_type": "markdown",
   "id": "4b288700",
   "metadata": {},
   "source": [
    "--------------"
   ]
  },
  {
   "cell_type": "markdown",
   "id": "d3e686bd",
   "metadata": {},
   "source": [
    "### 6.1 - Show annotated .obs table"
   ]
  },
  {
   "cell_type": "code",
   "execution_count": null,
   "id": "f3e452b1",
   "metadata": {
    "editable": false,
    "hide_input": false
   },
   "outputs": [],
   "source": [
    "display(adata.obs)"
   ]
  },
  {
   "cell_type": "markdown",
   "id": "46678440",
   "metadata": {},
   "source": [
    "--------------"
   ]
  },
  {
   "cell_type": "markdown",
   "id": "f84f0579",
   "metadata": {},
   "source": [
    "## 7 - Save adata"
   ]
  },
  {
   "cell_type": "code",
   "execution_count": null,
   "id": "b684b120",
   "metadata": {
    "editable": false,
    "hide_input": false
   },
   "outputs": [],
   "source": [
    "utils.adata.save_h5ad(adata, \"anndata_annotated.h5ad\")"
   ]
  }
 ],
 "metadata": {
  "kernelspec": {
   "display_name": "sctoolbox",
   "language": "python",
   "name": "sctoolbox"
  },
  "language_info": {
   "codemirror_mode": {
    "name": "ipython",
    "version": 3
   },
   "file_extension": ".py",
   "mimetype": "text/x-python",
   "name": "python",
   "nbconvert_exporter": "python",
   "pygments_lexer": "ipython3",
   "version": "3.11.9"
  },
  "sc_framework": {
   "version": "0.9.0"
  }
 },
 "nbformat": 4,
 "nbformat_minor": 5
}
