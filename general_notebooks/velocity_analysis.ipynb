{
 "cells": [
  {
   "cell_type": "code",
   "execution_count": null,
   "id": "4afe7ff4",
   "metadata": {
    "run_control": {
     "marked": true
    }
   },
   "outputs": [],
   "source": [
    "import sctoolbox\n",
    "from sctoolbox.utilities import bgcolor"
   ]
  },
  {
   "cell_type": "markdown",
   "id": "53e03f75",
   "metadata": {},
   "source": [
    "# Velocity / Pseudotime Analysis"
   ]
  },
  {
   "cell_type": "markdown",
   "id": "68c2461d",
   "metadata": {},
   "source": [
    "This notebook can be used for velocity and pseudotime analysis of scRNA and scATAC data.\n",
    "\n",
    "### Velocity Analysis\n",
    "XX Explanation velocity analysis XX\n",
    "\n",
    "### Pseudotime Analysis\n",
    "XX Explanation velocity analysis XX"
   ]
  },
  {
   "cell_type": "markdown",
   "id": "77756586",
   "metadata": {},
   "source": [
    "## Setup"
   ]
  },
  {
   "cell_type": "code",
   "execution_count": 3,
   "id": "33e4dd73",
   "metadata": {
    "ExecuteTime": {
     "end_time": "2024-01-10T14:43:38.529969Z",
     "start_time": "2024-01-10T14:43:38.526330Z"
    }
   },
   "outputs": [],
   "source": [
    "from sctoolbox import settings\n",
    "import scvelo as scv\n",
    "import scanpy as sc\n",
    "import sctoolbox.utilities as utils"
   ]
  },
  {
   "cell_type": "markdown",
   "id": "414a77ba",
   "metadata": {},
   "source": [
    "## Input "
   ]
  },
  {
   "cell_type": "code",
   "execution_count": null,
   "id": "c07a068f",
   "metadata": {},
   "outputs": [],
   "source": [
    "# sctoolbox settings\n",
    "settings.adata_input_dir = \"../adatas/\"\n",
    "settings.adata_output_dir = \"./adatas/\"\n",
    "settings.log_file: \"velocity_analysis_log.txt\"\n",
    "last_notebook_adata = \"anndata_4.h5ad\"\n",
    "\n",
    "clustering = \"clustering\"\n",
    "embedding = \"umap\"\n",
    "\n",
    "vdata_path = \"\"\n",
    "\n",
    "n_pcs = 10\n",
    "\n",
    "threads = 4"
   ]
  },
  {
   "cell_type": "markdown",
   "id": "69e78099",
   "metadata": {},
   "source": [
    "## Load anndata"
   ]
  },
  {
   "cell_type": "code",
   "execution_count": null,
   "id": "5f6261bc",
   "metadata": {},
   "outputs": [],
   "source": [
    "adata = utils.load_h5ad(\"last_notebook_adata\")\n",
    "display(adata)"
   ]
  },
  {
   "cell_type": "markdown",
   "id": "37f6fd5d",
   "metadata": {},
   "source": [
    "## Check for spliced/unspliced/ambiguous layer"
   ]
  },
  {
   "cell_type": "code",
   "execution_count": null,
   "id": "d8ab3f33",
   "metadata": {},
   "outputs": [],
   "source": [
    "if set(adata.layers.keys()).issubset({\"spliced\", \"unspliced\", \"ambiguous\"}):\n",
    "    # load vdata\n",
    "    sc.load_h5ad(filename=vdata_path)\n",
    "    \n",
    "    # Check for obs index overlap\n",
    "    \n",
    "    # Merge adata vs vdata"
   ]
  },
  {
   "cell_type": "markdown",
   "id": "0ee1ed1b",
   "metadata": {},
   "source": [
    "## Preprocessing"
   ]
  },
  {
   "cell_type": "code",
   "execution_count": null,
   "id": "9125ae7a",
   "metadata": {},
   "outputs": [],
   "source": [
    "scv.pp.filter_and_normalize(adata)\n",
    "scv.pp.moments(adata, n_pcs=n_pcs)"
   ]
  },
  {
   "cell_type": "markdown",
   "id": "f91739dc",
   "metadata": {},
   "source": [
    "## Calculate velocity"
   ]
  },
  {
   "cell_type": "code",
   "execution_count": null,
   "id": "03baa272",
   "metadata": {},
   "outputs": [],
   "source": [
    "scv.tl.velocity(adata, mode='stochastic')\n",
    "scv.tl.velocity_graph(adata, n_jobs=threads)"
   ]
  },
  {
   "cell_type": "markdown",
   "id": "d21194ee",
   "metadata": {},
   "source": [
    "## Visualization"
   ]
  },
  {
   "cell_type": "code",
   "execution_count": null,
   "id": "eac900d1",
   "metadata": {},
   "outputs": [],
   "source": [
    "scv.pl.velocity_embedding_stream(adata, basis=embedding, color=clustering, save=\"./velocity_embeding_stream.pdf\")"
   ]
  }
 ],
 "metadata": {
  "kernelspec": {
   "display_name": "sctoolbox",
   "language": "python",
   "name": "sctoolbox"
  },
  "language_info": {
   "codemirror_mode": {
    "name": "ipython",
    "version": 3
   },
   "file_extension": ".py",
   "mimetype": "text/x-python",
   "name": "python",
   "nbconvert_exporter": "python",
   "pygments_lexer": "ipython3",
   "version": "3.10.13"
  }
 },
 "nbformat": 4,
 "nbformat_minor": 5
}
