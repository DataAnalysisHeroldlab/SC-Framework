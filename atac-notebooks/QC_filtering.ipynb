{
 "cells": [
  {
   "cell_type": "markdown",
   "id": "ac317ff1",
   "metadata": {
    "pycharm": {
     "name": "#%% md\n"
    }
   },
   "source": [
    "# QC filtering\n",
    "\n",
    "This notebook is about filtering scATAC seq data within an adata object to archive a good quality peak matrix.\n",
    "For this task various QC filters are implemented. The latter includes filters related to:\n",
    "\n",
    "- doublet score\n",
    "- number of features per barcode\n",
    "- mean insert size\n",
    "- promotor enrichment\n"
   ]
  },
  {
   "cell_type": "markdown",
   "id": "c1405c2c",
   "metadata": {
    "pycharm": {
     "name": "#%% md\n"
    }
   },
   "source": [
    "## Settings"
   ]
  },
  {
   "cell_type": "code",
   "execution_count": 75,
   "id": "a9f4fe6c",
   "metadata": {
    "pycharm": {
     "name": "#%%\n"
    }
   },
   "outputs": [],
   "source": [
    "#Path related settings (these should be the same as for the previous notebook)\n",
    "output_dir = '/mnt/workspace/jdetlef/processed_data'\n",
    "test = 'Esophagus'"
   ]
  },
  {
   "cell_type": "markdown",
   "id": "fdeeb2bb",
   "metadata": {
    "pycharm": {
     "name": "#%% md\n"
    }
   },
   "source": [
    "## QC Settings"
   ]
  },
  {
   "cell_type": "code",
   "execution_count": 76,
   "id": "5285011f",
   "metadata": {
    "pycharm": {
     "name": "#%%\n"
    }
   },
   "outputs": [],
   "source": [
    "# Set the column in adata.obs containing the biological condition to evaluate\n",
    "condition_column = \"sample\"\n",
    "\n",
    "filter_xy = True  # True or False; filtering out chrX and chrY\n",
    "binarize_mtx = True  # True or False; convert matrix to binary\n",
    "select_hvf = True  # True or False; select only highly variable features\n",
    "\n",
    "# Highly Variable Features thresholds:\n",
    "min_limit = 1000\n",
    "max_limit = 5000\n",
    "\n",
    "############################# filters ##########################################\n",
    "\n",
    "# Decide whether to estimate thresholds individual per condition (False) or globally (True)\n",
    "global_threshold = True\n",
    "\n",
    "# Filter to use:\n",
    "n_features_filter = True # True or False; filtering out cells with numbers of features not in the range defined below\n",
    "mean_insertsize_filter = True # True or False; filtering out cells with mean insertsize not in the range defined below\n",
    "filter_pct_fp= True # True or False; filtering out cells with promotor_enrichment not in the range defined below\n",
    "filter_n_fragments= False # True or False; filtering out cells with promotor_enrichment not in the range defined below\n",
    "filter_chrM_fragments= False # True or False; filtering out cells with promotor_enrichment not in the range defined below\n",
    "filter_uniquely_mapped_fragments= False # True or False; filtering out cells with promotor_enrichment not in the range defined\n",
    "\n",
    "\n",
    "# if this is True thresholds below are ignored \n",
    "only_automatic_thresholds = False # True or False; to use automatic thresholds\n",
    "\n",
    "############################# set default values #######################################\n",
    "# \n",
    "# This will be applied to all samples the thresholds can be changed manually when plotted \n",
    "# if thresholds None they are set automatically\n",
    "\n",
    "# default values n_features \n",
    "min_features = 100\n",
    "max_features = 5000\n",
    "\n",
    "# default mean_insertsize\n",
    "upper_threshold_mis=None\n",
    "lower_threshold_mis=None\n",
    "\n",
    "# default promotor enrichment\n",
    "upper_threshold_pct_fp=None\n",
    "lower_threshold_pct_fp=None\n",
    "\n",
    "# default number of fragments\n",
    "upper_thr_fragments=None\n",
    "lower_thr_fragments=None\n",
    "\n",
    "# default number of fragments in chrM\n",
    "upper_thr_chrM_fragments=1000\n",
    "lower_thr_chrM_fragments=0\n",
    "\n",
    "# default number of uniquely mapped fragments\n",
    "upper_thr_um=20000\n",
    "lower_thr_um=0\n",
    "\n"
   ]
  },
  {
   "cell_type": "markdown",
   "id": "731616b9",
   "metadata": {},
   "source": [
    "## Sum up settings"
   ]
  },
  {
   "cell_type": "code",
   "execution_count": 77,
   "id": "af4a23ed",
   "metadata": {},
   "outputs": [],
   "source": [
    "manual_thresholds = {}\n",
    "if n_features_filter:\n",
    "    manual_thresholds['n_features_by_counts'] = {'min' : min_features, 'max' : max_features}\n",
    "\n",
    "if mean_insertsize_filter:\n",
    "    manual_thresholds['mean_insertsize'] = {'min' : lower_threshold_mis, 'max' : upper_threshold_mis}\n",
    "\n",
    "if filter_pct_fp:\n",
    "    manual_thresholds['pct_fragments_in_promoters'] = {'min' : lower_threshold_pct_fp, 'max' : upper_threshold_pct_fp}\n",
    "\n",
    "if filter_n_fragments:\n",
    "    manual_thresholds['TN'] = {'min' : lower_thr_fragments, 'max' : upper_thr_fragments}\n",
    "\n",
    "if filter_chrM_fragments:\n",
    "    manual_thresholds['CM'] = {'min' : lower_thr_chrM_fragments, 'max' : upper_thr_chrM_fragments}\n",
    "\n",
    "if filter_uniquely_mapped_fragments:\n",
    "    manual_thresholds['UM'] = {'min' : lower_thr_um, 'max' : upper_thr_um}\n",
    "\n",
    "obs_columns = list(manual_thresholds.keys())"
   ]
  },
  {
   "cell_type": "markdown",
   "id": "9bfd0589",
   "metadata": {
    "pycharm": {
     "name": "#%% md\n"
    }
   },
   "source": [
    "## Loading packages and setup"
   ]
  },
  {
   "cell_type": "code",
   "execution_count": 78,
   "id": "a5e585b0",
   "metadata": {
    "pycharm": {
     "name": "#%%\n"
    }
   },
   "outputs": [],
   "source": [
    "# sctoolbox modules\n",
    "import sctoolbox.atac_tree as sub_tree\n",
    "import sctoolbox.creators as cr\n",
    "import sctoolbox.annotation as an\n",
    "from sctoolbox.qc_filter import *\n",
    "from sctoolbox.plotting import *\n",
    "from sctoolbox.atac_utils import *\n",
    "import sctoolbox.atac as atac\n",
    "# import episcanpy\n",
    "import scanpy as sc\n",
    "import episcanpy as epi\n",
    "import numpy as np"
   ]
  },
  {
   "cell_type": "markdown",
   "id": "a3984998",
   "metadata": {
    "pycharm": {
     "name": "#%% md\n"
    }
   },
   "source": [
    "## Setup path handling object "
   ]
  },
  {
   "cell_type": "code",
   "execution_count": 79,
   "id": "7c230208",
   "metadata": {
    "pycharm": {
     "name": "#%%\n"
    }
   },
   "outputs": [
    {
     "name": "stdout",
     "output_type": "stream",
     "text": [
      "Warning: run is None\n",
      "all directories existing\n",
      "all directories existing\n"
     ]
    }
   ],
   "source": [
    "# make an instance of the class\n",
    "tree = sub_tree.ATAC_tree()\n",
    "# set processing/output directory\n",
    "tree.processing_dir = output_dir\n",
    "# set sample/experiment.. \n",
    "tree.run = test"
   ]
  },
  {
   "cell_type": "markdown",
   "id": "3d8408ce",
   "metadata": {
    "pycharm": {
     "name": "#%% md\n"
    }
   },
   "source": [
    "## Load anndata "
   ]
  },
  {
   "cell_type": "code",
   "execution_count": 80,
   "id": "5e989d23",
   "metadata": {
    "pycharm": {
     "name": "#%%\n"
    }
   },
   "outputs": [
    {
     "data": {
      "text/plain": [
       "AnnData object with n_obs × n_vars = 73652 × 150138\n",
       "    obs: 'TN', 'UM', 'PP', 'UQ', 'CM', 'file', 'sample', 'n_features_by_counts', 'log1p_n_features_by_counts', 'total_counts', 'log1p_total_counts', 'insertsize_count', 'mean_insertsize', 'n_total_fragments', 'n_fragments_in_promoters', 'pct_fragments_in_promoters'\n",
       "    var: 'n_cells_by_counts', 'mean_counts', 'log1p_mean_counts', 'pct_dropout_by_counts', 'total_counts', 'log1p_total_counts'\n",
       "    uns: 'color_set', 'infoprocess', 'insertsize_distribution', 'legend'"
      ]
     },
     "execution_count": 80,
     "metadata": {},
     "output_type": "execute_result"
    }
   ],
   "source": [
    "# probably updated in future\n",
    "assembling_output = tree.assembled_anndata\n",
    "adata = epi.read_h5ad(assembling_output)\n",
    "adata"
   ]
  },
  {
   "cell_type": "code",
   "execution_count": 81,
   "id": "0e1adb38",
   "metadata": {},
   "outputs": [
    {
     "data": {
      "text/html": [
       "<div>\n",
       "<style scoped>\n",
       "    .dataframe tbody tr th:only-of-type {\n",
       "        vertical-align: middle;\n",
       "    }\n",
       "\n",
       "    .dataframe tbody tr th {\n",
       "        vertical-align: top;\n",
       "    }\n",
       "\n",
       "    .dataframe thead th {\n",
       "        text-align: right;\n",
       "    }\n",
       "</style>\n",
       "<table border=\"1\" class=\"dataframe\">\n",
       "  <thead>\n",
       "    <tr style=\"text-align: right;\">\n",
       "      <th></th>\n",
       "      <th>n_cells_by_counts</th>\n",
       "      <th>mean_counts</th>\n",
       "      <th>log1p_mean_counts</th>\n",
       "      <th>pct_dropout_by_counts</th>\n",
       "      <th>total_counts</th>\n",
       "      <th>log1p_total_counts</th>\n",
       "    </tr>\n",
       "    <tr>\n",
       "      <th>name</th>\n",
       "      <th></th>\n",
       "      <th></th>\n",
       "      <th></th>\n",
       "      <th></th>\n",
       "      <th></th>\n",
       "      <th></th>\n",
       "    </tr>\n",
       "  </thead>\n",
       "  <tbody>\n",
       "    <tr>\n",
       "      <th>b'chr1':10008-10690</th>\n",
       "      <td>411</td>\n",
       "      <td>0.005825</td>\n",
       "      <td>0.005808</td>\n",
       "      <td>99.44197</td>\n",
       "      <td>429.0</td>\n",
       "      <td>6.063785</td>\n",
       "    </tr>\n",
       "    <tr>\n",
       "      <th>b'chr1':11179-11381</th>\n",
       "      <td>0</td>\n",
       "      <td>0.000000</td>\n",
       "      <td>0.000000</td>\n",
       "      <td>100.00000</td>\n",
       "      <td>0.0</td>\n",
       "      <td>0.000000</td>\n",
       "    </tr>\n",
       "    <tr>\n",
       "      <th>b'chr1':28734-29439</th>\n",
       "      <td>22</td>\n",
       "      <td>0.000299</td>\n",
       "      <td>0.000299</td>\n",
       "      <td>99.97013</td>\n",
       "      <td>22.0</td>\n",
       "      <td>3.135494</td>\n",
       "    </tr>\n",
       "    <tr>\n",
       "      <th>b'chr1':29495-29682</th>\n",
       "      <td>0</td>\n",
       "      <td>0.000000</td>\n",
       "      <td>0.000000</td>\n",
       "      <td>100.00000</td>\n",
       "      <td>0.0</td>\n",
       "      <td>0.000000</td>\n",
       "    </tr>\n",
       "    <tr>\n",
       "      <th>b'chr1':34673-35029</th>\n",
       "      <td>0</td>\n",
       "      <td>0.000000</td>\n",
       "      <td>0.000000</td>\n",
       "      <td>100.00000</td>\n",
       "      <td>0.0</td>\n",
       "      <td>0.000000</td>\n",
       "    </tr>\n",
       "    <tr>\n",
       "      <th>...</th>\n",
       "      <td>...</td>\n",
       "      <td>...</td>\n",
       "      <td>...</td>\n",
       "      <td>...</td>\n",
       "      <td>...</td>\n",
       "      <td>...</td>\n",
       "    </tr>\n",
       "    <tr>\n",
       "      <th>b'chrY':57203305-57203488</th>\n",
       "      <td>0</td>\n",
       "      <td>0.000000</td>\n",
       "      <td>0.000000</td>\n",
       "      <td>100.00000</td>\n",
       "      <td>0.0</td>\n",
       "      <td>0.000000</td>\n",
       "    </tr>\n",
       "    <tr>\n",
       "      <th>b'chrY':57206427-57206551</th>\n",
       "      <td>0</td>\n",
       "      <td>0.000000</td>\n",
       "      <td>0.000000</td>\n",
       "      <td>100.00000</td>\n",
       "      <td>0.0</td>\n",
       "      <td>0.000000</td>\n",
       "    </tr>\n",
       "    <tr>\n",
       "      <th>b'chrY':57215321-57215411</th>\n",
       "      <td>0</td>\n",
       "      <td>0.000000</td>\n",
       "      <td>0.000000</td>\n",
       "      <td>100.00000</td>\n",
       "      <td>0.0</td>\n",
       "      <td>0.000000</td>\n",
       "    </tr>\n",
       "    <tr>\n",
       "      <th>b'chrY':57215521-57215837</th>\n",
       "      <td>0</td>\n",
       "      <td>0.000000</td>\n",
       "      <td>0.000000</td>\n",
       "      <td>100.00000</td>\n",
       "      <td>0.0</td>\n",
       "      <td>0.000000</td>\n",
       "    </tr>\n",
       "    <tr>\n",
       "      <th>b'chrY':57216530-57217316</th>\n",
       "      <td>0</td>\n",
       "      <td>0.000000</td>\n",
       "      <td>0.000000</td>\n",
       "      <td>100.00000</td>\n",
       "      <td>0.0</td>\n",
       "      <td>0.000000</td>\n",
       "    </tr>\n",
       "  </tbody>\n",
       "</table>\n",
       "<p>150138 rows × 6 columns</p>\n",
       "</div>"
      ],
      "text/plain": [
       "                           n_cells_by_counts  mean_counts  log1p_mean_counts  \\\n",
       "name                                                                           \n",
       "b'chr1':10008-10690                      411     0.005825           0.005808   \n",
       "b'chr1':11179-11381                        0     0.000000           0.000000   \n",
       "b'chr1':28734-29439                       22     0.000299           0.000299   \n",
       "b'chr1':29495-29682                        0     0.000000           0.000000   \n",
       "b'chr1':34673-35029                        0     0.000000           0.000000   \n",
       "...                                      ...          ...                ...   \n",
       "b'chrY':57203305-57203488                  0     0.000000           0.000000   \n",
       "b'chrY':57206427-57206551                  0     0.000000           0.000000   \n",
       "b'chrY':57215321-57215411                  0     0.000000           0.000000   \n",
       "b'chrY':57215521-57215837                  0     0.000000           0.000000   \n",
       "b'chrY':57216530-57217316                  0     0.000000           0.000000   \n",
       "\n",
       "                           pct_dropout_by_counts  total_counts  \\\n",
       "name                                                             \n",
       "b'chr1':10008-10690                     99.44197         429.0   \n",
       "b'chr1':11179-11381                    100.00000           0.0   \n",
       "b'chr1':28734-29439                     99.97013          22.0   \n",
       "b'chr1':29495-29682                    100.00000           0.0   \n",
       "b'chr1':34673-35029                    100.00000           0.0   \n",
       "...                                          ...           ...   \n",
       "b'chrY':57203305-57203488              100.00000           0.0   \n",
       "b'chrY':57206427-57206551              100.00000           0.0   \n",
       "b'chrY':57215321-57215411              100.00000           0.0   \n",
       "b'chrY':57215521-57215837              100.00000           0.0   \n",
       "b'chrY':57216530-57217316              100.00000           0.0   \n",
       "\n",
       "                           log1p_total_counts  \n",
       "name                                           \n",
       "b'chr1':10008-10690                  6.063785  \n",
       "b'chr1':11179-11381                  0.000000  \n",
       "b'chr1':28734-29439                  3.135494  \n",
       "b'chr1':29495-29682                  0.000000  \n",
       "b'chr1':34673-35029                  0.000000  \n",
       "...                                       ...  \n",
       "b'chrY':57203305-57203488            0.000000  \n",
       "b'chrY':57206427-57206551            0.000000  \n",
       "b'chrY':57215321-57215411            0.000000  \n",
       "b'chrY':57215521-57215837            0.000000  \n",
       "b'chrY':57216530-57217316            0.000000  \n",
       "\n",
       "[150138 rows x 6 columns]"
      ]
     },
     "execution_count": 81,
     "metadata": {},
     "output_type": "execute_result"
    }
   ],
   "source": [
    "adata.var "
   ]
  },
  {
   "cell_type": "code",
   "execution_count": 82,
   "id": "291df6a5",
   "metadata": {},
   "outputs": [
    {
     "data": {
      "text/plain": [
       "<AxesSubplot:xlabel='Insertsize (bp)', ylabel='Count'>"
      ]
     },
     "execution_count": 82,
     "metadata": {},
     "output_type": "execute_result"
    },
    {
     "data": {
      "image/png": "[encoded data removed]",
      "text/plain": [
       "<Figure size 432x288 with 1 Axes>"
      ]
     },
     "metadata": {
      "needs_background": "light"
     },
     "output_type": "display_data"
    }
   ],
   "source": [
    "atac.plot_insertsize(adata)"
   ]
  },
  {
   "cell_type": "markdown",
   "id": "db60f5ba",
   "metadata": {
    "pycharm": {
     "name": "#%% md\n"
    }
   },
   "source": [
    "# QC"
   ]
  },
  {
   "cell_type": "markdown",
   "id": "8bb2c8b4",
   "metadata": {
    "pycharm": {
     "name": "#%% md\n"
    }
   },
   "source": [
    "## 1. filtering out chrX, chrY and chrM"
   ]
  },
  {
   "cell_type": "code",
   "execution_count": 83,
   "id": "385bd38f",
   "metadata": {
    "pycharm": {
     "name": "#%%\n"
    }
   },
   "outputs": [],
   "source": [
    "non_m = [name for name in adata.var_names if not name.startswith('chrM')]  # remove chrM\n",
    "adata = adata[:, non_m]"
   ]
  },
  {
   "cell_type": "code",
   "execution_count": 84,
   "id": "1e221a49",
   "metadata": {
    "pycharm": {
     "name": "#%%\n"
    }
   },
   "outputs": [],
   "source": [
    "if filter_xy:\n",
    "    non_xy = [name for name in adata.var_names if not name.startswith('chrY') | name.startswith('chrX')]\n",
    "    adata = adata[:, non_xy]"
   ]
  },
  {
   "cell_type": "code",
   "execution_count": 85,
   "id": "dc05d7b8",
   "metadata": {
    "pycharm": {
     "name": "#%%\n"
    }
   },
   "outputs": [
    {
     "data": {
      "text/plain": [
       "View of AnnData object with n_obs × n_vars = 73652 × 150138\n",
       "    obs: 'TN', 'UM', 'PP', 'UQ', 'CM', 'file', 'sample', 'n_features_by_counts', 'log1p_n_features_by_counts', 'total_counts', 'log1p_total_counts', 'insertsize_count', 'mean_insertsize', 'n_total_fragments', 'n_fragments_in_promoters', 'pct_fragments_in_promoters'\n",
       "    var: 'n_cells_by_counts', 'mean_counts', 'log1p_mean_counts', 'pct_dropout_by_counts', 'total_counts', 'log1p_total_counts'\n",
       "    uns: 'color_set', 'infoprocess', 'insertsize_distribution', 'legend'"
      ]
     },
     "metadata": {},
     "output_type": "display_data"
    }
   ],
   "source": [
    "display(adata)"
   ]
  },
  {
   "cell_type": "markdown",
   "id": "2f801142",
   "metadata": {
    "pycharm": {
     "name": "#%% md\n"
    }
   },
   "source": [
    "## 2. removing empty cells and features"
   ]
  },
  {
   "cell_type": "code",
   "execution_count": 86,
   "id": "1bfb0aa0",
   "metadata": {
    "pycharm": {
     "name": "#%%\n"
    }
   },
   "outputs": [
    {
     "name": "stderr",
     "output_type": "stream",
     "text": [
      " ImplicitModificationWarning:/home/jdetlef/.conda/envs/atac-base/lib/python3.7/site-packages/scanpy/preprocessing/_simple.py:140: Trying to modify attribute `.obs` of view, initializing view as actual.\n"
     ]
    },
    {
     "data": {
      "text/plain": [
       "AnnData object with n_obs × n_vars = 71726 × 143814\n",
       "    obs: 'TN', 'UM', 'PP', 'UQ', 'CM', 'file', 'sample', 'n_features_by_counts', 'log1p_n_features_by_counts', 'total_counts', 'log1p_total_counts', 'insertsize_count', 'mean_insertsize', 'n_total_fragments', 'n_fragments_in_promoters', 'pct_fragments_in_promoters', 'nb_features', 'log_nb_features'\n",
       "    var: 'n_cells_by_counts', 'mean_counts', 'log1p_mean_counts', 'pct_dropout_by_counts', 'total_counts', 'log1p_total_counts', 'n_cells'\n",
       "    uns: 'color_set', 'infoprocess', 'insertsize_distribution', 'legend'"
      ]
     },
     "metadata": {},
     "output_type": "display_data"
    }
   ],
   "source": [
    "epi.pp.filter_cells(adata, min_features=1)\n",
    "epi.pp.filter_features(adata, min_cells=10)\n",
    "epi.pp.filter_features(adata, max_cells=2000)\n",
    "# log-convert number of features\n",
    "adata.obs['log_nb_features'] = [np.log10(x) for x in adata.obs['nb_features']]\n",
    "display(adata)"
   ]
  },
  {
   "cell_type": "markdown",
   "id": "7f9c9318",
   "metadata": {
    "pycharm": {
     "name": "#%% md\n"
    }
   },
   "source": [
    "## 3. binarize"
   ]
  },
  {
   "cell_type": "code",
   "execution_count": 87,
   "id": "1cc85ce4",
   "metadata": {
    "pycharm": {
     "name": "#%%\n"
    }
   },
   "outputs": [],
   "source": [
    "adata.raw = adata\n",
    "if binarize_mtx:\n",
    "    epi.pp.binarize(adata)\n",
    "    adata.layers['binary'] = adata.X.copy()"
   ]
  },
  {
   "cell_type": "markdown",
   "id": "ef346453",
   "metadata": {
    "pycharm": {
     "name": "#%%\n"
    }
   },
   "source": [
    "## 5. visualize adata"
   ]
  },
  {
   "cell_type": "code",
   "execution_count": 88,
   "id": "931943e7",
   "metadata": {
    "pycharm": {
     "name": "#%%\n"
    }
   },
   "outputs": [
    {
     "data": {
      "image/png": "[encoded data removed]",
      "text/plain": [
       "<Figure size 432x288 with 1 Axes>"
      ]
     },
     "metadata": {
      "needs_background": "light"
     },
     "output_type": "display_data"
    },
    {
     "data": {
      "image/png": "[encoded data removed]",
      "text/plain": [
       "<Figure size 432x288 with 1 Axes>"
      ]
     },
     "metadata": {},
     "output_type": "display_data"
    },
    {
     "name": "stderr",
     "output_type": "stream",
     "text": [
      " FutureWarning:/home/jdetlef/.conda/envs/atac-base/lib/python3.7/site-packages/seaborn/distributions.py:2619: `distplot` is a deprecated function and will be removed in a future version. Please adapt your code to use either `displot` (a figure-level function with similar flexibility) or `histplot` (an axes-level function for histograms).\n",
      " FutureWarning:/home/jdetlef/.conda/envs/atac-base/lib/python3.7/site-packages/seaborn/distributions.py:2619: `distplot` is a deprecated function and will be removed in a future version. Please adapt your code to use either `displot` (a figure-level function with similar flexibility) or `histplot` (an axes-level function for histograms).\n"
     ]
    },
    {
     "data": {
      "image/png": "[encoded data removed]",
      "text/plain": [
       "<Figure size 432x288 with 2 Axes>"
      ]
     },
     "metadata": {},
     "output_type": "display_data"
    },
    {
     "data": {
      "text/plain": [
       "AnnData object with n_obs × n_vars = 71726 × 143814\n",
       "    obs: 'TN', 'UM', 'PP', 'UQ', 'CM', 'file', 'sample', 'n_features_by_counts', 'log1p_n_features_by_counts', 'total_counts', 'log1p_total_counts', 'insertsize_count', 'mean_insertsize', 'n_total_fragments', 'n_fragments_in_promoters', 'pct_fragments_in_promoters', 'nb_features', 'log_nb_features'\n",
       "    var: 'n_cells_by_counts', 'mean_counts', 'log1p_mean_counts', 'pct_dropout_by_counts', 'total_counts', 'log1p_total_counts', 'n_cells', 'commonness', 'prop_shared_cells', 'variability_score'\n",
       "    uns: 'color_set', 'infoprocess', 'insertsize_distribution', 'legend'\n",
       "    layers: 'binary'"
      ]
     },
     "execution_count": 88,
     "metadata": {},
     "output_type": "execute_result"
    }
   ],
   "source": [
    "plot_ov_hist(adata, threshold_features=50) # FIXME: Later plots do not visualize"
   ]
  },
  {
   "cell_type": "markdown",
   "id": "2ae501e8",
   "metadata": {
    "pycharm": {
     "name": "#%%\n"
    }
   },
   "source": [
    "## 6. filter cells"
   ]
  },
  {
   "cell_type": "markdown",
   "id": "664bd8fe",
   "metadata": {},
   "source": [
    "### 6.1 get thresholds dict"
   ]
  },
  {
   "cell_type": "code",
   "execution_count": 89,
   "id": "268d6710",
   "metadata": {},
   "outputs": [
    {
     "data": {
      "text/plain": [
       "{'n_features_by_counts': {'min': 100, 'max': 5000},\n",
       " 'mean_insertsize': {'min': None, 'max': None},\n",
       " 'pct_fragments_in_promoters': {'min': None, 'max': None}}"
      ]
     },
     "execution_count": 89,
     "metadata": {},
     "output_type": "execute_result"
    }
   ],
   "source": [
    "groupby = condition_column if global_threshold is False else None\n",
    "default_thresholds = build_default_thresholds(adata, manual_thresholds, groupby)\n",
    "default_thresholds"
   ]
  },
  {
   "cell_type": "code",
   "execution_count": 90,
   "id": "4e66c4c1",
   "metadata": {
    "pycharm": {
     "name": "#%%\n"
    }
   },
   "outputs": [
    {
     "name": "stderr",
     "output_type": "stream",
     "text": [
      " UserWarning:/home/jdetlef/.conda/envs/atac-base/lib/python3.7/site-packages/kneed/knee_locator.py:304: No knee/elbow found\n"
     ]
    },
    {
     "data": {
      "text/html": [
       "<div>\n",
       "<style scoped>\n",
       "    .dataframe tbody tr th:only-of-type {\n",
       "        vertical-align: middle;\n",
       "    }\n",
       "\n",
       "    .dataframe tbody tr th {\n",
       "        vertical-align: top;\n",
       "    }\n",
       "\n",
       "    .dataframe thead th {\n",
       "        text-align: right;\n",
       "    }\n",
       "</style>\n",
       "<table border=\"1\" class=\"dataframe\">\n",
       "  <thead>\n",
       "    <tr style=\"text-align: right;\">\n",
       "      <th></th>\n",
       "      <th>Parameter</th>\n",
       "      <th>Minimum</th>\n",
       "      <th>Maximum</th>\n",
       "    </tr>\n",
       "  </thead>\n",
       "  <tbody>\n",
       "    <tr>\n",
       "      <th>0</th>\n",
       "      <td>n_features_by_counts</td>\n",
       "      <td>100.000000</td>\n",
       "      <td>5000.000000</td>\n",
       "    </tr>\n",
       "    <tr>\n",
       "      <th>1</th>\n",
       "      <td>mean_insertsize</td>\n",
       "      <td>67.517557</td>\n",
       "      <td>196.499871</td>\n",
       "    </tr>\n",
       "    <tr>\n",
       "      <th>2</th>\n",
       "      <td>pct_fragments_in_promoters</td>\n",
       "      <td>-0.434211</td>\n",
       "      <td>0.849552</td>\n",
       "    </tr>\n",
       "  </tbody>\n",
       "</table>\n",
       "</div>"
      ],
      "text/plain": [
       "                    Parameter     Minimum      Maximum\n",
       "0        n_features_by_counts  100.000000  5000.000000\n",
       "1             mean_insertsize   67.517557   196.499871\n",
       "2  pct_fragments_in_promoters   -0.434211     0.849552"
      ]
     },
     "execution_count": 90,
     "metadata": {},
     "output_type": "execute_result"
    }
   ],
   "source": [
    "thresholds = get_thresholds_atac_wrapper(adata, default_thresholds, only_automatic_thresholds, groupby=None)\n",
    "thresholds_as_table(thresholds)"
   ]
  },
  {
   "cell_type": "markdown",
   "id": "acde2adf",
   "metadata": {},
   "source": [
    "### 6.2 plot thresholds"
   ]
  },
  {
   "cell_type": "code",
   "execution_count": 91,
   "id": "6891314c",
   "metadata": {},
   "outputs": [
    {
     "data": {
      "text/html": [
       "<img src onerror=\"\n",
       "                var cell = this.closest('.code_cell');\n",
       "                var editor = cell.querySelector('.CodeMirror-sizer');\n",
       "                editor.style.background='PowderBlue';\n",
       "                this.parentNode.removeChild(this)\n",
       "                \">"
      ],
      "text/plain": [
       "<IPython.core.display.HTML object>"
      ]
     },
     "metadata": {},
     "output_type": "display_data"
    },
    {
     "data": {
      "application/vnd.jupyter.widget-view+json": {
       "model_id": "50042107f46246ceb76e340ede5be703",
       "version_major": 2,
       "version_minor": 0
      },
      "text/plain": [
       "HBox(children=(Accordion(children=(VBox(children=(FloatRangeSlider(value=(100.0, 5000.0), continuous_update=Fa…"
      ]
     },
     "metadata": {},
     "output_type": "display_data"
    }
   ],
   "source": [
    "%matplotlib widget\n",
    "%bgcolor PowderBlue\n",
    "\n",
    "#Plot violins and sliders\n",
    "obs_figure, obs_slider_dict = quality_violin(adata, columns=obs_columns,\n",
    "                                            groupby=condition_column,\n",
    "                                            which=\"obs\",\n",
    "                                            thresholds=thresholds,\n",
    "                                            global_threshold=global_threshold,\n",
    "                                            title=\"Cell quality control (before)\",\n",
    "                                            save=tree.qc_plots + \"cell_filtering.png\")\n",
    "obs_figure"
   ]
  },
  {
   "cell_type": "code",
   "execution_count": 92,
   "id": "d43c3b78",
   "metadata": {},
   "outputs": [
    {
     "data": {
      "text/html": [
       "<div>\n",
       "<style scoped>\n",
       "    .dataframe tbody tr th:only-of-type {\n",
       "        vertical-align: middle;\n",
       "    }\n",
       "\n",
       "    .dataframe tbody tr th {\n",
       "        vertical-align: top;\n",
       "    }\n",
       "\n",
       "    .dataframe thead th {\n",
       "        text-align: right;\n",
       "    }\n",
       "</style>\n",
       "<table border=\"1\" class=\"dataframe\">\n",
       "  <thead>\n",
       "    <tr style=\"text-align: right;\">\n",
       "      <th></th>\n",
       "      <th>Parameter</th>\n",
       "      <th>Minimum</th>\n",
       "      <th>Maximum</th>\n",
       "    </tr>\n",
       "  </thead>\n",
       "  <tbody>\n",
       "    <tr>\n",
       "      <th>0</th>\n",
       "      <td>n_features_by_counts</td>\n",
       "      <td>100.000000</td>\n",
       "      <td>5000.000000</td>\n",
       "    </tr>\n",
       "    <tr>\n",
       "      <th>1</th>\n",
       "      <td>mean_insertsize</td>\n",
       "      <td>67.517557</td>\n",
       "      <td>196.499871</td>\n",
       "    </tr>\n",
       "    <tr>\n",
       "      <th>2</th>\n",
       "      <td>pct_fragments_in_promoters</td>\n",
       "      <td>0.000000</td>\n",
       "      <td>0.849552</td>\n",
       "    </tr>\n",
       "  </tbody>\n",
       "</table>\n",
       "</div>"
      ],
      "text/plain": [
       "                    Parameter     Minimum      Maximum\n",
       "0        n_features_by_counts  100.000000  5000.000000\n",
       "1             mean_insertsize   67.517557   196.499871\n",
       "2  pct_fragments_in_promoters    0.000000     0.849552"
      ]
     },
     "execution_count": 92,
     "metadata": {},
     "output_type": "execute_result"
    }
   ],
   "source": [
    "# Get final thresholds\n",
    "final_thresholds = get_slider_thresholds(obs_slider_dict)\n",
    "thresholds_as_table(final_thresholds) # show thresholds"
   ]
  },
  {
   "cell_type": "markdown",
   "id": "d131f523",
   "metadata": {},
   "source": [
    "### 6.3 filter adata"
   ]
  },
  {
   "cell_type": "code",
   "execution_count": 93,
   "id": "1c488570",
   "metadata": {},
   "outputs": [
    {
     "name": "stdout",
     "output_type": "stream",
     "text": [
      "Filtering based on 'n_features_by_counts' from 71726 -> 11554 cells\n",
      "Filtering based on 'mean_insertsize' from 11554 -> 11552 cells\n",
      "Filtering based on 'pct_fragments_in_promoters' from 11552 -> 11552 cells\n"
     ]
    }
   ],
   "source": [
    "apply_qc_thresholds(adata, final_thresholds)"
   ]
  },
  {
   "cell_type": "markdown",
   "id": "b3322fd6",
   "metadata": {},
   "source": [
    "### remove empty features"
   ]
  },
  {
   "cell_type": "code",
   "execution_count": 94,
   "id": "24634132",
   "metadata": {},
   "outputs": [
    {
     "data": {
      "text/plain": [
       "AnnData object with n_obs × n_vars = 11552 × 139599\n",
       "    obs: 'TN', 'UM', 'PP', 'UQ', 'CM', 'file', 'sample', 'n_features_by_counts', 'log1p_n_features_by_counts', 'total_counts', 'log1p_total_counts', 'insertsize_count', 'mean_insertsize', 'n_total_fragments', 'n_fragments_in_promoters', 'pct_fragments_in_promoters', 'nb_features', 'log_nb_features'\n",
       "    var: 'n_cells_by_counts', 'mean_counts', 'log1p_mean_counts', 'pct_dropout_by_counts', 'total_counts', 'log1p_total_counts', 'n_cells', 'commonness', 'prop_shared_cells', 'variability_score'\n",
       "    uns: 'color_set', 'infoprocess', 'insertsize_distribution', 'legend'\n",
       "    layers: 'binary'"
      ]
     },
     "metadata": {},
     "output_type": "display_data"
    }
   ],
   "source": [
    "epi.pp.filter_features(adata, min_cells=15)\n",
    "# log-convert number of features\n",
    "#adata.obs['log_nb_features'] = [np.log10(x) for x in adata.obs['nb_features']]\n",
    "display(adata)"
   ]
  },
  {
   "cell_type": "markdown",
   "id": "aad9af0e",
   "metadata": {},
   "source": [
    "## 7. save plots"
   ]
  },
  {
   "cell_type": "code",
   "execution_count": 95,
   "id": "955b7ac2",
   "metadata": {},
   "outputs": [
    {
     "data": {
      "image/png": "[encoded data removed]",
      "text/plain": [
       "<Figure size 864x288 with 3 Axes>"
      ]
     },
     "execution_count": 95,
     "metadata": {},
     "output_type": "execute_result"
    },
    {
     "data": {
      "image/png": "[encoded data removed]",
      "text/plain": [
       "<Figure size 864x288 with 3 Axes>"
      ]
     },
     "metadata": {
      "needs_background": "light"
     },
     "output_type": "display_data"
    }
   ],
   "source": [
    "%matplotlib inline \n",
    "\n",
    "#Plot violins and sliders\n",
    "figure, slider_dict = quality_violin(adata, columns=obs_columns,\n",
    "                                     groupby=condition_column,\n",
    "                                     which=\"obs\", ncols=3,\n",
    "                                     global_threshold = global_threshold,\n",
    "                                     title=\"Cell quality control (after)\",\n",
    "                                     save=tree.qc_plots + \"cell_filtering_final.png\")\n",
    "figure "
   ]
  },
  {
   "cell_type": "markdown",
   "id": "b43e9b3e",
   "metadata": {},
   "source": [
    "## 8. save anndata"
   ]
  },
  {
   "cell_type": "code",
   "execution_count": 96,
   "id": "b5776f98",
   "metadata": {},
   "outputs": [
    {
     "data": {
      "text/html": [
       "<div>\n",
       "<style scoped>\n",
       "    .dataframe tbody tr th:only-of-type {\n",
       "        vertical-align: middle;\n",
       "    }\n",
       "\n",
       "    .dataframe tbody tr th {\n",
       "        vertical-align: top;\n",
       "    }\n",
       "\n",
       "    .dataframe thead th {\n",
       "        text-align: right;\n",
       "    }\n",
       "</style>\n",
       "<table border=\"1\" class=\"dataframe\">\n",
       "  <thead>\n",
       "    <tr style=\"text-align: right;\">\n",
       "      <th></th>\n",
       "      <th>TN</th>\n",
       "      <th>UM</th>\n",
       "      <th>PP</th>\n",
       "      <th>UQ</th>\n",
       "      <th>CM</th>\n",
       "      <th>file</th>\n",
       "      <th>sample</th>\n",
       "      <th>n_features_by_counts</th>\n",
       "      <th>log1p_n_features_by_counts</th>\n",
       "      <th>total_counts</th>\n",
       "      <th>log1p_total_counts</th>\n",
       "      <th>insertsize_count</th>\n",
       "      <th>mean_insertsize</th>\n",
       "      <th>n_total_fragments</th>\n",
       "      <th>n_fragments_in_promoters</th>\n",
       "      <th>pct_fragments_in_promoters</th>\n",
       "      <th>nb_features</th>\n",
       "      <th>log_nb_features</th>\n",
       "    </tr>\n",
       "    <tr>\n",
       "      <th>barcode</th>\n",
       "      <th></th>\n",
       "      <th></th>\n",
       "      <th></th>\n",
       "      <th></th>\n",
       "      <th></th>\n",
       "      <th></th>\n",
       "      <th></th>\n",
       "      <th></th>\n",
       "      <th></th>\n",
       "      <th></th>\n",
       "      <th></th>\n",
       "      <th></th>\n",
       "      <th></th>\n",
       "      <th></th>\n",
       "      <th></th>\n",
       "      <th></th>\n",
       "      <th></th>\n",
       "      <th></th>\n",
       "    </tr>\n",
       "  </thead>\n",
       "  <tbody>\n",
       "    <tr>\n",
       "      <th>AAACTACCAGAAACGTCCCGTT</th>\n",
       "      <td>6223.0</td>\n",
       "      <td>5232.0</td>\n",
       "      <td>5214.0</td>\n",
       "      <td>3780.0</td>\n",
       "      <td>18.0</td>\n",
       "      <td>/home/rstudio/data/anndata/Esophagus.h5ad</td>\n",
       "      <td>sample1</td>\n",
       "      <td>1596</td>\n",
       "      <td>7.375882</td>\n",
       "      <td>1733.0</td>\n",
       "      <td>7.458186</td>\n",
       "      <td>4923.0</td>\n",
       "      <td>137.92</td>\n",
       "      <td>5210.0</td>\n",
       "      <td>1256.0</td>\n",
       "      <td>0.241075</td>\n",
       "      <td>1308.0</td>\n",
       "      <td>3.203033</td>\n",
       "    </tr>\n",
       "    <tr>\n",
       "      <th>AAACTACCAGAACTAACGTCGA</th>\n",
       "      <td>8196.0</td>\n",
       "      <td>6756.0</td>\n",
       "      <td>6737.0</td>\n",
       "      <td>4617.0</td>\n",
       "      <td>382.0</td>\n",
       "      <td>/home/rstudio/data/anndata/Esophagus.h5ad</td>\n",
       "      <td>sample1</td>\n",
       "      <td>304</td>\n",
       "      <td>5.720312</td>\n",
       "      <td>492.0</td>\n",
       "      <td>6.200509</td>\n",
       "      <td>6729.0</td>\n",
       "      <td>141.34</td>\n",
       "      <td>6864.0</td>\n",
       "      <td>1095.0</td>\n",
       "      <td>0.159528</td>\n",
       "      <td>255.0</td>\n",
       "      <td>2.482874</td>\n",
       "    </tr>\n",
       "    <tr>\n",
       "      <th>AAACTACCAGAATGGCCGTTTC</th>\n",
       "      <td>23198.0</td>\n",
       "      <td>20082.0</td>\n",
       "      <td>20039.0</td>\n",
       "      <td>14075.0</td>\n",
       "      <td>1132.0</td>\n",
       "      <td>/home/rstudio/data/anndata/Esophagus.h5ad</td>\n",
       "      <td>sample1</td>\n",
       "      <td>4251</td>\n",
       "      <td>8.355145</td>\n",
       "      <td>5086.0</td>\n",
       "      <td>8.534444</td>\n",
       "      <td>21325.0</td>\n",
       "      <td>123.58</td>\n",
       "      <td>19440.0</td>\n",
       "      <td>6030.0</td>\n",
       "      <td>0.310185</td>\n",
       "      <td>3756.0</td>\n",
       "      <td>3.628491</td>\n",
       "    </tr>\n",
       "    <tr>\n",
       "      <th>AAACTACCAGAATGGTTCCCTT</th>\n",
       "      <td>15045.0</td>\n",
       "      <td>13327.0</td>\n",
       "      <td>13295.0</td>\n",
       "      <td>8745.0</td>\n",
       "      <td>21.0</td>\n",
       "      <td>/home/rstudio/data/anndata/Esophagus.h5ad</td>\n",
       "      <td>sample1</td>\n",
       "      <td>4991</td>\n",
       "      <td>8.515592</td>\n",
       "      <td>5948.0</td>\n",
       "      <td>8.690978</td>\n",
       "      <td>13522.0</td>\n",
       "      <td>117.86</td>\n",
       "      <td>13994.0</td>\n",
       "      <td>4001.0</td>\n",
       "      <td>0.285908</td>\n",
       "      <td>4245.0</td>\n",
       "      <td>3.698188</td>\n",
       "    </tr>\n",
       "    <tr>\n",
       "      <th>AAACTACCAGACAGATCAACGC</th>\n",
       "      <td>5869.0</td>\n",
       "      <td>4993.0</td>\n",
       "      <td>4976.0</td>\n",
       "      <td>3411.0</td>\n",
       "      <td>35.0</td>\n",
       "      <td>/home/rstudio/data/anndata/Esophagus.h5ad</td>\n",
       "      <td>sample1</td>\n",
       "      <td>1488</td>\n",
       "      <td>7.305860</td>\n",
       "      <td>1674.0</td>\n",
       "      <td>7.423568</td>\n",
       "      <td>4977.0</td>\n",
       "      <td>127.09</td>\n",
       "      <td>5046.0</td>\n",
       "      <td>1542.0</td>\n",
       "      <td>0.305589</td>\n",
       "      <td>1132.0</td>\n",
       "      <td>3.172603</td>\n",
       "    </tr>\n",
       "    <tr>\n",
       "      <th>...</th>\n",
       "      <td>...</td>\n",
       "      <td>...</td>\n",
       "      <td>...</td>\n",
       "      <td>...</td>\n",
       "      <td>...</td>\n",
       "      <td>...</td>\n",
       "      <td>...</td>\n",
       "      <td>...</td>\n",
       "      <td>...</td>\n",
       "      <td>...</td>\n",
       "      <td>...</td>\n",
       "      <td>...</td>\n",
       "      <td>...</td>\n",
       "      <td>...</td>\n",
       "      <td>...</td>\n",
       "      <td>...</td>\n",
       "      <td>...</td>\n",
       "      <td>...</td>\n",
       "    </tr>\n",
       "    <tr>\n",
       "      <th>TTCCATCCTCTTCTCATGGTCA</th>\n",
       "      <td>5447.0</td>\n",
       "      <td>4744.0</td>\n",
       "      <td>4728.0</td>\n",
       "      <td>3243.0</td>\n",
       "      <td>10.0</td>\n",
       "      <td>/home/rstudio/data/anndata/Esophagus.h5ad</td>\n",
       "      <td>sample1</td>\n",
       "      <td>1696</td>\n",
       "      <td>7.436617</td>\n",
       "      <td>1826.0</td>\n",
       "      <td>7.510430</td>\n",
       "      <td>4810.0</td>\n",
       "      <td>142.30</td>\n",
       "      <td>4560.0</td>\n",
       "      <td>1396.0</td>\n",
       "      <td>0.306140</td>\n",
       "      <td>1443.0</td>\n",
       "      <td>3.229426</td>\n",
       "    </tr>\n",
       "    <tr>\n",
       "      <th>TTCCATCCTCTTGACAAGTCCT</th>\n",
       "      <td>1577.0</td>\n",
       "      <td>1342.0</td>\n",
       "      <td>1337.0</td>\n",
       "      <td>909.0</td>\n",
       "      <td>1.0</td>\n",
       "      <td>/home/rstudio/data/anndata/Esophagus.h5ad</td>\n",
       "      <td>sample1</td>\n",
       "      <td>332</td>\n",
       "      <td>5.808142</td>\n",
       "      <td>360.0</td>\n",
       "      <td>5.888878</td>\n",
       "      <td>1327.0</td>\n",
       "      <td>139.90</td>\n",
       "      <td>1345.0</td>\n",
       "      <td>350.0</td>\n",
       "      <td>0.260223</td>\n",
       "      <td>239.0</td>\n",
       "      <td>2.521138</td>\n",
       "    </tr>\n",
       "    <tr>\n",
       "      <th>TTCCATCCTCTTGAGCCCGGAT</th>\n",
       "      <td>9935.0</td>\n",
       "      <td>7985.0</td>\n",
       "      <td>7957.0</td>\n",
       "      <td>5603.0</td>\n",
       "      <td>13.0</td>\n",
       "      <td>/home/rstudio/data/anndata/Esophagus.h5ad</td>\n",
       "      <td>sample1</td>\n",
       "      <td>636</td>\n",
       "      <td>6.456770</td>\n",
       "      <td>677.0</td>\n",
       "      <td>6.519147</td>\n",
       "      <td>7769.0</td>\n",
       "      <td>159.39</td>\n",
       "      <td>7717.0</td>\n",
       "      <td>712.0</td>\n",
       "      <td>0.092264</td>\n",
       "      <td>526.0</td>\n",
       "      <td>2.803457</td>\n",
       "    </tr>\n",
       "    <tr>\n",
       "      <th>TTCCATCCTCTTGCATGTACGC</th>\n",
       "      <td>4033.0</td>\n",
       "      <td>3545.0</td>\n",
       "      <td>3534.0</td>\n",
       "      <td>2446.0</td>\n",
       "      <td>21.0</td>\n",
       "      <td>/home/rstudio/data/anndata/Esophagus.h5ad</td>\n",
       "      <td>sample1</td>\n",
       "      <td>1465</td>\n",
       "      <td>7.290293</td>\n",
       "      <td>1574.0</td>\n",
       "      <td>7.362010</td>\n",
       "      <td>3636.0</td>\n",
       "      <td>127.64</td>\n",
       "      <td>3418.0</td>\n",
       "      <td>1088.0</td>\n",
       "      <td>0.318315</td>\n",
       "      <td>1254.0</td>\n",
       "      <td>3.165838</td>\n",
       "    </tr>\n",
       "    <tr>\n",
       "      <th>TTCCATCCTCTTGGCTGTCTGT</th>\n",
       "      <td>2986.0</td>\n",
       "      <td>2611.0</td>\n",
       "      <td>2607.0</td>\n",
       "      <td>1750.0</td>\n",
       "      <td>9.0</td>\n",
       "      <td>/home/rstudio/data/anndata/Esophagus.h5ad</td>\n",
       "      <td>sample1</td>\n",
       "      <td>659</td>\n",
       "      <td>6.492240</td>\n",
       "      <td>702.0</td>\n",
       "      <td>6.555357</td>\n",
       "      <td>2546.0</td>\n",
       "      <td>132.75</td>\n",
       "      <td>2552.0</td>\n",
       "      <td>584.0</td>\n",
       "      <td>0.228840</td>\n",
       "      <td>524.0</td>\n",
       "      <td>2.818885</td>\n",
       "    </tr>\n",
       "  </tbody>\n",
       "</table>\n",
       "<p>11552 rows × 18 columns</p>\n",
       "</div>"
      ],
      "text/plain": [
       "                             TN       UM       PP       UQ      CM  \\\n",
       "barcode                                                              \n",
       "AAACTACCAGAAACGTCCCGTT   6223.0   5232.0   5214.0   3780.0    18.0   \n",
       "AAACTACCAGAACTAACGTCGA   8196.0   6756.0   6737.0   4617.0   382.0   \n",
       "AAACTACCAGAATGGCCGTTTC  23198.0  20082.0  20039.0  14075.0  1132.0   \n",
       "AAACTACCAGAATGGTTCCCTT  15045.0  13327.0  13295.0   8745.0    21.0   \n",
       "AAACTACCAGACAGATCAACGC   5869.0   4993.0   4976.0   3411.0    35.0   \n",
       "...                         ...      ...      ...      ...     ...   \n",
       "TTCCATCCTCTTCTCATGGTCA   5447.0   4744.0   4728.0   3243.0    10.0   \n",
       "TTCCATCCTCTTGACAAGTCCT   1577.0   1342.0   1337.0    909.0     1.0   \n",
       "TTCCATCCTCTTGAGCCCGGAT   9935.0   7985.0   7957.0   5603.0    13.0   \n",
       "TTCCATCCTCTTGCATGTACGC   4033.0   3545.0   3534.0   2446.0    21.0   \n",
       "TTCCATCCTCTTGGCTGTCTGT   2986.0   2611.0   2607.0   1750.0     9.0   \n",
       "\n",
       "                                                             file   sample  \\\n",
       "barcode                                                                      \n",
       "AAACTACCAGAAACGTCCCGTT  /home/rstudio/data/anndata/Esophagus.h5ad  sample1   \n",
       "AAACTACCAGAACTAACGTCGA  /home/rstudio/data/anndata/Esophagus.h5ad  sample1   \n",
       "AAACTACCAGAATGGCCGTTTC  /home/rstudio/data/anndata/Esophagus.h5ad  sample1   \n",
       "AAACTACCAGAATGGTTCCCTT  /home/rstudio/data/anndata/Esophagus.h5ad  sample1   \n",
       "AAACTACCAGACAGATCAACGC  /home/rstudio/data/anndata/Esophagus.h5ad  sample1   \n",
       "...                                                           ...      ...   \n",
       "TTCCATCCTCTTCTCATGGTCA  /home/rstudio/data/anndata/Esophagus.h5ad  sample1   \n",
       "TTCCATCCTCTTGACAAGTCCT  /home/rstudio/data/anndata/Esophagus.h5ad  sample1   \n",
       "TTCCATCCTCTTGAGCCCGGAT  /home/rstudio/data/anndata/Esophagus.h5ad  sample1   \n",
       "TTCCATCCTCTTGCATGTACGC  /home/rstudio/data/anndata/Esophagus.h5ad  sample1   \n",
       "TTCCATCCTCTTGGCTGTCTGT  /home/rstudio/data/anndata/Esophagus.h5ad  sample1   \n",
       "\n",
       "                        n_features_by_counts  log1p_n_features_by_counts  \\\n",
       "barcode                                                                    \n",
       "AAACTACCAGAAACGTCCCGTT                  1596                    7.375882   \n",
       "AAACTACCAGAACTAACGTCGA                   304                    5.720312   \n",
       "AAACTACCAGAATGGCCGTTTC                  4251                    8.355145   \n",
       "AAACTACCAGAATGGTTCCCTT                  4991                    8.515592   \n",
       "AAACTACCAGACAGATCAACGC                  1488                    7.305860   \n",
       "...                                      ...                         ...   \n",
       "TTCCATCCTCTTCTCATGGTCA                  1696                    7.436617   \n",
       "TTCCATCCTCTTGACAAGTCCT                   332                    5.808142   \n",
       "TTCCATCCTCTTGAGCCCGGAT                   636                    6.456770   \n",
       "TTCCATCCTCTTGCATGTACGC                  1465                    7.290293   \n",
       "TTCCATCCTCTTGGCTGTCTGT                   659                    6.492240   \n",
       "\n",
       "                        total_counts  log1p_total_counts  insertsize_count  \\\n",
       "barcode                                                                      \n",
       "AAACTACCAGAAACGTCCCGTT        1733.0            7.458186            4923.0   \n",
       "AAACTACCAGAACTAACGTCGA         492.0            6.200509            6729.0   \n",
       "AAACTACCAGAATGGCCGTTTC        5086.0            8.534444           21325.0   \n",
       "AAACTACCAGAATGGTTCCCTT        5948.0            8.690978           13522.0   \n",
       "AAACTACCAGACAGATCAACGC        1674.0            7.423568            4977.0   \n",
       "...                              ...                 ...               ...   \n",
       "TTCCATCCTCTTCTCATGGTCA        1826.0            7.510430            4810.0   \n",
       "TTCCATCCTCTTGACAAGTCCT         360.0            5.888878            1327.0   \n",
       "TTCCATCCTCTTGAGCCCGGAT         677.0            6.519147            7769.0   \n",
       "TTCCATCCTCTTGCATGTACGC        1574.0            7.362010            3636.0   \n",
       "TTCCATCCTCTTGGCTGTCTGT         702.0            6.555357            2546.0   \n",
       "\n",
       "                        mean_insertsize  n_total_fragments  \\\n",
       "barcode                                                      \n",
       "AAACTACCAGAAACGTCCCGTT           137.92             5210.0   \n",
       "AAACTACCAGAACTAACGTCGA           141.34             6864.0   \n",
       "AAACTACCAGAATGGCCGTTTC           123.58            19440.0   \n",
       "AAACTACCAGAATGGTTCCCTT           117.86            13994.0   \n",
       "AAACTACCAGACAGATCAACGC           127.09             5046.0   \n",
       "...                                 ...                ...   \n",
       "TTCCATCCTCTTCTCATGGTCA           142.30             4560.0   \n",
       "TTCCATCCTCTTGACAAGTCCT           139.90             1345.0   \n",
       "TTCCATCCTCTTGAGCCCGGAT           159.39             7717.0   \n",
       "TTCCATCCTCTTGCATGTACGC           127.64             3418.0   \n",
       "TTCCATCCTCTTGGCTGTCTGT           132.75             2552.0   \n",
       "\n",
       "                        n_fragments_in_promoters  pct_fragments_in_promoters  \\\n",
       "barcode                                                                        \n",
       "AAACTACCAGAAACGTCCCGTT                    1256.0                    0.241075   \n",
       "AAACTACCAGAACTAACGTCGA                    1095.0                    0.159528   \n",
       "AAACTACCAGAATGGCCGTTTC                    6030.0                    0.310185   \n",
       "AAACTACCAGAATGGTTCCCTT                    4001.0                    0.285908   \n",
       "AAACTACCAGACAGATCAACGC                    1542.0                    0.305589   \n",
       "...                                          ...                         ...   \n",
       "TTCCATCCTCTTCTCATGGTCA                    1396.0                    0.306140   \n",
       "TTCCATCCTCTTGACAAGTCCT                     350.0                    0.260223   \n",
       "TTCCATCCTCTTGAGCCCGGAT                     712.0                    0.092264   \n",
       "TTCCATCCTCTTGCATGTACGC                    1088.0                    0.318315   \n",
       "TTCCATCCTCTTGGCTGTCTGT                     584.0                    0.228840   \n",
       "\n",
       "                        nb_features  log_nb_features  \n",
       "barcode                                               \n",
       "AAACTACCAGAAACGTCCCGTT       1308.0         3.203033  \n",
       "AAACTACCAGAACTAACGTCGA        255.0         2.482874  \n",
       "AAACTACCAGAATGGCCGTTTC       3756.0         3.628491  \n",
       "AAACTACCAGAATGGTTCCCTT       4245.0         3.698188  \n",
       "AAACTACCAGACAGATCAACGC       1132.0         3.172603  \n",
       "...                             ...              ...  \n",
       "TTCCATCCTCTTCTCATGGTCA       1443.0         3.229426  \n",
       "TTCCATCCTCTTGACAAGTCCT        239.0         2.521138  \n",
       "TTCCATCCTCTTGAGCCCGGAT        526.0         2.803457  \n",
       "TTCCATCCTCTTGCATGTACGC       1254.0         3.165838  \n",
       "TTCCATCCTCTTGGCTGTCTGT        524.0         2.818885  \n",
       "\n",
       "[11552 rows x 18 columns]"
      ]
     },
     "execution_count": 96,
     "metadata": {},
     "output_type": "execute_result"
    }
   ],
   "source": [
    "adata.obs"
   ]
  },
  {
   "cell_type": "code",
   "execution_count": 97,
   "id": "19ee3a4a",
   "metadata": {},
   "outputs": [
    {
     "data": {
      "text/html": [
       "<div>\n",
       "<style scoped>\n",
       "    .dataframe tbody tr th:only-of-type {\n",
       "        vertical-align: middle;\n",
       "    }\n",
       "\n",
       "    .dataframe tbody tr th {\n",
       "        vertical-align: top;\n",
       "    }\n",
       "\n",
       "    .dataframe thead th {\n",
       "        text-align: right;\n",
       "    }\n",
       "</style>\n",
       "<table border=\"1\" class=\"dataframe\">\n",
       "  <thead>\n",
       "    <tr style=\"text-align: right;\">\n",
       "      <th></th>\n",
       "      <th>n_cells_by_counts</th>\n",
       "      <th>mean_counts</th>\n",
       "      <th>log1p_mean_counts</th>\n",
       "      <th>pct_dropout_by_counts</th>\n",
       "      <th>total_counts</th>\n",
       "      <th>log1p_total_counts</th>\n",
       "      <th>n_cells</th>\n",
       "      <th>commonness</th>\n",
       "      <th>prop_shared_cells</th>\n",
       "      <th>variability_score</th>\n",
       "    </tr>\n",
       "    <tr>\n",
       "      <th>name</th>\n",
       "      <th></th>\n",
       "      <th></th>\n",
       "      <th></th>\n",
       "      <th></th>\n",
       "      <th></th>\n",
       "      <th></th>\n",
       "      <th></th>\n",
       "      <th></th>\n",
       "      <th></th>\n",
       "      <th></th>\n",
       "    </tr>\n",
       "  </thead>\n",
       "  <tbody>\n",
       "    <tr>\n",
       "      <th>b'chr1':10008-10690</th>\n",
       "      <td>411</td>\n",
       "      <td>0.005825</td>\n",
       "      <td>0.005808</td>\n",
       "      <td>99.441970</td>\n",
       "      <td>429.0</td>\n",
       "      <td>6.063785</td>\n",
       "      <td>317</td>\n",
       "      <td>411.0</td>\n",
       "      <td>0.005730</td>\n",
       "      <td>0.505730</td>\n",
       "    </tr>\n",
       "    <tr>\n",
       "      <th>b'chr1':28734-29439</th>\n",
       "      <td>22</td>\n",
       "      <td>0.000299</td>\n",
       "      <td>0.000299</td>\n",
       "      <td>99.970130</td>\n",
       "      <td>22.0</td>\n",
       "      <td>3.135494</td>\n",
       "      <td>15</td>\n",
       "      <td>22.0</td>\n",
       "      <td>0.000307</td>\n",
       "      <td>0.500307</td>\n",
       "    </tr>\n",
       "    <tr>\n",
       "      <th>b'chr1':180715-182001</th>\n",
       "      <td>566</td>\n",
       "      <td>0.008472</td>\n",
       "      <td>0.008437</td>\n",
       "      <td>99.231521</td>\n",
       "      <td>624.0</td>\n",
       "      <td>6.437752</td>\n",
       "      <td>437</td>\n",
       "      <td>566.0</td>\n",
       "      <td>0.007891</td>\n",
       "      <td>0.507891</td>\n",
       "    </tr>\n",
       "    <tr>\n",
       "      <th>b'chr1':267912-268112</th>\n",
       "      <td>84</td>\n",
       "      <td>0.001154</td>\n",
       "      <td>0.001153</td>\n",
       "      <td>99.885950</td>\n",
       "      <td>85.0</td>\n",
       "      <td>4.454347</td>\n",
       "      <td>55</td>\n",
       "      <td>84.0</td>\n",
       "      <td>0.001171</td>\n",
       "      <td>0.501171</td>\n",
       "    </tr>\n",
       "    <tr>\n",
       "      <th>b'chr1':586083-586296</th>\n",
       "      <td>43</td>\n",
       "      <td>0.000625</td>\n",
       "      <td>0.000624</td>\n",
       "      <td>99.941617</td>\n",
       "      <td>46.0</td>\n",
       "      <td>3.850148</td>\n",
       "      <td>30</td>\n",
       "      <td>43.0</td>\n",
       "      <td>0.000600</td>\n",
       "      <td>0.500600</td>\n",
       "    </tr>\n",
       "    <tr>\n",
       "      <th>...</th>\n",
       "      <td>...</td>\n",
       "      <td>...</td>\n",
       "      <td>...</td>\n",
       "      <td>...</td>\n",
       "      <td>...</td>\n",
       "      <td>...</td>\n",
       "      <td>...</td>\n",
       "      <td>...</td>\n",
       "      <td>...</td>\n",
       "      <td>...</td>\n",
       "    </tr>\n",
       "    <tr>\n",
       "      <th>b'chrY':56850341-56850512</th>\n",
       "      <td>168</td>\n",
       "      <td>0.002430</td>\n",
       "      <td>0.002427</td>\n",
       "      <td>99.771900</td>\n",
       "      <td>179.0</td>\n",
       "      <td>5.192957</td>\n",
       "      <td>138</td>\n",
       "      <td>168.0</td>\n",
       "      <td>0.002342</td>\n",
       "      <td>0.502342</td>\n",
       "    </tr>\n",
       "    <tr>\n",
       "      <th>b'chrY':56850727-56850991</th>\n",
       "      <td>317</td>\n",
       "      <td>0.004969</td>\n",
       "      <td>0.004957</td>\n",
       "      <td>99.569598</td>\n",
       "      <td>366.0</td>\n",
       "      <td>5.905362</td>\n",
       "      <td>259</td>\n",
       "      <td>317.0</td>\n",
       "      <td>0.004420</td>\n",
       "      <td>0.504420</td>\n",
       "    </tr>\n",
       "    <tr>\n",
       "      <th>b'chrY':56851054-56851184</th>\n",
       "      <td>113</td>\n",
       "      <td>0.001643</td>\n",
       "      <td>0.001642</td>\n",
       "      <td>99.846576</td>\n",
       "      <td>121.0</td>\n",
       "      <td>4.804021</td>\n",
       "      <td>92</td>\n",
       "      <td>113.0</td>\n",
       "      <td>0.001575</td>\n",
       "      <td>0.501575</td>\n",
       "    </tr>\n",
       "    <tr>\n",
       "      <th>b'chrY':56870839-56871012</th>\n",
       "      <td>58</td>\n",
       "      <td>0.000828</td>\n",
       "      <td>0.000828</td>\n",
       "      <td>99.921251</td>\n",
       "      <td>61.0</td>\n",
       "      <td>4.127134</td>\n",
       "      <td>47</td>\n",
       "      <td>58.0</td>\n",
       "      <td>0.000809</td>\n",
       "      <td>0.500809</td>\n",
       "    </tr>\n",
       "    <tr>\n",
       "      <th>b'chrY':56886845-56887005</th>\n",
       "      <td>23</td>\n",
       "      <td>0.000326</td>\n",
       "      <td>0.000326</td>\n",
       "      <td>99.968772</td>\n",
       "      <td>24.0</td>\n",
       "      <td>3.218876</td>\n",
       "      <td>22</td>\n",
       "      <td>23.0</td>\n",
       "      <td>0.000321</td>\n",
       "      <td>0.500321</td>\n",
       "    </tr>\n",
       "  </tbody>\n",
       "</table>\n",
       "<p>139599 rows × 10 columns</p>\n",
       "</div>"
      ],
      "text/plain": [
       "                           n_cells_by_counts  mean_counts  log1p_mean_counts  \\\n",
       "name                                                                           \n",
       "b'chr1':10008-10690                      411     0.005825           0.005808   \n",
       "b'chr1':28734-29439                       22     0.000299           0.000299   \n",
       "b'chr1':180715-182001                    566     0.008472           0.008437   \n",
       "b'chr1':267912-268112                     84     0.001154           0.001153   \n",
       "b'chr1':586083-586296                     43     0.000625           0.000624   \n",
       "...                                      ...          ...                ...   \n",
       "b'chrY':56850341-56850512                168     0.002430           0.002427   \n",
       "b'chrY':56850727-56850991                317     0.004969           0.004957   \n",
       "b'chrY':56851054-56851184                113     0.001643           0.001642   \n",
       "b'chrY':56870839-56871012                 58     0.000828           0.000828   \n",
       "b'chrY':56886845-56887005                 23     0.000326           0.000326   \n",
       "\n",
       "                           pct_dropout_by_counts  total_counts  \\\n",
       "name                                                             \n",
       "b'chr1':10008-10690                    99.441970         429.0   \n",
       "b'chr1':28734-29439                    99.970130          22.0   \n",
       "b'chr1':180715-182001                  99.231521         624.0   \n",
       "b'chr1':267912-268112                  99.885950          85.0   \n",
       "b'chr1':586083-586296                  99.941617          46.0   \n",
       "...                                          ...           ...   \n",
       "b'chrY':56850341-56850512              99.771900         179.0   \n",
       "b'chrY':56850727-56850991              99.569598         366.0   \n",
       "b'chrY':56851054-56851184              99.846576         121.0   \n",
       "b'chrY':56870839-56871012              99.921251          61.0   \n",
       "b'chrY':56886845-56887005              99.968772          24.0   \n",
       "\n",
       "                           log1p_total_counts  n_cells  commonness  \\\n",
       "name                                                                 \n",
       "b'chr1':10008-10690                  6.063785      317       411.0   \n",
       "b'chr1':28734-29439                  3.135494       15        22.0   \n",
       "b'chr1':180715-182001                6.437752      437       566.0   \n",
       "b'chr1':267912-268112                4.454347       55        84.0   \n",
       "b'chr1':586083-586296                3.850148       30        43.0   \n",
       "...                                       ...      ...         ...   \n",
       "b'chrY':56850341-56850512            5.192957      138       168.0   \n",
       "b'chrY':56850727-56850991            5.905362      259       317.0   \n",
       "b'chrY':56851054-56851184            4.804021       92       113.0   \n",
       "b'chrY':56870839-56871012            4.127134       47        58.0   \n",
       "b'chrY':56886845-56887005            3.218876       22        23.0   \n",
       "\n",
       "                           prop_shared_cells  variability_score  \n",
       "name                                                             \n",
       "b'chr1':10008-10690                 0.005730           0.505730  \n",
       "b'chr1':28734-29439                 0.000307           0.500307  \n",
       "b'chr1':180715-182001               0.007891           0.507891  \n",
       "b'chr1':267912-268112               0.001171           0.501171  \n",
       "b'chr1':586083-586296               0.000600           0.500600  \n",
       "...                                      ...                ...  \n",
       "b'chrY':56850341-56850512           0.002342           0.502342  \n",
       "b'chrY':56850727-56850991           0.004420           0.504420  \n",
       "b'chrY':56851054-56851184           0.001575           0.501575  \n",
       "b'chrY':56870839-56871012           0.000809           0.500809  \n",
       "b'chrY':56886845-56887005           0.000321           0.500321  \n",
       "\n",
       "[139599 rows x 10 columns]"
      ]
     },
     "execution_count": 97,
     "metadata": {},
     "output_type": "execute_result"
    }
   ],
   "source": [
    "adata.var"
   ]
  },
  {
   "cell_type": "code",
   "execution_count": 98,
   "id": "877a2815",
   "metadata": {},
   "outputs": [],
   "source": [
    "adata_output = tree.qc_anndata\n",
    "adata.write(filename=adata_output)"
   ]
  },
  {
   "cell_type": "code",
   "execution_count": null,
   "id": "b28eff51",
   "metadata": {},
   "outputs": [],
   "source": []
  }
 ],
 "metadata": {
  "kernelspec": {
   "display_name": "single-cell-base",
   "language": "python",
   "name": "sc_base"
  },
  "language_info": {
   "codemirror_mode": {
    "name": "ipython",
    "version": 3
   },
   "file_extension": ".py",
   "mimetype": "text/x-python",
   "name": "python",
   "nbconvert_exporter": "python",
   "pygments_lexer": "ipython3",
   "version": "3.7.12"
  }
 },
 "nbformat": 4,
 "nbformat_minor": 5
}
