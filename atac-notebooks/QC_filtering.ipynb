{
 "cells": [
  {
   "cell_type": "markdown",
   "id": "ac317ff1",
   "metadata": {
    "pycharm": {
     "name": "#%% md\n"
    }
   },
   "source": [
    "# QC filtering\n",
    "\n",
    "This notebook is about filtering scATAC seq data within an adata object to archive a good quality peak matrix.\n",
    "For this task various QC filters are implemented. The latter includes filters related to:\n",
    "\n",
    "- doublet score\n",
    "- number of features per barcode\n",
    "- mean insert size\n",
    "- promotor enrichment\n"
   ]
  },
  {
   "cell_type": "markdown",
   "id": "c1405c2c",
   "metadata": {
    "pycharm": {
     "name": "#%% md\n"
    }
   },
   "source": [
    "## Settings"
   ]
  },
  {
   "cell_type": "code",
   "execution_count": 25,
   "id": "a9f4fe6c",
   "metadata": {
    "pycharm": {
     "name": "#%%\n"
    }
   },
   "outputs": [],
   "source": [
    "#Path related settings (these should be the same as for the previous notebook)\n",
    "output_dir = '/mnt/workspace/jdetlef/processed_data'\n",
    "test = 'Stomach_95'"
   ]
  },
  {
   "cell_type": "markdown",
   "id": "fdeeb2bb",
   "metadata": {
    "pycharm": {
     "name": "#%% md\n"
    }
   },
   "source": [
    "## QC Settings"
   ]
  },
  {
   "cell_type": "code",
   "execution_count": 26,
   "id": "5285011f",
   "metadata": {
    "pycharm": {
     "name": "#%%\n"
    }
   },
   "outputs": [],
   "source": [
    "# Set the column in adata.obs containing the biological condition to evaluate\n",
    "condition_column = \"sample\"\n",
    "\n",
    "filter_xy = True  # True or False; filtering out chrX and chrY\n",
    "binarize_mtx = True  # True or False; convert matrix to binary\n",
    "select_hvf = True  # True or False; select only highly variable features\n",
    "\n",
    "# Highly Variable Features thresholds:\n",
    "min_limit = 1000\n",
    "max_limit = 5000\n",
    "\n",
    "############################# filters ##########################################\n",
    "\n",
    "# Decide whether to estimate thresholds individual per condition (False) or globally (True)\n",
    "global_threshold = True\n",
    "\n",
    "# Filter to use:\n",
    "n_features_filter = True # True or False; filtering out cells with numbers of features not in the range defined below\n",
    "mean_insertsize_filter = True # True or False; filtering out cells with mean insertsize not in the range defined below\n",
    "filter_pct_fp= False # True or False; filtering out cells with promotor_enrichment not in the range defined below\n",
    "filter_n_fragments= False # True or False; filtering out cells with promotor_enrichment not in the range defined below\n",
    "filter_chrM_fragments= False # True or False; filtering out cells with promotor_enrichment not in the range defined below\n",
    "filter_uniquely_mapped_fragments= False # True or False; filtering out cells with promotor_enrichment not in the range defined\n",
    "\n",
    "\n",
    "# if this is True thresholds below are ignored \n",
    "only_automatic_thresholds = False # True or False; to use automatic thresholds\n",
    "\n",
    "############################# set default values #######################################\n",
    "# \n",
    "# This will be applied to all samples the thresholds can be changed manually when plotted \n",
    "# if thresholds None they are set automatically\n",
    "\n",
    "# default values n_features \n",
    "min_features = 100\n",
    "max_features = 5000\n",
    "\n",
    "# default mean_insertsize\n",
    "upper_threshold_mis=None\n",
    "lower_threshold_mis=None\n",
    "\n",
    "# default promotor enrichment\n",
    "upper_threshold_pct_fp=None\n",
    "lower_threshold_pct_fp=None\n",
    "\n",
    "# default number of fragments\n",
    "upper_thr_fragments=None\n",
    "lower_thr_fragments=None\n",
    "\n",
    "# default number of fragments in chrM\n",
    "upper_thr_chrM_fragments=1000\n",
    "lower_thr_chrM_fragments=0\n",
    "\n",
    "# default number of uniquely mapped fragments\n",
    "upper_thr_um=20000\n",
    "lower_thr_um=0\n",
    "\n"
   ]
  },
  {
   "cell_type": "markdown",
   "id": "731616b9",
   "metadata": {},
   "source": [
    "## Sum up settings"
   ]
  },
  {
   "cell_type": "code",
   "execution_count": 27,
   "id": "af4a23ed",
   "metadata": {},
   "outputs": [],
   "source": [
    "manual_thresholds = {}\n",
    "if n_features_filter:\n",
    "    manual_thresholds['n_features_by_counts'] = {'min' : min_features, 'max' : max_features}\n",
    "\n",
    "if mean_insertsize_filter:\n",
    "    manual_thresholds['mean_insertsize'] = {'min' : lower_threshold_mis, 'max' : upper_threshold_mis}\n",
    "\n",
    "if filter_pct_fp:\n",
    "    manual_thresholds['pct_fragments_in_promoters'] = {'min' : lower_threshold_pct_fp, 'max' : upper_threshold_pct_fp}\n",
    "\n",
    "if filter_n_fragments:\n",
    "    manual_thresholds['TN'] = {'min' : lower_thr_fragments, 'max' : upper_thr_fragments}\n",
    "\n",
    "if filter_chrM_fragments:\n",
    "    manual_thresholds['CM'] = {'min' : lower_thr_chrM_fragments, 'max' : upper_thr_chrM_fragments}\n",
    "\n",
    "if filter_uniquely_mapped_fragments:\n",
    "    manual_thresholds['UM'] = {'min' : lower_thr_um, 'max' : upper_thr_um}\n",
    "\n",
    "obs_columns = list(manual_thresholds.keys())"
   ]
  },
  {
   "cell_type": "markdown",
   "id": "9bfd0589",
   "metadata": {
    "pycharm": {
     "name": "#%% md\n"
    }
   },
   "source": [
    "## Loading packages and setup"
   ]
  },
  {
   "cell_type": "code",
   "execution_count": 28,
   "id": "a5e585b0",
   "metadata": {
    "pycharm": {
     "name": "#%%\n"
    }
   },
   "outputs": [],
   "source": [
    "# sctoolbox modules\n",
    "import sctoolbox.atac_tree as sub_tree\n",
    "import sctoolbox.creators as cr\n",
    "import sctoolbox.annotation as an\n",
    "from sctoolbox.qc_filter import *\n",
    "from sctoolbox.plotting import *\n",
    "from sctoolbox.atac_utils import *\n",
    "import sctoolbox.atac as atac\n",
    "# import episcanpy\n",
    "import scanpy as sc\n",
    "import episcanpy as epi\n",
    "import numpy as np"
   ]
  },
  {
   "cell_type": "markdown",
   "id": "a3984998",
   "metadata": {
    "pycharm": {
     "name": "#%% md\n"
    }
   },
   "source": [
    "## Setup path handling object "
   ]
  },
  {
   "cell_type": "code",
   "execution_count": 29,
   "id": "7c230208",
   "metadata": {
    "pycharm": {
     "name": "#%%\n"
    }
   },
   "outputs": [
    {
     "name": "stdout",
     "output_type": "stream",
     "text": [
      "Warning: run is None\n",
      "all directories existing\n",
      "all directories existing\n"
     ]
    }
   ],
   "source": [
    "# make an instance of the class\n",
    "tree = sub_tree.ATAC_tree()\n",
    "# set processing/output directory\n",
    "tree.processing_dir = output_dir\n",
    "# set sample/experiment.. \n",
    "tree.run = test"
   ]
  },
  {
   "cell_type": "markdown",
   "id": "3d8408ce",
   "metadata": {
    "pycharm": {
     "name": "#%% md\n"
    }
   },
   "source": [
    "## Load anndata "
   ]
  },
  {
   "cell_type": "code",
   "execution_count": 30,
   "id": "5e989d23",
   "metadata": {
    "pycharm": {
     "name": "#%%\n"
    }
   },
   "outputs": [
    {
     "data": {
      "text/plain": [
       "AnnData object with n_obs × n_vars = 73462 × 119892\n",
       "    obs: 'TN', 'UM', 'PP', 'UQ', 'CM', 'file', 'sample', 'n_features_by_counts', 'log1p_n_features_by_counts', 'total_counts', 'log1p_total_counts', 'insertsize_count', 'mean_insertsize'\n",
       "    var: 'peak_chr', 'peak_start', 'peak_end', 'n_cells_by_counts', 'mean_counts', 'log1p_mean_counts', 'pct_dropout_by_counts', 'total_counts', 'log1p_total_counts'\n",
       "    uns: 'color_set', 'infoprocess', 'insertsize_distribution', 'legend'"
      ]
     },
     "execution_count": 30,
     "metadata": {},
     "output_type": "execute_result"
    }
   ],
   "source": [
    "# probably updated in future\n",
    "assembling_output = tree.assembled_anndata\n",
    "adata = epi.read_h5ad(assembling_output)\n",
    "adata"
   ]
  },
  {
   "cell_type": "code",
   "execution_count": 31,
   "id": "0e1adb38",
   "metadata": {},
   "outputs": [
    {
     "data": {
      "text/html": [
       "<div>\n",
       "<style scoped>\n",
       "    .dataframe tbody tr th:only-of-type {\n",
       "        vertical-align: middle;\n",
       "    }\n",
       "\n",
       "    .dataframe tbody tr th {\n",
       "        vertical-align: top;\n",
       "    }\n",
       "\n",
       "    .dataframe thead th {\n",
       "        text-align: right;\n",
       "    }\n",
       "</style>\n",
       "<table border=\"1\" class=\"dataframe\">\n",
       "  <thead>\n",
       "    <tr style=\"text-align: right;\">\n",
       "      <th></th>\n",
       "      <th>peak_chr</th>\n",
       "      <th>peak_start</th>\n",
       "      <th>peak_end</th>\n",
       "      <th>n_cells_by_counts</th>\n",
       "      <th>mean_counts</th>\n",
       "      <th>log1p_mean_counts</th>\n",
       "      <th>pct_dropout_by_counts</th>\n",
       "      <th>total_counts</th>\n",
       "      <th>log1p_total_counts</th>\n",
       "    </tr>\n",
       "    <tr>\n",
       "      <th>name</th>\n",
       "      <th></th>\n",
       "      <th></th>\n",
       "      <th></th>\n",
       "      <th></th>\n",
       "      <th></th>\n",
       "      <th></th>\n",
       "      <th></th>\n",
       "      <th></th>\n",
       "      <th></th>\n",
       "    </tr>\n",
       "  </thead>\n",
       "  <tbody>\n",
       "    <tr>\n",
       "      <th>b'chr1':10001-10595</th>\n",
       "      <td>chr1</td>\n",
       "      <td>10001</td>\n",
       "      <td>10595</td>\n",
       "      <td>530</td>\n",
       "      <td>0.008249</td>\n",
       "      <td>0.008215</td>\n",
       "      <td>99.278539</td>\n",
       "      <td>606.0</td>\n",
       "      <td>6.408529</td>\n",
       "    </tr>\n",
       "    <tr>\n",
       "      <th>b'chr1':11187-11337</th>\n",
       "      <td>chr1</td>\n",
       "      <td>11187</td>\n",
       "      <td>11337</td>\n",
       "      <td>0</td>\n",
       "      <td>0.000000</td>\n",
       "      <td>0.000000</td>\n",
       "      <td>100.000000</td>\n",
       "      <td>0.0</td>\n",
       "      <td>0.000000</td>\n",
       "    </tr>\n",
       "    <tr>\n",
       "      <th>b'chr1':28921-29450</th>\n",
       "      <td>chr1</td>\n",
       "      <td>28921</td>\n",
       "      <td>29450</td>\n",
       "      <td>12</td>\n",
       "      <td>0.000163</td>\n",
       "      <td>0.000163</td>\n",
       "      <td>99.983665</td>\n",
       "      <td>12.0</td>\n",
       "      <td>2.564949</td>\n",
       "    </tr>\n",
       "    <tr>\n",
       "      <th>b'chr1':34527-34969</th>\n",
       "      <td>chr1</td>\n",
       "      <td>34527</td>\n",
       "      <td>34969</td>\n",
       "      <td>0</td>\n",
       "      <td>0.000000</td>\n",
       "      <td>0.000000</td>\n",
       "      <td>100.000000</td>\n",
       "      <td>0.0</td>\n",
       "      <td>0.000000</td>\n",
       "    </tr>\n",
       "    <tr>\n",
       "      <th>b'chr1':91394-91476</th>\n",
       "      <td>chr1</td>\n",
       "      <td>91394</td>\n",
       "      <td>91476</td>\n",
       "      <td>0</td>\n",
       "      <td>0.000000</td>\n",
       "      <td>0.000000</td>\n",
       "      <td>100.000000</td>\n",
       "      <td>0.0</td>\n",
       "      <td>0.000000</td>\n",
       "    </tr>\n",
       "    <tr>\n",
       "      <th>...</th>\n",
       "      <td>...</td>\n",
       "      <td>...</td>\n",
       "      <td>...</td>\n",
       "      <td>...</td>\n",
       "      <td>...</td>\n",
       "      <td>...</td>\n",
       "      <td>...</td>\n",
       "      <td>...</td>\n",
       "      <td>...</td>\n",
       "    </tr>\n",
       "    <tr>\n",
       "      <th>b'chrY':57153540-57153622</th>\n",
       "      <td>chrY</td>\n",
       "      <td>57153540</td>\n",
       "      <td>57153622</td>\n",
       "      <td>0</td>\n",
       "      <td>0.000000</td>\n",
       "      <td>0.000000</td>\n",
       "      <td>100.000000</td>\n",
       "      <td>0.0</td>\n",
       "      <td>0.000000</td>\n",
       "    </tr>\n",
       "    <tr>\n",
       "      <th>b'chrY':57184033-57184210</th>\n",
       "      <td>chrY</td>\n",
       "      <td>57184033</td>\n",
       "      <td>57184210</td>\n",
       "      <td>0</td>\n",
       "      <td>0.000000</td>\n",
       "      <td>0.000000</td>\n",
       "      <td>100.000000</td>\n",
       "      <td>0.0</td>\n",
       "      <td>0.000000</td>\n",
       "    </tr>\n",
       "    <tr>\n",
       "      <th>b'chrY':57199873-57200000</th>\n",
       "      <td>chrY</td>\n",
       "      <td>57199873</td>\n",
       "      <td>57200000</td>\n",
       "      <td>0</td>\n",
       "      <td>0.000000</td>\n",
       "      <td>0.000000</td>\n",
       "      <td>100.000000</td>\n",
       "      <td>0.0</td>\n",
       "      <td>0.000000</td>\n",
       "    </tr>\n",
       "    <tr>\n",
       "      <th>b'chrY':57216666-57216796</th>\n",
       "      <td>chrY</td>\n",
       "      <td>57216666</td>\n",
       "      <td>57216796</td>\n",
       "      <td>0</td>\n",
       "      <td>0.000000</td>\n",
       "      <td>0.000000</td>\n",
       "      <td>100.000000</td>\n",
       "      <td>0.0</td>\n",
       "      <td>0.000000</td>\n",
       "    </tr>\n",
       "    <tr>\n",
       "      <th>b'chrY':57216884-57217308</th>\n",
       "      <td>chrY</td>\n",
       "      <td>57216884</td>\n",
       "      <td>57217308</td>\n",
       "      <td>0</td>\n",
       "      <td>0.000000</td>\n",
       "      <td>0.000000</td>\n",
       "      <td>100.000000</td>\n",
       "      <td>0.0</td>\n",
       "      <td>0.000000</td>\n",
       "    </tr>\n",
       "  </tbody>\n",
       "</table>\n",
       "<p>119892 rows × 9 columns</p>\n",
       "</div>"
      ],
      "text/plain": [
       "                          peak_chr peak_start  peak_end  n_cells_by_counts  \\\n",
       "name                                                                         \n",
       "b'chr1':10001-10595           chr1      10001     10595                530   \n",
       "b'chr1':11187-11337           chr1      11187     11337                  0   \n",
       "b'chr1':28921-29450           chr1      28921     29450                 12   \n",
       "b'chr1':34527-34969           chr1      34527     34969                  0   \n",
       "b'chr1':91394-91476           chr1      91394     91476                  0   \n",
       "...                            ...        ...       ...                ...   \n",
       "b'chrY':57153540-57153622     chrY   57153540  57153622                  0   \n",
       "b'chrY':57184033-57184210     chrY   57184033  57184210                  0   \n",
       "b'chrY':57199873-57200000     chrY   57199873  57200000                  0   \n",
       "b'chrY':57216666-57216796     chrY   57216666  57216796                  0   \n",
       "b'chrY':57216884-57217308     chrY   57216884  57217308                  0   \n",
       "\n",
       "                           mean_counts  log1p_mean_counts  \\\n",
       "name                                                        \n",
       "b'chr1':10001-10595           0.008249           0.008215   \n",
       "b'chr1':11187-11337           0.000000           0.000000   \n",
       "b'chr1':28921-29450           0.000163           0.000163   \n",
       "b'chr1':34527-34969           0.000000           0.000000   \n",
       "b'chr1':91394-91476           0.000000           0.000000   \n",
       "...                                ...                ...   \n",
       "b'chrY':57153540-57153622     0.000000           0.000000   \n",
       "b'chrY':57184033-57184210     0.000000           0.000000   \n",
       "b'chrY':57199873-57200000     0.000000           0.000000   \n",
       "b'chrY':57216666-57216796     0.000000           0.000000   \n",
       "b'chrY':57216884-57217308     0.000000           0.000000   \n",
       "\n",
       "                           pct_dropout_by_counts  total_counts  \\\n",
       "name                                                             \n",
       "b'chr1':10001-10595                    99.278539         606.0   \n",
       "b'chr1':11187-11337                   100.000000           0.0   \n",
       "b'chr1':28921-29450                    99.983665          12.0   \n",
       "b'chr1':34527-34969                   100.000000           0.0   \n",
       "b'chr1':91394-91476                   100.000000           0.0   \n",
       "...                                          ...           ...   \n",
       "b'chrY':57153540-57153622             100.000000           0.0   \n",
       "b'chrY':57184033-57184210             100.000000           0.0   \n",
       "b'chrY':57199873-57200000             100.000000           0.0   \n",
       "b'chrY':57216666-57216796             100.000000           0.0   \n",
       "b'chrY':57216884-57217308             100.000000           0.0   \n",
       "\n",
       "                           log1p_total_counts  \n",
       "name                                           \n",
       "b'chr1':10001-10595                  6.408529  \n",
       "b'chr1':11187-11337                  0.000000  \n",
       "b'chr1':28921-29450                  2.564949  \n",
       "b'chr1':34527-34969                  0.000000  \n",
       "b'chr1':91394-91476                  0.000000  \n",
       "...                                       ...  \n",
       "b'chrY':57153540-57153622            0.000000  \n",
       "b'chrY':57184033-57184210            0.000000  \n",
       "b'chrY':57199873-57200000            0.000000  \n",
       "b'chrY':57216666-57216796            0.000000  \n",
       "b'chrY':57216884-57217308            0.000000  \n",
       "\n",
       "[119892 rows x 9 columns]"
      ]
     },
     "execution_count": 31,
     "metadata": {},
     "output_type": "execute_result"
    }
   ],
   "source": [
    "adata.var "
   ]
  },
  {
   "cell_type": "code",
   "execution_count": 32,
   "id": "291df6a5",
   "metadata": {},
   "outputs": [
    {
     "data": {
      "text/plain": [
       "<AxesSubplot:xlabel='Insertsize (bp)', ylabel='Count'>"
      ]
     },
     "execution_count": 32,
     "metadata": {},
     "output_type": "execute_result"
    },
    {
     "data": {
      "image/png": "[encoded data removed]",
      "text/plain": [
       "<Figure size 432x288 with 1 Axes>"
      ]
     },
     "metadata": {
      "needs_background": "light"
     },
     "output_type": "display_data"
    }
   ],
   "source": [
    "atac.plot_insertsize(adata)"
   ]
  },
  {
   "cell_type": "markdown",
   "id": "db60f5ba",
   "metadata": {
    "pycharm": {
     "name": "#%% md\n"
    }
   },
   "source": [
    "# QC"
   ]
  },
  {
   "cell_type": "markdown",
   "id": "8bb2c8b4",
   "metadata": {
    "pycharm": {
     "name": "#%% md\n"
    }
   },
   "source": [
    "## 1. filtering out chrX, chrY and chrM"
   ]
  },
  {
   "cell_type": "code",
   "execution_count": 33,
   "id": "385bd38f",
   "metadata": {
    "pycharm": {
     "name": "#%%\n"
    }
   },
   "outputs": [],
   "source": [
    "non_m = [name for name in adata.var_names if not name.startswith('chrM')]  # remove chrM\n",
    "adata = adata[:, non_m]"
   ]
  },
  {
   "cell_type": "code",
   "execution_count": 34,
   "id": "1e221a49",
   "metadata": {
    "pycharm": {
     "name": "#%%\n"
    }
   },
   "outputs": [],
   "source": [
    "if filter_xy:\n",
    "    non_xy = [name for name in adata.var_names if not name.startswith('chrY') | name.startswith('chrX')]\n",
    "    adata = adata[:, non_xy]"
   ]
  },
  {
   "cell_type": "code",
   "execution_count": 35,
   "id": "dc05d7b8",
   "metadata": {
    "pycharm": {
     "name": "#%%\n"
    }
   },
   "outputs": [
    {
     "data": {
      "text/plain": [
       "View of AnnData object with n_obs × n_vars = 73462 × 119892\n",
       "    obs: 'TN', 'UM', 'PP', 'UQ', 'CM', 'file', 'sample', 'n_features_by_counts', 'log1p_n_features_by_counts', 'total_counts', 'log1p_total_counts', 'insertsize_count', 'mean_insertsize'\n",
       "    var: 'peak_chr', 'peak_start', 'peak_end', 'n_cells_by_counts', 'mean_counts', 'log1p_mean_counts', 'pct_dropout_by_counts', 'total_counts', 'log1p_total_counts'\n",
       "    uns: 'color_set', 'infoprocess', 'insertsize_distribution', 'legend'"
      ]
     },
     "metadata": {},
     "output_type": "display_data"
    }
   ],
   "source": [
    "display(adata)"
   ]
  },
  {
   "cell_type": "markdown",
   "id": "2f801142",
   "metadata": {
    "pycharm": {
     "name": "#%% md\n"
    }
   },
   "source": [
    "## 2. removing empty cells and features"
   ]
  },
  {
   "cell_type": "code",
   "execution_count": 36,
   "id": "1bfb0aa0",
   "metadata": {
    "pycharm": {
     "name": "#%%\n"
    }
   },
   "outputs": [
    {
     "name": "stderr",
     "output_type": "stream",
     "text": [
      " ImplicitModificationWarning:/home/jdetlef/.conda/envs/atac-base/lib/python3.7/site-packages/scanpy/preprocessing/_simple.py:140: Trying to modify attribute `.obs` of view, initializing view as actual.\n"
     ]
    },
    {
     "data": {
      "text/plain": [
       "AnnData object with n_obs × n_vars = 67182 × 105026\n",
       "    obs: 'TN', 'UM', 'PP', 'UQ', 'CM', 'file', 'sample', 'n_features_by_counts', 'log1p_n_features_by_counts', 'total_counts', 'log1p_total_counts', 'insertsize_count', 'mean_insertsize', 'nb_features', 'log_nb_features'\n",
       "    var: 'peak_chr', 'peak_start', 'peak_end', 'n_cells_by_counts', 'mean_counts', 'log1p_mean_counts', 'pct_dropout_by_counts', 'total_counts', 'log1p_total_counts', 'n_cells'\n",
       "    uns: 'color_set', 'infoprocess', 'insertsize_distribution', 'legend'"
      ]
     },
     "metadata": {},
     "output_type": "display_data"
    }
   ],
   "source": [
    "epi.pp.filter_cells(adata, min_features=1)\n",
    "epi.pp.filter_features(adata, min_cells=10)\n",
    "#epi.pp.filter_features(adata, max_cells=2000)\n",
    "# log-convert number of features\n",
    "adata.obs['log_nb_features'] = [np.log10(x) for x in adata.obs['nb_features']]\n",
    "display(adata)"
   ]
  },
  {
   "cell_type": "markdown",
   "id": "7f9c9318",
   "metadata": {
    "pycharm": {
     "name": "#%% md\n"
    }
   },
   "source": [
    "## 3. binarize"
   ]
  },
  {
   "cell_type": "code",
   "execution_count": 37,
   "id": "1cc85ce4",
   "metadata": {
    "pycharm": {
     "name": "#%%\n"
    }
   },
   "outputs": [],
   "source": [
    "adata.raw = adata\n",
    "if binarize_mtx:\n",
    "    epi.pp.binarize(adata)\n",
    "    adata.layers['binary'] = adata.X.copy()"
   ]
  },
  {
   "cell_type": "markdown",
   "id": "ef346453",
   "metadata": {
    "pycharm": {
     "name": "#%%\n"
    }
   },
   "source": [
    "## 5. visualize adata"
   ]
  },
  {
   "cell_type": "code",
   "execution_count": 38,
   "id": "931943e7",
   "metadata": {
    "pycharm": {
     "name": "#%%\n"
    }
   },
   "outputs": [
    {
     "data": {
      "image/png": "[encoded data removed]",
      "text/plain": [
       "<Figure size 432x288 with 1 Axes>"
      ]
     },
     "metadata": {
      "needs_background": "light"
     },
     "output_type": "display_data"
    },
    {
     "data": {
      "image/png": "[encoded data removed]",
      "text/plain": [
       "<Figure size 432x288 with 1 Axes>"
      ]
     },
     "metadata": {},
     "output_type": "display_data"
    },
    {
     "name": "stderr",
     "output_type": "stream",
     "text": [
      " FutureWarning:/home/jdetlef/.conda/envs/atac-base/lib/python3.7/site-packages/seaborn/distributions.py:2619: `distplot` is a deprecated function and will be removed in a future version. Please adapt your code to use either `displot` (a figure-level function with similar flexibility) or `histplot` (an axes-level function for histograms).\n",
      " FutureWarning:/home/jdetlef/.conda/envs/atac-base/lib/python3.7/site-packages/seaborn/distributions.py:2619: `distplot` is a deprecated function and will be removed in a future version. Please adapt your code to use either `displot` (a figure-level function with similar flexibility) or `histplot` (an axes-level function for histograms).\n"
     ]
    },
    {
     "data": {
      "image/png": "[encoded data removed]",
      "text/plain": [
       "<Figure size 432x288 with 2 Axes>"
      ]
     },
     "metadata": {},
     "output_type": "display_data"
    },
    {
     "data": {
      "text/plain": [
       "AnnData object with n_obs × n_vars = 67182 × 105026\n",
       "    obs: 'TN', 'UM', 'PP', 'UQ', 'CM', 'file', 'sample', 'n_features_by_counts', 'log1p_n_features_by_counts', 'total_counts', 'log1p_total_counts', 'insertsize_count', 'mean_insertsize', 'nb_features', 'log_nb_features'\n",
       "    var: 'peak_chr', 'peak_start', 'peak_end', 'n_cells_by_counts', 'mean_counts', 'log1p_mean_counts', 'pct_dropout_by_counts', 'total_counts', 'log1p_total_counts', 'n_cells', 'commonness', 'prop_shared_cells', 'variability_score'\n",
       "    uns: 'color_set', 'infoprocess', 'insertsize_distribution', 'legend'\n",
       "    layers: 'binary'"
      ]
     },
     "execution_count": 38,
     "metadata": {},
     "output_type": "execute_result"
    }
   ],
   "source": [
    "plot_ov_hist(adata, threshold_features=50) # FIXME: Later plots do not visualize"
   ]
  },
  {
   "cell_type": "markdown",
   "id": "2ae501e8",
   "metadata": {
    "pycharm": {
     "name": "#%%\n"
    }
   },
   "source": [
    "## 6. filter cells"
   ]
  },
  {
   "cell_type": "markdown",
   "id": "664bd8fe",
   "metadata": {},
   "source": [
    "### 6.1 get thresholds dict"
   ]
  },
  {
   "cell_type": "code",
   "execution_count": 39,
   "id": "268d6710",
   "metadata": {},
   "outputs": [
    {
     "data": {
      "text/plain": [
       "{'n_features_by_counts': {'min': 100, 'max': 5000},\n",
       " 'mean_insertsize': {'min': None, 'max': None}}"
      ]
     },
     "execution_count": 39,
     "metadata": {},
     "output_type": "execute_result"
    }
   ],
   "source": [
    "groupby = condition_column if global_threshold is False else None\n",
    "default_thresholds = build_default_thresholds(adata, manual_thresholds, groupby)\n",
    "default_thresholds"
   ]
  },
  {
   "cell_type": "code",
   "execution_count": 40,
   "id": "4e66c4c1",
   "metadata": {
    "pycharm": {
     "name": "#%%\n"
    }
   },
   "outputs": [
    {
     "data": {
      "text/html": [
       "<div>\n",
       "<style scoped>\n",
       "    .dataframe tbody tr th:only-of-type {\n",
       "        vertical-align: middle;\n",
       "    }\n",
       "\n",
       "    .dataframe tbody tr th {\n",
       "        vertical-align: top;\n",
       "    }\n",
       "\n",
       "    .dataframe thead th {\n",
       "        text-align: right;\n",
       "    }\n",
       "</style>\n",
       "<table border=\"1\" class=\"dataframe\">\n",
       "  <thead>\n",
       "    <tr style=\"text-align: right;\">\n",
       "      <th></th>\n",
       "      <th>Parameter</th>\n",
       "      <th>Minimum</th>\n",
       "      <th>Maximum</th>\n",
       "    </tr>\n",
       "  </thead>\n",
       "  <tbody>\n",
       "    <tr>\n",
       "      <th>0</th>\n",
       "      <td>n_features_by_counts</td>\n",
       "      <td>100.000000</td>\n",
       "      <td>5000.000000</td>\n",
       "    </tr>\n",
       "    <tr>\n",
       "      <th>1</th>\n",
       "      <td>mean_insertsize</td>\n",
       "      <td>-38.824601</td>\n",
       "      <td>250.602283</td>\n",
       "    </tr>\n",
       "  </tbody>\n",
       "</table>\n",
       "</div>"
      ],
      "text/plain": [
       "              Parameter     Minimum      Maximum\n",
       "0  n_features_by_counts  100.000000  5000.000000\n",
       "1       mean_insertsize  -38.824601   250.602283"
      ]
     },
     "execution_count": 40,
     "metadata": {},
     "output_type": "execute_result"
    }
   ],
   "source": [
    "thresholds = get_thresholds_atac_wrapper(adata, default_thresholds, only_automatic_thresholds, groupby=None)\n",
    "thresholds_as_table(thresholds)"
   ]
  },
  {
   "cell_type": "markdown",
   "id": "acde2adf",
   "metadata": {},
   "source": [
    "### 6.2 plot thresholds"
   ]
  },
  {
   "cell_type": "code",
   "execution_count": 41,
   "id": "6891314c",
   "metadata": {},
   "outputs": [
    {
     "data": {
      "text/html": [
       "<img src onerror=\"\n",
       "                var cell = this.closest('.code_cell');\n",
       "                var editor = cell.querySelector('.CodeMirror-sizer');\n",
       "                editor.style.background='PowderBlue';\n",
       "                this.parentNode.removeChild(this)\n",
       "                \">"
      ],
      "text/plain": [
       "<IPython.core.display.HTML object>"
      ]
     },
     "metadata": {},
     "output_type": "display_data"
    },
    {
     "data": {
      "application/vnd.jupyter.widget-view+json": {
       "model_id": "21759b1709c0493f81e207fe58f1669a",
       "version_major": 2,
       "version_minor": 0
      },
      "text/plain": [
       "HBox(children=(Accordion(children=(VBox(children=(FloatRangeSlider(value=(100.0, 5000.0), continuous_update=Fa…"
      ]
     },
     "metadata": {},
     "output_type": "display_data"
    }
   ],
   "source": [
    "%matplotlib widget\n",
    "%bgcolor PowderBlue\n",
    "\n",
    "#Plot violins and sliders\n",
    "obs_figure, obs_slider_dict = quality_violin(adata, columns=obs_columns,\n",
    "                                            groupby=condition_column,\n",
    "                                            which=\"obs\",\n",
    "                                            thresholds=thresholds,\n",
    "                                            global_threshold=global_threshold,\n",
    "                                            title=\"Cell quality control (before)\",\n",
    "                                            save=tree.qc_plots + \"cell_filtering.png\")\n",
    "obs_figure"
   ]
  },
  {
   "cell_type": "code",
   "execution_count": 42,
   "id": "d43c3b78",
   "metadata": {},
   "outputs": [
    {
     "data": {
      "text/html": [
       "<div>\n",
       "<style scoped>\n",
       "    .dataframe tbody tr th:only-of-type {\n",
       "        vertical-align: middle;\n",
       "    }\n",
       "\n",
       "    .dataframe tbody tr th {\n",
       "        vertical-align: top;\n",
       "    }\n",
       "\n",
       "    .dataframe thead th {\n",
       "        text-align: right;\n",
       "    }\n",
       "</style>\n",
       "<table border=\"1\" class=\"dataframe\">\n",
       "  <thead>\n",
       "    <tr style=\"text-align: right;\">\n",
       "      <th></th>\n",
       "      <th>Parameter</th>\n",
       "      <th>Minimum</th>\n",
       "      <th>Maximum</th>\n",
       "    </tr>\n",
       "  </thead>\n",
       "  <tbody>\n",
       "    <tr>\n",
       "      <th>0</th>\n",
       "      <td>n_features_by_counts</td>\n",
       "      <td>100.0</td>\n",
       "      <td>5000.000000</td>\n",
       "    </tr>\n",
       "    <tr>\n",
       "      <th>1</th>\n",
       "      <td>mean_insertsize</td>\n",
       "      <td>0.0</td>\n",
       "      <td>250.602283</td>\n",
       "    </tr>\n",
       "  </tbody>\n",
       "</table>\n",
       "</div>"
      ],
      "text/plain": [
       "              Parameter  Minimum      Maximum\n",
       "0  n_features_by_counts    100.0  5000.000000\n",
       "1       mean_insertsize      0.0   250.602283"
      ]
     },
     "execution_count": 42,
     "metadata": {},
     "output_type": "execute_result"
    }
   ],
   "source": [
    "# Get final thresholds\n",
    "final_thresholds = get_slider_thresholds(obs_slider_dict)\n",
    "thresholds_as_table(final_thresholds) # show thresholds"
   ]
  },
  {
   "cell_type": "markdown",
   "id": "d131f523",
   "metadata": {},
   "source": [
    "### 6.3 filter adata"
   ]
  },
  {
   "cell_type": "code",
   "execution_count": 43,
   "id": "1c488570",
   "metadata": {},
   "outputs": [
    {
     "name": "stdout",
     "output_type": "stream",
     "text": [
      "Filtering based on 'n_features_by_counts' from 67182 -> 9263 cells\n",
      "Filtering based on 'mean_insertsize' from 9263 -> 9258 cells\n"
     ]
    }
   ],
   "source": [
    "apply_qc_thresholds(adata, final_thresholds)"
   ]
  },
  {
   "cell_type": "markdown",
   "id": "b3322fd6",
   "metadata": {},
   "source": [
    "### remove empty features"
   ]
  },
  {
   "cell_type": "code",
   "execution_count": 44,
   "id": "24634132",
   "metadata": {},
   "outputs": [
    {
     "data": {
      "text/plain": [
       "AnnData object with n_obs × n_vars = 9258 × 82859\n",
       "    obs: 'TN', 'UM', 'PP', 'UQ', 'CM', 'file', 'sample', 'n_features_by_counts', 'log1p_n_features_by_counts', 'total_counts', 'log1p_total_counts', 'insertsize_count', 'mean_insertsize', 'nb_features', 'log_nb_features'\n",
       "    var: 'peak_chr', 'peak_start', 'peak_end', 'n_cells_by_counts', 'mean_counts', 'log1p_mean_counts', 'pct_dropout_by_counts', 'total_counts', 'log1p_total_counts', 'n_cells', 'commonness', 'prop_shared_cells', 'variability_score'\n",
       "    uns: 'color_set', 'infoprocess', 'insertsize_distribution', 'legend'\n",
       "    layers: 'binary'"
      ]
     },
     "metadata": {},
     "output_type": "display_data"
    }
   ],
   "source": [
    "epi.pp.filter_features(adata, min_cells=15)\n",
    "# log-convert number of features\n",
    "#adata.obs['log_nb_features'] = [np.log10(x) for x in adata.obs['nb_features']]\n",
    "display(adata)"
   ]
  },
  {
   "cell_type": "markdown",
   "id": "aad9af0e",
   "metadata": {},
   "source": [
    "## 7. save plots"
   ]
  },
  {
   "cell_type": "code",
   "execution_count": 45,
   "id": "955b7ac2",
   "metadata": {},
   "outputs": [
    {
     "data": {
      "image/png": "[encoded data removed]",
      "text/plain": [
       "<Figure size 576x288 with 2 Axes>"
      ]
     },
     "execution_count": 45,
     "metadata": {},
     "output_type": "execute_result"
    },
    {
     "data": {
      "image/png": "[encoded data removed]",
      "text/plain": [
       "<Figure size 576x288 with 2 Axes>"
      ]
     },
     "metadata": {
      "needs_background": "light"
     },
     "output_type": "display_data"
    }
   ],
   "source": [
    "%matplotlib inline \n",
    "\n",
    "#Plot violins and sliders\n",
    "figure, slider_dict = quality_violin(adata, columns=obs_columns,\n",
    "                                     groupby=condition_column,\n",
    "                                     which=\"obs\", ncols=3,\n",
    "                                     global_threshold = global_threshold,\n",
    "                                     title=\"Cell quality control (after)\",\n",
    "                                     save=tree.qc_plots + \"cell_filtering_final.png\")\n",
    "figure "
   ]
  },
  {
   "cell_type": "markdown",
   "id": "b43e9b3e",
   "metadata": {},
   "source": [
    "## 8. save anndata"
   ]
  },
  {
   "cell_type": "code",
   "execution_count": 46,
   "id": "b5776f98",
   "metadata": {},
   "outputs": [
    {
     "data": {
      "text/html": [
       "<div>\n",
       "<style scoped>\n",
       "    .dataframe tbody tr th:only-of-type {\n",
       "        vertical-align: middle;\n",
       "    }\n",
       "\n",
       "    .dataframe tbody tr th {\n",
       "        vertical-align: top;\n",
       "    }\n",
       "\n",
       "    .dataframe thead th {\n",
       "        text-align: right;\n",
       "    }\n",
       "</style>\n",
       "<table border=\"1\" class=\"dataframe\">\n",
       "  <thead>\n",
       "    <tr style=\"text-align: right;\">\n",
       "      <th></th>\n",
       "      <th>TN</th>\n",
       "      <th>UM</th>\n",
       "      <th>PP</th>\n",
       "      <th>UQ</th>\n",
       "      <th>CM</th>\n",
       "      <th>file</th>\n",
       "      <th>sample</th>\n",
       "      <th>n_features_by_counts</th>\n",
       "      <th>log1p_n_features_by_counts</th>\n",
       "      <th>total_counts</th>\n",
       "      <th>log1p_total_counts</th>\n",
       "      <th>insertsize_count</th>\n",
       "      <th>mean_insertsize</th>\n",
       "      <th>nb_features</th>\n",
       "      <th>log_nb_features</th>\n",
       "    </tr>\n",
       "    <tr>\n",
       "      <th>barcode</th>\n",
       "      <th></th>\n",
       "      <th></th>\n",
       "      <th></th>\n",
       "      <th></th>\n",
       "      <th></th>\n",
       "      <th></th>\n",
       "      <th></th>\n",
       "      <th></th>\n",
       "      <th></th>\n",
       "      <th></th>\n",
       "      <th></th>\n",
       "      <th></th>\n",
       "      <th></th>\n",
       "      <th></th>\n",
       "      <th></th>\n",
       "    </tr>\n",
       "  </thead>\n",
       "  <tbody>\n",
       "    <tr>\n",
       "      <th>AACGAGAGCTAAACCTAAGTGG</th>\n",
       "      <td>3007.0</td>\n",
       "      <td>2632.0</td>\n",
       "      <td>2623.0</td>\n",
       "      <td>815.0</td>\n",
       "      <td>2.0</td>\n",
       "      <td>/mnt/workspace/jdetlef/data/anndata/stomach_95...</td>\n",
       "      <td>sample1</td>\n",
       "      <td>417</td>\n",
       "      <td>6.035481</td>\n",
       "      <td>461.0</td>\n",
       "      <td>6.135565</td>\n",
       "      <td>2616.0</td>\n",
       "      <td>138.47</td>\n",
       "      <td>414.0</td>\n",
       "      <td>2.620136</td>\n",
       "    </tr>\n",
       "    <tr>\n",
       "      <th>AACGAGAGCTAACCACCTAAAG</th>\n",
       "      <td>1196.0</td>\n",
       "      <td>1064.0</td>\n",
       "      <td>1055.0</td>\n",
       "      <td>312.0</td>\n",
       "      <td>0.0</td>\n",
       "      <td>/mnt/workspace/jdetlef/data/anndata/stomach_95...</td>\n",
       "      <td>sample1</td>\n",
       "      <td>139</td>\n",
       "      <td>4.941642</td>\n",
       "      <td>155.0</td>\n",
       "      <td>5.049856</td>\n",
       "      <td>1054.0</td>\n",
       "      <td>129.08</td>\n",
       "      <td>139.0</td>\n",
       "      <td>2.143015</td>\n",
       "    </tr>\n",
       "    <tr>\n",
       "      <th>AACGAGAGCTAACCGAATTCTC</th>\n",
       "      <td>4279.0</td>\n",
       "      <td>3837.0</td>\n",
       "      <td>3821.0</td>\n",
       "      <td>1124.0</td>\n",
       "      <td>2.0</td>\n",
       "      <td>/mnt/workspace/jdetlef/data/anndata/stomach_95...</td>\n",
       "      <td>sample1</td>\n",
       "      <td>697</td>\n",
       "      <td>6.548219</td>\n",
       "      <td>760.0</td>\n",
       "      <td>6.634634</td>\n",
       "      <td>3784.0</td>\n",
       "      <td>128.17</td>\n",
       "      <td>695.0</td>\n",
       "      <td>2.843233</td>\n",
       "    </tr>\n",
       "    <tr>\n",
       "      <th>AACGAGAGCTAAGCTAACGCAC</th>\n",
       "      <td>3627.0</td>\n",
       "      <td>3203.0</td>\n",
       "      <td>3192.0</td>\n",
       "      <td>972.0</td>\n",
       "      <td>32.0</td>\n",
       "      <td>/mnt/workspace/jdetlef/data/anndata/stomach_95...</td>\n",
       "      <td>sample1</td>\n",
       "      <td>501</td>\n",
       "      <td>6.218600</td>\n",
       "      <td>603.0</td>\n",
       "      <td>6.403574</td>\n",
       "      <td>3076.0</td>\n",
       "      <td>125.38</td>\n",
       "      <td>501.0</td>\n",
       "      <td>2.699838</td>\n",
       "    </tr>\n",
       "    <tr>\n",
       "      <th>AACGAGAGCTAATATAGGTCCG</th>\n",
       "      <td>71085.0</td>\n",
       "      <td>61317.0</td>\n",
       "      <td>61140.0</td>\n",
       "      <td>17636.0</td>\n",
       "      <td>698.0</td>\n",
       "      <td>/mnt/workspace/jdetlef/data/anndata/stomach_95...</td>\n",
       "      <td>sample1</td>\n",
       "      <td>3419</td>\n",
       "      <td>8.137396</td>\n",
       "      <td>4885.0</td>\n",
       "      <td>8.494129</td>\n",
       "      <td>60372.0</td>\n",
       "      <td>150.06</td>\n",
       "      <td>3383.0</td>\n",
       "      <td>3.533899</td>\n",
       "    </tr>\n",
       "    <tr>\n",
       "      <th>...</th>\n",
       "      <td>...</td>\n",
       "      <td>...</td>\n",
       "      <td>...</td>\n",
       "      <td>...</td>\n",
       "      <td>...</td>\n",
       "      <td>...</td>\n",
       "      <td>...</td>\n",
       "      <td>...</td>\n",
       "      <td>...</td>\n",
       "      <td>...</td>\n",
       "      <td>...</td>\n",
       "      <td>...</td>\n",
       "      <td>...</td>\n",
       "      <td>...</td>\n",
       "      <td>...</td>\n",
       "    </tr>\n",
       "    <tr>\n",
       "      <th>TTTGGCGCTTTTGACAAGTCCT</th>\n",
       "      <td>7334.0</td>\n",
       "      <td>6015.0</td>\n",
       "      <td>5985.0</td>\n",
       "      <td>1888.0</td>\n",
       "      <td>337.0</td>\n",
       "      <td>/mnt/workspace/jdetlef/data/anndata/stomach_95...</td>\n",
       "      <td>sample1</td>\n",
       "      <td>772</td>\n",
       "      <td>6.650279</td>\n",
       "      <td>1053.0</td>\n",
       "      <td>6.960348</td>\n",
       "      <td>5473.0</td>\n",
       "      <td>132.95</td>\n",
       "      <td>771.0</td>\n",
       "      <td>2.887617</td>\n",
       "    </tr>\n",
       "    <tr>\n",
       "      <th>TTTGGCGCTTTTGTTCCTCTGC</th>\n",
       "      <td>34360.0</td>\n",
       "      <td>29735.0</td>\n",
       "      <td>29642.0</td>\n",
       "      <td>9146.0</td>\n",
       "      <td>547.0</td>\n",
       "      <td>/mnt/workspace/jdetlef/data/anndata/stomach_95...</td>\n",
       "      <td>sample1</td>\n",
       "      <td>3478</td>\n",
       "      <td>8.154500</td>\n",
       "      <td>4834.0</td>\n",
       "      <td>8.483637</td>\n",
       "      <td>29279.0</td>\n",
       "      <td>147.14</td>\n",
       "      <td>3467.0</td>\n",
       "      <td>3.541330</td>\n",
       "    </tr>\n",
       "    <tr>\n",
       "      <th>TTTGGCGCTTTTTAACGCCTCT</th>\n",
       "      <td>87197.0</td>\n",
       "      <td>72794.0</td>\n",
       "      <td>72541.0</td>\n",
       "      <td>22199.0</td>\n",
       "      <td>652.0</td>\n",
       "      <td>/mnt/workspace/jdetlef/data/anndata/stomach_95...</td>\n",
       "      <td>sample1</td>\n",
       "      <td>2816</td>\n",
       "      <td>7.943428</td>\n",
       "      <td>3699.0</td>\n",
       "      <td>8.216088</td>\n",
       "      <td>70545.0</td>\n",
       "      <td>135.05</td>\n",
       "      <td>2784.0</td>\n",
       "      <td>3.449633</td>\n",
       "    </tr>\n",
       "    <tr>\n",
       "      <th>TTTGGCGCTTTTTCCACGCAGT</th>\n",
       "      <td>41647.0</td>\n",
       "      <td>35208.0</td>\n",
       "      <td>35071.0</td>\n",
       "      <td>10427.0</td>\n",
       "      <td>105.0</td>\n",
       "      <td>/mnt/workspace/jdetlef/data/anndata/stomach_95...</td>\n",
       "      <td>sample1</td>\n",
       "      <td>793</td>\n",
       "      <td>6.677083</td>\n",
       "      <td>953.0</td>\n",
       "      <td>6.860664</td>\n",
       "      <td>34235.0</td>\n",
       "      <td>142.04</td>\n",
       "      <td>779.0</td>\n",
       "      <td>2.899273</td>\n",
       "    </tr>\n",
       "    <tr>\n",
       "      <th>TTTGGCGCTTTTTCTGGCGCAG</th>\n",
       "      <td>1861.0</td>\n",
       "      <td>1590.0</td>\n",
       "      <td>1582.0</td>\n",
       "      <td>538.0</td>\n",
       "      <td>1.0</td>\n",
       "      <td>/mnt/workspace/jdetlef/data/anndata/stomach_95...</td>\n",
       "      <td>sample1</td>\n",
       "      <td>101</td>\n",
       "      <td>4.624973</td>\n",
       "      <td>109.0</td>\n",
       "      <td>4.700480</td>\n",
       "      <td>1531.0</td>\n",
       "      <td>157.21</td>\n",
       "      <td>101.0</td>\n",
       "      <td>2.004321</td>\n",
       "    </tr>\n",
       "  </tbody>\n",
       "</table>\n",
       "<p>9258 rows × 15 columns</p>\n",
       "</div>"
      ],
      "text/plain": [
       "                             TN       UM       PP       UQ     CM  \\\n",
       "barcode                                                             \n",
       "AACGAGAGCTAAACCTAAGTGG   3007.0   2632.0   2623.0    815.0    2.0   \n",
       "AACGAGAGCTAACCACCTAAAG   1196.0   1064.0   1055.0    312.0    0.0   \n",
       "AACGAGAGCTAACCGAATTCTC   4279.0   3837.0   3821.0   1124.0    2.0   \n",
       "AACGAGAGCTAAGCTAACGCAC   3627.0   3203.0   3192.0    972.0   32.0   \n",
       "AACGAGAGCTAATATAGGTCCG  71085.0  61317.0  61140.0  17636.0  698.0   \n",
       "...                         ...      ...      ...      ...    ...   \n",
       "TTTGGCGCTTTTGACAAGTCCT   7334.0   6015.0   5985.0   1888.0  337.0   \n",
       "TTTGGCGCTTTTGTTCCTCTGC  34360.0  29735.0  29642.0   9146.0  547.0   \n",
       "TTTGGCGCTTTTTAACGCCTCT  87197.0  72794.0  72541.0  22199.0  652.0   \n",
       "TTTGGCGCTTTTTCCACGCAGT  41647.0  35208.0  35071.0  10427.0  105.0   \n",
       "TTTGGCGCTTTTTCTGGCGCAG   1861.0   1590.0   1582.0    538.0    1.0   \n",
       "\n",
       "                                                                     file  \\\n",
       "barcode                                                                     \n",
       "AACGAGAGCTAAACCTAAGTGG  /mnt/workspace/jdetlef/data/anndata/stomach_95...   \n",
       "AACGAGAGCTAACCACCTAAAG  /mnt/workspace/jdetlef/data/anndata/stomach_95...   \n",
       "AACGAGAGCTAACCGAATTCTC  /mnt/workspace/jdetlef/data/anndata/stomach_95...   \n",
       "AACGAGAGCTAAGCTAACGCAC  /mnt/workspace/jdetlef/data/anndata/stomach_95...   \n",
       "AACGAGAGCTAATATAGGTCCG  /mnt/workspace/jdetlef/data/anndata/stomach_95...   \n",
       "...                                                                   ...   \n",
       "TTTGGCGCTTTTGACAAGTCCT  /mnt/workspace/jdetlef/data/anndata/stomach_95...   \n",
       "TTTGGCGCTTTTGTTCCTCTGC  /mnt/workspace/jdetlef/data/anndata/stomach_95...   \n",
       "TTTGGCGCTTTTTAACGCCTCT  /mnt/workspace/jdetlef/data/anndata/stomach_95...   \n",
       "TTTGGCGCTTTTTCCACGCAGT  /mnt/workspace/jdetlef/data/anndata/stomach_95...   \n",
       "TTTGGCGCTTTTTCTGGCGCAG  /mnt/workspace/jdetlef/data/anndata/stomach_95...   \n",
       "\n",
       "                         sample  n_features_by_counts  \\\n",
       "barcode                                                 \n",
       "AACGAGAGCTAAACCTAAGTGG  sample1                   417   \n",
       "AACGAGAGCTAACCACCTAAAG  sample1                   139   \n",
       "AACGAGAGCTAACCGAATTCTC  sample1                   697   \n",
       "AACGAGAGCTAAGCTAACGCAC  sample1                   501   \n",
       "AACGAGAGCTAATATAGGTCCG  sample1                  3419   \n",
       "...                         ...                   ...   \n",
       "TTTGGCGCTTTTGACAAGTCCT  sample1                   772   \n",
       "TTTGGCGCTTTTGTTCCTCTGC  sample1                  3478   \n",
       "TTTGGCGCTTTTTAACGCCTCT  sample1                  2816   \n",
       "TTTGGCGCTTTTTCCACGCAGT  sample1                   793   \n",
       "TTTGGCGCTTTTTCTGGCGCAG  sample1                   101   \n",
       "\n",
       "                        log1p_n_features_by_counts  total_counts  \\\n",
       "barcode                                                            \n",
       "AACGAGAGCTAAACCTAAGTGG                    6.035481         461.0   \n",
       "AACGAGAGCTAACCACCTAAAG                    4.941642         155.0   \n",
       "AACGAGAGCTAACCGAATTCTC                    6.548219         760.0   \n",
       "AACGAGAGCTAAGCTAACGCAC                    6.218600         603.0   \n",
       "AACGAGAGCTAATATAGGTCCG                    8.137396        4885.0   \n",
       "...                                            ...           ...   \n",
       "TTTGGCGCTTTTGACAAGTCCT                    6.650279        1053.0   \n",
       "TTTGGCGCTTTTGTTCCTCTGC                    8.154500        4834.0   \n",
       "TTTGGCGCTTTTTAACGCCTCT                    7.943428        3699.0   \n",
       "TTTGGCGCTTTTTCCACGCAGT                    6.677083         953.0   \n",
       "TTTGGCGCTTTTTCTGGCGCAG                    4.624973         109.0   \n",
       "\n",
       "                        log1p_total_counts  insertsize_count  mean_insertsize  \\\n",
       "barcode                                                                         \n",
       "AACGAGAGCTAAACCTAAGTGG            6.135565            2616.0           138.47   \n",
       "AACGAGAGCTAACCACCTAAAG            5.049856            1054.0           129.08   \n",
       "AACGAGAGCTAACCGAATTCTC            6.634634            3784.0           128.17   \n",
       "AACGAGAGCTAAGCTAACGCAC            6.403574            3076.0           125.38   \n",
       "AACGAGAGCTAATATAGGTCCG            8.494129           60372.0           150.06   \n",
       "...                                    ...               ...              ...   \n",
       "TTTGGCGCTTTTGACAAGTCCT            6.960348            5473.0           132.95   \n",
       "TTTGGCGCTTTTGTTCCTCTGC            8.483637           29279.0           147.14   \n",
       "TTTGGCGCTTTTTAACGCCTCT            8.216088           70545.0           135.05   \n",
       "TTTGGCGCTTTTTCCACGCAGT            6.860664           34235.0           142.04   \n",
       "TTTGGCGCTTTTTCTGGCGCAG            4.700480            1531.0           157.21   \n",
       "\n",
       "                        nb_features  log_nb_features  \n",
       "barcode                                               \n",
       "AACGAGAGCTAAACCTAAGTGG        414.0         2.620136  \n",
       "AACGAGAGCTAACCACCTAAAG        139.0         2.143015  \n",
       "AACGAGAGCTAACCGAATTCTC        695.0         2.843233  \n",
       "AACGAGAGCTAAGCTAACGCAC        501.0         2.699838  \n",
       "AACGAGAGCTAATATAGGTCCG       3383.0         3.533899  \n",
       "...                             ...              ...  \n",
       "TTTGGCGCTTTTGACAAGTCCT        771.0         2.887617  \n",
       "TTTGGCGCTTTTGTTCCTCTGC       3467.0         3.541330  \n",
       "TTTGGCGCTTTTTAACGCCTCT       2784.0         3.449633  \n",
       "TTTGGCGCTTTTTCCACGCAGT        779.0         2.899273  \n",
       "TTTGGCGCTTTTTCTGGCGCAG        101.0         2.004321  \n",
       "\n",
       "[9258 rows x 15 columns]"
      ]
     },
     "execution_count": 46,
     "metadata": {},
     "output_type": "execute_result"
    }
   ],
   "source": [
    "adata.obs"
   ]
  },
  {
   "cell_type": "code",
   "execution_count": 47,
   "id": "19ee3a4a",
   "metadata": {},
   "outputs": [
    {
     "data": {
      "text/html": [
       "<div>\n",
       "<style scoped>\n",
       "    .dataframe tbody tr th:only-of-type {\n",
       "        vertical-align: middle;\n",
       "    }\n",
       "\n",
       "    .dataframe tbody tr th {\n",
       "        vertical-align: top;\n",
       "    }\n",
       "\n",
       "    .dataframe thead th {\n",
       "        text-align: right;\n",
       "    }\n",
       "</style>\n",
       "<table border=\"1\" class=\"dataframe\">\n",
       "  <thead>\n",
       "    <tr style=\"text-align: right;\">\n",
       "      <th></th>\n",
       "      <th>peak_chr</th>\n",
       "      <th>peak_start</th>\n",
       "      <th>peak_end</th>\n",
       "      <th>n_cells_by_counts</th>\n",
       "      <th>mean_counts</th>\n",
       "      <th>log1p_mean_counts</th>\n",
       "      <th>pct_dropout_by_counts</th>\n",
       "      <th>total_counts</th>\n",
       "      <th>log1p_total_counts</th>\n",
       "      <th>n_cells</th>\n",
       "      <th>commonness</th>\n",
       "      <th>prop_shared_cells</th>\n",
       "      <th>variability_score</th>\n",
       "    </tr>\n",
       "    <tr>\n",
       "      <th>name</th>\n",
       "      <th></th>\n",
       "      <th></th>\n",
       "      <th></th>\n",
       "      <th></th>\n",
       "      <th></th>\n",
       "      <th></th>\n",
       "      <th></th>\n",
       "      <th></th>\n",
       "      <th></th>\n",
       "      <th></th>\n",
       "      <th></th>\n",
       "      <th></th>\n",
       "      <th></th>\n",
       "    </tr>\n",
       "  </thead>\n",
       "  <tbody>\n",
       "    <tr>\n",
       "      <th>b'chr1':10001-10595</th>\n",
       "      <td>chr1</td>\n",
       "      <td>10001</td>\n",
       "      <td>10595</td>\n",
       "      <td>530</td>\n",
       "      <td>0.008249</td>\n",
       "      <td>0.008215</td>\n",
       "      <td>99.278539</td>\n",
       "      <td>606.0</td>\n",
       "      <td>6.408529</td>\n",
       "      <td>459</td>\n",
       "      <td>530.0</td>\n",
       "      <td>0.007889</td>\n",
       "      <td>0.507889</td>\n",
       "    </tr>\n",
       "    <tr>\n",
       "      <th>b'chr1':180710-181006</th>\n",
       "      <td>chr1</td>\n",
       "      <td>180710</td>\n",
       "      <td>181006</td>\n",
       "      <td>113</td>\n",
       "      <td>0.001674</td>\n",
       "      <td>0.001673</td>\n",
       "      <td>99.846179</td>\n",
       "      <td>123.0</td>\n",
       "      <td>4.820282</td>\n",
       "      <td>96</td>\n",
       "      <td>113.0</td>\n",
       "      <td>0.001682</td>\n",
       "      <td>0.501682</td>\n",
       "    </tr>\n",
       "    <tr>\n",
       "      <th>b'chr1':181437-181983</th>\n",
       "      <td>chr1</td>\n",
       "      <td>181437</td>\n",
       "      <td>181983</td>\n",
       "      <td>52</td>\n",
       "      <td>0.000858</td>\n",
       "      <td>0.000857</td>\n",
       "      <td>99.929215</td>\n",
       "      <td>63.0</td>\n",
       "      <td>4.158883</td>\n",
       "      <td>41</td>\n",
       "      <td>52.0</td>\n",
       "      <td>0.000774</td>\n",
       "      <td>0.500774</td>\n",
       "    </tr>\n",
       "    <tr>\n",
       "      <th>b'chr1':629113-630044</th>\n",
       "      <td>chr1</td>\n",
       "      <td>629113</td>\n",
       "      <td>630044</td>\n",
       "      <td>2319</td>\n",
       "      <td>0.049931</td>\n",
       "      <td>0.048724</td>\n",
       "      <td>96.843266</td>\n",
       "      <td>3668.0</td>\n",
       "      <td>8.207674</td>\n",
       "      <td>1961</td>\n",
       "      <td>2319.0</td>\n",
       "      <td>0.034518</td>\n",
       "      <td>0.534518</td>\n",
       "    </tr>\n",
       "    <tr>\n",
       "      <th>b'chr1':630234-630475</th>\n",
       "      <td>chr1</td>\n",
       "      <td>630234</td>\n",
       "      <td>630475</td>\n",
       "      <td>333</td>\n",
       "      <td>0.004873</td>\n",
       "      <td>0.004861</td>\n",
       "      <td>99.546704</td>\n",
       "      <td>358.0</td>\n",
       "      <td>5.883322</td>\n",
       "      <td>293</td>\n",
       "      <td>333.0</td>\n",
       "      <td>0.004957</td>\n",
       "      <td>0.504957</td>\n",
       "    </tr>\n",
       "    <tr>\n",
       "      <th>...</th>\n",
       "      <td>...</td>\n",
       "      <td>...</td>\n",
       "      <td>...</td>\n",
       "      <td>...</td>\n",
       "      <td>...</td>\n",
       "      <td>...</td>\n",
       "      <td>...</td>\n",
       "      <td>...</td>\n",
       "      <td>...</td>\n",
       "      <td>...</td>\n",
       "      <td>...</td>\n",
       "      <td>...</td>\n",
       "      <td>...</td>\n",
       "    </tr>\n",
       "    <tr>\n",
       "      <th>b'chrY':56850314-56850503</th>\n",
       "      <td>chrY</td>\n",
       "      <td>56850314</td>\n",
       "      <td>56850503</td>\n",
       "      <td>127</td>\n",
       "      <td>0.002273</td>\n",
       "      <td>0.002271</td>\n",
       "      <td>99.827122</td>\n",
       "      <td>167.0</td>\n",
       "      <td>5.123964</td>\n",
       "      <td>103</td>\n",
       "      <td>127.0</td>\n",
       "      <td>0.001890</td>\n",
       "      <td>0.501890</td>\n",
       "    </tr>\n",
       "    <tr>\n",
       "      <th>b'chrY':56850718-56850995</th>\n",
       "      <td>chrY</td>\n",
       "      <td>56850718</td>\n",
       "      <td>56850995</td>\n",
       "      <td>189</td>\n",
       "      <td>0.003730</td>\n",
       "      <td>0.003723</td>\n",
       "      <td>99.742724</td>\n",
       "      <td>274.0</td>\n",
       "      <td>5.616771</td>\n",
       "      <td>170</td>\n",
       "      <td>189.0</td>\n",
       "      <td>0.002813</td>\n",
       "      <td>0.502813</td>\n",
       "    </tr>\n",
       "    <tr>\n",
       "      <th>b'chrY':56851081-56851218</th>\n",
       "      <td>chrY</td>\n",
       "      <td>56851081</td>\n",
       "      <td>56851218</td>\n",
       "      <td>74</td>\n",
       "      <td>0.001184</td>\n",
       "      <td>0.001184</td>\n",
       "      <td>99.899268</td>\n",
       "      <td>87.0</td>\n",
       "      <td>4.477337</td>\n",
       "      <td>71</td>\n",
       "      <td>74.0</td>\n",
       "      <td>0.001101</td>\n",
       "      <td>0.501101</td>\n",
       "    </tr>\n",
       "    <tr>\n",
       "      <th>b'chrY':56870928-56871089</th>\n",
       "      <td>chrY</td>\n",
       "      <td>56870928</td>\n",
       "      <td>56871089</td>\n",
       "      <td>52</td>\n",
       "      <td>0.000885</td>\n",
       "      <td>0.000884</td>\n",
       "      <td>99.929215</td>\n",
       "      <td>65.0</td>\n",
       "      <td>4.189655</td>\n",
       "      <td>38</td>\n",
       "      <td>52.0</td>\n",
       "      <td>0.000774</td>\n",
       "      <td>0.500774</td>\n",
       "    </tr>\n",
       "    <tr>\n",
       "      <th>b'chrY':56873571-56873803</th>\n",
       "      <td>chrY</td>\n",
       "      <td>56873571</td>\n",
       "      <td>56873803</td>\n",
       "      <td>150</td>\n",
       "      <td>0.002301</td>\n",
       "      <td>0.002298</td>\n",
       "      <td>99.795813</td>\n",
       "      <td>169.0</td>\n",
       "      <td>5.135798</td>\n",
       "      <td>124</td>\n",
       "      <td>150.0</td>\n",
       "      <td>0.002233</td>\n",
       "      <td>0.502233</td>\n",
       "    </tr>\n",
       "  </tbody>\n",
       "</table>\n",
       "<p>82859 rows × 13 columns</p>\n",
       "</div>"
      ],
      "text/plain": [
       "                          peak_chr peak_start  peak_end  n_cells_by_counts  \\\n",
       "name                                                                         \n",
       "b'chr1':10001-10595           chr1      10001     10595                530   \n",
       "b'chr1':180710-181006         chr1     180710    181006                113   \n",
       "b'chr1':181437-181983         chr1     181437    181983                 52   \n",
       "b'chr1':629113-630044         chr1     629113    630044               2319   \n",
       "b'chr1':630234-630475         chr1     630234    630475                333   \n",
       "...                            ...        ...       ...                ...   \n",
       "b'chrY':56850314-56850503     chrY   56850314  56850503                127   \n",
       "b'chrY':56850718-56850995     chrY   56850718  56850995                189   \n",
       "b'chrY':56851081-56851218     chrY   56851081  56851218                 74   \n",
       "b'chrY':56870928-56871089     chrY   56870928  56871089                 52   \n",
       "b'chrY':56873571-56873803     chrY   56873571  56873803                150   \n",
       "\n",
       "                           mean_counts  log1p_mean_counts  \\\n",
       "name                                                        \n",
       "b'chr1':10001-10595           0.008249           0.008215   \n",
       "b'chr1':180710-181006         0.001674           0.001673   \n",
       "b'chr1':181437-181983         0.000858           0.000857   \n",
       "b'chr1':629113-630044         0.049931           0.048724   \n",
       "b'chr1':630234-630475         0.004873           0.004861   \n",
       "...                                ...                ...   \n",
       "b'chrY':56850314-56850503     0.002273           0.002271   \n",
       "b'chrY':56850718-56850995     0.003730           0.003723   \n",
       "b'chrY':56851081-56851218     0.001184           0.001184   \n",
       "b'chrY':56870928-56871089     0.000885           0.000884   \n",
       "b'chrY':56873571-56873803     0.002301           0.002298   \n",
       "\n",
       "                           pct_dropout_by_counts  total_counts  \\\n",
       "name                                                             \n",
       "b'chr1':10001-10595                    99.278539         606.0   \n",
       "b'chr1':180710-181006                  99.846179         123.0   \n",
       "b'chr1':181437-181983                  99.929215          63.0   \n",
       "b'chr1':629113-630044                  96.843266        3668.0   \n",
       "b'chr1':630234-630475                  99.546704         358.0   \n",
       "...                                          ...           ...   \n",
       "b'chrY':56850314-56850503              99.827122         167.0   \n",
       "b'chrY':56850718-56850995              99.742724         274.0   \n",
       "b'chrY':56851081-56851218              99.899268          87.0   \n",
       "b'chrY':56870928-56871089              99.929215          65.0   \n",
       "b'chrY':56873571-56873803              99.795813         169.0   \n",
       "\n",
       "                           log1p_total_counts  n_cells  commonness  \\\n",
       "name                                                                 \n",
       "b'chr1':10001-10595                  6.408529      459       530.0   \n",
       "b'chr1':180710-181006                4.820282       96       113.0   \n",
       "b'chr1':181437-181983                4.158883       41        52.0   \n",
       "b'chr1':629113-630044                8.207674     1961      2319.0   \n",
       "b'chr1':630234-630475                5.883322      293       333.0   \n",
       "...                                       ...      ...         ...   \n",
       "b'chrY':56850314-56850503            5.123964      103       127.0   \n",
       "b'chrY':56850718-56850995            5.616771      170       189.0   \n",
       "b'chrY':56851081-56851218            4.477337       71        74.0   \n",
       "b'chrY':56870928-56871089            4.189655       38        52.0   \n",
       "b'chrY':56873571-56873803            5.135798      124       150.0   \n",
       "\n",
       "                           prop_shared_cells  variability_score  \n",
       "name                                                             \n",
       "b'chr1':10001-10595                 0.007889           0.507889  \n",
       "b'chr1':180710-181006               0.001682           0.501682  \n",
       "b'chr1':181437-181983               0.000774           0.500774  \n",
       "b'chr1':629113-630044               0.034518           0.534518  \n",
       "b'chr1':630234-630475               0.004957           0.504957  \n",
       "...                                      ...                ...  \n",
       "b'chrY':56850314-56850503           0.001890           0.501890  \n",
       "b'chrY':56850718-56850995           0.002813           0.502813  \n",
       "b'chrY':56851081-56851218           0.001101           0.501101  \n",
       "b'chrY':56870928-56871089           0.000774           0.500774  \n",
       "b'chrY':56873571-56873803           0.002233           0.502233  \n",
       "\n",
       "[82859 rows x 13 columns]"
      ]
     },
     "execution_count": 47,
     "metadata": {},
     "output_type": "execute_result"
    }
   ],
   "source": [
    "adata.var"
   ]
  },
  {
   "cell_type": "code",
   "execution_count": 48,
   "id": "877a2815",
   "metadata": {},
   "outputs": [],
   "source": [
    "adata_output = tree.qc_anndata\n",
    "adata.write(filename=adata_output)"
   ]
  },
  {
   "cell_type": "code",
   "execution_count": null,
   "id": "387a7ac6",
   "metadata": {},
   "outputs": [],
   "source": []
  }
 ],
 "metadata": {
  "kernelspec": {
   "display_name": "single-cell-base",
   "language": "python",
   "name": "sc_base"
  },
  "language_info": {
   "codemirror_mode": {
    "name": "ipython",
    "version": 3
   },
   "file_extension": ".py",
   "mimetype": "text/x-python",
   "name": "python",
   "nbconvert_exporter": "python",
   "pygments_lexer": "ipython3",
   "version": "3.7.12"
  }
 },
 "nbformat": 4,
 "nbformat_minor": 5
}
