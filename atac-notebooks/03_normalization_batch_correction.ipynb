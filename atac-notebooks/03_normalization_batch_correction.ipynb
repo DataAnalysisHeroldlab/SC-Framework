{
 "cells": [
  {
   "cell_type": "markdown",
   "id": "05bf638c",
   "metadata": {},
   "source": [
    "# Normalization and batch correction"
   ]
  },
  {
   "cell_type": "markdown",
   "id": "3c3b2bb6",
   "metadata": {},
   "source": [
    "## Settings"
   ]
  },
  {
   "cell_type": "code",
   "execution_count": null,
   "id": "88c3aa60",
   "metadata": {},
   "outputs": [],
   "source": [
    "# Highly Variable Features options \n",
    "min_cells = 5 # This one is mandatory\n",
    "max_cells = None\n",
    "\n",
    "# Choose normalization method\n",
    "norm_methods = ['tfidf', 'total']  # can be 'tfidf' and/or 'total'\n",
    "\n",
    "# Set number of PCs\n",
    "subset_pcs = True  #True or False\n",
    "n_pcs = 10  #If None, PCs are chosen automatically. Set n_pcs to overwrite the automatic selection of PCs.\n",
    "\n",
    "# Set number of neighbors\n",
    "n_neighbors = 15  #Default=15\n",
    "\n",
    "# UMAP related settings \n",
    "metacol = 'sample'\n",
    "\n",
    "# batch correction: If True, several batch correction methods will be performed,\n",
    "# you can choose the best one after\n",
    "batch_column = \"sample\"\n",
    "perform_batch_correction = True\n",
    "batch_methods = [\"bbknn\", \"harmony\"] # \"mnn\", \"scanorama\"\n",
    "threads = 8"
   ]
  },
  {
   "cell_type": "markdown",
   "id": "e4e463c4",
   "metadata": {},
   "source": [
    "--------------"
   ]
  },
  {
   "cell_type": "markdown",
   "id": "f64aaa76",
   "metadata": {},
   "source": [
    "## Loading packages and setup"
   ]
  },
  {
   "cell_type": "code",
   "execution_count": null,
   "id": "61a4987b",
   "metadata": {},
   "outputs": [],
   "source": [
    "import sctoolbox.tools as tools\n",
    "import sctoolbox.plotting as pl\n",
    "import sctoolbox.utils as utils\n",
    "import scanpy as sc\n",
    "import episcanpy as epi\n",
    "import numpy as np\n",
    "utils.settings_from_config(\"config.yaml\", key=\"03\")\n",
    "\n",
    "sc.set_figure_params(vector_friendly=True, dpi_save=600, scanpy=False)"
   ]
  },
  {
   "cell_type": "markdown",
   "id": "8cc1a8a9",
   "metadata": {},
   "source": [
    "## Load anndata "
   ]
  },
  {
   "cell_type": "code",
   "execution_count": null,
   "id": "61b56239",
   "metadata": {},
   "outputs": [],
   "source": [
    "# probably updated in future\n",
    "adata = utils.load_h5ad(\"anndata_2.h5ad\")\n",
    "display(adata)"
   ]
  },
  {
   "cell_type": "markdown",
   "id": "5a338aad",
   "metadata": {},
   "source": [
    "----------"
   ]
  },
  {
   "cell_type": "markdown",
   "id": "94c62b5f",
   "metadata": {},
   "source": [
    "## Find highly variable features"
   ]
  },
  {
   "cell_type": "code",
   "execution_count": null,
   "id": "5823721a",
   "metadata": {},
   "outputs": [],
   "source": [
    "# update number of cells per feature\n",
    "adata = tools.calculate_qc_metrics(adata, var_type='features')\n",
    "\n",
    "# get highly variable features\n",
    "tools.get_variable_features(adata, max_cells, min_cells)"
   ]
  },
  {
   "cell_type": "code",
   "execution_count": null,
   "id": "72e464de",
   "metadata": {},
   "outputs": [],
   "source": [
    "#Number of variable genes selected\n",
    "adata.var[\"highly_variable\"].sum()"
   ]
  },
  {
   "cell_type": "code",
   "execution_count": null,
   "id": "fda16a54",
   "metadata": {},
   "outputs": [],
   "source": [
    "pl.violin_HVF_distribution(adata)"
   ]
  },
  {
   "cell_type": "markdown",
   "id": "8006453d",
   "metadata": {},
   "source": [
    "-----------"
   ]
  },
  {
   "cell_type": "markdown",
   "id": "0e9b520a",
   "metadata": {},
   "source": [
    "## Normalization"
   ]
  },
  {
   "cell_type": "code",
   "execution_count": null,
   "id": "20fd53d3",
   "metadata": {},
   "outputs": [],
   "source": [
    "normalizations = tools.normalize_adata(adata, norm_methods)"
   ]
  },
  {
   "cell_type": "markdown",
   "id": "99ba648f",
   "metadata": {},
   "source": [
    "--------"
   ]
  },
  {
   "cell_type": "markdown",
   "id": "1399c244",
   "metadata": {},
   "source": [
    "### Show PC embedding per method"
   ]
  },
  {
   "cell_type": "code",
   "execution_count": null,
   "id": "4073049b",
   "metadata": {},
   "outputs": [],
   "source": [
    "_ = pl.compare_embeddings(normalizations.values(), adata_names=normalizations.keys(),\n",
    "                          var_list=[batch_column], embedding=\"PCA\")"
   ]
  },
  {
   "cell_type": "code",
   "execution_count": null,
   "id": "4bab6a9a",
   "metadata": {},
   "outputs": [],
   "source": [
    "# PCA correlations with obs and var variables\n",
    "for method, adata_norm in normalizations.items():\n",
    "    \n",
    "    _ = pl.plot_pca_correlation(adata_norm, which=\"obs\", \n",
    "                                title=f\"Normalization method = {method}\\nCorrelation of .obs columns with PCA loadings\",\n",
    "                                save=f\"PCA_{method}_correlation_obs.pdf\")\n",
    "    \n",
    "    _ = pl.plot_pca_correlation(adata_norm, which=\"var\", \n",
    "                                title=f\"Normalization method = {method}\\nCorrelation of .var columns with PCA loadings\",\n",
    "                                save=f\"PCA_{method}_correlation_var.pdf\")"
   ]
  },
  {
   "cell_type": "markdown",
   "id": "79a585c8",
   "metadata": {},
   "source": [
    "### Remove PC1 for TF-IDF normalization"
   ]
  },
  {
   "cell_type": "code",
   "execution_count": null,
   "id": "b13826d9",
   "metadata": {},
   "outputs": [],
   "source": [
    "normalizations[\"tfidf-noPC1\"] = normalizations[\"tfidf\"].copy()\n",
    "tools.subset_PCA(normalizations[\"tfidf-noPC1\"], 50, start=1)"
   ]
  },
  {
   "cell_type": "markdown",
   "id": "165ec27b",
   "metadata": {},
   "source": [
    "--------"
   ]
  },
  {
   "cell_type": "markdown",
   "id": "bdeca85b",
   "metadata": {},
   "source": [
    "### Calc standard neighbors and umap for each adata"
   ]
  },
  {
   "cell_type": "code",
   "execution_count": null,
   "id": "0d7d720d",
   "metadata": {},
   "outputs": [],
   "source": [
    "for adata in normalizations.values():\n",
    "    sc.pp.neighbors(adata, n_neighbors=n_neighbors, method='umap', metric='euclidean')"
   ]
  },
  {
   "cell_type": "code",
   "execution_count": null,
   "id": "aa2ddded",
   "metadata": {},
   "outputs": [],
   "source": [
    "tools.wrap_umap(normalizations.values())"
   ]
  },
  {
   "cell_type": "markdown",
   "id": "b3478766",
   "metadata": {},
   "source": [
    "### Compare between normalizations"
   ]
  },
  {
   "cell_type": "code",
   "execution_count": null,
   "id": "be9aab4b",
   "metadata": {},
   "outputs": [],
   "source": [
    "#Plot the overview of batch correction methods\n",
    "_ = pl.anndata_overview(normalizations, \n",
    "                        plots=[\"PCA\", \"PCA-var\", \"UMAP\"],\n",
    "                        color_by=[\"n_features\"], \n",
    "                        output=None)"
   ]
  },
  {
   "cell_type": "code",
   "execution_count": null,
   "id": "030b3bea",
   "metadata": {},
   "outputs": [],
   "source": [
    "# Choose the final normalization method\n",
    "norm_method = \"tfidf-noPC1\"\n",
    "\n",
    "adata = normalizations[norm_method]"
   ]
  },
  {
   "cell_type": "markdown",
   "id": "af9a621d",
   "metadata": {},
   "source": [
    "-----------"
   ]
  },
  {
   "cell_type": "markdown",
   "id": "0bd11de6",
   "metadata": {},
   "source": [
    "## Select a subset of total PCs"
   ]
  },
  {
   "cell_type": "code",
   "execution_count": null,
   "id": "4e66a33b",
   "metadata": {},
   "outputs": [],
   "source": [
    "# Subset the number of pcs if chosen in the parameters\n",
    "if subset_pcs:\n",
    "    \n",
    "    #Automatically identify n_pcs \n",
    "    if n_pcs is None:\n",
    "        n_pcs = tools.define_PC(adata)\n",
    "\n",
    "# Plot and select number of PCs\n",
    "_ = pl.plot_pca_variance(adata, save=\"PCA_variance_selected.pdf\", n_pcs=50, n_selected=n_pcs)\n",
    "tools.subset_PCA(adata, start=0, n_pcs=n_pcs)"
   ]
  },
  {
   "cell_type": "markdown",
   "id": "52137416",
   "metadata": {},
   "source": [
    "## Plot final PCA"
   ]
  },
  {
   "cell_type": "code",
   "execution_count": null,
   "id": "b042acad",
   "metadata": {},
   "outputs": [],
   "source": [
    "sc.pl.pca_overview(adata, color=['nb_features'], show=False)"
   ]
  },
  {
   "cell_type": "markdown",
   "id": "e542eb09",
   "metadata": {},
   "source": [
    "-----------"
   ]
  },
  {
   "cell_type": "markdown",
   "id": "0765a75e",
   "metadata": {},
   "source": [
    "## Batch Correction"
   ]
  },
  {
   "cell_type": "code",
   "execution_count": null,
   "id": "15149b64",
   "metadata": {},
   "outputs": [],
   "source": [
    "if perform_batch_correction:\n",
    "    batch_corrections = tools.wrap_corrections(adata, \n",
    "                                                  batch_key=batch_column,\n",
    "                                                  methods=batch_methods)\n",
    "else:\n",
    "    batch_corrections = {\"uncorrected\": adata}"
   ]
  },
  {
   "cell_type": "code",
   "execution_count": null,
   "id": "b8229b7c",
   "metadata": {},
   "outputs": [],
   "source": [
    "#Run standard umap for all adatas\n",
    "tools.wrap_umap(batch_corrections.values(), threads=threads)"
   ]
  },
  {
   "cell_type": "code",
   "execution_count": null,
   "id": "bdd0ae2e",
   "metadata": {},
   "outputs": [],
   "source": [
    "# Should preliminary clustering be performed?\n",
    "do_clustering = True #True or False"
   ]
  },
  {
   "cell_type": "code",
   "execution_count": null,
   "id": "0ab1d2bf",
   "metadata": {},
   "outputs": [],
   "source": [
    "#Perform additional clustering if it was chosen\n",
    "color_by = []\n",
    "if do_clustering:\n",
    "    for adata in batch_corrections.values():\n",
    "        sc.tl.leiden(adata, 0.1)\n",
    "    color_by.append(\"leiden\")"
   ]
  },
  {
   "cell_type": "code",
   "execution_count": null,
   "id": "e6b74605",
   "metadata": {},
   "outputs": [],
   "source": [
    "# Calculate LISI scores for batch\n",
    "tools.wrap_batch_evaluation(batch_corrections, batch_key=batch_column, threads=threads, inplace=True)"
   ]
  },
  {
   "cell_type": "code",
   "execution_count": null,
   "id": "4a5a35c0",
   "metadata": {},
   "outputs": [],
   "source": [
    "#Plot the overview of batch correction methods\n",
    "adata.obs[batch_column] = adata.obs[batch_column].astype(\"category\") #ensure that batch column is a category\n",
    "\n",
    "_ = pl.anndata_overview(batch_corrections, color_by=color_by + [batch_column], \n",
    "                        output=None)"
   ]
  },
  {
   "cell_type": "code",
   "execution_count": null,
   "id": "297d581e",
   "metadata": {},
   "outputs": [],
   "source": [
    "#Choose an anndata object to proceed\n",
    "batch_name = \"bbknn\"\n",
    "\n",
    "adata_corrected = batch_corrections[batch_name]"
   ]
  },
  {
   "cell_type": "markdown",
   "id": "6c651e65",
   "metadata": {},
   "source": [
    "---------"
   ]
  },
  {
   "cell_type": "markdown",
   "id": "59fdbc93",
   "metadata": {},
   "source": [
    "## Save anndata"
   ]
  },
  {
   "cell_type": "code",
   "execution_count": null,
   "id": "623403df",
   "metadata": {},
   "outputs": [],
   "source": [
    "#Saving the data\n",
    "adata_output = \"anndata_3.h5ad\"\n",
    "utils.save_h5ad(adata, adata_output)"
   ]
  },
  {
   "cell_type": "code",
   "execution_count": null,
   "id": "2374bf57",
   "metadata": {},
   "outputs": [],
   "source": []
  }
 ],
 "metadata": {
  "kernelspec": {
   "display_name": "sctoolbox",
   "language": "python",
   "name": "sctoolbox"
  },
  "language_info": {
   "codemirror_mode": {
    "name": "ipython",
    "version": 3
   },
   "file_extension": ".py",
   "mimetype": "text/x-python",
   "name": "python",
   "nbconvert_exporter": "python",
   "pygments_lexer": "ipython3",
   "version": "3.10.8"
  }
 },
 "nbformat": 4,
 "nbformat_minor": 5
}
