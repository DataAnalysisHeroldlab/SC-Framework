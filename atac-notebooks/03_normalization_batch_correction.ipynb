{
 "cells": [
  {
   "cell_type": "markdown",
   "id": "05bf638c",
   "metadata": {},
   "source": [
    "# Normalization and batch correction"
   ]
  },
  {
   "cell_type": "markdown",
   "id": "3c3b2bb6",
   "metadata": {},
   "source": [
    "## Settings"
   ]
  },
  {
   "cell_type": "code",
   "execution_count": null,
   "id": "88c3aa60",
   "metadata": {},
   "outputs": [],
   "source": [
    "# Choose normalization method\n",
    "norm_methods = ['tfidf', 'total']  # can be 'tfidf' and/or 'total'\n",
    "\n",
    "# remove_pc1: if True, the first PC is removed from TFIDF-LSI normalization before calculating neighbors, \n",
    "# since first component correlates with number of features\n",
    "log_normalize = True\n",
    "\n",
    "# Highly Variable Features options \n",
    "min_cells = 5 # This one is mandatory\n",
    "max_cells = None\n",
    "\n",
    "# UMAP related settings \n",
    "metacol = 'sample'\n",
    "\n",
    "# batch correction: If True, several batch correction methods will be performed,\n",
    "# you can choose the best one after\n",
    "batch_column = \"sample\"\n",
    "perform_batch_correction = True\n",
    "batch_methods = [\"bbknn\", \"harmony\"] # \"mnn\", \"scanorama\"\n",
    "threads = 8\n",
    "\n",
    "# save figures\n",
    "save_figs = False"
   ]
  },
  {
   "cell_type": "markdown",
   "id": "d3efc0e6",
   "metadata": {},
   "source": [
    "--------------"
   ]
  },
  {
   "cell_type": "markdown",
   "id": "f64aaa76",
   "metadata": {},
   "source": [
    "## Loading packages and setup"
   ]
  },
  {
   "cell_type": "code",
   "execution_count": null,
   "id": "61a4987b",
   "metadata": {},
   "outputs": [],
   "source": [
    "# sctoolbox modules\n",
    "import sctoolbox.tools as tools\n",
    "import sctoolbox.plotting as pl\n",
    "import sctoolbox.utils as utils\n",
    "\n",
    "##import sctoolbox.creators as cr\n",
    "#import sctoolbox.annotation as an\n",
    "#from sctoolbox.qc_filter import *\n",
    "#import sctoolbox.plotting as pl\n",
    "#from sctoolbox.atac_utils import *\n",
    "#from sctoolbox.analyser import *\n",
    "#import sctoolbox.atac as atac\n",
    "#import sctoolbox.utilities as utils\n",
    "import scanpy as sc\n",
    "import episcanpy as epi\n",
    "import numpy as np\n",
    "\n",
    "utils.settings_from_config(\"config.yaml\", key=\"03\")"
   ]
  },
  {
   "cell_type": "markdown",
   "id": "8cc1a8a9",
   "metadata": {},
   "source": [
    "## Load anndata "
   ]
  },
  {
   "cell_type": "code",
   "execution_count": null,
   "id": "61b56239",
   "metadata": {},
   "outputs": [],
   "source": [
    "# probably updated in future\n",
    "adata = utils.load_h5ad(\"anndata_2.h5ad\")\n",
    "display(adata)"
   ]
  },
  {
   "cell_type": "code",
   "execution_count": null,
   "id": "ab5136f0",
   "metadata": {},
   "outputs": [],
   "source": [
    "adata.obs[\"Sample\"] = \"1\""
   ]
  },
  {
   "cell_type": "markdown",
   "id": "94c62b5f",
   "metadata": {},
   "source": [
    "## Find highly variable features"
   ]
  },
  {
   "cell_type": "code",
   "execution_count": null,
   "id": "5823721a",
   "metadata": {},
   "outputs": [],
   "source": [
    "# update number of cells per feature\n",
    "adata = tools.calculate_qc_metrics(adata, var_type='features')\n",
    "\n",
    "# get highly variable features\n",
    "tools.get_variable_features(adata, max_cells, min_cells)"
   ]
  },
  {
   "cell_type": "code",
   "execution_count": null,
   "id": "72e464de",
   "metadata": {},
   "outputs": [],
   "source": [
    "#Number of variable genes selected\n",
    "adata.var[\"highly_variable\"].sum()"
   ]
  },
  {
   "cell_type": "code",
   "execution_count": null,
   "id": "fda16a54",
   "metadata": {},
   "outputs": [],
   "source": [
    "pl.violin_HVF_distribution(adata)"
   ]
  },
  {
   "cell_type": "markdown",
   "id": "9f78d0aa",
   "metadata": {},
   "source": [
    "-----------"
   ]
  },
  {
   "cell_type": "markdown",
   "id": "0e9b520a",
   "metadata": {},
   "source": [
    "## Normalization"
   ]
  },
  {
   "cell_type": "code",
   "execution_count": null,
   "id": "562479c5",
   "metadata": {},
   "outputs": [],
   "source": [
    "normalizations = tools.atac_norm(adata, norm_methods)"
   ]
  },
  {
   "cell_type": "markdown",
   "id": "192cc0b8",
   "metadata": {},
   "source": [
    "### Remove PC1 for TF-IDF normalization"
   ]
  },
  {
   "cell_type": "markdown",
   "id": "4895db89",
   "metadata": {},
   "source": [
    "### log normalize"
   ]
  },
  {
   "cell_type": "code",
   "execution_count": null,
   "id": "7b6ff6a8",
   "metadata": {},
   "outputs": [],
   "source": [
    "if log_normalize:\n",
    "    epi.pp.log1p(adata)"
   ]
  },
  {
   "cell_type": "markdown",
   "id": "bdeca85b",
   "metadata": {},
   "source": [
    "### Calc standard neighbors and umap for each adata"
   ]
  },
  {
   "cell_type": "code",
   "execution_count": null,
   "id": "dae778fe",
   "metadata": {},
   "outputs": [],
   "source": [
    "for adata in normalizations.values():\n",
    "    sc.pp.neighbors(adata, n_neighbors=15, n_pcs=50, method='umap', metric='euclidean')"
   ]
  },
  {
   "cell_type": "code",
   "execution_count": null,
   "id": "edecd8d5",
   "metadata": {},
   "outputs": [],
   "source": [
    "tools.wrap_umap(normalizations.values())"
   ]
  },
  {
   "cell_type": "markdown",
   "id": "fd8708e7",
   "metadata": {},
   "source": [
    "### Compare between normalizations"
   ]
  },
  {
   "cell_type": "code",
   "execution_count": null,
   "id": "3cbf35cb",
   "metadata": {},
   "outputs": [],
   "source": [
    "#Plot the overview of batch correction methods\n",
    "_ = pl.anndata_overview(normalizations, \n",
    "                        plots=[\"PCA\", \"PCA-var\", \"UMAP\"],\n",
    "                        color_by=[\"n_features\"], \n",
    "                        output=None)"
   ]
  },
  {
   "cell_type": "code",
   "execution_count": null,
   "id": "4e315c7f",
   "metadata": {},
   "outputs": [],
   "source": [
    "# Choose the final normalization method\n",
    "norm_method = \"tfidf\"\n",
    "\n",
    "adata = normalizations[norm_method]"
   ]
  },
  {
   "cell_type": "markdown",
   "id": "07d08504",
   "metadata": {},
   "source": [
    "-----------"
   ]
  },
  {
   "cell_type": "markdown",
   "id": "52137416",
   "metadata": {},
   "source": [
    "## Plot final PCA"
   ]
  },
  {
   "cell_type": "code",
   "execution_count": null,
   "id": "ecc59e41",
   "metadata": {},
   "outputs": [],
   "source": [
    "sc.pl.pca_overview(adata, color=['nb_features'], show=False)"
   ]
  },
  {
   "cell_type": "markdown",
   "id": "d54b43f6",
   "metadata": {},
   "source": [
    "-----------"
   ]
  },
  {
   "cell_type": "markdown",
   "id": "0765a75e",
   "metadata": {},
   "source": [
    "## Batch Correction"
   ]
  },
  {
   "cell_type": "code",
   "execution_count": null,
   "id": "11c56436",
   "metadata": {},
   "outputs": [],
   "source": [
    "adata.obs[batch_column] = adata.obs[batch_column].astype(\"category\") #ensure that batch column is a category"
   ]
  },
  {
   "cell_type": "code",
   "execution_count": null,
   "id": "15149b64",
   "metadata": {},
   "outputs": [],
   "source": [
    "if perform_batch_correction:\n",
    "    batch_corrections = tools.wrap_corrections(adata, \n",
    "                                                  batch_key=batch_column,\n",
    "                                                  methods=batch_methods)\n",
    "else:\n",
    "    batch_corrections = {\"uncorrected\": adata}"
   ]
  },
  {
   "cell_type": "code",
   "execution_count": null,
   "id": "b8229b7c",
   "metadata": {},
   "outputs": [],
   "source": [
    "#Run standard umap for all adatas\n",
    "tools.wrap_umap(batch_corrections.values(), threads=threads)"
   ]
  },
  {
   "cell_type": "code",
   "execution_count": null,
   "id": "bdd0ae2e",
   "metadata": {},
   "outputs": [],
   "source": [
    "# Should preliminary clustering be performed?\n",
    "do_clustering = True #True or False"
   ]
  },
  {
   "cell_type": "code",
   "execution_count": null,
   "id": "0ab1d2bf",
   "metadata": {},
   "outputs": [],
   "source": [
    "#Perform additional clustering if it was chosen\n",
    "color_by = []\n",
    "if do_clustering:\n",
    "    for adata in batch_corrections.values():\n",
    "        sc.tl.leiden(adata, 0.1)\n",
    "    color_by.append(\"leiden\")"
   ]
  },
  {
   "cell_type": "code",
   "execution_count": null,
   "id": "e6b74605",
   "metadata": {},
   "outputs": [],
   "source": [
    "# Calculate LISI scores for batch\n",
    "tools.wrap_batch_evaluation(batch_corrections, batch_key=batch_column, threads=threads, inplace=True)"
   ]
  },
  {
   "cell_type": "code",
   "execution_count": null,
   "id": "4a5a35c0",
   "metadata": {},
   "outputs": [],
   "source": [
    "#Plot the overview of batch correction methods\n",
    "_ = pl.anndata_overview(batch_corrections, color_by=color_by + [batch_column], \n",
    "                        output=None)"
   ]
  },
  {
   "cell_type": "code",
   "execution_count": null,
   "id": "297d581e",
   "metadata": {},
   "outputs": [],
   "source": [
    "#Choose an anndata object to proceed\n",
    "batch_name = \"uncorrected\"\n",
    "\n",
    "adata_corrected = batch_corrections[batch_name]"
   ]
  },
  {
   "cell_type": "markdown",
   "id": "7f37ec29",
   "metadata": {},
   "source": [
    "---------"
   ]
  },
  {
   "cell_type": "markdown",
   "id": "59fdbc93",
   "metadata": {},
   "source": [
    "## Save anndata"
   ]
  },
  {
   "cell_type": "code",
   "execution_count": null,
   "id": "623403df",
   "metadata": {},
   "outputs": [],
   "source": [
    "#Saving the data\n",
    "adata_output = \"anndata_3.h5ad\"\n",
    "utils.save_h5ad(adata, adata_output)"
   ]
  },
  {
   "cell_type": "code",
   "execution_count": null,
   "id": "2374bf57",
   "metadata": {},
   "outputs": [],
   "source": []
  }
 ],
 "metadata": {
  "language_info": {
   "name": "python"
  }
 },
 "nbformat": 4,
 "nbformat_minor": 5
}
