{
 "cells": [
  {
   "cell_type": "markdown",
   "id": "ac317ff1",
   "metadata": {},
   "source": [
    "# QC filtering\n",
    "\n",
    "This notebook is about filtering scATAC seq data within an adata object to archive a good quality peak matrix.\n",
    "For this task various QC filters are implemented. The latter includes filters related to:\n",
    "\n",
    "- doublet score\n",
    "- number of features per barcode\n",
    "- mean insert size\n",
    "- promotor enrichment\n"
   ]
  },
  {
   "cell_type": "markdown",
   "id": "c1405c2c",
   "metadata": {},
   "source": [
    "## Settings"
   ]
  },
  {
   "cell_type": "code",
   "execution_count": null,
   "id": "a9f4fe6c",
   "metadata": {},
   "outputs": [],
   "source": [
    "#Path related settings (these should be the same as for the previous notebook)\n",
    "output_dir = '/mnt/workspace/jdetlef/processed_data' # specify the output directory of the processing should be the same in every notebook\n",
    "test = 'Esophagus_146_0.01' # sample name, this should be the same for all the notebooks"
   ]
  },
  {
   "cell_type": "markdown",
   "id": "fdeeb2bb",
   "metadata": {},
   "source": [
    "## QC Settings"
   ]
  },
  {
   "cell_type": "code",
   "execution_count": null,
   "id": "5285011f",
   "metadata": {},
   "outputs": [],
   "source": [
    "# Set the column in adata.obs containing the biological condition to evaluate\n",
    "condition_column = \"sample\"\n",
    "\n",
    "filter_xy = True  # True or False; filtering out chrX and chrY\n",
    "binarize_mtx = True  # True or False; convert matrix to binary\n",
    "\n",
    "############################# filters ##########################################\n",
    "\n",
    "# Decide whether to estimate thresholds individual per condition (False) or globally (True)\n",
    "global_threshold = False\n",
    "\n",
    "# Filter to use:\n",
    "\n",
    "# Decide whether to remove doublets using scrublet (True) or to skip doublet calculation (False)\n",
    "filter_doublets = False\n",
    "use_native_scrublet = True\n",
    "threads = 2\n",
    "doublet_threshold = 0.2\n",
    "use_condition_column = False\n",
    "condition_doublet_removal = None\n",
    "\n",
    "# True or False; filtering out cells with numbers of features not in the range defined below\n",
    "n_features_filter = True\n",
    "# True or False; filtering out cells with mean insertsize not in the range defined below\n",
    "mean_insertsize_filter = True\n",
    "# True or False; filtering out cells with mean insertsize not in the range defined below\n",
    "nucleosomal_score_momentum_filter = True\n",
    "# True or False; filtering out cells with mean insertsize not in the range defined below\n",
    "nucleosomal_score_cwt_filter = True\n",
    "# True or False; filtering out cells with promotor_enrichment not in the range defined below\n",
    "filter_pct_fp= False\n",
    "# True or False; filtering out cells with a number features in chromosome M not in the defined range\n",
    "filter_chrM_fragments= False\n",
    "# True or False; filtering out cells with fragments mapped not in the defined range\n",
    "filter_uniquely_mapped_fragments= False\n",
    "\n",
    "\n",
    "# if this is True thresholds below are ignored \n",
    "only_automatic_thresholds = False # True or False; to use automatic thresholds\n",
    "\n",
    "############################# set default values #######################################\n",
    "# \n",
    "# This will be applied to all samples the thresholds can be changed manually when plotted \n",
    "# if thresholds None they are set automatically\n",
    "\n",
    "# default values n_features \n",
    "min_features = 100\n",
    "max_features = 5000\n",
    "\n",
    "# default mean_insertsize\n",
    "upper_threshold_mis=None\n",
    "lower_threshold_mis=None\n",
    "\n",
    "# nucleosomal_score_momentum\n",
    "upper_threshold_nsm=None\n",
    "lower_threshold_nsm=None\n",
    "\n",
    "# nucleosomal_score_cwt\n",
    "upper_threshold_nscwt=None\n",
    "lower_threshold_nscwt=None\n",
    "\n",
    "# default promotor enrichment\n",
    "upper_threshold_pct_fp=None\n",
    "lower_threshold_pct_fp=None\n",
    "\n",
    "# default number of fragments\n",
    "upper_thr_fragments=None\n",
    "lower_thr_fragments=None\n",
    "\n",
    "# default number of fragments in chrM\n",
    "upper_thr_chrM_fragments=1000\n",
    "lower_thr_chrM_fragments=0\n",
    "\n",
    "# default number of uniquely mapped fragments\n",
    "upper_thr_um=20000\n",
    "lower_thr_um=0\n",
    "\n"
   ]
  },
  {
   "cell_type": "markdown",
   "id": "731616b9",
   "metadata": {},
   "source": [
    "## Sum up settings"
   ]
  },
  {
   "cell_type": "code",
   "execution_count": null,
   "id": "af4a23ed",
   "metadata": {},
   "outputs": [],
   "source": [
    "manual_thresholds = {}\n",
    "if n_features_filter:\n",
    "    manual_thresholds['n_features_by_counts'] = {'min' : min_features, 'max' : max_features}\n",
    "\n",
    "if mean_insertsize_filter:\n",
    "    manual_thresholds['mean_insertsize'] = {'min' : lower_threshold_mis, 'max' : upper_threshold_mis}\n",
    "\n",
    "if nucleosomal_score_momentum_filter:\n",
    "    manual_thresholds['nucleosomal_score_momentum'] = {'min' : lower_threshold_nsm, 'max' : upper_threshold_nsm}\n",
    "    \n",
    "if nucleosomal_score_cwt_filter:\n",
    "    manual_thresholds['nucleosomal_score_cwt'] = {'min' : lower_threshold_nscwt, 'max' : upper_threshold_nscwt}\n",
    "    \n",
    "if filter_pct_fp:\n",
    "    manual_thresholds['pct_fragments_in_promoters'] = {'min' : lower_threshold_pct_fp, 'max' : upper_threshold_pct_fp}\n",
    "\n",
    "if filter_chrM_fragments:\n",
    "    manual_thresholds['CM'] = {'min' : lower_thr_chrM_fragments, 'max' : upper_thr_chrM_fragments}\n",
    "\n",
    "if filter_uniquely_mapped_fragments:\n",
    "    manual_thresholds['UM'] = {'min' : lower_thr_um, 'max' : upper_thr_um}\n",
    "\n",
    "obs_columns = list(manual_thresholds.keys())"
   ]
  },
  {
   "cell_type": "markdown",
   "id": "9bfd0589",
   "metadata": {},
   "source": [
    "## Loading packages and setup"
   ]
  },
  {
   "cell_type": "code",
   "execution_count": null,
   "id": "a5e585b0",
   "metadata": {},
   "outputs": [],
   "source": [
    "# sctoolbox modules\n",
    "import sctoolbox.atac_tree as sub_tree\n",
    "import sctoolbox.creators as cr\n",
    "import sctoolbox.annotation as an\n",
    "import sctoolbox.qc_filter as qc\n",
    "import sctoolbox.plotting as pl\n",
    "import sctoolbox.atac_utils as atac_utils\n",
    "import sctoolbox.atac as atac\n",
    "# import episcanpy\n",
    "import scanpy as sc\n",
    "import episcanpy as epi\n",
    "import numpy as np\n",
    "import scrublet as scr"
   ]
  },
  {
   "cell_type": "markdown",
   "id": "a3984998",
   "metadata": {},
   "source": [
    "## Setup path handling object "
   ]
  },
  {
   "cell_type": "code",
   "execution_count": null,
   "id": "7c230208",
   "metadata": {},
   "outputs": [],
   "source": [
    "# make an instance of the class\n",
    "tree = sub_tree.ATAC_tree()\n",
    "# set processing/output directory\n",
    "tree.processing_dir = output_dir\n",
    "# set sample/experiment.. \n",
    "tree.run = test"
   ]
  },
  {
   "cell_type": "markdown",
   "id": "3d8408ce",
   "metadata": {},
   "source": [
    "## Load anndata "
   ]
  },
  {
   "cell_type": "code",
   "execution_count": null,
   "id": "5e989d23",
   "metadata": {},
   "outputs": [],
   "source": [
    "# probably updated in future\n",
    "assembling_output = tree.assembled_anndata\n",
    "adata = epi.read_h5ad(assembling_output)\n",
    "adata"
   ]
  },
  {
   "cell_type": "markdown",
   "id": "db60f5ba",
   "metadata": {},
   "source": [
    "# QC"
   ]
  },
  {
   "cell_type": "markdown",
   "id": "8bb2c8b4",
   "metadata": {},
   "source": [
    "## 1. filtering out chrX, chrY and chrM"
   ]
  },
  {
   "cell_type": "code",
   "execution_count": null,
   "id": "385bd38f",
   "metadata": {},
   "outputs": [],
   "source": [
    "non_m = [name for name in adata.var_names if not name.startswith('chrM')]  # remove chrM\n",
    "adata = adata[:, non_m]"
   ]
  },
  {
   "cell_type": "code",
   "execution_count": null,
   "id": "1e221a49",
   "metadata": {},
   "outputs": [],
   "source": [
    "if filter_xy:\n",
    "    non_xy = [name for name in adata.var_names if not name.startswith('chrY') | name.startswith('chrX')]\n",
    "    adata = adata[:, non_xy]"
   ]
  },
  {
   "cell_type": "code",
   "execution_count": null,
   "id": "dc05d7b8",
   "metadata": {},
   "outputs": [],
   "source": [
    "display(adata)"
   ]
  },
  {
   "cell_type": "markdown",
   "id": "2f801142",
   "metadata": {},
   "source": [
    "## 2. removing empty cells"
   ]
  },
  {
   "cell_type": "code",
   "execution_count": null,
   "id": "1bfb0aa0",
   "metadata": {},
   "outputs": [],
   "source": [
    "epi.pp.filter_cells(adata, min_features=1)\n",
    "epi.pp.filter_features(adata, min_cells=1)\n",
    "# log-convert number of features\n",
    "adata.obs['log_nb_features'] = [np.log10(x) for x in adata.obs['nb_features']]\n",
    "display(adata)"
   ]
  },
  {
   "cell_type": "markdown",
   "id": "7f9c9318",
   "metadata": {},
   "source": [
    "## 3. binarize"
   ]
  },
  {
   "cell_type": "code",
   "execution_count": null,
   "id": "1cc85ce4",
   "metadata": {},
   "outputs": [],
   "source": [
    "adata.raw = adata\n",
    "if binarize_mtx:\n",
    "    epi.pp.binarize(adata)\n",
    "    adata.layers['binary'] = adata.X.copy()"
   ]
  },
  {
   "cell_type": "markdown",
   "id": "ff02940a",
   "metadata": {},
   "source": [
    "## 4. doublet removal"
   ]
  },
  {
   "cell_type": "code",
   "execution_count": null,
   "id": "50b7c031",
   "metadata": {},
   "outputs": [],
   "source": [
    "adata.uns[\"infoprocess\"][\"plot_metrics\"] = []"
   ]
  },
  {
   "cell_type": "code",
   "execution_count": null,
   "id": "ee030ea2",
   "metadata": {},
   "outputs": [],
   "source": [
    " if filter_doublets:\n",
    "        \n",
    "    if use_condition_column:\n",
    "        condition_doublet_removal = condition_column\n",
    "    \n",
    "    if use_native_scrublet:\n",
    "        # TODO: Implement Wrapper function for sctoolbox\n",
    "        adata.obs['doublet_score'] = float('NaN')\n",
    "        adata.obs['predicted_doublet'] = None\n",
    "\n",
    "        sample_dict = {}\n",
    "        for sample in adata.obs[condition_column].unique():\n",
    "            print('Run scrublet for condition: ' + sample)\n",
    "            X = adata.X[adata.obs[condition_column] == sample]\n",
    "            scrub = scr.Scrublet(X)\n",
    "            doublet_scores, predicted_doublets = scrub.scrub_doublets()\n",
    "            adata.obs.loc[adata.obs[condition_column]==sample, 'doublet_score'] = doublet_scores\n",
    "            adata.obs.loc[adata.obs[condition_column]==sample, 'predicted_doublet'] = predicted_doublets\n",
    "            \n",
    "        adata.obs['predicted_doublet'] = adata.obs['predicted_doublet'].astype(bool)\n",
    "        \n",
    "    else:\n",
    "        qc.estimate_doublets(adata, groupby=condition_doublet_removal, threads=threads, threshold=doublet_threshold)\n",
    "    \n",
    "    #Remove the duplicates from adata\n",
    "    qc.filter_cells(adata, \"predicted_doublet\", remove_bool=True)\n",
    "    \n",
    "    #Save to adata to plot later on\n",
    "    adata.uns[\"infoprocess\"][\"plot_metrics\"].append(\"doublet_score\")"
   ]
  },
  {
   "cell_type": "code",
   "execution_count": null,
   "id": "455bf754",
   "metadata": {},
   "outputs": [],
   "source": [
    "adata.obs"
   ]
  },
  {
   "cell_type": "markdown",
   "id": "8be20ee8",
   "metadata": {},
   "source": [
    "## 5. visualize adata"
   ]
  },
  {
   "cell_type": "code",
   "execution_count": null,
   "id": "feba121e",
   "metadata": {},
   "outputs": [],
   "source": [
    "adata.var"
   ]
  },
  {
   "cell_type": "code",
   "execution_count": null,
   "id": "931943e7",
   "metadata": {},
   "outputs": [],
   "source": [
    "# plot_ov_hist(adata, threshold_features=50) \n",
    "epi.pp.filter_features(adata, min_cells=1)\n",
    "epi.pp.filter_cells(adata, min_features=1)\n",
    "epi.pp.coverage_cells(adata, binary=True, log=False, bins=50)\n",
    "epi.pp.coverage_cells(adata, binary=True, log=10, bins=50)\n",
    "\n",
    "epi.pp.coverage_features(adata, binary=True, log=False, bins=50)\n",
    "epi.pp.coverage_features(adata, binary=True, log=10, bins=50)"
   ]
  },
  {
   "cell_type": "markdown",
   "id": "fb6af5eb",
   "metadata": {},
   "source": [
    "## 6. Cells Filtering"
   ]
  },
  {
   "cell_type": "markdown",
   "id": "89f92c34",
   "metadata": {},
   "source": [
    "### 6.1 get thresholds dict"
   ]
  },
  {
   "cell_type": "code",
   "execution_count": null,
   "id": "b317bdc7",
   "metadata": {},
   "outputs": [],
   "source": [
    "groupby = condition_column if global_threshold is False else None\n",
    "thresholds = atac_utils.get_thresholds_atac_wrapper(adata, manual_thresholds, only_automatic_thresholds, groupby=groupby)\n",
    "qc.thresholds_as_table(thresholds)"
   ]
  },
  {
   "cell_type": "markdown",
   "id": "acde2adf",
   "metadata": {},
   "source": [
    "### 6.2 plot thresholds"
   ]
  },
  {
   "cell_type": "code",
   "execution_count": null,
   "id": "981a5c50",
   "metadata": {},
   "outputs": [],
   "source": [
    "%matplotlib widget\n",
    "%bgcolor PowderBlue\n",
    "\n",
    "#Plot violins and sliders\n",
    "obs_figure, obs_slider_dict = qc.quality_violin(adata, columns=obs_columns,\n",
    "                                            groupby=condition_column,\n",
    "                                            which=\"obs\",\n",
    "                                            thresholds=thresholds,\n",
    "                                            global_threshold=global_threshold,\n",
    "                                            title=\"Cell quality control (before)\",\n",
    "                                            save=tree.qc_plots + \"cell_filtering.png\")\n",
    "obs_figure"
   ]
  },
  {
   "cell_type": "code",
   "execution_count": null,
   "id": "d43c3b78",
   "metadata": {},
   "outputs": [],
   "source": [
    "# Get final thresholds\n",
    "final_thresholds = qc.get_slider_thresholds(obs_slider_dict)\n",
    "qc.thresholds_as_table(final_thresholds) # show thresholds"
   ]
  },
  {
   "cell_type": "markdown",
   "id": "d131f523",
   "metadata": {},
   "source": [
    "### 6.3 filter adata"
   ]
  },
  {
   "cell_type": "code",
   "execution_count": null,
   "id": "1c488570",
   "metadata": {},
   "outputs": [],
   "source": [
    "qc.apply_qc_thresholds(adata, final_thresholds, groupby=groupby)\n",
    "# remove empty features\n",
    "epi.pp.filter_features(adata, min_cells=1)"
   ]
  },
  {
   "cell_type": "code",
   "execution_count": null,
   "id": "24634132",
   "metadata": {},
   "outputs": [],
   "source": [
    "# log-convert number of features\n",
    "adata.obs['log_nb_features'] = [np.log10(x) for x in adata.obs['nb_features']]\n",
    "display(adata)"
   ]
  },
  {
   "cell_type": "markdown",
   "id": "aad9af0e",
   "metadata": {},
   "source": [
    "## 7. save plots"
   ]
  },
  {
   "cell_type": "code",
   "execution_count": null,
   "id": "955b7ac2",
   "metadata": {},
   "outputs": [],
   "source": [
    "%matplotlib inline \n",
    "\n",
    "#Plot violins and sliders\n",
    "figure, slider_dict = qc.quality_violin(adata, columns=obs_columns,\n",
    "                                     groupby=condition_column,\n",
    "                                     which=\"obs\", ncols=3,\n",
    "                                     global_threshold = global_threshold,\n",
    "                                     title=\"Cell quality control (after)\",\n",
    "                                     save=tree.qc_plots + \"cell_filtering_final.png\")\n",
    "figure "
   ]
  },
  {
   "cell_type": "markdown",
   "id": "b43e9b3e",
   "metadata": {},
   "source": [
    "## 8. save anndata"
   ]
  },
  {
   "cell_type": "code",
   "execution_count": null,
   "id": "877a2815",
   "metadata": {},
   "outputs": [],
   "source": [
    "adata_output = tree.qc_anndata\n",
    "adata.write(filename=adata_output)"
   ]
  },
  {
   "cell_type": "code",
   "execution_count": null,
   "id": "b55ef72a",
   "metadata": {},
   "outputs": [],
   "source": [
    "tree.qc_dir"
   ]
  },
  {
   "cell_type": "code",
   "execution_count": null,
   "id": "080d7ef4",
   "metadata": {},
   "outputs": [],
   "source": [
    "import os\n",
    "import shutil\n",
    "repo_path = os.getcwd()\n",
    "notebook_name = '02_QC.ipynb'\n",
    "notebook_path = os.path.join(repo_path, notebook_name)\n",
    "notebook_copy = os.path.join(tree.qc_dir , notebook_name)\n",
    "shutil.copyfile(notebook_path, notebook_copy)"
   ]
  },
  {
   "cell_type": "code",
   "execution_count": null,
   "id": "c75f35c4",
   "metadata": {},
   "outputs": [],
   "source": []
  }
 ],
 "metadata": {
  "language_info": {
   "name": "python"
  }
 },
 "nbformat": 4,
 "nbformat_minor": 5
}
