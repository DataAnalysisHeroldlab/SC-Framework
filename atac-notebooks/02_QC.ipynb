{
 "cells": [
  {
   "cell_type": "markdown",
   "id": "ac317ff1",
   "metadata": {},
   "source": [
    "# QC filtering\n",
    "\n",
    "This notebook is about filtering scATAC seq data within an adata object to archive a good quality peak matrix.\n",
    "For this task various QC filters are implemented. The latter includes filters related to:\n",
    "\n",
    "- doublet score\n",
    "- number of features per barcode\n",
    "- mean insert size\n",
    "- promotor enrichment\n"
   ]
  },
  {
   "cell_type": "markdown",
   "id": "fdeeb2bb",
   "metadata": {},
   "source": [
    "## QC Settings"
   ]
  },
  {
   "cell_type": "code",
   "execution_count": null,
   "id": "5285011f",
   "metadata": {},
   "outputs": [],
   "source": [
    "# Set the column in adata.obs containing the biological condition to evaluate\n",
    "sample_column = \"sample\"\n",
    "\n",
    "# Choose whether to binarize the X matrix\n",
    "binarize_mtx = True  # True or False; convert matrix to binary\n",
    "\n",
    "############################# Filters ##############################\n",
    "\n",
    "# General filters\n",
    "filter_chrM = True  # True or False; filtering out chrM\n",
    "filter_xy = True    # True or False; filtering out chrX and chrY\n",
    "\n",
    "# Doublet removal with scrublet\n",
    "filter_doublets = True  # whether to remove doublets using scrublet (True) or to skip doublet calculation (False)\n",
    "use_native_scrublet = True\n",
    "threads = 2\n",
    "doublet_threshold = 0.2\n",
    "use_condition_column = False\n",
    "condition_doublet_removal = None\n",
    "\n",
    "# Decide whether to estimate thresholds individual per condition (False) or globally (True)\n",
    "global_threshold = False\n",
    "\n",
    "\n",
    "# True or False; filtering out cells with numbers of features not in the range defined below\n",
    "#n_features_filter = True\n",
    "# True or False; filtering out cells with mean insertsize not in the range defined below\n",
    "#mean_insertsize_filter = True\n",
    "# True or False; filtering out cells with mean insertsize not in the range defined below\n",
    "#nucleosomal_score_momentum_filter = True\n",
    "# True or False; filtering out cells with mean insertsize not in the range defined below\n",
    "#nucleosomal_score_cwt_filter = True\n",
    "# True or False; filtering out cells with promotor_enrichment not in the range defined below\n",
    "#filter_pct_fp= False\n",
    "# True or False; filtering out cells with a number features in chromosome M not in the defined range\n",
    "#filter_chrM_fragments= False\n",
    "# True or False; filtering out cells with fragments mapped not in the defined range\n",
    "#filter_uniquely_mapped_fragments= False\n",
    "\n",
    "\n",
    "############################# Set default filter thresholds ###############################\n",
    "\n",
    "# This will be applied to all samples the thresholds can be changed manually when plotted \n",
    "use_default_thresholds = True  # set to False to ignore default_thresholds\n",
    "default_thresholds = {\n",
    "                      'n_features': {'min': 100, 'max': 5000},\n",
    "                      'mean_insertsize': {\"min\": None, \"max\": 800},\n",
    "                      'pct_fragments_in_promoters': {'min': 0.05, 'max': 0.8},\n",
    "                      'nucleosomal_score_ct_cwt': {'min': 0.1, 'max': 0.6}\n",
    "                      # add additional columns if needed\n",
    "                     }"
   ]
  },
  {
   "cell_type": "markdown",
   "id": "16ccabdd",
   "metadata": {},
   "source": [
    "----------------------"
   ]
  },
  {
   "cell_type": "markdown",
   "id": "9bfd0589",
   "metadata": {},
   "source": [
    "## Loading packages and setup"
   ]
  },
  {
   "cell_type": "code",
   "execution_count": null,
   "id": "a5e585b0",
   "metadata": {},
   "outputs": [],
   "source": [
    "# sctoolbox modules\n",
    "import sctoolbox.utils as utils\n",
    "import sctoolbox.tools as tools\n",
    "import sctoolbox.plotting as pl\n",
    "\n",
    "import scanpy as sc\n",
    "import episcanpy as epi\n",
    "import numpy as np\n",
    "import scrublet as scr\n",
    "\n",
    "utils.settings_from_config(\"config.yaml\", key=\"02\")"
   ]
  },
  {
   "cell_type": "markdown",
   "id": "3d8408ce",
   "metadata": {},
   "source": [
    "## Load anndata "
   ]
  },
  {
   "cell_type": "code",
   "execution_count": null,
   "id": "5e989d23",
   "metadata": {},
   "outputs": [],
   "source": [
    "adata = utils.load_h5ad(\"anndata_1.h5ad\")\n",
    "display(adata)"
   ]
  },
  {
   "cell_type": "markdown",
   "id": "9d382f50",
   "metadata": {},
   "source": [
    "-------------"
   ]
  },
  {
   "cell_type": "markdown",
   "id": "db60f5ba",
   "metadata": {},
   "source": [
    "## Calculate QC metrics"
   ]
  },
  {
   "cell_type": "markdown",
   "id": "2f801142",
   "metadata": {},
   "source": [
    "### 1. Removing empty cells and features\n"
   ]
  },
  {
   "cell_type": "code",
   "execution_count": null,
   "id": "ad6014ca",
   "metadata": {},
   "outputs": [],
   "source": [
    "adata.shape"
   ]
  },
  {
   "cell_type": "code",
   "execution_count": null,
   "id": "8e8b81d9",
   "metadata": {},
   "outputs": [],
   "source": [
    "adata = adata[adata.X.sum(axis=1) > 0]\n",
    "adata = adata[:, adata.X.sum(axis=0) > 0]"
   ]
  },
  {
   "cell_type": "code",
   "execution_count": null,
   "id": "ac055411",
   "metadata": {},
   "outputs": [],
   "source": [
    "adata.shape"
   ]
  },
  {
   "cell_type": "markdown",
   "id": "0531c72d",
   "metadata": {},
   "source": [
    "### 2. Binarize matrix"
   ]
  },
  {
   "cell_type": "code",
   "execution_count": null,
   "id": "e10c1170",
   "metadata": {},
   "outputs": [],
   "source": [
    "adata.layers[\"raw\"] = adata.X.copy()\n",
    "if binarize_mtx:\n",
    "    epi.pp.binarize(adata)"
   ]
  },
  {
   "cell_type": "markdown",
   "id": "8bb2c8b4",
   "metadata": {},
   "source": [
    "### 3. Filtering out chrX, chrY and chrM"
   ]
  },
  {
   "cell_type": "code",
   "execution_count": null,
   "id": "385bd38f",
   "metadata": {},
   "outputs": [],
   "source": [
    "if filter_chrM:\n",
    "    non_m = [name for name in adata.var_names if not name.startswith('chrM')]  # remove chrM\n",
    "    adata = adata[:, non_m]"
   ]
  },
  {
   "cell_type": "code",
   "execution_count": null,
   "id": "1e221a49",
   "metadata": {},
   "outputs": [],
   "source": [
    "if filter_xy:\n",
    "    non_xy = [name for name in adata.var_names if not name.startswith('chrY') | name.startswith('chrX')]\n",
    "    adata = adata[:, non_xy]"
   ]
  },
  {
   "cell_type": "markdown",
   "id": "45d66a9a",
   "metadata": {},
   "source": [
    "### 4. Calculate metrics"
   ]
  },
  {
   "cell_type": "code",
   "execution_count": null,
   "id": "dc05d7b8",
   "metadata": {},
   "outputs": [],
   "source": [
    "adata = tools.calculate_qc_metrics(adata, var_type='features')\n",
    "\n",
    "display(adata)"
   ]
  },
  {
   "cell_type": "markdown",
   "id": "ff02940a",
   "metadata": {},
   "source": [
    "### 5. Doublet removal"
   ]
  },
  {
   "cell_type": "code",
   "execution_count": null,
   "id": "ee030ea2",
   "metadata": {},
   "outputs": [],
   "source": [
    " if filter_doublets:\n",
    "        \n",
    "    if use_condition_column:\n",
    "        condition_doublet_removal = condition_column\n",
    "    \n",
    "    if use_native_scrublet:\n",
    "        # TODO: Implement Wrapper function for sctoolbox\n",
    "        adata.obs['doublet_score'] = float('NaN')\n",
    "        adata.obs['predicted_doublet'] = None\n",
    "\n",
    "        sample_dict = {}\n",
    "        for sample in adata.obs[sample_column].unique():\n",
    "            print('Run scrublet for condition: ' + sample)\n",
    "            X = adata.X[adata.obs[sample_column] == sample]\n",
    "            scrub = scr.Scrublet(X)\n",
    "            doublet_scores, predicted_doublets = scrub.scrub_doublets()\n",
    "            adata.obs.loc[adata.obs[sample_column]==sample, 'doublet_score'] = doublet_scores\n",
    "            adata.obs.loc[adata.obs[sample_column]==sample, 'predicted_doublet'] = predicted_doublets\n",
    "            \n",
    "        adata.obs['predicted_doublet'] = adata.obs['predicted_doublet'].astype(bool)\n",
    "        \n",
    "    else:\n",
    "        qc.estimate_doublets(adata, groupby=condition_doublet_removal, threads=threads, threshold=doublet_threshold)\n",
    "    \n",
    "    #Remove the duplicates from adata\n",
    "    tools.filter_cells(adata, \"predicted_doublet\", remove_bool=True)\n"
   ]
  },
  {
   "cell_type": "code",
   "execution_count": null,
   "id": "98525841",
   "metadata": {},
   "outputs": [],
   "source": [
    "# remove empty features\n",
    "adata = adata[adata.X.sum(axis=1) > 0]\n",
    "adata = adata[:, adata.X.sum(axis=0) > 0]"
   ]
  },
  {
   "cell_type": "markdown",
   "id": "8be20ee8",
   "metadata": {},
   "source": [
    "### 6. Visualize global quality features"
   ]
  },
  {
   "cell_type": "code",
   "execution_count": null,
   "id": "931943e7",
   "metadata": {},
   "outputs": [],
   "source": [
    "epi.pp.coverage_cells(adata, binary=True, log=False, bins=50)\n",
    "epi.pp.coverage_cells(adata, binary=True, log=10, bins=50)\n",
    "\n",
    "epi.pp.coverage_features(adata, binary=True, log=False, bins=50)\n",
    "#epi.pp.coverage_features(adata, binary=True, log=10, bins=50)"
   ]
  },
  {
   "cell_type": "markdown",
   "id": "b3f80a07",
   "metadata": {},
   "source": [
    "---------------------"
   ]
  },
  {
   "cell_type": "markdown",
   "id": "fb6af5eb",
   "metadata": {},
   "source": [
    "## 6. Cell filtering"
   ]
  },
  {
   "cell_type": "markdown",
   "id": "89f92c34",
   "metadata": {},
   "source": [
    "### 6.1 Get thresholds dict"
   ]
  },
  {
   "cell_type": "code",
   "execution_count": null,
   "id": "ba2079f4",
   "metadata": {},
   "outputs": [],
   "source": [
    "groupby = sample_column if global_threshold is False else None\n",
    "thresholds = tools.get_thresholds_wrapper(adata, default_thresholds, only_automatic_thresholds=False, groupby=groupby)\n",
    "obs_columns = list(thresholds.keys())\n",
    "tools.thresholds_as_table(thresholds)"
   ]
  },
  {
   "cell_type": "markdown",
   "id": "acde2adf",
   "metadata": {},
   "source": [
    "### 6.2 Plot thresholds"
   ]
  },
  {
   "cell_type": "code",
   "execution_count": null,
   "id": "981a5c50",
   "metadata": {},
   "outputs": [],
   "source": [
    "%matplotlib widget\n",
    "%bgcolor PowderBlue\n",
    "\n",
    "#Plot violins and sliders\n",
    "obs_figure, obs_slider_dict = pl.quality_violin(adata, columns=obs_columns,\n",
    "                                                groupby=sample_column,\n",
    "                                                which=\"obs\",\n",
    "                                                thresholds=initial_thresholds,\n",
    "                                                global_threshold=global_threshold,\n",
    "                                                title=\"Cell quality control (before)\",\n",
    "                                                save=\"cell_filtering.png\")\n",
    "obs_figure"
   ]
  },
  {
   "cell_type": "code",
   "execution_count": null,
   "id": "d43c3b78",
   "metadata": {},
   "outputs": [],
   "source": [
    "# Get final thresholds\n",
    "final_thresholds = pl.get_slider_thresholds(obs_slider_dict)\n",
    "tools.thresholds_as_table(final_thresholds) # show thresholds"
   ]
  },
  {
   "cell_type": "markdown",
   "id": "d131f523",
   "metadata": {},
   "source": [
    "### 6.3 Filter adata"
   ]
  },
  {
   "cell_type": "code",
   "execution_count": null,
   "id": "1c488570",
   "metadata": {},
   "outputs": [],
   "source": [
    "tools.apply_qc_thresholds(adata, final_thresholds, groupby=groupby)\n",
    "\n",
    "# remove empty features after cell filtering\n",
    "adata = adata[:, adata.X.sum(axis=0) > 0]"
   ]
  },
  {
   "cell_type": "markdown",
   "id": "aad9af0e",
   "metadata": {},
   "source": [
    "## 7. Save plots"
   ]
  },
  {
   "cell_type": "code",
   "execution_count": null,
   "id": "955b7ac2",
   "metadata": {},
   "outputs": [],
   "source": [
    "%matplotlib inline \n",
    "\n",
    "#Plot violins and sliders\n",
    "figure, slider_dict = pl.quality_violin(adata, columns=obs_columns,\n",
    "                                        groupby=sample_column,\n",
    "                                        which=\"obs\", ncols=3,\n",
    "                                        global_threshold = global_threshold,\n",
    "                                        title=\"Cell quality control (after)\",\n",
    "                                        save=\"cell_filtering_final.png\")\n",
    "figure "
   ]
  },
  {
   "cell_type": "markdown",
   "id": "052614e4",
   "metadata": {},
   "source": [
    "-------------"
   ]
  },
  {
   "cell_type": "markdown",
   "id": "b43e9b3e",
   "metadata": {},
   "source": [
    "## 8. Save anndata"
   ]
  },
  {
   "cell_type": "code",
   "execution_count": null,
   "id": "877a2815",
   "metadata": {},
   "outputs": [],
   "source": [
    "#Saving the data\n",
    "adata_output = \"anndata_2.h5ad\"\n",
    "utils.save_h5ad(adata, adata_output)"
   ]
  },
  {
   "cell_type": "code",
   "execution_count": null,
   "id": "c75f35c4",
   "metadata": {},
   "outputs": [],
   "source": []
  }
 ],
 "metadata": {
  "language_info": {
   "name": "python"
  }
 },
 "nbformat": 4,
 "nbformat_minor": 5
}
