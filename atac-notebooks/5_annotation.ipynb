{
 "cells": [
  {
   "cell_type": "markdown",
   "id": "b7115117",
   "metadata": {},
   "source": [
    "# Annotation"
   ]
  },
  {
   "cell_type": "markdown",
   "id": "d3054d25",
   "metadata": {},
   "source": [
    "## Settings "
   ]
  },
  {
   "cell_type": "code",
   "execution_count": null,
   "id": "48f7424a",
   "metadata": {},
   "outputs": [],
   "source": [
    "# Path related settings (these should be the same as for the previous notebook)\n",
    "output_dir = '/mnt/workspace/mkessle/ext442'\n",
    "test = 'ext442'\n",
    "\n",
    "# Gene annotation\n",
    "GTF_PATH = \"/mnt/flatfiles/organisms/new_organism/mus_musculus/104/mus_musculus.104.genes.gtf\"\n",
    "ENSEMBL_DATASET = \"mmusculus_gene_ensembl\" # This is used for replaceing ensembl gene IDs with gene names if possible\n",
    "                                           # use \"hsapiens_gene_ensembl\" for homo sapiens\n",
    "# Cell type annotation\n",
    "SPECIES = \"Mm\" # Currently only Hs (Homo Sapiens) and Mm (Mus Musculus) are available for custom cell type annotation\n",
    "SCSA_SPECIES = \"mouse\" # Currently only human (Homo Sapiens) and mouse (Mus Musculus) are available for SCSA\n",
    "PANGLAO_DB_PATH = \"/mnt/workspace/jdetlef/sc-atac-framework/ctannot/panglao_markers\"\n",
    "RESOLUTIONS = \"leiden_0.4\" # Choose \"None\" to keep the selection of the clustering resolution from the previous notebook\n",
    "                           # You can also choose a column which contains the clustering information in the obs table\n",
    "                           # It is also possible to add more than one column (resolutions) by using a list of columns"
   ]
  },
  {
   "cell_type": "code",
   "execution_count": null,
   "id": "4bffaebf",
   "metadata": {},
   "outputs": [],
   "source": [
    "RESOLUTIONS"
   ]
  },
  {
   "cell_type": "code",
   "execution_count": null,
   "id": "1bd32a7e",
   "metadata": {},
   "outputs": [],
   "source": [
    "%load_ext autoreload\n",
    "%autoreload 2"
   ]
  },
  {
   "cell_type": "markdown",
   "id": "a95d2b7e",
   "metadata": {},
   "source": [
    "## Loading packages and setup"
   ]
  },
  {
   "cell_type": "code",
   "execution_count": null,
   "id": "3f19a034",
   "metadata": {},
   "outputs": [],
   "source": [
    "import sctoolbox.atac_tree as sub_tree\n",
    "import sctoolbox.annotation as annot\n",
    "import sctoolbox.custom_celltype_annotation as ctannot\n",
    "from sctoolbox.celltype_annotation import run_scsa\n",
    "import episcanpy as epi\n",
    "import scanpy as sc\n",
    "from matplotlib import pyplot as plt\n",
    "from pybiomart import Dataset"
   ]
  },
  {
   "cell_type": "markdown",
   "id": "c9181831",
   "metadata": {},
   "source": [
    "## Setup path handling object "
   ]
  },
  {
   "cell_type": "code",
   "execution_count": null,
   "id": "e3cf7131",
   "metadata": {},
   "outputs": [],
   "source": [
    "# make an instance of the class\n",
    "tree = sub_tree.ATAC_tree()\n",
    "# set processing/output directory\n",
    "tree.processing_dir = output_dir\n",
    "# set sample/experiment.. \n",
    "tree.run = test"
   ]
  },
  {
   "cell_type": "code",
   "execution_count": null,
   "id": "e389853b",
   "metadata": {},
   "outputs": [],
   "source": [
    "tree.gtf_path = GTF_PATH"
   ]
  },
  {
   "cell_type": "markdown",
   "id": "9bf25ce5",
   "metadata": {},
   "source": [
    "## Load anndata"
   ]
  },
  {
   "cell_type": "code",
   "execution_count": null,
   "id": "842fd6dd",
   "metadata": {},
   "outputs": [],
   "source": [
    "clustering_output = tree.clustering_anndata\n",
    "adata = epi.read_h5ad(clustering_output)\n",
    "adata.var"
   ]
  },
  {
   "cell_type": "code",
   "execution_count": null,
   "id": "21ee35e6",
   "metadata": {},
   "outputs": [],
   "source": [
    "if RESOLUTIONS:\n",
    "    if type(RESOLUTIONS) == str:\n",
    "        RESOLUTIONS = [RESOLUTIONS]\n",
    "else:\n",
    "    RESOLUTIONS = adata.uns['infoprocess']['leiden_res']"
   ]
  },
  {
   "cell_type": "code",
   "execution_count": null,
   "id": "88867d23",
   "metadata": {},
   "outputs": [],
   "source": [
    "# FIX FOR THE EXT442\n",
    "adata.var['peak_chr'] = adata.var['peak_chr'].astype(str)\n",
    "adata.var['peak_start'] = adata.var['peak_start'].astype(int)\n",
    "adata.var['peak_end'] = adata.var['peak_end'].astype(int)"
   ]
  },
  {
   "cell_type": "code",
   "execution_count": null,
   "id": "afd06940",
   "metadata": {},
   "outputs": [],
   "source": [
    "adata.var"
   ]
  },
  {
   "cell_type": "markdown",
   "id": "dc79b171",
   "metadata": {},
   "source": [
    "## Gene annotation "
   ]
  },
  {
   "cell_type": "code",
   "execution_count": null,
   "id": "6eb3a2e9",
   "metadata": {},
   "outputs": [],
   "source": [
    "annot.annotate_adata(adata,\n",
    "                   GTF_PATH,\n",
    "                   config=None,\n",
    "                   best=True,\n",
    "                   threads=6,\n",
    "                   coordinate_cols=None,\n",
    "                   temp_dir=\"\",\n",
    "                   verbose=True,\n",
    "                   inplace=True)"
   ]
  },
  {
   "cell_type": "code",
   "execution_count": null,
   "id": "0a171f34",
   "metadata": {},
   "outputs": [],
   "source": [
    "adata.var['gene_name']"
   ]
  },
  {
   "cell_type": "code",
   "execution_count": null,
   "id": "87787db6",
   "metadata": {},
   "outputs": [],
   "source": [
    "assigned_features = adata.var['gene_name'].dropna()\n",
    "assigned_features"
   ]
  },
  {
   "cell_type": "markdown",
   "id": "ae5afb8a",
   "metadata": {},
   "source": [
    "### Replace ensembl gene IDs with gene names if possible"
   ]
  },
  {
   "cell_type": "code",
   "execution_count": null,
   "id": "56abe47d",
   "metadata": {},
   "outputs": [],
   "source": [
    "dataset = Dataset(name=ENSEMBL_DATASET,\n",
    "                  host='http://www.ensembl.org')\n",
    "\n",
    "df = dataset.query(attributes=['ensembl_gene_id', 'external_gene_name'])"
   ]
  },
  {
   "cell_type": "code",
   "execution_count": null,
   "id": "a6756499",
   "metadata": {},
   "outputs": [],
   "source": [
    "ens_dict = dict(zip(df['Gene stable ID'], df['Gene name']))"
   ]
  },
  {
   "cell_type": "code",
   "execution_count": null,
   "id": "de7949b4",
   "metadata": {},
   "outputs": [],
   "source": [
    "count = 0\n",
    "for index, gene in enumerate(assigned_features):\n",
    "    if gene.startswith(\"ENSG\"):\n",
    "        if gene in ens_dict.keys():\n",
    "            if isinstance(ens_dict[gene], str):\n",
    "                assigned_features.replace(gene, ens_dict[gene], inplace=True)\n",
    "                count += 1\n",
    "print(f'{count} ensembl gene ids have been replaced with gene names')"
   ]
  },
  {
   "cell_type": "code",
   "execution_count": null,
   "id": "039d8e51",
   "metadata": {},
   "outputs": [],
   "source": [
    "assigned_features"
   ]
  },
  {
   "cell_type": "code",
   "execution_count": null,
   "id": "30d2a01f",
   "metadata": {},
   "outputs": [],
   "source": [
    "assigned_adata = adata[:, assigned_features.index]\n",
    "assigned_adata"
   ]
  },
  {
   "cell_type": "markdown",
   "id": "38f22280",
   "metadata": {},
   "source": [
    "## Rank peaks"
   ]
  },
  {
   "cell_type": "code",
   "execution_count": null,
   "id": "addc01e4",
   "metadata": {},
   "outputs": [],
   "source": [
    "peaks_adata = assigned_adata.copy()"
   ]
  },
  {
   "cell_type": "code",
   "execution_count": null,
   "id": "789b3933",
   "metadata": {},
   "outputs": [],
   "source": [
    "peaks_adata.uns['log1p']['base'] = None"
   ]
  },
  {
   "cell_type": "code",
   "execution_count": null,
   "id": "e9617394",
   "metadata": {},
   "outputs": [],
   "source": [
    "for column in RESOLUTIONS:\n",
    "    print(f'Ranking peaks for clusters using obs column {column}')\n",
    "    epi.tl.rank_features(peaks_adata, f'{column}', omic='ATAC', \n",
    "                         key_added=f'rank_features_groups_{column}', n_features=100, use_raw=False)\n",
    "    \n",
    "print('Done')"
   ]
  },
  {
   "cell_type": "markdown",
   "id": "0c89f5de",
   "metadata": {},
   "source": [
    "## Rank genes\n",
    "Replace peaks with gene names"
   ]
  },
  {
   "cell_type": "code",
   "execution_count": null,
   "id": "902b5dfa",
   "metadata": {},
   "outputs": [],
   "source": [
    "genes_adata = peaks_adata.copy()\n",
    "genes_adata.var.reset_index(inplace=True)  # remove peaks from index and save them in the column ['index']\n",
    "genes_adata.var.set_index('gene_name',inplace=True)  # set genes as index\n",
    "genes_adata.var.index = genes_adata.var.index.astype('str')  # to avoid index being categorical\n",
    "genes_adata.var_names_make_unique(join='_')\n",
    "genes_adata.raw = genes_adata"
   ]
  },
  {
   "cell_type": "code",
   "execution_count": null,
   "id": "eb3e0afb",
   "metadata": {},
   "outputs": [],
   "source": [
    "for column in RESOLUTIONS:\n",
    "    print(f'Ranking genes groups for clusters using obs column {column}')\n",
    "    sc.tl.rank_genes_groups(genes_adata, groupby=f'{column}', use_raw=False, key_added=f'rank_genes_groups_{column}')\n",
    "\n",
    "print('Done')"
   ]
  },
  {
   "cell_type": "markdown",
   "id": "0f01bf52",
   "metadata": {},
   "source": [
    "### Plot ranked genes"
   ]
  },
  {
   "cell_type": "code",
   "execution_count": null,
   "id": "fdb9f14a",
   "metadata": {},
   "outputs": [],
   "source": [
    "for column in RESOLUTIONS:\n",
    "    print(f'Plotting ranked genes groups for clustering column {column}')\n",
    "    plot_key = 'rank_genes_groups_' + str(column)\n",
    "    sc.pl.rank_genes_groups(genes_adata, key=plot_key, show=False)\n",
    "    # TODO\n",
    "    # if save_figs:\n",
    "    #    plt.savefig(f'{OUTPUT_FIGS}/ranked_genes_groups_leiden_{res}.png')\n",
    "    plt.show()"
   ]
  },
  {
   "cell_type": "code",
   "execution_count": null,
   "id": "61ddc2dd",
   "metadata": {},
   "outputs": [],
   "source": [
    "for column in RESOLUTIONS:\n",
    "    print(f'Plotting matrixplot for clustering column {column}')\n",
    "    plot_key = 'rank_genes_groups_' + str(column)\n",
    "    sc.pl.rank_genes_groups_matrixplot(genes_adata, standard_scale='var', n_genes=10, key=plot_key, show=False)\n",
    "    # TODO\n",
    "    # if save_figs:\n",
    "    #    plt.savefig(f'{OUTPUT_FIGS}/ranked_genes_groups_matrixplot_leiden_{res}.png')\n",
    "    plt.show()"
   ]
  },
  {
   "cell_type": "markdown",
   "id": "1fa31422",
   "metadata": {},
   "source": [
    "## Cell type annotation"
   ]
  },
  {
   "cell_type": "code",
   "execution_count": null,
   "id": "2cb93c15",
   "metadata": {},
   "outputs": [],
   "source": [
    "for column in RESOLUTIONS:\n",
    "    ctannot.annot_ct(adata=adata, genes_adata=genes_adata, output_path=tree.annotation_dir, \n",
    "                     db_path=f\"{PANGLAO_DB_PATH}\", cluster_path=None, cluster_column=f\"{column}\", \n",
    "                     rank_genes_column=f\"rank_genes_groups_{column}\", sample=tree.run, \n",
    "                     ct_column=f\"cell_types_{column}\", tissue=\"all\", db=\"panglao\", inplace=True, species=SPECIES)"
   ]
  },
  {
   "cell_type": "code",
   "execution_count": null,
   "id": "9d17306f",
   "metadata": {},
   "outputs": [],
   "source": [
    "adata.obs"
   ]
  },
  {
   "cell_type": "code",
   "execution_count": null,
   "id": "cbc57a0c",
   "metadata": {},
   "outputs": [],
   "source": [
    "for column in RESOLUTIONS:\n",
    "    sc.pl.umap(adata, color=[f'cell_types_{column}', f'{column}'], wspace=0.5)"
   ]
  },
  {
   "cell_type": "code",
   "execution_count": null,
   "id": "bb8ab541",
   "metadata": {},
   "outputs": [],
   "source": [
    "ctannot.show_tables(annotation_dir=tree.annotation_dir, resolution=0.2, clustering_column=\"leiden\")"
   ]
  },
  {
   "cell_type": "markdown",
   "id": "37f4fa9d",
   "metadata": {},
   "source": [
    "### Modify wrong cluster annotations by selecting other recommendations"
   ]
  },
  {
   "cell_type": "code",
   "execution_count": null,
   "id": "0524682a",
   "metadata": {},
   "outputs": [],
   "source": [
    "change_annotation = input('Do you want to change the annotation? answer with yes or no: ')"
   ]
  },
  {
   "cell_type": "code",
   "execution_count": null,
   "id": "bedb7b3b",
   "metadata": {},
   "outputs": [],
   "source": [
    "# Pick the cell type column of the obs table you want to modify as well as the corresponding clustering column\n",
    "cell_type_column = \"cell_types_leiden_0.4\"\n",
    "clustering_column = \"leiden_0.4\"\n",
    "\n",
    "if change_annotation == 'yes':\n",
    "    ctannot.modify_ct(adata=adata, annotation_dir=tree.annotation_dir, clustering_column=clustering_column, \n",
    "                      cell_type_column=cell_type_column, inplace=True)"
   ]
  },
  {
   "cell_type": "markdown",
   "id": "6ecab000",
   "metadata": {},
   "source": [
    "### SCSA cell type annotation"
   ]
  },
  {
   "cell_type": "code",
   "execution_count": null,
   "id": "9f228584",
   "metadata": {},
   "outputs": [],
   "source": [
    "for column in RESOLUTIONS:\n",
    "    run_scsa(genes_adata,\n",
    "             gene_column=None,\n",
    "             gene_symbol='auto',\n",
    "             key=f'rank_genes_groups_{column}',\n",
    "             column_added=f'SCSA_pred_celltype_{column}',\n",
    "             inplace=True,\n",
    "             python_path=None,\n",
    "             scsa_path=None,\n",
    "             wholedb_path=None,\n",
    "             species=SCSA_SPECIES,\n",
    "             fc=1.5,\n",
    "             pvalue=0.01,\n",
    "             tissue='All',\n",
    "             celltype='normal',\n",
    "             user_db=None,\n",
    "             z_score='best',\n",
    "             )\n",
    "    adata.obs[f'SCSA_pred_celltype_{column}'] = genes_adata.obs[f'SCSA_pred_celltype_{column}']\n",
    "    sc.pl.umap(adata, color=[f'SCSA_pred_celltype_{column}', f'cell_types_{column}'], wspace=0.5)\n"
   ]
  },
  {
   "cell_type": "markdown",
   "id": "0fc82b62",
   "metadata": {},
   "source": [
    "## Save notebook and adata object"
   ]
  },
  {
   "cell_type": "code",
   "execution_count": null,
   "id": "8143827e",
   "metadata": {},
   "outputs": [],
   "source": [
    "import os\n",
    "import shutil\n",
    "repo_path = os.getcwd()\n",
    "notebook_name = '5_annotation.ipynb'\n",
    "notebook_path = os.path.join(repo_path, notebook_name)\n",
    "notebook_copy = os.path.join(tree.annotation_dir , notebook_name)\n",
    "shutil.copyfile(notebook_path, notebook_copy)"
   ]
  },
  {
   "cell_type": "code",
   "execution_count": null,
   "id": "bf57fc0e",
   "metadata": {},
   "outputs": [],
   "source": [
    "adata_output = tree.annotation_anndata\n",
    "adata.write(filename=adata_output)"
   ]
  }
 ],
 "metadata": {
  "language_info": {
   "name": "python"
  }
 },
 "nbformat": 4,
 "nbformat_minor": 5
}
