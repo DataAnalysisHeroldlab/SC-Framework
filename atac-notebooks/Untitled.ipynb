{
 "cells": [
  {
   "cell_type": "markdown",
   "id": "494a673c",
   "metadata": {},
   "source": [
    "# 5. Annotation"
   ]
  },
  {
   "cell_type": "markdown",
   "id": "e03b580c",
   "metadata": {},
   "source": [
    "## Settings "
   ]
  },
  {
   "cell_type": "code",
   "execution_count": null,
   "id": "a4486ac7",
   "metadata": {},
   "outputs": [],
   "source": [
    "# Path related settings (these should be the same as for the previous notebook)\n",
    "output_dir = '/mnt/workspace/jdetlef/processed_data'\n",
    "test = 'Esophagus'\n",
    "\n",
    "# Gene annotation\n",
    "GTF_PATH = \"/mnt/workspace/jdetlef/data/genome/gencode.v39.annotation_sorted.gtf\"\n",
    "# Cell type annotation\n",
    "CTA_PATH = \"/mnt/workspace/jdetlef/sc-atac-framework/ctannot\""
   ]
  },
  {
   "cell_type": "markdown",
   "id": "18c3c9e4",
   "metadata": {},
   "source": [
    "## Loading packages and setup"
   ]
  },
  {
   "cell_type": "code",
   "execution_count": null,
   "id": "813ce065",
   "metadata": {},
   "outputs": [],
   "source": [
    "import sctoolbox.atac_tree as sub_tree\n",
    "import sctoolbox.annotation as annot\n",
    "import episcanpy as epi"
   ]
  },
  {
   "cell_type": "markdown",
   "id": "767d37b8",
   "metadata": {},
   "source": [
    "## Setup path handling object "
   ]
  },
  {
   "cell_type": "code",
   "execution_count": null,
   "id": "5f52f9cf",
   "metadata": {},
   "outputs": [],
   "source": [
    "# make an instance of the class\n",
    "tree = sub_tree.ATAC_tree()\n",
    "# set processing/output directory\n",
    "tree.processing_dir = output_dir\n",
    "# set sample/experiment.. \n",
    "tree.run = test"
   ]
  },
  {
   "cell_type": "code",
   "execution_count": null,
   "id": "a484025e",
   "metadata": {},
   "outputs": [],
   "source": [
    "tree.gtf_path = GTF_PATH"
   ]
  },
  {
   "cell_type": "markdown",
   "id": "ff4c1b94",
   "metadata": {},
   "source": [
    "## Load anndata"
   ]
  },
  {
   "cell_type": "code",
   "execution_count": null,
   "id": "ffbd3aad",
   "metadata": {},
   "outputs": [],
   "source": [
    "clustering_output = tree.clustering_anndata\n",
    "adata = epi.read_h5ad(clustering_output)\n",
    "adata"
   ]
  },
  {
   "cell_type": "markdown",
   "id": "008d5f7f",
   "metadata": {},
   "source": [
    "## Gene annotation "
   ]
  },
  {
   "cell_type": "code",
   "execution_count": null,
   "id": "560ecf1d",
   "metadata": {},
   "outputs": [],
   "source": [
    "annot.annotate_adata(adata,\n",
    "                   GTF_PATH,\n",
    "                   config=None,\n",
    "                   best=True,\n",
    "                   threads=1,\n",
    "                   coordinate_cols=None,\n",
    "                   temp_dir=\"\",\n",
    "                   verbose=True,\n",
    "                   inplace=True)"
   ]
  },
  {
   "cell_type": "code",
   "execution_count": null,
   "id": "19141419",
   "metadata": {},
   "outputs": [],
   "source": []
  }
 ],
 "metadata": {
  "kernelspec": {
   "display_name": "single-cell-base",
   "language": "python",
   "name": "sc_base"
  },
  "language_info": {
   "codemirror_mode": {
    "name": "ipython",
    "version": 3
   },
   "file_extension": ".py",
   "mimetype": "text/x-python",
   "name": "python",
   "nbconvert_exporter": "python",
   "pygments_lexer": "ipython3",
   "version": "3.7.12"
  }
 },
 "nbformat": 4,
 "nbformat_minor": 5
}
