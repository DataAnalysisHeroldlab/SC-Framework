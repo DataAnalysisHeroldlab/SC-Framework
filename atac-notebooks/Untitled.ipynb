{
 "cells": [
  {
   "cell_type": "markdown",
   "id": "bbc4aebd",
   "metadata": {},
   "source": [
    "# Directory Organization"
   ]
  },
  {
   "cell_type": "markdown",
   "id": "bcec8068",
   "metadata": {},
   "source": [
    "### 1. import module"
   ]
  },
  {
   "cell_type": "code",
   "execution_count": 15,
   "id": "d346da8c",
   "metadata": {},
   "outputs": [],
   "source": [
    "import sctoolbox.generalized_tree as super_tree"
   ]
  },
  {
   "cell_type": "markdown",
   "id": "020f7e96",
   "metadata": {},
   "source": [
    "### 2. make a instance of the class Tree "
   ]
  },
  {
   "cell_type": "code",
   "execution_count": 16,
   "id": "1db64a8d",
   "metadata": {},
   "outputs": [],
   "source": [
    "general_tree = super_tree.Tree()"
   ]
  },
  {
   "cell_type": "code",
   "execution_count": 17,
   "id": "01b6a331",
   "metadata": {},
   "outputs": [],
   "source": [
    "processed_dir = general_tree.processing_dir\n",
    "processed_dir"
   ]
  },
  {
   "cell_type": "code",
   "execution_count": 18,
   "id": "cdd7ab52",
   "metadata": {},
   "outputs": [],
   "source": [
    "run = general_tree.run\n",
    "run "
   ]
  },
  {
   "cell_type": "markdown",
   "id": "29e92dbc",
   "metadata": {},
   "source": [
    "### 3. init processing_dir"
   ]
  },
  {
   "cell_type": "code",
   "execution_count": 19,
   "id": "58f2663c",
   "metadata": {},
   "outputs": [
    {
     "name": "stdout",
     "output_type": "stream",
     "text": [
      "Warning: run is None\n"
     ]
    }
   ],
   "source": [
    "general_tree.processing_dir = '/home/jan/python-workspace/sc-atac/test_processed_dir/'"
   ]
  },
  {
   "cell_type": "markdown",
   "id": "d11de904",
   "metadata": {},
   "source": [
    "### 4. init run "
   ]
  },
  {
   "cell_type": "code",
   "execution_count": 20,
   "id": "ba85fb71",
   "metadata": {},
   "outputs": [
    {
     "name": "stdout",
     "output_type": "stream",
     "text": [
      "/home/jan/python-workspace/sc-atac/test_processed_dir/sample_1/assembling: NEWLY SETUP\n",
      "/home/jan/python-workspace/sc-atac/test_processed_dir/sample_1/qc: NEWLY SETUP\n",
      "/home/jan/python-workspace/sc-atac/test_processed_dir/sample_1/norm_correction: NEWLY SETUP\n",
      "/home/jan/python-workspace/sc-atac/test_processed_dir/sample_1/clustering: NEWLY SETUP\n",
      "/home/jan/python-workspace/sc-atac/test_processed_dir/sample_1/annotation: NEWLY SETUP\n",
      "/home/jan/python-workspace/sc-atac/test_processed_dir/sample_1/complete_report: NEWLY SETUP\n"
     ]
    }
   ],
   "source": [
    "general_tree.run = \"sample_1\""
   ]
  },
  {
   "cell_type": "code",
   "execution_count": 14,
   "id": "733cf872",
   "metadata": {},
   "outputs": [
    {
     "data": {
      "text/plain": [
       "'/home/jan/python-workspace/sc-atac/test_processed_dir/sample_1/assembling'"
      ]
     },
     "execution_count": 14,
     "metadata": {},
     "output_type": "execute_result"
    }
   ],
   "source": [
    "assemble_dir = general_tree.assemble_dir\n",
    "assemble_dir"
   ]
  },
  {
   "cell_type": "markdown",
   "id": "cf0e7f19",
   "metadata": {},
   "source": [
    "## ATAC Extension"
   ]
  },
  {
   "cell_type": "code",
   "execution_count": 4,
   "id": "1de86865",
   "metadata": {},
   "outputs": [],
   "source": [
    "import sctoolbox.atac_tree as ATAC_tree"
   ]
  },
  {
   "cell_type": "code",
   "execution_count": 5,
   "id": "5e68bf3b",
   "metadata": {},
   "outputs": [],
   "source": [
    "tree = ATAC_tree.ATAC_tree()"
   ]
  },
  {
   "cell_type": "code",
   "execution_count": 6,
   "id": "99904ad5",
   "metadata": {},
   "outputs": [
    {
     "name": "stdout",
     "output_type": "stream",
     "text": [
      "Warning: run is None\n"
     ]
    }
   ],
   "source": [
    "tree.processing_dir = '/home/jan/python-workspace/sc-atac/test_processed_dir/'"
   ]
  },
  {
   "cell_type": "code",
   "execution_count": 7,
   "id": "a1e459af",
   "metadata": {},
   "outputs": [
    {
     "name": "stdout",
     "output_type": "stream",
     "text": [
      "/home/jan/python-workspace/sc-atac/test_processed_dir/ATAC_Test/assembling: NEWLY SETUP\n",
      "/home/jan/python-workspace/sc-atac/test_processed_dir/ATAC_Test/qc: NEWLY SETUP\n",
      "/home/jan/python-workspace/sc-atac/test_processed_dir/ATAC_Test/norm_correction: NEWLY SETUP\n",
      "/home/jan/python-workspace/sc-atac/test_processed_dir/ATAC_Test/clustering: NEWLY SETUP\n",
      "/home/jan/python-workspace/sc-atac/test_processed_dir/ATAC_Test/annotation: NEWLY SETUP\n",
      "/home/jan/python-workspace/sc-atac/test_processed_dir/ATAC_Test/complete_report: NEWLY SETUP\n",
      "/home/jan/python-workspace/sc-atac/test_processed_dir/ATAC_Test/qc/plots: NEWLY SETUP\n"
     ]
    }
   ],
   "source": [
    "tree.run = 'ATAC_Test'"
   ]
  },
  {
   "cell_type": "code",
   "execution_count": 21,
   "id": "83a4b3b7",
   "metadata": {},
   "outputs": [
    {
     "data": {
      "text/plain": [
       "'ATAC_Test'"
      ]
     },
     "execution_count": 21,
     "metadata": {},
     "output_type": "execute_result"
    }
   ],
   "source": [
    "run = tree.run\n",
    "run"
   ]
  },
  {
   "cell_type": "code",
   "execution_count": null,
   "id": "d8600c9b",
   "metadata": {},
   "outputs": [],
   "source": []
  }
 ],
 "metadata": {
  "kernelspec": {
   "display_name": "Python 3 (ipykernel)",
   "language": "python",
   "name": "python3"
  },
  "language_info": {
   "codemirror_mode": {
    "name": "ipython",
    "version": 3
   },
   "file_extension": ".py",
   "mimetype": "text/x-python",
   "name": "python",
   "nbconvert_exporter": "python",
   "pygments_lexer": "ipython3",
   "version": "3.9.12"
  }
 },
 "nbformat": 4,
 "nbformat_minor": 5
}
