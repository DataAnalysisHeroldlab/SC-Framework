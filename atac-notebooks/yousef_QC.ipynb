{
 "cells": [
  {
   "cell_type": "markdown",
   "id": "ac317ff1",
   "metadata": {
    "pycharm": {
     "name": "#%% md\n"
    }
   },
   "source": [
    "# QC filtering"
   ]
  },
  {
   "cell_type": "markdown",
   "id": "c1405c2c",
   "metadata": {
    "pycharm": {
     "name": "#%% md\n"
    }
   },
   "source": [
    "## Settings"
   ]
  },
  {
   "cell_type": "code",
   "execution_count": 1,
   "id": "a9f4fe6c",
   "metadata": {
    "pycharm": {
     "name": "#%%\n"
    }
   },
   "outputs": [],
   "source": [
    "#Path related settings (these should be the same as for the previous notebook)\n",
    "output_dir = '/home/rstudio/processed_data'\n",
    "test = 'Esophagus'"
   ]
  },
  {
   "cell_type": "markdown",
   "id": "fdeeb2bb",
   "metadata": {
    "pycharm": {
     "name": "#%% md\n"
    }
   },
   "source": [
    "## QC Settings"
   ]
  },
  {
   "cell_type": "code",
   "execution_count": null,
   "id": "5285011f",
   "metadata": {
    "pycharm": {
     "name": "#%%\n"
    }
   },
   "outputs": [],
   "source": [
    "filter_xy = True  # True or False; filtering out chrX and chrY\n",
    "binarize_mtx = True  # True or False; convert matrix to binary\n",
    "select_hvf = False  # True or False; select only highly variable features\n"
   ]
  },
  {
   "cell_type": "markdown",
   "id": "dd6c8d83",
   "metadata": {
    "pycharm": {
     "name": "#%% md\n"
    }
   },
   "source": [
    "## Filtering Settings"
   ]
  },
  {
   "cell_type": "code",
   "execution_count": null,
   "id": "cbfd307b",
   "metadata": {
    "pycharm": {
     "name": "#%%\n"
    }
   },
   "outputs": [],
   "source": [
    "filter_cells = 'True:100:5000'  # True or False:minimum number features a cell should have to pass:max number of features\n",
    "filter_features = 'True:10:2000'  # True or False:minimum number of cells a feature is found in:max number of cells"
   ]
  },
  {
   "cell_type": "markdown",
   "id": "9bfd0589",
   "metadata": {
    "pycharm": {
     "name": "#%% md\n"
    }
   },
   "source": [
    "## Loading packages and setup"
   ]
  },
  {
   "cell_type": "code",
   "execution_count": 2,
   "id": "a5e585b0",
   "metadata": {
    "pycharm": {
     "name": "#%%\n"
    }
   },
   "outputs": [],
   "source": [
    "# sctoolbox modules\n",
    "import sctoolbox.atac_tree as sub_tree\n",
    "import sctoolbox.creators as cr\n",
    "from sctoolbox.qc_filter import *\n",
    "# import episcanpy\n",
    "import scanpy as sc\n",
    "import episcanpy as epi"
   ]
  },
  {
   "cell_type": "markdown",
   "id": "a3984998",
   "metadata": {
    "pycharm": {
     "name": "#%% md\n"
    }
   },
   "source": [
    "## Setup path handling object "
   ]
  },
  {
   "cell_type": "code",
   "execution_count": 3,
   "id": "7c230208",
   "metadata": {
    "pycharm": {
     "name": "#%%\n"
    }
   },
   "outputs": [
    {
     "name": "stdout",
     "output_type": "stream",
     "text": [
      "Warning: run is None\n"
     ]
    }
   ],
   "source": [
    "# make an instance of the class\n",
    "tree = sub_tree.ATAC_tree()\n",
    "# set processing/output directory\n",
    "tree.processing_dir = output_dir\n",
    "# set sample/experiment.. \n",
    "tree.run = test"
   ]
  },
  {
   "cell_type": "markdown",
   "id": "3d8408ce",
   "metadata": {
    "pycharm": {
     "name": "#%% md\n"
    }
   },
   "source": [
    "## Load anndata "
   ]
  },
  {
   "cell_type": "code",
   "execution_count": 4,
   "id": "5e989d23",
   "metadata": {
    "pycharm": {
     "name": "#%%\n"
    }
   },
   "outputs": [
    {
     "data": {
      "text/plain": [
       "AnnData object with n_obs × n_vars = 73652 × 150152\n",
       "    obs: 'TN', 'UM', 'PP', 'UQ', 'CM', 'file', 'sample', 'mean_fragment_length'\n",
       "    var: 'name'\n",
       "    uns: 'color_set', 'infoprocess'"
      ]
     },
     "execution_count": 4,
     "metadata": {},
     "output_type": "execute_result"
    }
   ],
   "source": [
    "# probably updated in future\n",
    "assembling_output = tree.assembled_anndata\n",
    "adata = epi.read_h5ad(assembling_output)\n",
    "adata"
   ]
  },
  {
   "cell_type": "markdown",
   "id": "db60f5ba",
   "metadata": {
    "pycharm": {
     "name": "#%% md\n"
    }
   },
   "source": [
    "# QC"
   ]
  },
  {
   "cell_type": "markdown",
   "id": "8bb2c8b4",
   "metadata": {
    "pycharm": {
     "name": "#%% md\n"
    }
   },
   "source": [
    "## 1. filtering out chrX, chrY and chrM"
   ]
  },
  {
   "cell_type": "code",
   "execution_count": null,
   "id": "385bd38f",
   "metadata": {
    "pycharm": {
     "name": "#%%\n"
    }
   },
   "outputs": [],
   "source": [
    "non_m = [name for name in adata.var_names if not name.startswith('chrM')]  # remove chrM\n",
    "adata = adata[:, non_m]"
   ]
  },
  {
   "cell_type": "code",
   "execution_count": null,
   "id": "1e221a49",
   "metadata": {
    "pycharm": {
     "name": "#%%\n"
    }
   },
   "outputs": [],
   "source": [
    "if filter_xy:\n",
    "    non_xy = [name for name in adata.var_names if not name.startswith('chrY') | name.startswith('chrX')]\n",
    "    adata = adata[:, non_xy]"
   ]
  },
  {
   "cell_type": "code",
   "execution_count": null,
   "id": "dc05d7b8",
   "metadata": {
    "pycharm": {
     "name": "#%%\n"
    }
   },
   "outputs": [],
   "source": [
    "dsiplay(adata)"
   ]
  },
  {
   "cell_type": "markdown",
   "id": "2f801142",
   "metadata": {
    "pycharm": {
     "name": "#%% md\n"
    }
   },
   "source": [
    "## 2. removing empty cells and features"
   ]
  },
  {
   "cell_type": "code",
   "execution_count": null,
   "id": "1bfb0aa0",
   "metadata": {
    "pycharm": {
     "name": "#%%\n"
    }
   },
   "outputs": [],
   "source": [
    "epi.pp.filter_cells(adata, min_features=1)\n",
    "epi.pp.filter_features(adata, min_cells=1)\n",
    "# log-convert number of features\n",
    "adata.obs['log_nb_features'] = [np.log10(x) for x in adata.obs['nb_features']]\n",
    "display(adata)"
   ]
  },
  {
   "cell_type": "markdown",
   "id": "7f9c9318",
   "metadata": {
    "pycharm": {
     "name": "#%% md\n"
    }
   },
   "source": [
    "## 3. binarize"
   ]
  },
  {
   "cell_type": "code",
   "execution_count": null,
   "id": "1cc85ce4",
   "metadata": {
    "pycharm": {
     "name": "#%%\n"
    }
   },
   "outputs": [],
   "source": [
    "adata.raw = adata\n",
    "if binarize_mtx:\n",
    "    epi.pp.binarize(adata)\n",
    "    adata.layers['binary'] = adata.X.copy()"
   ]
  },
  {
   "cell_type": "markdown",
   "id": "9c938924",
   "metadata": {
    "pycharm": {
     "name": "#%% md\n"
    }
   },
   "source": [
    "## 4. select highly variable genes"
   ]
  },
  {
   "cell_type": "code",
   "execution_count": null,
   "id": "e50e9afd",
   "metadata": {
    "pycharm": {
     "name": "#%%\n"
    }
   },
   "outputs": [],
   "source": [
    "if hvf:\n",
    "    select_var_feature(adata, min_score=0.5, nb_features=None, show=False, copy=False)"
   ]
  },
  {
   "cell_type": "code",
   "execution_count": null,
   "id": "bd7660c9",
   "metadata": {
    "pycharm": {
     "name": "#%%\n"
    }
   },
   "outputs": [],
   "source": []
  },
  {
   "cell_type": "code",
   "execution_count": null,
   "id": "931943e7",
   "metadata": {
    "pycharm": {
     "name": "#%%\n"
    }
   },
   "outputs": [],
   "source": []
  },
  {
   "cell_type": "code",
   "execution_count": null,
   "id": "77a02b8f",
   "metadata": {
    "pycharm": {
     "name": "#%%\n"
    }
   },
   "outputs": [],
   "source": []
  },
  {
   "cell_type": "code",
   "execution_count": null,
   "id": "b4d0c1df",
   "metadata": {
    "pycharm": {
     "name": "#%%\n"
    }
   },
   "outputs": [],
   "source": []
  },
  {
   "cell_type": "code",
   "execution_count": 5,
   "id": "4e66c4c1",
   "metadata": {
    "pycharm": {
     "name": "#%%\n"
    }
   },
   "outputs": [
    {
     "data": {
      "text/plain": [
       "<Axes:ylabel='value'>"
      ]
     },
     "execution_count": 5,
     "metadata": {},
     "output_type": "execute_result"
    },
    {
     "data": {
      "image/png": "[encoded data removed]",
      "text/plain": [
       "<Figure size 579.312x345.6 with 1 Axes>"
      ]
     },
     "metadata": {
      "needs_background": "light"
     },
     "output_type": "display_data"
    }
   ],
   "source": [
    "sc.pl.violin(adata, ['mean_fragment_length'], show=False)"
   ]
  },
  {
   "cell_type": "code",
   "execution_count": null,
   "id": "200ab76d",
   "metadata": {
    "pycharm": {
     "name": "#%%\n"
    }
   },
   "outputs": [],
   "source": []
  }
 ],
 "metadata": {
  "kernelspec": {
   "display_name": "Python 3 (ipykernel)",
   "language": "python",
   "name": "python3"
  },
  "language_info": {
   "codemirror_mode": {
    "name": "ipython",
    "version": 3
   },
   "file_extension": ".py",
   "mimetype": "text/x-python",
   "name": "python",
   "nbconvert_exporter": "python",
   "pygments_lexer": "ipython3",
   "version": "3.8.10"
  }
 },
 "nbformat": 4,
 "nbformat_minor": 5
}
