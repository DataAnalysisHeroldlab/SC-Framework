{
 "cells": [
  {
   "cell_type": "markdown",
   "id": "05bf638c",
   "metadata": {},
   "source": [
    "# Normalization and batch correction"
   ]
  },
  {
   "cell_type": "markdown",
   "id": "3c3b2bb6",
   "metadata": {},
   "source": [
    "## Settings\n",
    "\n",
    "#Path related settings (these should be the same as for the previous notebook)\n",
    "output_dir = '/home/rstudio/processed_data'\n",
    "test = 'cropped_146'"
   ]
  },
  {
   "cell_type": "code",
   "execution_count": null,
   "id": "567198f9",
   "metadata": {},
   "outputs": [],
   "source": []
  },
  {
   "cell_type": "code",
   "execution_count": null,
   "id": "88c3aa60",
   "metadata": {},
   "outputs": [],
   "source": [
    "# choose normalization method. If None, two normalization methods will be \n",
    "# performed and visualized with pca plot\n",
    "norm_method=None  # can be 'tfidf' or 'total'\n",
    "log_normalize=True\n",
    "# batch correction: If True, several batch correction methods will be performed,\n",
    "# you can choose the best one after\n",
    "batch_correction=False"
   ]
  },
  {
   "cell_type": "markdown",
   "id": "f64aaa76",
   "metadata": {},
   "source": [
    "## Loading packages and setup"
   ]
  },
  {
   "cell_type": "code",
   "execution_count": null,
   "id": "61a4987b",
   "metadata": {},
   "outputs": [],
   "source": [
    "# sctoolbox modules\n",
    "import sctoolbox.atac_tree as sub_tree\n",
    "import sctoolbox.creators as cr\n",
    "from sctoolbox.qc_filter import *\n",
    "from sctoolbox.plotting import *\n",
    "from sctoolbox.plotting_atac import *\n",
    "from sctoolbox.atac_filter import *\n",
    "# import episcanpy\n",
    "import scanpy as sc\n",
    "import episcanpy as epi\n",
    "#from episcanpy.preprocessing import _decomposition\n",
    "import numpy as np"
   ]
  },
  {
   "cell_type": "markdown",
   "id": "ee657635",
   "metadata": {},
   "source": [
    "## Setup path handling object "
   ]
  },
  {
   "cell_type": "code",
   "execution_count": null,
   "id": "1aef88ce",
   "metadata": {},
   "outputs": [],
   "source": [
    "# make an instance of the class\n",
    "tree = sub_tree.ATAC_tree()\n",
    "# set processing/output directory\n",
    "tree.processing_dir = output_dir\n",
    "# set sample/experiment.. \n",
    "tree.run = test"
   ]
  },
  {
   "cell_type": "markdown",
   "id": "8cc1a8a9",
   "metadata": {},
   "source": [
    "## Load anndata "
   ]
  },
  {
   "cell_type": "code",
   "execution_count": null,
   "id": "61b56239",
   "metadata": {},
   "outputs": [],
   "source": [
    "# probably updated in future\n",
    "assembling_output = tree.assembled_anndata  # path to qc_adata should be here\n",
    "adata = epi.read_h5ad(assembling_output)\n",
    "adata"
   ]
  },
  {
   "cell_type": "markdown",
   "id": "0e9b520a",
   "metadata": {},
   "source": [
    "## Normalization"
   ]
  },
  {
   "cell_type": "code",
   "execution_count": null,
   "id": "21e1e694",
   "metadata": {},
   "outputs": [],
   "source": []
  },
  {
   "cell_type": "code",
   "execution_count": null,
   "id": "f0a949c6",
   "metadata": {},
   "outputs": [],
   "source": [
    "if norm_method == 'tfidf':\n",
    "    epi.pp.tfidf(adata, norm='l1', layer_tfidf_key='tf-idf')\n",
    "if norm_method == 'total':\n",
    "    sc.pp.normalize_total(adata)\n",
    "    adata.layers['normalised'] = adata.X.copy()\n",
    "if not norm_method:\n",
    "    atac_norm(adata)  #a function that performs both norm methods and pca for each method, then plots so the user can choose"
   ]
  },
  {
   "cell_type": "code",
   "execution_count": null,
   "id": "9e29a854",
   "metadata": {},
   "outputs": [],
   "source": [
    "if log_normalize:\n",
    "    epi.pp.log1p(adata)"
   ]
  }
 ],
 "metadata": {
  "kernelspec": {
   "display_name": "Python 3 (ipykernel)",
   "language": "python",
   "name": "python3"
  },
  "language_info": {
   "codemirror_mode": {
    "name": "ipython",
    "version": 3
   },
   "file_extension": ".py",
   "mimetype": "text/x-python",
   "name": "python",
   "nbconvert_exporter": "python",
   "pygments_lexer": "ipython3",
   "version": "3.8.10"
  }
 },
 "nbformat": 4,
 "nbformat_minor": 5
}
