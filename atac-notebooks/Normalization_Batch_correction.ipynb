{
 "cells": [
  {
   "cell_type": "markdown",
   "id": "05bf638c",
   "metadata": {},
   "source": [
    "# Normalization and batch correction"
   ]
  },
  {
   "cell_type": "markdown",
   "id": "3c3b2bb6",
   "metadata": {},
   "source": [
    "## Settings\n",
    "\n",
    "#Path related settings (these should be the same as for the previous notebook)\n",
    "output_dir = '/home/rstudio/processed_data'\n",
    "test = 'cropped_146'"
   ]
  },
  {
   "cell_type": "code",
   "execution_count": 12,
   "id": "567198f9",
   "metadata": {},
   "outputs": [],
   "source": [
    "# Path related settings (these should be the same as for the previous notebook)\n",
    "output_dir = '/home/rstudio/processed_data'\n",
    "test = 'cropped_146'"
   ]
  },
  {
   "cell_type": "code",
   "execution_count": 26,
   "id": "88c3aa60",
   "metadata": {},
   "outputs": [],
   "source": [
    "# choose normalization method. If None, two normalization methods will be \n",
    "# performed and visualized with pca plot\n",
    "norm_method=None  # can be 'tfidf' or 'total'\n",
    "log_normalize=True\n",
    "\n",
    "# Options for highly variable genes\n",
    "min_limit = 1000\n",
    "max_limit = 5000\n",
    "\n",
    "# batch correction: If True, several batch correction methods will be performed,\n",
    "# you can choose the best one after\n",
    "batch_correction=False\n",
    "\n",
    "# save figures\n",
    "save_figs = False"
   ]
  },
  {
   "cell_type": "markdown",
   "id": "f64aaa76",
   "metadata": {},
   "source": [
    "## Loading packages and setup"
   ]
  },
  {
   "cell_type": "code",
   "execution_count": 14,
   "id": "61a4987b",
   "metadata": {},
   "outputs": [],
   "source": [
    "# sctoolbox modules\n",
    "import sctoolbox.atac_tree as sub_tree\n",
    "import sctoolbox.creators as cr\n",
    "import sctoolbox.annotation as an\n",
    "from sctoolbox.qc_filter import *\n",
    "from sctoolbox.plotting import *\n",
    "from sctoolbox.plotting_atac import *\n",
    "from sctoolbox.atac_filter import *\n",
    "from sctoolbox.analyser import *\n",
    "# import episcanpy\n",
    "import scanpy as sc\n",
    "import episcanpy as epi\n",
    "#from episcanpy.preprocessing import _decomposition\n",
    "import numpy as np"
   ]
  },
  {
   "cell_type": "markdown",
   "id": "ee657635",
   "metadata": {},
   "source": [
    "## Setup path handling object "
   ]
  },
  {
   "cell_type": "code",
   "execution_count": 15,
   "id": "1aef88ce",
   "metadata": {},
   "outputs": [
    {
     "name": "stdout",
     "output_type": "stream",
     "text": [
      "Warning: run is None\n",
      "all directories existing\n",
      "all directories existing\n"
     ]
    }
   ],
   "source": [
    "# make an instance of the class\n",
    "tree = sub_tree.ATAC_tree()\n",
    "# set processing/output directory\n",
    "tree.processing_dir = output_dir\n",
    "# set sample/experiment.. \n",
    "tree.run = test"
   ]
  },
  {
   "cell_type": "markdown",
   "id": "8cc1a8a9",
   "metadata": {},
   "source": [
    "## Load anndata "
   ]
  },
  {
   "cell_type": "code",
   "execution_count": 16,
   "id": "61b56239",
   "metadata": {},
   "outputs": [
    {
     "data": {
      "text/plain": [
       "AnnData object with n_obs × n_vars = 243 × 3746\n",
       "    obs: 'TN', 'UM', 'PP', 'UQ', 'CM', 'file', 'sample', 'insertsize_count', 'mean_insertsize', 'n_total_fragments', 'n_fragments_in_promoters', 'pct_fragments_in_promoters', 'nb_features', 'log_nb_features'\n",
       "    var: 'name', 'n_cells', 'commonness', 'prop_shared_cells', 'variability_score'\n",
       "    uns: 'color_set', 'infoprocess', 'insertsize_distribution', 'legend'\n",
       "    layers: 'binary'"
      ]
     },
     "execution_count": 16,
     "metadata": {},
     "output_type": "execute_result"
    }
   ],
   "source": [
    "# probably updated in future\n",
    "qc_output = tree.qc_anndata  # path to qc_adata should be here\n",
    "adata = epi.read_h5ad(qc_output)\n",
    "adata"
   ]
  },
  {
   "cell_type": "markdown",
   "id": "0e9b520a",
   "metadata": {},
   "source": [
    "## Normalization"
   ]
  },
  {
   "cell_type": "code",
   "execution_count": 17,
   "id": "21e1e694",
   "metadata": {},
   "outputs": [],
   "source": [
    "# Consider using parts of sctoolbox.analyser"
   ]
  },
  {
   "cell_type": "code",
   "execution_count": 18,
   "id": "f0a949c6",
   "metadata": {},
   "outputs": [],
   "source": [
    "if norm_method == 'tfidf':\n",
    "    epi.pp.tfidf(adata, norm='l1', layer_tfidf_key='tf-idf')\n",
    "if norm_method == 'total':\n",
    "    sc.pp.normalize_total(adata)\n",
    "    adata.layers['normalised'] = adata.X.copy()\n",
    "#if not norm_method:\n",
    "#    atac_norm(adata)  #a function that performs both norm methods and pca for each method, then plots so the user can choose"
   ]
  },
  {
   "cell_type": "code",
   "execution_count": 19,
   "id": "9e29a854",
   "metadata": {},
   "outputs": [],
   "source": [
    "if log_normalize:\n",
    "    epi.pp.log1p(adata)"
   ]
  },
  {
   "cell_type": "markdown",
   "id": "30263130",
   "metadata": {},
   "source": [
    "## Find highly variable genes"
   ]
  },
  {
   "cell_type": "code",
   "execution_count": 20,
   "id": "9a431bf4",
   "metadata": {},
   "outputs": [
    {
     "name": "stdout",
     "output_type": "stream",
     "text": [
      "Annotating highy variable genes (HVG)\n"
     ]
    },
    {
     "name": "stderr",
     "output_type": "stream",
     "text": [
      " RuntimeWarning:/usr/local/lib/python3.8/dist-packages/scanpy/preprocessing/_highly_variable_genes.py:237: invalid value encountered in true_divide\n",
      " RuntimeWarning:/usr/local/lib/python3.8/dist-packages/scanpy/preprocessing/_highly_variable_genes.py:237: invalid value encountered in true_divide\n",
      " RuntimeWarning:/usr/local/lib/python3.8/dist-packages/scanpy/preprocessing/_highly_variable_genes.py:237: invalid value encountered in true_divide\n",
      " RuntimeWarning:/usr/local/lib/python3.8/dist-packages/scanpy/preprocessing/_highly_variable_genes.py:237: invalid value encountered in true_divide\n",
      " RuntimeWarning:/usr/local/lib/python3.8/dist-packages/scanpy/preprocessing/_highly_variable_genes.py:237: invalid value encountered in true_divide\n",
      " RuntimeWarning:/usr/local/lib/python3.8/dist-packages/scanpy/preprocessing/_highly_variable_genes.py:237: invalid value encountered in true_divide\n",
      " RuntimeWarning:/usr/local/lib/python3.8/dist-packages/scanpy/preprocessing/_highly_variable_genes.py:237: invalid value encountered in true_divide\n",
      " RuntimeWarning:/usr/local/lib/python3.8/dist-packages/scanpy/preprocessing/_highly_variable_genes.py:237: invalid value encountered in true_divide\n",
      " RuntimeWarning:/usr/local/lib/python3.8/dist-packages/scanpy/preprocessing/_highly_variable_genes.py:237: invalid value encountered in true_divide\n",
      " RuntimeWarning:/usr/local/lib/python3.8/dist-packages/scanpy/preprocessing/_highly_variable_genes.py:237: invalid value encountered in true_divide\n",
      " RuntimeWarning:/usr/local/lib/python3.8/dist-packages/scanpy/preprocessing/_highly_variable_genes.py:237: invalid value encountered in true_divide\n",
      " UserWarning:/usr/local/lib/python3.8/dist-packages/sctoolbox/annotation.py:790: Number of HVGs not in range. Range is (1000, 5000) but counted 5.\n"
     ]
    }
   ],
   "source": [
    "an.annot_HVG(adata, hvg_range=(min_limit, max_limit))"
   ]
  },
  {
   "cell_type": "code",
   "execution_count": null,
   "id": "140127f8",
   "metadata": {},
   "outputs": [],
   "source": [
    "sc.pl.highly_variable_genes(adata, show=False)\n",
    "utils.save_figure(figure_path + \"highly_variable.pdf\")"
   ]
  },
  {
   "cell_type": "code",
   "execution_count": null,
   "id": "24528195",
   "metadata": {},
   "outputs": [],
   "source": [
    "#Number of variable genes selected\n",
    "adata.var[\"highly_variable\"].sum()"
   ]
  },
  {
   "cell_type": "markdown",
   "id": "52137416",
   "metadata": {},
   "source": [
    "## PCA"
   ]
  },
  {
   "cell_type": "code",
   "execution_count": 21,
   "id": "a96ceb58",
   "metadata": {},
   "outputs": [
    {
     "name": "stdout",
     "output_type": "stream",
     "text": [
      "Computing PCA\n"
     ]
    },
    {
     "data": {
      "text/plain": [
       "AnnData object with n_obs × n_vars = 243 × 3746\n",
       "    obs: 'TN', 'UM', 'PP', 'UQ', 'CM', 'file', 'sample', 'insertsize_count', 'mean_insertsize', 'n_total_fragments', 'n_fragments_in_promoters', 'pct_fragments_in_promoters', 'nb_features', 'log_nb_features'\n",
       "    var: 'name', 'n_cells', 'commonness', 'prop_shared_cells', 'variability_score', 'highly_variable', 'means', 'dispersions', 'dispersions_norm'\n",
       "    uns: 'color_set', 'infoprocess', 'insertsize_distribution', 'legend', 'log1p', 'hvg', 'pca'\n",
       "    obsm: 'X_pca'\n",
       "    varm: 'PCs'\n",
       "    layers: 'binary'"
      ]
     },
     "execution_count": 21,
     "metadata": {},
     "output_type": "execute_result"
    }
   ],
   "source": [
    "compute_PCA(adata, use_highly_variable=True, inplace=False)"
   ]
  },
  {
   "cell_type": "markdown",
   "id": "bdeca85b",
   "metadata": {},
   "source": [
    "## Calc Neighbours"
   ]
  },
  {
   "cell_type": "code",
   "execution_count": 22,
   "id": "23145024",
   "metadata": {},
   "outputs": [
    {
     "name": "stdout",
     "output_type": "stream",
     "text": [
      "WARNING: You’re trying to run this on 3746 dimensions of `.X`, if you really want this, set `use_rep='X'`.\n",
      "         Falling back to preprocessing with `sc.pp.pca` and default params.\n"
     ]
    }
   ],
   "source": [
    "sc.pp.neighbors(adata, n_neighbors=15, n_pcs=50, method='umap', metric='euclidean')"
   ]
  },
  {
   "cell_type": "code",
   "execution_count": 27,
   "id": "dad3bb09",
   "metadata": {},
   "outputs": [
    {
     "ename": "KeyError",
     "evalue": "'PCs'",
     "output_type": "error",
     "traceback": [
      "\u001b[0;31m---------------------------------------------------------------------------\u001b[0m",
      "\u001b[0;31mKeyError\u001b[0m                                  Traceback (most recent call last)",
      "Input \u001b[0;32mIn [27]\u001b[0m, in \u001b[0;36m<cell line: 2>\u001b[0;34m()\u001b[0m\n\u001b[1;32m      5\u001b[0m     plt\u001b[38;5;241m.\u001b[39mshow()\n\u001b[1;32m      6\u001b[0m \u001b[38;5;28;01melse\u001b[39;00m:\n\u001b[0;32m----> 7\u001b[0m     \u001b[43mepi\u001b[49m\u001b[38;5;241;43m.\u001b[39;49m\u001b[43mpl\u001b[49m\u001b[38;5;241;43m.\u001b[39;49m\u001b[43mpca_overview\u001b[49m\u001b[43m(\u001b[49m\u001b[43madata\u001b[49m\u001b[43m,\u001b[49m\u001b[43m \u001b[49m\u001b[43mcolor\u001b[49m\u001b[38;5;241;43m=\u001b[39;49m\u001b[43m[\u001b[49m\u001b[38;5;124;43m'\u001b[39;49m\u001b[38;5;124;43mnb_features\u001b[39;49m\u001b[38;5;124;43m'\u001b[39;49m\u001b[43m]\u001b[49m\u001b[43m)\u001b[49m\n",
      "File \u001b[0;32m/usr/local/lib/python3.8/dist-packages/episcanpy/plotting/_scanpy_plotting.py:558\u001b[0m, in \u001b[0;36mpca_overview\u001b[0;34m(adata, color, use_raw, show, save)\u001b[0m\n\u001b[1;32m    533\u001b[0m \u001b[38;5;28;01mdef\u001b[39;00m \u001b[38;5;21mpca_overview\u001b[39m(adata, color\u001b[38;5;241m=\u001b[39m\u001b[38;5;28;01mNone\u001b[39;00m, use_raw\u001b[38;5;241m=\u001b[39m\u001b[38;5;28;01mTrue\u001b[39;00m, show\u001b[38;5;241m=\u001b[39m\u001b[38;5;28;01mNone\u001b[39;00m, save\u001b[38;5;241m=\u001b[39m\u001b[38;5;28;01mNone\u001b[39;00m):\n\u001b[1;32m    534\u001b[0m \t\u001b[38;5;124;03m\"\"\"\\\u001b[39;00m\n\u001b[1;32m    535\u001b[0m \u001b[38;5;124;03m    Plot PCA results.\u001b[39;00m\n\u001b[1;32m    536\u001b[0m \n\u001b[0;32m   (...)\u001b[0m\n\u001b[1;32m    556\u001b[0m \u001b[38;5;124;03m        Infer the filetype if ending on {{`'.pdf'`, `'.png'`, `'.svg'`}}.\u001b[39;00m\n\u001b[1;32m    557\u001b[0m \u001b[38;5;124;03m    \"\"\"\u001b[39;00m\n\u001b[0;32m--> 558\u001b[0m \t\u001b[43msc\u001b[49m\u001b[38;5;241;43m.\u001b[39;49m\u001b[43mpl\u001b[49m\u001b[38;5;241;43m.\u001b[39;49m\u001b[43mpca_overview\u001b[49m\u001b[43m(\u001b[49m\u001b[43madata\u001b[49m\u001b[43m,\u001b[49m\u001b[43m \u001b[49m\u001b[43mcolor\u001b[49m\u001b[38;5;241;43m=\u001b[39;49m\u001b[43mcolor\u001b[49m\u001b[43m,\u001b[49m\u001b[43m \u001b[49m\u001b[43muse_raw\u001b[49m\u001b[38;5;241;43m=\u001b[39;49m\u001b[43muse_raw\u001b[49m\u001b[43m,\u001b[49m\u001b[43m \u001b[49m\u001b[43mshow\u001b[49m\u001b[38;5;241;43m=\u001b[39;49m\u001b[43mshow\u001b[49m\u001b[43m,\u001b[49m\u001b[43m \u001b[49m\u001b[43msave\u001b[49m\u001b[38;5;241;43m=\u001b[39;49m\u001b[43msave\u001b[49m\u001b[43m)\u001b[49m\n",
      "File \u001b[0;32m/usr/local/lib/python3.8/dist-packages/scanpy/plotting/_tools/__init__.py:83\u001b[0m, in \u001b[0;36mpca_overview\u001b[0;34m(adata, **params)\u001b[0m\n\u001b[1;32m     81\u001b[0m     \u001b[38;5;28;01mdel\u001b[39;00m params[\u001b[38;5;124m'\u001b[39m\u001b[38;5;124mshow\u001b[39m\u001b[38;5;124m'\u001b[39m]\n\u001b[1;32m     82\u001b[0m pca(adata, \u001b[38;5;241m*\u001b[39m\u001b[38;5;241m*\u001b[39mparams, show\u001b[38;5;241m=\u001b[39m\u001b[38;5;28;01mFalse\u001b[39;00m)\n\u001b[0;32m---> 83\u001b[0m \u001b[43mpca_loadings\u001b[49m\u001b[43m(\u001b[49m\u001b[43madata\u001b[49m\u001b[43m,\u001b[49m\u001b[43m \u001b[49m\u001b[43mshow\u001b[49m\u001b[38;5;241;43m=\u001b[39;49m\u001b[38;5;28;43;01mFalse\u001b[39;49;00m\u001b[43m)\u001b[49m\n\u001b[1;32m     84\u001b[0m pca_variance_ratio(adata, show\u001b[38;5;241m=\u001b[39mshow)\n",
      "File \u001b[0;32m/usr/local/lib/python3.8/dist-packages/scanpy/plotting/_tools/__init__.py:153\u001b[0m, in \u001b[0;36mpca_loadings\u001b[0;34m(adata, components, include_lowest, n_points, show, save)\u001b[0m\n\u001b[1;32m    148\u001b[0m \u001b[38;5;28;01melif\u001b[39;00m adata\u001b[38;5;241m.\u001b[39mn_vars \u001b[38;5;241m<\u001b[39m n_points:\n\u001b[1;32m    149\u001b[0m     \u001b[38;5;28;01mraise\u001b[39;00m \u001b[38;5;167;01mValueError\u001b[39;00m(\n\u001b[1;32m    150\u001b[0m         \u001b[38;5;124mf\u001b[39m\u001b[38;5;124m\"\u001b[39m\u001b[38;5;124mTried to plot \u001b[39m\u001b[38;5;132;01m{\u001b[39;00mn_points\u001b[38;5;132;01m}\u001b[39;00m\u001b[38;5;124m variables, but passed anndata only has \u001b[39m\u001b[38;5;132;01m{\u001b[39;00madata\u001b[38;5;241m.\u001b[39mn_vars\u001b[38;5;132;01m}\u001b[39;00m\u001b[38;5;124m.\u001b[39m\u001b[38;5;124m\"\u001b[39m\n\u001b[1;32m    151\u001b[0m     )\n\u001b[0;32m--> 153\u001b[0m \u001b[43mranking\u001b[49m\u001b[43m(\u001b[49m\n\u001b[1;32m    154\u001b[0m \u001b[43m    \u001b[49m\u001b[43madata\u001b[49m\u001b[43m,\u001b[49m\n\u001b[1;32m    155\u001b[0m \u001b[43m    \u001b[49m\u001b[38;5;124;43m'\u001b[39;49m\u001b[38;5;124;43mvarm\u001b[39;49m\u001b[38;5;124;43m'\u001b[39;49m\u001b[43m,\u001b[49m\n\u001b[1;32m    156\u001b[0m \u001b[43m    \u001b[49m\u001b[38;5;124;43m'\u001b[39;49m\u001b[38;5;124;43mPCs\u001b[39;49m\u001b[38;5;124;43m'\u001b[39;49m\u001b[43m,\u001b[49m\n\u001b[1;32m    157\u001b[0m \u001b[43m    \u001b[49m\u001b[43mn_points\u001b[49m\u001b[38;5;241;43m=\u001b[39;49m\u001b[43mn_points\u001b[49m\u001b[43m,\u001b[49m\n\u001b[1;32m    158\u001b[0m \u001b[43m    \u001b[49m\u001b[43mindices\u001b[49m\u001b[38;5;241;43m=\u001b[39;49m\u001b[43mcomponents\u001b[49m\u001b[43m,\u001b[49m\n\u001b[1;32m    159\u001b[0m \u001b[43m    \u001b[49m\u001b[43minclude_lowest\u001b[49m\u001b[38;5;241;43m=\u001b[39;49m\u001b[43minclude_lowest\u001b[49m\u001b[43m,\u001b[49m\n\u001b[1;32m    160\u001b[0m \u001b[43m\u001b[49m\u001b[43m)\u001b[49m\n\u001b[1;32m    161\u001b[0m savefig_or_show(\u001b[38;5;124m'\u001b[39m\u001b[38;5;124mpca_loadings\u001b[39m\u001b[38;5;124m'\u001b[39m, show\u001b[38;5;241m=\u001b[39mshow, save\u001b[38;5;241m=\u001b[39msave)\n",
      "File \u001b[0;32m/usr/local/lib/python3.8/dist-packages/scanpy/plotting/_anndata.py:539\u001b[0m, in \u001b[0;36mranking\u001b[0;34m(adata, attr, keys, dictionary, indices, labels, color, n_points, log, include_lowest, show)\u001b[0m\n\u001b[1;32m    520\u001b[0m \u001b[38;5;124;03m\"\"\"\\\u001b[39;00m\n\u001b[1;32m    521\u001b[0m \u001b[38;5;124;03mPlot rankings.\u001b[39;00m\n\u001b[1;32m    522\u001b[0m \n\u001b[0;32m   (...)\u001b[0m\n\u001b[1;32m    536\u001b[0m \u001b[38;5;124;03mReturns matplotlib gridspec with access to the axes.\u001b[39;00m\n\u001b[1;32m    537\u001b[0m \u001b[38;5;124;03m\"\"\"\u001b[39;00m\n\u001b[1;32m    538\u001b[0m \u001b[38;5;28;01mif\u001b[39;00m \u001b[38;5;28misinstance\u001b[39m(keys, \u001b[38;5;28mstr\u001b[39m) \u001b[38;5;129;01mand\u001b[39;00m indices \u001b[38;5;129;01mis\u001b[39;00m \u001b[38;5;129;01mnot\u001b[39;00m \u001b[38;5;28;01mNone\u001b[39;00m:\n\u001b[0;32m--> 539\u001b[0m     scores \u001b[38;5;241m=\u001b[39m \u001b[38;5;28;43mgetattr\u001b[39;49m\u001b[43m(\u001b[49m\u001b[43madata\u001b[49m\u001b[43m,\u001b[49m\u001b[43m \u001b[49m\u001b[43mattr\u001b[49m\u001b[43m)\u001b[49m\u001b[43m[\u001b[49m\u001b[43mkeys\u001b[49m\u001b[43m]\u001b[49m[:, indices]\n\u001b[1;32m    540\u001b[0m     keys \u001b[38;5;241m=\u001b[39m [\u001b[38;5;124mf\u001b[39m\u001b[38;5;124m'\u001b[39m\u001b[38;5;132;01m{\u001b[39;00mkeys[:\u001b[38;5;241m-\u001b[39m\u001b[38;5;241m1\u001b[39m]\u001b[38;5;132;01m}\u001b[39;00m\u001b[38;5;132;01m{\u001b[39;00mi \u001b[38;5;241m+\u001b[39m \u001b[38;5;241m1\u001b[39m\u001b[38;5;132;01m}\u001b[39;00m\u001b[38;5;124m'\u001b[39m \u001b[38;5;28;01mfor\u001b[39;00m i \u001b[38;5;129;01min\u001b[39;00m indices]\n\u001b[1;32m    541\u001b[0m \u001b[38;5;28;01melse\u001b[39;00m:\n",
      "File \u001b[0;32m/usr/local/lib/python3.8/dist-packages/anndata/_core/aligned_mapping.py:148\u001b[0m, in \u001b[0;36mAlignedActualMixin.__getitem__\u001b[0;34m(self, key)\u001b[0m\n\u001b[1;32m    147\u001b[0m \u001b[38;5;28;01mdef\u001b[39;00m \u001b[38;5;21m__getitem__\u001b[39m(\u001b[38;5;28mself\u001b[39m, key: \u001b[38;5;28mstr\u001b[39m) \u001b[38;5;241m-\u001b[39m\u001b[38;5;241m>\u001b[39m V:\n\u001b[0;32m--> 148\u001b[0m     \u001b[38;5;28;01mreturn\u001b[39;00m \u001b[38;5;28;43mself\u001b[39;49m\u001b[38;5;241;43m.\u001b[39;49m\u001b[43m_data\u001b[49m\u001b[43m[\u001b[49m\u001b[43mkey\u001b[49m\u001b[43m]\u001b[49m\n",
      "\u001b[0;31mKeyError\u001b[0m: 'PCs'"
     ]
    },
    {
     "data": {
      "image/png": "[encoded data removed]",
      "text/plain": [
       "<Figure size 432x288 with 2 Axes>"
      ]
     },
     "metadata": {
      "needs_background": "light"
     },
     "output_type": "display_data"
    }
   ],
   "source": [
    "# Change to module\n",
    "if save_figs:\n",
    "    epi.pl.pca_overview(adata, color=['nb_features'], show=False)\n",
    "    #plt.savefig(f'{OUTPUT_FIGS}/pca_nb_features.png')\n",
    "    plt.show()\n",
    "else:\n",
    "    epi.pl.pca_overview(adata, color=['nb_features'])"
   ]
  },
  {
   "cell_type": "markdown",
   "id": "652f72f0",
   "metadata": {},
   "source": [
    "## UMAP"
   ]
  },
  {
   "cell_type": "code",
   "execution_count": 28,
   "id": "bc6f9064",
   "metadata": {},
   "outputs": [
    {
     "data": {
      "application/vnd.jupyter.widget-view+json": {
       "model_id": "875e1ad7c7a949c5aaeba36642b457a6",
       "version_major": 2,
       "version_minor": 0
      },
      "text/plain": [
       "Computing UMAPs:   0%|          | 0/8 [00:00<?, ?it/s]"
      ]
     },
     "metadata": {},
     "output_type": "display_data"
    },
    {
     "name": "stdout",
     "output_type": "stream",
     "text": [
      "Plotting umap for spread=2.0 and dist=0.1 (1/8)\n"
     ]
    },
    {
     "ename": "KeyError",
     "evalue": "'Could not find key Sample in .var_names or .obs.columns.'",
     "output_type": "error",
     "traceback": [
      "\u001b[0;31m---------------------------------------------------------------------------\u001b[0m",
      "\u001b[0;31mKeyError\u001b[0m                                  Traceback (most recent call last)",
      "Input \u001b[0;32mIn [28]\u001b[0m, in \u001b[0;36m<cell line: 1>\u001b[0;34m()\u001b[0m\n\u001b[0;32m----> 1\u001b[0m \u001b[43msearch_umap_parameters\u001b[49m\u001b[43m(\u001b[49m\u001b[43madata\u001b[49m\u001b[43m,\u001b[49m\u001b[43m \u001b[49m\n\u001b[1;32m      2\u001b[0m \u001b[43m                       \u001b[49m\u001b[43mdist_range\u001b[49m\u001b[38;5;241;43m=\u001b[39;49m\u001b[43m(\u001b[49m\u001b[38;5;241;43m0.1\u001b[39;49m\u001b[43m,\u001b[49m\u001b[43m \u001b[49m\u001b[38;5;241;43m0.4\u001b[39;49m\u001b[43m,\u001b[49m\u001b[43m \u001b[49m\u001b[38;5;241;43m0.1\u001b[39;49m\u001b[43m)\u001b[49m\u001b[43m,\u001b[49m\u001b[43m \u001b[49m\n\u001b[1;32m      3\u001b[0m \u001b[43m                       \u001b[49m\u001b[43mspread_range\u001b[49m\u001b[38;5;241;43m=\u001b[39;49m\u001b[43m(\u001b[49m\u001b[38;5;241;43m2.0\u001b[39;49m\u001b[43m,\u001b[49m\u001b[43m \u001b[49m\u001b[38;5;241;43m3.0\u001b[39;49m\u001b[43m,\u001b[49m\u001b[43m \u001b[49m\u001b[38;5;241;43m0.5\u001b[39;49m\u001b[43m)\u001b[49m\u001b[43m,\u001b[49m\u001b[43m \u001b[49m\n\u001b[1;32m      4\u001b[0m \u001b[43m                       \u001b[49m\u001b[43mmetacol\u001b[49m\u001b[38;5;241;43m=\u001b[39;49m\u001b[38;5;124;43m'\u001b[39;49m\u001b[38;5;124;43mSample\u001b[39;49m\u001b[38;5;124;43m'\u001b[39;49m\u001b[43m,\u001b[49m\u001b[43m \u001b[49m\n\u001b[1;32m      5\u001b[0m \u001b[43m                       \u001b[49m\u001b[43mn_components\u001b[49m\u001b[38;5;241;43m=\u001b[39;49m\u001b[38;5;241;43m2\u001b[39;49m\u001b[43m,\u001b[49m\u001b[43m \u001b[49m\n\u001b[1;32m      6\u001b[0m \u001b[43m                       \u001b[49m\u001b[43mverbose\u001b[49m\u001b[38;5;241;43m=\u001b[39;49m\u001b[38;5;28;43;01mTrue\u001b[39;49;00m\u001b[43m,\u001b[49m\u001b[43m \u001b[49m\n\u001b[1;32m      7\u001b[0m \u001b[43m                       \u001b[49m\u001b[43mthreads\u001b[49m\u001b[38;5;241;43m=\u001b[39;49m\u001b[38;5;241;43m4\u001b[39;49m\u001b[43m,\u001b[49m\u001b[43m \u001b[49m\n\u001b[1;32m      8\u001b[0m \u001b[43m                       \u001b[49m\u001b[43msave\u001b[49m\u001b[38;5;241;43m=\u001b[39;49m\u001b[38;5;28;43;01mNone\u001b[39;49;00m\u001b[43m)\u001b[49m\n",
      "File \u001b[0;32m/usr/local/lib/python3.8/dist-packages/sctoolbox/plotting.py:181\u001b[0m, in \u001b[0;36msearch_umap_parameters\u001b[0;34m(adata, dist_range, spread_range, metacol, n_components, verbose, threads, save)\u001b[0m\n\u001b[1;32m    179\u001b[0m \u001b[38;5;28;01mwith\u001b[39;00m warnings\u001b[38;5;241m.\u001b[39mcatch_warnings():\n\u001b[1;32m    180\u001b[0m     warnings\u001b[38;5;241m.\u001b[39mfilterwarnings(\u001b[38;5;124m\"\u001b[39m\u001b[38;5;124mignore\u001b[39m\u001b[38;5;124m\"\u001b[39m, category\u001b[38;5;241m=\u001b[39m\u001b[38;5;167;01mUserWarning\u001b[39;00m, message\u001b[38;5;241m=\u001b[39m\u001b[38;5;124m\"\u001b[39m\u001b[38;5;124mNo data for colormapping provided via \u001b[39m\u001b[38;5;124m'\u001b[39m\u001b[38;5;124mc\u001b[39m\u001b[38;5;124m'\u001b[39m\u001b[38;5;124m*\u001b[39m\u001b[38;5;124m\"\u001b[39m)\n\u001b[0;32m--> 181\u001b[0m     \u001b[43msc\u001b[49m\u001b[38;5;241;43m.\u001b[39;49m\u001b[43mpl\u001b[49m\u001b[38;5;241;43m.\u001b[39;49m\u001b[43mumap\u001b[49m\u001b[43m(\u001b[49m\u001b[43madata\u001b[49m\u001b[43m,\u001b[49m\u001b[43m \u001b[49m\u001b[43mcolor\u001b[49m\u001b[38;5;241;43m=\u001b[39;49m\u001b[43mmetacol\u001b[49m\u001b[43m,\u001b[49m\u001b[43m \u001b[49m\u001b[43mtitle\u001b[49m\u001b[38;5;241;43m=\u001b[39;49m\u001b[38;5;124;43m'\u001b[39;49m\u001b[38;5;124;43m'\u001b[39;49m\u001b[43m,\u001b[49m\u001b[43m \u001b[49m\u001b[43mlegend_loc\u001b[49m\u001b[38;5;241;43m=\u001b[39;49m\u001b[43mlegend_loc\u001b[49m\u001b[43m,\u001b[49m\u001b[43m \u001b[49m\u001b[43mshow\u001b[49m\u001b[38;5;241;43m=\u001b[39;49m\u001b[38;5;28;43;01mFalse\u001b[39;49;00m\u001b[43m,\u001b[49m\u001b[43m \u001b[49m\u001b[43max\u001b[49m\u001b[38;5;241;43m=\u001b[39;49m\u001b[43maxes\u001b[49m\u001b[43m[\u001b[49m\u001b[43mi\u001b[49m\u001b[43m,\u001b[49m\u001b[43m \u001b[49m\u001b[43mj\u001b[49m\u001b[43m]\u001b[49m\u001b[43m)\u001b[49m\n\u001b[1;32m    183\u001b[0m \u001b[38;5;28;01mif\u001b[39;00m j \u001b[38;5;241m==\u001b[39m \u001b[38;5;241m0\u001b[39m:\n\u001b[1;32m    184\u001b[0m     axes[i, j]\u001b[38;5;241m.\u001b[39mset_ylabel(\u001b[38;5;124mf\u001b[39m\u001b[38;5;124m\"\u001b[39m\u001b[38;5;124mspread: \u001b[39m\u001b[38;5;132;01m{\u001b[39;00mspread\u001b[38;5;132;01m}\u001b[39;00m\u001b[38;5;124m\"\u001b[39m)\n",
      "File \u001b[0;32m/usr/local/lib/python3.8/dist-packages/scanpy/plotting/_tools/scatterplots.py:669\u001b[0m, in \u001b[0;36mumap\u001b[0;34m(adata, **kwargs)\u001b[0m\n\u001b[1;32m    610\u001b[0m \u001b[38;5;129m@_wraps_plot_scatter\u001b[39m\n\u001b[1;32m    611\u001b[0m \u001b[38;5;129m@_doc_params\u001b[39m(\n\u001b[1;32m    612\u001b[0m     adata_color_etc\u001b[38;5;241m=\u001b[39mdoc_adata_color_etc,\n\u001b[0;32m   (...)\u001b[0m\n\u001b[1;32m    616\u001b[0m )\n\u001b[1;32m    617\u001b[0m \u001b[38;5;28;01mdef\u001b[39;00m \u001b[38;5;21mumap\u001b[39m(adata, \u001b[38;5;241m*\u001b[39m\u001b[38;5;241m*\u001b[39mkwargs) \u001b[38;5;241m-\u001b[39m\u001b[38;5;241m>\u001b[39m Union[Axes, List[Axes], \u001b[38;5;28;01mNone\u001b[39;00m]:\n\u001b[1;32m    618\u001b[0m     \u001b[38;5;124;03m\"\"\"\\\u001b[39;00m\n\u001b[1;32m    619\u001b[0m \u001b[38;5;124;03m    Scatter plot in UMAP basis.\u001b[39;00m\n\u001b[1;32m    620\u001b[0m \n\u001b[0;32m   (...)\u001b[0m\n\u001b[1;32m    667\u001b[0m \u001b[38;5;124;03m    tl.umap\u001b[39;00m\n\u001b[1;32m    668\u001b[0m \u001b[38;5;124;03m    \"\"\"\u001b[39;00m\n\u001b[0;32m--> 669\u001b[0m     \u001b[38;5;28;01mreturn\u001b[39;00m \u001b[43membedding\u001b[49m\u001b[43m(\u001b[49m\u001b[43madata\u001b[49m\u001b[43m,\u001b[49m\u001b[43m \u001b[49m\u001b[38;5;124;43m'\u001b[39;49m\u001b[38;5;124;43mumap\u001b[39;49m\u001b[38;5;124;43m'\u001b[39;49m\u001b[43m,\u001b[49m\u001b[43m \u001b[49m\u001b[38;5;241;43m*\u001b[39;49m\u001b[38;5;241;43m*\u001b[39;49m\u001b[43mkwargs\u001b[49m\u001b[43m)\u001b[49m\n",
      "File \u001b[0;32m/usr/local/lib/python3.8/dist-packages/scanpy/plotting/_tools/scatterplots.py:257\u001b[0m, in \u001b[0;36membedding\u001b[0;34m(adata, basis, color, gene_symbols, use_raw, sort_order, edges, edges_width, edges_color, neighbors_key, arrows, arrows_kwds, groups, components, dimensions, layer, projection, scale_factor, color_map, cmap, palette, na_color, na_in_legend, size, frameon, legend_fontsize, legend_fontweight, legend_loc, legend_fontoutline, colorbar_loc, vmax, vmin, vcenter, norm, add_outline, outline_width, outline_color, ncols, hspace, wspace, title, show, save, ax, return_fig, **kwargs)\u001b[0m\n\u001b[1;32m    250\u001b[0m \u001b[38;5;66;03m# use itertools.product to make a plot for each color and for each component\u001b[39;00m\n\u001b[1;32m    251\u001b[0m \u001b[38;5;66;03m# For example if color=[gene1, gene2] and components=['1,2, '2,3'].\u001b[39;00m\n\u001b[1;32m    252\u001b[0m \u001b[38;5;66;03m# The plots are: [\u001b[39;00m\n\u001b[1;32m    253\u001b[0m \u001b[38;5;66;03m#     color=gene1, components=[1,2], color=gene1, components=[2,3],\u001b[39;00m\n\u001b[1;32m    254\u001b[0m \u001b[38;5;66;03m#     color=gene2, components = [1, 2], color=gene2, components=[2,3],\u001b[39;00m\n\u001b[1;32m    255\u001b[0m \u001b[38;5;66;03m# ]\u001b[39;00m\n\u001b[1;32m    256\u001b[0m \u001b[38;5;28;01mfor\u001b[39;00m count, (value_to_plot, dims) \u001b[38;5;129;01min\u001b[39;00m \u001b[38;5;28menumerate\u001b[39m(\u001b[38;5;28mzip\u001b[39m(color, dimensions)):\n\u001b[0;32m--> 257\u001b[0m     color_source_vector \u001b[38;5;241m=\u001b[39m \u001b[43m_get_color_source_vector\u001b[49m\u001b[43m(\u001b[49m\n\u001b[1;32m    258\u001b[0m \u001b[43m        \u001b[49m\u001b[43madata\u001b[49m\u001b[43m,\u001b[49m\n\u001b[1;32m    259\u001b[0m \u001b[43m        \u001b[49m\u001b[43mvalue_to_plot\u001b[49m\u001b[43m,\u001b[49m\n\u001b[1;32m    260\u001b[0m \u001b[43m        \u001b[49m\u001b[43mlayer\u001b[49m\u001b[38;5;241;43m=\u001b[39;49m\u001b[43mlayer\u001b[49m\u001b[43m,\u001b[49m\n\u001b[1;32m    261\u001b[0m \u001b[43m        \u001b[49m\u001b[43muse_raw\u001b[49m\u001b[38;5;241;43m=\u001b[39;49m\u001b[43muse_raw\u001b[49m\u001b[43m,\u001b[49m\n\u001b[1;32m    262\u001b[0m \u001b[43m        \u001b[49m\u001b[43mgene_symbols\u001b[49m\u001b[38;5;241;43m=\u001b[39;49m\u001b[43mgene_symbols\u001b[49m\u001b[43m,\u001b[49m\n\u001b[1;32m    263\u001b[0m \u001b[43m        \u001b[49m\u001b[43mgroups\u001b[49m\u001b[38;5;241;43m=\u001b[39;49m\u001b[43mgroups\u001b[49m\u001b[43m,\u001b[49m\n\u001b[1;32m    264\u001b[0m \u001b[43m    \u001b[49m\u001b[43m)\u001b[49m\n\u001b[1;32m    265\u001b[0m     color_vector, categorical \u001b[38;5;241m=\u001b[39m _color_vector(\n\u001b[1;32m    266\u001b[0m         adata,\n\u001b[1;32m    267\u001b[0m         value_to_plot,\n\u001b[0;32m   (...)\u001b[0m\n\u001b[1;32m    270\u001b[0m         na_color\u001b[38;5;241m=\u001b[39mna_color,\n\u001b[1;32m    271\u001b[0m     )\n\u001b[1;32m    273\u001b[0m     \u001b[38;5;66;03m# Order points\u001b[39;00m\n",
      "File \u001b[0;32m/usr/local/lib/python3.8/dist-packages/scanpy/plotting/_tools/scatterplots.py:1169\u001b[0m, in \u001b[0;36m_get_color_source_vector\u001b[0;34m(adata, value_to_plot, use_raw, gene_symbols, layer, groups)\u001b[0m\n\u001b[1;32m   1167\u001b[0m     values \u001b[38;5;241m=\u001b[39m adata\u001b[38;5;241m.\u001b[39mraw\u001b[38;5;241m.\u001b[39mobs_vector(value_to_plot)\n\u001b[1;32m   1168\u001b[0m \u001b[38;5;28;01melse\u001b[39;00m:\n\u001b[0;32m-> 1169\u001b[0m     values \u001b[38;5;241m=\u001b[39m \u001b[43madata\u001b[49m\u001b[38;5;241;43m.\u001b[39;49m\u001b[43mobs_vector\u001b[49m\u001b[43m(\u001b[49m\u001b[43mvalue_to_plot\u001b[49m\u001b[43m,\u001b[49m\u001b[43m \u001b[49m\u001b[43mlayer\u001b[49m\u001b[38;5;241;43m=\u001b[39;49m\u001b[43mlayer\u001b[49m\u001b[43m)\u001b[49m\n\u001b[1;32m   1170\u001b[0m \u001b[38;5;28;01mif\u001b[39;00m groups \u001b[38;5;129;01mand\u001b[39;00m is_categorical_dtype(values):\n\u001b[1;32m   1171\u001b[0m     values \u001b[38;5;241m=\u001b[39m values\u001b[38;5;241m.\u001b[39mreplace(values\u001b[38;5;241m.\u001b[39mcategories\u001b[38;5;241m.\u001b[39mdifference(groups), np\u001b[38;5;241m.\u001b[39mnan)\n",
      "File \u001b[0;32m/usr/local/lib/python3.8/dist-packages/anndata/_core/anndata.py:1397\u001b[0m, in \u001b[0;36mAnnData.obs_vector\u001b[0;34m(self, k, layer)\u001b[0m\n\u001b[1;32m   1391\u001b[0m         warnings\u001b[38;5;241m.\u001b[39mwarn(\n\u001b[1;32m   1392\u001b[0m             \u001b[38;5;124m\"\u001b[39m\u001b[38;5;124mIn a future version of AnnData, access to `.X` by passing\u001b[39m\u001b[38;5;124m\"\u001b[39m\n\u001b[1;32m   1393\u001b[0m             \u001b[38;5;124m\"\u001b[39m\u001b[38;5;124m `layer=\u001b[39m\u001b[38;5;124m'\u001b[39m\u001b[38;5;124mX\u001b[39m\u001b[38;5;124m'\u001b[39m\u001b[38;5;124m` will be removed. Instead pass `layer=None`.\u001b[39m\u001b[38;5;124m\"\u001b[39m,\n\u001b[1;32m   1394\u001b[0m             \u001b[38;5;167;01mFutureWarning\u001b[39;00m,\n\u001b[1;32m   1395\u001b[0m         )\n\u001b[1;32m   1396\u001b[0m         layer \u001b[38;5;241m=\u001b[39m \u001b[38;5;28;01mNone\u001b[39;00m\n\u001b[0;32m-> 1397\u001b[0m \u001b[38;5;28;01mreturn\u001b[39;00m \u001b[43mget_vector\u001b[49m\u001b[43m(\u001b[49m\u001b[38;5;28;43mself\u001b[39;49m\u001b[43m,\u001b[49m\u001b[43m \u001b[49m\u001b[43mk\u001b[49m\u001b[43m,\u001b[49m\u001b[43m \u001b[49m\u001b[38;5;124;43m\"\u001b[39;49m\u001b[38;5;124;43mobs\u001b[39;49m\u001b[38;5;124;43m\"\u001b[39;49m\u001b[43m,\u001b[49m\u001b[43m \u001b[49m\u001b[38;5;124;43m\"\u001b[39;49m\u001b[38;5;124;43mvar\u001b[39;49m\u001b[38;5;124;43m\"\u001b[39;49m\u001b[43m,\u001b[49m\u001b[43m \u001b[49m\u001b[43mlayer\u001b[49m\u001b[38;5;241;43m=\u001b[39;49m\u001b[43mlayer\u001b[49m\u001b[43m)\u001b[49m\n",
      "File \u001b[0;32m/usr/local/lib/python3.8/dist-packages/anndata/_core/index.py:179\u001b[0m, in \u001b[0;36mget_vector\u001b[0;34m(adata, k, coldim, idxdim, layer)\u001b[0m\n\u001b[1;32m    175\u001b[0m     \u001b[38;5;28;01mraise\u001b[39;00m \u001b[38;5;167;01mValueError\u001b[39;00m(\n\u001b[1;32m    176\u001b[0m         \u001b[38;5;124mf\u001b[39m\u001b[38;5;124m\"\u001b[39m\u001b[38;5;124mKey \u001b[39m\u001b[38;5;132;01m{\u001b[39;00mk\u001b[38;5;132;01m}\u001b[39;00m\u001b[38;5;124m could be found in both .\u001b[39m\u001b[38;5;132;01m{\u001b[39;00midxdim\u001b[38;5;132;01m}\u001b[39;00m\u001b[38;5;124m_names and .\u001b[39m\u001b[38;5;132;01m{\u001b[39;00mcoldim\u001b[38;5;132;01m}\u001b[39;00m\u001b[38;5;124m.columns\u001b[39m\u001b[38;5;124m\"\u001b[39m\n\u001b[1;32m    177\u001b[0m     )\n\u001b[1;32m    178\u001b[0m \u001b[38;5;28;01melif\u001b[39;00m (in_col \u001b[38;5;241m+\u001b[39m in_idx) \u001b[38;5;241m==\u001b[39m \u001b[38;5;241m0\u001b[39m:\n\u001b[0;32m--> 179\u001b[0m     \u001b[38;5;28;01mraise\u001b[39;00m \u001b[38;5;167;01mKeyError\u001b[39;00m(\n\u001b[1;32m    180\u001b[0m         \u001b[38;5;124mf\u001b[39m\u001b[38;5;124m\"\u001b[39m\u001b[38;5;124mCould not find key \u001b[39m\u001b[38;5;132;01m{\u001b[39;00mk\u001b[38;5;132;01m}\u001b[39;00m\u001b[38;5;124m in .\u001b[39m\u001b[38;5;132;01m{\u001b[39;00midxdim\u001b[38;5;132;01m}\u001b[39;00m\u001b[38;5;124m_names or .\u001b[39m\u001b[38;5;132;01m{\u001b[39;00mcoldim\u001b[38;5;132;01m}\u001b[39;00m\u001b[38;5;124m.columns.\u001b[39m\u001b[38;5;124m\"\u001b[39m\n\u001b[1;32m    181\u001b[0m     )\n\u001b[1;32m    182\u001b[0m \u001b[38;5;28;01melif\u001b[39;00m in_col:\n\u001b[1;32m    183\u001b[0m     \u001b[38;5;28;01mreturn\u001b[39;00m \u001b[38;5;28mgetattr\u001b[39m(adata, coldim)[k]\u001b[38;5;241m.\u001b[39mvalues\n",
      "\u001b[0;31mKeyError\u001b[0m: 'Could not find key Sample in .var_names or .obs.columns.'"
     ]
    },
    {
     "data": {
      "image/png": "[encoded data removed]",
      "text/plain": [
       "<Figure size 1152x576 with 8 Axes>"
      ]
     },
     "metadata": {
      "needs_background": "light"
     },
     "output_type": "display_data"
    }
   ],
   "source": [
    "search_umap_parameters(adata, \n",
    "                       dist_range=(0.1, 0.4, 0.1), \n",
    "                       spread_range=(2.0, 3.0, 0.5), \n",
    "                       metacol='Sample', \n",
    "                       n_components=2, \n",
    "                       verbose=True, \n",
    "                       threads=4, \n",
    "                       save=None)"
   ]
  },
  {
   "cell_type": "markdown",
   "id": "e6280f40",
   "metadata": {},
   "source": [
    "## Plot"
   ]
  },
  {
   "cell_type": "code",
   "execution_count": null,
   "id": "4cf70a06",
   "metadata": {},
   "outputs": [],
   "source": []
  },
  {
   "cell_type": "markdown",
   "id": "0765a75e",
   "metadata": {},
   "source": [
    "## Batch correction"
   ]
  },
  {
   "cell_type": "code",
   "execution_count": null,
   "id": "11c56436",
   "metadata": {},
   "outputs": [],
   "source": [
    "#Consider "
   ]
  },
  {
   "cell_type": "markdown",
   "id": "59fdbc93",
   "metadata": {},
   "source": [
    "## save anndata"
   ]
  },
  {
   "cell_type": "code",
   "execution_count": null,
   "id": "623403df",
   "metadata": {},
   "outputs": [],
   "source": []
  }
 ],
 "metadata": {
  "kernelspec": {
   "display_name": "Python 3 (ipykernel)",
   "language": "python",
   "name": "python3"
  },
  "language_info": {
   "codemirror_mode": {
    "name": "ipython",
    "version": 3
   },
   "file_extension": ".py",
   "mimetype": "text/x-python",
   "name": "python",
   "nbconvert_exporter": "python",
   "pygments_lexer": "ipython3",
   "version": "3.8.10"
  }
 },
 "nbformat": 4,
 "nbformat_minor": 5
}
