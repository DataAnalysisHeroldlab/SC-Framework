{
 "cells": [
  {
   "cell_type": "markdown",
   "id": "05bf638c",
   "metadata": {},
   "source": [
    "# Normalization and batch correction"
   ]
  },
  {
   "cell_type": "markdown",
   "id": "3c3b2bb6",
   "metadata": {},
   "source": [
    "## Settings\n",
    "\n",
    "#Path related settings (these should be the same as for the previous notebook)\n",
    "output_dir = '/home/rstudio/processed_data'\n",
    "test = 'cropped_146'"
   ]
  },
  {
   "cell_type": "code",
   "execution_count": null,
   "id": "567198f9",
   "metadata": {},
   "outputs": [],
   "source": [
    "# Path related settings (these should be the same as for the previous notebook)\n",
    "output_dir = '/mnt/workspace/jdetlef/processed_data'\n",
    "test = 'Stomach_95'"
   ]
  },
  {
   "cell_type": "code",
   "execution_count": null,
   "id": "88c3aa60",
   "metadata": {},
   "outputs": [],
   "source": [
    "# choose normalization method. If None, two normalization methods will be \n",
    "# performed and visualized with pca plot\n",
    "norm_method='total'  # can be 'tfidf' or 'total'\n",
    "# remove_pc1: if True, the first PC is removed from TFIDF-LSI normalization before calculating neighbors, \n",
    "# since first component correlates with number of features\n",
    "remove_pc1 = True\n",
    "log_normalize=True\n",
    "\n",
    "# Options for highly variable genes\n",
    "min_score = None\n",
    "\n",
    "# batch correction: If True, several batch correction methods will be performed,\n",
    "# you can choose the best one after\n",
    "batch_column = \"batch\"\n",
    "perform_batch_correction = False\n",
    "batch_methods = [\"bbknn\", \"mnn\", \"harmony\", \"scanorama\"]\n",
    "\n",
    "# save figures\n",
    "save_figs = False"
   ]
  },
  {
   "cell_type": "markdown",
   "id": "f64aaa76",
   "metadata": {},
   "source": [
    "## Loading packages and setup"
   ]
  },
  {
   "cell_type": "code",
   "execution_count": null,
   "id": "61a4987b",
   "metadata": {},
   "outputs": [],
   "source": [
    "# sctoolbox modules\n",
    "import sctoolbox.atac_tree as sub_tree\n",
    "import sctoolbox.creators as cr\n",
    "import sctoolbox.annotation as an\n",
    "from sctoolbox.qc_filter import *\n",
    "import sctoolbox.plotting as pl\n",
    "from sctoolbox.atac_utils import *\n",
    "from sctoolbox.analyser import *\n",
    "import sctoolbox.atac as atac\n",
    "# import episcanpy\n",
    "import scanpy as sc\n",
    "import episcanpy as epi\n",
    "#from episcanpy.preprocessing import _decomposition\n",
    "import numpy as np"
   ]
  },
  {
   "cell_type": "markdown",
   "id": "ee657635",
   "metadata": {},
   "source": [
    "## Setup path handling object "
   ]
  },
  {
   "cell_type": "code",
   "execution_count": null,
   "id": "1aef88ce",
   "metadata": {},
   "outputs": [],
   "source": [
    "# make an instance of the class\n",
    "tree = sub_tree.ATAC_tree()\n",
    "# set processing/output directory\n",
    "tree.processing_dir = output_dir\n",
    "# set sample/experiment.. \n",
    "tree.run = test"
   ]
  },
  {
   "cell_type": "markdown",
   "id": "8cc1a8a9",
   "metadata": {},
   "source": [
    "## Load anndata "
   ]
  },
  {
   "cell_type": "code",
   "execution_count": null,
   "id": "61b56239",
   "metadata": {},
   "outputs": [],
   "source": [
    "# probably updated in future\n",
    "qc_output = tree.qc_anndata  # path to qc_adata should be here\n",
    "adata = epi.read_h5ad(qc_output)\n",
    "adata"
   ]
  },
  {
   "cell_type": "markdown",
   "id": "94c62b5f",
   "metadata": {},
   "source": [
    "## Find highly variable features"
   ]
  },
  {
   "cell_type": "code",
   "execution_count": null,
   "id": "cc16aff1",
   "metadata": {},
   "outputs": [],
   "source": [
    "atac.get_variable_features(adata, min_score, show=True, inplace=True)"
   ]
  },
  {
   "cell_type": "code",
   "execution_count": null,
   "id": "e7f5c7bb",
   "metadata": {},
   "outputs": [],
   "source": [
    "#Number of variable genes selected\n",
    "adata.var[\"highly_variable\"].sum()"
   ]
  },
  {
   "cell_type": "code",
   "execution_count": null,
   "id": "c3a3d4d9",
   "metadata": {},
   "outputs": [],
   "source": [
    "adata = analyser.calculate_qc_metrics(adata, var_type='features')"
   ]
  },
  {
   "cell_type": "code",
   "execution_count": null,
   "id": "fda16a54",
   "metadata": {},
   "outputs": [],
   "source": [
    "violin_HVF_distribution(adata)"
   ]
  },
  {
   "cell_type": "code",
   "execution_count": null,
   "id": "5e96c966",
   "metadata": {},
   "outputs": [],
   "source": [
    "scatter_HVF_distribution(adata)"
   ]
  },
  {
   "cell_type": "code",
   "execution_count": null,
   "id": "3ce0f723",
   "metadata": {},
   "outputs": [],
   "source": [
    "adata.var "
   ]
  },
  {
   "cell_type": "markdown",
   "id": "0e9b520a",
   "metadata": {},
   "source": [
    "## Normalization"
   ]
  },
  {
   "cell_type": "code",
   "execution_count": null,
   "id": "21e1e694",
   "metadata": {},
   "outputs": [],
   "source": [
    "# Consider using parts of sctoolbox.analyser"
   ]
  },
  {
   "cell_type": "code",
   "execution_count": null,
   "id": "f0a949c6",
   "metadata": {},
   "outputs": [],
   "source": [
    "if norm_method == 'tfidf':\n",
    "    print('Performing TFIDF and LSI...')\n",
    "    atac.tfidf(adata)\n",
    "    atac.lsi(adata)\n",
    "    if remove_pc1:\n",
    "        adata.obsm['X_lsi'] = adata.obsm['X_lsi'][:,1:]\n",
    "        adata.varm[\"LSI\"] = adata.varm[\"LSI\"][:,1:]\n",
    "        adata.uns[\"lsi\"][\"stdev\"] = adata.uns[\"lsi\"][\"stdev\"][1:]\n",
    "        adata.obsm['X_pca'] = adata.obsm['X_pca'][:,1:]\n",
    "        adata.varm[\"PCs\"] = adata.varm[\"PCs\"][:,1:]\n",
    "        adata.uns[\"pca\"][\"stdev\"] = adata.uns[\"pca\"][\"stdev\"][1:]\n",
    "    print('Done')\n",
    "if norm_method == 'total':\n",
    "    print('Performing total and log1p normalization...')\n",
    "    sc.pp.normalize_total(adata)\n",
    "    adata.layers['normalised'] = adata.X.copy()\n",
    "    if log_normalize:\n",
    "        epi.pp.log1p(adata)\n",
    "    print('Done')\n",
    "if not norm_method:\n",
    "    adata_tfidf, adata_total = atac.atac_norm(adata, remove_pc1=remove_pc1)"
   ]
  },
  {
   "cell_type": "code",
   "execution_count": null,
   "id": "9e29a854",
   "metadata": {},
   "outputs": [],
   "source": [
    "if not norm_method:\n",
    "    user_norm = input('Choose a normalization method (total or tfidf): ')\n",
    "    if user_norm == 'total':\n",
    "        adata = adata_total\n",
    "    elif user_norm == 'tfidf':\n",
    "        adata = adata_tfidf\n",
    "else:\n",
    "    user_norm = None\n",
    "    \n",
    "display(adata)"
   ]
  },
  {
   "cell_type": "markdown",
   "id": "52137416",
   "metadata": {},
   "source": [
    "## PCA"
   ]
  },
  {
   "cell_type": "code",
   "execution_count": null,
   "id": "a96ceb58",
   "metadata": {},
   "outputs": [],
   "source": [
    "if norm_method == 'total':\n",
    "    print('Performing PCA')\n",
    "    sc.pp.pca(adata, svd_solver='arpack', n_comps=50, use_highly_variable=False)\n",
    "    print('Done')"
   ]
  },
  {
   "cell_type": "markdown",
   "id": "130aff84",
   "metadata": {},
   "source": [
    "### Plot PCA"
   ]
  },
  {
   "cell_type": "code",
   "execution_count": null,
   "id": "dad3bb09",
   "metadata": {},
   "outputs": [],
   "source": [
    "if norm_method == 'tfidf' or user_norm == 'tfidf':\n",
    "    # Change to module\n",
    "    if save_figs:\n",
    "        epi.pl.pca(adata, color=['nb_features'], show=False)\n",
    "        #plt.savefig(f'{OUTPUT_FIGS}/pca_nb_features.png')\n",
    "        plt.show()\n",
    "    else:\n",
    "        epi.pl.pca(adata, color=['nb_features'])\n",
    "        \n",
    "elif norm_method == 'total':\n",
    "    if save_figs:\n",
    "        epi.pl.pca_overview(adata, color=['nb_features'], show=False)\n",
    "        #plt.savefig(f'{OUTPUT_FIGS}/pca_nb_features.png')\n",
    "        plt.show()\n",
    "    else:\n",
    "        epi.pl.pca_overview(adata, color=['nb_features'])"
   ]
  },
  {
   "cell_type": "markdown",
   "id": "bdeca85b",
   "metadata": {},
   "source": [
    "## Calc Neighbours"
   ]
  },
  {
   "cell_type": "code",
   "execution_count": null,
   "id": "7ecb9038",
   "metadata": {},
   "outputs": [],
   "source": [
    "if norm_method:\n",
    "    if norm_method == 'tfidf' and remove_pc1:\n",
    "        print('Calculating neighbors')\n",
    "        sc.pp.neighbors(adata, n_neighbors=10, n_pcs=30, method='umap', metric='euclidean')\n",
    "    else:\n",
    "        print('Calculating neighbors')\n",
    "        sc.pp.neighbors(adata, n_neighbors=15, n_pcs=50, method='umap', metric='euclidean')\n",
    "    print('Done')"
   ]
  },
  {
   "cell_type": "markdown",
   "id": "652f72f0",
   "metadata": {},
   "source": [
    "## UMAP"
   ]
  },
  {
   "cell_type": "code",
   "execution_count": null,
   "id": "bc6f9064",
   "metadata": {},
   "outputs": [],
   "source": [
    "pl.search_umap_parameters(adata, \n",
    "                       dist_range=(0.1, 0.4, 0.1), \n",
    "                       spread_range=(2.0, 3.0, 0.5), \n",
    "                       metacol='sample', \n",
    "                       n_components=2, \n",
    "                       verbose=True, \n",
    "                       threads=4, \n",
    "                       save=None)"
   ]
  },
  {
   "cell_type": "markdown",
   "id": "0765a75e",
   "metadata": {},
   "source": [
    "## Batch correction"
   ]
  },
  {
   "cell_type": "code",
   "execution_count": null,
   "id": "e50926b0",
   "metadata": {},
   "outputs": [],
   "source": [
    "adata.obs['batch'] = 1"
   ]
  },
  {
   "cell_type": "code",
   "execution_count": null,
   "id": "0b6f71f2",
   "metadata": {},
   "outputs": [],
   "source": [
    "adata.obs['batch']"
   ]
  },
  {
   "cell_type": "code",
   "execution_count": null,
   "id": "11c56436",
   "metadata": {},
   "outputs": [],
   "source": [
    "adata.obs[batch_column] = adata.obs[batch_column].astype(\"category\") #ensure that batch column is a category"
   ]
  },
  {
   "cell_type": "code",
   "execution_count": null,
   "id": "15149b64",
   "metadata": {},
   "outputs": [],
   "source": [
    "if perform_batch_correction:\n",
    "    batch_corrections = analyser.wrap_corrections(adata, \n",
    "                                              batch_key=batch_column,\n",
    "                                              methods=batch_methods)\n",
    "else:\n",
    "    batch_corrections = {\"uncorrected\": adata}"
   ]
  },
  {
   "cell_type": "code",
   "execution_count": null,
   "id": "b8229b7c",
   "metadata": {},
   "outputs": [],
   "source": [
    "#Run standard umap for all adatas\n",
    "analyser.wrap_umap(batch_corrections.values(), threads=threads)"
   ]
  },
  {
   "cell_type": "code",
   "execution_count": null,
   "id": "bdd0ae2e",
   "metadata": {},
   "outputs": [],
   "source": [
    "# Should preliminary clustering be performed?\n",
    "do_clustering = True #True or False"
   ]
  },
  {
   "cell_type": "code",
   "execution_count": null,
   "id": "0ab1d2bf",
   "metadata": {},
   "outputs": [],
   "source": [
    "#Perform additional clustering if it was chosen\n",
    "if do_clustering:\n",
    "    for adata in batch_corrections.values():\n",
    "        sc.tl.leiden(adata)\n",
    "    color_by.append(\"leiden\")"
   ]
  },
  {
   "cell_type": "code",
   "execution_count": null,
   "id": "e6b74605",
   "metadata": {},
   "outputs": [],
   "source": [
    "# Calculate LISI scores for batch\n",
    "analyser.wrap_batch_evaluation(batch_corrections, batch_key=batch_column, threads=threads, inplace=True)"
   ]
  },
  {
   "cell_type": "code",
   "execution_count": null,
   "id": "4a5a35c0",
   "metadata": {},
   "outputs": [],
   "source": [
    "#Plot the overview of batch correction methods\n",
    "_ = pl.anndata_overview(batch_corrections, color_by=color_by, \n",
    "                        output=figure_path + \"batch_correction_overview.pdf\")"
   ]
  },
  {
   "cell_type": "markdown",
   "id": "59fdbc93",
   "metadata": {},
   "source": [
    "## save anndata"
   ]
  },
  {
   "cell_type": "code",
   "execution_count": null,
   "id": "623403df",
   "metadata": {},
   "outputs": [],
   "source": [
    "adata_output = tree.norm_correction_anndata\n",
    "adata.write(filename=adata_output)"
   ]
  },
  {
   "cell_type": "code",
   "execution_count": null,
   "id": "132bfa15",
   "metadata": {},
   "outputs": [],
   "source": []
  }
 ],
 "metadata": {
  "kernelspec": {
   "display_name": "single-cell-base",
   "language": "python",
   "name": "sc_base"
  },
  "language_info": {
   "codemirror_mode": {
    "name": "ipython",
    "version": 3
   },
   "file_extension": ".py",
   "mimetype": "text/x-python",
   "name": "python",
   "nbconvert_exporter": "python",
   "pygments_lexer": "ipython3",
   "version": "3.7.12"
  },
  "vscode": {
   "interpreter": {
    "hash": "916dbcbb3f70747c44a77c7bcd40155683ae19c65e1c03b4aa3499c5328201f1"
   }
  }
 },
 "nbformat": 4,
 "nbformat_minor": 5
}
