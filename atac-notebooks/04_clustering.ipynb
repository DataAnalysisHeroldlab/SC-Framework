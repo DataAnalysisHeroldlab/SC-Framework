{
 "cells": [
  {
   "cell_type": "markdown",
   "id": "05bf638c",
   "metadata": {},
   "source": [
    "# Clustering"
   ]
  },
  {
   "cell_type": "markdown",
   "id": "3c3b2bb6",
   "metadata": {},
   "source": [
    "## Settings"
   ]
  },
  {
   "cell_type": "code",
   "execution_count": null,
   "id": "88c3aa60",
   "metadata": {},
   "outputs": [],
   "source": [
    "# set true if you want rerun umap embedding\n",
    "run_umap = True\n",
    "n_pcs = 20\n",
    "first_pc = 0\n",
    "metacol = 'sample'\n",
    "\n",
    "##################### CLUSTERING ########################\n",
    "# clustering method\n",
    "method = 'leiden'  # leiden or louvain\n",
    "n_neighbors=15 #Set the number of nearest neighbors to be used in clustering. Default=15\n",
    "# if True, a range of resolutions will be calculated and plotted, so you can choose the best fit\n",
    "# If False, set the resolution parameter\n",
    "search_clustering_parameters = True\n",
    "res = 0.5\n",
    "\n",
    "# name of condition column in adata.obs, will be used for plotting\n",
    "condition_column = 'sample'\n",
    "\n",
    "# save figures\n",
    "save_figs = False"
   ]
  },
  {
   "cell_type": "markdown",
   "id": "f64aaa76",
   "metadata": {},
   "source": [
    "## Loading packages and setup"
   ]
  },
  {
   "cell_type": "code",
   "execution_count": null,
   "id": "61a4987b",
   "metadata": {},
   "outputs": [],
   "source": [
    "import sctoolbox.tools as tools\n",
    "import sctoolbox.plotting as pl\n",
    "import sctoolbox.utils as utils\n",
    "import scanpy as sc\n",
    "\n",
    "utils.settings_from_config(\"config.yaml\", key=\"04\")"
   ]
  },
  {
   "cell_type": "markdown",
   "id": "8cc1a8a9",
   "metadata": {},
   "source": [
    "## Load anndata "
   ]
  },
  {
   "cell_type": "code",
   "execution_count": null,
   "id": "61b56239",
   "metadata": {},
   "outputs": [],
   "source": [
    "adata = utils.load_h5ad(\"anndata_3.h5ad\")\n",
    "display(adata)"
   ]
  },
  {
   "cell_type": "markdown",
   "id": "52137416",
   "metadata": {},
   "source": [
    "## PCA"
   ]
  },
  {
   "cell_type": "code",
   "execution_count": null,
   "id": "a96ceb58",
   "metadata": {},
   "outputs": [],
   "source": [
    "# maybe run PCA again after batch correction?\n",
    "#sc.pp.pca(adata, svd_solver='arpack', n_comps=50, use_highly_variable=True)"
   ]
  },
  {
   "cell_type": "markdown",
   "id": "6ca2c12c",
   "metadata": {},
   "source": [
    "### Subset number of PCs\n",
    " Find initial neighbors and calculate differential expression\n",
    "- NOTE: trim: Set to 0 to skip default 10. trims neighbours of cells can help to identify individual populations. Lower value more population but more batch\n",
    "- NOTE: n_pcs: number of pca dimensions"
   ]
  },
  {
   "cell_type": "code",
   "execution_count": null,
   "id": "362fabd0",
   "metadata": {},
   "outputs": [],
   "source": [
    "if n_pcs is None:\n",
    "    n_pcs = tools.define_PC(adata)"
   ]
  },
  {
   "cell_type": "code",
   "execution_count": null,
   "id": "afc6c3bf",
   "metadata": {},
   "outputs": [],
   "source": [
    "ax = pl.plot_pca_variance(adata, n_selected=n_pcs, save=\"PC_selection.pdf\")"
   ]
  },
  {
   "cell_type": "code",
   "execution_count": null,
   "id": "ae489e40",
   "metadata": {},
   "outputs": [],
   "source": [
    "# Subset PCA\n",
    "tools.subset_PCA(adata, n_pcs, start=first_pc)"
   ]
  },
  {
   "cell_type": "markdown",
   "id": "bdeca85b",
   "metadata": {},
   "source": [
    "## Calc Neighbours"
   ]
  },
  {
   "cell_type": "code",
   "execution_count": null,
   "id": "dad3bb09",
   "metadata": {},
   "outputs": [],
   "source": [
    "# do we have to run neighbors again after batch correction?\n",
    "# # Change to module\n",
    "# if save_figs:\n",
    "#     epi.pl.pca_overview(adata, color=['nb_features'], show=False)\n",
    "#     #plt.savefig(f'{OUTPUT_FIGS}/pca_nb_features.png')\n",
    "#     plt.show()\n",
    "# else:\n",
    "#     epi.pl.pca_overview(adata, color=['nb_features'])"
   ]
  },
  {
   "cell_type": "code",
   "execution_count": null,
   "id": "7ecb9038",
   "metadata": {},
   "outputs": [],
   "source": [
    "sc.pp.neighbors(adata, n_neighbors=n_neighbors, n_pcs=n_pcs)"
   ]
  },
  {
   "cell_type": "markdown",
   "id": "652f72f0",
   "metadata": {},
   "source": [
    "## UMAP"
   ]
  },
  {
   "cell_type": "code",
   "execution_count": null,
   "id": "fe4b718e",
   "metadata": {},
   "outputs": [],
   "source": [
    "if run_umap:\n",
    "    pl.search_umap_parameters(adata, \n",
    "                       min_dist_range=(0.1, 0.4, 0.1), \n",
    "                       spread_range=(2.0, 3.0, 0.5), \n",
    "                       color=metacol, \n",
    "                       n_components=2, \n",
    "                       verbose=True, \n",
    "                       threads=4, \n",
    "                       save=None)"
   ]
  },
  {
   "cell_type": "code",
   "execution_count": null,
   "id": "2f335f94",
   "metadata": {},
   "outputs": [],
   "source": [
    "# Choose final parameters\n",
    "min_dist = 0.2\n",
    "spread = 2.5"
   ]
  },
  {
   "cell_type": "code",
   "execution_count": null,
   "id": "c9a40b9f",
   "metadata": {},
   "outputs": [],
   "source": [
    "sc.tl.umap(adata, min_dist=min_dist, spread=spread)\n",
    "sc.pl.umap(adata, color=condition_column)"
   ]
  },
  {
   "cell_type": "markdown",
   "id": "0765a75e",
   "metadata": {},
   "source": [
    "## Cell Clustering\n",
    "- NOTE: resolution: controls the coarseness of the clustering. Higher values lead to more clusters."
   ]
  },
  {
   "cell_type": "code",
   "execution_count": null,
   "id": "11c56436",
   "metadata": {},
   "outputs": [],
   "source": [
    "# plot different clustering resolutions\n",
    "if search_clustering_parameters:\n",
    "    pl.search_clustering_parameters(adata, ncols=4, method=method)"
   ]
  },
  {
   "cell_type": "code",
   "execution_count": null,
   "id": "623403df",
   "metadata": {},
   "outputs": [],
   "source": [
    "# choose final resolution\n",
    "resolution = \"0.1\""
   ]
  },
  {
   "cell_type": "code",
   "execution_count": null,
   "id": "3831312a",
   "metadata": {},
   "outputs": [],
   "source": [
    "clustering_column = \"leiden_\" + str(resolution)\n",
    "adata.uns['sctoolbox']['clustering'] = [clustering_column]"
   ]
  },
  {
   "cell_type": "markdown",
   "id": "698cb799",
   "metadata": {},
   "source": [
    "### Reclustering\n",
    "- Based on the last two plots, mainly the heatmap, decide how to make reclusterization."
   ]
  },
  {
   "cell_type": "code",
   "execution_count": null,
   "id": "be3478dc",
   "metadata": {},
   "outputs": [],
   "source": [
    "#recluster_dec = input('Do you want to recluster? answer with yes or no: ')\n",
    "recluster_dec = \"no\""
   ]
  },
  {
   "cell_type": "code",
   "execution_count": null,
   "id": "dc98c62c",
   "metadata": {},
   "outputs": [],
   "source": [
    "if recluster_dec.lower() == 'yes':\n",
    "    recluster_cols = input('Which clusters do you want to recluster? Enter cluster numbers sperated by commas: ')\n",
    "    recluster_cols = recluster_cols.split(',')\n",
    "    join_split = input(\"Do you want to join or split the clusters? \")\n",
    "    tools.recluster(adata, clustering_column, recluster_cols, task=join_split)\n",
    "    clustering_column += \"_recluster\"  #update clustering column"
   ]
  },
  {
   "cell_type": "code",
   "execution_count": null,
   "id": "3a54e7ef",
   "metadata": {},
   "outputs": [],
   "source": [
    "#Create final clustering\n",
    "adata.obs[\"clustering\"] = utils.rename_categories(adata.obs[clustering_column])"
   ]
  },
  {
   "cell_type": "markdown",
   "id": "c58a4d35",
   "metadata": {},
   "source": [
    "### Final clustering"
   ]
  },
  {
   "cell_type": "code",
   "execution_count": null,
   "id": "4d2b0c49",
   "metadata": {},
   "outputs": [],
   "source": [
    "#Plot final leiden\n",
    "sc.pl.umap(adata, color=[condition_column, \"clustering\"])\n",
    "#utils.save_figure(figure_path + \"umap_final.pdf\")"
   ]
  },
  {
   "cell_type": "markdown",
   "id": "65260724",
   "metadata": {},
   "source": [
    "## Plot distribution of cells across clusters"
   ]
  },
  {
   "cell_type": "code",
   "execution_count": null,
   "id": "a9ce70d1",
   "metadata": {},
   "outputs": [],
   "source": [
    "# n_cells_barplot(adata, \"clustering\", groupby=condition_column)\n",
    "#                    save=figure_path + \"cell_distribution_barplot.pdf\")\n"
   ]
  },
  {
   "cell_type": "markdown",
   "id": "c8f90f0f",
   "metadata": {},
   "source": [
    "## Save anndata"
   ]
  },
  {
   "cell_type": "code",
   "execution_count": null,
   "id": "feefd913",
   "metadata": {},
   "outputs": [],
   "source": [
    "utils.save_h5ad(adata, \"anndata_4.h5ad\")"
   ]
  },
  {
   "cell_type": "code",
   "execution_count": null,
   "id": "7d50b06d",
   "metadata": {},
   "outputs": [],
   "source": []
  }
 ],
 "metadata": {
  "kernelspec": {
   "display_name": "Python 3 (ipykernel)",
   "language": "python",
   "name": "python3"
  },
  "language_info": {
   "codemirror_mode": {
    "name": "ipython",
    "version": 3
   },
   "file_extension": ".py",
   "mimetype": "text/x-python",
   "name": "python",
   "nbconvert_exporter": "python",
   "pygments_lexer": "ipython3",
   "version": "3.7.12"
  }
 },
 "nbformat": 4,
 "nbformat_minor": 5
}
