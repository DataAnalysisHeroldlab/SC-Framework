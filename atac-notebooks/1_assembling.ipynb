{
 "cells": [
  {
   "cell_type": "markdown",
   "id": "bf52b2e2",
   "metadata": {
    "pycharm": {
     "name": "#%% md\n"
    }
   },
   "source": [
    "# Assembling\n",
    "\n",
    "This notebook is used to assemble a processable h5ad object for subsequent notebooks."
   ]
  },
  {
   "cell_type": "markdown",
   "id": "c9e8b8fd",
   "metadata": {
    "pycharm": {
     "name": "#%% md\n"
    }
   },
   "source": [
    "## Fill in input data, output and settings"
   ]
  },
  {
   "cell_type": "code",
   "execution_count": null,
   "id": "e99acf34",
   "metadata": {},
   "outputs": [],
   "source": [
    "#Path related settings (these should be the same as for the previous notebook)\n",
    "output_dir = '/mnt/workspace/jdetlef/ext_ana/processed' # specify the output directory of the processing should be the same in every notebook\n",
    "test = 'all' # sample name, this should be the same for all the notebooks"
   ]
  },
  {
   "cell_type": "code",
   "execution_count": 4,
   "id": "120c0f22",
   "metadata": {
    "pycharm": {
     "name": "#%%\n"
    }
   },
   "outputs": [],
   "source": [
    "################### DEFINING STRATEGY ###############################\n",
    "from_h5ad = True #option 1\n",
    "assembling_10_velocity = False #option 2\n",
    "assembling_10_public = False #option 3\n",
    "convert_seurat = False #option 4\n",
    "\n",
    "###################### INPUT DATA ###################################\n",
    "\n",
    "# For option 1: The path to an existing .h5ad file\n",
    "h5ad_files = ['/mnt/agnerds/PROJECTS/extern/ext442_scATAC_Glaser_11_22/preprocessing_output/data/all_annotated_peaks.h5ad']\n",
    "from_snapatac = False # This is True when the sample is preprocessed using SnapATAC\n",
    "\n",
    "# Manually set existing QC Columns\n",
    "n_features_by_counts = None\n",
    "log1p_n_features_by_counts = None\n",
    "total_counts = None\n",
    "log1p_total_counts = None\n",
    "mean_insertsize = None\n",
    "insertsize_count = None\n",
    "n_total_fragments = None\n",
    "n_fragments_in_promoters = None\n",
    "pct_fragments_in_promoters = None\n",
    "blacklist_overlaps = None\n",
    "# total_number_of_fragments\n",
    "TN = None # 'TN'\n",
    "# uniquely_mapped_fragments\n",
    "UM = None # 'UM'\n",
    "# properly_paired_fragments\n",
    "PP = None # 'PP'\n",
    "# uniq_fragments\n",
    "UQ = None # 'UQ'\n",
    "# chrM_fragments\n",
    "CM = None # 'CM'\n",
    "\n",
    "#################### Calc QC Columns ###############################\n",
    "# set available number of threads\n",
    "n_threads = 8\n",
    "\n",
    "# Step 1: QC Metrics\n",
    "calc_qc_metrics = True # set True if the QC metrics should be calculated \n",
    "\n",
    "# Step 2 & 3\n",
    "use_bam = True # False if fragments should be used\n",
    "barcode_tag = 'SB' # set the tag where to find the barcode to use\n",
    "# if Step 2, 3 or both is executed specify either a BAM file or a fragments file:\n",
    "bam_file = '/mnt/workspace/jdetlef/ext_ana/ext442/all.bam' # specify bamfile of the corresponding alignment\n",
    "fragments_file = '/mnt/workspace/jdetlef/ext_ana/ext442/all_fragments_sorted.bed' # specify fragments file (if this is possible use the fragments file directly)\n",
    "\n",
    "# Step 2: Mean Insertsizes\n",
    "calc_mean_insertsize = True # set True if the mean insertsize should be calculated\n",
    "\n",
    "# Step 3: Promotor-enrichment\n",
    "calc_promotor_enrichment = False # set True if the promotor-enrichment should be calculated\n",
    "# specify promotors_gtf if another promoter than the fixed ones should be used\n",
    "# if promotors is None please specify species\n",
    "promoters_gtf = '/mnt/workspace/jdetlef/ext_ana/mus_musculus.104.promoters2000.gtf'\n",
    "species = None"
   ]
  },
  {
   "cell_type": "markdown",
   "id": "6d6dd817",
   "metadata": {
    "pycharm": {
     "name": "#%% md\n"
    }
   },
   "source": [
    "## Import modules"
   ]
  },
  {
   "cell_type": "code",
   "execution_count": 5,
   "id": "c997211a",
   "metadata": {
    "pycharm": {
     "name": "#%%\n"
    }
   },
   "outputs": [],
   "source": [
    "# sctoolbox modules \n",
    "import sctoolbox.atac_tree as sub_tree\n",
    "import sctoolbox.creators as cr\n",
    "import sctoolbox.fragment_length as fragments\n",
    "import sctoolbox.atac as atac\n",
    "import sctoolbox.calc_overlap_pct as overlap\n",
    "import sctoolbox.analyser \n",
    "from sctoolbox.qc_filter import *\n",
    "from sctoolbox.atac_utils import *\n",
    "# import episcanpy\n",
    "import episcanpy as epi"
   ]
  },
  {
   "cell_type": "markdown",
   "id": "4fc0e3d7",
   "metadata": {
    "pycharm": {
     "name": "#%% md\n"
    }
   },
   "source": [
    "## Setup path handling object "
   ]
  },
  {
   "cell_type": "code",
   "execution_count": null,
   "id": "880c04fb",
   "metadata": {
    "pycharm": {
     "name": "#%%\n"
    }
   },
   "outputs": [],
   "source": [
    "# make an instance of the class\n",
    "tree = sub_tree.ATAC_tree()\n",
    "# set processing/output directory\n",
    "tree.processing_dir = output_dir\n",
    "# set sample/experiment.. \n",
    "tree.run = test"
   ]
  },
  {
   "cell_type": "markdown",
   "id": "84b9cddf",
   "metadata": {
    "pycharm": {
     "name": "#%% md\n"
    }
   },
   "source": [
    "## Read in data"
   ]
  },
  {
   "cell_type": "markdown",
   "id": "7e7b43d6",
   "metadata": {
    "pycharm": {
     "name": "#%% md\n"
    }
   },
   "source": [
    "### Option 1: Read from .h5ad"
   ]
  },
  {
   "cell_type": "code",
   "execution_count": null,
   "id": "96a9a071",
   "metadata": {
    "pycharm": {
     "name": "#%%\n"
    }
   },
   "outputs": [],
   "source": [
    "qc_columns = {}\n",
    "qc_columns[\"n_features_by_counts\"] = n_features_by_counts\n",
    "qc_columns[\"log1p_n_features_by_counts\"] = log1p_n_features_by_counts\n",
    "qc_columns[\"total_counts\"] = total_counts\n",
    "qc_columns[\"log1p_total_counts\"] = log1p_total_counts\n",
    "qc_columns[\"mean_insertsize\"] = mean_insertsize\n",
    "qc_columns['n_total_fragments'] = n_total_fragments\n",
    "qc_columns['n_fragments_in_promoters'] = n_fragments_in_promoters\n",
    "qc_columns['pct_fragments_in_promoters'] = pct_fragments_in_promoters\n",
    "qc_columns[\"blacklist_overlaps\"] = blacklist_overlaps\n",
    "qc_columns[\"TN\"] = TN\n",
    "qc_columns[\"UM\"] = UM\n",
    "qc_columns[\"PP\"] = PP\n",
    "qc_columns[\"UQ\"] = UQ\n",
    "qc_columns[\"CM\"] = CM"
   ]
  },
  {
   "cell_type": "code",
   "execution_count": null,
   "id": "6b900535",
   "metadata": {},
   "outputs": [],
   "source": [
    "if from_h5ad:\n",
    "    \n",
    "    adata = assemble_from_h5ad(h5ad_files=h5ad_files, from_snapatac=from_snapatac, qc_columns=qc_columns)"
   ]
  },
  {
   "cell_type": "markdown",
   "id": "746f9da5",
   "metadata": {
    "pycharm": {
     "name": "#%% md\n"
    }
   },
   "source": [
    "## Inspect adata"
   ]
  },
  {
   "cell_type": "code",
   "execution_count": null,
   "id": "9e059525",
   "metadata": {
    "pycharm": {
     "name": "#%%\n"
    }
   },
   "outputs": [],
   "source": [
    "display(adata)"
   ]
  },
  {
   "cell_type": "code",
   "execution_count": null,
   "id": "d4ec8cb1",
   "metadata": {
    "pycharm": {
     "name": "#%%\n"
    }
   },
   "outputs": [],
   "source": [
    "display(adata.var)"
   ]
  },
  {
   "cell_type": "code",
   "execution_count": null,
   "id": "97a9760e",
   "metadata": {
    "pycharm": {
     "name": "#%%\n"
    }
   },
   "outputs": [],
   "source": [
    "display(adata.obs)"
   ]
  },
  {
   "cell_type": "markdown",
   "id": "3405de5d",
   "metadata": {
    "pycharm": {
     "name": "#%% md\n"
    }
   },
   "source": [
    "## Calculate missing columns"
   ]
  },
  {
   "cell_type": "markdown",
   "id": "e5d66924",
   "metadata": {},
   "source": [
    "### 1. calculate scanpy qc_metrics (n_features)"
   ]
  },
  {
   "cell_type": "code",
   "execution_count": null,
   "id": "d36a2d65",
   "metadata": {},
   "outputs": [],
   "source": [
    "if qc_columns['n_features_by_counts'] is None or qc_columns['log1p_n_features_by_counts'] is None and calc_qc_metrics:\n",
    "    adata = analyser.calculate_qc_metrics(adata, var_type='features')\n",
    "    \n",
    "    qc_columns['n_features_by_counts'] = 'n_features_by_counts'\n",
    "    qc_columns['log1p_n_features_by_counts'] = 'log1p_n_features_by_counts'\n",
    "    qc_columns['total_counts'] = 'total_counts'\n",
    "    qc_columns['log1p_total_counts'] = 'log1p_total_counts'\n",
    "    \n",
    "    build_legend(adata, 'n_features_by_counts', 'n_features_by_counts')\n",
    "    build_legend(adata, 'log1p_n_features_by_counts', 'log1p_n_features_by_counts')\n",
    "    build_legend(adata, 'total_counts', 'total_counts')\n",
    "    build_legend(adata, 'log1p_total_counts', 'log1p_total_counts')\n",
    "\n",
    "adata.obs"
   ]
  },
  {
   "cell_type": "markdown",
   "id": "a26513bb",
   "metadata": {
    "pycharm": {
     "name": "#%% md\n"
    }
   },
   "source": [
    "### 2. calc mean insertsize and count if missing "
   ]
  },
  {
   "cell_type": "code",
   "execution_count": null,
   "id": "c414cbec",
   "metadata": {},
   "outputs": [],
   "source": [
    "if (qc_columns['mean_insertsize'] is None or qc_columns['insertsize_count'] is None) and calc_mean_insertsize:\n",
    "    \n",
    "    if use_bam:\n",
    "        atac.add_insertsize(adata, bam=bam_file, barcode_tag=barcode_tag)     \n",
    "    else:\n",
    "        atac.add_insertsize(adata, fragments=fragments_file, barcode_tag=barcode_tag)\n",
    "        \n",
    "    # update column dictionary\n",
    "    qc_columns['mean_insertsize'] = 'mean_insertsize'\n",
    "    qc_columns['insertsize_count'] = 'insertsize_count'\n",
    "    \n",
    "    # update infoprocess table\n",
    "    build_legend(adata, 'mean_insertsize', 'mean_insertsize')\n",
    "    build_legend(adata, 'insertsize_count', 'insertsize_count')\n",
    "    \n",
    "    atac.plot_insertsize(adata, barcodes=None)\n",
    "    \n",
    "adata.obs"
   ]
  },
  {
   "cell_type": "markdown",
   "id": "5a1bfbd4",
   "metadata": {
    "pycharm": {
     "name": "#%% md\n"
    }
   },
   "source": [
    "### 3. promotor enrichment "
   ]
  },
  {
   "cell_type": "code",
   "execution_count": null,
   "id": "bee812e1",
   "metadata": {
    "pycharm": {
     "name": "#%%\n"
    }
   },
   "outputs": [],
   "source": [
    "if qc_columns['n_fragments_in_promoters'] is None and calc_promotor_enrichment:\n",
    "    \n",
    "    if use_bam:\n",
    "        overlap.pct_fragments_in_promoters(adata, gtf_file=promoters_gtf, species=species, bam_file=bam_file, cb_col=None, nproc=1, cb_tag=barcode_tag)\n",
    "    else:\n",
    "        overlap.pct_fragments_in_promoters(adata, gtf_file=promoters_gtf, species=species, fragments_file=fragments_file, cb_col=None, nproc=1, cb_tag=barcode_tag)\n",
    "    \n",
    "    # n_total_fragments, n_fragments_in_promoters, pct_fragments_in_promoters\n",
    "    # update column dictionary\n",
    "    qc_columns['n_total_fragments'] = 'n_total_fragments'\n",
    "    qc_columns['n_fragments_in_promoters'] = 'n_fragments_in_promoters'\n",
    "    qc_columns['pct_fragments_in_promoters'] = 'pct_fragments_in_promoters'\n",
    "    # update infoprocess table\n",
    "    build_legend(adata, 'n_total_fragments', 'n_total_fragments')\n",
    "    build_legend(adata, 'n_fragments_in_promoters', 'n_fragments_in_promoters')\n",
    "    build_legend(adata, 'pct_fragments_in_promoters', 'pct_fragments_in_promoters')\n",
    "    "
   ]
  },
  {
   "cell_type": "markdown",
   "id": "4451f816",
   "metadata": {
    "pycharm": {
     "name": "#%% md\n"
    }
   },
   "source": [
    "## Inspect adata.obs"
   ]
  },
  {
   "cell_type": "code",
   "execution_count": 12,
   "id": "e0b1e1d1",
   "metadata": {
    "pycharm": {
     "name": "#%%\n"
    }
   },
   "outputs": [
    {
     "data": {
      "text/html": [
       "<div>\n",
       "<style scoped>\n",
       "    .dataframe tbody tr th:only-of-type {\n",
       "        vertical-align: middle;\n",
       "    }\n",
       "\n",
       "    .dataframe tbody tr th {\n",
       "        vertical-align: top;\n",
       "    }\n",
       "\n",
       "    .dataframe thead th {\n",
       "        text-align: right;\n",
       "    }\n",
       "</style>\n",
       "<table border=\"1\" class=\"dataframe\">\n",
       "  <thead>\n",
       "    <tr style=\"text-align: right;\">\n",
       "      <th></th>\n",
       "      <th>chr1_reads</th>\n",
       "      <th>chr10_reads</th>\n",
       "      <th>chr11_reads</th>\n",
       "      <th>chr12_reads</th>\n",
       "      <th>chr13_reads</th>\n",
       "      <th>chr14_reads</th>\n",
       "      <th>chr15_reads</th>\n",
       "      <th>chr16_reads</th>\n",
       "      <th>chr17_reads</th>\n",
       "      <th>chr18_reads</th>\n",
       "      <th>...</th>\n",
       "      <th>condition</th>\n",
       "      <th>date</th>\n",
       "      <th>file</th>\n",
       "      <th>sample</th>\n",
       "      <th>n_features_by_counts</th>\n",
       "      <th>log1p_n_features_by_counts</th>\n",
       "      <th>total_counts</th>\n",
       "      <th>log1p_total_counts</th>\n",
       "      <th>insertsize_count</th>\n",
       "      <th>mean_insertsize</th>\n",
       "    </tr>\n",
       "    <tr>\n",
       "      <th>barcode</th>\n",
       "      <th></th>\n",
       "      <th></th>\n",
       "      <th></th>\n",
       "      <th></th>\n",
       "      <th></th>\n",
       "      <th></th>\n",
       "      <th></th>\n",
       "      <th></th>\n",
       "      <th></th>\n",
       "      <th></th>\n",
       "      <th></th>\n",
       "      <th></th>\n",
       "      <th></th>\n",
       "      <th></th>\n",
       "      <th></th>\n",
       "      <th></th>\n",
       "      <th></th>\n",
       "      <th></th>\n",
       "      <th></th>\n",
       "      <th></th>\n",
       "      <th></th>\n",
       "    </tr>\n",
       "  </thead>\n",
       "  <tbody>\n",
       "    <tr>\n",
       "      <th>CCATGATGAATCTGTG-sample1</th>\n",
       "      <td>5930</td>\n",
       "      <td>5367</td>\n",
       "      <td>657</td>\n",
       "      <td>2109</td>\n",
       "      <td>14960</td>\n",
       "      <td>3999</td>\n",
       "      <td>15397</td>\n",
       "      <td>6899</td>\n",
       "      <td>4282</td>\n",
       "      <td>6064</td>\n",
       "      <td>...</td>\n",
       "      <td>AMI</td>\n",
       "      <td>08.12.2022</td>\n",
       "      <td>/mnt/agnerds/PROJECTS/extern/ext442_scATAC_Gla...</td>\n",
       "      <td>sample1</td>\n",
       "      <td>2172</td>\n",
       "      <td>7.683864</td>\n",
       "      <td>6863.0</td>\n",
       "      <td>8.834045</td>\n",
       "      <td>103440</td>\n",
       "      <td>74.79</td>\n",
       "    </tr>\n",
       "    <tr>\n",
       "      <th>AACACTGACATGGCCC-sample1</th>\n",
       "      <td>2984</td>\n",
       "      <td>2716</td>\n",
       "      <td>4065</td>\n",
       "      <td>1765</td>\n",
       "      <td>1107</td>\n",
       "      <td>2592</td>\n",
       "      <td>1374</td>\n",
       "      <td>1751</td>\n",
       "      <td>2946</td>\n",
       "      <td>2470</td>\n",
       "      <td>...</td>\n",
       "      <td>AMI</td>\n",
       "      <td>08.12.2022</td>\n",
       "      <td>/mnt/agnerds/PROJECTS/extern/ext442_scATAC_Gla...</td>\n",
       "      <td>sample1</td>\n",
       "      <td>5574</td>\n",
       "      <td>8.626048</td>\n",
       "      <td>13178.0</td>\n",
       "      <td>9.486380</td>\n",
       "      <td>52725</td>\n",
       "      <td>97.18</td>\n",
       "    </tr>\n",
       "    <tr>\n",
       "      <th>TGTTATCACGCTAGAG-sample1</th>\n",
       "      <td>4786</td>\n",
       "      <td>4055</td>\n",
       "      <td>3375</td>\n",
       "      <td>4053</td>\n",
       "      <td>3294</td>\n",
       "      <td>3010</td>\n",
       "      <td>3192</td>\n",
       "      <td>2737</td>\n",
       "      <td>3509</td>\n",
       "      <td>2867</td>\n",
       "      <td>...</td>\n",
       "      <td>AMI</td>\n",
       "      <td>08.12.2022</td>\n",
       "      <td>/mnt/agnerds/PROJECTS/extern/ext442_scATAC_Gla...</td>\n",
       "      <td>sample1</td>\n",
       "      <td>3766</td>\n",
       "      <td>8.234034</td>\n",
       "      <td>8689.0</td>\n",
       "      <td>9.069928</td>\n",
       "      <td>72798</td>\n",
       "      <td>85.66</td>\n",
       "    </tr>\n",
       "    <tr>\n",
       "      <th>GAACTACTGTATTGCG-sample1</th>\n",
       "      <td>1564</td>\n",
       "      <td>612</td>\n",
       "      <td>2039</td>\n",
       "      <td>2309</td>\n",
       "      <td>1834</td>\n",
       "      <td>2987</td>\n",
       "      <td>1444</td>\n",
       "      <td>907</td>\n",
       "      <td>1517</td>\n",
       "      <td>1515</td>\n",
       "      <td>...</td>\n",
       "      <td>AMI</td>\n",
       "      <td>08.12.2022</td>\n",
       "      <td>/mnt/agnerds/PROJECTS/extern/ext442_scATAC_Gla...</td>\n",
       "      <td>sample1</td>\n",
       "      <td>401</td>\n",
       "      <td>5.996452</td>\n",
       "      <td>973.0</td>\n",
       "      <td>6.881412</td>\n",
       "      <td>40342</td>\n",
       "      <td>83.40</td>\n",
       "    </tr>\n",
       "    <tr>\n",
       "      <th>CATCCGTACCCTCCTA-sample1</th>\n",
       "      <td>3038</td>\n",
       "      <td>4102</td>\n",
       "      <td>3801</td>\n",
       "      <td>3877</td>\n",
       "      <td>2740</td>\n",
       "      <td>3516</td>\n",
       "      <td>1378</td>\n",
       "      <td>1737</td>\n",
       "      <td>1738</td>\n",
       "      <td>2111</td>\n",
       "      <td>...</td>\n",
       "      <td>AMI</td>\n",
       "      <td>08.12.2022</td>\n",
       "      <td>/mnt/agnerds/PROJECTS/extern/ext442_scATAC_Gla...</td>\n",
       "      <td>sample1</td>\n",
       "      <td>6556</td>\n",
       "      <td>8.788288</td>\n",
       "      <td>17439.0</td>\n",
       "      <td>9.766521</td>\n",
       "      <td>61423</td>\n",
       "      <td>81.68</td>\n",
       "    </tr>\n",
       "    <tr>\n",
       "      <th>...</th>\n",
       "      <td>...</td>\n",
       "      <td>...</td>\n",
       "      <td>...</td>\n",
       "      <td>...</td>\n",
       "      <td>...</td>\n",
       "      <td>...</td>\n",
       "      <td>...</td>\n",
       "      <td>...</td>\n",
       "      <td>...</td>\n",
       "      <td>...</td>\n",
       "      <td>...</td>\n",
       "      <td>...</td>\n",
       "      <td>...</td>\n",
       "      <td>...</td>\n",
       "      <td>...</td>\n",
       "      <td>...</td>\n",
       "      <td>...</td>\n",
       "      <td>...</td>\n",
       "      <td>...</td>\n",
       "      <td>...</td>\n",
       "      <td>...</td>\n",
       "    </tr>\n",
       "    <tr>\n",
       "      <th>GACCACTCTGAAGGTC-sample8</th>\n",
       "      <td>559</td>\n",
       "      <td>337</td>\n",
       "      <td>1277</td>\n",
       "      <td>405</td>\n",
       "      <td>833</td>\n",
       "      <td>307</td>\n",
       "      <td>486</td>\n",
       "      <td>635</td>\n",
       "      <td>38</td>\n",
       "      <td>605</td>\n",
       "      <td>...</td>\n",
       "      <td>control</td>\n",
       "      <td>09.12.2022</td>\n",
       "      <td>/mnt/agnerds/PROJECTS/extern/ext442_scATAC_Gla...</td>\n",
       "      <td>sample1</td>\n",
       "      <td>1605</td>\n",
       "      <td>7.381502</td>\n",
       "      <td>3151.0</td>\n",
       "      <td>8.055793</td>\n",
       "      <td>10749</td>\n",
       "      <td>120.48</td>\n",
       "    </tr>\n",
       "    <tr>\n",
       "      <th>GCCAATTGACAGCACC-sample8</th>\n",
       "      <td>1790</td>\n",
       "      <td>3518</td>\n",
       "      <td>5730</td>\n",
       "      <td>1893</td>\n",
       "      <td>2581</td>\n",
       "      <td>2134</td>\n",
       "      <td>2472</td>\n",
       "      <td>1814</td>\n",
       "      <td>2404</td>\n",
       "      <td>3073</td>\n",
       "      <td>...</td>\n",
       "      <td>control</td>\n",
       "      <td>09.12.2022</td>\n",
       "      <td>/mnt/agnerds/PROJECTS/extern/ext442_scATAC_Gla...</td>\n",
       "      <td>sample1</td>\n",
       "      <td>7049</td>\n",
       "      <td>8.860783</td>\n",
       "      <td>16304.0</td>\n",
       "      <td>9.699227</td>\n",
       "      <td>65569</td>\n",
       "      <td>86.21</td>\n",
       "    </tr>\n",
       "    <tr>\n",
       "      <th>GCGTCGATGTGTCACA-sample8</th>\n",
       "      <td>52</td>\n",
       "      <td>32</td>\n",
       "      <td>1709</td>\n",
       "      <td>3924</td>\n",
       "      <td>2324</td>\n",
       "      <td>2026</td>\n",
       "      <td>18</td>\n",
       "      <td>1344</td>\n",
       "      <td>2029</td>\n",
       "      <td>1563</td>\n",
       "      <td>...</td>\n",
       "      <td>control</td>\n",
       "      <td>09.12.2022</td>\n",
       "      <td>/mnt/agnerds/PROJECTS/extern/ext442_scATAC_Gla...</td>\n",
       "      <td>sample1</td>\n",
       "      <td>1264</td>\n",
       "      <td>7.142827</td>\n",
       "      <td>2617.0</td>\n",
       "      <td>7.870166</td>\n",
       "      <td>33161</td>\n",
       "      <td>91.83</td>\n",
       "    </tr>\n",
       "    <tr>\n",
       "      <th>GACTACCCTCGCCACA-sample8</th>\n",
       "      <td>226</td>\n",
       "      <td>258</td>\n",
       "      <td>378</td>\n",
       "      <td>152</td>\n",
       "      <td>301</td>\n",
       "      <td>206</td>\n",
       "      <td>194</td>\n",
       "      <td>203</td>\n",
       "      <td>143</td>\n",
       "      <td>90</td>\n",
       "      <td>...</td>\n",
       "      <td>control</td>\n",
       "      <td>09.12.2022</td>\n",
       "      <td>/mnt/agnerds/PROJECTS/extern/ext442_scATAC_Gla...</td>\n",
       "      <td>sample1</td>\n",
       "      <td>730</td>\n",
       "      <td>6.594413</td>\n",
       "      <td>1384.0</td>\n",
       "      <td>7.233456</td>\n",
       "      <td>4656</td>\n",
       "      <td>128.21</td>\n",
       "    </tr>\n",
       "    <tr>\n",
       "      <th>GTCGGCTGAGTCCCGA-sample8</th>\n",
       "      <td>20</td>\n",
       "      <td>16</td>\n",
       "      <td>529</td>\n",
       "      <td>14</td>\n",
       "      <td>221</td>\n",
       "      <td>154</td>\n",
       "      <td>427</td>\n",
       "      <td>336</td>\n",
       "      <td>472</td>\n",
       "      <td>438</td>\n",
       "      <td>...</td>\n",
       "      <td>control</td>\n",
       "      <td>09.12.2022</td>\n",
       "      <td>/mnt/agnerds/PROJECTS/extern/ext442_scATAC_Gla...</td>\n",
       "      <td>sample1</td>\n",
       "      <td>1211</td>\n",
       "      <td>7.100027</td>\n",
       "      <td>2460.0</td>\n",
       "      <td>7.808323</td>\n",
       "      <td>6183</td>\n",
       "      <td>89.90</td>\n",
       "    </tr>\n",
       "  </tbody>\n",
       "</table>\n",
       "<p>80317 rows × 36 columns</p>\n",
       "</div>"
      ],
      "text/plain": [
       "                          chr1_reads  chr10_reads  chr11_reads  chr12_reads  \\\n",
       "barcode                                                                       \n",
       "CCATGATGAATCTGTG-sample1        5930         5367          657         2109   \n",
       "AACACTGACATGGCCC-sample1        2984         2716         4065         1765   \n",
       "TGTTATCACGCTAGAG-sample1        4786         4055         3375         4053   \n",
       "GAACTACTGTATTGCG-sample1        1564          612         2039         2309   \n",
       "CATCCGTACCCTCCTA-sample1        3038         4102         3801         3877   \n",
       "...                              ...          ...          ...          ...   \n",
       "GACCACTCTGAAGGTC-sample8         559          337         1277          405   \n",
       "GCCAATTGACAGCACC-sample8        1790         3518         5730         1893   \n",
       "GCGTCGATGTGTCACA-sample8          52           32         1709         3924   \n",
       "GACTACCCTCGCCACA-sample8         226          258          378          152   \n",
       "GTCGGCTGAGTCCCGA-sample8          20           16          529           14   \n",
       "\n",
       "                          chr13_reads  chr14_reads  chr15_reads  chr16_reads  \\\n",
       "barcode                                                                        \n",
       "CCATGATGAATCTGTG-sample1        14960         3999        15397         6899   \n",
       "AACACTGACATGGCCC-sample1         1107         2592         1374         1751   \n",
       "TGTTATCACGCTAGAG-sample1         3294         3010         3192         2737   \n",
       "GAACTACTGTATTGCG-sample1         1834         2987         1444          907   \n",
       "CATCCGTACCCTCCTA-sample1         2740         3516         1378         1737   \n",
       "...                               ...          ...          ...          ...   \n",
       "GACCACTCTGAAGGTC-sample8          833          307          486          635   \n",
       "GCCAATTGACAGCACC-sample8         2581         2134         2472         1814   \n",
       "GCGTCGATGTGTCACA-sample8         2324         2026           18         1344   \n",
       "GACTACCCTCGCCACA-sample8          301          206          194          203   \n",
       "GTCGGCTGAGTCCCGA-sample8          221          154          427          336   \n",
       "\n",
       "                          chr17_reads  chr18_reads  ...  condition  \\\n",
       "barcode                                             ...              \n",
       "CCATGATGAATCTGTG-sample1         4282         6064  ...        AMI   \n",
       "AACACTGACATGGCCC-sample1         2946         2470  ...        AMI   \n",
       "TGTTATCACGCTAGAG-sample1         3509         2867  ...        AMI   \n",
       "GAACTACTGTATTGCG-sample1         1517         1515  ...        AMI   \n",
       "CATCCGTACCCTCCTA-sample1         1738         2111  ...        AMI   \n",
       "...                               ...          ...  ...        ...   \n",
       "GACCACTCTGAAGGTC-sample8           38          605  ...    control   \n",
       "GCCAATTGACAGCACC-sample8         2404         3073  ...    control   \n",
       "GCGTCGATGTGTCACA-sample8         2029         1563  ...    control   \n",
       "GACTACCCTCGCCACA-sample8          143           90  ...    control   \n",
       "GTCGGCTGAGTCCCGA-sample8          472          438  ...    control   \n",
       "\n",
       "                                date  \\\n",
       "barcode                                \n",
       "CCATGATGAATCTGTG-sample1  08.12.2022   \n",
       "AACACTGACATGGCCC-sample1  08.12.2022   \n",
       "TGTTATCACGCTAGAG-sample1  08.12.2022   \n",
       "GAACTACTGTATTGCG-sample1  08.12.2022   \n",
       "CATCCGTACCCTCCTA-sample1  08.12.2022   \n",
       "...                              ...   \n",
       "GACCACTCTGAAGGTC-sample8  09.12.2022   \n",
       "GCCAATTGACAGCACC-sample8  09.12.2022   \n",
       "GCGTCGATGTGTCACA-sample8  09.12.2022   \n",
       "GACTACCCTCGCCACA-sample8  09.12.2022   \n",
       "GTCGGCTGAGTCCCGA-sample8  09.12.2022   \n",
       "\n",
       "                                                                       file  \\\n",
       "barcode                                                                       \n",
       "CCATGATGAATCTGTG-sample1  /mnt/agnerds/PROJECTS/extern/ext442_scATAC_Gla...   \n",
       "AACACTGACATGGCCC-sample1  /mnt/agnerds/PROJECTS/extern/ext442_scATAC_Gla...   \n",
       "TGTTATCACGCTAGAG-sample1  /mnt/agnerds/PROJECTS/extern/ext442_scATAC_Gla...   \n",
       "GAACTACTGTATTGCG-sample1  /mnt/agnerds/PROJECTS/extern/ext442_scATAC_Gla...   \n",
       "CATCCGTACCCTCCTA-sample1  /mnt/agnerds/PROJECTS/extern/ext442_scATAC_Gla...   \n",
       "...                                                                     ...   \n",
       "GACCACTCTGAAGGTC-sample8  /mnt/agnerds/PROJECTS/extern/ext442_scATAC_Gla...   \n",
       "GCCAATTGACAGCACC-sample8  /mnt/agnerds/PROJECTS/extern/ext442_scATAC_Gla...   \n",
       "GCGTCGATGTGTCACA-sample8  /mnt/agnerds/PROJECTS/extern/ext442_scATAC_Gla...   \n",
       "GACTACCCTCGCCACA-sample8  /mnt/agnerds/PROJECTS/extern/ext442_scATAC_Gla...   \n",
       "GTCGGCTGAGTCCCGA-sample8  /mnt/agnerds/PROJECTS/extern/ext442_scATAC_Gla...   \n",
       "\n",
       "                           sample  n_features_by_counts  \\\n",
       "barcode                                                   \n",
       "CCATGATGAATCTGTG-sample1  sample1                  2172   \n",
       "AACACTGACATGGCCC-sample1  sample1                  5574   \n",
       "TGTTATCACGCTAGAG-sample1  sample1                  3766   \n",
       "GAACTACTGTATTGCG-sample1  sample1                   401   \n",
       "CATCCGTACCCTCCTA-sample1  sample1                  6556   \n",
       "...                           ...                   ...   \n",
       "GACCACTCTGAAGGTC-sample8  sample1                  1605   \n",
       "GCCAATTGACAGCACC-sample8  sample1                  7049   \n",
       "GCGTCGATGTGTCACA-sample8  sample1                  1264   \n",
       "GACTACCCTCGCCACA-sample8  sample1                   730   \n",
       "GTCGGCTGAGTCCCGA-sample8  sample1                  1211   \n",
       "\n",
       "                          log1p_n_features_by_counts  total_counts  \\\n",
       "barcode                                                              \n",
       "CCATGATGAATCTGTG-sample1                    7.683864        6863.0   \n",
       "AACACTGACATGGCCC-sample1                    8.626048       13178.0   \n",
       "TGTTATCACGCTAGAG-sample1                    8.234034        8689.0   \n",
       "GAACTACTGTATTGCG-sample1                    5.996452         973.0   \n",
       "CATCCGTACCCTCCTA-sample1                    8.788288       17439.0   \n",
       "...                                              ...           ...   \n",
       "GACCACTCTGAAGGTC-sample8                    7.381502        3151.0   \n",
       "GCCAATTGACAGCACC-sample8                    8.860783       16304.0   \n",
       "GCGTCGATGTGTCACA-sample8                    7.142827        2617.0   \n",
       "GACTACCCTCGCCACA-sample8                    6.594413        1384.0   \n",
       "GTCGGCTGAGTCCCGA-sample8                    7.100027        2460.0   \n",
       "\n",
       "                          log1p_total_counts  insertsize_count  \\\n",
       "barcode                                                          \n",
       "CCATGATGAATCTGTG-sample1            8.834045            103440   \n",
       "AACACTGACATGGCCC-sample1            9.486380             52725   \n",
       "TGTTATCACGCTAGAG-sample1            9.069928             72798   \n",
       "GAACTACTGTATTGCG-sample1            6.881412             40342   \n",
       "CATCCGTACCCTCCTA-sample1            9.766521             61423   \n",
       "...                                      ...               ...   \n",
       "GACCACTCTGAAGGTC-sample8            8.055793             10749   \n",
       "GCCAATTGACAGCACC-sample8            9.699227             65569   \n",
       "GCGTCGATGTGTCACA-sample8            7.870166             33161   \n",
       "GACTACCCTCGCCACA-sample8            7.233456              4656   \n",
       "GTCGGCTGAGTCCCGA-sample8            7.808323              6183   \n",
       "\n",
       "                          mean_insertsize  \n",
       "barcode                                    \n",
       "CCATGATGAATCTGTG-sample1            74.79  \n",
       "AACACTGACATGGCCC-sample1            97.18  \n",
       "TGTTATCACGCTAGAG-sample1            85.66  \n",
       "GAACTACTGTATTGCG-sample1            83.40  \n",
       "CATCCGTACCCTCCTA-sample1            81.68  \n",
       "...                                   ...  \n",
       "GACCACTCTGAAGGTC-sample8           120.48  \n",
       "GCCAATTGACAGCACC-sample8            86.21  \n",
       "GCGTCGATGTGTCACA-sample8            91.83  \n",
       "GACTACCCTCGCCACA-sample8           128.21  \n",
       "GTCGGCTGAGTCCCGA-sample8            89.90  \n",
       "\n",
       "[80317 rows x 36 columns]"
      ]
     },
     "execution_count": 12,
     "metadata": {},
     "output_type": "execute_result"
    }
   ],
   "source": [
    "adata.obs"
   ]
  },
  {
   "cell_type": "markdown",
   "id": "dae390c8",
   "metadata": {
    "pycharm": {
     "name": "#%% md\n"
    }
   },
   "source": [
    "## Save adata to .h5ad"
   ]
  },
  {
   "cell_type": "code",
   "execution_count": 13,
   "id": "85e8cf07",
   "metadata": {
    "pycharm": {
     "name": "#%%\n"
    }
   },
   "outputs": [
    {
     "data": {
      "text/plain": [
       "'/mnt/workspace/jdetlef/ext_ana/processed/all/assembling/anndata/all.h5ad'"
      ]
     },
     "execution_count": 13,
     "metadata": {},
     "output_type": "execute_result"
    }
   ],
   "source": [
    "adata_output = tree.assembled_anndata\n",
    "adata_output"
   ]
  },
  {
   "cell_type": "code",
   "execution_count": 14,
   "id": "33800239",
   "metadata": {
    "pycharm": {
     "name": "#%%\n"
    }
   },
   "outputs": [],
   "source": [
    "#Saving the data\n",
    "cr.build_infor(adata, \"Test_number\", test)\n",
    "cr.build_infor(adata, \"Anndata_path\", output_dir)\n",
    "\n",
    "adata_output = tree.assembled_anndata\n",
    "adata.write(filename=adata_output)"
   ]
  },
  {
   "cell_type": "code",
   "execution_count": 7,
   "id": "c9437c45",
   "metadata": {},
   "outputs": [
    {
     "data": {
      "text/plain": [
       "'/mnt/workspace/jdetlef/ext_ana/processed/all/assembling/1_assembling.ipynb'"
      ]
     },
     "execution_count": 7,
     "metadata": {},
     "output_type": "execute_result"
    }
   ],
   "source": [
    "import os\n",
    "import shutil\n",
    "repo_path = os.getcwd()\n",
    "notebook_name = '1_assembling.ipynb'\n",
    "notebook_path = os.path.join(repo_path, notebook_name)\n",
    "notebook_copy = os.path.join(tree.assemble_dir , notebook_name)\n",
    "shutil.copyfile(notebook_path, notebook_copy)"
   ]
  },
  {
   "cell_type": "code",
   "execution_count": null,
   "id": "779d98ff",
   "metadata": {},
   "outputs": [],
   "source": []
  }
 ],
 "metadata": {
  "kernelspec": {
   "display_name": "single-cell-kernel",
   "language": "python",
   "name": "sc-env"
  },
  "language_info": {
   "codemirror_mode": {
    "name": "ipython",
    "version": 3
   },
   "file_extension": ".py",
   "mimetype": "text/x-python",
   "name": "python",
   "nbconvert_exporter": "python",
   "pygments_lexer": "ipython3",
   "version": "3.10.8"
  },
  "vscode": {
   "interpreter": {
    "hash": "dfe5b233e8d6b612e56e0501f5590cb08def4cd0b82a93d32e726fee69782c1d"
   }
  }
 },
 "nbformat": 4,
 "nbformat_minor": 5
}
