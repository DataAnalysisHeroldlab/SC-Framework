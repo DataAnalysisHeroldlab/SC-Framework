{
 "cells": [
  {
   "cell_type": "markdown",
   "id": "b7115117",
   "metadata": {},
   "source": [
    "# Annotation"
   ]
  },
  {
   "cell_type": "markdown",
   "id": "d3054d25",
   "metadata": {},
   "source": [
    "## Settings "
   ]
  },
  {
   "cell_type": "code",
   "execution_count": null,
   "id": "48f7424a",
   "metadata": {},
   "outputs": [],
   "source": [
    "sample = \"all\"\n",
    "# Gene annotation\n",
    "GTF_PATH = \"/mnt/flatfiles/organisms/new_organism/homo_sapiens/104/homo_sapiens.104.genes.gtf\"\n",
    "ENSEMBL_DATASET = \"auto\" # This is used for replaceing ensembl gene IDs with gene names if possible\n",
    "                         # Use \"auto\" to infer species from Ensembl ID or\n",
    "                         # use first letter of all words but complete last word e.g. hsapiens, mmusculus\n",
    "\n",
    "# Cell type annotation\n",
    "SPECIES = \"Hs\" # Currently only Hs (Homo Sapiens) and Mm (Mus Musculus) are available for custom cell type annotation\n",
    "SCSA_SPECIES = None # Currently only human (Homo Sapiens) and mouse (Mus Musculus) are available for SCSA\n",
    "                    # None if using a custom DB file\n",
    "# Optional custom database for SCSA\n",
    "SCSA_CUSTOM_DB_PATH = \"/mnt/workspace/mkessle/projects/marker_repo/dbs/mouse/panglao_all_mandatory_2020\"\n",
    "# Path to panglao markers\n",
    "PANGLAO_DB_PATH = \"/mnt/workspace/jdetlef/panglao_markers\"\n",
    "\n",
    "# The clustering resolutions which will be annotated\n",
    "RESOLUTIONS = \"leiden_0.4\" # Choose \"None\" to keep the selected clustering resolution from the previous notebook\n",
    "                           # You can also choose a column which contains the clustering information in the obs table\n",
    "                           # It is also possible to add more than one column (resolutions) by using a list of columns\n",
    "        \n",
    "MODIFY_CELL_TYPES = False # If true you get the opportunity to manually modify the automatic annotated cell types\n",
    "\n",
    "# Save figures\n",
    "save_figs = True"
   ]
  },
  {
   "cell_type": "markdown",
   "id": "a95d2b7e",
   "metadata": {},
   "source": [
    "## Loading packages and setup"
   ]
  },
  {
   "cell_type": "code",
   "execution_count": null,
   "id": "3f19a034",
   "metadata": {},
   "outputs": [],
   "source": [
    "import sctoolbox.utilities as utils\n",
    "import sctoolbox.annotation as annot\n",
    "import sctoolbox.custom_celltype_annotation as ctannot\n",
    "import sctoolbox.utilities as utils\n",
    "from sctoolbox.celltype_annotation import run_scsa\n",
    "import pandas as pd\n",
    "import episcanpy as epi\n",
    "import scanpy as sc\n",
    "from matplotlib import pyplot as plt\n",
    "import apybiomart\n",
    "import os\n",
    "import shutil\n",
    "\n",
    "\n",
    "utils.settings_from_config(\"config.yaml\", key=\"05\")\n",
    "anndata_dir = \"pipeline_output/annotation\""
   ]
  },
  {
   "cell_type": "markdown",
   "id": "db34991b",
   "metadata": {},
   "source": [
    "## Check files "
   ]
  },
  {
   "cell_type": "code",
   "execution_count": null,
   "id": "0da63ccc",
   "metadata": {},
   "outputs": [],
   "source": [
    "files = [GTF_PATH, SCSA_CUSTOM_DB_PATH, PANGLAO_DB_PATH]\n",
    "for file in files:\n",
    "    if os.path.isfile(file):\n",
    "        print(f\"{file} exists.\")\n",
    "    else:\n",
    "        print(f\"Please make sure that your input is correct. {file} does not exist.\")"
   ]
  },
  {
   "cell_type": "markdown",
   "id": "9bf25ce5",
   "metadata": {},
   "source": [
    "## Load anndata"
   ]
  },
  {
   "cell_type": "code",
   "execution_count": null,
   "id": "842fd6dd",
   "metadata": {},
   "outputs": [],
   "source": [
    "adata = utils.load_h5ad(\"anndata_4.h5ad\")\n",
    "display(adata)"
   ]
  },
  {
   "cell_type": "code",
   "execution_count": null,
   "id": "21ee35e6",
   "metadata": {},
   "outputs": [],
   "source": [
    "if RESOLUTIONS:\n",
    "    if type(RESOLUTIONS) == str:\n",
    "        RESOLUTIONS = [RESOLUTIONS]\n",
    "else:\n",
    "    RESOLUTIONS = adata.uns['infoprocess']['leiden_res']"
   ]
  },
  {
   "cell_type": "markdown",
   "id": "f98d8fb6",
   "metadata": {},
   "source": [
    "## Check columns"
   ]
  },
  {
   "cell_type": "code",
   "execution_count": null,
   "id": "735e94eb",
   "metadata": {},
   "outputs": [],
   "source": [
    "for column in RESOLUTIONS:\n",
    "    if column in adata.obs:\n",
    "        print(f\"The obs table contains the column {column}.\")\n",
    "    else:\n",
    "        print(f\"{column} was not found in the obs table. Please pick a valid column instead.\")"
   ]
  },
  {
   "cell_type": "code",
   "execution_count": null,
   "id": "afd06940",
   "metadata": {},
   "outputs": [],
   "source": [
    "adata.var"
   ]
  },
  {
   "cell_type": "markdown",
   "id": "dc79b171",
   "metadata": {},
   "source": [
    "## Gene annotation "
   ]
  },
  {
   "cell_type": "code",
   "execution_count": null,
   "id": "6eb3a2e9",
   "metadata": {},
   "outputs": [],
   "source": [
    "annot.annotate_adata(adata,\n",
    "                   GTF_PATH,\n",
    "                   config=None,\n",
    "                   best=True,\n",
    "                   threads=6,\n",
    "                   coordinate_cols=None,\n",
    "                   temp_dir=\"\",\n",
    "                   verbose=True,\n",
    "                   inplace=True)\n",
    "\n",
    "adata.var['gene_name']"
   ]
  },
  {
   "cell_type": "markdown",
   "id": "3b931dd7",
   "metadata": {},
   "source": [
    "### remove Nan"
   ]
  },
  {
   "cell_type": "code",
   "execution_count": null,
   "id": "f816269f",
   "metadata": {},
   "outputs": [],
   "source": [
    "assigned_features = adata.var['gene_name'].dropna()\n",
    "adata = adata[:, assigned_features.index]\n",
    "adata.var['gene_name']"
   ]
  },
  {
   "cell_type": "markdown",
   "id": "38f22280",
   "metadata": {},
   "source": [
    "## Rank peaks"
   ]
  },
  {
   "cell_type": "code",
   "execution_count": null,
   "id": "addc01e4",
   "metadata": {},
   "outputs": [],
   "source": [
    "peaks_adata = adata.copy()"
   ]
  },
  {
   "cell_type": "code",
   "execution_count": null,
   "id": "789b3933",
   "metadata": {},
   "outputs": [],
   "source": [
    "# peaks_adata.uns['log1p']['base'] = None"
   ]
  },
  {
   "cell_type": "code",
   "execution_count": null,
   "id": "e9617394",
   "metadata": {},
   "outputs": [],
   "source": [
    "for column in RESOLUTIONS:\n",
    "    print(f'Ranking peaks for clusters using obs column {column}')\n",
    "    epi.tl.rank_features(peaks_adata, f'{column}', omic='ATAC', \n",
    "                         key_added=f'rank_features_groups_{column}', n_features=100, use_raw=False)\n",
    "    \n",
    "print('Done')"
   ]
  },
  {
   "cell_type": "markdown",
   "id": "0c89f5de",
   "metadata": {},
   "source": [
    "## Rank genes\n",
    "Replace peaks with gene names"
   ]
  },
  {
   "cell_type": "code",
   "execution_count": null,
   "id": "902b5dfa",
   "metadata": {},
   "outputs": [],
   "source": [
    "genes_adata = peaks_adata.copy()\n",
    "genes_adata.var.reset_index(inplace=True)  # remove peaks from index and save them in the column ['index']\n",
    "genes_adata.var.set_index('gene_name',inplace=True)  # set genes as index\n",
    "genes_adata.var.index = genes_adata.var.index.astype('str')  # to avoid index being categorical\n",
    "genes_adata.var_names_make_unique(join='_')\n",
    "genes_adata.raw = genes_adata"
   ]
  },
  {
   "cell_type": "code",
   "execution_count": null,
   "id": "eb3e0afb",
   "metadata": {},
   "outputs": [],
   "source": [
    "for column in RESOLUTIONS:\n",
    "    print(f'Ranking genes groups for clusters using obs column {column}')\n",
    "    sc.tl.rank_genes_groups(genes_adata, groupby=f'{column}', use_raw=False, key_added=f'rank_genes_groups_{column}')\n",
    "    \n",
    "print('Done')"
   ]
  },
  {
   "cell_type": "markdown",
   "id": "0f01bf52",
   "metadata": {},
   "source": [
    "### Plot ranked genes"
   ]
  },
  {
   "cell_type": "code",
   "execution_count": null,
   "id": "fdb9f14a",
   "metadata": {},
   "outputs": [],
   "source": [
    "for column in RESOLUTIONS:\n",
    "    print(f'Plotting ranked genes groups for clustering column {column}')\n",
    "    plot_key = 'rank_genes_groups_' + str(column)\n",
    "    sc.pl.rank_genes_groups(genes_adata, key=plot_key, show=False)\n",
    "    # TODO\n",
    "    # if save_figs:\n",
    "    #    plt.savefig(f'{OUTPUT_FIGS}/ranked_genes_groups_leiden_{res}.png')\n",
    "    plt.show()"
   ]
  },
  {
   "cell_type": "code",
   "execution_count": null,
   "id": "61ddc2dd",
   "metadata": {},
   "outputs": [],
   "source": [
    "for column in RESOLUTIONS:\n",
    "    print(f'Plotting matrixplot for clustering column {column}')\n",
    "    plot_key = 'rank_genes_groups_' + str(column)\n",
    "    sc.pl.rank_genes_groups_matrixplot(genes_adata, standard_scale='var', n_genes=10, key=plot_key, show=False)\n",
    "    # TODO\n",
    "    # if save_figs:\n",
    "    #    plt.savefig(f'{OUTPUT_FIGS}/ranked_genes_groups_matrixplot_leiden_{res}.png')\n",
    "    plt.show()"
   ]
  },
  {
   "cell_type": "markdown",
   "id": "1fa31422",
   "metadata": {},
   "source": [
    "## Cell type annotation"
   ]
  },
  {
   "cell_type": "code",
   "execution_count": null,
   "id": "2cb93c15",
   "metadata": {},
   "outputs": [],
   "source": [
    "for column in RESOLUTIONS:\n",
    "    ctannot.annot_ct(adata=adata, genes_adata=genes_adata, output_path=annotation_dir, \n",
    "                     db_path=f\"{PANGLAO_DB_PATH}\", cluster_path=None, cluster_column=f\"{column}\", \n",
    "                     rank_genes_column=f\"rank_genes_groups_{column}\", sample=sample, \n",
    "                     ct_column=f\"cell_types_{column}\", tissue=\"all\", db=\"panglao\", inplace=True, species=SPECIES)"
   ]
  },
  {
   "cell_type": "code",
   "execution_count": null,
   "id": "cbc57a0c",
   "metadata": {},
   "outputs": [],
   "source": [
    "for column in RESOLUTIONS:\n",
    "    sc.pl.umap(adata, color=[f'cell_types_{column}', f'{column}'], wspace=0.5)"
   ]
  },
  {
   "cell_type": "code",
   "execution_count": null,
   "id": "bb8ab541",
   "metadata": {},
   "outputs": [],
   "source": [
    "for column in RESOLUTIONS:\n",
    "    print(f\"Tables of cell type annotation with clustering {column}\")\n",
    "    ctannot.show_tables(annotation_dir=annotation_dir, n=5, clustering_column=column)"
   ]
  },
  {
   "cell_type": "markdown",
   "id": "37f4fa9d",
   "metadata": {},
   "source": [
    "### Modify wrong cluster annotations by selecting other recommendations"
   ]
  },
  {
   "cell_type": "code",
   "execution_count": null,
   "id": "bedb7b3b",
   "metadata": {},
   "outputs": [],
   "source": [
    "if MODIFY_CELL_TYPES:\n",
    "# Pick the cell type column of the obs table you want to modify as well as the corresponding clustering column\n",
    "    cell_type_column = \"cell_types_leiden_0.4\"\n",
    "    clustering_column = \"leiden_0.4\"\n",
    "\n",
    "    ctannot.modify_ct(adata=adata, annotation_dir=annotation_dir, clustering_column=clustering_column, \n",
    "                      cell_type_column=cell_type_column, inplace=True)"
   ]
  },
  {
   "cell_type": "markdown",
   "id": "6ecab000",
   "metadata": {},
   "source": [
    "### SCSA cell type annotation"
   ]
  },
  {
   "cell_type": "markdown",
   "id": "45a177cb",
   "metadata": {},
   "source": [
    "Removing underscores from gene names"
   ]
  },
  {
   "cell_type": "code",
   "execution_count": null,
   "id": "c13deffc",
   "metadata": {},
   "outputs": [],
   "source": [
    "genes_adata.var.index = pd.Index([name.split('_')[0] for name in genes_adata.var.index])"
   ]
  },
  {
   "cell_type": "markdown",
   "id": "eba96b69",
   "metadata": {},
   "source": [
    "Rank new gene names"
   ]
  },
  {
   "cell_type": "code",
   "execution_count": null,
   "id": "57f0dc6c",
   "metadata": {},
   "outputs": [],
   "source": [
    "for column in RESOLUTIONS:\n",
    "    print(f'Ranking genes groups for clusters using obs column {column}')\n",
    "    sc.tl.rank_genes_groups(genes_adata, groupby=f'{column}', use_raw=False, key_added=f'rank_genes_groups_SCSA_{column}')\n",
    "\n",
    "print('Done')"
   ]
  },
  {
   "cell_type": "code",
   "execution_count": null,
   "id": "9f228584",
   "metadata": {},
   "outputs": [],
   "source": [
    "for column in RESOLUTIONS:\n",
    "    run_scsa(genes_adata,\n",
    "             gene_column=None,\n",
    "             gene_symbol='auto',\n",
    "             key=f'rank_genes_groups_SCSA_{column}',\n",
    "             column_added=f'SCSA_pred_celltype_{column}',\n",
    "             inplace=True,\n",
    "             python_path=None,\n",
    "             species=None,\n",
    "             fc=1.5,\n",
    "             pvalue=0.01,\n",
    "             tissue='All',\n",
    "             user_db=SCSA_CUSTOM_DB_PATH,\n",
    "             )\n",
    "    adata.obs[f'SCSA_pred_celltype_{column}'] = genes_adata.obs[f'SCSA_pred_celltype_{column}']\n",
    "    sc.pl.umap(adata, color=[f'SCSA_pred_celltype_{column}', f'cell_types_{column}'], wspace=0.5)\n"
   ]
  },
  {
   "cell_type": "markdown",
   "id": "0fc82b62",
   "metadata": {},
   "source": [
    "## Save notebook and adata object"
   ]
  },
  {
   "cell_type": "code",
   "execution_count": null,
   "id": "bf57fc0e",
   "metadata": {},
   "outputs": [],
   "source": [
    "utils.save_h5ad(adata, \"anndata_5.h5ad\")"
   ]
  },
  {
   "cell_type": "code",
   "execution_count": null,
   "id": "61d148f2",
   "metadata": {},
   "outputs": [],
   "source": []
  },
  {
   "cell_type": "code",
   "execution_count": null,
   "id": "1ccd3e71",
   "metadata": {},
   "outputs": [],
   "source": []
  },
  {
   "cell_type": "code",
   "execution_count": null,
   "id": "a90dad2f",
   "metadata": {},
   "outputs": [],
   "source": []
  }
 ],
 "metadata": {
  "language_info": {
   "name": "python"
  }
 },
 "nbformat": 4,
 "nbformat_minor": 5
}
