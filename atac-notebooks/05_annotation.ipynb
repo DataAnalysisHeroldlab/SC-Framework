{
 "cells": [
  {
   "cell_type": "markdown",
   "id": "b7115117",
   "metadata": {},
   "source": [
    "# Annotation, marker genes and cell type assignment"
   ]
  },
  {
   "cell_type": "markdown",
   "id": "d3054d25",
   "metadata": {},
   "source": [
    "## Settings "
   ]
  },
  {
   "cell_type": "code",
   "execution_count": null,
   "id": "48f7424a",
   "metadata": {},
   "outputs": [],
   "source": [
    "sample = \"all\"\n",
    "\n",
    "# Gene annotation\n",
    "GTF_PATH = \"test_data/hg38_genes.gtf\" # genes gtf file\n",
    "ENSEMBL_DATASET = \"auto\" # This is used for replaceing ensembl gene IDs with gene names if possible\n",
    "                         # Use \"auto\" to infer species from Ensembl ID or\n",
    "                         # use first letter of all words but complete last word e.g. hsapiens, mmusculus\n",
    "\n",
    "# Cell type annotation\n",
    "SPECIES = \"Hs\" # Currently only Hs (Homo Sapiens) and Mm (Mus Musculus) are available for custom cell type annotation\n",
    "SCSA_SPECIES = \"human\" # Currently only human (Homo Sapiens) and mouse (Mus Musculus) are available for SCSA\n",
    "                      # None if using a custom DB file\n",
    "    \n",
    "# Optional custom database for SCSA\n",
    "SCSA_CUSTOM_DB_PATH = None #\"/mnt/workspace/mkessle/projects/marker_repo/dbs/mouse/panglao_all_mandatory_2020\"\n",
    "\n",
    "# Path to panglao markers\n",
    "PANGLAO_DB_PATH = \"\" # panglao markers\n",
    "\n",
    "# The clustering resolutions which will be annotated\n",
    "clustering_cols = \"leiden_0.4\"  # It is also possible to add more than one column by using a list of columns\n",
    "\n",
    "MODIFY_CELL_TYPES = False # If true you get the opportunity to manually modify the automatic annotated cell types\n",
    "\n",
    "# Save figures\n",
    "save_figs = True"
   ]
  },
  {
   "cell_type": "markdown",
   "id": "3bd7129d",
   "metadata": {},
   "source": [
    "-------------"
   ]
  },
  {
   "cell_type": "markdown",
   "id": "a95d2b7e",
   "metadata": {},
   "source": [
    "## Loading packages and setup"
   ]
  },
  {
   "cell_type": "code",
   "execution_count": null,
   "id": "3f19a034",
   "metadata": {},
   "outputs": [],
   "source": [
    "import sctoolbox.utilities as utils\n",
    "import sctoolbox.tools as tools\n",
    "import sctoolbox.plotting as pl\n",
    "import pandas as pd\n",
    "import episcanpy as epi\n",
    "import scanpy as sc\n",
    "from matplotlib import pyplot as plt\n",
    "import os\n",
    "\n",
    "utils.settings_from_config(\"config.yaml\", key=\"05\")\n",
    "anndata_dir = \"pipeline_output/annotation\""
   ]
  },
  {
   "cell_type": "markdown",
   "id": "db34991b",
   "metadata": {},
   "source": [
    "## Check files "
   ]
  },
  {
   "cell_type": "code",
   "execution_count": null,
   "id": "0da63ccc",
   "metadata": {},
   "outputs": [],
   "source": [
    "files = [GTF_PATH, SCSA_CUSTOM_DB_PATH, PANGLAO_DB_PATH]\n",
    "for file in files:\n",
    "    if file is not None and os.path.isfile(file):\n",
    "        print(f\"{file} exists.\")\n",
    "    else:\n",
    "        print(f\"Please make sure that your input is correct. {file} does not exist.\")"
   ]
  },
  {
   "cell_type": "markdown",
   "id": "9bf25ce5",
   "metadata": {},
   "source": [
    "## Load anndata"
   ]
  },
  {
   "cell_type": "code",
   "execution_count": null,
   "id": "842fd6dd",
   "metadata": {},
   "outputs": [],
   "source": [
    "adata = utils.load_h5ad(\"anndata_4.h5ad\")\n",
    "display(adata)"
   ]
  },
  {
   "cell_type": "code",
   "execution_count": null,
   "id": "faa14626",
   "metadata": {},
   "outputs": [],
   "source": [
    "adata.var"
   ]
  },
  {
   "cell_type": "markdown",
   "id": "f98d8fb6",
   "metadata": {},
   "source": [
    "## Check columns"
   ]
  },
  {
   "cell_type": "code",
   "execution_count": null,
   "id": "21ee35e6",
   "metadata": {},
   "outputs": [],
   "source": [
    "if clustering_cols:\n",
    "    if type(clustering_cols) == str:\n",
    "        clustering_cols = [clustering_cols]"
   ]
  },
  {
   "cell_type": "code",
   "execution_count": null,
   "id": "ef95b15f",
   "metadata": {},
   "outputs": [],
   "source": [
    "utils.check_columns(adata.obs, clustering_cols)"
   ]
  },
  {
   "cell_type": "markdown",
   "id": "5918f127",
   "metadata": {},
   "source": [
    "-------------"
   ]
  },
  {
   "cell_type": "markdown",
   "id": "dc79b171",
   "metadata": {},
   "source": [
    "## Annotate regions to genes "
   ]
  },
  {
   "cell_type": "code",
   "execution_count": null,
   "id": "6eb3a2e9",
   "metadata": {},
   "outputs": [],
   "source": [
    "tools.annotate_adata(adata,\n",
    "                       GTF_PATH,\n",
    "                       config=None,\n",
    "                       best=True,\n",
    "                       threads=6,\n",
    "                       coordinate_cols=None,\n",
    "                       temp_dir=\"tmp\",\n",
    "                       inplace=True)"
   ]
  },
  {
   "cell_type": "code",
   "execution_count": null,
   "id": "cffe1046",
   "metadata": {},
   "outputs": [],
   "source": [
    "adata.var.head()"
   ]
  },
  {
   "cell_type": "markdown",
   "id": "feb05a83",
   "metadata": {},
   "source": [
    "--------------"
   ]
  },
  {
   "cell_type": "markdown",
   "id": "38f22280",
   "metadata": {},
   "source": [
    "## Find marker peaks"
   ]
  },
  {
   "cell_type": "code",
   "execution_count": null,
   "id": "addc01e4",
   "metadata": {},
   "outputs": [],
   "source": [
    "adata_peaks = adata.copy()"
   ]
  },
  {
   "cell_type": "code",
   "execution_count": null,
   "id": "ba9bce62",
   "metadata": {},
   "outputs": [],
   "source": [
    "# Identify markers per cluster (adjust group fraction and fold change to filter genes)\n",
    "for column in clustering_cols:\n",
    "    tools.run_rank_genes(adata_peaks, column,\n",
    "                         min_in_group_fraction=0.25,\n",
    "                         min_fold_change=0.5,\n",
    "                         max_out_group_fraction=0.8)"
   ]
  },
  {
   "cell_type": "code",
   "execution_count": null,
   "id": "3ef139da",
   "metadata": {},
   "outputs": [],
   "source": [
    "# Plot dotplot of markers\n",
    "for column in clustering_cols:\n",
    "    _ = pl.rank_genes_plot(adata_peaks, key=f\"rank_genes_{column}_filtered\", n_genes=15, \n",
    "                           measure=\"accessibility\",\n",
    "                           save=f\"marker_peaks_dotplot_{column}.pdf\")"
   ]
  },
  {
   "cell_type": "code",
   "execution_count": null,
   "id": "2cdb0ccd",
   "metadata": {},
   "outputs": [],
   "source": [
    "# Write marker peaks to table\n",
    "for column in clustering_cols:\n",
    "    marker_tables = tools.get_rank_genes_tables(adata_peaks, key=f\"rank_genes_{column}_filtered\",\n",
    "                                                var_columns=[\"gene_name\"],\n",
    "                                                out_group_fractions=True,\n",
    "                                                save_excel=f\"rank_peaks_{column}.xlsx\")"
   ]
  },
  {
   "cell_type": "markdown",
   "id": "a777a152",
   "metadata": {},
   "source": [
    "------------"
   ]
  },
  {
   "cell_type": "markdown",
   "id": "0c89f5de",
   "metadata": {},
   "source": [
    "## Find marker genes"
   ]
  },
  {
   "cell_type": "code",
   "execution_count": null,
   "id": "24caf5b3",
   "metadata": {},
   "outputs": [],
   "source": [
    "# Remove peaks without annotation and replace names\n",
    "adata_genes = adata[:,~adata.var['gene_name'].isnull()]\n",
    "\n",
    "adata_genes.var.reset_index(inplace=True)  # remove peaks from index and save them in the column ['index']\n",
    "adata_genes.var.set_index('gene_name',inplace=True)  # set genes as index\n",
    "adata_genes.var.index = adata_genes.var.index.astype('str')  # to avoid index being categorical\n",
    "adata_genes.var_names_make_unique(join='_')"
   ]
  },
  {
   "cell_type": "code",
   "execution_count": null,
   "id": "d04e9cc5",
   "metadata": {},
   "outputs": [],
   "source": [
    "print(f\"Number of peaks before filtering: {adata.shape[1]}\")\n",
    "print(f\"Number of peaks annotated to genes: {adata_genes.shape[1]}\")"
   ]
  },
  {
   "cell_type": "code",
   "execution_count": null,
   "id": "4ab28f46",
   "metadata": {},
   "outputs": [],
   "source": [
    "# Identify markers per cluster (adjust group fraction and fold change to filter genes)\n",
    "for column in clustering_cols:\n",
    "    tools.run_rank_genes(adata_genes, column,\n",
    "                         min_in_group_fraction=0.25,\n",
    "                         min_fold_change=0.5,\n",
    "                         max_out_group_fraction=0.8)"
   ]
  },
  {
   "cell_type": "code",
   "execution_count": null,
   "id": "c5d81878",
   "metadata": {},
   "outputs": [],
   "source": [
    "# Plot dotplot of markers\n",
    "for column in clustering_cols:\n",
    "    _ = pl.rank_genes_plot(adata_genes, key=f\"rank_genes_{column}_filtered\", n_genes=15,\n",
    "                           measure=\"accessibility\",\n",
    "                           save=f\"marker_genes_dotplot_{column}.pdf\")"
   ]
  },
  {
   "cell_type": "code",
   "execution_count": null,
   "id": "5014a2d6",
   "metadata": {},
   "outputs": [],
   "source": [
    "# Write marker peaks to table\n",
    "for column in clustering_cols:\n",
    "    marker_tables = tools.get_rank_genes_tables(adata_genes, key=f\"rank_genes_{column}_filtered\",\n",
    "                                                out_group_fractions=True,\n",
    "                                                save_excel=f\"rank_genes_{column}.xlsx\")"
   ]
  },
  {
   "cell_type": "markdown",
   "id": "a1d24fa3",
   "metadata": {},
   "source": [
    "-------------"
   ]
  },
  {
   "cell_type": "markdown",
   "id": "1fa31422",
   "metadata": {},
   "source": [
    "## Custom script cell type annotation"
   ]
  },
  {
   "cell_type": "code",
   "execution_count": null,
   "id": "9e038367",
   "metadata": {},
   "outputs": [],
   "source": [
    "annotation_dir = \".\""
   ]
  },
  {
   "cell_type": "code",
   "execution_count": null,
   "id": "2cb93c15",
   "metadata": {},
   "outputs": [],
   "source": [
    "for column in clustering_cols:\n",
    "    tools.annot_ct(adata=adata, genes_adata=adata_genes, output_path=annotation_dir, \n",
    "                     db_path=f\"{PANGLAO_DB_PATH}\", cluster_path=None, cluster_column=f\"{column}\", \n",
    "                     rank_genes_column=f\"rank_genes_groups_{column}\", sample=sample, \n",
    "                     ct_column=f\"cell_types_{column}\", tissue=\"all\", db=\"panglao\", inplace=True, species=SPECIES)"
   ]
  },
  {
   "cell_type": "code",
   "execution_count": null,
   "id": "cbc57a0c",
   "metadata": {},
   "outputs": [],
   "source": [
    "for column in clustering_cols:\n",
    "    sc.pl.umap(adata, color=[f'cell_types_{column}', f'{column}'], wspace=0.5)"
   ]
  },
  {
   "cell_type": "code",
   "execution_count": null,
   "id": "bb8ab541",
   "metadata": {},
   "outputs": [],
   "source": [
    "for column in clustering_cols:\n",
    "    print(f\"Tables of cell type annotation with clustering {column}\")\n",
    "    tools.show_tables(annotation_dir=annotation_dir, n=5, clustering_column=column)"
   ]
  },
  {
   "cell_type": "markdown",
   "id": "37f4fa9d",
   "metadata": {},
   "source": [
    "### Modify wrong cluster annotations by selecting other recommendations"
   ]
  },
  {
   "cell_type": "code",
   "execution_count": null,
   "id": "bedb7b3b",
   "metadata": {},
   "outputs": [],
   "source": [
    "if MODIFY_CELL_TYPES:\n",
    "# Pick the cell type column of the obs table you want to modify as well as the corresponding clustering column\n",
    "    cell_type_column = \"cell_types_leiden_0.4\"\n",
    "    clustering_column = \"leiden_0.4\"\n",
    "\n",
    "    tools.modify_ct(adata=adata, annotation_dir=annotation_dir, clustering_column=clustering_column, \n",
    "                      cell_type_column=cell_type_column, inplace=True)"
   ]
  },
  {
   "cell_type": "markdown",
   "id": "883a9538",
   "metadata": {},
   "source": [
    "---------"
   ]
  },
  {
   "cell_type": "markdown",
   "id": "6ecab000",
   "metadata": {},
   "source": [
    "## SCSA cell type annotation"
   ]
  },
  {
   "cell_type": "code",
   "execution_count": null,
   "id": "9f228584",
   "metadata": {},
   "outputs": [],
   "source": [
    "for column in clustering_cols:\n",
    "    tools.run_scsa(adata_genes,\n",
    "                   key=f'rank_genes_{column}',\n",
    "                   column_added=f'SCSA_pred_celltype_{column}',\n",
    "                   species=SCSA_SPECIES,\n",
    "                   fc=1.5,\n",
    "                   pvalue=0.01,\n",
    "                   tissue='All',\n",
    "                   user_db=SCSA_CUSTOM_DB_PATH,\n",
    "                 )\n",
    "    adata.obs[f'SCSA_pred_celltype_{column}'] = adata_genes.obs[f'SCSA_pred_celltype_{column}']\n",
    "    sc.pl.umap(adata, color=[column, f'SCSA_pred_celltype_{column}'], wspace=0.5)"
   ]
  },
  {
   "cell_type": "markdown",
   "id": "e8a2cf5f",
   "metadata": {},
   "source": [
    "--------------"
   ]
  },
  {
   "cell_type": "markdown",
   "id": "0fc82b62",
   "metadata": {},
   "source": [
    "## Save notebook and adata object"
   ]
  },
  {
   "cell_type": "code",
   "execution_count": null,
   "id": "bf57fc0e",
   "metadata": {},
   "outputs": [],
   "source": [
    "utils.save_h5ad(adata, \"anndata_5.h5ad\")"
   ]
  },
  {
   "cell_type": "code",
   "execution_count": null,
   "id": "a90dad2f",
   "metadata": {},
   "outputs": [],
   "source": []
  }
 ],
 "metadata": {
  "kernelspec": {
   "display_name": "sctoolbox",
   "language": "python",
   "name": "sctoolbox"
  },
  "language_info": {
   "codemirror_mode": {
    "name": "ipython",
    "version": 3
   },
   "file_extension": ".py",
   "mimetype": "text/x-python",
   "name": "python",
   "nbconvert_exporter": "python",
   "pygments_lexer": "ipython3",
   "version": "3.10.8"
  }
 },
 "nbformat": 4,
 "nbformat_minor": 5
}
