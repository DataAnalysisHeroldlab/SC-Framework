{
 "cells": [
  {
   "cell_type": "markdown",
   "id": "b7115117",
   "metadata": {},
   "source": [
    "# Annotation"
   ]
  },
  {
   "cell_type": "markdown",
   "id": "d3054d25",
   "metadata": {},
   "source": [
    "## Settings "
   ]
  },
  {
   "cell_type": "code",
   "execution_count": 2,
   "id": "48f7424a",
   "metadata": {
    "ExecuteTime": {
     "end_time": "2023-05-11T11:18:20.737272Z",
     "start_time": "2023-05-11T11:18:20.731324Z"
    }
   },
   "outputs": [],
   "source": [
    "# Path related settings (these should be the same as for the previous notebook)\n",
    "output_dir = '/mnt/workspace/jdetlef/ext_ana/processed'\n",
    "test = 'all'\n",
    "\n",
    "# Gene annotation\n",
    "GTF_PATH = \"/mnt/flatfiles/organisms/new_organism/homo_sapiens/104/homo_sapiens.104.genes.gtf\"\n",
    "ENSEMBL_DATASET = \"auto\" # This is used for replaceing ensembl gene IDs with gene names if possible\n",
    "                         # Use \"auto\" to infer species from Ensembl ID or\n",
    "                         # use first letter of all words but complete last word e.g. hsapiens, mmusculus\n",
    "\n",
    "# Cell type annotation\n",
    "SPECIES = \"Hs\" # Currently only Hs (Homo Sapiens) and Mm (Mus Musculus) are available for custom cell type annotation\n",
    "SCSA_SPECIES = None # Currently only human (Homo Sapiens) and mouse (Mus Musculus) are available for SCSA\n",
    "                    # None if using a custom DB file\n",
    "# Optional custom database for SCSA\n",
    "SCSA_CUSTOM_DB_PATH = \"/mnt/workspace/mkessle/projects/marker_repo/dbs/mouse/panglao_all_mandatory_2020\"\n",
    "# Path to panglao markers\n",
    "PANGLAO_DB_PATH = \"/mnt/workspace/jdetlef/panglao_markers\"\n",
    "\n",
    "# The clustering resolutions which will be annotated\n",
    "RESOLUTIONS = \"leiden_0.4\" # Choose \"None\" to keep the selected clustering resolution from the previous notebook\n",
    "                           # You can also choose a column which contains the clustering information in the obs table\n",
    "                           # It is also possible to add more than one column (resolutions) by using a list of columns\n",
    "        \n",
    "MODIFY_CELL_TYPES = False # If true you get the opportunity to manually modify the automatic annotated cell types\n",
    "\n",
    "# Save figures\n",
    "save_figs = True"
   ]
  },
  {
   "cell_type": "markdown",
   "id": "a95d2b7e",
   "metadata": {},
   "source": [
    "## Loading packages and setup"
   ]
  },
  {
   "cell_type": "code",
   "execution_count": 2,
   "id": "3f19a034",
   "metadata": {},
   "outputs": [],
   "source": [
    "import sctoolbox.atac_tree as sub_tree\n",
    "import sctoolbox.annotation as annot\n",
    "import sctoolbox.custom_celltype_annotation as ctannot\n",
    "import sctoolbox.utilities as utils\n",
    "from sctoolbox.celltype_annotation import run_scsa\n",
    "import pandas as pd\n",
    "import episcanpy as epi\n",
    "import scanpy as sc\n",
    "from matplotlib import pyplot as plt\n",
    "import apybiomart\n",
    "import os\n",
    "import shutil"
   ]
  },
  {
   "cell_type": "markdown",
   "id": "db34991b",
   "metadata": {},
   "source": [
    "## Check files "
   ]
  },
  {
   "cell_type": "code",
   "execution_count": 3,
   "id": "0da63ccc",
   "metadata": {},
   "outputs": [
    {
     "name": "stdout",
     "output_type": "stream",
     "text": [
      "/mnt/flatfiles/organisms/new_organism/homo_sapiens/104/homo_sapiens.104.genes.gtf exists.\n",
      "/mnt/workspace/mkessle/projects/marker_repo/dbs/mouse/panglao_all_mandatory_2020 exists.\n",
      "/mnt/workspace/jdetlef/panglao_markers exists.\n"
     ]
    }
   ],
   "source": [
    "files = [GTF_PATH, SCSA_CUSTOM_DB_PATH, PANGLAO_DB_PATH]\n",
    "for file in files:\n",
    "    if os.path.isfile(file):\n",
    "        print(f\"{file} exists.\")\n",
    "    else:\n",
    "        print(f\"Please make sure that your input is correct. {file} does not exist.\")"
   ]
  },
  {
   "cell_type": "markdown",
   "id": "c9181831",
   "metadata": {},
   "source": [
    "## Setup path handling object "
   ]
  },
  {
   "cell_type": "code",
   "execution_count": 4,
   "id": "e3cf7131",
   "metadata": {},
   "outputs": [
    {
     "name": "stdout",
     "output_type": "stream",
     "text": [
      "Warning: run is None\n",
      "all directories existing\n",
      "all directories existing\n"
     ]
    }
   ],
   "source": [
    "# make an instance of the class\n",
    "tree = sub_tree.ATAC_tree()\n",
    "# set processing/output directory\n",
    "tree.processing_dir = output_dir\n",
    "# set sample/experiment.. \n",
    "tree.run = test"
   ]
  },
  {
   "cell_type": "code",
   "execution_count": 5,
   "id": "e389853b",
   "metadata": {},
   "outputs": [],
   "source": [
    "tree.gtf_path = GTF_PATH"
   ]
  },
  {
   "cell_type": "markdown",
   "id": "9bf25ce5",
   "metadata": {},
   "source": [
    "## Load anndata"
   ]
  },
  {
   "cell_type": "code",
   "execution_count": 6,
   "id": "842fd6dd",
   "metadata": {},
   "outputs": [
    {
     "data": {
      "text/html": [
       "<div>\n",
       "<style scoped>\n",
       "    .dataframe tbody tr th:only-of-type {\n",
       "        vertical-align: middle;\n",
       "    }\n",
       "\n",
       "    .dataframe tbody tr th {\n",
       "        vertical-align: top;\n",
       "    }\n",
       "\n",
       "    .dataframe thead th {\n",
       "        text-align: right;\n",
       "    }\n",
       "</style>\n",
       "<table border=\"1\" class=\"dataframe\">\n",
       "  <thead>\n",
       "    <tr style=\"text-align: right;\">\n",
       "      <th></th>\n",
       "      <th>peak_chr</th>\n",
       "      <th>peak_start</th>\n",
       "      <th>peak_end</th>\n",
       "      <th>n_cells_by_counts</th>\n",
       "      <th>mean_counts</th>\n",
       "      <th>log1p_mean_counts</th>\n",
       "      <th>pct_dropout_by_counts</th>\n",
       "      <th>total_counts</th>\n",
       "      <th>log1p_total_counts</th>\n",
       "      <th>n_cells</th>\n",
       "      <th>commonness</th>\n",
       "      <th>highly_variable</th>\n",
       "    </tr>\n",
       "  </thead>\n",
       "  <tbody>\n",
       "    <tr>\n",
       "      <th>chr1:10005-10731</th>\n",
       "      <td>chr1</td>\n",
       "      <td>10005</td>\n",
       "      <td>10731</td>\n",
       "      <td>277</td>\n",
       "      <td>0.025136</td>\n",
       "      <td>0.024825</td>\n",
       "      <td>97.486388</td>\n",
       "      <td>277.0</td>\n",
       "      <td>5.627621</td>\n",
       "      <td>277</td>\n",
       "      <td>410.0</td>\n",
       "      <td>True</td>\n",
       "    </tr>\n",
       "    <tr>\n",
       "      <th>chr1:28730-29439</th>\n",
       "      <td>chr1</td>\n",
       "      <td>28730</td>\n",
       "      <td>29439</td>\n",
       "      <td>15</td>\n",
       "      <td>0.001361</td>\n",
       "      <td>0.001360</td>\n",
       "      <td>99.863884</td>\n",
       "      <td>15.0</td>\n",
       "      <td>2.772589</td>\n",
       "      <td>15</td>\n",
       "      <td>22.0</td>\n",
       "      <td>True</td>\n",
       "    </tr>\n",
       "    <tr>\n",
       "      <th>chr1:91328-91482</th>\n",
       "      <td>chr1</td>\n",
       "      <td>91328</td>\n",
       "      <td>91482</td>\n",
       "      <td>4</td>\n",
       "      <td>0.000363</td>\n",
       "      <td>0.000363</td>\n",
       "      <td>99.963702</td>\n",
       "      <td>4.0</td>\n",
       "      <td>1.609438</td>\n",
       "      <td>4</td>\n",
       "      <td>6.0</td>\n",
       "      <td>False</td>\n",
       "    </tr>\n",
       "    <tr>\n",
       "      <th>chr1:139088-139266</th>\n",
       "      <td>chr1</td>\n",
       "      <td>139088</td>\n",
       "      <td>139266</td>\n",
       "      <td>2</td>\n",
       "      <td>0.000181</td>\n",
       "      <td>0.000181</td>\n",
       "      <td>99.981851</td>\n",
       "      <td>2.0</td>\n",
       "      <td>1.098612</td>\n",
       "      <td>2</td>\n",
       "      <td>3.0</td>\n",
       "      <td>False</td>\n",
       "    </tr>\n",
       "    <tr>\n",
       "      <th>chr1:180710-182007</th>\n",
       "      <td>chr1</td>\n",
       "      <td>180710</td>\n",
       "      <td>182007</td>\n",
       "      <td>386</td>\n",
       "      <td>0.035027</td>\n",
       "      <td>0.034428</td>\n",
       "      <td>96.497278</td>\n",
       "      <td>386.0</td>\n",
       "      <td>5.958425</td>\n",
       "      <td>386</td>\n",
       "      <td>568.0</td>\n",
       "      <td>True</td>\n",
       "    </tr>\n",
       "    <tr>\n",
       "      <th>...</th>\n",
       "      <td>...</td>\n",
       "      <td>...</td>\n",
       "      <td>...</td>\n",
       "      <td>...</td>\n",
       "      <td>...</td>\n",
       "      <td>...</td>\n",
       "      <td>...</td>\n",
       "      <td>...</td>\n",
       "      <td>...</td>\n",
       "      <td>...</td>\n",
       "      <td>...</td>\n",
       "      <td>...</td>\n",
       "    </tr>\n",
       "    <tr>\n",
       "      <th>chr9:138203969-138204112</th>\n",
       "      <td>chr9</td>\n",
       "      <td>138203969</td>\n",
       "      <td>138204112</td>\n",
       "      <td>6</td>\n",
       "      <td>0.000544</td>\n",
       "      <td>0.000544</td>\n",
       "      <td>99.945554</td>\n",
       "      <td>6.0</td>\n",
       "      <td>1.945910</td>\n",
       "      <td>6</td>\n",
       "      <td>7.0</td>\n",
       "      <td>True</td>\n",
       "    </tr>\n",
       "    <tr>\n",
       "      <th>chr9:138209358-138209542</th>\n",
       "      <td>chr9</td>\n",
       "      <td>138209358</td>\n",
       "      <td>138209542</td>\n",
       "      <td>6</td>\n",
       "      <td>0.000544</td>\n",
       "      <td>0.000544</td>\n",
       "      <td>99.945554</td>\n",
       "      <td>6.0</td>\n",
       "      <td>1.945910</td>\n",
       "      <td>6</td>\n",
       "      <td>8.0</td>\n",
       "      <td>True</td>\n",
       "    </tr>\n",
       "    <tr>\n",
       "      <th>chr9:138213762-138214121</th>\n",
       "      <td>chr9</td>\n",
       "      <td>138213762</td>\n",
       "      <td>138214121</td>\n",
       "      <td>34</td>\n",
       "      <td>0.003085</td>\n",
       "      <td>0.003081</td>\n",
       "      <td>99.691470</td>\n",
       "      <td>34.0</td>\n",
       "      <td>3.555348</td>\n",
       "      <td>34</td>\n",
       "      <td>43.0</td>\n",
       "      <td>True</td>\n",
       "    </tr>\n",
       "    <tr>\n",
       "      <th>chr9:138215567-138215868</th>\n",
       "      <td>chr9</td>\n",
       "      <td>138215567</td>\n",
       "      <td>138215868</td>\n",
       "      <td>1</td>\n",
       "      <td>0.000091</td>\n",
       "      <td>0.000091</td>\n",
       "      <td>99.990926</td>\n",
       "      <td>1.0</td>\n",
       "      <td>0.693147</td>\n",
       "      <td>1</td>\n",
       "      <td>3.0</td>\n",
       "      <td>False</td>\n",
       "    </tr>\n",
       "    <tr>\n",
       "      <th>chr9:138232071-138232356</th>\n",
       "      <td>chr9</td>\n",
       "      <td>138232071</td>\n",
       "      <td>138232356</td>\n",
       "      <td>2</td>\n",
       "      <td>0.000181</td>\n",
       "      <td>0.000181</td>\n",
       "      <td>99.981851</td>\n",
       "      <td>2.0</td>\n",
       "      <td>1.098612</td>\n",
       "      <td>2</td>\n",
       "      <td>2.0</td>\n",
       "      <td>False</td>\n",
       "    </tr>\n",
       "  </tbody>\n",
       "</table>\n",
       "<p>166597 rows × 12 columns</p>\n",
       "</div>"
      ],
      "text/plain": [
       "                         peak_chr  peak_start   peak_end  n_cells_by_counts  \\\n",
       "chr1:10005-10731             chr1       10005      10731                277   \n",
       "chr1:28730-29439             chr1       28730      29439                 15   \n",
       "chr1:91328-91482             chr1       91328      91482                  4   \n",
       "chr1:139088-139266           chr1      139088     139266                  2   \n",
       "chr1:180710-182007           chr1      180710     182007                386   \n",
       "...                           ...         ...        ...                ...   \n",
       "chr9:138203969-138204112     chr9   138203969  138204112                  6   \n",
       "chr9:138209358-138209542     chr9   138209358  138209542                  6   \n",
       "chr9:138213762-138214121     chr9   138213762  138214121                 34   \n",
       "chr9:138215567-138215868     chr9   138215567  138215868                  1   \n",
       "chr9:138232071-138232356     chr9   138232071  138232356                  2   \n",
       "\n",
       "                          mean_counts  log1p_mean_counts  \\\n",
       "chr1:10005-10731             0.025136           0.024825   \n",
       "chr1:28730-29439             0.001361           0.001360   \n",
       "chr1:91328-91482             0.000363           0.000363   \n",
       "chr1:139088-139266           0.000181           0.000181   \n",
       "chr1:180710-182007           0.035027           0.034428   \n",
       "...                               ...                ...   \n",
       "chr9:138203969-138204112     0.000544           0.000544   \n",
       "chr9:138209358-138209542     0.000544           0.000544   \n",
       "chr9:138213762-138214121     0.003085           0.003081   \n",
       "chr9:138215567-138215868     0.000091           0.000091   \n",
       "chr9:138232071-138232356     0.000181           0.000181   \n",
       "\n",
       "                          pct_dropout_by_counts  total_counts  \\\n",
       "chr1:10005-10731                      97.486388         277.0   \n",
       "chr1:28730-29439                      99.863884          15.0   \n",
       "chr1:91328-91482                      99.963702           4.0   \n",
       "chr1:139088-139266                    99.981851           2.0   \n",
       "chr1:180710-182007                    96.497278         386.0   \n",
       "...                                         ...           ...   \n",
       "chr9:138203969-138204112              99.945554           6.0   \n",
       "chr9:138209358-138209542              99.945554           6.0   \n",
       "chr9:138213762-138214121              99.691470          34.0   \n",
       "chr9:138215567-138215868              99.990926           1.0   \n",
       "chr9:138232071-138232356              99.981851           2.0   \n",
       "\n",
       "                          log1p_total_counts  n_cells  commonness  \\\n",
       "chr1:10005-10731                    5.627621      277       410.0   \n",
       "chr1:28730-29439                    2.772589       15        22.0   \n",
       "chr1:91328-91482                    1.609438        4         6.0   \n",
       "chr1:139088-139266                  1.098612        2         3.0   \n",
       "chr1:180710-182007                  5.958425      386       568.0   \n",
       "...                                      ...      ...         ...   \n",
       "chr9:138203969-138204112            1.945910        6         7.0   \n",
       "chr9:138209358-138209542            1.945910        6         8.0   \n",
       "chr9:138213762-138214121            3.555348       34        43.0   \n",
       "chr9:138215567-138215868            0.693147        1         3.0   \n",
       "chr9:138232071-138232356            1.098612        2         2.0   \n",
       "\n",
       "                          highly_variable  \n",
       "chr1:10005-10731                     True  \n",
       "chr1:28730-29439                     True  \n",
       "chr1:91328-91482                    False  \n",
       "chr1:139088-139266                  False  \n",
       "chr1:180710-182007                   True  \n",
       "...                                   ...  \n",
       "chr9:138203969-138204112             True  \n",
       "chr9:138209358-138209542             True  \n",
       "chr9:138213762-138214121             True  \n",
       "chr9:138215567-138215868            False  \n",
       "chr9:138232071-138232356            False  \n",
       "\n",
       "[166597 rows x 12 columns]"
      ]
     },
     "execution_count": 6,
     "metadata": {},
     "output_type": "execute_result"
    }
   ],
   "source": [
    "clustering_output = tree.clustering_anndata\n",
    "adata = epi.read_h5ad(clustering_output)\n",
    "adata.var"
   ]
  },
  {
   "cell_type": "code",
   "execution_count": 7,
   "id": "21ee35e6",
   "metadata": {},
   "outputs": [],
   "source": [
    "if RESOLUTIONS:\n",
    "    if type(RESOLUTIONS) == str:\n",
    "        RESOLUTIONS = [RESOLUTIONS]\n",
    "else:\n",
    "    RESOLUTIONS = adata.uns['infoprocess']['leiden_res']"
   ]
  },
  {
   "cell_type": "markdown",
   "id": "f98d8fb6",
   "metadata": {},
   "source": [
    "## Check columns"
   ]
  },
  {
   "cell_type": "code",
   "execution_count": 8,
   "id": "735e94eb",
   "metadata": {},
   "outputs": [
    {
     "name": "stdout",
     "output_type": "stream",
     "text": [
      "The obs table contains the column leiden_0.4.\n"
     ]
    }
   ],
   "source": [
    "for column in RESOLUTIONS:\n",
    "    if column in adata.obs:\n",
    "        print(f\"The obs table contains the column {column}.\")\n",
    "    else:\n",
    "        print(f\"{column} was not found in the obs table. Please pick a valid column instead.\")"
   ]
  },
  {
   "cell_type": "code",
   "execution_count": 9,
   "id": "88867d23",
   "metadata": {},
   "outputs": [],
   "source": [
    "# FIX FOR THE EXT442\n",
    "adata.var['peak_chr'] = adata.var['peak_chr'].astype(str)\n",
    "adata.var['peak_start'] = adata.var['peak_start'].astype(int)\n",
    "adata.var['peak_end'] = adata.var['peak_end'].astype(int)"
   ]
  },
  {
   "cell_type": "code",
   "execution_count": 10,
   "id": "afd06940",
   "metadata": {},
   "outputs": [
    {
     "data": {
      "text/html": [
       "<div>\n",
       "<style scoped>\n",
       "    .dataframe tbody tr th:only-of-type {\n",
       "        vertical-align: middle;\n",
       "    }\n",
       "\n",
       "    .dataframe tbody tr th {\n",
       "        vertical-align: top;\n",
       "    }\n",
       "\n",
       "    .dataframe thead th {\n",
       "        text-align: right;\n",
       "    }\n",
       "</style>\n",
       "<table border=\"1\" class=\"dataframe\">\n",
       "  <thead>\n",
       "    <tr style=\"text-align: right;\">\n",
       "      <th></th>\n",
       "      <th>peak_chr</th>\n",
       "      <th>peak_start</th>\n",
       "      <th>peak_end</th>\n",
       "      <th>n_cells_by_counts</th>\n",
       "      <th>mean_counts</th>\n",
       "      <th>log1p_mean_counts</th>\n",
       "      <th>pct_dropout_by_counts</th>\n",
       "      <th>total_counts</th>\n",
       "      <th>log1p_total_counts</th>\n",
       "      <th>n_cells</th>\n",
       "      <th>commonness</th>\n",
       "      <th>highly_variable</th>\n",
       "    </tr>\n",
       "  </thead>\n",
       "  <tbody>\n",
       "    <tr>\n",
       "      <th>chr1:10005-10731</th>\n",
       "      <td>chr1</td>\n",
       "      <td>10005</td>\n",
       "      <td>10731</td>\n",
       "      <td>277</td>\n",
       "      <td>0.025136</td>\n",
       "      <td>0.024825</td>\n",
       "      <td>97.486388</td>\n",
       "      <td>277.0</td>\n",
       "      <td>5.627621</td>\n",
       "      <td>277</td>\n",
       "      <td>410.0</td>\n",
       "      <td>True</td>\n",
       "    </tr>\n",
       "    <tr>\n",
       "      <th>chr1:28730-29439</th>\n",
       "      <td>chr1</td>\n",
       "      <td>28730</td>\n",
       "      <td>29439</td>\n",
       "      <td>15</td>\n",
       "      <td>0.001361</td>\n",
       "      <td>0.001360</td>\n",
       "      <td>99.863884</td>\n",
       "      <td>15.0</td>\n",
       "      <td>2.772589</td>\n",
       "      <td>15</td>\n",
       "      <td>22.0</td>\n",
       "      <td>True</td>\n",
       "    </tr>\n",
       "    <tr>\n",
       "      <th>chr1:91328-91482</th>\n",
       "      <td>chr1</td>\n",
       "      <td>91328</td>\n",
       "      <td>91482</td>\n",
       "      <td>4</td>\n",
       "      <td>0.000363</td>\n",
       "      <td>0.000363</td>\n",
       "      <td>99.963702</td>\n",
       "      <td>4.0</td>\n",
       "      <td>1.609438</td>\n",
       "      <td>4</td>\n",
       "      <td>6.0</td>\n",
       "      <td>False</td>\n",
       "    </tr>\n",
       "    <tr>\n",
       "      <th>chr1:139088-139266</th>\n",
       "      <td>chr1</td>\n",
       "      <td>139088</td>\n",
       "      <td>139266</td>\n",
       "      <td>2</td>\n",
       "      <td>0.000181</td>\n",
       "      <td>0.000181</td>\n",
       "      <td>99.981851</td>\n",
       "      <td>2.0</td>\n",
       "      <td>1.098612</td>\n",
       "      <td>2</td>\n",
       "      <td>3.0</td>\n",
       "      <td>False</td>\n",
       "    </tr>\n",
       "    <tr>\n",
       "      <th>chr1:180710-182007</th>\n",
       "      <td>chr1</td>\n",
       "      <td>180710</td>\n",
       "      <td>182007</td>\n",
       "      <td>386</td>\n",
       "      <td>0.035027</td>\n",
       "      <td>0.034428</td>\n",
       "      <td>96.497278</td>\n",
       "      <td>386.0</td>\n",
       "      <td>5.958425</td>\n",
       "      <td>386</td>\n",
       "      <td>568.0</td>\n",
       "      <td>True</td>\n",
       "    </tr>\n",
       "    <tr>\n",
       "      <th>...</th>\n",
       "      <td>...</td>\n",
       "      <td>...</td>\n",
       "      <td>...</td>\n",
       "      <td>...</td>\n",
       "      <td>...</td>\n",
       "      <td>...</td>\n",
       "      <td>...</td>\n",
       "      <td>...</td>\n",
       "      <td>...</td>\n",
       "      <td>...</td>\n",
       "      <td>...</td>\n",
       "      <td>...</td>\n",
       "    </tr>\n",
       "    <tr>\n",
       "      <th>chr9:138203969-138204112</th>\n",
       "      <td>chr9</td>\n",
       "      <td>138203969</td>\n",
       "      <td>138204112</td>\n",
       "      <td>6</td>\n",
       "      <td>0.000544</td>\n",
       "      <td>0.000544</td>\n",
       "      <td>99.945554</td>\n",
       "      <td>6.0</td>\n",
       "      <td>1.945910</td>\n",
       "      <td>6</td>\n",
       "      <td>7.0</td>\n",
       "      <td>True</td>\n",
       "    </tr>\n",
       "    <tr>\n",
       "      <th>chr9:138209358-138209542</th>\n",
       "      <td>chr9</td>\n",
       "      <td>138209358</td>\n",
       "      <td>138209542</td>\n",
       "      <td>6</td>\n",
       "      <td>0.000544</td>\n",
       "      <td>0.000544</td>\n",
       "      <td>99.945554</td>\n",
       "      <td>6.0</td>\n",
       "      <td>1.945910</td>\n",
       "      <td>6</td>\n",
       "      <td>8.0</td>\n",
       "      <td>True</td>\n",
       "    </tr>\n",
       "    <tr>\n",
       "      <th>chr9:138213762-138214121</th>\n",
       "      <td>chr9</td>\n",
       "      <td>138213762</td>\n",
       "      <td>138214121</td>\n",
       "      <td>34</td>\n",
       "      <td>0.003085</td>\n",
       "      <td>0.003081</td>\n",
       "      <td>99.691470</td>\n",
       "      <td>34.0</td>\n",
       "      <td>3.555348</td>\n",
       "      <td>34</td>\n",
       "      <td>43.0</td>\n",
       "      <td>True</td>\n",
       "    </tr>\n",
       "    <tr>\n",
       "      <th>chr9:138215567-138215868</th>\n",
       "      <td>chr9</td>\n",
       "      <td>138215567</td>\n",
       "      <td>138215868</td>\n",
       "      <td>1</td>\n",
       "      <td>0.000091</td>\n",
       "      <td>0.000091</td>\n",
       "      <td>99.990926</td>\n",
       "      <td>1.0</td>\n",
       "      <td>0.693147</td>\n",
       "      <td>1</td>\n",
       "      <td>3.0</td>\n",
       "      <td>False</td>\n",
       "    </tr>\n",
       "    <tr>\n",
       "      <th>chr9:138232071-138232356</th>\n",
       "      <td>chr9</td>\n",
       "      <td>138232071</td>\n",
       "      <td>138232356</td>\n",
       "      <td>2</td>\n",
       "      <td>0.000181</td>\n",
       "      <td>0.000181</td>\n",
       "      <td>99.981851</td>\n",
       "      <td>2.0</td>\n",
       "      <td>1.098612</td>\n",
       "      <td>2</td>\n",
       "      <td>2.0</td>\n",
       "      <td>False</td>\n",
       "    </tr>\n",
       "  </tbody>\n",
       "</table>\n",
       "<p>166597 rows × 12 columns</p>\n",
       "</div>"
      ],
      "text/plain": [
       "                         peak_chr  peak_start   peak_end  n_cells_by_counts  \\\n",
       "chr1:10005-10731             chr1       10005      10731                277   \n",
       "chr1:28730-29439             chr1       28730      29439                 15   \n",
       "chr1:91328-91482             chr1       91328      91482                  4   \n",
       "chr1:139088-139266           chr1      139088     139266                  2   \n",
       "chr1:180710-182007           chr1      180710     182007                386   \n",
       "...                           ...         ...        ...                ...   \n",
       "chr9:138203969-138204112     chr9   138203969  138204112                  6   \n",
       "chr9:138209358-138209542     chr9   138209358  138209542                  6   \n",
       "chr9:138213762-138214121     chr9   138213762  138214121                 34   \n",
       "chr9:138215567-138215868     chr9   138215567  138215868                  1   \n",
       "chr9:138232071-138232356     chr9   138232071  138232356                  2   \n",
       "\n",
       "                          mean_counts  log1p_mean_counts  \\\n",
       "chr1:10005-10731             0.025136           0.024825   \n",
       "chr1:28730-29439             0.001361           0.001360   \n",
       "chr1:91328-91482             0.000363           0.000363   \n",
       "chr1:139088-139266           0.000181           0.000181   \n",
       "chr1:180710-182007           0.035027           0.034428   \n",
       "...                               ...                ...   \n",
       "chr9:138203969-138204112     0.000544           0.000544   \n",
       "chr9:138209358-138209542     0.000544           0.000544   \n",
       "chr9:138213762-138214121     0.003085           0.003081   \n",
       "chr9:138215567-138215868     0.000091           0.000091   \n",
       "chr9:138232071-138232356     0.000181           0.000181   \n",
       "\n",
       "                          pct_dropout_by_counts  total_counts  \\\n",
       "chr1:10005-10731                      97.486388         277.0   \n",
       "chr1:28730-29439                      99.863884          15.0   \n",
       "chr1:91328-91482                      99.963702           4.0   \n",
       "chr1:139088-139266                    99.981851           2.0   \n",
       "chr1:180710-182007                    96.497278         386.0   \n",
       "...                                         ...           ...   \n",
       "chr9:138203969-138204112              99.945554           6.0   \n",
       "chr9:138209358-138209542              99.945554           6.0   \n",
       "chr9:138213762-138214121              99.691470          34.0   \n",
       "chr9:138215567-138215868              99.990926           1.0   \n",
       "chr9:138232071-138232356              99.981851           2.0   \n",
       "\n",
       "                          log1p_total_counts  n_cells  commonness  \\\n",
       "chr1:10005-10731                    5.627621      277       410.0   \n",
       "chr1:28730-29439                    2.772589       15        22.0   \n",
       "chr1:91328-91482                    1.609438        4         6.0   \n",
       "chr1:139088-139266                  1.098612        2         3.0   \n",
       "chr1:180710-182007                  5.958425      386       568.0   \n",
       "...                                      ...      ...         ...   \n",
       "chr9:138203969-138204112            1.945910        6         7.0   \n",
       "chr9:138209358-138209542            1.945910        6         8.0   \n",
       "chr9:138213762-138214121            3.555348       34        43.0   \n",
       "chr9:138215567-138215868            0.693147        1         3.0   \n",
       "chr9:138232071-138232356            1.098612        2         2.0   \n",
       "\n",
       "                          highly_variable  \n",
       "chr1:10005-10731                     True  \n",
       "chr1:28730-29439                     True  \n",
       "chr1:91328-91482                    False  \n",
       "chr1:139088-139266                  False  \n",
       "chr1:180710-182007                   True  \n",
       "...                                   ...  \n",
       "chr9:138203969-138204112             True  \n",
       "chr9:138209358-138209542             True  \n",
       "chr9:138213762-138214121             True  \n",
       "chr9:138215567-138215868            False  \n",
       "chr9:138232071-138232356            False  \n",
       "\n",
       "[166597 rows x 12 columns]"
      ]
     },
     "execution_count": 10,
     "metadata": {},
     "output_type": "execute_result"
    }
   ],
   "source": [
    "adata.var"
   ]
  },
  {
   "cell_type": "markdown",
   "id": "dc79b171",
   "metadata": {},
   "source": [
    "## Gene annotation "
   ]
  },
  {
   "cell_type": "code",
   "execution_count": 11,
   "id": "6eb3a2e9",
   "metadata": {},
   "outputs": [
    {
     "name": "stdout",
     "output_type": "stream",
     "text": [
      "Setting up annotation configuration...\n",
      "Config dictionary: {'queries': [{'distance': [10000, 1000], 'feature_anchor': ['start'], 'feature': ['gene'], 'name': 'promoters'}], 'priority': True, 'show_attributes': ['all'], 'output_by_query': False}\n",
      "Setting up genomic regions to annotate...\n",
      "Index(['peak_chr', 'peak_start', 'peak_end'], dtype='object')\n",
      "Preparing gtf file for annotation...\n",
      "- Reading gtf with Tabix\n",
      "- Index of gtf not found - trying to index gtf\n",
      "- Reading gtf with Tabix\n",
      "Done preparing gtf!\n",
      "Annotating regions...\n",
      "Formatting annotations...\n",
      "Finished annotation of features! The results are found in the .var table.\n",
      "[Errno 2] No such file or directory: ''\n"
     ]
    },
    {
     "data": {
      "text/plain": [
       "chr1:10005-10731                DDX11L1\n",
       "chr1:28730-29439            MIR1302-2HG\n",
       "chr1:91328-91482                    NaN\n",
       "chr1:139088-139266                  NaN\n",
       "chr1:180710-182007             DDX11L17\n",
       "                               ...     \n",
       "chr9:138203969-138204112            NaN\n",
       "chr9:138209358-138209542            NaN\n",
       "chr9:138213762-138214121        FAM157B\n",
       "chr9:138215567-138215868        FAM157B\n",
       "chr9:138232071-138232356            NaN\n",
       "Name: gene_name, Length: 166597, dtype: category\n",
       "Categories (20839, object): ['5S_rRNA', '5_8S_rRNA', '7SK', 'A1BG-AS1', ..., 'ZYG11B', 'ZYX', 'ZZZ3', 'hsa-mir-1253']"
      ]
     },
     "execution_count": 11,
     "metadata": {},
     "output_type": "execute_result"
    }
   ],
   "source": [
    "annot.annotate_adata(adata,\n",
    "                   GTF_PATH,\n",
    "                   config=None,\n",
    "                   best=True,\n",
    "                   threads=6,\n",
    "                   coordinate_cols=None,\n",
    "                   temp_dir=\"\",\n",
    "                   verbose=True,\n",
    "                   inplace=True)\n",
    "\n",
    "adata.var['gene_name']"
   ]
  },
  {
   "cell_type": "markdown",
   "id": "3b931dd7",
   "metadata": {},
   "source": [
    "### remove Nan"
   ]
  },
  {
   "cell_type": "code",
   "execution_count": 12,
   "id": "f816269f",
   "metadata": {},
   "outputs": [
    {
     "data": {
      "text/plain": [
       "chr1:10005-10731                DDX11L1\n",
       "chr1:28730-29439            MIR1302-2HG\n",
       "chr1:180710-182007             DDX11L17\n",
       "chr1:191767-191866            MIR6859-2\n",
       "chr1:199219-200319               WASH9P\n",
       "                               ...     \n",
       "chr9:137877669-137877793        CACNA1B\n",
       "chr9:138147665-138147786         TUBBP5\n",
       "chr9:138150009-138150225         TUBBP5\n",
       "chr9:138213762-138214121        FAM157B\n",
       "chr9:138215567-138215868        FAM157B\n",
       "Name: gene_name, Length: 37653, dtype: category\n",
       "Categories (20839, object): ['5S_rRNA', '5_8S_rRNA', '7SK', 'A1BG-AS1', ..., 'ZYG11B', 'ZYX', 'ZZZ3', 'hsa-mir-1253']"
      ]
     },
     "execution_count": 12,
     "metadata": {},
     "output_type": "execute_result"
    }
   ],
   "source": [
    "assigned_features = adata.var['gene_name'].dropna()\n",
    "adata = adata[:, assigned_features.index]\n",
    "adata.var['gene_name']"
   ]
  },
  {
   "cell_type": "markdown",
   "id": "903e12d5",
   "metadata": {},
   "source": [
    "## Unify genes column"
   ]
  },
  {
   "cell_type": "code",
   "execution_count": 13,
   "id": "348fb818",
   "metadata": {},
   "outputs": [
    {
     "ename": "_BiomartException",
     "evalue": "No internet connection available!",
     "output_type": "error",
     "traceback": [
      "\u001b[0;31m---------------------------------------------------------------------------\u001b[0m",
      "\u001b[0;31m_BiomartException\u001b[0m                         Traceback (most recent call last)",
      "Cell \u001b[0;32mIn[13], line 1\u001b[0m\n\u001b[0;32m----> 1\u001b[0m assigned_adata \u001b[38;5;241m=\u001b[39m \u001b[43mutils\u001b[49m\u001b[38;5;241;43m.\u001b[39;49m\u001b[43munify_genes_column\u001b[49m\u001b[43m(\u001b[49m\u001b[43madata\u001b[49m\u001b[43m,\u001b[49m\u001b[43m \u001b[49m\n\u001b[1;32m      2\u001b[0m \u001b[43m                   \u001b[49m\u001b[43mcolumn\u001b[49m\u001b[38;5;241;43m=\u001b[39;49m\u001b[38;5;124;43m'\u001b[39;49m\u001b[38;5;124;43mgene_name\u001b[39;49m\u001b[38;5;124;43m'\u001b[39;49m\u001b[43m,\u001b[49m\u001b[43m \u001b[49m\n\u001b[1;32m      3\u001b[0m \u001b[43m                   \u001b[49m\u001b[43mensembl_dataset\u001b[49m\u001b[38;5;241;43m=\u001b[39;49m\u001b[38;5;124;43m\"\u001b[39;49m\u001b[38;5;124;43mhsapiens_gene_ensembl\u001b[39;49m\u001b[38;5;124;43m\"\u001b[39;49m\u001b[43m)\u001b[49m\n",
      "File \u001b[0;32m~/.conda/envs/sctoolbox/lib/python3.10/site-packages/sctoolbox/utilities.py:1118\u001b[0m, in \u001b[0;36munify_genes_column\u001b[0;34m(adata, column, ensembl_dataset)\u001b[0m\n\u001b[1;32m   1103\u001b[0m \u001b[38;5;250m\u001b[39m\u001b[38;5;124;03m\"\"\"\u001b[39;00m\n\u001b[1;32m   1104\u001b[0m \u001b[38;5;124;03m\u001b[39;00m\n\u001b[1;32m   1105\u001b[0m \u001b[38;5;124;03mParameters\u001b[39;00m\n\u001b[0;32m   (...)\u001b[0m\n\u001b[1;32m   1113\u001b[0m \n\u001b[1;32m   1114\u001b[0m \u001b[38;5;124;03m\"\"\"\u001b[39;00m\n\u001b[1;32m   1116\u001b[0m assigned_features \u001b[38;5;241m=\u001b[39m adata\u001b[38;5;241m.\u001b[39mvar[column]\u001b[38;5;241m.\u001b[39mdropna()\n\u001b[0;32m-> 1118\u001b[0m df \u001b[38;5;241m=\u001b[39m \u001b[43mapybiomart\u001b[49m\u001b[38;5;241;43m.\u001b[39;49m\u001b[43mquery\u001b[49m\u001b[43m(\u001b[49m\u001b[43mattributes\u001b[49m\u001b[38;5;241;43m=\u001b[39;49m\u001b[43m[\u001b[49m\u001b[38;5;124;43m\"\u001b[39;49m\u001b[38;5;124;43mensembl_gene_id\u001b[39;49m\u001b[38;5;124;43m\"\u001b[39;49m\u001b[43m,\u001b[49m\u001b[43m \u001b[49m\u001b[38;5;124;43m\"\u001b[39;49m\u001b[38;5;124;43mexternal_gene_name\u001b[39;49m\u001b[38;5;124;43m\"\u001b[39;49m\u001b[43m]\u001b[49m\u001b[43m,\u001b[49m\n\u001b[1;32m   1119\u001b[0m \u001b[43m                      \u001b[49m\u001b[43mdataset\u001b[49m\u001b[38;5;241;43m=\u001b[39;49m\u001b[43mensembl_dataset\u001b[49m\u001b[43m,\u001b[49m\n\u001b[1;32m   1120\u001b[0m \u001b[43m                      \u001b[49m\u001b[43mfilters\u001b[49m\u001b[38;5;241;43m=\u001b[39;49m\u001b[43m{\u001b[49m\u001b[43m}\u001b[49m\u001b[43m)\u001b[49m\n\u001b[1;32m   1122\u001b[0m ens_dict \u001b[38;5;241m=\u001b[39m \u001b[38;5;28mdict\u001b[39m(\u001b[38;5;28mzip\u001b[39m(df[\u001b[38;5;124m'\u001b[39m\u001b[38;5;124mGene stable ID\u001b[39m\u001b[38;5;124m'\u001b[39m], df[\u001b[38;5;124m'\u001b[39m\u001b[38;5;124mGene name\u001b[39m\u001b[38;5;124m'\u001b[39m]))\n\u001b[1;32m   1124\u001b[0m count \u001b[38;5;241m=\u001b[39m \u001b[38;5;241m0\u001b[39m\n",
      "File \u001b[0;32m~/.conda/envs/sctoolbox/lib/python3.10/site-packages/apybiomart/apybiomart.py:83\u001b[0m, in \u001b[0;36mquery\u001b[0;34m(attributes, filters, dataset, save, output)\u001b[0m\n\u001b[1;32m     68\u001b[0m \u001b[38;5;28;01mdef\u001b[39;00m \u001b[38;5;21mquery\u001b[39m(attributes: List[\u001b[38;5;28mstr\u001b[39m],\n\u001b[1;32m     69\u001b[0m           filters: Dict[\u001b[38;5;28mstr\u001b[39m, Union[\u001b[38;5;28mstr\u001b[39m, \u001b[38;5;28mint\u001b[39m, \u001b[38;5;28mlist\u001b[39m, \u001b[38;5;28mtuple\u001b[39m, \u001b[38;5;28mbool\u001b[39m]],\n\u001b[1;32m     70\u001b[0m           dataset: \u001b[38;5;28mstr\u001b[39m \u001b[38;5;241m=\u001b[39m \u001b[38;5;124m\"\u001b[39m\u001b[38;5;124mhsapiens_gene_ensembl\u001b[39m\u001b[38;5;124m\"\u001b[39m,\n\u001b[1;32m     71\u001b[0m           save: \u001b[38;5;28mbool\u001b[39m \u001b[38;5;241m=\u001b[39m \u001b[38;5;28;01mFalse\u001b[39;00m,\n\u001b[1;32m     72\u001b[0m           output: \u001b[38;5;28mstr\u001b[39m \u001b[38;5;241m=\u001b[39m \u001b[38;5;124m\"\u001b[39m\u001b[38;5;124mapybiomart_query.csv\u001b[39m\u001b[38;5;124m\"\u001b[39m) \u001b[38;5;241m-\u001b[39m\u001b[38;5;241m>\u001b[39m pd\u001b[38;5;241m.\u001b[39mDataFrame:\n\u001b[1;32m     73\u001b[0m \u001b[38;5;250m    \u001b[39m\u001b[38;5;124;03m\"\"\"Launch synchronous query using the given attributes, filters and dataset.\u001b[39;00m\n\u001b[1;32m     74\u001b[0m \n\u001b[1;32m     75\u001b[0m \u001b[38;5;124;03m    Args:\u001b[39;00m\n\u001b[0;32m   (...)\u001b[0m\n\u001b[1;32m     81\u001b[0m \u001b[38;5;124;03m            [default: 'apybiomart_query.csv']\u001b[39;00m\n\u001b[1;32m     82\u001b[0m \u001b[38;5;124;03m    \"\"\"\u001b[39;00m\n\u001b[0;32m---> 83\u001b[0m     server \u001b[38;5;241m=\u001b[39m \u001b[43mQuery\u001b[49m\u001b[43m(\u001b[49m\u001b[43mattributes\u001b[49m\u001b[43m,\u001b[49m\u001b[43m \u001b[49m\u001b[43mfilters\u001b[49m\u001b[43m,\u001b[49m\u001b[43m \u001b[49m\u001b[43mdataset\u001b[49m\u001b[43m,\u001b[49m\u001b[43m \u001b[49m\u001b[43msave\u001b[49m\u001b[38;5;241;43m=\u001b[39;49m\u001b[43msave\u001b[49m\u001b[43m,\u001b[49m\u001b[43m \u001b[49m\u001b[43moutput\u001b[49m\u001b[38;5;241;43m=\u001b[39;49m\u001b[43moutput\u001b[49m\u001b[43m)\u001b[49m\n\u001b[1;32m     84\u001b[0m     \u001b[38;5;28;01mreturn\u001b[39;00m server\u001b[38;5;241m.\u001b[39mquery()\n",
      "File \u001b[0;32m~/.conda/envs/sctoolbox/lib/python3.10/site-packages/apybiomart/classes.py:341\u001b[0m, in \u001b[0;36mQuery.__init__\u001b[0;34m(self, attributes, filters, dataset, save, output)\u001b[0m\n\u001b[1;32m    335\u001b[0m \u001b[38;5;28;01mdef\u001b[39;00m \u001b[38;5;21m__init__\u001b[39m(\u001b[38;5;28mself\u001b[39m,\n\u001b[1;32m    336\u001b[0m              attributes: List[\u001b[38;5;28mstr\u001b[39m],\n\u001b[1;32m    337\u001b[0m              filters: Dict[\u001b[38;5;28mstr\u001b[39m, Union[\u001b[38;5;28mstr\u001b[39m, \u001b[38;5;28mint\u001b[39m, \u001b[38;5;28mlist\u001b[39m, \u001b[38;5;28mtuple\u001b[39m, \u001b[38;5;28mbool\u001b[39m]],\n\u001b[1;32m    338\u001b[0m              dataset: \u001b[38;5;28mstr\u001b[39m,\n\u001b[1;32m    339\u001b[0m              save: \u001b[38;5;28mbool\u001b[39m \u001b[38;5;241m=\u001b[39m \u001b[38;5;28;01mFalse\u001b[39;00m,\n\u001b[1;32m    340\u001b[0m              output: \u001b[38;5;28mstr\u001b[39m \u001b[38;5;241m=\u001b[39m \u001b[38;5;124m\"\u001b[39m\u001b[38;5;124mapybiomart_query.csv\u001b[39m\u001b[38;5;124m\"\u001b[39m):\n\u001b[0;32m--> 341\u001b[0m     \u001b[38;5;28;43msuper\u001b[39;49m\u001b[43m(\u001b[49m\u001b[43m)\u001b[49m\u001b[38;5;241;43m.\u001b[39;49m\u001b[38;5;21;43m__init__\u001b[39;49m\u001b[43m(\u001b[49m\u001b[43msave\u001b[49m\u001b[38;5;241;43m=\u001b[39;49m\u001b[43msave\u001b[49m\u001b[43m,\u001b[49m\u001b[43m \u001b[49m\u001b[43moutput\u001b[49m\u001b[38;5;241;43m=\u001b[39;49m\u001b[43moutput\u001b[49m\u001b[43m)\u001b[49m\n\u001b[1;32m    342\u001b[0m     \u001b[38;5;28mself\u001b[39m\u001b[38;5;241m.\u001b[39mattributes \u001b[38;5;241m=\u001b[39m attributes\n\u001b[1;32m    343\u001b[0m     \u001b[38;5;28mself\u001b[39m\u001b[38;5;241m.\u001b[39mfilters \u001b[38;5;241m=\u001b[39m filters\n",
      "File \u001b[0;32m~/.conda/envs/sctoolbox/lib/python3.10/site-packages/apybiomart/classes.py:37\u001b[0m, in \u001b[0;36m_Server.__init__\u001b[0;34m(self, host, save, output)\u001b[0m\n\u001b[1;32m     35\u001b[0m \u001b[38;5;28mself\u001b[39m\u001b[38;5;241m.\u001b[39moutput \u001b[38;5;241m=\u001b[39m output\n\u001b[1;32m     36\u001b[0m \u001b[38;5;28;01mif\u001b[39;00m \u001b[38;5;129;01mnot\u001b[39;00m \u001b[38;5;28mself\u001b[39m\u001b[38;5;241m.\u001b[39m_check_connection():\n\u001b[0;32m---> 37\u001b[0m     \u001b[38;5;28;01mraise\u001b[39;00m _BiomartException(\u001b[38;5;124m\"\u001b[39m\u001b[38;5;124mNo internet connection available!\u001b[39m\u001b[38;5;124m\"\u001b[39m)\n",
      "\u001b[0;31m_BiomartException\u001b[0m: No internet connection available!"
     ]
    }
   ],
   "source": [
    "assigned_adata = utils.unify_genes_column(\n",
    "    adata,\n",
    "    column=\"gene_name\",\n",
    "    unified_column=\"gene_name\",\n",
    "    species=ENSEMBL_DATASET,\n",
    "    inplace=False\n",
    ")"
   ]
  },
  {
   "cell_type": "markdown",
   "id": "38f22280",
   "metadata": {},
   "source": [
    "## Rank peaks"
   ]
  },
  {
   "cell_type": "code",
   "execution_count": null,
   "id": "addc01e4",
   "metadata": {},
   "outputs": [],
   "source": [
    "peaks_adata = assigned_adata.copy()"
   ]
  },
  {
   "cell_type": "code",
   "execution_count": null,
   "id": "789b3933",
   "metadata": {},
   "outputs": [],
   "source": [
    "peaks_adata.uns['log1p']['base'] = None"
   ]
  },
  {
   "cell_type": "code",
   "execution_count": null,
   "id": "e9617394",
   "metadata": {},
   "outputs": [],
   "source": [
    "for column in RESOLUTIONS:\n",
    "    print(f'Ranking peaks for clusters using obs column {column}')\n",
    "    epi.tl.rank_features(peaks_adata, f'{column}', omic='ATAC', \n",
    "                         key_added=f'rank_features_groups_{column}', n_features=100, use_raw=False)\n",
    "    \n",
    "print('Done')"
   ]
  },
  {
   "cell_type": "markdown",
   "id": "0c89f5de",
   "metadata": {},
   "source": [
    "## Rank genes\n",
    "Replace peaks with gene names"
   ]
  },
  {
   "cell_type": "code",
   "execution_count": null,
   "id": "902b5dfa",
   "metadata": {},
   "outputs": [],
   "source": [
    "genes_adata = peaks_adata.copy()\n",
    "genes_adata.var.reset_index(inplace=True)  # remove peaks from index and save them in the column ['index']\n",
    "genes_adata.var.set_index('gene_name',inplace=True)  # set genes as index\n",
    "genes_adata.var.index = genes_adata.var.index.astype('str')  # to avoid index being categorical\n",
    "genes_adata.var_names_make_unique(join='_')\n",
    "genes_adata.raw = genes_adata"
   ]
  },
  {
   "cell_type": "code",
   "execution_count": null,
   "id": "eb3e0afb",
   "metadata": {},
   "outputs": [],
   "source": [
    "for column in RESOLUTIONS:\n",
    "    print(f'Ranking genes groups for clusters using obs column {column}')\n",
    "    sc.tl.rank_genes_groups(genes_adata, groupby=f'{column}', use_raw=False, key_added=f'rank_genes_groups_{column}')\n",
    "    \n",
    "print('Done')"
   ]
  },
  {
   "cell_type": "markdown",
   "id": "0f01bf52",
   "metadata": {},
   "source": [
    "### Plot ranked genes"
   ]
  },
  {
   "cell_type": "code",
   "execution_count": null,
   "id": "fdb9f14a",
   "metadata": {},
   "outputs": [],
   "source": [
    "for column in RESOLUTIONS:\n",
    "    print(f'Plotting ranked genes groups for clustering column {column}')\n",
    "    plot_key = 'rank_genes_groups_' + str(column)\n",
    "    sc.pl.rank_genes_groups(genes_adata, key=plot_key, show=False)\n",
    "    # TODO\n",
    "    # if save_figs:\n",
    "    #    plt.savefig(f'{OUTPUT_FIGS}/ranked_genes_groups_leiden_{res}.png')\n",
    "    plt.show()"
   ]
  },
  {
   "cell_type": "code",
   "execution_count": null,
   "id": "61ddc2dd",
   "metadata": {},
   "outputs": [],
   "source": [
    "for column in RESOLUTIONS:\n",
    "    print(f'Plotting matrixplot for clustering column {column}')\n",
    "    plot_key = 'rank_genes_groups_' + str(column)\n",
    "    sc.pl.rank_genes_groups_matrixplot(genes_adata, standard_scale='var', n_genes=10, key=plot_key, show=False)\n",
    "    # TODO\n",
    "    # if save_figs:\n",
    "    #    plt.savefig(f'{OUTPUT_FIGS}/ranked_genes_groups_matrixplot_leiden_{res}.png')\n",
    "    plt.show()"
   ]
  },
  {
   "cell_type": "markdown",
   "id": "1fa31422",
   "metadata": {},
   "source": [
    "## Cell type annotation"
   ]
  },
  {
   "cell_type": "code",
   "execution_count": null,
   "id": "2cb93c15",
   "metadata": {},
   "outputs": [],
   "source": [
    "for column in RESOLUTIONS:\n",
    "    ctannot.annot_ct(adata=adata, genes_adata=genes_adata, output_path=tree.annotation_dir, \n",
    "                     db_path=f\"{PANGLAO_DB_PATH}\", cluster_path=None, cluster_column=f\"{column}\", \n",
    "                     rank_genes_column=f\"rank_genes_groups_{column}\", sample=tree.run, \n",
    "                     ct_column=f\"cell_types_{column}\", tissue=\"all\", db=\"panglao\", inplace=True, species=SPECIES)"
   ]
  },
  {
   "cell_type": "code",
   "execution_count": null,
   "id": "cbc57a0c",
   "metadata": {},
   "outputs": [],
   "source": [
    "for column in RESOLUTIONS:\n",
    "    sc.pl.umap(adata, color=[f'cell_types_{column}', f'{column}'], wspace=0.5)"
   ]
  },
  {
   "cell_type": "code",
   "execution_count": null,
   "id": "bb8ab541",
   "metadata": {},
   "outputs": [],
   "source": [
    "for column in RESOLUTIONS:\n",
    "    print(f\"Tables of cell type annotation with clustering {column}\")\n",
    "    ctannot.show_tables(annotation_dir=tree.annotation_dir, n=5, clustering_column=column)"
   ]
  },
  {
   "cell_type": "markdown",
   "id": "37f4fa9d",
   "metadata": {},
   "source": [
    "### Modify wrong cluster annotations by selecting other recommendations"
   ]
  },
  {
   "cell_type": "code",
   "execution_count": null,
   "id": "bedb7b3b",
   "metadata": {},
   "outputs": [],
   "source": [
    "if MODIFY_CELL_TYPES:\n",
    "# Pick the cell type column of the obs table you want to modify as well as the corresponding clustering column\n",
    "    cell_type_column = \"cell_types_leiden_0.4\"\n",
    "    clustering_column = \"leiden_0.4\"\n",
    "\n",
    "    ctannot.modify_ct(adata=adata, annotation_dir=tree.annotation_dir, clustering_column=clustering_column, \n",
    "                      cell_type_column=cell_type_column, inplace=True)"
   ]
  },
  {
   "cell_type": "markdown",
   "id": "6ecab000",
   "metadata": {},
   "source": [
    "### SCSA cell type annotation"
   ]
  },
  {
   "cell_type": "markdown",
   "id": "45a177cb",
   "metadata": {},
   "source": [
    "Removing underscores from gene names"
   ]
  },
  {
   "cell_type": "code",
   "execution_count": null,
   "id": "c13deffc",
   "metadata": {},
   "outputs": [],
   "source": [
    "genes_adata.var.index = pd.Index([name.split('_')[0] for name in genes_adata.var.index])"
   ]
  },
  {
   "cell_type": "markdown",
   "id": "eba96b69",
   "metadata": {},
   "source": [
    "Rank new gene names"
   ]
  },
  {
   "cell_type": "code",
   "execution_count": null,
   "id": "57f0dc6c",
   "metadata": {},
   "outputs": [],
   "source": [
    "for column in RESOLUTIONS:\n",
    "    print(f'Ranking genes groups for clusters using obs column {column}')\n",
    "    sc.tl.rank_genes_groups(genes_adata, groupby=f'{column}', use_raw=False, key_added=f'rank_genes_groups_SCSA_{column}')\n",
    "\n",
    "print('Done')"
   ]
  },
  {
   "cell_type": "code",
   "execution_count": null,
   "id": "9f228584",
   "metadata": {},
   "outputs": [],
   "source": [
    "for column in RESOLUTIONS:\n",
    "    run_scsa(genes_adata,\n",
    "             gene_column=None,\n",
    "             gene_symbol='auto',\n",
    "             key=f'rank_genes_groups_SCSA_{column}',\n",
    "             column_added=f'SCSA_pred_celltype_{column}',\n",
    "             inplace=True,\n",
    "             python_path=None,\n",
    "             scsa_path=None,\n",
    "             wholedb_path=None,\n",
    "             species=None,\n",
    "             fc=1.5,\n",
    "             pvalue=0.01,\n",
    "             tissue='All',\n",
    "             celltype='normal',\n",
    "             user_db=SCSA_CUSTOM_DB_PATH,\n",
    "             z_score='best',\n",
    "             )\n",
    "    adata.obs[f'SCSA_pred_celltype_{column}'] = genes_adata.obs[f'SCSA_pred_celltype_{column}']\n",
    "    sc.pl.umap(adata, color=[f'SCSA_pred_celltype_{column}', f'cell_types_{column}'], wspace=0.5)\n"
   ]
  },
  {
   "cell_type": "markdown",
   "id": "0fc82b62",
   "metadata": {},
   "source": [
    "## Save notebook and adata object"
   ]
  },
  {
   "cell_type": "code",
   "execution_count": null,
   "id": "8143827e",
   "metadata": {},
   "outputs": [],
   "source": [
    "repo_path = os.getcwd()\n",
    "notebook_name = '05_annotation.ipynb'\n",
    "notebook_path = os.path.join(repo_path, notebook_name)\n",
    "notebook_copy = os.path.join(tree.annotation_dir , notebook_name)\n",
    "shutil.copyfile(notebook_path, notebook_copy)"
   ]
  },
  {
   "cell_type": "code",
   "execution_count": null,
   "id": "bf57fc0e",
   "metadata": {},
   "outputs": [],
   "source": [
    "adata_output = tree.annotation_anndata\n",
    "adata.write(filename=adata_output)"
   ]
  },
  {
   "cell_type": "code",
   "execution_count": null,
   "id": "61d148f2",
   "metadata": {},
   "outputs": [],
   "source": []
  },
  {
   "cell_type": "code",
   "execution_count": null,
   "id": "1ccd3e71",
   "metadata": {},
   "outputs": [],
   "source": []
  },
  {
   "cell_type": "code",
   "execution_count": null,
   "id": "a90dad2f",
   "metadata": {},
   "outputs": [],
   "source": []
  }
 ],
 "metadata": {
  "kernelspec": {
   "display_name": "sctoolbox",
   "language": "python",
   "name": "sctoolbox"
  },
  "language_info": {
   "codemirror_mode": {
    "name": "ipython",
    "version": 3
   },
   "file_extension": ".py",
   "mimetype": "text/x-python",
   "name": "python",
   "nbconvert_exporter": "python",
   "pygments_lexer": "ipython3",
   "version": "3.10.6"
  }
 },
 "nbformat": 4,
 "nbformat_minor": 5
}
