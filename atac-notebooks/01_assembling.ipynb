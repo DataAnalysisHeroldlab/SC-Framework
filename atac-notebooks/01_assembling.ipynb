{
 "cells": [
  {
   "cell_type": "markdown",
   "id": "bf52b2e2",
   "metadata": {
    "pycharm": {
     "name": "#%% md\n"
    }
   },
   "source": [
    "# Assembling\n",
    "\n",
    "This notebook is used to assemble a processable h5ad object for subsequent notebooks."
   ]
  },
  {
   "cell_type": "markdown",
   "id": "c9e8b8fd",
   "metadata": {
    "pycharm": {
     "name": "#%% md\n"
    }
   },
   "source": [
    "## Fill in input data, output and settings"
   ]
  },
  {
   "cell_type": "code",
   "execution_count": 19,
   "id": "e99acf34",
   "metadata": {},
   "outputs": [],
   "source": [
    "#Path related settings (these should be the same as for the previous notebook)\n",
    "output_dir = '/mnt/workspace/jdetlef/processed_data' # specify the output directory of the processing should be the same in every notebook\n",
    "test = 'Esophagus_146_0.01' # sample name, this should be the same for all the notebooks"
   ]
  },
  {
   "cell_type": "code",
   "execution_count": 20,
   "id": "120c0f22",
   "metadata": {},
   "outputs": [],
   "source": [
    "################### DEFINING STRATEGY ###############################\n",
    "from_h5ad = True #option 1\n",
    "assembling_10_velocity = False #option 2\n",
    "assembling_10_public = False #option 3\n",
    "convert_seurat = False #option 4\n",
    "\n",
    "###################### INPUT DATA ###################################\n",
    "\n",
    "# For option 1: The path to an existing .h5ad file\n",
    "h5ad_files = ['/mnt/workspace/jdetlef/data/anndata/esophagus_muscularis_146_0.01.h5ad']\n",
    "#h5ad_files = ['/mnt/agnerds/PROJECTS/extern/ext442_scATAC_Glaser_11_22/preprocessing_output/data/all_annotated_peaks.h5ad']\n",
    "merge_column='Sample_new' # (str) if multiple h5ad files merged this is an identifier from which file it originates\n",
    "coordinate_cols=None # (list:str) columns where peak location data is stored (['chr', 'start', 'end'])\n",
    "set_index=True # (boolean) should the adata.var index be formatted, that it matches chr:start-stop\n",
    "index_from=\"name\" # (str) should the index be generated from a certain column. Otherwise this is None (SnapATAC: name)\n",
    "\n",
    "# Manually set existing QC Columns\n",
    "n_features_by_counts = None\n",
    "log1p_n_features_by_counts = None\n",
    "total_counts = None\n",
    "log1p_total_counts = None\n",
    "\n",
    "mean_insertsize = None\n",
    "nucleosomal_score_momentum = None\n",
    "nucleosomal_score_cwt = None\n",
    "genome_counts = None\n",
    "\n",
    "n_fragments_in_promoters = None\n",
    "pct_fragments_in_promoters = None\n",
    "blacklist_overlaps = None\n",
    "# total_number_of_fragments\n",
    "TN = None # 'TN'\n",
    "# uniquely_mapped_fragments\n",
    "UM = None # 'UM'\n",
    "# properly_paired_fragments\n",
    "PP = None # 'PP'\n",
    "# uniq_fragments\n",
    "UQ = None # 'UQ'\n",
    "# chrM_fragments\n",
    "CM = None # 'CM'\n",
    "\n",
    "#################### Calc QC Columns ###############################\n",
    "# set available number of threads\n",
    "n_threads = 8\n",
    "\n",
    "# Step 1: QC Metrics\n",
    "calc_qc_metrics = True # set True if the QC metrics should be calculated \n",
    "\n",
    "# Step 2 & 3\n",
    "use_bam = True # False if fragments should be used\n",
    "barcode_tag = 'CB' # set the tag where to find the barcode to use\n",
    "# if Step 2, 3 or both is executed specify either a BAM file or a fragments file:\n",
    "bam_file =  '/mnt/workspace/jdetlef/data/bamfiles/sorted_esophagus_muscularis_146_0.01.bam' # specify bamfile of the corresponding alignment\n",
    "fragments_file = '/mnt/workspace/jdetlef/data/bamfiles/fragments_esophagus_muscularis_146_0.01.bed' # specify fragments file (if this is possible use the fragments file directly)\n",
    "\n",
    "# Step 2: Calc metrics related to fragment length\n",
    "calc_fragment_length_metrics = True # set True if the mean insertsize should be calculated\n",
    "\n",
    "# Step 3: Promotor-enrichment\n",
    "calc_promotor_enrichment = True # set True if the promotor-enrichment should be calculated\n",
    "# specify promotors_gtf if another promoter than the fixed ones should be used\n",
    "# if promotors is None please specify species\n",
    "promoters_gtf =  '/mnt/workspace/jdetlef/data/homo_sapiens.104.promoters2000.gtf' # '/mnt/workspace/jdetlef/ext_ana/mus_musculus.104.promoters2000.gtf'\n",
    "species = None"
   ]
  },
  {
   "cell_type": "markdown",
   "id": "6d6dd817",
   "metadata": {
    "pycharm": {
     "name": "#%% md\n"
    }
   },
   "source": [
    "## Import modules"
   ]
  },
  {
   "cell_type": "code",
   "execution_count": 21,
   "id": "c997211a",
   "metadata": {},
   "outputs": [],
   "source": [
    "# sctoolbox modules \n",
    "import sctoolbox.atac_tree as sub_tree\n",
    "import sctoolbox.creators as cr\n",
    "import sctoolbox.fragment_length as fragments\n",
    "import sctoolbox.atac as atac\n",
    "import sctoolbox.calc_overlap_pct as overlap\n",
    "import sctoolbox.analyser \n",
    "import sctoolbox.nucleosome_utils as nuc_utils\n",
    "from sctoolbox.qc_filter import *\n",
    "from sctoolbox.atac_utils import *\n",
    "# import episcanpy\n",
    "import episcanpy as epi"
   ]
  },
  {
   "cell_type": "markdown",
   "id": "4fc0e3d7",
   "metadata": {
    "pycharm": {
     "name": "#%% md\n"
    }
   },
   "source": [
    "## Setup path handling object "
   ]
  },
  {
   "cell_type": "code",
   "execution_count": 22,
   "id": "880c04fb",
   "metadata": {},
   "outputs": [
    {
     "name": "stdout",
     "output_type": "stream",
     "text": [
      "Warning: run is None\n",
      "all directories existing\n",
      "all directories existing\n"
     ]
    }
   ],
   "source": [
    "# make an instance of the class\n",
    "tree = sub_tree.ATAC_tree()\n",
    "# set processing/output directory\n",
    "tree.processing_dir = output_dir\n",
    "# set sample/experiment.. \n",
    "tree.run = test"
   ]
  },
  {
   "cell_type": "markdown",
   "id": "84b9cddf",
   "metadata": {
    "pycharm": {
     "name": "#%% md\n"
    }
   },
   "source": [
    "## Read in data"
   ]
  },
  {
   "cell_type": "markdown",
   "id": "7e7b43d6",
   "metadata": {
    "pycharm": {
     "name": "#%% md\n"
    }
   },
   "source": [
    "### Option 1: Read from .h5ad"
   ]
  },
  {
   "cell_type": "code",
   "execution_count": 23,
   "id": "96a9a071",
   "metadata": {},
   "outputs": [],
   "source": [
    "qc_columns = {}\n",
    "qc_columns[\"n_features_by_counts\"] = n_features_by_counts\n",
    "qc_columns[\"log1p_n_features_by_counts\"] = log1p_n_features_by_counts\n",
    "qc_columns[\"total_counts\"] = total_counts\n",
    "qc_columns[\"log1p_total_counts\"] = log1p_total_counts\n",
    "\n",
    "qc_columns[\"mean_insertsize\"] = mean_insertsize\n",
    "qc_columns['nucleosomal_score_momentum'] = nucleosomal_score_momentum\n",
    "qc_columns['nucleosomal_score_cwt'] = nucleosomal_score_cwt\n",
    "qc_columns['genome_counts'] = genome_counts\n",
    "\n",
    "qc_columns['n_fragments_in_promoters'] = n_fragments_in_promoters\n",
    "qc_columns['pct_fragments_in_promoters'] = pct_fragments_in_promoters\n",
    "qc_columns[\"blacklist_overlaps\"] = blacklist_overlaps\n",
    "\n",
    "qc_columns[\"TN\"] = TN\n",
    "qc_columns[\"UM\"] = UM\n",
    "qc_columns[\"PP\"] = PP\n",
    "qc_columns[\"UQ\"] = UQ\n",
    "qc_columns[\"CM\"] = CM"
   ]
  },
  {
   "cell_type": "code",
   "execution_count": 24,
   "id": "6b900535",
   "metadata": {},
   "outputs": [
    {
     "name": "stderr",
     "output_type": "stream",
     "text": [
      " ImplicitModificationWarning:/home/jdetlef/.conda/envs/sctoolbox/lib/python3.10/site-packages/anndata/_core/anndata.py:121: Transforming to str index.\n"
     ]
    },
    {
     "name": "stdout",
     "output_type": "stream",
     "text": [
      "Index(['peak_chr', 'peak_start', 'peak_end'], dtype='object')\n",
      "add existing adata.obs columns to infoprocess:\n",
      "\n",
      "setting adata.obs.index = adata.obs[barcode]\n"
     ]
    }
   ],
   "source": [
    "if from_h5ad:\n",
    "    \n",
    "    adata = assemble_from_h5ad(h5ad_files,\n",
    "                       qc_columns,\n",
    "                       merge_column=merge_column,\n",
    "                       coordinate_cols=coordinate_cols,\n",
    "                       set_index=set_index,\n",
    "                       index_from=index_from)"
   ]
  },
  {
   "cell_type": "code",
   "execution_count": 25,
   "id": "d74c76d9",
   "metadata": {},
   "outputs": [
    {
     "data": {
      "text/html": [
       "<div>\n",
       "<style scoped>\n",
       "    .dataframe tbody tr th:only-of-type {\n",
       "        vertical-align: middle;\n",
       "    }\n",
       "\n",
       "    .dataframe tbody tr th {\n",
       "        vertical-align: top;\n",
       "    }\n",
       "\n",
       "    .dataframe thead th {\n",
       "        text-align: right;\n",
       "    }\n",
       "</style>\n",
       "<table border=\"1\" class=\"dataframe\">\n",
       "  <thead>\n",
       "    <tr style=\"text-align: right;\">\n",
       "      <th></th>\n",
       "      <th>TN</th>\n",
       "      <th>UM</th>\n",
       "      <th>PP</th>\n",
       "      <th>UQ</th>\n",
       "      <th>CM</th>\n",
       "      <th>file</th>\n",
       "      <th>sample</th>\n",
       "      <th>Sample_new</th>\n",
       "    </tr>\n",
       "  </thead>\n",
       "  <tbody>\n",
       "    <tr>\n",
       "      <th>AAACTACCAGAAACCCGAGATA</th>\n",
       "      <td>33.0</td>\n",
       "      <td>18.0</td>\n",
       "      <td>18.0</td>\n",
       "      <td>15.0</td>\n",
       "      <td>0.0</td>\n",
       "      <td>/mnt/workspace/jdetlef/data/anndata/esophagus_...</td>\n",
       "      <td>MB</td>\n",
       "      <td>sample1</td>\n",
       "    </tr>\n",
       "    <tr>\n",
       "      <th>AAACTACCAGAAACCTAAGTGG</th>\n",
       "      <td>52.0</td>\n",
       "      <td>36.0</td>\n",
       "      <td>35.0</td>\n",
       "      <td>32.0</td>\n",
       "      <td>1.0</td>\n",
       "      <td>/mnt/workspace/jdetlef/data/anndata/esophagus_...</td>\n",
       "      <td>MB</td>\n",
       "      <td>sample1</td>\n",
       "    </tr>\n",
       "    <tr>\n",
       "      <th>AAACTACCAGAAACGGATCAGT</th>\n",
       "      <td>27.0</td>\n",
       "      <td>19.0</td>\n",
       "      <td>19.0</td>\n",
       "      <td>19.0</td>\n",
       "      <td>0.0</td>\n",
       "      <td>/mnt/workspace/jdetlef/data/anndata/esophagus_...</td>\n",
       "      <td>MB</td>\n",
       "      <td>sample1</td>\n",
       "    </tr>\n",
       "    <tr>\n",
       "      <th>AAACTACCAGAAACGTCCCGTT</th>\n",
       "      <td>6223.0</td>\n",
       "      <td>5231.0</td>\n",
       "      <td>5213.0</td>\n",
       "      <td>3779.0</td>\n",
       "      <td>18.0</td>\n",
       "      <td>/mnt/workspace/jdetlef/data/anndata/esophagus_...</td>\n",
       "      <td>MB</td>\n",
       "      <td>sample1</td>\n",
       "    </tr>\n",
       "    <tr>\n",
       "      <th>AAACTACCAGAAACTAGCCCTA</th>\n",
       "      <td>41.0</td>\n",
       "      <td>29.0</td>\n",
       "      <td>29.0</td>\n",
       "      <td>26.0</td>\n",
       "      <td>0.0</td>\n",
       "      <td>/mnt/workspace/jdetlef/data/anndata/esophagus_...</td>\n",
       "      <td>MB</td>\n",
       "      <td>sample1</td>\n",
       "    </tr>\n",
       "    <tr>\n",
       "      <th>...</th>\n",
       "      <td>...</td>\n",
       "      <td>...</td>\n",
       "      <td>...</td>\n",
       "      <td>...</td>\n",
       "      <td>...</td>\n",
       "      <td>...</td>\n",
       "      <td>...</td>\n",
       "      <td>...</td>\n",
       "    </tr>\n",
       "    <tr>\n",
       "      <th>TTCCATCCTCTTTCGCGTGTAA</th>\n",
       "      <td>9.0</td>\n",
       "      <td>6.0</td>\n",
       "      <td>6.0</td>\n",
       "      <td>6.0</td>\n",
       "      <td>0.0</td>\n",
       "      <td>/mnt/workspace/jdetlef/data/anndata/esophagus_...</td>\n",
       "      <td>MB</td>\n",
       "      <td>sample1</td>\n",
       "    </tr>\n",
       "    <tr>\n",
       "      <th>TTCCATCCTCTTTCTGCAGACT</th>\n",
       "      <td>10.0</td>\n",
       "      <td>6.0</td>\n",
       "      <td>6.0</td>\n",
       "      <td>6.0</td>\n",
       "      <td>1.0</td>\n",
       "      <td>/mnt/workspace/jdetlef/data/anndata/esophagus_...</td>\n",
       "      <td>MB</td>\n",
       "      <td>sample1</td>\n",
       "    </tr>\n",
       "    <tr>\n",
       "      <th>TTCCATCCTCTTTCTGGCGCAG</th>\n",
       "      <td>17.0</td>\n",
       "      <td>5.0</td>\n",
       "      <td>5.0</td>\n",
       "      <td>5.0</td>\n",
       "      <td>1.0</td>\n",
       "      <td>/mnt/workspace/jdetlef/data/anndata/esophagus_...</td>\n",
       "      <td>MB</td>\n",
       "      <td>sample1</td>\n",
       "    </tr>\n",
       "    <tr>\n",
       "      <th>TTCCATCCTCTTTGCCGGAAGG</th>\n",
       "      <td>8.0</td>\n",
       "      <td>7.0</td>\n",
       "      <td>7.0</td>\n",
       "      <td>7.0</td>\n",
       "      <td>0.0</td>\n",
       "      <td>/mnt/workspace/jdetlef/data/anndata/esophagus_...</td>\n",
       "      <td>MB</td>\n",
       "      <td>sample1</td>\n",
       "    </tr>\n",
       "    <tr>\n",
       "      <th>TTCCATCCTCTTTGTGTTACCG</th>\n",
       "      <td>19.0</td>\n",
       "      <td>9.0</td>\n",
       "      <td>9.0</td>\n",
       "      <td>7.0</td>\n",
       "      <td>0.0</td>\n",
       "      <td>/mnt/workspace/jdetlef/data/anndata/esophagus_...</td>\n",
       "      <td>MB</td>\n",
       "      <td>sample1</td>\n",
       "    </tr>\n",
       "  </tbody>\n",
       "</table>\n",
       "<p>73652 rows × 8 columns</p>\n",
       "</div>"
      ],
      "text/plain": [
       "                            TN      UM      PP      UQ    CM  \\\n",
       "AAACTACCAGAAACCCGAGATA    33.0    18.0    18.0    15.0   0.0   \n",
       "AAACTACCAGAAACCTAAGTGG    52.0    36.0    35.0    32.0   1.0   \n",
       "AAACTACCAGAAACGGATCAGT    27.0    19.0    19.0    19.0   0.0   \n",
       "AAACTACCAGAAACGTCCCGTT  6223.0  5231.0  5213.0  3779.0  18.0   \n",
       "AAACTACCAGAAACTAGCCCTA    41.0    29.0    29.0    26.0   0.0   \n",
       "...                        ...     ...     ...     ...   ...   \n",
       "TTCCATCCTCTTTCGCGTGTAA     9.0     6.0     6.0     6.0   0.0   \n",
       "TTCCATCCTCTTTCTGCAGACT    10.0     6.0     6.0     6.0   1.0   \n",
       "TTCCATCCTCTTTCTGGCGCAG    17.0     5.0     5.0     5.0   1.0   \n",
       "TTCCATCCTCTTTGCCGGAAGG     8.0     7.0     7.0     7.0   0.0   \n",
       "TTCCATCCTCTTTGTGTTACCG    19.0     9.0     9.0     7.0   0.0   \n",
       "\n",
       "                                                                     file  \\\n",
       "AAACTACCAGAAACCCGAGATA  /mnt/workspace/jdetlef/data/anndata/esophagus_...   \n",
       "AAACTACCAGAAACCTAAGTGG  /mnt/workspace/jdetlef/data/anndata/esophagus_...   \n",
       "AAACTACCAGAAACGGATCAGT  /mnt/workspace/jdetlef/data/anndata/esophagus_...   \n",
       "AAACTACCAGAAACGTCCCGTT  /mnt/workspace/jdetlef/data/anndata/esophagus_...   \n",
       "AAACTACCAGAAACTAGCCCTA  /mnt/workspace/jdetlef/data/anndata/esophagus_...   \n",
       "...                                                                   ...   \n",
       "TTCCATCCTCTTTCGCGTGTAA  /mnt/workspace/jdetlef/data/anndata/esophagus_...   \n",
       "TTCCATCCTCTTTCTGCAGACT  /mnt/workspace/jdetlef/data/anndata/esophagus_...   \n",
       "TTCCATCCTCTTTCTGGCGCAG  /mnt/workspace/jdetlef/data/anndata/esophagus_...   \n",
       "TTCCATCCTCTTTGCCGGAAGG  /mnt/workspace/jdetlef/data/anndata/esophagus_...   \n",
       "TTCCATCCTCTTTGTGTTACCG  /mnt/workspace/jdetlef/data/anndata/esophagus_...   \n",
       "\n",
       "                       sample Sample_new  \n",
       "AAACTACCAGAAACCCGAGATA     MB    sample1  \n",
       "AAACTACCAGAAACCTAAGTGG     MB    sample1  \n",
       "AAACTACCAGAAACGGATCAGT     MB    sample1  \n",
       "AAACTACCAGAAACGTCCCGTT     MB    sample1  \n",
       "AAACTACCAGAAACTAGCCCTA     MB    sample1  \n",
       "...                       ...        ...  \n",
       "TTCCATCCTCTTTCGCGTGTAA     MB    sample1  \n",
       "TTCCATCCTCTTTCTGCAGACT     MB    sample1  \n",
       "TTCCATCCTCTTTCTGGCGCAG     MB    sample1  \n",
       "TTCCATCCTCTTTGCCGGAAGG     MB    sample1  \n",
       "TTCCATCCTCTTTGTGTTACCG     MB    sample1  \n",
       "\n",
       "[73652 rows x 8 columns]"
      ]
     },
     "execution_count": 25,
     "metadata": {},
     "output_type": "execute_result"
    }
   ],
   "source": [
    "adata.obs"
   ]
  },
  {
   "cell_type": "markdown",
   "id": "746f9da5",
   "metadata": {
    "pycharm": {
     "name": "#%% md\n"
    }
   },
   "source": [
    "## Inspect adata"
   ]
  },
  {
   "cell_type": "code",
   "execution_count": 26,
   "id": "9e059525",
   "metadata": {},
   "outputs": [
    {
     "data": {
      "text/plain": [
       "AnnData object with n_obs × n_vars = 73652 × 174262\n",
       "    obs: 'TN', 'UM', 'PP', 'UQ', 'CM', 'file', 'sample', 'Sample_new'\n",
       "    var: 'peak_chr', 'peak_start', 'peak_end'\n",
       "    uns: 'infoprocess', 'color_set'"
      ]
     },
     "metadata": {},
     "output_type": "display_data"
    }
   ],
   "source": [
    "display(adata)"
   ]
  },
  {
   "cell_type": "code",
   "execution_count": 27,
   "id": "d4ec8cb1",
   "metadata": {},
   "outputs": [
    {
     "data": {
      "text/html": [
       "<div>\n",
       "<style scoped>\n",
       "    .dataframe tbody tr th:only-of-type {\n",
       "        vertical-align: middle;\n",
       "    }\n",
       "\n",
       "    .dataframe tbody tr th {\n",
       "        vertical-align: top;\n",
       "    }\n",
       "\n",
       "    .dataframe thead th {\n",
       "        text-align: right;\n",
       "    }\n",
       "</style>\n",
       "<table border=\"1\" class=\"dataframe\">\n",
       "  <thead>\n",
       "    <tr style=\"text-align: right;\">\n",
       "      <th></th>\n",
       "      <th>TN</th>\n",
       "      <th>UM</th>\n",
       "      <th>PP</th>\n",
       "      <th>UQ</th>\n",
       "      <th>CM</th>\n",
       "      <th>file</th>\n",
       "      <th>sample</th>\n",
       "      <th>Sample_new</th>\n",
       "    </tr>\n",
       "  </thead>\n",
       "  <tbody>\n",
       "    <tr>\n",
       "      <th>AAACTACCAGAAACCCGAGATA</th>\n",
       "      <td>33.0</td>\n",
       "      <td>18.0</td>\n",
       "      <td>18.0</td>\n",
       "      <td>15.0</td>\n",
       "      <td>0.0</td>\n",
       "      <td>/mnt/workspace/jdetlef/data/anndata/esophagus_...</td>\n",
       "      <td>MB</td>\n",
       "      <td>sample1</td>\n",
       "    </tr>\n",
       "    <tr>\n",
       "      <th>AAACTACCAGAAACCTAAGTGG</th>\n",
       "      <td>52.0</td>\n",
       "      <td>36.0</td>\n",
       "      <td>35.0</td>\n",
       "      <td>32.0</td>\n",
       "      <td>1.0</td>\n",
       "      <td>/mnt/workspace/jdetlef/data/anndata/esophagus_...</td>\n",
       "      <td>MB</td>\n",
       "      <td>sample1</td>\n",
       "    </tr>\n",
       "    <tr>\n",
       "      <th>AAACTACCAGAAACGGATCAGT</th>\n",
       "      <td>27.0</td>\n",
       "      <td>19.0</td>\n",
       "      <td>19.0</td>\n",
       "      <td>19.0</td>\n",
       "      <td>0.0</td>\n",
       "      <td>/mnt/workspace/jdetlef/data/anndata/esophagus_...</td>\n",
       "      <td>MB</td>\n",
       "      <td>sample1</td>\n",
       "    </tr>\n",
       "    <tr>\n",
       "      <th>AAACTACCAGAAACGTCCCGTT</th>\n",
       "      <td>6223.0</td>\n",
       "      <td>5231.0</td>\n",
       "      <td>5213.0</td>\n",
       "      <td>3779.0</td>\n",
       "      <td>18.0</td>\n",
       "      <td>/mnt/workspace/jdetlef/data/anndata/esophagus_...</td>\n",
       "      <td>MB</td>\n",
       "      <td>sample1</td>\n",
       "    </tr>\n",
       "    <tr>\n",
       "      <th>AAACTACCAGAAACTAGCCCTA</th>\n",
       "      <td>41.0</td>\n",
       "      <td>29.0</td>\n",
       "      <td>29.0</td>\n",
       "      <td>26.0</td>\n",
       "      <td>0.0</td>\n",
       "      <td>/mnt/workspace/jdetlef/data/anndata/esophagus_...</td>\n",
       "      <td>MB</td>\n",
       "      <td>sample1</td>\n",
       "    </tr>\n",
       "    <tr>\n",
       "      <th>...</th>\n",
       "      <td>...</td>\n",
       "      <td>...</td>\n",
       "      <td>...</td>\n",
       "      <td>...</td>\n",
       "      <td>...</td>\n",
       "      <td>...</td>\n",
       "      <td>...</td>\n",
       "      <td>...</td>\n",
       "    </tr>\n",
       "    <tr>\n",
       "      <th>TTCCATCCTCTTTCGCGTGTAA</th>\n",
       "      <td>9.0</td>\n",
       "      <td>6.0</td>\n",
       "      <td>6.0</td>\n",
       "      <td>6.0</td>\n",
       "      <td>0.0</td>\n",
       "      <td>/mnt/workspace/jdetlef/data/anndata/esophagus_...</td>\n",
       "      <td>MB</td>\n",
       "      <td>sample1</td>\n",
       "    </tr>\n",
       "    <tr>\n",
       "      <th>TTCCATCCTCTTTCTGCAGACT</th>\n",
       "      <td>10.0</td>\n",
       "      <td>6.0</td>\n",
       "      <td>6.0</td>\n",
       "      <td>6.0</td>\n",
       "      <td>1.0</td>\n",
       "      <td>/mnt/workspace/jdetlef/data/anndata/esophagus_...</td>\n",
       "      <td>MB</td>\n",
       "      <td>sample1</td>\n",
       "    </tr>\n",
       "    <tr>\n",
       "      <th>TTCCATCCTCTTTCTGGCGCAG</th>\n",
       "      <td>17.0</td>\n",
       "      <td>5.0</td>\n",
       "      <td>5.0</td>\n",
       "      <td>5.0</td>\n",
       "      <td>1.0</td>\n",
       "      <td>/mnt/workspace/jdetlef/data/anndata/esophagus_...</td>\n",
       "      <td>MB</td>\n",
       "      <td>sample1</td>\n",
       "    </tr>\n",
       "    <tr>\n",
       "      <th>TTCCATCCTCTTTGCCGGAAGG</th>\n",
       "      <td>8.0</td>\n",
       "      <td>7.0</td>\n",
       "      <td>7.0</td>\n",
       "      <td>7.0</td>\n",
       "      <td>0.0</td>\n",
       "      <td>/mnt/workspace/jdetlef/data/anndata/esophagus_...</td>\n",
       "      <td>MB</td>\n",
       "      <td>sample1</td>\n",
       "    </tr>\n",
       "    <tr>\n",
       "      <th>TTCCATCCTCTTTGTGTTACCG</th>\n",
       "      <td>19.0</td>\n",
       "      <td>9.0</td>\n",
       "      <td>9.0</td>\n",
       "      <td>7.0</td>\n",
       "      <td>0.0</td>\n",
       "      <td>/mnt/workspace/jdetlef/data/anndata/esophagus_...</td>\n",
       "      <td>MB</td>\n",
       "      <td>sample1</td>\n",
       "    </tr>\n",
       "  </tbody>\n",
       "</table>\n",
       "<p>73652 rows × 8 columns</p>\n",
       "</div>"
      ],
      "text/plain": [
       "                            TN      UM      PP      UQ    CM  \\\n",
       "AAACTACCAGAAACCCGAGATA    33.0    18.0    18.0    15.0   0.0   \n",
       "AAACTACCAGAAACCTAAGTGG    52.0    36.0    35.0    32.0   1.0   \n",
       "AAACTACCAGAAACGGATCAGT    27.0    19.0    19.0    19.0   0.0   \n",
       "AAACTACCAGAAACGTCCCGTT  6223.0  5231.0  5213.0  3779.0  18.0   \n",
       "AAACTACCAGAAACTAGCCCTA    41.0    29.0    29.0    26.0   0.0   \n",
       "...                        ...     ...     ...     ...   ...   \n",
       "TTCCATCCTCTTTCGCGTGTAA     9.0     6.0     6.0     6.0   0.0   \n",
       "TTCCATCCTCTTTCTGCAGACT    10.0     6.0     6.0     6.0   1.0   \n",
       "TTCCATCCTCTTTCTGGCGCAG    17.0     5.0     5.0     5.0   1.0   \n",
       "TTCCATCCTCTTTGCCGGAAGG     8.0     7.0     7.0     7.0   0.0   \n",
       "TTCCATCCTCTTTGTGTTACCG    19.0     9.0     9.0     7.0   0.0   \n",
       "\n",
       "                                                                     file  \\\n",
       "AAACTACCAGAAACCCGAGATA  /mnt/workspace/jdetlef/data/anndata/esophagus_...   \n",
       "AAACTACCAGAAACCTAAGTGG  /mnt/workspace/jdetlef/data/anndata/esophagus_...   \n",
       "AAACTACCAGAAACGGATCAGT  /mnt/workspace/jdetlef/data/anndata/esophagus_...   \n",
       "AAACTACCAGAAACGTCCCGTT  /mnt/workspace/jdetlef/data/anndata/esophagus_...   \n",
       "AAACTACCAGAAACTAGCCCTA  /mnt/workspace/jdetlef/data/anndata/esophagus_...   \n",
       "...                                                                   ...   \n",
       "TTCCATCCTCTTTCGCGTGTAA  /mnt/workspace/jdetlef/data/anndata/esophagus_...   \n",
       "TTCCATCCTCTTTCTGCAGACT  /mnt/workspace/jdetlef/data/anndata/esophagus_...   \n",
       "TTCCATCCTCTTTCTGGCGCAG  /mnt/workspace/jdetlef/data/anndata/esophagus_...   \n",
       "TTCCATCCTCTTTGCCGGAAGG  /mnt/workspace/jdetlef/data/anndata/esophagus_...   \n",
       "TTCCATCCTCTTTGTGTTACCG  /mnt/workspace/jdetlef/data/anndata/esophagus_...   \n",
       "\n",
       "                       sample Sample_new  \n",
       "AAACTACCAGAAACCCGAGATA     MB    sample1  \n",
       "AAACTACCAGAAACCTAAGTGG     MB    sample1  \n",
       "AAACTACCAGAAACGGATCAGT     MB    sample1  \n",
       "AAACTACCAGAAACGTCCCGTT     MB    sample1  \n",
       "AAACTACCAGAAACTAGCCCTA     MB    sample1  \n",
       "...                       ...        ...  \n",
       "TTCCATCCTCTTTCGCGTGTAA     MB    sample1  \n",
       "TTCCATCCTCTTTCTGCAGACT     MB    sample1  \n",
       "TTCCATCCTCTTTCTGGCGCAG     MB    sample1  \n",
       "TTCCATCCTCTTTGCCGGAAGG     MB    sample1  \n",
       "TTCCATCCTCTTTGTGTTACCG     MB    sample1  \n",
       "\n",
       "[73652 rows x 8 columns]"
      ]
     },
     "metadata": {},
     "output_type": "display_data"
    }
   ],
   "source": [
    "display(adata.obs)"
   ]
  },
  {
   "cell_type": "markdown",
   "id": "3405de5d",
   "metadata": {
    "pycharm": {
     "name": "#%% md\n"
    }
   },
   "source": [
    "## Calculate missing columns"
   ]
  },
  {
   "cell_type": "markdown",
   "id": "78fcd9b3",
   "metadata": {},
   "source": [
    "### 1. calculate scanpy qc_metrics (n_features)"
   ]
  },
  {
   "cell_type": "code",
   "execution_count": 28,
   "id": "97a9760e",
   "metadata": {},
   "outputs": [
    {
     "data": {
      "text/html": [
       "<div>\n",
       "<style scoped>\n",
       "    .dataframe tbody tr th:only-of-type {\n",
       "        vertical-align: middle;\n",
       "    }\n",
       "\n",
       "    .dataframe tbody tr th {\n",
       "        vertical-align: top;\n",
       "    }\n",
       "\n",
       "    .dataframe thead th {\n",
       "        text-align: right;\n",
       "    }\n",
       "</style>\n",
       "<table border=\"1\" class=\"dataframe\">\n",
       "  <thead>\n",
       "    <tr style=\"text-align: right;\">\n",
       "      <th></th>\n",
       "      <th>TN</th>\n",
       "      <th>UM</th>\n",
       "      <th>PP</th>\n",
       "      <th>UQ</th>\n",
       "      <th>CM</th>\n",
       "      <th>file</th>\n",
       "      <th>sample</th>\n",
       "      <th>Sample_new</th>\n",
       "      <th>n_features_by_counts</th>\n",
       "      <th>log1p_n_features_by_counts</th>\n",
       "      <th>total_counts</th>\n",
       "      <th>log1p_total_counts</th>\n",
       "    </tr>\n",
       "  </thead>\n",
       "  <tbody>\n",
       "    <tr>\n",
       "      <th>AAACTACCAGAAACCCGAGATA</th>\n",
       "      <td>33.0</td>\n",
       "      <td>18.0</td>\n",
       "      <td>18.0</td>\n",
       "      <td>15.0</td>\n",
       "      <td>0.0</td>\n",
       "      <td>/mnt/workspace/jdetlef/data/anndata/esophagus_...</td>\n",
       "      <td>MB</td>\n",
       "      <td>sample1</td>\n",
       "      <td>5</td>\n",
       "      <td>1.791759</td>\n",
       "      <td>5.0</td>\n",
       "      <td>1.791759</td>\n",
       "    </tr>\n",
       "    <tr>\n",
       "      <th>AAACTACCAGAAACCTAAGTGG</th>\n",
       "      <td>52.0</td>\n",
       "      <td>36.0</td>\n",
       "      <td>35.0</td>\n",
       "      <td>32.0</td>\n",
       "      <td>1.0</td>\n",
       "      <td>/mnt/workspace/jdetlef/data/anndata/esophagus_...</td>\n",
       "      <td>MB</td>\n",
       "      <td>sample1</td>\n",
       "      <td>17</td>\n",
       "      <td>2.890372</td>\n",
       "      <td>17.0</td>\n",
       "      <td>2.890372</td>\n",
       "    </tr>\n",
       "    <tr>\n",
       "      <th>AAACTACCAGAAACGGATCAGT</th>\n",
       "      <td>27.0</td>\n",
       "      <td>19.0</td>\n",
       "      <td>19.0</td>\n",
       "      <td>19.0</td>\n",
       "      <td>0.0</td>\n",
       "      <td>/mnt/workspace/jdetlef/data/anndata/esophagus_...</td>\n",
       "      <td>MB</td>\n",
       "      <td>sample1</td>\n",
       "      <td>10</td>\n",
       "      <td>2.397895</td>\n",
       "      <td>10.0</td>\n",
       "      <td>2.397895</td>\n",
       "    </tr>\n",
       "    <tr>\n",
       "      <th>AAACTACCAGAAACGTCCCGTT</th>\n",
       "      <td>6223.0</td>\n",
       "      <td>5231.0</td>\n",
       "      <td>5213.0</td>\n",
       "      <td>3779.0</td>\n",
       "      <td>18.0</td>\n",
       "      <td>/mnt/workspace/jdetlef/data/anndata/esophagus_...</td>\n",
       "      <td>MB</td>\n",
       "      <td>sample1</td>\n",
       "      <td>1648</td>\n",
       "      <td>7.407924</td>\n",
       "      <td>1791.0</td>\n",
       "      <td>7.491087</td>\n",
       "    </tr>\n",
       "    <tr>\n",
       "      <th>AAACTACCAGAAACTAGCCCTA</th>\n",
       "      <td>41.0</td>\n",
       "      <td>29.0</td>\n",
       "      <td>29.0</td>\n",
       "      <td>26.0</td>\n",
       "      <td>0.0</td>\n",
       "      <td>/mnt/workspace/jdetlef/data/anndata/esophagus_...</td>\n",
       "      <td>MB</td>\n",
       "      <td>sample1</td>\n",
       "      <td>13</td>\n",
       "      <td>2.639057</td>\n",
       "      <td>13.0</td>\n",
       "      <td>2.639057</td>\n",
       "    </tr>\n",
       "    <tr>\n",
       "      <th>...</th>\n",
       "      <td>...</td>\n",
       "      <td>...</td>\n",
       "      <td>...</td>\n",
       "      <td>...</td>\n",
       "      <td>...</td>\n",
       "      <td>...</td>\n",
       "      <td>...</td>\n",
       "      <td>...</td>\n",
       "      <td>...</td>\n",
       "      <td>...</td>\n",
       "      <td>...</td>\n",
       "      <td>...</td>\n",
       "    </tr>\n",
       "    <tr>\n",
       "      <th>TTCCATCCTCTTTCGCGTGTAA</th>\n",
       "      <td>9.0</td>\n",
       "      <td>6.0</td>\n",
       "      <td>6.0</td>\n",
       "      <td>6.0</td>\n",
       "      <td>0.0</td>\n",
       "      <td>/mnt/workspace/jdetlef/data/anndata/esophagus_...</td>\n",
       "      <td>MB</td>\n",
       "      <td>sample1</td>\n",
       "      <td>3</td>\n",
       "      <td>1.386294</td>\n",
       "      <td>3.0</td>\n",
       "      <td>1.386294</td>\n",
       "    </tr>\n",
       "    <tr>\n",
       "      <th>TTCCATCCTCTTTCTGCAGACT</th>\n",
       "      <td>10.0</td>\n",
       "      <td>6.0</td>\n",
       "      <td>6.0</td>\n",
       "      <td>6.0</td>\n",
       "      <td>1.0</td>\n",
       "      <td>/mnt/workspace/jdetlef/data/anndata/esophagus_...</td>\n",
       "      <td>MB</td>\n",
       "      <td>sample1</td>\n",
       "      <td>3</td>\n",
       "      <td>1.386294</td>\n",
       "      <td>3.0</td>\n",
       "      <td>1.386294</td>\n",
       "    </tr>\n",
       "    <tr>\n",
       "      <th>TTCCATCCTCTTTCTGGCGCAG</th>\n",
       "      <td>17.0</td>\n",
       "      <td>5.0</td>\n",
       "      <td>5.0</td>\n",
       "      <td>5.0</td>\n",
       "      <td>1.0</td>\n",
       "      <td>/mnt/workspace/jdetlef/data/anndata/esophagus_...</td>\n",
       "      <td>MB</td>\n",
       "      <td>sample1</td>\n",
       "      <td>0</td>\n",
       "      <td>0.000000</td>\n",
       "      <td>0.0</td>\n",
       "      <td>0.000000</td>\n",
       "    </tr>\n",
       "    <tr>\n",
       "      <th>TTCCATCCTCTTTGCCGGAAGG</th>\n",
       "      <td>8.0</td>\n",
       "      <td>7.0</td>\n",
       "      <td>7.0</td>\n",
       "      <td>7.0</td>\n",
       "      <td>0.0</td>\n",
       "      <td>/mnt/workspace/jdetlef/data/anndata/esophagus_...</td>\n",
       "      <td>MB</td>\n",
       "      <td>sample1</td>\n",
       "      <td>5</td>\n",
       "      <td>1.791759</td>\n",
       "      <td>5.0</td>\n",
       "      <td>1.791759</td>\n",
       "    </tr>\n",
       "    <tr>\n",
       "      <th>TTCCATCCTCTTTGTGTTACCG</th>\n",
       "      <td>19.0</td>\n",
       "      <td>9.0</td>\n",
       "      <td>9.0</td>\n",
       "      <td>7.0</td>\n",
       "      <td>0.0</td>\n",
       "      <td>/mnt/workspace/jdetlef/data/anndata/esophagus_...</td>\n",
       "      <td>MB</td>\n",
       "      <td>sample1</td>\n",
       "      <td>2</td>\n",
       "      <td>1.098612</td>\n",
       "      <td>2.0</td>\n",
       "      <td>1.098612</td>\n",
       "    </tr>\n",
       "  </tbody>\n",
       "</table>\n",
       "<p>73652 rows × 12 columns</p>\n",
       "</div>"
      ],
      "text/plain": [
       "                            TN      UM      PP      UQ    CM  \\\n",
       "AAACTACCAGAAACCCGAGATA    33.0    18.0    18.0    15.0   0.0   \n",
       "AAACTACCAGAAACCTAAGTGG    52.0    36.0    35.0    32.0   1.0   \n",
       "AAACTACCAGAAACGGATCAGT    27.0    19.0    19.0    19.0   0.0   \n",
       "AAACTACCAGAAACGTCCCGTT  6223.0  5231.0  5213.0  3779.0  18.0   \n",
       "AAACTACCAGAAACTAGCCCTA    41.0    29.0    29.0    26.0   0.0   \n",
       "...                        ...     ...     ...     ...   ...   \n",
       "TTCCATCCTCTTTCGCGTGTAA     9.0     6.0     6.0     6.0   0.0   \n",
       "TTCCATCCTCTTTCTGCAGACT    10.0     6.0     6.0     6.0   1.0   \n",
       "TTCCATCCTCTTTCTGGCGCAG    17.0     5.0     5.0     5.0   1.0   \n",
       "TTCCATCCTCTTTGCCGGAAGG     8.0     7.0     7.0     7.0   0.0   \n",
       "TTCCATCCTCTTTGTGTTACCG    19.0     9.0     9.0     7.0   0.0   \n",
       "\n",
       "                                                                     file  \\\n",
       "AAACTACCAGAAACCCGAGATA  /mnt/workspace/jdetlef/data/anndata/esophagus_...   \n",
       "AAACTACCAGAAACCTAAGTGG  /mnt/workspace/jdetlef/data/anndata/esophagus_...   \n",
       "AAACTACCAGAAACGGATCAGT  /mnt/workspace/jdetlef/data/anndata/esophagus_...   \n",
       "AAACTACCAGAAACGTCCCGTT  /mnt/workspace/jdetlef/data/anndata/esophagus_...   \n",
       "AAACTACCAGAAACTAGCCCTA  /mnt/workspace/jdetlef/data/anndata/esophagus_...   \n",
       "...                                                                   ...   \n",
       "TTCCATCCTCTTTCGCGTGTAA  /mnt/workspace/jdetlef/data/anndata/esophagus_...   \n",
       "TTCCATCCTCTTTCTGCAGACT  /mnt/workspace/jdetlef/data/anndata/esophagus_...   \n",
       "TTCCATCCTCTTTCTGGCGCAG  /mnt/workspace/jdetlef/data/anndata/esophagus_...   \n",
       "TTCCATCCTCTTTGCCGGAAGG  /mnt/workspace/jdetlef/data/anndata/esophagus_...   \n",
       "TTCCATCCTCTTTGTGTTACCG  /mnt/workspace/jdetlef/data/anndata/esophagus_...   \n",
       "\n",
       "                       sample Sample_new  n_features_by_counts  \\\n",
       "AAACTACCAGAAACCCGAGATA     MB    sample1                     5   \n",
       "AAACTACCAGAAACCTAAGTGG     MB    sample1                    17   \n",
       "AAACTACCAGAAACGGATCAGT     MB    sample1                    10   \n",
       "AAACTACCAGAAACGTCCCGTT     MB    sample1                  1648   \n",
       "AAACTACCAGAAACTAGCCCTA     MB    sample1                    13   \n",
       "...                       ...        ...                   ...   \n",
       "TTCCATCCTCTTTCGCGTGTAA     MB    sample1                     3   \n",
       "TTCCATCCTCTTTCTGCAGACT     MB    sample1                     3   \n",
       "TTCCATCCTCTTTCTGGCGCAG     MB    sample1                     0   \n",
       "TTCCATCCTCTTTGCCGGAAGG     MB    sample1                     5   \n",
       "TTCCATCCTCTTTGTGTTACCG     MB    sample1                     2   \n",
       "\n",
       "                        log1p_n_features_by_counts  total_counts  \\\n",
       "AAACTACCAGAAACCCGAGATA                    1.791759           5.0   \n",
       "AAACTACCAGAAACCTAAGTGG                    2.890372          17.0   \n",
       "AAACTACCAGAAACGGATCAGT                    2.397895          10.0   \n",
       "AAACTACCAGAAACGTCCCGTT                    7.407924        1791.0   \n",
       "AAACTACCAGAAACTAGCCCTA                    2.639057          13.0   \n",
       "...                                            ...           ...   \n",
       "TTCCATCCTCTTTCGCGTGTAA                    1.386294           3.0   \n",
       "TTCCATCCTCTTTCTGCAGACT                    1.386294           3.0   \n",
       "TTCCATCCTCTTTCTGGCGCAG                    0.000000           0.0   \n",
       "TTCCATCCTCTTTGCCGGAAGG                    1.791759           5.0   \n",
       "TTCCATCCTCTTTGTGTTACCG                    1.098612           2.0   \n",
       "\n",
       "                        log1p_total_counts  \n",
       "AAACTACCAGAAACCCGAGATA            1.791759  \n",
       "AAACTACCAGAAACCTAAGTGG            2.890372  \n",
       "AAACTACCAGAAACGGATCAGT            2.397895  \n",
       "AAACTACCAGAAACGTCCCGTT            7.491087  \n",
       "AAACTACCAGAAACTAGCCCTA            2.639057  \n",
       "...                                    ...  \n",
       "TTCCATCCTCTTTCGCGTGTAA            1.386294  \n",
       "TTCCATCCTCTTTCTGCAGACT            1.386294  \n",
       "TTCCATCCTCTTTCTGGCGCAG            0.000000  \n",
       "TTCCATCCTCTTTGCCGGAAGG            1.791759  \n",
       "TTCCATCCTCTTTGTGTTACCG            1.098612  \n",
       "\n",
       "[73652 rows x 12 columns]"
      ]
     },
     "execution_count": 28,
     "metadata": {},
     "output_type": "execute_result"
    }
   ],
   "source": [
    "if qc_columns['n_features_by_counts'] is None or qc_columns['log1p_n_features_by_counts'] is None and calc_qc_metrics:\n",
    "    adata = analyser.calculate_qc_metrics(adata, var_type='features')\n",
    "    \n",
    "    qc_columns['n_features_by_counts'] = 'n_features_by_counts'\n",
    "    qc_columns['log1p_n_features_by_counts'] = 'log1p_n_features_by_counts'\n",
    "    qc_columns['total_counts'] = 'total_counts'\n",
    "    qc_columns['log1p_total_counts'] = 'log1p_total_counts'\n",
    "    \n",
    "    build_legend(adata, 'n_features_by_counts', 'n_features_by_counts')\n",
    "    build_legend(adata, 'log1p_n_features_by_counts', 'log1p_n_features_by_counts')\n",
    "    build_legend(adata, 'total_counts', 'total_counts')\n",
    "    build_legend(adata, 'log1p_total_counts', 'log1p_total_counts')\n",
    "\n",
    "adata.obs"
   ]
  },
  {
   "cell_type": "markdown",
   "id": "a26513bb",
   "metadata": {
    "pycharm": {
     "name": "#%% md\n"
    }
   },
   "source": [
    "### check barcode tag"
   ]
  },
  {
   "cell_type": "code",
   "execution_count": 29,
   "id": "860636d4",
   "metadata": {},
   "outputs": [
    {
     "name": "stdout",
     "output_type": "stream",
     "text": [
      "Barcode tag: OK\n"
     ]
    }
   ],
   "source": [
    "check_barcode_tag(adata, bam_file, barcode_tag)"
   ]
  },
  {
   "cell_type": "markdown",
   "id": "e5d66924",
   "metadata": {},
   "source": [
    "### 2. calc mean insertsize and count if missing "
   ]
  },
  {
   "cell_type": "code",
   "execution_count": null,
   "id": "114893bd",
   "metadata": {},
   "outputs": [
    {
     "name": "stdout",
     "output_type": "stream",
     "text": [
      "Counting fragment lengths from fragments file...\n",
      "Done reading file - elapsed time: 0:04:24\n",
      "Converting counts to dataframe...\n",
      "Done getting insertsizes from fragments!\n",
      "plotting density...\n"
     ]
    },
    {
     "name": "stderr",
     "output_type": "stream",
     "text": [
      " RuntimeWarning:/home/jdetlef/.conda/envs/sctoolbox/lib/python3.10/site-packages/sctoolbox/nucleosome_utils.py:746: divide by zero encountered in log2\n"
     ]
    },
    {
     "data": {
      "image/png": "[encoded data removed]",
      "text/plain": [
       "<Figure size 640x480 with 1 Axes>"
      ]
     },
     "metadata": {},
     "output_type": "display_data"
    },
    {
     "name": "stdout",
     "output_type": "stream",
     "text": [
      "smoothing data...\n",
      "calculating scores using the momentum method...\n",
      "calculate momentum...\n",
      "find peaks...\n"
     ]
    },
    {
     "name": "stderr",
     "output_type": "stream",
     "text": [
      " PeakPropertyWarning:/home/jdetlef/.conda/envs/sctoolbox/lib/python3.10/site-packages/sctoolbox/nucleosome_utils.py:206: some peaks have a width of 0\n",
      " PeakPropertyWarning:/home/jdetlef/.conda/envs/sctoolbox/lib/python3.10/site-packages/sctoolbox/nucleosome_utils.py:206: some peaks have a width of 0\n",
      " PeakPropertyWarning:/home/jdetlef/.conda/envs/sctoolbox/lib/python3.10/site-packages/sctoolbox/nucleosome_utils.py:206: some peaks have a width of 0\n",
      " PeakPropertyWarning:/home/jdetlef/.conda/envs/sctoolbox/lib/python3.10/site-packages/sctoolbox/nucleosome_utils.py:206: some peaks have a width of 0\n",
      " PeakPropertyWarning:/home/jdetlef/.conda/envs/sctoolbox/lib/python3.10/site-packages/sctoolbox/nucleosome_utils.py:206: some peaks have a width of 0\n",
      " PeakPropertyWarning:/home/jdetlef/.conda/envs/sctoolbox/lib/python3.10/site-packages/sctoolbox/nucleosome_utils.py:206: some peaks have a width of 0\n",
      " PeakPropertyWarning:/home/jdetlef/.conda/envs/sctoolbox/lib/python3.10/site-packages/sctoolbox/nucleosome_utils.py:206: some peaks have a width of 0\n",
      " PeakPropertyWarning:/home/jdetlef/.conda/envs/sctoolbox/lib/python3.10/site-packages/sctoolbox/nucleosome_utils.py:206: some peaks have a width of 0\n",
      " VisibleDeprecationWarning:/home/jdetlef/.conda/envs/sctoolbox/lib/python3.10/site-packages/sctoolbox/nucleosome_utils.py:184: Creating an ndarray from ragged nested sequences (which is a list-or-tuple of lists-or-tuples-or ndarrays with different lengths or shapes) is deprecated. If you meant to do this, you must specify 'dtype=object' when creating the ndarray.\n"
     ]
    },
    {
     "name": "stdout",
     "output_type": "stream",
     "text": [
      "filter peaks...\n",
      "plot single cell...\n",
      "calc scores...\n",
      "calculating scores using the continues wavelet transformation...\n",
      "performing CWT on: 72987 cells\n",
      "using wavelet type: gaus1\n",
      "with scale: 16\n"
     ]
    }
   ],
   "source": [
    "if calc_fragment_length_metrics:\n",
    "    adata = nuc_utils.add_insertsize_metrics(adata,\n",
    "                               bam=None,\n",
    "                               fragments=fragments_file,\n",
    "                               barcode_col=None,\n",
    "                               barcode_tag=\"CB\",\n",
    "                               regions=None,\n",
    "                               use_momentum=True,\n",
    "                               use_cwt=True,\n",
    "                               peaks_thr_mom=0.03,\n",
    "                               peaks_thr_cwt=0.05)\n",
    "    \n",
    "    qc_columns['genome_counts'] = 'genome_counts'\n",
    "    qc_columns['mean_insertsize'] = 'mean_insertsize'\n",
    "    qc_columns['nucleosomal_score_momentum'] = 'nucleosomal_score_momentum'\n",
    "    qc_columns['nucleosomal_score_cwt'] = 'nucleosomal_score_cwt'\n",
    "    \n",
    "    build_legend(adata, 'genome_counts', 'genome_counts')\n",
    "    build_legend(adata, 'mean_insertsize', 'mean_insertsize')\n",
    "    build_legend(adata, 'nucleosomal_score_momentum', 'nucleosomal_score_momentum')\n",
    "    build_legend(adata, 'nucleosomal_score_cwt', 'nucleosomal_score_cwt')\n",
    "    \n",
    "    adata.obs"
   ]
  },
  {
   "cell_type": "code",
   "execution_count": null,
   "id": "bd633f0e",
   "metadata": {},
   "outputs": [],
   "source": [
    "adata.obs"
   ]
  },
  {
   "cell_type": "markdown",
   "id": "5a1bfbd4",
   "metadata": {
    "pycharm": {
     "name": "#%% md\n"
    }
   },
   "source": [
    "### 3. promotor enrichment "
   ]
  },
  {
   "cell_type": "code",
   "execution_count": null,
   "id": "c414cbec",
   "metadata": {},
   "outputs": [],
   "source": [
    "if qc_columns['n_fragments_in_promoters'] is None and calc_promotor_enrichment:\n",
    "\n",
    "    if use_bam:\n",
    "        overlap.pct_fragments_in_promoters(adata, gtf_file=promoters_gtf, species=species, bam_file=bam_file, cb_col=None, nproc=1, cb_tag=barcode_tag)\n",
    "    else:\n",
    "        overlap.pct_fragments_in_promoters(adata, gtf_file=promoters_gtf, species=species, fragments_file=fragments_file, cb_col=None, nproc=1, cb_tag=barcode_tag)\n",
    "\n",
    "    if calc_fragment_length_metrics:\n",
    "        adata.obs.pop('n_total_fragments')\n",
    "    else:\n",
    "        adata.obs.rename(columns={'n_total_fragments': 'genome_counts'}, inplace=True)\n",
    "        qc_columns['genome_counts'] = 'genome_counts'\n",
    "        build_legend(adata, 'genome_counts', 'genome_counts')\n",
    "        \n",
    "    # update column dictionary\n",
    "    qc_columns['n_fragments_in_promoters'] = 'n_fragments_in_promoters'\n",
    "    qc_columns['pct_fragments_in_promoters'] = 'pct_fragments_in_promoters'\n",
    "    # update infoprocess table\n",
    "    build_legend(adata, 'genome_counts', 'genome_counts')\n",
    "    build_legend(adata, 'n_fragments_in_promoters', 'n_fragments_in_promoters')\n",
    "    build_legend(adata, 'pct_fragments_in_promoters', 'pct_fragments_in_promoters')\n"
   ]
  },
  {
   "cell_type": "markdown",
   "id": "dae390c8",
   "metadata": {
    "pycharm": {
     "name": "#%% md\n"
    }
   },
   "source": [
    "## Save adata to .h5ad"
   ]
  },
  {
   "cell_type": "code",
   "execution_count": null,
   "id": "bee812e1",
   "metadata": {},
   "outputs": [],
   "source": [
    "adata_output = tree.assembled_anndata\n",
    "adata_output"
   ]
  },
  {
   "cell_type": "code",
   "execution_count": null,
   "id": "33800239",
   "metadata": {},
   "outputs": [],
   "source": [
    "#Saving the data\n",
    "cr.build_infor(adata, \"Test_number\", test)\n",
    "cr.build_infor(adata, \"Anndata_path\", output_dir)\n",
    "\n",
    "adata_output = tree.assembled_anndata\n",
    "adata.write(filename=adata_output)"
   ]
  },
  {
   "cell_type": "code",
   "execution_count": null,
   "id": "c9437c45",
   "metadata": {},
   "outputs": [],
   "source": [
    "import os\n",
    "import shutil\n",
    "repo_path = os.getcwd()\n",
    "notebook_name = '01_assembling.ipynb'\n",
    "notebook_path = os.path.join(repo_path, notebook_name)\n",
    "notebook_copy = os.path.join(tree.assemble_dir , notebook_name)\n",
    "shutil.copyfile(notebook_path, notebook_copy)"
   ]
  },
  {
   "cell_type": "code",
   "execution_count": null,
   "id": "75fefb36",
   "metadata": {},
   "outputs": [],
   "source": []
  }
 ],
 "metadata": {
  "kernelspec": {
   "display_name": "sctoolbox",
   "language": "python",
   "name": "sctoolbox"
  },
  "language_info": {
   "codemirror_mode": {
    "name": "ipython",
    "version": 3
   },
   "file_extension": ".py",
   "mimetype": "text/x-python",
   "name": "python",
   "nbconvert_exporter": "python",
   "pygments_lexer": "ipython3",
   "version": "3.10.8"
  }
 },
 "nbformat": 4,
 "nbformat_minor": 5
}
