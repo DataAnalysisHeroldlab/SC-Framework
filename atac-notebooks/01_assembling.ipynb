{
 "cells": [
  {
   "cell_type": "markdown",
   "id": "bf52b2e2",
   "metadata": {
    "pycharm": {
     "name": "#%% md\n"
    }
   },
   "source": [
    "# Assembling\n",
    "\n",
    "This notebook is used to assemble a processable h5ad object for subsequent notebooks."
   ]
  },
  {
   "cell_type": "markdown",
   "id": "c9e8b8fd",
   "metadata": {
    "pycharm": {
     "name": "#%% md\n"
    }
   },
   "source": [
    "## Fill in input data, output and settings"
   ]
  },
  {
   "cell_type": "code",
   "execution_count": null,
   "id": "120c0f22",
   "metadata": {},
   "outputs": [],
   "source": [
    "################### DEFINING STRATEGY ###############################\n",
    "from_h5ad = True #option 1\n",
    "assembling_10_velocity = False #option 2\n",
    "assembling_10_public = False #option 3\n",
    "convert_seurat = False #option 4\n",
    "\n",
    "###################### INPUT DATA ###################################\n",
    "\n",
    "# For option 1: The path to an existing .h5ad file\n",
    "h5ad_files = ['test_data/scatac_pbmc.h5ad']\n",
    "merge_column = 'Sample_new' # (str) if multiple h5ad files merged this is an identifier from which file it originates\n",
    "coordinate_cols = None # (list:str) columns where peak location data is stored (['chr', 'start', 'end'])\n",
    "set_index = True       # (boolean) should the adata.var index be formatted, that it matches chr:start-stop\n",
    "index_from = \"name\"    # (str) should the index be generated from a certain column. Otherwise this is None (SnapATAC: name)\n",
    "\n",
    "# Manually set existing QC Columns\n",
    "existing_qc_columns = []\n",
    "\n",
    "#################### Calc QC Columns ###############################\n",
    "# set available number of threads\n",
    "n_threads = 10\n",
    "\n",
    "# Step 2 & 3\n",
    "use_bam = False # False if fragments should be used\n",
    "barcode_tag = 'CB' # set the tag where to find the barcode to use (only for .bam)\n",
    "\n",
    "# if Step 2, 3 or both is executed specify either a BAM file or a fragments file:\n",
    "bam_file =  '' # specify bamfile of the corresponding alignment\n",
    "fragments_file = 'test_data/scatac_pbmc_fragments.tsv' # specify fragments file (if this is possible use the fragments file directly)\n",
    "\n",
    "# Step 2: Calc metrics related to fragment length\n",
    "calc_fragment_length_metrics = True # set True if the mean insertsize should be calculated\n",
    "\n",
    "# Step 3: Promotor-enrichment\n",
    "calc_promotor_enrichment = True # set True if the promotor-enrichment should be calculated\n",
    "# specify promotors_gtf if another promoter than the fixed ones should be used\n",
    "# if promotors is None please specify species\n",
    "promoters_gtf =  None\n",
    "species = \"human\""
   ]
  },
  {
   "cell_type": "markdown",
   "id": "51da2387",
   "metadata": {},
   "source": [
    "----------------"
   ]
  },
  {
   "cell_type": "markdown",
   "id": "6d6dd817",
   "metadata": {
    "pycharm": {
     "name": "#%% md\n"
    }
   },
   "source": [
    "## Import modules"
   ]
  },
  {
   "cell_type": "code",
   "execution_count": null,
   "id": "c997211a",
   "metadata": {},
   "outputs": [],
   "source": [
    "# sctoolbox modules \n",
    "import sctoolbox.creators as cr\n",
    "import sctoolbox.atac as atac\n",
    "import sctoolbox.calc_overlap_pct as overlap\n",
    "import sctoolbox.analyser \n",
    "import sctoolbox.nucleosome_utils as nuc_utils\n",
    "from sctoolbox.qc_filter import *\n",
    "from sctoolbox.atac_utils import *\n",
    "import sctoolbox.utils as utils\n",
    "\n",
    "utils.settings_from_config(\"config.yaml\", key=\"01\")"
   ]
  },
  {
   "cell_type": "markdown",
   "id": "84b9cddf",
   "metadata": {
    "pycharm": {
     "name": "#%% md\n"
    }
   },
   "source": [
    "## 1. Read in data"
   ]
  },
  {
   "cell_type": "markdown",
   "id": "7e7b43d6",
   "metadata": {
    "pycharm": {
     "name": "#%% md\n"
    }
   },
   "source": [
    "### Option 1: Read from .h5ad"
   ]
  },
  {
   "cell_type": "code",
   "execution_count": null,
   "id": "6b900535",
   "metadata": {},
   "outputs": [],
   "source": [
    "if from_h5ad:  #assemble leads to \"name\" keyerror\n",
    "    \n",
    "    adata = utils.assemble_from_h5ad(h5ad_files,\n",
    "                       merge_column=merge_column,\n",
    "                       coordinate_cols=coordinate_cols,\n",
    "                       set_index=set_index,\n",
    "                       index_from=index_from)"
   ]
  },
  {
   "cell_type": "markdown",
   "id": "746f9da5",
   "metadata": {
    "pycharm": {
     "name": "#%% md\n"
    }
   },
   "source": [
    "## Inspect adata"
   ]
  },
  {
   "cell_type": "code",
   "execution_count": null,
   "id": "9e059525",
   "metadata": {},
   "outputs": [],
   "source": [
    "display(adata)"
   ]
  },
  {
   "cell_type": "code",
   "execution_count": null,
   "id": "03c75697",
   "metadata": {},
   "outputs": [],
   "source": [
    "adata.var.head()"
   ]
  },
  {
   "cell_type": "markdown",
   "id": "4239b145",
   "metadata": {},
   "source": [
    "------------"
   ]
  },
  {
   "cell_type": "markdown",
   "id": "3405de5d",
   "metadata": {
    "pycharm": {
     "name": "#%% md\n"
    }
   },
   "source": [
    "## Calculate QC columns related to fragments"
   ]
  },
  {
   "cell_type": "markdown",
   "id": "a26513bb",
   "metadata": {
    "pycharm": {
     "name": "#%% md\n"
    }
   },
   "source": [
    "### Check barcode tag"
   ]
  },
  {
   "cell_type": "code",
   "execution_count": null,
   "id": "5a82cc77",
   "metadata": {},
   "outputs": [],
   "source": [
    "if use_bam:\n",
    "    check_barcode_tag(adata, bam_file, barcode_tag)"
   ]
  },
  {
   "cell_type": "markdown",
   "id": "e5d66924",
   "metadata": {},
   "source": [
    "### 2. Calc mean insertsize and count if missing "
   ]
  },
  {
   "cell_type": "code",
   "execution_count": null,
   "id": "114893bd",
   "metadata": {},
   "outputs": [],
   "source": [
    "if calc_fragment_length_metrics:\n",
    "    \n",
    "    adata = nuc_utils.add_insertsize_metrics(adata,\n",
    "                                            bam=None,\n",
    "                                            fragments=fragments_file,\n",
    "                                            barcode_col=None,\n",
    "                                            barcode_tag=\"CB\",\n",
    "                                            regions=None,\n",
    "                                            use_momentum=True,\n",
    "                                            use_cwt=True,\n",
    "                                            use_ct_cwt=True,\n",
    "                                            peaks_thr_mom=0.03,\n",
    "                                            peaks_thr_cwt=0.05,\n",
    "                                            peaks_thr_ct_cwt=0.01,\n",
    "                                            plotting=True,\n",
    "                                            plot_sample=0,\n",
    "                                            n_threads=12)\n",
    "    \n",
    "    \n",
    "    adata.obs"
   ]
  },
  {
   "cell_type": "code",
   "execution_count": null,
   "id": "bd633f0e",
   "metadata": {},
   "outputs": [],
   "source": [
    "adata.obs"
   ]
  },
  {
   "cell_type": "markdown",
   "id": "5a1bfbd4",
   "metadata": {
    "pycharm": {
     "name": "#%% md\n"
    }
   },
   "source": [
    "### 3. Promotor enrichment "
   ]
  },
  {
   "cell_type": "code",
   "execution_count": null,
   "id": "c414cbec",
   "metadata": {},
   "outputs": [],
   "source": [
    "if calc_promotor_enrichment:\n",
    "    \n",
    "    if use_bam:\n",
    "        overlap.pct_fragments_overlap(adata, regions_file=promoters_gtf, bam_file=bam_file, cb_col=None,\n",
    "                                  cb_tag='CB', regions_name='promoters', nproc=1, sort_bam=False, sort_regions=False, keep_fragments=False)\n",
    "    else:\n",
    "                overlap.pct_fragments_overlap(adata, regions_file=promoters_gtf, fragments_file=fragments_file, cb_col=None,\n",
    "                                  cb_tag='CB', regions_name='promoters', nproc=1, sort_bam=False, sort_regions=False, keep_fragments=False)\n",
    "\n",
    "    if calc_fragment_length_metrics:\n",
    "        adata.obs.pop('n_total_fragments')\n",
    "    else:\n",
    "        adata.obs.rename(columns={'n_total_fragments': 'genome_counts'}, inplace=True)\n",
    "        qc_columns['genome_counts'] = 'genome_counts'\n",
    "        build_legend(adata, 'genome_counts', 'genome_counts')\n",
    "        "
   ]
  },
  {
   "cell_type": "markdown",
   "id": "dae390c8",
   "metadata": {
    "pycharm": {
     "name": "#%% md\n"
    }
   },
   "source": [
    "## Save adata to .h5ad"
   ]
  },
  {
   "cell_type": "code",
   "execution_count": null,
   "id": "a4ec24c8",
   "metadata": {},
   "outputs": [],
   "source": [
    "#Overview of loaded adata\n",
    "display(adata)"
   ]
  },
  {
   "cell_type": "code",
   "execution_count": null,
   "id": "2598caa1",
   "metadata": {},
   "outputs": [],
   "source": [
    "#Saving the data\n",
    "adata_output = \"anndata_1.h5ad\"\n",
    "utils.save_h5ad(adata, adata_output)"
   ]
  },
  {
   "cell_type": "code",
   "execution_count": null,
   "id": "75fefb36",
   "metadata": {},
   "outputs": [],
   "source": []
  }
 ],
 "metadata": {
  "language_info": {
   "name": "python"
  }
 },
 "nbformat": 4,
 "nbformat_minor": 5
}
