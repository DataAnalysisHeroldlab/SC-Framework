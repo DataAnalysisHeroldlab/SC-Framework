{
 "cells": [
  {
   "cell_type": "markdown",
   "id": "ac317ff1",
   "metadata": {},
   "source": [
    "# QC filtering\n",
    "\n",
    "This notebook is about filtering scATAC seq data within an adata object to archive a good quality peak matrix.\n",
    "For this task various QC filters are implemented. The latter includes filters related to:\n",
    "\n",
    "- doublet score\n",
    "- number of features per barcode\n",
    "- mean insert size\n",
    "- promotor enrichment\n"
   ]
  },
  {
   "cell_type": "markdown",
   "id": "c1405c2c",
   "metadata": {},
   "source": [
    "## Settings"
   ]
  },
  {
   "cell_type": "code",
   "execution_count": 142,
   "id": "a9f4fe6c",
   "metadata": {},
   "outputs": [],
   "source": [
    "#Path related settings (these should be the same as for the previous notebook)\n",
    "output_dir = '/mnt/workspace/jdetlef/processed_data' # specify the output directory of the processing should be the same in every notebook\n",
    "test = 'Esophagus_146_0.01' # sample name, this should be the same for all the notebooks"
   ]
  },
  {
   "cell_type": "markdown",
   "id": "fdeeb2bb",
   "metadata": {},
   "source": [
    "## QC Settings"
   ]
  },
  {
   "cell_type": "code",
   "execution_count": 143,
   "id": "5285011f",
   "metadata": {},
   "outputs": [],
   "source": [
    "# Set the column in adata.obs containing the biological condition to evaluate\n",
    "condition_column = \"Sample_new\"\n",
    "\n",
    "# Data inspection\n",
    "# Set True if the insertsize distribution should be plotted\n",
    "# If there is no insertsize distribution set this False\n",
    "plot_insertsize_dist = True\n",
    "\n",
    "filter_xy = True  # True or False; filtering out chrX and chrY\n",
    "binarize_mtx = True  # True or False; convert matrix to binary\n",
    "\n",
    "############################# filters ##########################################\n",
    "\n",
    "# Decide whether to estimate thresholds individual per condition (False) or globally (True)\n",
    "global_threshold = False\n",
    "\n",
    "# Filter to use:\n",
    "\n",
    "# Decide whether to remove doublets using scrublet (True) or to skip doublet calculation (False)\n",
    "filter_doublets = True\n",
    "threads = 2\n",
    "doublet_threshold = 0.2\n",
    "use_condition_column = False\n",
    "condition_doublet_removal = None\n",
    "\n",
    "# True or False; filtering out cells with numbers of features not in the range defined below\n",
    "n_features_filter = True\n",
    "# True or False; filtering out cells with mean insertsize not in the range defined below\n",
    "mean_insertsize_filter = True\n",
    "# True or False; filtering out cells with promotor_enrichment not in the range defined below\n",
    "filter_pct_fp= True\n",
    "# True or False; filtering out cells with a number features in chromosome M not in the defined range\n",
    "filter_chrM_fragments= False\n",
    "# True or False; filtering out cells with fragments mapped not in the defined range\n",
    "filter_uniquely_mapped_fragments= False\n",
    "\n",
    "\n",
    "# if this is True thresholds below are ignored \n",
    "only_automatic_thresholds = False # True or False; to use automatic thresholds\n",
    "\n",
    "############################# set default values #######################################\n",
    "# \n",
    "# This will be applied to all samples the thresholds can be changed manually when plotted \n",
    "# if thresholds None they are set automatically\n",
    "\n",
    "# default values n_features \n",
    "min_features = 100\n",
    "max_features = 5000\n",
    "\n",
    "# default mean_insertsize\n",
    "upper_threshold_mis=None\n",
    "lower_threshold_mis=None\n",
    "\n",
    "# default promotor enrichment\n",
    "upper_threshold_pct_fp=None\n",
    "lower_threshold_pct_fp=None\n",
    "\n",
    "# default number of fragments\n",
    "upper_thr_fragments=None\n",
    "lower_thr_fragments=None\n",
    "\n",
    "# default number of fragments in chrM\n",
    "upper_thr_chrM_fragments=1000\n",
    "lower_thr_chrM_fragments=0\n",
    "\n",
    "# default number of uniquely mapped fragments\n",
    "upper_thr_um=20000\n",
    "lower_thr_um=0\n",
    "\n"
   ]
  },
  {
   "cell_type": "markdown",
   "id": "731616b9",
   "metadata": {},
   "source": [
    "## Sum up settings"
   ]
  },
  {
   "cell_type": "code",
   "execution_count": 144,
   "id": "af4a23ed",
   "metadata": {},
   "outputs": [],
   "source": [
    "manual_thresholds = {}\n",
    "if n_features_filter:\n",
    "    manual_thresholds['n_features_by_counts'] = {'min' : min_features, 'max' : max_features}\n",
    "\n",
    "if mean_insertsize_filter:\n",
    "    manual_thresholds['mean_insertsize'] = {'min' : lower_threshold_mis, 'max' : upper_threshold_mis}\n",
    "\n",
    "if filter_pct_fp:\n",
    "    manual_thresholds['pct_fragments_in_promoters'] = {'min' : lower_threshold_pct_fp, 'max' : upper_threshold_pct_fp}\n",
    "\n",
    "if filter_chrM_fragments:\n",
    "    manual_thresholds['CM'] = {'min' : lower_thr_chrM_fragments, 'max' : upper_thr_chrM_fragments}\n",
    "\n",
    "if filter_uniquely_mapped_fragments:\n",
    "    manual_thresholds['UM'] = {'min' : lower_thr_um, 'max' : upper_thr_um}\n",
    "\n",
    "obs_columns = list(manual_thresholds.keys())"
   ]
  },
  {
   "cell_type": "markdown",
   "id": "9bfd0589",
   "metadata": {},
   "source": [
    "## Loading packages and setup"
   ]
  },
  {
   "cell_type": "code",
   "execution_count": 145,
   "id": "a5e585b0",
   "metadata": {},
   "outputs": [],
   "source": [
    "# sctoolbox modules\n",
    "import sctoolbox.atac_tree as sub_tree\n",
    "import sctoolbox.creators as cr\n",
    "import sctoolbox.annotation as an\n",
    "import sctoolbox.qc_filter as qc\n",
    "import sctoolbox.plotting as pl\n",
    "import sctoolbox.atac_utils as atac_utils\n",
    "import sctoolbox.atac as atac\n",
    "# import episcanpy\n",
    "import scanpy as sc\n",
    "import episcanpy as epi\n",
    "import numpy as np"
   ]
  },
  {
   "cell_type": "markdown",
   "id": "a3984998",
   "metadata": {},
   "source": [
    "## Setup path handling object "
   ]
  },
  {
   "cell_type": "code",
   "execution_count": 146,
   "id": "7c230208",
   "metadata": {},
   "outputs": [
    {
     "name": "stdout",
     "output_type": "stream",
     "text": [
      "Warning: run is None\n",
      "all directories existing\n",
      "all directories existing\n"
     ]
    }
   ],
   "source": [
    "# make an instance of the class\n",
    "tree = sub_tree.ATAC_tree()\n",
    "# set processing/output directory\n",
    "tree.processing_dir = output_dir\n",
    "# set sample/experiment.. \n",
    "tree.run = test"
   ]
  },
  {
   "cell_type": "markdown",
   "id": "3d8408ce",
   "metadata": {},
   "source": [
    "## Load anndata "
   ]
  },
  {
   "cell_type": "code",
   "execution_count": 147,
   "id": "5e989d23",
   "metadata": {},
   "outputs": [
    {
     "data": {
      "text/plain": [
       "AnnData object with n_obs × n_vars = 73652 × 174262\n",
       "    obs: 'TN', 'UM', 'PP', 'UQ', 'CM', 'file', 'sample', 'Sample_new', 'n_features_by_counts', 'log1p_n_features_by_counts', 'total_counts', 'log1p_total_counts', 'insertsize_count', 'mean_insertsize', 'n_fragments_in_promoters', 'n_total_fragments', 'pct_fragments_in_promoters'\n",
       "    var: 'peak_chr', 'peak_start', 'peak_end', 'n_cells_by_counts', 'mean_counts', 'log1p_mean_counts', 'pct_dropout_by_counts', 'total_counts', 'log1p_total_counts'\n",
       "    uns: 'color_set', 'infoprocess', 'insertsize_distribution', 'legend'"
      ]
     },
     "execution_count": 147,
     "metadata": {},
     "output_type": "execute_result"
    }
   ],
   "source": [
    "# probably updated in future\n",
    "assembling_output = tree.assembled_anndata\n",
    "adata = epi.read_h5ad(assembling_output)\n",
    "adata"
   ]
  },
  {
   "cell_type": "code",
   "execution_count": 148,
   "id": "0e1adb38",
   "metadata": {},
   "outputs": [
    {
     "data": {
      "text/html": [
       "<div>\n",
       "<style scoped>\n",
       "    .dataframe tbody tr th:only-of-type {\n",
       "        vertical-align: middle;\n",
       "    }\n",
       "\n",
       "    .dataframe tbody tr th {\n",
       "        vertical-align: top;\n",
       "    }\n",
       "\n",
       "    .dataframe thead th {\n",
       "        text-align: right;\n",
       "    }\n",
       "</style>\n",
       "<table border=\"1\" class=\"dataframe\">\n",
       "  <thead>\n",
       "    <tr style=\"text-align: right;\">\n",
       "      <th></th>\n",
       "      <th>peak_chr</th>\n",
       "      <th>peak_start</th>\n",
       "      <th>peak_end</th>\n",
       "      <th>n_cells_by_counts</th>\n",
       "      <th>mean_counts</th>\n",
       "      <th>log1p_mean_counts</th>\n",
       "      <th>pct_dropout_by_counts</th>\n",
       "      <th>total_counts</th>\n",
       "      <th>log1p_total_counts</th>\n",
       "    </tr>\n",
       "  </thead>\n",
       "  <tbody>\n",
       "    <tr>\n",
       "      <th>chr1:10005-10731</th>\n",
       "      <td>chr1</td>\n",
       "      <td>10005</td>\n",
       "      <td>10731</td>\n",
       "      <td>410</td>\n",
       "      <td>0.005811</td>\n",
       "      <td>0.005794</td>\n",
       "      <td>99.443328</td>\n",
       "      <td>428.0</td>\n",
       "      <td>6.061457</td>\n",
       "    </tr>\n",
       "    <tr>\n",
       "      <th>chr1:11169-11386</th>\n",
       "      <td>chr1</td>\n",
       "      <td>11169</td>\n",
       "      <td>11386</td>\n",
       "      <td>0</td>\n",
       "      <td>0.000000</td>\n",
       "      <td>0.000000</td>\n",
       "      <td>100.000000</td>\n",
       "      <td>0.0</td>\n",
       "      <td>0.000000</td>\n",
       "    </tr>\n",
       "    <tr>\n",
       "      <th>chr1:28730-29439</th>\n",
       "      <td>chr1</td>\n",
       "      <td>28730</td>\n",
       "      <td>29439</td>\n",
       "      <td>22</td>\n",
       "      <td>0.000299</td>\n",
       "      <td>0.000299</td>\n",
       "      <td>99.970130</td>\n",
       "      <td>22.0</td>\n",
       "      <td>3.135494</td>\n",
       "    </tr>\n",
       "    <tr>\n",
       "      <th>chr1:29492-29686</th>\n",
       "      <td>chr1</td>\n",
       "      <td>29492</td>\n",
       "      <td>29686</td>\n",
       "      <td>0</td>\n",
       "      <td>0.000000</td>\n",
       "      <td>0.000000</td>\n",
       "      <td>100.000000</td>\n",
       "      <td>0.0</td>\n",
       "      <td>0.000000</td>\n",
       "    </tr>\n",
       "    <tr>\n",
       "      <th>chr1:34644-35030</th>\n",
       "      <td>chr1</td>\n",
       "      <td>34644</td>\n",
       "      <td>35030</td>\n",
       "      <td>0</td>\n",
       "      <td>0.000000</td>\n",
       "      <td>0.000000</td>\n",
       "      <td>100.000000</td>\n",
       "      <td>0.0</td>\n",
       "      <td>0.000000</td>\n",
       "    </tr>\n",
       "    <tr>\n",
       "      <th>...</th>\n",
       "      <td>...</td>\n",
       "      <td>...</td>\n",
       "      <td>...</td>\n",
       "      <td>...</td>\n",
       "      <td>...</td>\n",
       "      <td>...</td>\n",
       "      <td>...</td>\n",
       "      <td>...</td>\n",
       "      <td>...</td>\n",
       "    </tr>\n",
       "    <tr>\n",
       "      <th>chrY:57203298-57203493</th>\n",
       "      <td>chrY</td>\n",
       "      <td>57203298</td>\n",
       "      <td>57203493</td>\n",
       "      <td>0</td>\n",
       "      <td>0.000000</td>\n",
       "      <td>0.000000</td>\n",
       "      <td>100.000000</td>\n",
       "      <td>0.0</td>\n",
       "      <td>0.000000</td>\n",
       "    </tr>\n",
       "    <tr>\n",
       "      <th>chrY:57206407-57206560</th>\n",
       "      <td>chrY</td>\n",
       "      <td>57206407</td>\n",
       "      <td>57206560</td>\n",
       "      <td>0</td>\n",
       "      <td>0.000000</td>\n",
       "      <td>0.000000</td>\n",
       "      <td>100.000000</td>\n",
       "      <td>0.0</td>\n",
       "      <td>0.000000</td>\n",
       "    </tr>\n",
       "    <tr>\n",
       "      <th>chrY:57215319-57215425</th>\n",
       "      <td>chrY</td>\n",
       "      <td>57215319</td>\n",
       "      <td>57215425</td>\n",
       "      <td>0</td>\n",
       "      <td>0.000000</td>\n",
       "      <td>0.000000</td>\n",
       "      <td>100.000000</td>\n",
       "      <td>0.0</td>\n",
       "      <td>0.000000</td>\n",
       "    </tr>\n",
       "    <tr>\n",
       "      <th>chrY:57215519-57215848</th>\n",
       "      <td>chrY</td>\n",
       "      <td>57215519</td>\n",
       "      <td>57215848</td>\n",
       "      <td>0</td>\n",
       "      <td>0.000000</td>\n",
       "      <td>0.000000</td>\n",
       "      <td>100.000000</td>\n",
       "      <td>0.0</td>\n",
       "      <td>0.000000</td>\n",
       "    </tr>\n",
       "    <tr>\n",
       "      <th>chrY:57216524-57217319</th>\n",
       "      <td>chrY</td>\n",
       "      <td>57216524</td>\n",
       "      <td>57217319</td>\n",
       "      <td>0</td>\n",
       "      <td>0.000000</td>\n",
       "      <td>0.000000</td>\n",
       "      <td>100.000000</td>\n",
       "      <td>0.0</td>\n",
       "      <td>0.000000</td>\n",
       "    </tr>\n",
       "  </tbody>\n",
       "</table>\n",
       "<p>174262 rows × 9 columns</p>\n",
       "</div>"
      ],
      "text/plain": [
       "                       peak_chr  peak_start  peak_end  n_cells_by_counts  \\\n",
       "chr1:10005-10731           chr1       10005     10731                410   \n",
       "chr1:11169-11386           chr1       11169     11386                  0   \n",
       "chr1:28730-29439           chr1       28730     29439                 22   \n",
       "chr1:29492-29686           chr1       29492     29686                  0   \n",
       "chr1:34644-35030           chr1       34644     35030                  0   \n",
       "...                         ...         ...       ...                ...   \n",
       "chrY:57203298-57203493     chrY    57203298  57203493                  0   \n",
       "chrY:57206407-57206560     chrY    57206407  57206560                  0   \n",
       "chrY:57215319-57215425     chrY    57215319  57215425                  0   \n",
       "chrY:57215519-57215848     chrY    57215519  57215848                  0   \n",
       "chrY:57216524-57217319     chrY    57216524  57217319                  0   \n",
       "\n",
       "                        mean_counts  log1p_mean_counts  pct_dropout_by_counts  \\\n",
       "chr1:10005-10731           0.005811           0.005794              99.443328   \n",
       "chr1:11169-11386           0.000000           0.000000             100.000000   \n",
       "chr1:28730-29439           0.000299           0.000299              99.970130   \n",
       "chr1:29492-29686           0.000000           0.000000             100.000000   \n",
       "chr1:34644-35030           0.000000           0.000000             100.000000   \n",
       "...                             ...                ...                    ...   \n",
       "chrY:57203298-57203493     0.000000           0.000000             100.000000   \n",
       "chrY:57206407-57206560     0.000000           0.000000             100.000000   \n",
       "chrY:57215319-57215425     0.000000           0.000000             100.000000   \n",
       "chrY:57215519-57215848     0.000000           0.000000             100.000000   \n",
       "chrY:57216524-57217319     0.000000           0.000000             100.000000   \n",
       "\n",
       "                        total_counts  log1p_total_counts  \n",
       "chr1:10005-10731               428.0            6.061457  \n",
       "chr1:11169-11386                 0.0            0.000000  \n",
       "chr1:28730-29439                22.0            3.135494  \n",
       "chr1:29492-29686                 0.0            0.000000  \n",
       "chr1:34644-35030                 0.0            0.000000  \n",
       "...                              ...                 ...  \n",
       "chrY:57203298-57203493           0.0            0.000000  \n",
       "chrY:57206407-57206560           0.0            0.000000  \n",
       "chrY:57215319-57215425           0.0            0.000000  \n",
       "chrY:57215519-57215848           0.0            0.000000  \n",
       "chrY:57216524-57217319           0.0            0.000000  \n",
       "\n",
       "[174262 rows x 9 columns]"
      ]
     },
     "execution_count": 148,
     "metadata": {},
     "output_type": "execute_result"
    }
   ],
   "source": [
    "adata.var"
   ]
  },
  {
   "cell_type": "code",
   "execution_count": 149,
   "id": "4ee38650",
   "metadata": {},
   "outputs": [
    {
     "data": {
      "text/plain": [
       "{'Anndata_path': '/mnt/workspace/jdetlef/processed_data',\n",
       " 'Input_for_assembling': '/mnt/workspace/jdetlef/data/anndata/esophagus_muscularis_146_0.01.h5ad',\n",
       " 'Strategy': 'Read from h5ad',\n",
       " 'Test_number': 'Esophagus_146_0.01'}"
      ]
     },
     "execution_count": 149,
     "metadata": {},
     "output_type": "execute_result"
    }
   ],
   "source": [
    "adata.uns['infoprocess']"
   ]
  },
  {
   "cell_type": "code",
   "execution_count": 150,
   "id": "291df6a5",
   "metadata": {},
   "outputs": [],
   "source": [
    "if plot_insertsize_dist:\n",
    "    atac.plot_insertsize(adata)"
   ]
  },
  {
   "cell_type": "markdown",
   "id": "db60f5ba",
   "metadata": {},
   "source": [
    "# QC"
   ]
  },
  {
   "cell_type": "markdown",
   "id": "8bb2c8b4",
   "metadata": {},
   "source": [
    "## 1. filtering out chrX, chrY and chrM"
   ]
  },
  {
   "cell_type": "code",
   "execution_count": 151,
   "id": "385bd38f",
   "metadata": {},
   "outputs": [],
   "source": [
    "non_m = [name for name in adata.var_names if not name.startswith('chrM')]  # remove chrM\n",
    "adata = adata[:, non_m]"
   ]
  },
  {
   "cell_type": "code",
   "execution_count": 152,
   "id": "1e221a49",
   "metadata": {},
   "outputs": [],
   "source": [
    "if filter_xy:\n",
    "    non_xy = [name for name in adata.var_names if not name.startswith('chrY') | name.startswith('chrX')]\n",
    "    adata = adata[:, non_xy]"
   ]
  },
  {
   "cell_type": "code",
   "execution_count": 153,
   "id": "dc05d7b8",
   "metadata": {},
   "outputs": [
    {
     "data": {
      "text/plain": [
       "View of AnnData object with n_obs × n_vars = 73652 × 169256\n",
       "    obs: 'TN', 'UM', 'PP', 'UQ', 'CM', 'file', 'sample', 'Sample_new', 'n_features_by_counts', 'log1p_n_features_by_counts', 'total_counts', 'log1p_total_counts', 'insertsize_count', 'mean_insertsize', 'n_fragments_in_promoters', 'n_total_fragments', 'pct_fragments_in_promoters'\n",
       "    var: 'peak_chr', 'peak_start', 'peak_end', 'n_cells_by_counts', 'mean_counts', 'log1p_mean_counts', 'pct_dropout_by_counts', 'total_counts', 'log1p_total_counts'\n",
       "    uns: 'color_set', 'infoprocess', 'insertsize_distribution', 'legend'"
      ]
     },
     "metadata": {},
     "output_type": "display_data"
    }
   ],
   "source": [
    "display(adata)"
   ]
  },
  {
   "cell_type": "markdown",
   "id": "2f801142",
   "metadata": {},
   "source": [
    "## 2. removing empty cells"
   ]
  },
  {
   "cell_type": "code",
   "execution_count": 154,
   "id": "1bfb0aa0",
   "metadata": {},
   "outputs": [
    {
     "name": "stderr",
     "output_type": "stream",
     "text": [
      " ImplicitModificationWarning:/home/jdetlef/.conda/envs/sctoolbox/lib/python3.10/site-packages/scanpy/preprocessing/_simple.py:140: Trying to modify attribute `.obs` of view, initializing view as actual.\n"
     ]
    },
    {
     "data": {
      "text/plain": [
       "AnnData object with n_obs × n_vars = 71715 × 166856\n",
       "    obs: 'TN', 'UM', 'PP', 'UQ', 'CM', 'file', 'sample', 'Sample_new', 'n_features_by_counts', 'log1p_n_features_by_counts', 'total_counts', 'log1p_total_counts', 'insertsize_count', 'mean_insertsize', 'n_fragments_in_promoters', 'n_total_fragments', 'pct_fragments_in_promoters', 'nb_features', 'log_nb_features'\n",
       "    var: 'peak_chr', 'peak_start', 'peak_end', 'n_cells_by_counts', 'mean_counts', 'log1p_mean_counts', 'pct_dropout_by_counts', 'total_counts', 'log1p_total_counts', 'n_cells'\n",
       "    uns: 'color_set', 'infoprocess', 'insertsize_distribution', 'legend'"
      ]
     },
     "metadata": {},
     "output_type": "display_data"
    }
   ],
   "source": [
    "epi.pp.filter_cells(adata, min_features=1)\n",
    "epi.pp.filter_features(adata, min_cells=1)\n",
    "# log-convert number of features\n",
    "adata.obs['log_nb_features'] = [np.log10(x) for x in adata.obs['nb_features']]\n",
    "display(adata)"
   ]
  },
  {
   "cell_type": "markdown",
   "id": "7f9c9318",
   "metadata": {},
   "source": [
    "## 3. binarize"
   ]
  },
  {
   "cell_type": "code",
   "execution_count": 155,
   "id": "1cc85ce4",
   "metadata": {},
   "outputs": [],
   "source": [
    "adata.raw = adata\n",
    "if binarize_mtx:\n",
    "    epi.pp.binarize(adata)\n",
    "    adata.layers['binary'] = adata.X.copy()"
   ]
  },
  {
   "cell_type": "markdown",
   "id": "ff02940a",
   "metadata": {},
   "source": [
    "## 4. doublet removal"
   ]
  },
  {
   "cell_type": "code",
   "execution_count": 156,
   "id": "50b7c031",
   "metadata": {},
   "outputs": [],
   "source": [
    "adata.uns[\"infoprocess\"][\"plot_metrics\"] = []"
   ]
  },
  {
   "cell_type": "code",
   "execution_count": 157,
   "id": "ee030ea2",
   "metadata": {},
   "outputs": [
    {
     "name": "stderr",
     "output_type": "stream",
     "text": [
      " UserWarning:/home/jdetlef/.conda/envs/sctoolbox/lib/python3.10/site-packages/scanpy/preprocessing/_normalization.py:197: Some cells have zero counts\n"
     ]
    },
    {
     "ename": "ValueError",
     "evalue": "Found array with 0 feature(s) (shape=(62894, 0)) while a minimum of 1 is required by PCA.",
     "output_type": "error",
     "traceback": [
      "\u001B[0;31m---------------------------------------------------------------------------\u001B[0m",
      "\u001B[0;31mValueError\u001B[0m                                Traceback (most recent call last)",
      "Cell \u001B[0;32mIn[157], line 6\u001B[0m\n\u001B[1;32m      3\u001B[0m \u001B[38;5;28;01mif\u001B[39;00m use_condition_column:\n\u001B[1;32m      4\u001B[0m     condition_doublet_removal \u001B[38;5;241m=\u001B[39m condition_column\n\u001B[0;32m----> 6\u001B[0m \u001B[43mqc\u001B[49m\u001B[38;5;241;43m.\u001B[39;49m\u001B[43mestimate_doublets\u001B[49m\u001B[43m(\u001B[49m\u001B[43madata\u001B[49m\u001B[43m,\u001B[49m\u001B[43m \u001B[49m\u001B[43mgroupby\u001B[49m\u001B[38;5;241;43m=\u001B[39;49m\u001B[43mcondition_doublet_removal\u001B[49m\u001B[43m,\u001B[49m\u001B[43m \u001B[49m\u001B[43mthreads\u001B[49m\u001B[38;5;241;43m=\u001B[39;49m\u001B[43mthreads\u001B[49m\u001B[43m,\u001B[49m\u001B[43m \u001B[49m\u001B[43mthreshold\u001B[49m\u001B[38;5;241;43m=\u001B[39;49m\u001B[43mdoublet_threshold\u001B[49m\u001B[43m)\u001B[49m\n\u001B[1;32m      8\u001B[0m \u001B[38;5;66;03m#Remove the duplicates from adata\u001B[39;00m\n\u001B[1;32m      9\u001B[0m qc\u001B[38;5;241m.\u001B[39mfilter_cells(adata, \u001B[38;5;124m\"\u001B[39m\u001B[38;5;124mpredicted_doublet\u001B[39m\u001B[38;5;124m\"\u001B[39m, remove_bool\u001B[38;5;241m=\u001B[39m\u001B[38;5;28;01mTrue\u001B[39;00m)\n",
      "File \u001B[0;32m~/.conda/envs/sctoolbox/lib/python3.10/site-packages/sctoolbox/qc_filter.py:100\u001B[0m, in \u001B[0;36mestimate_doublets\u001B[0;34m(adata, threshold, inplace, plot, groupby, threads, **kwargs)\u001B[0m\n\u001B[1;32m     96\u001B[0m     obs_table \u001B[38;5;241m=\u001B[39m obs_table\u001B[38;5;241m.\u001B[39mloc[adata\u001B[38;5;241m.\u001B[39mobs_names\u001B[38;5;241m.\u001B[39mtolist(), :]  \u001B[38;5;66;03m# Sort obs to match original order\u001B[39;00m\n\u001B[1;32m     98\u001B[0m \u001B[38;5;28;01melse\u001B[39;00m:\n\u001B[1;32m     99\u001B[0m     \u001B[38;5;66;03m# Run scrublet on adata\u001B[39;00m\n\u001B[0;32m--> 100\u001B[0m     obs_table, uns_dict \u001B[38;5;241m=\u001B[39m \u001B[43mrun_scrublet\u001B[49m\u001B[43m(\u001B[49m\u001B[43madata\u001B[49m\u001B[43m,\u001B[49m\u001B[43m \u001B[49m\u001B[43mthreshold\u001B[49m\u001B[38;5;241;43m=\u001B[39;49m\u001B[43mthreshold\u001B[49m\u001B[43m,\u001B[49m\u001B[43m \u001B[49m\u001B[38;5;241;43m*\u001B[39;49m\u001B[38;5;241;43m*\u001B[39;49m\u001B[43mkwargs\u001B[49m\u001B[43m)\u001B[49m\n\u001B[1;32m    102\u001B[0m \u001B[38;5;66;03m# Save scores to object\u001B[39;00m\n\u001B[1;32m    103\u001B[0m adata\u001B[38;5;241m.\u001B[39mobs[\u001B[38;5;124m\"\u001B[39m\u001B[38;5;124mdoublet_score\u001B[39m\u001B[38;5;124m\"\u001B[39m] \u001B[38;5;241m=\u001B[39m obs_table[\u001B[38;5;124m\"\u001B[39m\u001B[38;5;124mdoublet_score\u001B[39m\u001B[38;5;124m\"\u001B[39m]\n",
      "File \u001B[0;32m~/.conda/envs/sctoolbox/lib/python3.10/site-packages/sctoolbox/qc_filter.py:136\u001B[0m, in \u001B[0;36mrun_scrublet\u001B[0;34m(adata, **kwargs)\u001B[0m\n\u001B[1;32m    134\u001B[0m     warnings\u001B[38;5;241m.\u001B[39mfilterwarnings(\u001B[38;5;124m\"\u001B[39m\u001B[38;5;124mignore\u001B[39m\u001B[38;5;124m\"\u001B[39m, category\u001B[38;5;241m=\u001B[39m\u001B[38;5;167;01mUserWarning\u001B[39;00m, message\u001B[38;5;241m=\u001B[39m\u001B[38;5;124m\"\u001B[39m\u001B[38;5;124mReceived a view of an AnnData*\u001B[39m\u001B[38;5;124m\"\u001B[39m)\n\u001B[1;32m    135\u001B[0m     warnings\u001B[38;5;241m.\u001B[39mfilterwarnings(\u001B[38;5;124m\"\u001B[39m\u001B[38;5;124mignore\u001B[39m\u001B[38;5;124m\"\u001B[39m, category\u001B[38;5;241m=\u001B[39manndata\u001B[38;5;241m.\u001B[39mImplicitModificationWarning, message\u001B[38;5;241m=\u001B[39m\u001B[38;5;124m\"\u001B[39m\u001B[38;5;124mTrying to modify attribute `.obs`*\u001B[39m\u001B[38;5;124m\"\u001B[39m)  \u001B[38;5;66;03m# because adata is a view\u001B[39;00m\n\u001B[0;32m--> 136\u001B[0m     \u001B[43msc\u001B[49m\u001B[38;5;241;43m.\u001B[39;49m\u001B[43mexternal\u001B[49m\u001B[38;5;241;43m.\u001B[39;49m\u001B[43mpp\u001B[49m\u001B[38;5;241;43m.\u001B[39;49m\u001B[43mscrublet\u001B[49m\u001B[43m(\u001B[49m\u001B[43madata\u001B[49m\u001B[43m,\u001B[49m\u001B[43m \u001B[49m\u001B[43mcopy\u001B[49m\u001B[38;5;241;43m=\u001B[39;49m\u001B[38;5;28;43;01mFalse\u001B[39;49;00m\u001B[43m,\u001B[49m\u001B[43m \u001B[49m\u001B[38;5;241;43m*\u001B[39;49m\u001B[38;5;241;43m*\u001B[39;49m\u001B[43mkwargs\u001B[49m\u001B[43m)\u001B[49m\n\u001B[1;32m    138\u001B[0m \u001B[38;5;28;01mreturn\u001B[39;00m (adata\u001B[38;5;241m.\u001B[39mobs, adata\u001B[38;5;241m.\u001B[39muns[\u001B[38;5;124m\"\u001B[39m\u001B[38;5;124mscrublet\u001B[39m\u001B[38;5;124m\"\u001B[39m])\n",
      "File \u001B[0;32m~/.conda/envs/sctoolbox/lib/python3.10/site-packages/scanpy/external/pp/_scrublet.py:267\u001B[0m, in \u001B[0;36mscrublet\u001B[0;34m(adata, adata_sim, batch_key, sim_doublet_ratio, expected_doublet_rate, stdev_doublet_rate, synthetic_doublet_umi_subsampling, knn_dist_metric, normalize_variance, log_transform, mean_center, n_prin_comps, use_approx_neighbors, get_doublet_neighbor_parents, n_neighbors, threshold, verbose, copy, random_state)\u001B[0m\n\u001B[1;32m    264\u001B[0m     adata\u001B[38;5;241m.\u001B[39muns[\u001B[38;5;124m'\u001B[39m\u001B[38;5;124mscrublet\u001B[39m\u001B[38;5;124m'\u001B[39m][\u001B[38;5;124m'\u001B[39m\u001B[38;5;124mbatched_by\u001B[39m\u001B[38;5;124m'\u001B[39m] \u001B[38;5;241m=\u001B[39m batch_key\n\u001B[1;32m    266\u001B[0m \u001B[38;5;28;01melse\u001B[39;00m:\n\u001B[0;32m--> 267\u001B[0m     scrubbed \u001B[38;5;241m=\u001B[39m \u001B[43m_run_scrublet\u001B[49m\u001B[43m(\u001B[49m\u001B[43madata_obs\u001B[49m\u001B[43m,\u001B[49m\u001B[43m \u001B[49m\u001B[43madata_sim\u001B[49m\u001B[43m)\u001B[49m\n\u001B[1;32m    269\u001B[0m     \u001B[38;5;66;03m# Copy outcomes to input object from our processed version\u001B[39;00m\n\u001B[1;32m    271\u001B[0m     adata\u001B[38;5;241m.\u001B[39mobs[\u001B[38;5;124m'\u001B[39m\u001B[38;5;124mdoublet_score\u001B[39m\u001B[38;5;124m'\u001B[39m] \u001B[38;5;241m=\u001B[39m scrubbed[\u001B[38;5;124m'\u001B[39m\u001B[38;5;124mobs\u001B[39m\u001B[38;5;124m'\u001B[39m][\u001B[38;5;124m'\u001B[39m\u001B[38;5;124mdoublet_score\u001B[39m\u001B[38;5;124m'\u001B[39m]\n",
      "File \u001B[0;32m~/.conda/envs/sctoolbox/lib/python3.10/site-packages/scanpy/external/pp/_scrublet.py:210\u001B[0m, in \u001B[0;36mscrublet.<locals>._run_scrublet\u001B[0;34m(ad_obs, ad_sim)\u001B[0m\n\u001B[1;32m    207\u001B[0m     pp\u001B[38;5;241m.\u001B[39mnormalize_total(ad_obs, target_sum\u001B[38;5;241m=\u001B[39m\u001B[38;5;241m1e6\u001B[39m)\n\u001B[1;32m    208\u001B[0m     pp\u001B[38;5;241m.\u001B[39mnormalize_total(ad_sim, target_sum\u001B[38;5;241m=\u001B[39m\u001B[38;5;241m1e6\u001B[39m)\n\u001B[0;32m--> 210\u001B[0m ad_obs \u001B[38;5;241m=\u001B[39m \u001B[43m_scrublet_call_doublets\u001B[49m\u001B[43m(\u001B[49m\n\u001B[1;32m    211\u001B[0m \u001B[43m    \u001B[49m\u001B[43madata_obs\u001B[49m\u001B[38;5;241;43m=\u001B[39;49m\u001B[43mad_obs\u001B[49m\u001B[43m,\u001B[49m\n\u001B[1;32m    212\u001B[0m \u001B[43m    \u001B[49m\u001B[43madata_sim\u001B[49m\u001B[38;5;241;43m=\u001B[39;49m\u001B[43mad_sim\u001B[49m\u001B[43m,\u001B[49m\n\u001B[1;32m    213\u001B[0m \u001B[43m    \u001B[49m\u001B[43mn_neighbors\u001B[49m\u001B[38;5;241;43m=\u001B[39;49m\u001B[43mn_neighbors\u001B[49m\u001B[43m,\u001B[49m\n\u001B[1;32m    214\u001B[0m \u001B[43m    \u001B[49m\u001B[43mexpected_doublet_rate\u001B[49m\u001B[38;5;241;43m=\u001B[39;49m\u001B[43mexpected_doublet_rate\u001B[49m\u001B[43m,\u001B[49m\n\u001B[1;32m    215\u001B[0m \u001B[43m    \u001B[49m\u001B[43mstdev_doublet_rate\u001B[49m\u001B[38;5;241;43m=\u001B[39;49m\u001B[43mstdev_doublet_rate\u001B[49m\u001B[43m,\u001B[49m\n\u001B[1;32m    216\u001B[0m \u001B[43m    \u001B[49m\u001B[43mmean_center\u001B[49m\u001B[38;5;241;43m=\u001B[39;49m\u001B[43mmean_center\u001B[49m\u001B[43m,\u001B[49m\n\u001B[1;32m    217\u001B[0m \u001B[43m    \u001B[49m\u001B[43mnormalize_variance\u001B[49m\u001B[38;5;241;43m=\u001B[39;49m\u001B[43mnormalize_variance\u001B[49m\u001B[43m,\u001B[49m\n\u001B[1;32m    218\u001B[0m \u001B[43m    \u001B[49m\u001B[43mn_prin_comps\u001B[49m\u001B[38;5;241;43m=\u001B[39;49m\u001B[43mn_prin_comps\u001B[49m\u001B[43m,\u001B[49m\n\u001B[1;32m    219\u001B[0m \u001B[43m    \u001B[49m\u001B[43muse_approx_neighbors\u001B[49m\u001B[38;5;241;43m=\u001B[39;49m\u001B[43muse_approx_neighbors\u001B[49m\u001B[43m,\u001B[49m\n\u001B[1;32m    220\u001B[0m \u001B[43m    \u001B[49m\u001B[43mknn_dist_metric\u001B[49m\u001B[38;5;241;43m=\u001B[39;49m\u001B[43mknn_dist_metric\u001B[49m\u001B[43m,\u001B[49m\n\u001B[1;32m    221\u001B[0m \u001B[43m    \u001B[49m\u001B[43mget_doublet_neighbor_parents\u001B[49m\u001B[38;5;241;43m=\u001B[39;49m\u001B[43mget_doublet_neighbor_parents\u001B[49m\u001B[43m,\u001B[49m\n\u001B[1;32m    222\u001B[0m \u001B[43m    \u001B[49m\u001B[43mthreshold\u001B[49m\u001B[38;5;241;43m=\u001B[39;49m\u001B[43mthreshold\u001B[49m\u001B[43m,\u001B[49m\n\u001B[1;32m    223\u001B[0m \u001B[43m    \u001B[49m\u001B[43mrandom_state\u001B[49m\u001B[38;5;241;43m=\u001B[39;49m\u001B[43mrandom_state\u001B[49m\u001B[43m,\u001B[49m\n\u001B[1;32m    224\u001B[0m \u001B[43m    \u001B[49m\u001B[43mverbose\u001B[49m\u001B[38;5;241;43m=\u001B[39;49m\u001B[43mverbose\u001B[49m\u001B[43m,\u001B[49m\n\u001B[1;32m    225\u001B[0m \u001B[43m\u001B[49m\u001B[43m)\u001B[49m\n\u001B[1;32m    227\u001B[0m \u001B[38;5;28;01mreturn\u001B[39;00m {\u001B[38;5;124m'\u001B[39m\u001B[38;5;124mobs\u001B[39m\u001B[38;5;124m'\u001B[39m: ad_obs\u001B[38;5;241m.\u001B[39mobs, \u001B[38;5;124m'\u001B[39m\u001B[38;5;124muns\u001B[39m\u001B[38;5;124m'\u001B[39m: ad_obs\u001B[38;5;241m.\u001B[39muns[\u001B[38;5;124m'\u001B[39m\u001B[38;5;124mscrublet\u001B[39m\u001B[38;5;124m'\u001B[39m]}\n",
      "File \u001B[0;32m~/.conda/envs/sctoolbox/lib/python3.10/site-packages/scanpy/external/pp/_scrublet.py:434\u001B[0m, in \u001B[0;36m_scrublet_call_doublets\u001B[0;34m(adata_obs, adata_sim, n_neighbors, expected_doublet_rate, stdev_doublet_rate, mean_center, normalize_variance, n_prin_comps, use_approx_neighbors, knn_dist_metric, get_doublet_neighbor_parents, threshold, random_state, verbose)\u001B[0m\n\u001B[1;32m    432\u001B[0m \u001B[38;5;28;01mif\u001B[39;00m mean_center:\n\u001B[1;32m    433\u001B[0m     logg\u001B[38;5;241m.\u001B[39minfo(\u001B[38;5;124m'\u001B[39m\u001B[38;5;124mEmbedding transcriptomes using PCA...\u001B[39m\u001B[38;5;124m'\u001B[39m)\n\u001B[0;32m--> 434\u001B[0m     \u001B[43msl\u001B[49m\u001B[38;5;241;43m.\u001B[39;49m\u001B[43mpipeline_pca\u001B[49m\u001B[43m(\u001B[49m\n\u001B[1;32m    435\u001B[0m \u001B[43m        \u001B[49m\u001B[43mscrub\u001B[49m\u001B[43m,\u001B[49m\u001B[43m \u001B[49m\u001B[43mn_prin_comps\u001B[49m\u001B[38;5;241;43m=\u001B[39;49m\u001B[43mn_prin_comps\u001B[49m\u001B[43m,\u001B[49m\u001B[43m \u001B[49m\u001B[43mrandom_state\u001B[49m\u001B[38;5;241;43m=\u001B[39;49m\u001B[43mscrub\u001B[49m\u001B[38;5;241;43m.\u001B[39;49m\u001B[43mrandom_state\u001B[49m\n\u001B[1;32m    436\u001B[0m \u001B[43m    \u001B[49m\u001B[43m)\u001B[49m\n\u001B[1;32m    437\u001B[0m \u001B[38;5;28;01melse\u001B[39;00m:\n\u001B[1;32m    438\u001B[0m     logg\u001B[38;5;241m.\u001B[39minfo(\u001B[38;5;124m'\u001B[39m\u001B[38;5;124mEmbedding transcriptomes using Truncated SVD...\u001B[39m\u001B[38;5;124m'\u001B[39m)\n",
      "File \u001B[0;32m~/.conda/envs/sctoolbox/lib/python3.10/site-packages/scrublet/helper_functions.py:89\u001B[0m, in \u001B[0;36mpipeline_pca\u001B[0;34m(self, n_prin_comps, random_state, svd_solver)\u001B[0m\n\u001B[1;32m     86\u001B[0m \u001B[38;5;28;01melse\u001B[39;00m:\n\u001B[1;32m     87\u001B[0m     X_sim \u001B[38;5;241m=\u001B[39m \u001B[38;5;28mself\u001B[39m\u001B[38;5;241m.\u001B[39m_E_sim_norm\n\u001B[0;32m---> 89\u001B[0m pca \u001B[38;5;241m=\u001B[39m \u001B[43mPCA\u001B[49m\u001B[43m(\u001B[49m\u001B[43mn_components\u001B[49m\u001B[38;5;241;43m=\u001B[39;49m\u001B[43mn_prin_comps\u001B[49m\u001B[43m,\u001B[49m\u001B[43m \u001B[49m\u001B[43mrandom_state\u001B[49m\u001B[38;5;241;43m=\u001B[39;49m\u001B[43mrandom_state\u001B[49m\u001B[43m,\u001B[49m\u001B[43m \u001B[49m\u001B[43msvd_solver\u001B[49m\u001B[38;5;241;43m=\u001B[39;49m\u001B[43msvd_solver\u001B[49m\u001B[43m)\u001B[49m\u001B[38;5;241;43m.\u001B[39;49m\u001B[43mfit\u001B[49m\u001B[43m(\u001B[49m\u001B[43mX_obs\u001B[49m\u001B[43m)\u001B[49m\n\u001B[1;32m     90\u001B[0m \u001B[38;5;28mself\u001B[39m\u001B[38;5;241m.\u001B[39mset_manifold(pca\u001B[38;5;241m.\u001B[39mtransform(X_obs), pca\u001B[38;5;241m.\u001B[39mtransform(X_sim)) \n\u001B[1;32m     91\u001B[0m \u001B[38;5;28;01mreturn\u001B[39;00m\n",
      "File \u001B[0;32m~/.conda/envs/sctoolbox/lib/python3.10/site-packages/sklearn/decomposition/_pca.py:435\u001B[0m, in \u001B[0;36mPCA.fit\u001B[0;34m(self, X, y)\u001B[0m\n\u001B[1;32m    417\u001B[0m \u001B[38;5;250m\u001B[39m\u001B[38;5;124;03m\"\"\"Fit the model with X.\u001B[39;00m\n\u001B[1;32m    418\u001B[0m \n\u001B[1;32m    419\u001B[0m \u001B[38;5;124;03mParameters\u001B[39;00m\n\u001B[0;32m   (...)\u001B[0m\n\u001B[1;32m    431\u001B[0m \u001B[38;5;124;03m    Returns the instance itself.\u001B[39;00m\n\u001B[1;32m    432\u001B[0m \u001B[38;5;124;03m\"\"\"\u001B[39;00m\n\u001B[1;32m    433\u001B[0m \u001B[38;5;28mself\u001B[39m\u001B[38;5;241m.\u001B[39m_validate_params()\n\u001B[0;32m--> 435\u001B[0m \u001B[38;5;28;43mself\u001B[39;49m\u001B[38;5;241;43m.\u001B[39;49m\u001B[43m_fit\u001B[49m\u001B[43m(\u001B[49m\u001B[43mX\u001B[49m\u001B[43m)\u001B[49m\n\u001B[1;32m    436\u001B[0m \u001B[38;5;28;01mreturn\u001B[39;00m \u001B[38;5;28mself\u001B[39m\n",
      "File \u001B[0;32m~/.conda/envs/sctoolbox/lib/python3.10/site-packages/sklearn/decomposition/_pca.py:485\u001B[0m, in \u001B[0;36mPCA._fit\u001B[0;34m(self, X)\u001B[0m\n\u001B[1;32m    479\u001B[0m \u001B[38;5;28;01mif\u001B[39;00m issparse(X):\n\u001B[1;32m    480\u001B[0m     \u001B[38;5;28;01mraise\u001B[39;00m \u001B[38;5;167;01mTypeError\u001B[39;00m(\n\u001B[1;32m    481\u001B[0m         \u001B[38;5;124m\"\u001B[39m\u001B[38;5;124mPCA does not support sparse input. See \u001B[39m\u001B[38;5;124m\"\u001B[39m\n\u001B[1;32m    482\u001B[0m         \u001B[38;5;124m\"\u001B[39m\u001B[38;5;124mTruncatedSVD for a possible alternative.\u001B[39m\u001B[38;5;124m\"\u001B[39m\n\u001B[1;32m    483\u001B[0m     )\n\u001B[0;32m--> 485\u001B[0m X \u001B[38;5;241m=\u001B[39m \u001B[38;5;28;43mself\u001B[39;49m\u001B[38;5;241;43m.\u001B[39;49m\u001B[43m_validate_data\u001B[49m\u001B[43m(\u001B[49m\n\u001B[1;32m    486\u001B[0m \u001B[43m    \u001B[49m\u001B[43mX\u001B[49m\u001B[43m,\u001B[49m\u001B[43m \u001B[49m\u001B[43mdtype\u001B[49m\u001B[38;5;241;43m=\u001B[39;49m\u001B[43m[\u001B[49m\u001B[43mnp\u001B[49m\u001B[38;5;241;43m.\u001B[39;49m\u001B[43mfloat64\u001B[49m\u001B[43m,\u001B[49m\u001B[43m \u001B[49m\u001B[43mnp\u001B[49m\u001B[38;5;241;43m.\u001B[39;49m\u001B[43mfloat32\u001B[49m\u001B[43m]\u001B[49m\u001B[43m,\u001B[49m\u001B[43m \u001B[49m\u001B[43mensure_2d\u001B[49m\u001B[38;5;241;43m=\u001B[39;49m\u001B[38;5;28;43;01mTrue\u001B[39;49;00m\u001B[43m,\u001B[49m\u001B[43m \u001B[49m\u001B[43mcopy\u001B[49m\u001B[38;5;241;43m=\u001B[39;49m\u001B[38;5;28;43mself\u001B[39;49m\u001B[38;5;241;43m.\u001B[39;49m\u001B[43mcopy\u001B[49m\n\u001B[1;32m    487\u001B[0m \u001B[43m\u001B[49m\u001B[43m)\u001B[49m\n\u001B[1;32m    489\u001B[0m \u001B[38;5;66;03m# Handle n_components==None\u001B[39;00m\n\u001B[1;32m    490\u001B[0m \u001B[38;5;28;01mif\u001B[39;00m \u001B[38;5;28mself\u001B[39m\u001B[38;5;241m.\u001B[39mn_components \u001B[38;5;129;01mis\u001B[39;00m \u001B[38;5;28;01mNone\u001B[39;00m:\n",
      "File \u001B[0;32m~/.conda/envs/sctoolbox/lib/python3.10/site-packages/sklearn/base.py:546\u001B[0m, in \u001B[0;36mBaseEstimator._validate_data\u001B[0;34m(self, X, y, reset, validate_separately, **check_params)\u001B[0m\n\u001B[1;32m    544\u001B[0m     \u001B[38;5;28;01mraise\u001B[39;00m \u001B[38;5;167;01mValueError\u001B[39;00m(\u001B[38;5;124m\"\u001B[39m\u001B[38;5;124mValidation should be done on X, y or both.\u001B[39m\u001B[38;5;124m\"\u001B[39m)\n\u001B[1;32m    545\u001B[0m \u001B[38;5;28;01melif\u001B[39;00m \u001B[38;5;129;01mnot\u001B[39;00m no_val_X \u001B[38;5;129;01mand\u001B[39;00m no_val_y:\n\u001B[0;32m--> 546\u001B[0m     X \u001B[38;5;241m=\u001B[39m \u001B[43mcheck_array\u001B[49m\u001B[43m(\u001B[49m\u001B[43mX\u001B[49m\u001B[43m,\u001B[49m\u001B[43m \u001B[49m\u001B[43minput_name\u001B[49m\u001B[38;5;241;43m=\u001B[39;49m\u001B[38;5;124;43m\"\u001B[39;49m\u001B[38;5;124;43mX\u001B[39;49m\u001B[38;5;124;43m\"\u001B[39;49m\u001B[43m,\u001B[49m\u001B[43m \u001B[49m\u001B[38;5;241;43m*\u001B[39;49m\u001B[38;5;241;43m*\u001B[39;49m\u001B[43mcheck_params\u001B[49m\u001B[43m)\u001B[49m\n\u001B[1;32m    547\u001B[0m     out \u001B[38;5;241m=\u001B[39m X\n\u001B[1;32m    548\u001B[0m \u001B[38;5;28;01melif\u001B[39;00m no_val_X \u001B[38;5;129;01mand\u001B[39;00m \u001B[38;5;129;01mnot\u001B[39;00m no_val_y:\n",
      "File \u001B[0;32m~/.conda/envs/sctoolbox/lib/python3.10/site-packages/sklearn/utils/validation.py:940\u001B[0m, in \u001B[0;36mcheck_array\u001B[0;34m(array, accept_sparse, accept_large_sparse, dtype, order, copy, force_all_finite, ensure_2d, allow_nd, ensure_min_samples, ensure_min_features, estimator, input_name)\u001B[0m\n\u001B[1;32m    938\u001B[0m     n_features \u001B[38;5;241m=\u001B[39m array\u001B[38;5;241m.\u001B[39mshape[\u001B[38;5;241m1\u001B[39m]\n\u001B[1;32m    939\u001B[0m     \u001B[38;5;28;01mif\u001B[39;00m n_features \u001B[38;5;241m<\u001B[39m ensure_min_features:\n\u001B[0;32m--> 940\u001B[0m         \u001B[38;5;28;01mraise\u001B[39;00m \u001B[38;5;167;01mValueError\u001B[39;00m(\n\u001B[1;32m    941\u001B[0m             \u001B[38;5;124m\"\u001B[39m\u001B[38;5;124mFound array with \u001B[39m\u001B[38;5;132;01m%d\u001B[39;00m\u001B[38;5;124m feature(s) (shape=\u001B[39m\u001B[38;5;132;01m%s\u001B[39;00m\u001B[38;5;124m) while\u001B[39m\u001B[38;5;124m\"\u001B[39m\n\u001B[1;32m    942\u001B[0m             \u001B[38;5;124m\"\u001B[39m\u001B[38;5;124m a minimum of \u001B[39m\u001B[38;5;132;01m%d\u001B[39;00m\u001B[38;5;124m is required\u001B[39m\u001B[38;5;132;01m%s\u001B[39;00m\u001B[38;5;124m.\u001B[39m\u001B[38;5;124m\"\u001B[39m\n\u001B[1;32m    943\u001B[0m             \u001B[38;5;241m%\u001B[39m (n_features, array\u001B[38;5;241m.\u001B[39mshape, ensure_min_features, context)\n\u001B[1;32m    944\u001B[0m         )\n\u001B[1;32m    946\u001B[0m \u001B[38;5;28;01mif\u001B[39;00m copy:\n\u001B[1;32m    947\u001B[0m     \u001B[38;5;28;01mif\u001B[39;00m xp\u001B[38;5;241m.\u001B[39m\u001B[38;5;18m__name__\u001B[39m \u001B[38;5;129;01min\u001B[39;00m {\u001B[38;5;124m\"\u001B[39m\u001B[38;5;124mnumpy\u001B[39m\u001B[38;5;124m\"\u001B[39m, \u001B[38;5;124m\"\u001B[39m\u001B[38;5;124mnumpy.array_api\u001B[39m\u001B[38;5;124m\"\u001B[39m}:\n\u001B[1;32m    948\u001B[0m         \u001B[38;5;66;03m# only make a copy if `array` and `array_orig` may share memory`\u001B[39;00m\n",
      "\u001B[0;31mValueError\u001B[0m: Found array with 0 feature(s) (shape=(62894, 0)) while a minimum of 1 is required by PCA."
     ]
    }
   ],
   "source": [
    " if filter_doublets:\n",
    "        \n",
    "    if use_condition_column:\n",
    "        condition_doublet_removal = condition_column\n",
    "    \n",
    "    qc.estimate_doublets(adata, groupby=condition_doublet_removal, threads=threads, threshold=doublet_threshold)\n",
    "    \n",
    "    #Remove the duplicates from adata\n",
    "    qc.filter_cells(adata, \"predicted_doublet\", remove_bool=True)\n",
    "    \n",
    "    #Save to adata to plot later on\n",
    "    adata.uns[\"infoprocess\"][\"plot_metrics\"].append(\"doublet_score\")"
   ]
  },
  {
   "cell_type": "markdown",
   "id": "8be20ee8",
   "metadata": {},
   "source": [
    "## 5. visualize adata"
   ]
  },
  {
   "cell_type": "code",
   "execution_count": null,
   "id": "feba121e",
   "metadata": {},
   "outputs": [],
   "source": [
    "adata.var"
   ]
  },
  {
   "cell_type": "code",
   "execution_count": null,
   "id": "931943e7",
   "metadata": {},
   "outputs": [],
   "source": [
    "# plot_ov_hist(adata, threshold_features=50) \n",
    "epi.pp.filter_features(adata, min_cells=1)\n",
    "epi.pp.filter_cells(adata, min_features=1)\n",
    "epi.pp.coverage_cells(adata, binary=True, log=False, bins=50)\n",
    "epi.pp.coverage_cells(adata, binary=True, log=10, bins=50)\n",
    "\n",
    "epi.pp.coverage_features(adata, binary=True, log=False, bins=50)\n",
    "epi.pp.coverage_features(adata, binary=True, log=10, bins=50)"
   ]
  },
  {
   "cell_type": "code",
   "execution_count": null,
   "id": "4e66c4c1",
   "metadata": {},
   "outputs": [],
   "source": [
    "adata.raw = adata\n",
    "if binarize_mtx:\n",
    "    epi.pp.binarize(adata)\n",
    "    adata.layers['binary'] = adata.X.copy()"
   ]
  },
  {
   "cell_type": "markdown",
   "id": "fb6af5eb",
   "metadata": {},
   "source": [
    "## 6. Cells Filtering"
   ]
  },
  {
   "cell_type": "markdown",
   "id": "89f92c34",
   "metadata": {},
   "source": [
    "### 6.1 get thresholds dict"
   ]
  },
  {
   "cell_type": "code",
   "execution_count": null,
   "id": "b317bdc7",
   "metadata": {},
   "outputs": [],
   "source": [
    "groupby = condition_column if global_threshold is False else None\n",
    "thresholds = atac_utils.get_thresholds_atac_wrapper(adata, manual_thresholds, only_automatic_thresholds, groupby=groupby)\n",
    "qc.thresholds_as_table(thresholds)"
   ]
  },
  {
   "cell_type": "markdown",
   "id": "acde2adf",
   "metadata": {},
   "source": [
    "### 6.2 plot thresholds"
   ]
  },
  {
   "cell_type": "code",
   "execution_count": null,
   "id": "981a5c50",
   "metadata": {},
   "outputs": [],
   "source": [
    "%matplotlib widget\n",
    "%bgcolor PowderBlue\n",
    "\n",
    "#Plot violins and sliders\n",
    "obs_figure, obs_slider_dict = qc.quality_violin(adata, columns=obs_columns,\n",
    "                                            groupby=condition_column,\n",
    "                                            which=\"obs\",\n",
    "                                            thresholds=thresholds,\n",
    "                                            global_threshold=global_threshold,\n",
    "                                            title=\"Cell quality control (before)\",\n",
    "                                            save=tree.qc_plots + \"cell_filtering.png\")\n",
    "obs_figure"
   ]
  },
  {
   "cell_type": "code",
   "execution_count": null,
   "id": "d43c3b78",
   "metadata": {},
   "outputs": [],
   "source": [
    "# Get final thresholds\n",
    "final_thresholds = qc.get_slider_thresholds(obs_slider_dict)\n",
    "qc.thresholds_as_table(final_thresholds) # show thresholds"
   ]
  },
  {
   "cell_type": "markdown",
   "id": "d131f523",
   "metadata": {},
   "source": [
    "### 6.3 filter adata"
   ]
  },
  {
   "cell_type": "code",
   "execution_count": null,
   "id": "1c488570",
   "metadata": {},
   "outputs": [],
   "source": [
    "qc.apply_qc_thresholds(adata, final_thresholds, groupby=groupby)\n",
    "# remove empty features\n",
    "epi.pp.filter_features(adata, min_cells=1)"
   ]
  },
  {
   "cell_type": "code",
   "execution_count": null,
   "id": "24634132",
   "metadata": {},
   "outputs": [],
   "source": [
    "# log-convert number of features\n",
    "adata.obs['log_nb_features'] = [np.log10(x) for x in adata.obs['nb_features']]\n",
    "display(adata)"
   ]
  },
  {
   "cell_type": "markdown",
   "id": "aad9af0e",
   "metadata": {},
   "source": [
    "## 7. save plots"
   ]
  },
  {
   "cell_type": "code",
   "execution_count": null,
   "id": "955b7ac2",
   "metadata": {},
   "outputs": [],
   "source": [
    "%matplotlib inline \n",
    "\n",
    "#Plot violins and sliders\n",
    "figure, slider_dict = qc.quality_violin(adata, columns=obs_columns,\n",
    "                                     groupby=condition_column,\n",
    "                                     which=\"obs\", ncols=3,\n",
    "                                     global_threshold = global_threshold,\n",
    "                                     title=\"Cell quality control (after)\",\n",
    "                                     save=tree.qc_plots + \"cell_filtering_final.png\")\n",
    "figure "
   ]
  },
  {
   "cell_type": "markdown",
   "id": "b43e9b3e",
   "metadata": {},
   "source": [
    "## 8. save anndata"
   ]
  },
  {
   "cell_type": "code",
   "execution_count": null,
   "id": "877a2815",
   "metadata": {},
   "outputs": [],
   "source": [
    "adata_output = tree.qc_anndata\n",
    "adata.write(filename=adata_output)"
   ]
  },
  {
   "cell_type": "code",
   "execution_count": null,
   "id": "b55ef72a",
   "metadata": {},
   "outputs": [],
   "source": [
    "tree.qc_dir"
   ]
  },
  {
   "cell_type": "code",
   "execution_count": null,
   "id": "080d7ef4",
   "metadata": {},
   "outputs": [],
   "source": [
    "import os\n",
    "import shutil\n",
    "repo_path = os.getcwd()\n",
    "notebook_name = '2_QC.ipynb'\n",
    "notebook_path = os.path.join(repo_path, notebook_name)\n",
    "notebook_copy = os.path.join(tree.qc_dir , notebook_name)\n",
    "shutil.copyfile(notebook_path, notebook_copy)"
   ]
  },
  {
   "cell_type": "code",
   "execution_count": null,
   "id": "c75f35c4",
   "metadata": {},
   "outputs": [],
   "source": []
  }
 ],
 "metadata": {
  "kernelspec": {
   "display_name": "sctoolbox",
   "language": "python",
   "name": "sctoolbox"
  },
  "language_info": {
   "codemirror_mode": {
    "name": "ipython",
    "version": 3
   },
   "file_extension": ".py",
   "mimetype": "text/x-python",
   "name": "python",
   "nbconvert_exporter": "python",
   "pygments_lexer": "ipython3",
   "version": "3.10.8"
  }
 },
 "nbformat": 4,
 "nbformat_minor": 5
}
