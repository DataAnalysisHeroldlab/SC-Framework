{
 "cells": [
  {
   "cell_type": "markdown",
   "id": "ac317ff1",
   "metadata": {
    "pycharm": {
     "name": "#%% md\n"
    }
   },
   "source": [
    "# QC filtering\n",
    "\n",
    "This notebook is about filtering scATAC seq data within an adata object to archive a good quality peak matrix.\n",
    "For this task various QC filters are implemented. The latter includes filters related to:\n",
    "\n",
    "- doublet score\n",
    "- number of features per barcode\n",
    "- mean insert size\n",
    "- promotor enrichment\n"
   ]
  },
  {
   "cell_type": "markdown",
   "id": "c1405c2c",
   "metadata": {
    "pycharm": {
     "name": "#%% md\n"
    }
   },
   "source": [
    "## Settings"
   ]
  },
  {
   "cell_type": "code",
   "execution_count": null,
   "id": "a9f4fe6c",
   "metadata": {
    "pycharm": {
     "name": "#%%\n"
    }
   },
   "outputs": [],
   "source": [
    "#Path related settings (these should be the same as for the previous notebook)\n",
    "output_dir = '/mnt/workspace/jdetlef/ext_ana/processed' # specify the output directory of the processing should be the same in every notebook\n",
    "test = 'all' # sample name, this should be the same for all the notebooks"
   ]
  },
  {
   "cell_type": "markdown",
   "id": "fdeeb2bb",
   "metadata": {
    "pycharm": {
     "name": "#%% md\n"
    }
   },
   "source": [
    "## QC Settings"
   ]
  },
  {
   "cell_type": "code",
   "execution_count": null,
   "id": "5285011f",
   "metadata": {
    "pycharm": {
     "name": "#%%\n"
    }
   },
   "outputs": [],
   "source": [
    "# Set the column in adata.obs containing the biological condition to evaluate\n",
    "condition_column = \"Sample\"\n",
    "\n",
    "# Data inspection\n",
    "# Set True if the insertsize distribution should be plotted\n",
    "# If there is no insertsize distribution set this False\n",
    "plot_insertsize_dist = True\n",
    "\n",
    "filter_xy = True  # True or False; filtering out chrX and chrY\n",
    "binarize_mtx = True  # True or False; convert matrix to binary\n",
    "select_hvf = True  # True or False; select only highly variable features\n",
    "\n",
    "############################# filters ##########################################\n",
    "\n",
    "# Decide whether to estimate thresholds individual per condition (False) or globally (True)\n",
    "global_threshold = True\n",
    "\n",
    "# Filter to use:\n",
    "n_features_filter = True # True or False; filtering out cells with numbers of features not in the range defined below\n",
    "mean_insertsize_filter = True # True or False; filtering out cells with mean insertsize not in the range defined below\n",
    "filter_pct_fp= False # True or False; filtering out cells with promotor_enrichment not in the range defined below\n",
    "filter_n_fragments= False # True or False; filtering out cells with promotor_enrichment not in the range defined below\n",
    "filter_chrM_fragments= False # True or False; filtering out cells with promotor_enrichment not in the range defined below\n",
    "filter_uniquely_mapped_fragments= False # True or False; filtering out cells with promotor_enrichment not in the range defined\n",
    "\n",
    "\n",
    "# if this is True thresholds below are ignored \n",
    "only_automatic_thresholds = False # True or False; to use automatic thresholds\n",
    "\n",
    "############################# set default values #######################################\n",
    "# \n",
    "# This will be applied to all samples the thresholds can be changed manually when plotted \n",
    "# if thresholds None they are set automatically\n",
    "\n",
    "# default values n_features \n",
    "min_features = 100\n",
    "max_features = 5000\n",
    "\n",
    "# default mean_insertsize\n",
    "upper_threshold_mis=None\n",
    "lower_threshold_mis=None\n",
    "\n",
    "# default promotor enrichment\n",
    "upper_threshold_pct_fp=None\n",
    "lower_threshold_pct_fp=None\n",
    "\n",
    "# default number of fragments\n",
    "upper_thr_fragments=None\n",
    "lower_thr_fragments=None\n",
    "\n",
    "# default number of fragments in chrM\n",
    "upper_thr_chrM_fragments=1000\n",
    "lower_thr_chrM_fragments=0\n",
    "\n",
    "# default number of uniquely mapped fragments\n",
    "upper_thr_um=20000\n",
    "lower_thr_um=0\n",
    "\n"
   ]
  },
  {
   "cell_type": "markdown",
   "id": "731616b9",
   "metadata": {},
   "source": [
    "## Sum up settings"
   ]
  },
  {
   "cell_type": "code",
   "execution_count": null,
   "id": "af4a23ed",
   "metadata": {},
   "outputs": [],
   "source": [
    "manual_thresholds = {}\n",
    "if n_features_filter:\n",
    "    manual_thresholds['n_features_by_counts'] = {'min' : min_features, 'max' : max_features}\n",
    "\n",
    "if mean_insertsize_filter:\n",
    "    manual_thresholds['mean_insertsize'] = {'min' : lower_threshold_mis, 'max' : upper_threshold_mis}\n",
    "\n",
    "if filter_pct_fp:\n",
    "    manual_thresholds['pct_fragments_in_promoters'] = {'min' : lower_threshold_pct_fp, 'max' : upper_threshold_pct_fp}\n",
    "\n",
    "if filter_n_fragments:\n",
    "    manual_thresholds['TN'] = {'min' : lower_thr_fragments, 'max' : upper_thr_fragments}\n",
    "\n",
    "if filter_chrM_fragments:\n",
    "    manual_thresholds['CM'] = {'min' : lower_thr_chrM_fragments, 'max' : upper_thr_chrM_fragments}\n",
    "\n",
    "if filter_uniquely_mapped_fragments:\n",
    "    manual_thresholds['UM'] = {'min' : lower_thr_um, 'max' : upper_thr_um}\n",
    "\n",
    "obs_columns = list(manual_thresholds.keys())"
   ]
  },
  {
   "cell_type": "markdown",
   "id": "9bfd0589",
   "metadata": {
    "pycharm": {
     "name": "#%% md\n"
    }
   },
   "source": [
    "## Loading packages and setup"
   ]
  },
  {
   "cell_type": "code",
   "execution_count": null,
   "id": "a5e585b0",
   "metadata": {
    "pycharm": {
     "name": "#%%\n"
    }
   },
   "outputs": [],
   "source": [
    "# sctoolbox modules\n",
    "import sctoolbox.atac_tree as sub_tree\n",
    "import sctoolbox.creators as cr\n",
    "import sctoolbox.annotation as an\n",
    "from sctoolbox.qc_filter import *\n",
    "from sctoolbox.plotting import *\n",
    "from sctoolbox.atac_utils import *\n",
    "import sctoolbox.atac as atac\n",
    "# import episcanpy\n",
    "import scanpy as sc\n",
    "import episcanpy as epi\n",
    "import numpy as np"
   ]
  },
  {
   "cell_type": "markdown",
   "id": "a3984998",
   "metadata": {
    "pycharm": {
     "name": "#%% md\n"
    }
   },
   "source": [
    "## Setup path handling object "
   ]
  },
  {
   "cell_type": "code",
   "execution_count": null,
   "id": "7c230208",
   "metadata": {
    "pycharm": {
     "name": "#%%\n"
    }
   },
   "outputs": [],
   "source": [
    "# make an instance of the class\n",
    "tree = sub_tree.ATAC_tree()\n",
    "# set processing/output directory\n",
    "tree.processing_dir = output_dir\n",
    "# set sample/experiment.. \n",
    "tree.run = test"
   ]
  },
  {
   "cell_type": "markdown",
   "id": "3d8408ce",
   "metadata": {
    "pycharm": {
     "name": "#%% md\n"
    }
   },
   "source": [
    "## Load anndata "
   ]
  },
  {
   "cell_type": "code",
   "execution_count": null,
   "id": "5e989d23",
   "metadata": {
    "pycharm": {
     "name": "#%%\n"
    }
   },
   "outputs": [],
   "source": [
    "# probably updated in future\n",
    "assembling_output = tree.assembled_anndata\n",
    "adata = epi.read_h5ad(assembling_output)\n",
    "adata"
   ]
  },
  {
   "cell_type": "code",
   "execution_count": null,
   "id": "0e1adb38",
   "metadata": {},
   "outputs": [],
   "source": [
    "adata.var "
   ]
  },
  {
   "cell_type": "code",
   "execution_count": null,
   "id": "291df6a5",
   "metadata": {},
   "outputs": [],
   "source": [
    "if plot_insertsize_dist:\n",
    "    atac.plot_insertsize(adata)"
   ]
  },
  {
   "cell_type": "markdown",
   "id": "db60f5ba",
   "metadata": {
    "pycharm": {
     "name": "#%% md\n"
    }
   },
   "source": [
    "# QC"
   ]
  },
  {
   "cell_type": "markdown",
   "id": "8bb2c8b4",
   "metadata": {
    "pycharm": {
     "name": "#%% md\n"
    }
   },
   "source": [
    "## 1. filtering out chrX, chrY and chrM"
   ]
  },
  {
   "cell_type": "code",
   "execution_count": null,
   "id": "385bd38f",
   "metadata": {
    "pycharm": {
     "name": "#%%\n"
    }
   },
   "outputs": [],
   "source": [
    "non_m = [name for name in adata.var_names if not name.startswith('chrM')]  # remove chrM\n",
    "adata = adata[:, non_m]"
   ]
  },
  {
   "cell_type": "code",
   "execution_count": null,
   "id": "1e221a49",
   "metadata": {
    "pycharm": {
     "name": "#%%\n"
    }
   },
   "outputs": [],
   "source": [
    "if filter_xy:\n",
    "    non_xy = [name for name in adata.var_names if not name.startswith('chrY') | name.startswith('chrX')]\n",
    "    adata = adata[:, non_xy]"
   ]
  },
  {
   "cell_type": "code",
   "execution_count": null,
   "id": "dc05d7b8",
   "metadata": {
    "pycharm": {
     "name": "#%%\n"
    }
   },
   "outputs": [],
   "source": [
    "display(adata)"
   ]
  },
  {
   "cell_type": "markdown",
   "id": "2f801142",
   "metadata": {
    "pycharm": {
     "name": "#%% md\n"
    }
   },
   "source": [
    "## 2. removing empty cells"
   ]
  },
  {
   "cell_type": "code",
   "execution_count": null,
   "id": "1bfb0aa0",
   "metadata": {
    "pycharm": {
     "name": "#%%\n"
    }
   },
   "outputs": [],
   "source": [
    "epi.pp.filter_cells(adata, min_features=1)\n",
    "# log-convert number of features\n",
    "adata.obs['log_nb_features'] = [np.log10(x) for x in adata.obs['nb_features']]\n",
    "display(adata)"
   ]
  },
  {
   "cell_type": "markdown",
   "id": "7f9c9318",
   "metadata": {
    "pycharm": {
     "name": "#%% md\n"
    }
   },
   "source": [
    "## 3. binarize"
   ]
  },
  {
   "cell_type": "code",
   "execution_count": null,
   "id": "1cc85ce4",
   "metadata": {
    "pycharm": {
     "name": "#%%\n"
    }
   },
   "outputs": [],
   "source": [
    "adata.raw = adata\n",
    "if binarize_mtx:\n",
    "    epi.pp.binarize(adata)\n",
    "    adata.layers['binary'] = adata.X.copy()"
   ]
  },
  {
   "cell_type": "markdown",
   "id": "ef346453",
   "metadata": {
    "pycharm": {
     "name": "#%%\n"
    }
   },
   "source": [
    "## 5. visualize adata"
   ]
  },
  {
   "cell_type": "code",
   "execution_count": null,
   "id": "feba121e",
   "metadata": {},
   "outputs": [],
   "source": [
    "adata.var"
   ]
  },
  {
   "cell_type": "code",
   "execution_count": null,
   "id": "931943e7",
   "metadata": {
    "pycharm": {
     "name": "#%%\n"
    }
   },
   "outputs": [],
   "source": [
    "# plot_ov_hist(adata, threshold_features=50) # FIXME: Later plots do not visualize\n",
    "epi.pp.filter_features(adata, min_cells=1)\n",
    "epi.pp.filter_cells(adata, min_features=1)\n",
    "epi.pp.coverage_cells(adata, binary=True, log=False, bins=50)\n",
    "epi.pp.coverage_cells(adata, binary=True, log=10, bins=50)\n",
    "\n",
    "epi.pp.coverage_features(adata, binary=True, log=False, bins=50)\n",
    "epi.pp.coverage_features(adata, binary=True, log=10, bins=50)"
   ]
  },
  {
   "cell_type": "markdown",
   "id": "d5ab15e8",
   "metadata": {},
   "source": [
    "## 6. Cells Filtering"
   ]
  },
  {
   "cell_type": "markdown",
   "id": "664bd8fe",
   "metadata": {},
   "source": [
    "### 6.1 get thresholds dict"
   ]
  },
  {
   "cell_type": "code",
   "execution_count": null,
   "id": "268d6710",
   "metadata": {},
   "outputs": [],
   "source": [
    "groupby = condition_column if global_threshold is False else None\n",
    "default_thresholds = build_default_thresholds(adata, manual_thresholds, groupby)\n",
    "default_thresholds"
   ]
  },
  {
   "cell_type": "code",
   "execution_count": null,
   "id": "4e66c4c1",
   "metadata": {
    "pycharm": {
     "name": "#%%\n"
    }
   },
   "outputs": [],
   "source": [
    "thresholds = get_thresholds_atac_wrapper(adata, default_thresholds, only_automatic_thresholds, groupby=None)\n",
    "thresholds_as_table(thresholds)"
   ]
  },
  {
   "cell_type": "markdown",
   "id": "acde2adf",
   "metadata": {},
   "source": [
    "### 6.2 plot thresholds"
   ]
  },
  {
   "cell_type": "code",
   "execution_count": null,
   "id": "6891314c",
   "metadata": {},
   "outputs": [],
   "source": [
    "%matplotlib widget\n",
    "%bgcolor PowderBlue\n",
    "\n",
    "#Plot violins and sliders\n",
    "obs_figure, obs_slider_dict = quality_violin(adata, columns=obs_columns,\n",
    "                                            groupby=condition_column,\n",
    "                                            which=\"obs\",\n",
    "                                            thresholds=thresholds,\n",
    "                                            global_threshold=global_threshold,\n",
    "                                            title=\"Cell quality control (before)\",\n",
    "                                            save=tree.qc_plots + \"cell_filtering.png\")\n",
    "obs_figure"
   ]
  },
  {
   "cell_type": "code",
   "execution_count": null,
   "id": "d43c3b78",
   "metadata": {},
   "outputs": [],
   "source": [
    "# Get final thresholds\n",
    "final_thresholds = get_slider_thresholds(obs_slider_dict)\n",
    "thresholds_as_table(final_thresholds) # show thresholds"
   ]
  },
  {
   "cell_type": "markdown",
   "id": "d131f523",
   "metadata": {},
   "source": [
    "### 6.3 filter adata"
   ]
  },
  {
   "cell_type": "code",
   "execution_count": null,
   "id": "1c488570",
   "metadata": {},
   "outputs": [],
   "source": [
    "apply_qc_thresholds(adata, final_thresholds)\n",
    "# remove empty features\n",
    "epi.pp.filter_features(adata, min_cells=1)"
   ]
  },
  {
   "cell_type": "code",
   "execution_count": null,
   "id": "24634132",
   "metadata": {},
   "outputs": [],
   "source": [
    "# log-convert number of features\n",
    "adata.obs['log_nb_features'] = [np.log10(x) for x in adata.obs['nb_features']]\n",
    "display(adata)"
   ]
  },
  {
   "cell_type": "markdown",
   "id": "aad9af0e",
   "metadata": {},
   "source": [
    "## 7. save plots"
   ]
  },
  {
   "cell_type": "code",
   "execution_count": null,
   "id": "955b7ac2",
   "metadata": {},
   "outputs": [],
   "source": [
    "%matplotlib inline \n",
    "\n",
    "#Plot violins and sliders\n",
    "figure, slider_dict = quality_violin(adata, columns=obs_columns,\n",
    "                                     groupby=condition_column,\n",
    "                                     which=\"obs\", ncols=3,\n",
    "                                     global_threshold = global_threshold,\n",
    "                                     title=\"Cell quality control (after)\",\n",
    "                                     save=tree.qc_plots + \"cell_filtering_final.png\")\n",
    "figure "
   ]
  },
  {
   "cell_type": "markdown",
   "id": "b43e9b3e",
   "metadata": {},
   "source": [
    "## 8. save anndata"
   ]
  },
  {
   "cell_type": "code",
   "execution_count": null,
   "id": "b5776f98",
   "metadata": {},
   "outputs": [],
   "source": [
    "adata.obs"
   ]
  },
  {
   "cell_type": "code",
   "execution_count": null,
   "id": "19ee3a4a",
   "metadata": {},
   "outputs": [],
   "source": [
    "adata.var"
   ]
  },
  {
   "cell_type": "code",
   "execution_count": null,
   "id": "877a2815",
   "metadata": {},
   "outputs": [],
   "source": [
    "adata_output = tree.qc_anndata\n",
    "adata.write(filename=adata_output)"
   ]
  },
  {
   "cell_type": "code",
   "execution_count": null,
   "id": "b55ef72a",
   "metadata": {},
   "outputs": [],
   "source": [
    "tree.qc_dir"
   ]
  },
  {
   "cell_type": "code",
   "execution_count": null,
   "id": "080d7ef4",
   "metadata": {},
   "outputs": [],
   "source": [
    "import os\n",
    "import shutil\n",
    "repo_path = os.getcwd()\n",
    "notebook_name = '2_QC.ipynb'\n",
    "notebook_path = os.path.join(repo_path, notebook_name)\n",
    "notebook_copy = os.path.join(tree.qc_dir , notebook_name)\n",
    "shutil.copyfile(notebook_path, notebook_copy)"
   ]
  },
  {
   "cell_type": "code",
   "execution_count": null,
   "id": "cc547583",
   "metadata": {},
   "outputs": [],
   "source": []
  }
 ],
 "metadata": {
  "kernelspec": {
   "display_name": "single-cell-base",
   "language": "python",
   "name": "sc_base"
  },
  "language_info": {
   "codemirror_mode": {
    "name": "ipython",
    "version": 3
   },
   "file_extension": ".py",
   "mimetype": "text/x-python",
   "name": "python",
   "nbconvert_exporter": "python",
   "pygments_lexer": "ipython3",
   "version": "3.7.12"
  }
 },
 "nbformat": 4,
 "nbformat_minor": 5
}
