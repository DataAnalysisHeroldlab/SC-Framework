{
 "cells": [
  {
   "cell_type": "markdown",
   "id": "ac317ff1",
   "metadata": {
    "pycharm": {
     "name": "#%% md\n"
    }
   },
   "source": [
    "# QC filtering\n",
    "\n",
    "This notebook is about filtering scATAC seq data within an adata object to archive a good quality peak matrix.\n",
    "For this task various QC filters are implemented. The latter includes filters related to:\n",
    "\n",
    "- doublet score\n",
    "- number of features per barcode\n",
    "- mean insert size\n",
    "- promotor enrichment\n"
   ]
  },
  {
   "cell_type": "markdown",
   "id": "c1405c2c",
   "metadata": {
    "pycharm": {
     "name": "#%% md\n"
    }
   },
   "source": [
    "## Settings"
   ]
  },
  {
   "cell_type": "code",
   "execution_count": 1,
   "id": "a9f4fe6c",
   "metadata": {
    "pycharm": {
     "name": "#%%\n"
    }
   },
   "outputs": [],
   "source": [
    "#Path related settings (these should be the same as for the previous notebook)\n",
    "output_dir = '/mnt/workspace/jdetlef/ext_ana/processed' # specify the output directory of the processing should be the same in every notebook\n",
    "test = 'all' # sample name, this should be the same for all the notebooks"
   ]
  },
  {
   "cell_type": "markdown",
   "id": "fdeeb2bb",
   "metadata": {
    "pycharm": {
     "name": "#%% md\n"
    }
   },
   "source": [
    "## QC Settings"
   ]
  },
  {
   "cell_type": "code",
   "execution_count": 2,
   "id": "5285011f",
   "metadata": {
    "pycharm": {
     "name": "#%%\n"
    }
   },
   "outputs": [],
   "source": [
    "# Set the column in adata.obs containing the biological condition to evaluate\n",
    "condition_column = \"Sample\"\n",
    "\n",
    "# Data inspection\n",
    "# Set True if the insertsize distribution should be plotted\n",
    "# If there is no insertsize distribution set this False\n",
    "plot_insertsize_dist = True\n",
    "\n",
    "filter_xy = True  # True or False; filtering out chrX and chrY\n",
    "binarize_mtx = True  # True or False; convert matrix to binary\n",
    "\n",
    "############################# filters ##########################################\n",
    "\n",
    "# Decide whether to estimate thresholds individual per condition (False) or globally (True)\n",
    "global_threshold = True\n",
    "\n",
    "# Filter to use:\n",
    "n_features_filter = True # True or False; filtering out cells with numbers of features not in the range defined below\n",
    "mean_insertsize_filter = True # True or False; filtering out cells with mean insertsize not in the range defined below\n",
    "filter_pct_fp= False # True or False; filtering out cells with promotor_enrichment not in the range defined below\n",
    "filter_chrM_fragments= False # True or False; filtering out cells with a number features in chromosome M not in the defined range\n",
    "filter_uniquely_mapped_fragments= False # True or False; filtering out cells with fragments mapped not in the defined range\n",
    "\n",
    "\n",
    "# if this is True thresholds below are ignored \n",
    "only_automatic_thresholds = False # True or False; to use automatic thresholds\n",
    "\n",
    "############################# set default values #######################################\n",
    "# \n",
    "# This will be applied to all samples the thresholds can be changed manually when plotted \n",
    "# if thresholds None they are set automatically\n",
    "\n",
    "# default values n_features \n",
    "min_features = 100\n",
    "max_features = 5000\n",
    "\n",
    "# default mean_insertsize\n",
    "upper_threshold_mis=None\n",
    "lower_threshold_mis=None\n",
    "\n",
    "# default promotor enrichment\n",
    "upper_threshold_pct_fp=None\n",
    "lower_threshold_pct_fp=None\n",
    "\n",
    "# default number of fragments\n",
    "upper_thr_fragments=None\n",
    "lower_thr_fragments=None\n",
    "\n",
    "# default number of fragments in chrM\n",
    "upper_thr_chrM_fragments=1000\n",
    "lower_thr_chrM_fragments=0\n",
    "\n",
    "# default number of uniquely mapped fragments\n",
    "upper_thr_um=20000\n",
    "lower_thr_um=0\n",
    "\n"
   ]
  },
  {
   "cell_type": "markdown",
   "id": "731616b9",
   "metadata": {},
   "source": [
    "## Sum up settings"
   ]
  },
  {
   "cell_type": "code",
   "execution_count": 3,
   "id": "af4a23ed",
   "metadata": {},
   "outputs": [],
   "source": [
    "manual_thresholds = {}\n",
    "if n_features_filter:\n",
    "    manual_thresholds['n_features_by_counts'] = {'min' : min_features, 'max' : max_features}\n",
    "\n",
    "if mean_insertsize_filter:\n",
    "    manual_thresholds['mean_insertsize'] = {'min' : lower_threshold_mis, 'max' : upper_threshold_mis}\n",
    "\n",
    "if filter_pct_fp:\n",
    "    manual_thresholds['pct_fragments_in_promoters'] = {'min' : lower_threshold_pct_fp, 'max' : upper_threshold_pct_fp}\n",
    "\n",
    "if filter_n_fragments:\n",
    "    manual_thresholds['TN'] = {'min' : lower_thr_fragments, 'max' : upper_thr_fragments}\n",
    "\n",
    "if filter_chrM_fragments:\n",
    "    manual_thresholds['CM'] = {'min' : lower_thr_chrM_fragments, 'max' : upper_thr_chrM_fragments}\n",
    "\n",
    "if filter_uniquely_mapped_fragments:\n",
    "    manual_thresholds['UM'] = {'min' : lower_thr_um, 'max' : upper_thr_um}\n",
    "\n",
    "obs_columns = list(manual_thresholds.keys())"
   ]
  },
  {
   "cell_type": "markdown",
   "id": "9bfd0589",
   "metadata": {
    "pycharm": {
     "name": "#%% md\n"
    }
   },
   "source": [
    "## Loading packages and setup"
   ]
  },
  {
   "cell_type": "code",
   "execution_count": 4,
   "id": "a5e585b0",
   "metadata": {
    "pycharm": {
     "name": "#%%\n"
    }
   },
   "outputs": [],
   "source": [
    "# sctoolbox modules\n",
    "import sctoolbox.atac_tree as sub_tree\n",
    "import sctoolbox.creators as cr\n",
    "import sctoolbox.annotation as an\n",
    "from sctoolbox.qc_filter import *\n",
    "from sctoolbox.plotting import *\n",
    "from sctoolbox.atac_utils import *\n",
    "import sctoolbox.atac as atac\n",
    "# import episcanpy\n",
    "import scanpy as sc\n",
    "import episcanpy as epi\n",
    "import numpy as np"
   ]
  },
  {
   "cell_type": "markdown",
   "id": "a3984998",
   "metadata": {
    "pycharm": {
     "name": "#%% md\n"
    }
   },
   "source": [
    "## Setup path handling object "
   ]
  },
  {
   "cell_type": "code",
   "execution_count": 5,
   "id": "7c230208",
   "metadata": {
    "pycharm": {
     "name": "#%%\n"
    }
   },
   "outputs": [
    {
     "name": "stdout",
     "output_type": "stream",
     "text": [
      "Warning: run is None\n",
      "all directories existing\n",
      "all directories existing\n"
     ]
    }
   ],
   "source": [
    "# make an instance of the class\n",
    "tree = sub_tree.ATAC_tree()\n",
    "# set processing/output directory\n",
    "tree.processing_dir = output_dir\n",
    "# set sample/experiment.. \n",
    "tree.run = test"
   ]
  },
  {
   "cell_type": "markdown",
   "id": "3d8408ce",
   "metadata": {
    "pycharm": {
     "name": "#%% md\n"
    }
   },
   "source": [
    "## Load anndata "
   ]
  },
  {
   "cell_type": "code",
   "execution_count": 6,
   "id": "5e989d23",
   "metadata": {
    "pycharm": {
     "name": "#%%\n"
    }
   },
   "outputs": [
    {
     "data": {
      "text/plain": [
       "AnnData object with n_obs × n_vars = 80317 × 148517\n",
       "    obs: 'chr1_reads', 'chr10_reads', 'chr11_reads', 'chr12_reads', 'chr13_reads', 'chr14_reads', 'chr15_reads', 'chr16_reads', 'chr17_reads', 'chr18_reads', 'chr19_reads', 'chr2_reads', 'chr3_reads', 'chr4_reads', 'chr5_reads', 'chr6_reads', 'chr7_reads', 'chr8_reads', 'chr9_reads', 'chrM_reads', 'chrX_reads', 'chrY_reads', 'total_genome_reads', 'insertsize_mean', 'Sample', 'id', 'condition', 'date', 'file', 'sample', 'n_features_by_counts', 'log1p_n_features_by_counts', 'total_counts', 'log1p_total_counts', 'insertsize_count', 'mean_insertsize'\n",
       "    var: 'peak_chr', 'peak_start', 'peak_end', 'peak_id', 'peak_score', 'peak_strand', 'feature', 'gene_start', 'gene_end', 'gene_strand', 'gene_anchor', 'distance_to_gene', 'relative_location_to_gene', 'gene_ovl_peak', 'peak_ovl_gene', 'gene_biotype', 'gene_id', 'gene_name', 'annotation_query', 'region_length', 'n_cells_by_counts', 'mean_counts', 'log1p_mean_counts', 'pct_dropout_by_counts', 'total_counts', 'log1p_total_counts'\n",
       "    uns: 'color_set', 'infoprocess', 'insertsize_distribution', 'legend', 'sample1', 'sample2', 'sample3', 'sample4', 'sample5', 'sample6', 'sample7', 'sample8'\n",
       "    layers: 'binarized'"
      ]
     },
     "execution_count": 6,
     "metadata": {},
     "output_type": "execute_result"
    }
   ],
   "source": [
    "# probably updated in future\n",
    "assembling_output = tree.assembled_anndata\n",
    "adata = epi.read_h5ad(assembling_output)\n",
    "adata"
   ]
  },
  {
   "cell_type": "code",
   "execution_count": 7,
   "id": "0e1adb38",
   "metadata": {},
   "outputs": [
    {
     "data": {
      "text/html": [
       "<div>\n",
       "<style scoped>\n",
       "    .dataframe tbody tr th:only-of-type {\n",
       "        vertical-align: middle;\n",
       "    }\n",
       "\n",
       "    .dataframe tbody tr th {\n",
       "        vertical-align: top;\n",
       "    }\n",
       "\n",
       "    .dataframe thead th {\n",
       "        text-align: right;\n",
       "    }\n",
       "</style>\n",
       "<table border=\"1\" class=\"dataframe\">\n",
       "  <thead>\n",
       "    <tr style=\"text-align: right;\">\n",
       "      <th></th>\n",
       "      <th>peak_chr</th>\n",
       "      <th>peak_start</th>\n",
       "      <th>peak_end</th>\n",
       "      <th>peak_id</th>\n",
       "      <th>peak_score</th>\n",
       "      <th>peak_strand</th>\n",
       "      <th>feature</th>\n",
       "      <th>gene_start</th>\n",
       "      <th>gene_end</th>\n",
       "      <th>gene_strand</th>\n",
       "      <th>...</th>\n",
       "      <th>gene_id</th>\n",
       "      <th>gene_name</th>\n",
       "      <th>annotation_query</th>\n",
       "      <th>region_length</th>\n",
       "      <th>n_cells_by_counts</th>\n",
       "      <th>mean_counts</th>\n",
       "      <th>log1p_mean_counts</th>\n",
       "      <th>pct_dropout_by_counts</th>\n",
       "      <th>total_counts</th>\n",
       "      <th>log1p_total_counts</th>\n",
       "    </tr>\n",
       "  </thead>\n",
       "  <tbody>\n",
       "    <tr>\n",
       "      <th>annotated_peaks_0_chr1:3050427-3050801</th>\n",
       "      <td>chr1</td>\n",
       "      <td>3050427</td>\n",
       "      <td>3050801</td>\n",
       "      <td>peak_1</td>\n",
       "      <td>.</td>\n",
       "      <td>.</td>\n",
       "      <td>NaN</td>\n",
       "      <td>NaN</td>\n",
       "      <td>NaN</td>\n",
       "      <td>NaN</td>\n",
       "      <td>...</td>\n",
       "      <td>NaN</td>\n",
       "      <td>NaN</td>\n",
       "      <td>NaN</td>\n",
       "      <td>374</td>\n",
       "      <td>274</td>\n",
       "      <td>0.006437</td>\n",
       "      <td>0.006416</td>\n",
       "      <td>99.658852</td>\n",
       "      <td>517.0</td>\n",
       "      <td>6.249975</td>\n",
       "    </tr>\n",
       "    <tr>\n",
       "      <th>annotated_peaks_100000_chr4:129518038-129518515</th>\n",
       "      <td>chr4</td>\n",
       "      <td>129518038</td>\n",
       "      <td>129518515</td>\n",
       "      <td>peak_100001</td>\n",
       "      <td>.</td>\n",
       "      <td>.</td>\n",
       "      <td>gene</td>\n",
       "      <td>129513066.0</td>\n",
       "      <td>129517740.0</td>\n",
       "      <td>-</td>\n",
       "      <td>...</td>\n",
       "      <td>ENSMUSG00000028795</td>\n",
       "      <td>Ccdc28b</td>\n",
       "      <td>protein_coding_promoter</td>\n",
       "      <td>477</td>\n",
       "      <td>7932</td>\n",
       "      <td>0.226976</td>\n",
       "      <td>0.204552</td>\n",
       "      <td>90.124133</td>\n",
       "      <td>18230.0</td>\n",
       "      <td>9.810879</td>\n",
       "    </tr>\n",
       "    <tr>\n",
       "      <th>annotated_peaks_100001_chr4:129518849-129519134</th>\n",
       "      <td>chr4</td>\n",
       "      <td>129518849</td>\n",
       "      <td>129519134</td>\n",
       "      <td>peak_100002</td>\n",
       "      <td>.</td>\n",
       "      <td>.</td>\n",
       "      <td>gene</td>\n",
       "      <td>129513066.0</td>\n",
       "      <td>129517740.0</td>\n",
       "      <td>-</td>\n",
       "      <td>...</td>\n",
       "      <td>ENSMUSG00000028795</td>\n",
       "      <td>Ccdc28b</td>\n",
       "      <td>protein_coding_promoter</td>\n",
       "      <td>285</td>\n",
       "      <td>1788</td>\n",
       "      <td>0.045221</td>\n",
       "      <td>0.044228</td>\n",
       "      <td>97.773821</td>\n",
       "      <td>3632.0</td>\n",
       "      <td>8.197814</td>\n",
       "    </tr>\n",
       "    <tr>\n",
       "      <th>annotated_peaks_100002_chr4:129527627-129527883</th>\n",
       "      <td>chr4</td>\n",
       "      <td>129527627</td>\n",
       "      <td>129527883</td>\n",
       "      <td>peak_100003</td>\n",
       "      <td>.</td>\n",
       "      <td>.</td>\n",
       "      <td>gene</td>\n",
       "      <td>129519870.0</td>\n",
       "      <td>129534858.0</td>\n",
       "      <td>-</td>\n",
       "      <td>...</td>\n",
       "      <td>ENSMUSG00000053841</td>\n",
       "      <td>Txlna</td>\n",
       "      <td>protein_coding_internal</td>\n",
       "      <td>256</td>\n",
       "      <td>289</td>\n",
       "      <td>0.006898</td>\n",
       "      <td>0.006874</td>\n",
       "      <td>99.640176</td>\n",
       "      <td>554.0</td>\n",
       "      <td>6.318968</td>\n",
       "    </tr>\n",
       "    <tr>\n",
       "      <th>annotated_peaks_100003_chr4:129533947-129534180</th>\n",
       "      <td>chr4</td>\n",
       "      <td>129533947</td>\n",
       "      <td>129534180</td>\n",
       "      <td>peak_100004</td>\n",
       "      <td>.</td>\n",
       "      <td>.</td>\n",
       "      <td>gene</td>\n",
       "      <td>129519870.0</td>\n",
       "      <td>129534858.0</td>\n",
       "      <td>-</td>\n",
       "      <td>...</td>\n",
       "      <td>ENSMUSG00000053841</td>\n",
       "      <td>Txlna</td>\n",
       "      <td>protein_coding_promoter</td>\n",
       "      <td>233</td>\n",
       "      <td>1040</td>\n",
       "      <td>0.024017</td>\n",
       "      <td>0.023733</td>\n",
       "      <td>98.705131</td>\n",
       "      <td>1929.0</td>\n",
       "      <td>7.565275</td>\n",
       "    </tr>\n",
       "    <tr>\n",
       "      <th>...</th>\n",
       "      <td>...</td>\n",
       "      <td>...</td>\n",
       "      <td>...</td>\n",
       "      <td>...</td>\n",
       "      <td>...</td>\n",
       "      <td>...</td>\n",
       "      <td>...</td>\n",
       "      <td>...</td>\n",
       "      <td>...</td>\n",
       "      <td>...</td>\n",
       "      <td>...</td>\n",
       "      <td>...</td>\n",
       "      <td>...</td>\n",
       "      <td>...</td>\n",
       "      <td>...</td>\n",
       "      <td>...</td>\n",
       "      <td>...</td>\n",
       "      <td>...</td>\n",
       "      <td>...</td>\n",
       "      <td>...</td>\n",
       "      <td>...</td>\n",
       "    </tr>\n",
       "    <tr>\n",
       "      <th>annotated_peaks_99999_chr4:129517580-129517846</th>\n",
       "      <td>chr4</td>\n",
       "      <td>129517580</td>\n",
       "      <td>129517846</td>\n",
       "      <td>peak_100000</td>\n",
       "      <td>.</td>\n",
       "      <td>.</td>\n",
       "      <td>gene</td>\n",
       "      <td>129513066.0</td>\n",
       "      <td>129517740.0</td>\n",
       "      <td>-</td>\n",
       "      <td>...</td>\n",
       "      <td>ENSMUSG00000028795</td>\n",
       "      <td>Ccdc28b</td>\n",
       "      <td>protein_coding_promoter</td>\n",
       "      <td>266</td>\n",
       "      <td>2128</td>\n",
       "      <td>0.049890</td>\n",
       "      <td>0.048685</td>\n",
       "      <td>97.350499</td>\n",
       "      <td>4007.0</td>\n",
       "      <td>8.296047</td>\n",
       "    </tr>\n",
       "    <tr>\n",
       "      <th>annotated_peaks_9999_chr1:192477325-192477572</th>\n",
       "      <td>chr1</td>\n",
       "      <td>192477325</td>\n",
       "      <td>192477572</td>\n",
       "      <td>peak_10000</td>\n",
       "      <td>.</td>\n",
       "      <td>.</td>\n",
       "      <td>gene</td>\n",
       "      <td>192179018.0</td>\n",
       "      <td>192453531.0</td>\n",
       "      <td>-</td>\n",
       "      <td>...</td>\n",
       "      <td>ENSMUSG00000037375</td>\n",
       "      <td>Hhat</td>\n",
       "      <td>protein_coding_distal</td>\n",
       "      <td>247</td>\n",
       "      <td>521</td>\n",
       "      <td>0.012849</td>\n",
       "      <td>0.012767</td>\n",
       "      <td>99.351320</td>\n",
       "      <td>1032.0</td>\n",
       "      <td>6.940222</td>\n",
       "    </tr>\n",
       "    <tr>\n",
       "      <th>annotated_peaks_999_chr1:37026210-37026612</th>\n",
       "      <td>chr1</td>\n",
       "      <td>37026210</td>\n",
       "      <td>37026612</td>\n",
       "      <td>peak_1000</td>\n",
       "      <td>.</td>\n",
       "      <td>.</td>\n",
       "      <td>gene</td>\n",
       "      <td>37065676.0</td>\n",
       "      <td>37226694.0</td>\n",
       "      <td>+</td>\n",
       "      <td>...</td>\n",
       "      <td>ENSMUSG00000050122</td>\n",
       "      <td>Vwa3b</td>\n",
       "      <td>protein_coding_distal</td>\n",
       "      <td>402</td>\n",
       "      <td>507</td>\n",
       "      <td>0.012538</td>\n",
       "      <td>0.012460</td>\n",
       "      <td>99.368751</td>\n",
       "      <td>1007.0</td>\n",
       "      <td>6.915723</td>\n",
       "    </tr>\n",
       "    <tr>\n",
       "      <th>annotated_peaks_99_chr1:7849890-7850111</th>\n",
       "      <td>chr1</td>\n",
       "      <td>7849890</td>\n",
       "      <td>7850111</td>\n",
       "      <td>peak_100</td>\n",
       "      <td>.</td>\n",
       "      <td>.</td>\n",
       "      <td>gene</td>\n",
       "      <td>7799084.0</td>\n",
       "      <td>7800789.0</td>\n",
       "      <td>-</td>\n",
       "      <td>...</td>\n",
       "      <td>ENSMUSG00000103557</td>\n",
       "      <td>Gm38216</td>\n",
       "      <td>any_gene_distal</td>\n",
       "      <td>221</td>\n",
       "      <td>229</td>\n",
       "      <td>0.005416</td>\n",
       "      <td>0.005401</td>\n",
       "      <td>99.714880</td>\n",
       "      <td>435.0</td>\n",
       "      <td>6.077642</td>\n",
       "    </tr>\n",
       "    <tr>\n",
       "      <th>annotated_peaks_9_chr1:3191548-3191937</th>\n",
       "      <td>chr1</td>\n",
       "      <td>3191548</td>\n",
       "      <td>3191937</td>\n",
       "      <td>peak_10</td>\n",
       "      <td>.</td>\n",
       "      <td>.</td>\n",
       "      <td>gene</td>\n",
       "      <td>3172238.0</td>\n",
       "      <td>3172348.0</td>\n",
       "      <td>+</td>\n",
       "      <td>...</td>\n",
       "      <td>ENSMUSG00000064842</td>\n",
       "      <td>Gm26206</td>\n",
       "      <td>any_gene_distal</td>\n",
       "      <td>389</td>\n",
       "      <td>727</td>\n",
       "      <td>0.018153</td>\n",
       "      <td>0.017990</td>\n",
       "      <td>99.094837</td>\n",
       "      <td>1458.0</td>\n",
       "      <td>7.285507</td>\n",
       "    </tr>\n",
       "  </tbody>\n",
       "</table>\n",
       "<p>148517 rows × 26 columns</p>\n",
       "</div>"
      ],
      "text/plain": [
       "                                                peak_chr peak_start  \\\n",
       "annotated_peaks_0_chr1:3050427-3050801              chr1    3050427   \n",
       "annotated_peaks_100000_chr4:129518038-129518515     chr4  129518038   \n",
       "annotated_peaks_100001_chr4:129518849-129519134     chr4  129518849   \n",
       "annotated_peaks_100002_chr4:129527627-129527883     chr4  129527627   \n",
       "annotated_peaks_100003_chr4:129533947-129534180     chr4  129533947   \n",
       "...                                                  ...        ...   \n",
       "annotated_peaks_99999_chr4:129517580-129517846      chr4  129517580   \n",
       "annotated_peaks_9999_chr1:192477325-192477572       chr1  192477325   \n",
       "annotated_peaks_999_chr1:37026210-37026612          chr1   37026210   \n",
       "annotated_peaks_99_chr1:7849890-7850111             chr1    7849890   \n",
       "annotated_peaks_9_chr1:3191548-3191937              chr1    3191548   \n",
       "\n",
       "                                                  peak_end      peak_id  \\\n",
       "annotated_peaks_0_chr1:3050427-3050801             3050801       peak_1   \n",
       "annotated_peaks_100000_chr4:129518038-129518515  129518515  peak_100001   \n",
       "annotated_peaks_100001_chr4:129518849-129519134  129519134  peak_100002   \n",
       "annotated_peaks_100002_chr4:129527627-129527883  129527883  peak_100003   \n",
       "annotated_peaks_100003_chr4:129533947-129534180  129534180  peak_100004   \n",
       "...                                                    ...          ...   \n",
       "annotated_peaks_99999_chr4:129517580-129517846   129517846  peak_100000   \n",
       "annotated_peaks_9999_chr1:192477325-192477572    192477572   peak_10000   \n",
       "annotated_peaks_999_chr1:37026210-37026612        37026612    peak_1000   \n",
       "annotated_peaks_99_chr1:7849890-7850111            7850111     peak_100   \n",
       "annotated_peaks_9_chr1:3191548-3191937             3191937      peak_10   \n",
       "\n",
       "                                                peak_score peak_strand  \\\n",
       "annotated_peaks_0_chr1:3050427-3050801                   .           .   \n",
       "annotated_peaks_100000_chr4:129518038-129518515          .           .   \n",
       "annotated_peaks_100001_chr4:129518849-129519134          .           .   \n",
       "annotated_peaks_100002_chr4:129527627-129527883          .           .   \n",
       "annotated_peaks_100003_chr4:129533947-129534180          .           .   \n",
       "...                                                    ...         ...   \n",
       "annotated_peaks_99999_chr4:129517580-129517846           .           .   \n",
       "annotated_peaks_9999_chr1:192477325-192477572            .           .   \n",
       "annotated_peaks_999_chr1:37026210-37026612               .           .   \n",
       "annotated_peaks_99_chr1:7849890-7850111                  .           .   \n",
       "annotated_peaks_9_chr1:3191548-3191937                   .           .   \n",
       "\n",
       "                                                feature   gene_start  \\\n",
       "annotated_peaks_0_chr1:3050427-3050801              NaN          NaN   \n",
       "annotated_peaks_100000_chr4:129518038-129518515    gene  129513066.0   \n",
       "annotated_peaks_100001_chr4:129518849-129519134    gene  129513066.0   \n",
       "annotated_peaks_100002_chr4:129527627-129527883    gene  129519870.0   \n",
       "annotated_peaks_100003_chr4:129533947-129534180    gene  129519870.0   \n",
       "...                                                 ...          ...   \n",
       "annotated_peaks_99999_chr4:129517580-129517846     gene  129513066.0   \n",
       "annotated_peaks_9999_chr1:192477325-192477572      gene  192179018.0   \n",
       "annotated_peaks_999_chr1:37026210-37026612         gene   37065676.0   \n",
       "annotated_peaks_99_chr1:7849890-7850111            gene    7799084.0   \n",
       "annotated_peaks_9_chr1:3191548-3191937             gene    3172238.0   \n",
       "\n",
       "                                                    gene_end gene_strand  ...  \\\n",
       "annotated_peaks_0_chr1:3050427-3050801                   NaN         NaN  ...   \n",
       "annotated_peaks_100000_chr4:129518038-129518515  129517740.0           -  ...   \n",
       "annotated_peaks_100001_chr4:129518849-129519134  129517740.0           -  ...   \n",
       "annotated_peaks_100002_chr4:129527627-129527883  129534858.0           -  ...   \n",
       "annotated_peaks_100003_chr4:129533947-129534180  129534858.0           -  ...   \n",
       "...                                                      ...         ...  ...   \n",
       "annotated_peaks_99999_chr4:129517580-129517846   129517740.0           -  ...   \n",
       "annotated_peaks_9999_chr1:192477325-192477572    192453531.0           -  ...   \n",
       "annotated_peaks_999_chr1:37026210-37026612        37226694.0           +  ...   \n",
       "annotated_peaks_99_chr1:7849890-7850111            7800789.0           -  ...   \n",
       "annotated_peaks_9_chr1:3191548-3191937             3172348.0           +  ...   \n",
       "\n",
       "                                                            gene_id gene_name  \\\n",
       "annotated_peaks_0_chr1:3050427-3050801                          NaN       NaN   \n",
       "annotated_peaks_100000_chr4:129518038-129518515  ENSMUSG00000028795   Ccdc28b   \n",
       "annotated_peaks_100001_chr4:129518849-129519134  ENSMUSG00000028795   Ccdc28b   \n",
       "annotated_peaks_100002_chr4:129527627-129527883  ENSMUSG00000053841     Txlna   \n",
       "annotated_peaks_100003_chr4:129533947-129534180  ENSMUSG00000053841     Txlna   \n",
       "...                                                             ...       ...   \n",
       "annotated_peaks_99999_chr4:129517580-129517846   ENSMUSG00000028795   Ccdc28b   \n",
       "annotated_peaks_9999_chr1:192477325-192477572    ENSMUSG00000037375      Hhat   \n",
       "annotated_peaks_999_chr1:37026210-37026612       ENSMUSG00000050122     Vwa3b   \n",
       "annotated_peaks_99_chr1:7849890-7850111          ENSMUSG00000103557   Gm38216   \n",
       "annotated_peaks_9_chr1:3191548-3191937           ENSMUSG00000064842   Gm26206   \n",
       "\n",
       "                                                        annotation_query  \\\n",
       "annotated_peaks_0_chr1:3050427-3050801                               NaN   \n",
       "annotated_peaks_100000_chr4:129518038-129518515  protein_coding_promoter   \n",
       "annotated_peaks_100001_chr4:129518849-129519134  protein_coding_promoter   \n",
       "annotated_peaks_100002_chr4:129527627-129527883  protein_coding_internal   \n",
       "annotated_peaks_100003_chr4:129533947-129534180  protein_coding_promoter   \n",
       "...                                                                  ...   \n",
       "annotated_peaks_99999_chr4:129517580-129517846   protein_coding_promoter   \n",
       "annotated_peaks_9999_chr1:192477325-192477572      protein_coding_distal   \n",
       "annotated_peaks_999_chr1:37026210-37026612         protein_coding_distal   \n",
       "annotated_peaks_99_chr1:7849890-7850111                  any_gene_distal   \n",
       "annotated_peaks_9_chr1:3191548-3191937                   any_gene_distal   \n",
       "\n",
       "                                                region_length  \\\n",
       "annotated_peaks_0_chr1:3050427-3050801                    374   \n",
       "annotated_peaks_100000_chr4:129518038-129518515           477   \n",
       "annotated_peaks_100001_chr4:129518849-129519134           285   \n",
       "annotated_peaks_100002_chr4:129527627-129527883           256   \n",
       "annotated_peaks_100003_chr4:129533947-129534180           233   \n",
       "...                                                       ...   \n",
       "annotated_peaks_99999_chr4:129517580-129517846            266   \n",
       "annotated_peaks_9999_chr1:192477325-192477572             247   \n",
       "annotated_peaks_999_chr1:37026210-37026612                402   \n",
       "annotated_peaks_99_chr1:7849890-7850111                   221   \n",
       "annotated_peaks_9_chr1:3191548-3191937                    389   \n",
       "\n",
       "                                                n_cells_by_counts mean_counts  \\\n",
       "annotated_peaks_0_chr1:3050427-3050801                        274    0.006437   \n",
       "annotated_peaks_100000_chr4:129518038-129518515              7932    0.226976   \n",
       "annotated_peaks_100001_chr4:129518849-129519134              1788    0.045221   \n",
       "annotated_peaks_100002_chr4:129527627-129527883               289    0.006898   \n",
       "annotated_peaks_100003_chr4:129533947-129534180              1040    0.024017   \n",
       "...                                                           ...         ...   \n",
       "annotated_peaks_99999_chr4:129517580-129517846               2128    0.049890   \n",
       "annotated_peaks_9999_chr1:192477325-192477572                 521    0.012849   \n",
       "annotated_peaks_999_chr1:37026210-37026612                    507    0.012538   \n",
       "annotated_peaks_99_chr1:7849890-7850111                       229    0.005416   \n",
       "annotated_peaks_9_chr1:3191548-3191937                        727    0.018153   \n",
       "\n",
       "                                                log1p_mean_counts  \\\n",
       "annotated_peaks_0_chr1:3050427-3050801                   0.006416   \n",
       "annotated_peaks_100000_chr4:129518038-129518515          0.204552   \n",
       "annotated_peaks_100001_chr4:129518849-129519134          0.044228   \n",
       "annotated_peaks_100002_chr4:129527627-129527883          0.006874   \n",
       "annotated_peaks_100003_chr4:129533947-129534180          0.023733   \n",
       "...                                                           ...   \n",
       "annotated_peaks_99999_chr4:129517580-129517846           0.048685   \n",
       "annotated_peaks_9999_chr1:192477325-192477572            0.012767   \n",
       "annotated_peaks_999_chr1:37026210-37026612               0.012460   \n",
       "annotated_peaks_99_chr1:7849890-7850111                  0.005401   \n",
       "annotated_peaks_9_chr1:3191548-3191937                   0.017990   \n",
       "\n",
       "                                                pct_dropout_by_counts  \\\n",
       "annotated_peaks_0_chr1:3050427-3050801                      99.658852   \n",
       "annotated_peaks_100000_chr4:129518038-129518515             90.124133   \n",
       "annotated_peaks_100001_chr4:129518849-129519134             97.773821   \n",
       "annotated_peaks_100002_chr4:129527627-129527883             99.640176   \n",
       "annotated_peaks_100003_chr4:129533947-129534180             98.705131   \n",
       "...                                                               ...   \n",
       "annotated_peaks_99999_chr4:129517580-129517846              97.350499   \n",
       "annotated_peaks_9999_chr1:192477325-192477572               99.351320   \n",
       "annotated_peaks_999_chr1:37026210-37026612                  99.368751   \n",
       "annotated_peaks_99_chr1:7849890-7850111                     99.714880   \n",
       "annotated_peaks_9_chr1:3191548-3191937                      99.094837   \n",
       "\n",
       "                                                total_counts  \\\n",
       "annotated_peaks_0_chr1:3050427-3050801                 517.0   \n",
       "annotated_peaks_100000_chr4:129518038-129518515      18230.0   \n",
       "annotated_peaks_100001_chr4:129518849-129519134       3632.0   \n",
       "annotated_peaks_100002_chr4:129527627-129527883        554.0   \n",
       "annotated_peaks_100003_chr4:129533947-129534180       1929.0   \n",
       "...                                                      ...   \n",
       "annotated_peaks_99999_chr4:129517580-129517846        4007.0   \n",
       "annotated_peaks_9999_chr1:192477325-192477572         1032.0   \n",
       "annotated_peaks_999_chr1:37026210-37026612            1007.0   \n",
       "annotated_peaks_99_chr1:7849890-7850111                435.0   \n",
       "annotated_peaks_9_chr1:3191548-3191937                1458.0   \n",
       "\n",
       "                                                 log1p_total_counts  \n",
       "annotated_peaks_0_chr1:3050427-3050801                     6.249975  \n",
       "annotated_peaks_100000_chr4:129518038-129518515            9.810879  \n",
       "annotated_peaks_100001_chr4:129518849-129519134            8.197814  \n",
       "annotated_peaks_100002_chr4:129527627-129527883            6.318968  \n",
       "annotated_peaks_100003_chr4:129533947-129534180            7.565275  \n",
       "...                                                             ...  \n",
       "annotated_peaks_99999_chr4:129517580-129517846             8.296047  \n",
       "annotated_peaks_9999_chr1:192477325-192477572              6.940222  \n",
       "annotated_peaks_999_chr1:37026210-37026612                 6.915723  \n",
       "annotated_peaks_99_chr1:7849890-7850111                    6.077642  \n",
       "annotated_peaks_9_chr1:3191548-3191937                     7.285507  \n",
       "\n",
       "[148517 rows x 26 columns]"
      ]
     },
     "execution_count": 7,
     "metadata": {},
     "output_type": "execute_result"
    }
   ],
   "source": [
    "adata.var"
   ]
  },
  {
   "cell_type": "code",
   "execution_count": 8,
   "id": "291df6a5",
   "metadata": {},
   "outputs": [
    {
     "data": {
      "image/png": "[encoded data removed]",
      "text/plain": [
       "<Figure size 432x288 with 1 Axes>"
      ]
     },
     "metadata": {
      "needs_background": "light"
     },
     "output_type": "display_data"
    }
   ],
   "source": [
    "if plot_insertsize_dist:\n",
    "    atac.plot_insertsize(adata)"
   ]
  },
  {
   "cell_type": "markdown",
   "id": "db60f5ba",
   "metadata": {
    "pycharm": {
     "name": "#%% md\n"
    }
   },
   "source": [
    "# QC"
   ]
  },
  {
   "cell_type": "markdown",
   "id": "8bb2c8b4",
   "metadata": {
    "pycharm": {
     "name": "#%% md\n"
    }
   },
   "source": [
    "## 1. filtering out chrX, chrY and chrM"
   ]
  },
  {
   "cell_type": "code",
   "execution_count": 9,
   "id": "385bd38f",
   "metadata": {
    "pycharm": {
     "name": "#%%\n"
    }
   },
   "outputs": [],
   "source": [
    "non_m = [name for name in adata.var_names if not name.startswith('chrM')]  # remove chrM\n",
    "adata = adata[:, non_m]"
   ]
  },
  {
   "cell_type": "code",
   "execution_count": 10,
   "id": "1e221a49",
   "metadata": {
    "pycharm": {
     "name": "#%%\n"
    }
   },
   "outputs": [],
   "source": [
    "if filter_xy:\n",
    "    non_xy = [name for name in adata.var_names if not name.startswith('chrY') | name.startswith('chrX')]\n",
    "    adata = adata[:, non_xy]"
   ]
  },
  {
   "cell_type": "code",
   "execution_count": 11,
   "id": "dc05d7b8",
   "metadata": {
    "pycharm": {
     "name": "#%%\n"
    }
   },
   "outputs": [
    {
     "data": {
      "text/plain": [
       "View of AnnData object with n_obs × n_vars = 80317 × 148517\n",
       "    obs: 'chr1_reads', 'chr10_reads', 'chr11_reads', 'chr12_reads', 'chr13_reads', 'chr14_reads', 'chr15_reads', 'chr16_reads', 'chr17_reads', 'chr18_reads', 'chr19_reads', 'chr2_reads', 'chr3_reads', 'chr4_reads', 'chr5_reads', 'chr6_reads', 'chr7_reads', 'chr8_reads', 'chr9_reads', 'chrM_reads', 'chrX_reads', 'chrY_reads', 'total_genome_reads', 'insertsize_mean', 'Sample', 'id', 'condition', 'date', 'file', 'sample', 'n_features_by_counts', 'log1p_n_features_by_counts', 'total_counts', 'log1p_total_counts', 'insertsize_count', 'mean_insertsize'\n",
       "    var: 'peak_chr', 'peak_start', 'peak_end', 'peak_id', 'peak_score', 'peak_strand', 'feature', 'gene_start', 'gene_end', 'gene_strand', 'gene_anchor', 'distance_to_gene', 'relative_location_to_gene', 'gene_ovl_peak', 'peak_ovl_gene', 'gene_biotype', 'gene_id', 'gene_name', 'annotation_query', 'region_length', 'n_cells_by_counts', 'mean_counts', 'log1p_mean_counts', 'pct_dropout_by_counts', 'total_counts', 'log1p_total_counts'\n",
       "    uns: 'color_set', 'infoprocess', 'insertsize_distribution', 'legend', 'sample1', 'sample2', 'sample3', 'sample4', 'sample5', 'sample6', 'sample7', 'sample8'\n",
       "    layers: 'binarized'"
      ]
     },
     "metadata": {},
     "output_type": "display_data"
    }
   ],
   "source": [
    "display(adata)"
   ]
  },
  {
   "cell_type": "markdown",
   "id": "2f801142",
   "metadata": {
    "pycharm": {
     "name": "#%% md\n"
    }
   },
   "source": [
    "## 2. removing empty cells"
   ]
  },
  {
   "cell_type": "code",
   "execution_count": 12,
   "id": "1bfb0aa0",
   "metadata": {
    "pycharm": {
     "name": "#%%\n"
    }
   },
   "outputs": [
    {
     "name": "stderr",
     "output_type": "stream",
     "text": [
      " ImplicitModificationWarning:/home/jdetlef/.conda/envs/atac-base/lib/python3.7/site-packages/scanpy/preprocessing/_simple.py:140: Trying to modify attribute `.obs` of view, initializing view as actual.\n"
     ]
    },
    {
     "data": {
      "text/plain": [
       "AnnData object with n_obs × n_vars = 80317 × 148517\n",
       "    obs: 'chr1_reads', 'chr10_reads', 'chr11_reads', 'chr12_reads', 'chr13_reads', 'chr14_reads', 'chr15_reads', 'chr16_reads', 'chr17_reads', 'chr18_reads', 'chr19_reads', 'chr2_reads', 'chr3_reads', 'chr4_reads', 'chr5_reads', 'chr6_reads', 'chr7_reads', 'chr8_reads', 'chr9_reads', 'chrM_reads', 'chrX_reads', 'chrY_reads', 'total_genome_reads', 'insertsize_mean', 'Sample', 'id', 'condition', 'date', 'file', 'sample', 'n_features_by_counts', 'log1p_n_features_by_counts', 'total_counts', 'log1p_total_counts', 'insertsize_count', 'mean_insertsize', 'nb_features', 'log_nb_features'\n",
       "    var: 'peak_chr', 'peak_start', 'peak_end', 'peak_id', 'peak_score', 'peak_strand', 'feature', 'gene_start', 'gene_end', 'gene_strand', 'gene_anchor', 'distance_to_gene', 'relative_location_to_gene', 'gene_ovl_peak', 'peak_ovl_gene', 'gene_biotype', 'gene_id', 'gene_name', 'annotation_query', 'region_length', 'n_cells_by_counts', 'mean_counts', 'log1p_mean_counts', 'pct_dropout_by_counts', 'total_counts', 'log1p_total_counts', 'n_cells'\n",
       "    uns: 'color_set', 'infoprocess', 'insertsize_distribution', 'legend', 'sample1', 'sample2', 'sample3', 'sample4', 'sample5', 'sample6', 'sample7', 'sample8'\n",
       "    layers: 'binarized'"
      ]
     },
     "metadata": {},
     "output_type": "display_data"
    }
   ],
   "source": [
    "epi.pp.filter_cells(adata, min_features=1)\n",
    "epi.pp.filter_features(adata, min_cells=1)\n",
    "# log-convert number of features\n",
    "adata.obs['log_nb_features'] = [np.log10(x) for x in adata.obs['nb_features']]\n",
    "display(adata)"
   ]
  },
  {
   "cell_type": "markdown",
   "id": "7f9c9318",
   "metadata": {
    "pycharm": {
     "name": "#%% md\n"
    }
   },
   "source": [
    "## 3. binarize"
   ]
  },
  {
   "cell_type": "code",
   "execution_count": 13,
   "id": "1cc85ce4",
   "metadata": {
    "pycharm": {
     "name": "#%%\n"
    }
   },
   "outputs": [],
   "source": [
    "adata.raw = adata\n",
    "if binarize_mtx:\n",
    "    epi.pp.binarize(adata)\n",
    "    adata.layers['binary'] = adata.X.copy()"
   ]
  },
  {
   "cell_type": "markdown",
   "id": "ef346453",
   "metadata": {
    "pycharm": {
     "name": "#%%\n"
    }
   },
   "source": [
    "## 5. visualize adata"
   ]
  },
  {
   "cell_type": "code",
   "execution_count": 14,
   "id": "feba121e",
   "metadata": {},
   "outputs": [
    {
     "data": {
      "text/html": [
       "<div>\n",
       "<style scoped>\n",
       "    .dataframe tbody tr th:only-of-type {\n",
       "        vertical-align: middle;\n",
       "    }\n",
       "\n",
       "    .dataframe tbody tr th {\n",
       "        vertical-align: top;\n",
       "    }\n",
       "\n",
       "    .dataframe thead th {\n",
       "        text-align: right;\n",
       "    }\n",
       "</style>\n",
       "<table border=\"1\" class=\"dataframe\">\n",
       "  <thead>\n",
       "    <tr style=\"text-align: right;\">\n",
       "      <th></th>\n",
       "      <th>peak_chr</th>\n",
       "      <th>peak_start</th>\n",
       "      <th>peak_end</th>\n",
       "      <th>peak_id</th>\n",
       "      <th>peak_score</th>\n",
       "      <th>peak_strand</th>\n",
       "      <th>feature</th>\n",
       "      <th>gene_start</th>\n",
       "      <th>gene_end</th>\n",
       "      <th>gene_strand</th>\n",
       "      <th>...</th>\n",
       "      <th>gene_name</th>\n",
       "      <th>annotation_query</th>\n",
       "      <th>region_length</th>\n",
       "      <th>n_cells_by_counts</th>\n",
       "      <th>mean_counts</th>\n",
       "      <th>log1p_mean_counts</th>\n",
       "      <th>pct_dropout_by_counts</th>\n",
       "      <th>total_counts</th>\n",
       "      <th>log1p_total_counts</th>\n",
       "      <th>n_cells</th>\n",
       "    </tr>\n",
       "  </thead>\n",
       "  <tbody>\n",
       "    <tr>\n",
       "      <th>annotated_peaks_0_chr1:3050427-3050801</th>\n",
       "      <td>chr1</td>\n",
       "      <td>3050427</td>\n",
       "      <td>3050801</td>\n",
       "      <td>peak_1</td>\n",
       "      <td>.</td>\n",
       "      <td>.</td>\n",
       "      <td>NaN</td>\n",
       "      <td>NaN</td>\n",
       "      <td>NaN</td>\n",
       "      <td>NaN</td>\n",
       "      <td>...</td>\n",
       "      <td>NaN</td>\n",
       "      <td>NaN</td>\n",
       "      <td>374</td>\n",
       "      <td>274</td>\n",
       "      <td>0.006437</td>\n",
       "      <td>0.006416</td>\n",
       "      <td>99.658852</td>\n",
       "      <td>517.0</td>\n",
       "      <td>6.249975</td>\n",
       "      <td>274</td>\n",
       "    </tr>\n",
       "    <tr>\n",
       "      <th>annotated_peaks_100000_chr4:129518038-129518515</th>\n",
       "      <td>chr4</td>\n",
       "      <td>129518038</td>\n",
       "      <td>129518515</td>\n",
       "      <td>peak_100001</td>\n",
       "      <td>.</td>\n",
       "      <td>.</td>\n",
       "      <td>gene</td>\n",
       "      <td>129513066.0</td>\n",
       "      <td>129517740.0</td>\n",
       "      <td>-</td>\n",
       "      <td>...</td>\n",
       "      <td>Ccdc28b</td>\n",
       "      <td>protein_coding_promoter</td>\n",
       "      <td>477</td>\n",
       "      <td>7932</td>\n",
       "      <td>0.226976</td>\n",
       "      <td>0.204552</td>\n",
       "      <td>90.124133</td>\n",
       "      <td>18230.0</td>\n",
       "      <td>9.810879</td>\n",
       "      <td>7932</td>\n",
       "    </tr>\n",
       "    <tr>\n",
       "      <th>annotated_peaks_100001_chr4:129518849-129519134</th>\n",
       "      <td>chr4</td>\n",
       "      <td>129518849</td>\n",
       "      <td>129519134</td>\n",
       "      <td>peak_100002</td>\n",
       "      <td>.</td>\n",
       "      <td>.</td>\n",
       "      <td>gene</td>\n",
       "      <td>129513066.0</td>\n",
       "      <td>129517740.0</td>\n",
       "      <td>-</td>\n",
       "      <td>...</td>\n",
       "      <td>Ccdc28b</td>\n",
       "      <td>protein_coding_promoter</td>\n",
       "      <td>285</td>\n",
       "      <td>1788</td>\n",
       "      <td>0.045221</td>\n",
       "      <td>0.044228</td>\n",
       "      <td>97.773821</td>\n",
       "      <td>3632.0</td>\n",
       "      <td>8.197814</td>\n",
       "      <td>1788</td>\n",
       "    </tr>\n",
       "    <tr>\n",
       "      <th>annotated_peaks_100002_chr4:129527627-129527883</th>\n",
       "      <td>chr4</td>\n",
       "      <td>129527627</td>\n",
       "      <td>129527883</td>\n",
       "      <td>peak_100003</td>\n",
       "      <td>.</td>\n",
       "      <td>.</td>\n",
       "      <td>gene</td>\n",
       "      <td>129519870.0</td>\n",
       "      <td>129534858.0</td>\n",
       "      <td>-</td>\n",
       "      <td>...</td>\n",
       "      <td>Txlna</td>\n",
       "      <td>protein_coding_internal</td>\n",
       "      <td>256</td>\n",
       "      <td>289</td>\n",
       "      <td>0.006898</td>\n",
       "      <td>0.006874</td>\n",
       "      <td>99.640176</td>\n",
       "      <td>554.0</td>\n",
       "      <td>6.318968</td>\n",
       "      <td>289</td>\n",
       "    </tr>\n",
       "    <tr>\n",
       "      <th>annotated_peaks_100003_chr4:129533947-129534180</th>\n",
       "      <td>chr4</td>\n",
       "      <td>129533947</td>\n",
       "      <td>129534180</td>\n",
       "      <td>peak_100004</td>\n",
       "      <td>.</td>\n",
       "      <td>.</td>\n",
       "      <td>gene</td>\n",
       "      <td>129519870.0</td>\n",
       "      <td>129534858.0</td>\n",
       "      <td>-</td>\n",
       "      <td>...</td>\n",
       "      <td>Txlna</td>\n",
       "      <td>protein_coding_promoter</td>\n",
       "      <td>233</td>\n",
       "      <td>1040</td>\n",
       "      <td>0.024017</td>\n",
       "      <td>0.023733</td>\n",
       "      <td>98.705131</td>\n",
       "      <td>1929.0</td>\n",
       "      <td>7.565275</td>\n",
       "      <td>1040</td>\n",
       "    </tr>\n",
       "    <tr>\n",
       "      <th>...</th>\n",
       "      <td>...</td>\n",
       "      <td>...</td>\n",
       "      <td>...</td>\n",
       "      <td>...</td>\n",
       "      <td>...</td>\n",
       "      <td>...</td>\n",
       "      <td>...</td>\n",
       "      <td>...</td>\n",
       "      <td>...</td>\n",
       "      <td>...</td>\n",
       "      <td>...</td>\n",
       "      <td>...</td>\n",
       "      <td>...</td>\n",
       "      <td>...</td>\n",
       "      <td>...</td>\n",
       "      <td>...</td>\n",
       "      <td>...</td>\n",
       "      <td>...</td>\n",
       "      <td>...</td>\n",
       "      <td>...</td>\n",
       "      <td>...</td>\n",
       "    </tr>\n",
       "    <tr>\n",
       "      <th>annotated_peaks_99999_chr4:129517580-129517846</th>\n",
       "      <td>chr4</td>\n",
       "      <td>129517580</td>\n",
       "      <td>129517846</td>\n",
       "      <td>peak_100000</td>\n",
       "      <td>.</td>\n",
       "      <td>.</td>\n",
       "      <td>gene</td>\n",
       "      <td>129513066.0</td>\n",
       "      <td>129517740.0</td>\n",
       "      <td>-</td>\n",
       "      <td>...</td>\n",
       "      <td>Ccdc28b</td>\n",
       "      <td>protein_coding_promoter</td>\n",
       "      <td>266</td>\n",
       "      <td>2128</td>\n",
       "      <td>0.049890</td>\n",
       "      <td>0.048685</td>\n",
       "      <td>97.350499</td>\n",
       "      <td>4007.0</td>\n",
       "      <td>8.296047</td>\n",
       "      <td>2128</td>\n",
       "    </tr>\n",
       "    <tr>\n",
       "      <th>annotated_peaks_9999_chr1:192477325-192477572</th>\n",
       "      <td>chr1</td>\n",
       "      <td>192477325</td>\n",
       "      <td>192477572</td>\n",
       "      <td>peak_10000</td>\n",
       "      <td>.</td>\n",
       "      <td>.</td>\n",
       "      <td>gene</td>\n",
       "      <td>192179018.0</td>\n",
       "      <td>192453531.0</td>\n",
       "      <td>-</td>\n",
       "      <td>...</td>\n",
       "      <td>Hhat</td>\n",
       "      <td>protein_coding_distal</td>\n",
       "      <td>247</td>\n",
       "      <td>521</td>\n",
       "      <td>0.012849</td>\n",
       "      <td>0.012767</td>\n",
       "      <td>99.351320</td>\n",
       "      <td>1032.0</td>\n",
       "      <td>6.940222</td>\n",
       "      <td>521</td>\n",
       "    </tr>\n",
       "    <tr>\n",
       "      <th>annotated_peaks_999_chr1:37026210-37026612</th>\n",
       "      <td>chr1</td>\n",
       "      <td>37026210</td>\n",
       "      <td>37026612</td>\n",
       "      <td>peak_1000</td>\n",
       "      <td>.</td>\n",
       "      <td>.</td>\n",
       "      <td>gene</td>\n",
       "      <td>37065676.0</td>\n",
       "      <td>37226694.0</td>\n",
       "      <td>+</td>\n",
       "      <td>...</td>\n",
       "      <td>Vwa3b</td>\n",
       "      <td>protein_coding_distal</td>\n",
       "      <td>402</td>\n",
       "      <td>507</td>\n",
       "      <td>0.012538</td>\n",
       "      <td>0.012460</td>\n",
       "      <td>99.368751</td>\n",
       "      <td>1007.0</td>\n",
       "      <td>6.915723</td>\n",
       "      <td>507</td>\n",
       "    </tr>\n",
       "    <tr>\n",
       "      <th>annotated_peaks_99_chr1:7849890-7850111</th>\n",
       "      <td>chr1</td>\n",
       "      <td>7849890</td>\n",
       "      <td>7850111</td>\n",
       "      <td>peak_100</td>\n",
       "      <td>.</td>\n",
       "      <td>.</td>\n",
       "      <td>gene</td>\n",
       "      <td>7799084.0</td>\n",
       "      <td>7800789.0</td>\n",
       "      <td>-</td>\n",
       "      <td>...</td>\n",
       "      <td>Gm38216</td>\n",
       "      <td>any_gene_distal</td>\n",
       "      <td>221</td>\n",
       "      <td>229</td>\n",
       "      <td>0.005416</td>\n",
       "      <td>0.005401</td>\n",
       "      <td>99.714880</td>\n",
       "      <td>435.0</td>\n",
       "      <td>6.077642</td>\n",
       "      <td>229</td>\n",
       "    </tr>\n",
       "    <tr>\n",
       "      <th>annotated_peaks_9_chr1:3191548-3191937</th>\n",
       "      <td>chr1</td>\n",
       "      <td>3191548</td>\n",
       "      <td>3191937</td>\n",
       "      <td>peak_10</td>\n",
       "      <td>.</td>\n",
       "      <td>.</td>\n",
       "      <td>gene</td>\n",
       "      <td>3172238.0</td>\n",
       "      <td>3172348.0</td>\n",
       "      <td>+</td>\n",
       "      <td>...</td>\n",
       "      <td>Gm26206</td>\n",
       "      <td>any_gene_distal</td>\n",
       "      <td>389</td>\n",
       "      <td>727</td>\n",
       "      <td>0.018153</td>\n",
       "      <td>0.017990</td>\n",
       "      <td>99.094837</td>\n",
       "      <td>1458.0</td>\n",
       "      <td>7.285507</td>\n",
       "      <td>727</td>\n",
       "    </tr>\n",
       "  </tbody>\n",
       "</table>\n",
       "<p>148517 rows × 27 columns</p>\n",
       "</div>"
      ],
      "text/plain": [
       "                                                peak_chr peak_start  \\\n",
       "annotated_peaks_0_chr1:3050427-3050801              chr1    3050427   \n",
       "annotated_peaks_100000_chr4:129518038-129518515     chr4  129518038   \n",
       "annotated_peaks_100001_chr4:129518849-129519134     chr4  129518849   \n",
       "annotated_peaks_100002_chr4:129527627-129527883     chr4  129527627   \n",
       "annotated_peaks_100003_chr4:129533947-129534180     chr4  129533947   \n",
       "...                                                  ...        ...   \n",
       "annotated_peaks_99999_chr4:129517580-129517846      chr4  129517580   \n",
       "annotated_peaks_9999_chr1:192477325-192477572       chr1  192477325   \n",
       "annotated_peaks_999_chr1:37026210-37026612          chr1   37026210   \n",
       "annotated_peaks_99_chr1:7849890-7850111             chr1    7849890   \n",
       "annotated_peaks_9_chr1:3191548-3191937              chr1    3191548   \n",
       "\n",
       "                                                  peak_end      peak_id  \\\n",
       "annotated_peaks_0_chr1:3050427-3050801             3050801       peak_1   \n",
       "annotated_peaks_100000_chr4:129518038-129518515  129518515  peak_100001   \n",
       "annotated_peaks_100001_chr4:129518849-129519134  129519134  peak_100002   \n",
       "annotated_peaks_100002_chr4:129527627-129527883  129527883  peak_100003   \n",
       "annotated_peaks_100003_chr4:129533947-129534180  129534180  peak_100004   \n",
       "...                                                    ...          ...   \n",
       "annotated_peaks_99999_chr4:129517580-129517846   129517846  peak_100000   \n",
       "annotated_peaks_9999_chr1:192477325-192477572    192477572   peak_10000   \n",
       "annotated_peaks_999_chr1:37026210-37026612        37026612    peak_1000   \n",
       "annotated_peaks_99_chr1:7849890-7850111            7850111     peak_100   \n",
       "annotated_peaks_9_chr1:3191548-3191937             3191937      peak_10   \n",
       "\n",
       "                                                peak_score peak_strand  \\\n",
       "annotated_peaks_0_chr1:3050427-3050801                   .           .   \n",
       "annotated_peaks_100000_chr4:129518038-129518515          .           .   \n",
       "annotated_peaks_100001_chr4:129518849-129519134          .           .   \n",
       "annotated_peaks_100002_chr4:129527627-129527883          .           .   \n",
       "annotated_peaks_100003_chr4:129533947-129534180          .           .   \n",
       "...                                                    ...         ...   \n",
       "annotated_peaks_99999_chr4:129517580-129517846           .           .   \n",
       "annotated_peaks_9999_chr1:192477325-192477572            .           .   \n",
       "annotated_peaks_999_chr1:37026210-37026612               .           .   \n",
       "annotated_peaks_99_chr1:7849890-7850111                  .           .   \n",
       "annotated_peaks_9_chr1:3191548-3191937                   .           .   \n",
       "\n",
       "                                                feature   gene_start  \\\n",
       "annotated_peaks_0_chr1:3050427-3050801              NaN          NaN   \n",
       "annotated_peaks_100000_chr4:129518038-129518515    gene  129513066.0   \n",
       "annotated_peaks_100001_chr4:129518849-129519134    gene  129513066.0   \n",
       "annotated_peaks_100002_chr4:129527627-129527883    gene  129519870.0   \n",
       "annotated_peaks_100003_chr4:129533947-129534180    gene  129519870.0   \n",
       "...                                                 ...          ...   \n",
       "annotated_peaks_99999_chr4:129517580-129517846     gene  129513066.0   \n",
       "annotated_peaks_9999_chr1:192477325-192477572      gene  192179018.0   \n",
       "annotated_peaks_999_chr1:37026210-37026612         gene   37065676.0   \n",
       "annotated_peaks_99_chr1:7849890-7850111            gene    7799084.0   \n",
       "annotated_peaks_9_chr1:3191548-3191937             gene    3172238.0   \n",
       "\n",
       "                                                    gene_end gene_strand  ...  \\\n",
       "annotated_peaks_0_chr1:3050427-3050801                   NaN         NaN  ...   \n",
       "annotated_peaks_100000_chr4:129518038-129518515  129517740.0           -  ...   \n",
       "annotated_peaks_100001_chr4:129518849-129519134  129517740.0           -  ...   \n",
       "annotated_peaks_100002_chr4:129527627-129527883  129534858.0           -  ...   \n",
       "annotated_peaks_100003_chr4:129533947-129534180  129534858.0           -  ...   \n",
       "...                                                      ...         ...  ...   \n",
       "annotated_peaks_99999_chr4:129517580-129517846   129517740.0           -  ...   \n",
       "annotated_peaks_9999_chr1:192477325-192477572    192453531.0           -  ...   \n",
       "annotated_peaks_999_chr1:37026210-37026612        37226694.0           +  ...   \n",
       "annotated_peaks_99_chr1:7849890-7850111            7800789.0           -  ...   \n",
       "annotated_peaks_9_chr1:3191548-3191937             3172348.0           +  ...   \n",
       "\n",
       "                                                gene_name  \\\n",
       "annotated_peaks_0_chr1:3050427-3050801                NaN   \n",
       "annotated_peaks_100000_chr4:129518038-129518515   Ccdc28b   \n",
       "annotated_peaks_100001_chr4:129518849-129519134   Ccdc28b   \n",
       "annotated_peaks_100002_chr4:129527627-129527883     Txlna   \n",
       "annotated_peaks_100003_chr4:129533947-129534180     Txlna   \n",
       "...                                                   ...   \n",
       "annotated_peaks_99999_chr4:129517580-129517846    Ccdc28b   \n",
       "annotated_peaks_9999_chr1:192477325-192477572        Hhat   \n",
       "annotated_peaks_999_chr1:37026210-37026612          Vwa3b   \n",
       "annotated_peaks_99_chr1:7849890-7850111           Gm38216   \n",
       "annotated_peaks_9_chr1:3191548-3191937            Gm26206   \n",
       "\n",
       "                                                        annotation_query  \\\n",
       "annotated_peaks_0_chr1:3050427-3050801                               NaN   \n",
       "annotated_peaks_100000_chr4:129518038-129518515  protein_coding_promoter   \n",
       "annotated_peaks_100001_chr4:129518849-129519134  protein_coding_promoter   \n",
       "annotated_peaks_100002_chr4:129527627-129527883  protein_coding_internal   \n",
       "annotated_peaks_100003_chr4:129533947-129534180  protein_coding_promoter   \n",
       "...                                                                  ...   \n",
       "annotated_peaks_99999_chr4:129517580-129517846   protein_coding_promoter   \n",
       "annotated_peaks_9999_chr1:192477325-192477572      protein_coding_distal   \n",
       "annotated_peaks_999_chr1:37026210-37026612         protein_coding_distal   \n",
       "annotated_peaks_99_chr1:7849890-7850111                  any_gene_distal   \n",
       "annotated_peaks_9_chr1:3191548-3191937                   any_gene_distal   \n",
       "\n",
       "                                                region_length  \\\n",
       "annotated_peaks_0_chr1:3050427-3050801                    374   \n",
       "annotated_peaks_100000_chr4:129518038-129518515           477   \n",
       "annotated_peaks_100001_chr4:129518849-129519134           285   \n",
       "annotated_peaks_100002_chr4:129527627-129527883           256   \n",
       "annotated_peaks_100003_chr4:129533947-129534180           233   \n",
       "...                                                       ...   \n",
       "annotated_peaks_99999_chr4:129517580-129517846            266   \n",
       "annotated_peaks_9999_chr1:192477325-192477572             247   \n",
       "annotated_peaks_999_chr1:37026210-37026612                402   \n",
       "annotated_peaks_99_chr1:7849890-7850111                   221   \n",
       "annotated_peaks_9_chr1:3191548-3191937                    389   \n",
       "\n",
       "                                                n_cells_by_counts mean_counts  \\\n",
       "annotated_peaks_0_chr1:3050427-3050801                        274    0.006437   \n",
       "annotated_peaks_100000_chr4:129518038-129518515              7932    0.226976   \n",
       "annotated_peaks_100001_chr4:129518849-129519134              1788    0.045221   \n",
       "annotated_peaks_100002_chr4:129527627-129527883               289    0.006898   \n",
       "annotated_peaks_100003_chr4:129533947-129534180              1040    0.024017   \n",
       "...                                                           ...         ...   \n",
       "annotated_peaks_99999_chr4:129517580-129517846               2128    0.049890   \n",
       "annotated_peaks_9999_chr1:192477325-192477572                 521    0.012849   \n",
       "annotated_peaks_999_chr1:37026210-37026612                    507    0.012538   \n",
       "annotated_peaks_99_chr1:7849890-7850111                       229    0.005416   \n",
       "annotated_peaks_9_chr1:3191548-3191937                        727    0.018153   \n",
       "\n",
       "                                                log1p_mean_counts  \\\n",
       "annotated_peaks_0_chr1:3050427-3050801                   0.006416   \n",
       "annotated_peaks_100000_chr4:129518038-129518515          0.204552   \n",
       "annotated_peaks_100001_chr4:129518849-129519134          0.044228   \n",
       "annotated_peaks_100002_chr4:129527627-129527883          0.006874   \n",
       "annotated_peaks_100003_chr4:129533947-129534180          0.023733   \n",
       "...                                                           ...   \n",
       "annotated_peaks_99999_chr4:129517580-129517846           0.048685   \n",
       "annotated_peaks_9999_chr1:192477325-192477572            0.012767   \n",
       "annotated_peaks_999_chr1:37026210-37026612               0.012460   \n",
       "annotated_peaks_99_chr1:7849890-7850111                  0.005401   \n",
       "annotated_peaks_9_chr1:3191548-3191937                   0.017990   \n",
       "\n",
       "                                                pct_dropout_by_counts  \\\n",
       "annotated_peaks_0_chr1:3050427-3050801                      99.658852   \n",
       "annotated_peaks_100000_chr4:129518038-129518515             90.124133   \n",
       "annotated_peaks_100001_chr4:129518849-129519134             97.773821   \n",
       "annotated_peaks_100002_chr4:129527627-129527883             99.640176   \n",
       "annotated_peaks_100003_chr4:129533947-129534180             98.705131   \n",
       "...                                                               ...   \n",
       "annotated_peaks_99999_chr4:129517580-129517846              97.350499   \n",
       "annotated_peaks_9999_chr1:192477325-192477572               99.351320   \n",
       "annotated_peaks_999_chr1:37026210-37026612                  99.368751   \n",
       "annotated_peaks_99_chr1:7849890-7850111                     99.714880   \n",
       "annotated_peaks_9_chr1:3191548-3191937                      99.094837   \n",
       "\n",
       "                                                total_counts  \\\n",
       "annotated_peaks_0_chr1:3050427-3050801                 517.0   \n",
       "annotated_peaks_100000_chr4:129518038-129518515      18230.0   \n",
       "annotated_peaks_100001_chr4:129518849-129519134       3632.0   \n",
       "annotated_peaks_100002_chr4:129527627-129527883        554.0   \n",
       "annotated_peaks_100003_chr4:129533947-129534180       1929.0   \n",
       "...                                                      ...   \n",
       "annotated_peaks_99999_chr4:129517580-129517846        4007.0   \n",
       "annotated_peaks_9999_chr1:192477325-192477572         1032.0   \n",
       "annotated_peaks_999_chr1:37026210-37026612            1007.0   \n",
       "annotated_peaks_99_chr1:7849890-7850111                435.0   \n",
       "annotated_peaks_9_chr1:3191548-3191937                1458.0   \n",
       "\n",
       "                                                log1p_total_counts  n_cells  \n",
       "annotated_peaks_0_chr1:3050427-3050801                    6.249975      274  \n",
       "annotated_peaks_100000_chr4:129518038-129518515           9.810879     7932  \n",
       "annotated_peaks_100001_chr4:129518849-129519134           8.197814     1788  \n",
       "annotated_peaks_100002_chr4:129527627-129527883           6.318968      289  \n",
       "annotated_peaks_100003_chr4:129533947-129534180           7.565275     1040  \n",
       "...                                                            ...      ...  \n",
       "annotated_peaks_99999_chr4:129517580-129517846            8.296047     2128  \n",
       "annotated_peaks_9999_chr1:192477325-192477572             6.940222      521  \n",
       "annotated_peaks_999_chr1:37026210-37026612                6.915723      507  \n",
       "annotated_peaks_99_chr1:7849890-7850111                   6.077642      229  \n",
       "annotated_peaks_9_chr1:3191548-3191937                    7.285507      727  \n",
       "\n",
       "[148517 rows x 27 columns]"
      ]
     },
     "execution_count": 14,
     "metadata": {},
     "output_type": "execute_result"
    }
   ],
   "source": [
    "adata.var"
   ]
  },
  {
   "cell_type": "code",
   "execution_count": 15,
   "id": "931943e7",
   "metadata": {
    "pycharm": {
     "name": "#%%\n"
    }
   },
   "outputs": [
    {
     "data": {
      "image/png": "[encoded data removed]",
      "text/plain": [
       "<Figure size 432x288 with 1 Axes>"
      ]
     },
     "metadata": {
      "needs_background": "light"
     },
     "output_type": "display_data"
    },
    {
     "data": {
      "image/png": "[encoded data removed]",
      "text/plain": [
       "<Figure size 432x288 with 1 Axes>"
      ]
     },
     "metadata": {},
     "output_type": "display_data"
    },
    {
     "data": {
      "image/png": "[encoded data removed]",
      "text/plain": [
       "<Figure size 432x288 with 1 Axes>"
      ]
     },
     "metadata": {},
     "output_type": "display_data"
    },
    {
     "data": {
      "image/png": "[encoded data removed]",
      "text/plain": [
       "<Figure size 432x288 with 1 Axes>"
      ]
     },
     "metadata": {},
     "output_type": "display_data"
    }
   ],
   "source": [
    "# plot_ov_hist(adata, threshold_features=50) \n",
    "epi.pp.filter_features(adata, min_cells=1)\n",
    "epi.pp.filter_cells(adata, min_features=1)\n",
    "epi.pp.coverage_cells(adata, binary=True, log=False, bins=50)\n",
    "epi.pp.coverage_cells(adata, binary=True, log=10, bins=50)\n",
    "\n",
    "epi.pp.coverage_features(adata, binary=True, log=False, bins=50)\n",
    "epi.pp.coverage_features(adata, binary=True, log=10, bins=50)"
   ]
  },
  {
   "cell_type": "markdown",
   "id": "d5ab15e8",
   "metadata": {},
   "source": [
    "## 6. Cells Filtering"
   ]
  },
  {
   "cell_type": "markdown",
   "id": "664bd8fe",
   "metadata": {},
   "source": [
    "### 6.1 get thresholds dict"
   ]
  },
  {
   "cell_type": "code",
   "execution_count": 16,
   "id": "268d6710",
   "metadata": {},
   "outputs": [
    {
     "data": {
      "text/plain": [
       "{'n_features_by_counts': {'min': 100, 'max': 5000},\n",
       " 'mean_insertsize': {'min': None, 'max': None}}"
      ]
     },
     "execution_count": 16,
     "metadata": {},
     "output_type": "execute_result"
    }
   ],
   "source": [
    "groupby = condition_column if global_threshold is False else None\n",
    "default_thresholds = build_default_thresholds(adata, manual_thresholds, groupby)\n",
    "default_thresholds"
   ]
  },
  {
   "cell_type": "code",
   "execution_count": 17,
   "id": "4e66c4c1",
   "metadata": {
    "pycharm": {
     "name": "#%%\n"
    }
   },
   "outputs": [
    {
     "data": {
      "text/html": [
       "<div>\n",
       "<style scoped>\n",
       "    .dataframe tbody tr th:only-of-type {\n",
       "        vertical-align: middle;\n",
       "    }\n",
       "\n",
       "    .dataframe tbody tr th {\n",
       "        vertical-align: top;\n",
       "    }\n",
       "\n",
       "    .dataframe thead th {\n",
       "        text-align: right;\n",
       "    }\n",
       "</style>\n",
       "<table border=\"1\" class=\"dataframe\">\n",
       "  <thead>\n",
       "    <tr style=\"text-align: right;\">\n",
       "      <th></th>\n",
       "      <th>Parameter</th>\n",
       "      <th>Minimum</th>\n",
       "      <th>Maximum</th>\n",
       "    </tr>\n",
       "  </thead>\n",
       "  <tbody>\n",
       "    <tr>\n",
       "      <th>0</th>\n",
       "      <td>n_features_by_counts</td>\n",
       "      <td>100.000000</td>\n",
       "      <td>5000.000000</td>\n",
       "    </tr>\n",
       "    <tr>\n",
       "      <th>1</th>\n",
       "      <td>mean_insertsize</td>\n",
       "      <td>67.623737</td>\n",
       "      <td>114.849086</td>\n",
       "    </tr>\n",
       "  </tbody>\n",
       "</table>\n",
       "</div>"
      ],
      "text/plain": [
       "              Parameter     Minimum      Maximum\n",
       "0  n_features_by_counts  100.000000  5000.000000\n",
       "1       mean_insertsize   67.623737   114.849086"
      ]
     },
     "execution_count": 17,
     "metadata": {},
     "output_type": "execute_result"
    }
   ],
   "source": [
    "thresholds = get_thresholds_atac_wrapper(adata, default_thresholds, only_automatic_thresholds, groupby=None)\n",
    "thresholds_as_table(thresholds)"
   ]
  },
  {
   "cell_type": "markdown",
   "id": "acde2adf",
   "metadata": {},
   "source": [
    "### 6.2 plot thresholds"
   ]
  },
  {
   "cell_type": "code",
   "execution_count": 18,
   "id": "6891314c",
   "metadata": {},
   "outputs": [
    {
     "data": {
      "text/html": [
       "<img src onerror=\"\n",
       "                var cell = this.closest('.code_cell');\n",
       "                var editor = cell.querySelector('.CodeMirror-sizer');\n",
       "                editor.style.background='PowderBlue';\n",
       "                this.parentNode.removeChild(this)\n",
       "                \">"
      ],
      "text/plain": [
       "<IPython.core.display.HTML object>"
      ]
     },
     "metadata": {},
     "output_type": "display_data"
    },
    {
     "data": {
      "application/vnd.jupyter.widget-view+json": {
       "model_id": "675318456fb245e19573ad93f688c04e",
       "version_major": 2,
       "version_minor": 0
      },
      "text/plain": [
       "HBox(children=(Accordion(children=(VBox(children=(Checkbox(value=True, description='Global threshold', indent=…"
      ]
     },
     "metadata": {},
     "output_type": "display_data"
    }
   ],
   "source": [
    "%matplotlib widget\n",
    "%bgcolor PowderBlue\n",
    "\n",
    "#Plot violins and sliders\n",
    "obs_figure, obs_slider_dict = quality_violin(adata, columns=obs_columns,\n",
    "                                            groupby=condition_column,\n",
    "                                            which=\"obs\",\n",
    "                                            thresholds=thresholds,\n",
    "                                            global_threshold=global_threshold,\n",
    "                                            title=\"Cell quality control (before)\",\n",
    "                                            save=tree.qc_plots + \"cell_filtering.png\")\n",
    "obs_figure"
   ]
  },
  {
   "cell_type": "code",
   "execution_count": 19,
   "id": "d43c3b78",
   "metadata": {},
   "outputs": [
    {
     "data": {
      "text/html": [
       "<div>\n",
       "<style scoped>\n",
       "    .dataframe tbody tr th:only-of-type {\n",
       "        vertical-align: middle;\n",
       "    }\n",
       "\n",
       "    .dataframe tbody tr th {\n",
       "        vertical-align: top;\n",
       "    }\n",
       "\n",
       "    .dataframe thead th {\n",
       "        text-align: right;\n",
       "    }\n",
       "</style>\n",
       "<table border=\"1\" class=\"dataframe\">\n",
       "  <thead>\n",
       "    <tr style=\"text-align: right;\">\n",
       "      <th></th>\n",
       "      <th>Parameter</th>\n",
       "      <th>Minimum</th>\n",
       "      <th>Maximum</th>\n",
       "    </tr>\n",
       "  </thead>\n",
       "  <tbody>\n",
       "    <tr>\n",
       "      <th>0</th>\n",
       "      <td>n_features_by_counts</td>\n",
       "      <td>100.000000</td>\n",
       "      <td>5000.000000</td>\n",
       "    </tr>\n",
       "    <tr>\n",
       "      <th>1</th>\n",
       "      <td>mean_insertsize</td>\n",
       "      <td>67.623737</td>\n",
       "      <td>114.849086</td>\n",
       "    </tr>\n",
       "  </tbody>\n",
       "</table>\n",
       "</div>"
      ],
      "text/plain": [
       "              Parameter     Minimum      Maximum\n",
       "0  n_features_by_counts  100.000000  5000.000000\n",
       "1       mean_insertsize   67.623737   114.849086"
      ]
     },
     "execution_count": 19,
     "metadata": {},
     "output_type": "execute_result"
    }
   ],
   "source": [
    "# Get final thresholds\n",
    "final_thresholds = get_slider_thresholds(obs_slider_dict)\n",
    "thresholds_as_table(final_thresholds) # show thresholds"
   ]
  },
  {
   "cell_type": "markdown",
   "id": "d131f523",
   "metadata": {},
   "source": [
    "### 6.3 filter adata"
   ]
  },
  {
   "cell_type": "code",
   "execution_count": 20,
   "id": "1c488570",
   "metadata": {},
   "outputs": [
    {
     "name": "stdout",
     "output_type": "stream",
     "text": [
      "Filtering based on 'n_features_by_counts' from 80317 -> 62886 cells\n",
      "Filtering based on 'mean_insertsize' from 62886 -> 58196 cells\n"
     ]
    }
   ],
   "source": [
    "apply_qc_thresholds(adata, final_thresholds)\n",
    "# remove empty features\n",
    "epi.pp.filter_features(adata, min_cells=1)"
   ]
  },
  {
   "cell_type": "code",
   "execution_count": 21,
   "id": "24634132",
   "metadata": {},
   "outputs": [
    {
     "data": {
      "text/plain": [
       "AnnData object with n_obs × n_vars = 58196 × 148517\n",
       "    obs: 'chr1_reads', 'chr10_reads', 'chr11_reads', 'chr12_reads', 'chr13_reads', 'chr14_reads', 'chr15_reads', 'chr16_reads', 'chr17_reads', 'chr18_reads', 'chr19_reads', 'chr2_reads', 'chr3_reads', 'chr4_reads', 'chr5_reads', 'chr6_reads', 'chr7_reads', 'chr8_reads', 'chr9_reads', 'chrM_reads', 'chrX_reads', 'chrY_reads', 'total_genome_reads', 'insertsize_mean', 'Sample', 'id', 'condition', 'date', 'file', 'sample', 'n_features_by_counts', 'log1p_n_features_by_counts', 'total_counts', 'log1p_total_counts', 'insertsize_count', 'mean_insertsize', 'nb_features', 'log_nb_features'\n",
       "    var: 'peak_chr', 'peak_start', 'peak_end', 'peak_id', 'peak_score', 'peak_strand', 'feature', 'gene_start', 'gene_end', 'gene_strand', 'gene_anchor', 'distance_to_gene', 'relative_location_to_gene', 'gene_ovl_peak', 'peak_ovl_gene', 'gene_biotype', 'gene_id', 'gene_name', 'annotation_query', 'region_length', 'n_cells_by_counts', 'mean_counts', 'log1p_mean_counts', 'pct_dropout_by_counts', 'total_counts', 'log1p_total_counts', 'n_cells', 'commonness'\n",
       "    uns: 'color_set', 'infoprocess', 'insertsize_distribution', 'legend', 'sample1', 'sample2', 'sample3', 'sample4', 'sample5', 'sample6', 'sample7', 'sample8'\n",
       "    layers: 'binarized', 'binary'"
      ]
     },
     "metadata": {},
     "output_type": "display_data"
    }
   ],
   "source": [
    "# log-convert number of features\n",
    "adata.obs['log_nb_features'] = [np.log10(x) for x in adata.obs['nb_features']]\n",
    "display(adata)"
   ]
  },
  {
   "cell_type": "markdown",
   "id": "aad9af0e",
   "metadata": {},
   "source": [
    "## 7. save plots"
   ]
  },
  {
   "cell_type": "code",
   "execution_count": 22,
   "id": "955b7ac2",
   "metadata": {},
   "outputs": [
    {
     "data": {
      "image/png": "[encoded data removed]",
      "text/plain": [
       "<Figure size 576x288 with 2 Axes>"
      ]
     },
     "execution_count": 22,
     "metadata": {},
     "output_type": "execute_result"
    },
    {
     "data": {
      "image/png": "[encoded data removed]",
      "text/plain": [
       "<Figure size 576x288 with 2 Axes>"
      ]
     },
     "metadata": {
      "needs_background": "light"
     },
     "output_type": "display_data"
    }
   ],
   "source": [
    "%matplotlib inline \n",
    "\n",
    "#Plot violins and sliders\n",
    "figure, slider_dict = quality_violin(adata, columns=obs_columns,\n",
    "                                     groupby=condition_column,\n",
    "                                     which=\"obs\", ncols=3,\n",
    "                                     global_threshold = global_threshold,\n",
    "                                     title=\"Cell quality control (after)\",\n",
    "                                     save=tree.qc_plots + \"cell_filtering_final.png\")\n",
    "figure "
   ]
  },
  {
   "cell_type": "markdown",
   "id": "b43e9b3e",
   "metadata": {},
   "source": [
    "## 8. save anndata"
   ]
  },
  {
   "cell_type": "code",
   "execution_count": 25,
   "id": "877a2815",
   "metadata": {},
   "outputs": [],
   "source": [
    "adata_output = tree.qc_anndata\n",
    "adata.write(filename=adata_output)"
   ]
  },
  {
   "cell_type": "code",
   "execution_count": 28,
   "id": "080d7ef4",
   "metadata": {},
   "outputs": [
    {
     "data": {
      "text/plain": [
       "'/mnt/workspace/jdetlef/ext_ana/processed/all/qc/2_QC.ipynb'"
      ]
     },
     "execution_count": 28,
     "metadata": {},
     "output_type": "execute_result"
    }
   ],
   "source": [
    "import os\n",
    "import shutil\n",
    "repo_path = os.getcwd()\n",
    "notebook_name = '2_QC.ipynb'\n",
    "notebook_path = os.path.join(repo_path, notebook_name)\n",
    "notebook_copy = os.path.join(tree.qc_dir , notebook_name)\n",
    "shutil.copyfile(notebook_path, notebook_copy)"
   ]
  },
  {
   "cell_type": "code",
   "execution_count": null,
   "id": "cc547583",
   "metadata": {},
   "outputs": [],
   "source": []
  }
 ],
 "metadata": {
  "kernelspec": {
   "display_name": "single-cell-base",
   "language": "python",
   "name": "sc_base"
  },
  "language_info": {
   "codemirror_mode": {
    "name": "ipython",
    "version": 3
   },
   "file_extension": ".py",
   "mimetype": "text/x-python",
   "name": "python",
   "nbconvert_exporter": "python",
   "pygments_lexer": "ipython3",
   "version": "3.7.12"
  }
 },
 "nbformat": 4,
 "nbformat_minor": 5
}
