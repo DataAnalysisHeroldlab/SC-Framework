{
 "cells": [
  {
   "cell_type": "markdown",
   "id": "bf52b2e2",
   "metadata": {
    "pycharm": {
     "name": "#%% md\n"
    }
   },
   "source": [
    "# Assembling\n",
    "\n",
    "This notebook is used to assemble a processable h5ad object for subsequent notebooks."
   ]
  },
  {
   "cell_type": "markdown",
   "id": "c9e8b8fd",
   "metadata": {
    "pycharm": {
     "name": "#%% md\n"
    }
   },
   "source": [
    "## Fill in input data, output and settings"
   ]
  },
  {
   "cell_type": "code",
   "execution_count": 8,
   "id": "120c0f22",
   "metadata": {
    "pycharm": {
     "name": "#%%\n"
    }
   },
   "outputs": [],
   "source": [
    "####################### TEST NAME ###################################\n",
    "test = 'lung'\n",
    "################### DEFINING STRATEGY ###############################\n",
    "from_h5ad = True #option 1\n",
    "assembling_10_velocity = False #option 2\n",
    "assembling_10_public = False #option 3\n",
    "convert_seurat = False #option 4\n",
    "\n",
    "###################### INPUT DATA ###################################\n",
    "\n",
    "#For option 1: The path to an existing .h5ad file\n",
    "h5ad_files = ['/home/rstudio/data/anndata/ENC-1JKYN-179-SM-ACCPU_snATAC_upper_lobe_of_left_lung_Rep1.h5ad']\n",
    "#Manually set existing QC Columns\n",
    "n_features_by_counts = None\n",
    "log1p_n_features_by_counts = None\n",
    "total_counts = None\n",
    "log1p_total_counts = None\n",
    "mean_insertsize = None\n",
    "insertsize_count = None\n",
    "n_total_fragments = None\n",
    "n_fragments_in_promoters = None\n",
    "pct_fragments_in_promoters = None\n",
    "blacklist_overlaps = None\n",
    "#total_number_of_fragments\n",
    "TN = 'TN'\n",
    "#uniquely_mapped_fragments\n",
    "UM = 'UM'\n",
    "#properly_paired_fragments\n",
    "PP = 'PP'\n",
    "#uniq_fragments\n",
    "UQ = 'UQ'\n",
    "#chrM_fragments\n",
    "CM = 'CM'\n",
    "\n",
    "#################### Calc QC Columns ###############################\n",
    "#set available number of threads\n",
    "n_threads = 8\n",
    "\n",
    "#if the mean_insertsize should be calculated specify either a BAM file or a fragments file:\n",
    "fragments_file = '/home/rstudio/data/bamfiles/fragments_Esophagus.bed'\n",
    "bam_file = '/home/rstudio/data/bamfiles/ENC-1K2DA-044-SM-A62E9_snATAC_upper_lobe_of_left_lung_Rep1.bam'\n",
    "\n",
    "#specify promotors_gtf if another promoter than the fixed ones should be used\n",
    "#if promotors is None please specify species\n",
    "#promoters_gtf =  '/mnt/flatfiles/organisms/new_organism/homo_sapiens/104/homo_sapiens.104.promoters2000.gtf'\n",
    "promoters_gtf = '/home/rstudio/data/homo_sapiens.104.promoters2000.gtf'\n",
    "species = None\n",
    "\n",
    "##################### OUTPUT DATA ###################################\n",
    "output_dir = '/home/rstudio/processed_data'"
   ]
  },
  {
   "cell_type": "markdown",
   "id": "6d6dd817",
   "metadata": {
    "pycharm": {
     "name": "#%% md\n"
    }
   },
   "source": [
    "## Import modules"
   ]
  },
  {
   "cell_type": "code",
   "execution_count": 9,
   "id": "c997211a",
   "metadata": {
    "pycharm": {
     "name": "#%%\n"
    },
    "scrolled": true
   },
   "outputs": [],
   "source": [
    "# sctoolbox modules \n",
    "import sctoolbox.atac_tree as sub_tree\n",
    "import sctoolbox.creators as cr\n",
    "import sctoolbox.fragment_length as fragments\n",
    "import sctoolbox.atac as atac\n",
    "import sctoolbox.calc_overlap_pct as overlap\n",
    "import sctoolbox.analyser \n",
    "from sctoolbox.qc_filter import *\n",
    "from sctoolbox.atac_utils import *\n",
    "# import episcanpy\n",
    "import episcanpy as epi"
   ]
  },
  {
   "cell_type": "code",
   "execution_count": 10,
   "id": "2f3a755e",
   "metadata": {},
   "outputs": [],
   "source": [
    "#adata = epi.read_h5ad(h5ad_files[0])"
   ]
  },
  {
   "cell_type": "code",
   "execution_count": 11,
   "id": "eb0985a7",
   "metadata": {},
   "outputs": [],
   "source": [
    "#adata.var"
   ]
  },
  {
   "cell_type": "markdown",
   "id": "4fc0e3d7",
   "metadata": {
    "pycharm": {
     "name": "#%% md\n"
    }
   },
   "source": [
    "## Setup path handling object "
   ]
  },
  {
   "cell_type": "code",
   "execution_count": 12,
   "id": "880c04fb",
   "metadata": {
    "pycharm": {
     "name": "#%%\n"
    }
   },
   "outputs": [
    {
     "name": "stdout",
     "output_type": "stream",
     "text": [
      "Warning: run is None\n",
      "all directories existing\n",
      "all directories existing\n"
     ]
    }
   ],
   "source": [
    "# make an instance of the class\n",
    "tree = sub_tree.ATAC_tree()\n",
    "# set processing/output directory\n",
    "tree.processing_dir = output_dir\n",
    "# set sample/experiment.. \n",
    "tree.run = test"
   ]
  },
  {
   "cell_type": "markdown",
   "id": "84b9cddf",
   "metadata": {
    "pycharm": {
     "name": "#%% md\n"
    }
   },
   "source": [
    "## Read in data"
   ]
  },
  {
   "cell_type": "markdown",
   "id": "7e7b43d6",
   "metadata": {
    "pycharm": {
     "name": "#%% md\n"
    }
   },
   "source": [
    "### Option 1: Read from .h5ad"
   ]
  },
  {
   "cell_type": "code",
   "execution_count": 13,
   "id": "96a9a071",
   "metadata": {
    "pycharm": {
     "name": "#%%\n"
    }
   },
   "outputs": [],
   "source": [
    "qc_columns = {}\n",
    "qc_columns[\"n_features_by_counts\"] = n_features_by_counts\n",
    "qc_columns[\"log1p_n_features_by_counts\"] = log1p_n_features_by_counts\n",
    "qc_columns[\"total_counts\"] = total_counts\n",
    "qc_columns[\"log1p_total_counts\"] = log1p_total_counts\n",
    "qc_columns[\"mean_insertsize\"] = mean_insertsize\n",
    "qc_columns['n_total_fragments'] = n_total_fragments\n",
    "qc_columns['n_fragments_in_promoters'] = n_fragments_in_promoters\n",
    "qc_columns['pct_fragments_in_promoters'] = pct_fragments_in_promoters\n",
    "qc_columns[\"blacklist_overlaps\"] = blacklist_overlaps\n",
    "qc_columns[\"TN\"] = TN\n",
    "qc_columns[\"UM\"] = UM\n",
    "qc_columns[\"PP\"] = PP\n",
    "qc_columns[\"UQ\"] = UQ\n",
    "qc_columns[\"CM\"] = CM"
   ]
  },
  {
   "cell_type": "code",
   "execution_count": 14,
   "id": "6b900535",
   "metadata": {},
   "outputs": [
    {
     "name": "stdout",
     "output_type": "stream",
     "text": [
      "add existing adata.obs columns to infoprocess:\n",
      "\n",
      "TN:TN\n",
      "UM:UM\n",
      "PP:PP\n",
      "UQ:UQ\n",
      "CM:CM\n",
      "setting adata.obs.index = adata.obs[barcode]\n"
     ]
    }
   ],
   "source": [
    "if from_h5ad:\n",
    "    \n",
    "    adata = assemble_from_h5ad(h5ad_files=h5ad_files, atac=False, qc_columns=qc_columns)"
   ]
  },
  {
   "cell_type": "markdown",
   "id": "746f9da5",
   "metadata": {
    "pycharm": {
     "name": "#%% md\n"
    }
   },
   "source": [
    "## Inspect adata"
   ]
  },
  {
   "cell_type": "code",
   "execution_count": 15,
   "id": "9e059525",
   "metadata": {
    "pycharm": {
     "name": "#%%\n"
    }
   },
   "outputs": [
    {
     "data": {
      "text/plain": [
       "AnnData object with n_obs × n_vars = 73623 × 46782\n",
       "    obs: 'TN', 'UM', 'PP', 'UQ', 'CM', 'file', 'sample'\n",
       "    uns: 'infoprocess', 'color_set', 'legend'"
      ]
     },
     "metadata": {},
     "output_type": "display_data"
    }
   ],
   "source": [
    "display(adata)"
   ]
  },
  {
   "cell_type": "code",
   "execution_count": 16,
   "id": "9e65ff2d",
   "metadata": {},
   "outputs": [
    {
     "data": {
      "text/html": [
       "<div>\n",
       "<style scoped>\n",
       "    .dataframe tbody tr th:only-of-type {\n",
       "        vertical-align: middle;\n",
       "    }\n",
       "\n",
       "    .dataframe tbody tr th {\n",
       "        vertical-align: top;\n",
       "    }\n",
       "\n",
       "    .dataframe thead th {\n",
       "        text-align: right;\n",
       "    }\n",
       "</style>\n",
       "<table border=\"1\" class=\"dataframe\">\n",
       "  <thead>\n",
       "    <tr style=\"text-align: right;\">\n",
       "      <th></th>\n",
       "    </tr>\n",
       "  </thead>\n",
       "  <tbody>\n",
       "    <tr>\n",
       "      <th>0</th>\n",
       "    </tr>\n",
       "    <tr>\n",
       "      <th>1</th>\n",
       "    </tr>\n",
       "    <tr>\n",
       "      <th>2</th>\n",
       "    </tr>\n",
       "    <tr>\n",
       "      <th>3</th>\n",
       "    </tr>\n",
       "    <tr>\n",
       "      <th>4</th>\n",
       "    </tr>\n",
       "    <tr>\n",
       "      <th>...</th>\n",
       "    </tr>\n",
       "    <tr>\n",
       "      <th>46777</th>\n",
       "    </tr>\n",
       "    <tr>\n",
       "      <th>46778</th>\n",
       "    </tr>\n",
       "    <tr>\n",
       "      <th>46779</th>\n",
       "    </tr>\n",
       "    <tr>\n",
       "      <th>46780</th>\n",
       "    </tr>\n",
       "    <tr>\n",
       "      <th>46781</th>\n",
       "    </tr>\n",
       "  </tbody>\n",
       "</table>\n",
       "<p>46782 rows × 0 columns</p>\n",
       "</div>"
      ],
      "text/plain": [
       "Empty DataFrame\n",
       "Columns: []\n",
       "Index: [0, 1, 2, 3, 4, 5, 6, 7, 8, 9, 10, 11, 12, 13, 14, 15, 16, 17, 18, 19, 20, 21, 22, 23, 24, 25, 26, 27, 28, 29, 30, 31, 32, 33, 34, 35, 36, 37, 38, 39, 40, 41, 42, 43, 44, 45, 46, 47, 48, 49, 50, 51, 52, 53, 54, 55, 56, 57, 58, 59, 60, 61, 62, 63, 64, 65, 66, 67, 68, 69, 70, 71, 72, 73, 74, 75, 76, 77, 78, 79, 80, 81, 82, 83, 84, 85, 86, 87, 88, 89, 90, 91, 92, 93, 94, 95, 96, 97, 98, 99, ...]\n",
       "\n",
       "[46782 rows x 0 columns]"
      ]
     },
     "execution_count": 16,
     "metadata": {},
     "output_type": "execute_result"
    }
   ],
   "source": [
    "adata.var"
   ]
  },
  {
   "cell_type": "code",
   "execution_count": 17,
   "id": "d4ec8cb1",
   "metadata": {
    "pycharm": {
     "name": "#%%\n"
    }
   },
   "outputs": [
    {
     "data": {
      "text/html": [
       "<div>\n",
       "<style scoped>\n",
       "    .dataframe tbody tr th:only-of-type {\n",
       "        vertical-align: middle;\n",
       "    }\n",
       "\n",
       "    .dataframe tbody tr th {\n",
       "        vertical-align: top;\n",
       "    }\n",
       "\n",
       "    .dataframe thead th {\n",
       "        text-align: right;\n",
       "    }\n",
       "</style>\n",
       "<table border=\"1\" class=\"dataframe\">\n",
       "  <thead>\n",
       "    <tr style=\"text-align: right;\">\n",
       "      <th></th>\n",
       "    </tr>\n",
       "  </thead>\n",
       "  <tbody>\n",
       "    <tr>\n",
       "      <th>0</th>\n",
       "    </tr>\n",
       "    <tr>\n",
       "      <th>1</th>\n",
       "    </tr>\n",
       "    <tr>\n",
       "      <th>2</th>\n",
       "    </tr>\n",
       "    <tr>\n",
       "      <th>3</th>\n",
       "    </tr>\n",
       "    <tr>\n",
       "      <th>4</th>\n",
       "    </tr>\n",
       "    <tr>\n",
       "      <th>...</th>\n",
       "    </tr>\n",
       "    <tr>\n",
       "      <th>46777</th>\n",
       "    </tr>\n",
       "    <tr>\n",
       "      <th>46778</th>\n",
       "    </tr>\n",
       "    <tr>\n",
       "      <th>46779</th>\n",
       "    </tr>\n",
       "    <tr>\n",
       "      <th>46780</th>\n",
       "    </tr>\n",
       "    <tr>\n",
       "      <th>46781</th>\n",
       "    </tr>\n",
       "  </tbody>\n",
       "</table>\n",
       "<p>46782 rows × 0 columns</p>\n",
       "</div>"
      ],
      "text/plain": [
       "Empty DataFrame\n",
       "Columns: []\n",
       "Index: [0, 1, 2, 3, 4, 5, 6, 7, 8, 9, 10, 11, 12, 13, 14, 15, 16, 17, 18, 19, 20, 21, 22, 23, 24, 25, 26, 27, 28, 29, 30, 31, 32, 33, 34, 35, 36, 37, 38, 39, 40, 41, 42, 43, 44, 45, 46, 47, 48, 49, 50, 51, 52, 53, 54, 55, 56, 57, 58, 59, 60, 61, 62, 63, 64, 65, 66, 67, 68, 69, 70, 71, 72, 73, 74, 75, 76, 77, 78, 79, 80, 81, 82, 83, 84, 85, 86, 87, 88, 89, 90, 91, 92, 93, 94, 95, 96, 97, 98, 99, ...]\n",
       "\n",
       "[46782 rows x 0 columns]"
      ]
     },
     "metadata": {},
     "output_type": "display_data"
    }
   ],
   "source": [
    "display(adata.var)"
   ]
  },
  {
   "cell_type": "code",
   "execution_count": 18,
   "id": "97a9760e",
   "metadata": {
    "pycharm": {
     "name": "#%%\n"
    }
   },
   "outputs": [
    {
     "data": {
      "text/html": [
       "<div>\n",
       "<style scoped>\n",
       "    .dataframe tbody tr th:only-of-type {\n",
       "        vertical-align: middle;\n",
       "    }\n",
       "\n",
       "    .dataframe tbody tr th {\n",
       "        vertical-align: top;\n",
       "    }\n",
       "\n",
       "    .dataframe thead th {\n",
       "        text-align: right;\n",
       "    }\n",
       "</style>\n",
       "<table border=\"1\" class=\"dataframe\">\n",
       "  <thead>\n",
       "    <tr style=\"text-align: right;\">\n",
       "      <th></th>\n",
       "      <th>TN</th>\n",
       "      <th>UM</th>\n",
       "      <th>PP</th>\n",
       "      <th>UQ</th>\n",
       "      <th>CM</th>\n",
       "      <th>file</th>\n",
       "      <th>sample</th>\n",
       "    </tr>\n",
       "    <tr>\n",
       "      <th>barcode</th>\n",
       "      <th></th>\n",
       "      <th></th>\n",
       "      <th></th>\n",
       "      <th></th>\n",
       "      <th></th>\n",
       "      <th></th>\n",
       "      <th></th>\n",
       "    </tr>\n",
       "  </thead>\n",
       "  <tbody>\n",
       "    <tr>\n",
       "      <th>AACGAGAGCTAAACCCGAGATA</th>\n",
       "      <td>36.0</td>\n",
       "      <td>26.0</td>\n",
       "      <td>26.0</td>\n",
       "      <td>17.0</td>\n",
       "      <td>1.0</td>\n",
       "      <td>/home/rstudio/data/anndata/ENC-1JKYN-179-SM-AC...</td>\n",
       "      <td>sample1</td>\n",
       "    </tr>\n",
       "    <tr>\n",
       "      <th>AACGAGAGCTAAACCTAAGTGG</th>\n",
       "      <td>25.0</td>\n",
       "      <td>14.0</td>\n",
       "      <td>14.0</td>\n",
       "      <td>11.0</td>\n",
       "      <td>0.0</td>\n",
       "      <td>/home/rstudio/data/anndata/ENC-1JKYN-179-SM-AC...</td>\n",
       "      <td>sample1</td>\n",
       "    </tr>\n",
       "    <tr>\n",
       "      <th>AACGAGAGCTAAACGGATCAGT</th>\n",
       "      <td>33.0</td>\n",
       "      <td>25.0</td>\n",
       "      <td>25.0</td>\n",
       "      <td>14.0</td>\n",
       "      <td>1.0</td>\n",
       "      <td>/home/rstudio/data/anndata/ENC-1JKYN-179-SM-AC...</td>\n",
       "      <td>sample1</td>\n",
       "    </tr>\n",
       "    <tr>\n",
       "      <th>AACGAGAGCTAAACGTCCCGTT</th>\n",
       "      <td>37.0</td>\n",
       "      <td>34.0</td>\n",
       "      <td>33.0</td>\n",
       "      <td>20.0</td>\n",
       "      <td>0.0</td>\n",
       "      <td>/home/rstudio/data/anndata/ENC-1JKYN-179-SM-AC...</td>\n",
       "      <td>sample1</td>\n",
       "    </tr>\n",
       "    <tr>\n",
       "      <th>AACGAGAGCTAAACTAGCCCTA</th>\n",
       "      <td>58.0</td>\n",
       "      <td>50.0</td>\n",
       "      <td>50.0</td>\n",
       "      <td>34.0</td>\n",
       "      <td>1.0</td>\n",
       "      <td>/home/rstudio/data/anndata/ENC-1JKYN-179-SM-AC...</td>\n",
       "      <td>sample1</td>\n",
       "    </tr>\n",
       "    <tr>\n",
       "      <th>...</th>\n",
       "      <td>...</td>\n",
       "      <td>...</td>\n",
       "      <td>...</td>\n",
       "      <td>...</td>\n",
       "      <td>...</td>\n",
       "      <td>...</td>\n",
       "      <td>...</td>\n",
       "    </tr>\n",
       "    <tr>\n",
       "      <th>TTTGGCGCTTTTTCGCGTGTAA</th>\n",
       "      <td>49.0</td>\n",
       "      <td>24.0</td>\n",
       "      <td>24.0</td>\n",
       "      <td>19.0</td>\n",
       "      <td>0.0</td>\n",
       "      <td>/home/rstudio/data/anndata/ENC-1JKYN-179-SM-AC...</td>\n",
       "      <td>sample1</td>\n",
       "    </tr>\n",
       "    <tr>\n",
       "      <th>TTTGGCGCTTTTTCTGCAGACT</th>\n",
       "      <td>16.0</td>\n",
       "      <td>9.0</td>\n",
       "      <td>9.0</td>\n",
       "      <td>7.0</td>\n",
       "      <td>0.0</td>\n",
       "      <td>/home/rstudio/data/anndata/ENC-1JKYN-179-SM-AC...</td>\n",
       "      <td>sample1</td>\n",
       "    </tr>\n",
       "    <tr>\n",
       "      <th>TTTGGCGCTTTTTCTGGCGCAG</th>\n",
       "      <td>1607.0</td>\n",
       "      <td>1438.0</td>\n",
       "      <td>1435.0</td>\n",
       "      <td>754.0</td>\n",
       "      <td>70.0</td>\n",
       "      <td>/home/rstudio/data/anndata/ENC-1JKYN-179-SM-AC...</td>\n",
       "      <td>sample1</td>\n",
       "    </tr>\n",
       "    <tr>\n",
       "      <th>TTTGGCGCTTTTTGCCGGAAGG</th>\n",
       "      <td>14418.0</td>\n",
       "      <td>12956.0</td>\n",
       "      <td>12934.0</td>\n",
       "      <td>6868.0</td>\n",
       "      <td>348.0</td>\n",
       "      <td>/home/rstudio/data/anndata/ENC-1JKYN-179-SM-AC...</td>\n",
       "      <td>sample1</td>\n",
       "    </tr>\n",
       "    <tr>\n",
       "      <th>TTTGGCGCTTTTTGTGTTACCG</th>\n",
       "      <td>25.0</td>\n",
       "      <td>19.0</td>\n",
       "      <td>19.0</td>\n",
       "      <td>10.0</td>\n",
       "      <td>0.0</td>\n",
       "      <td>/home/rstudio/data/anndata/ENC-1JKYN-179-SM-AC...</td>\n",
       "      <td>sample1</td>\n",
       "    </tr>\n",
       "  </tbody>\n",
       "</table>\n",
       "<p>73623 rows × 7 columns</p>\n",
       "</div>"
      ],
      "text/plain": [
       "                             TN       UM       PP      UQ     CM  \\\n",
       "barcode                                                            \n",
       "AACGAGAGCTAAACCCGAGATA     36.0     26.0     26.0    17.0    1.0   \n",
       "AACGAGAGCTAAACCTAAGTGG     25.0     14.0     14.0    11.0    0.0   \n",
       "AACGAGAGCTAAACGGATCAGT     33.0     25.0     25.0    14.0    1.0   \n",
       "AACGAGAGCTAAACGTCCCGTT     37.0     34.0     33.0    20.0    0.0   \n",
       "AACGAGAGCTAAACTAGCCCTA     58.0     50.0     50.0    34.0    1.0   \n",
       "...                         ...      ...      ...     ...    ...   \n",
       "TTTGGCGCTTTTTCGCGTGTAA     49.0     24.0     24.0    19.0    0.0   \n",
       "TTTGGCGCTTTTTCTGCAGACT     16.0      9.0      9.0     7.0    0.0   \n",
       "TTTGGCGCTTTTTCTGGCGCAG   1607.0   1438.0   1435.0   754.0   70.0   \n",
       "TTTGGCGCTTTTTGCCGGAAGG  14418.0  12956.0  12934.0  6868.0  348.0   \n",
       "TTTGGCGCTTTTTGTGTTACCG     25.0     19.0     19.0    10.0    0.0   \n",
       "\n",
       "                                                                     file  \\\n",
       "barcode                                                                     \n",
       "AACGAGAGCTAAACCCGAGATA  /home/rstudio/data/anndata/ENC-1JKYN-179-SM-AC...   \n",
       "AACGAGAGCTAAACCTAAGTGG  /home/rstudio/data/anndata/ENC-1JKYN-179-SM-AC...   \n",
       "AACGAGAGCTAAACGGATCAGT  /home/rstudio/data/anndata/ENC-1JKYN-179-SM-AC...   \n",
       "AACGAGAGCTAAACGTCCCGTT  /home/rstudio/data/anndata/ENC-1JKYN-179-SM-AC...   \n",
       "AACGAGAGCTAAACTAGCCCTA  /home/rstudio/data/anndata/ENC-1JKYN-179-SM-AC...   \n",
       "...                                                                   ...   \n",
       "TTTGGCGCTTTTTCGCGTGTAA  /home/rstudio/data/anndata/ENC-1JKYN-179-SM-AC...   \n",
       "TTTGGCGCTTTTTCTGCAGACT  /home/rstudio/data/anndata/ENC-1JKYN-179-SM-AC...   \n",
       "TTTGGCGCTTTTTCTGGCGCAG  /home/rstudio/data/anndata/ENC-1JKYN-179-SM-AC...   \n",
       "TTTGGCGCTTTTTGCCGGAAGG  /home/rstudio/data/anndata/ENC-1JKYN-179-SM-AC...   \n",
       "TTTGGCGCTTTTTGTGTTACCG  /home/rstudio/data/anndata/ENC-1JKYN-179-SM-AC...   \n",
       "\n",
       "                         sample  \n",
       "barcode                          \n",
       "AACGAGAGCTAAACCCGAGATA  sample1  \n",
       "AACGAGAGCTAAACCTAAGTGG  sample1  \n",
       "AACGAGAGCTAAACGGATCAGT  sample1  \n",
       "AACGAGAGCTAAACGTCCCGTT  sample1  \n",
       "AACGAGAGCTAAACTAGCCCTA  sample1  \n",
       "...                         ...  \n",
       "TTTGGCGCTTTTTCGCGTGTAA  sample1  \n",
       "TTTGGCGCTTTTTCTGCAGACT  sample1  \n",
       "TTTGGCGCTTTTTCTGGCGCAG  sample1  \n",
       "TTTGGCGCTTTTTGCCGGAAGG  sample1  \n",
       "TTTGGCGCTTTTTGTGTTACCG  sample1  \n",
       "\n",
       "[73623 rows x 7 columns]"
      ]
     },
     "metadata": {},
     "output_type": "display_data"
    }
   ],
   "source": [
    "display(adata.obs)"
   ]
  },
  {
   "cell_type": "markdown",
   "id": "3405de5d",
   "metadata": {
    "pycharm": {
     "name": "#%% md\n"
    }
   },
   "source": [
    "## Calculate missing columns"
   ]
  },
  {
   "cell_type": "markdown",
   "id": "e5d66924",
   "metadata": {},
   "source": [
    "### 1. calculate scanpy qc_metrics (n_features)"
   ]
  },
  {
   "cell_type": "code",
   "execution_count": 19,
   "id": "d36a2d65",
   "metadata": {},
   "outputs": [
    {
     "data": {
      "text/html": [
       "<div>\n",
       "<style scoped>\n",
       "    .dataframe tbody tr th:only-of-type {\n",
       "        vertical-align: middle;\n",
       "    }\n",
       "\n",
       "    .dataframe tbody tr th {\n",
       "        vertical-align: top;\n",
       "    }\n",
       "\n",
       "    .dataframe thead th {\n",
       "        text-align: right;\n",
       "    }\n",
       "</style>\n",
       "<table border=\"1\" class=\"dataframe\">\n",
       "  <thead>\n",
       "    <tr style=\"text-align: right;\">\n",
       "      <th></th>\n",
       "      <th>TN</th>\n",
       "      <th>UM</th>\n",
       "      <th>PP</th>\n",
       "      <th>UQ</th>\n",
       "      <th>CM</th>\n",
       "      <th>file</th>\n",
       "      <th>sample</th>\n",
       "      <th>n_features_by_counts</th>\n",
       "      <th>log1p_n_features_by_counts</th>\n",
       "      <th>total_counts</th>\n",
       "      <th>log1p_total_counts</th>\n",
       "    </tr>\n",
       "    <tr>\n",
       "      <th>barcode</th>\n",
       "      <th></th>\n",
       "      <th></th>\n",
       "      <th></th>\n",
       "      <th></th>\n",
       "      <th></th>\n",
       "      <th></th>\n",
       "      <th></th>\n",
       "      <th></th>\n",
       "      <th></th>\n",
       "      <th></th>\n",
       "      <th></th>\n",
       "    </tr>\n",
       "  </thead>\n",
       "  <tbody>\n",
       "    <tr>\n",
       "      <th>AACGAGAGCTAAACCCGAGATA</th>\n",
       "      <td>36.0</td>\n",
       "      <td>26.0</td>\n",
       "      <td>26.0</td>\n",
       "      <td>17.0</td>\n",
       "      <td>1.0</td>\n",
       "      <td>/home/rstudio/data/anndata/ENC-1JKYN-179-SM-AC...</td>\n",
       "      <td>sample1</td>\n",
       "      <td>4</td>\n",
       "      <td>1.609438</td>\n",
       "      <td>4.0</td>\n",
       "      <td>1.609438</td>\n",
       "    </tr>\n",
       "    <tr>\n",
       "      <th>AACGAGAGCTAAACCTAAGTGG</th>\n",
       "      <td>25.0</td>\n",
       "      <td>14.0</td>\n",
       "      <td>14.0</td>\n",
       "      <td>11.0</td>\n",
       "      <td>0.0</td>\n",
       "      <td>/home/rstudio/data/anndata/ENC-1JKYN-179-SM-AC...</td>\n",
       "      <td>sample1</td>\n",
       "      <td>2</td>\n",
       "      <td>1.098612</td>\n",
       "      <td>2.0</td>\n",
       "      <td>1.098612</td>\n",
       "    </tr>\n",
       "    <tr>\n",
       "      <th>AACGAGAGCTAAACGGATCAGT</th>\n",
       "      <td>33.0</td>\n",
       "      <td>25.0</td>\n",
       "      <td>25.0</td>\n",
       "      <td>14.0</td>\n",
       "      <td>1.0</td>\n",
       "      <td>/home/rstudio/data/anndata/ENC-1JKYN-179-SM-AC...</td>\n",
       "      <td>sample1</td>\n",
       "      <td>0</td>\n",
       "      <td>0.000000</td>\n",
       "      <td>0.0</td>\n",
       "      <td>0.000000</td>\n",
       "    </tr>\n",
       "    <tr>\n",
       "      <th>AACGAGAGCTAAACGTCCCGTT</th>\n",
       "      <td>37.0</td>\n",
       "      <td>34.0</td>\n",
       "      <td>33.0</td>\n",
       "      <td>20.0</td>\n",
       "      <td>0.0</td>\n",
       "      <td>/home/rstudio/data/anndata/ENC-1JKYN-179-SM-AC...</td>\n",
       "      <td>sample1</td>\n",
       "      <td>1</td>\n",
       "      <td>0.693147</td>\n",
       "      <td>1.0</td>\n",
       "      <td>0.693147</td>\n",
       "    </tr>\n",
       "    <tr>\n",
       "      <th>AACGAGAGCTAAACTAGCCCTA</th>\n",
       "      <td>58.0</td>\n",
       "      <td>50.0</td>\n",
       "      <td>50.0</td>\n",
       "      <td>34.0</td>\n",
       "      <td>1.0</td>\n",
       "      <td>/home/rstudio/data/anndata/ENC-1JKYN-179-SM-AC...</td>\n",
       "      <td>sample1</td>\n",
       "      <td>0</td>\n",
       "      <td>0.000000</td>\n",
       "      <td>0.0</td>\n",
       "      <td>0.000000</td>\n",
       "    </tr>\n",
       "    <tr>\n",
       "      <th>...</th>\n",
       "      <td>...</td>\n",
       "      <td>...</td>\n",
       "      <td>...</td>\n",
       "      <td>...</td>\n",
       "      <td>...</td>\n",
       "      <td>...</td>\n",
       "      <td>...</td>\n",
       "      <td>...</td>\n",
       "      <td>...</td>\n",
       "      <td>...</td>\n",
       "      <td>...</td>\n",
       "    </tr>\n",
       "    <tr>\n",
       "      <th>TTTGGCGCTTTTTCGCGTGTAA</th>\n",
       "      <td>49.0</td>\n",
       "      <td>24.0</td>\n",
       "      <td>24.0</td>\n",
       "      <td>19.0</td>\n",
       "      <td>0.0</td>\n",
       "      <td>/home/rstudio/data/anndata/ENC-1JKYN-179-SM-AC...</td>\n",
       "      <td>sample1</td>\n",
       "      <td>0</td>\n",
       "      <td>0.000000</td>\n",
       "      <td>0.0</td>\n",
       "      <td>0.000000</td>\n",
       "    </tr>\n",
       "    <tr>\n",
       "      <th>TTTGGCGCTTTTTCTGCAGACT</th>\n",
       "      <td>16.0</td>\n",
       "      <td>9.0</td>\n",
       "      <td>9.0</td>\n",
       "      <td>7.0</td>\n",
       "      <td>0.0</td>\n",
       "      <td>/home/rstudio/data/anndata/ENC-1JKYN-179-SM-AC...</td>\n",
       "      <td>sample1</td>\n",
       "      <td>1</td>\n",
       "      <td>0.693147</td>\n",
       "      <td>1.0</td>\n",
       "      <td>0.693147</td>\n",
       "    </tr>\n",
       "    <tr>\n",
       "      <th>TTTGGCGCTTTTTCTGGCGCAG</th>\n",
       "      <td>1607.0</td>\n",
       "      <td>1438.0</td>\n",
       "      <td>1435.0</td>\n",
       "      <td>754.0</td>\n",
       "      <td>70.0</td>\n",
       "      <td>/home/rstudio/data/anndata/ENC-1JKYN-179-SM-AC...</td>\n",
       "      <td>sample1</td>\n",
       "      <td>89</td>\n",
       "      <td>4.499810</td>\n",
       "      <td>130.0</td>\n",
       "      <td>4.875197</td>\n",
       "    </tr>\n",
       "    <tr>\n",
       "      <th>TTTGGCGCTTTTTGCCGGAAGG</th>\n",
       "      <td>14418.0</td>\n",
       "      <td>12956.0</td>\n",
       "      <td>12934.0</td>\n",
       "      <td>6868.0</td>\n",
       "      <td>348.0</td>\n",
       "      <td>/home/rstudio/data/anndata/ENC-1JKYN-179-SM-AC...</td>\n",
       "      <td>sample1</td>\n",
       "      <td>386</td>\n",
       "      <td>5.958425</td>\n",
       "      <td>541.0</td>\n",
       "      <td>6.295266</td>\n",
       "    </tr>\n",
       "    <tr>\n",
       "      <th>TTTGGCGCTTTTTGTGTTACCG</th>\n",
       "      <td>25.0</td>\n",
       "      <td>19.0</td>\n",
       "      <td>19.0</td>\n",
       "      <td>10.0</td>\n",
       "      <td>0.0</td>\n",
       "      <td>/home/rstudio/data/anndata/ENC-1JKYN-179-SM-AC...</td>\n",
       "      <td>sample1</td>\n",
       "      <td>1</td>\n",
       "      <td>0.693147</td>\n",
       "      <td>1.0</td>\n",
       "      <td>0.693147</td>\n",
       "    </tr>\n",
       "  </tbody>\n",
       "</table>\n",
       "<p>73623 rows × 11 columns</p>\n",
       "</div>"
      ],
      "text/plain": [
       "                             TN       UM       PP      UQ     CM  \\\n",
       "barcode                                                            \n",
       "AACGAGAGCTAAACCCGAGATA     36.0     26.0     26.0    17.0    1.0   \n",
       "AACGAGAGCTAAACCTAAGTGG     25.0     14.0     14.0    11.0    0.0   \n",
       "AACGAGAGCTAAACGGATCAGT     33.0     25.0     25.0    14.0    1.0   \n",
       "AACGAGAGCTAAACGTCCCGTT     37.0     34.0     33.0    20.0    0.0   \n",
       "AACGAGAGCTAAACTAGCCCTA     58.0     50.0     50.0    34.0    1.0   \n",
       "...                         ...      ...      ...     ...    ...   \n",
       "TTTGGCGCTTTTTCGCGTGTAA     49.0     24.0     24.0    19.0    0.0   \n",
       "TTTGGCGCTTTTTCTGCAGACT     16.0      9.0      9.0     7.0    0.0   \n",
       "TTTGGCGCTTTTTCTGGCGCAG   1607.0   1438.0   1435.0   754.0   70.0   \n",
       "TTTGGCGCTTTTTGCCGGAAGG  14418.0  12956.0  12934.0  6868.0  348.0   \n",
       "TTTGGCGCTTTTTGTGTTACCG     25.0     19.0     19.0    10.0    0.0   \n",
       "\n",
       "                                                                     file  \\\n",
       "barcode                                                                     \n",
       "AACGAGAGCTAAACCCGAGATA  /home/rstudio/data/anndata/ENC-1JKYN-179-SM-AC...   \n",
       "AACGAGAGCTAAACCTAAGTGG  /home/rstudio/data/anndata/ENC-1JKYN-179-SM-AC...   \n",
       "AACGAGAGCTAAACGGATCAGT  /home/rstudio/data/anndata/ENC-1JKYN-179-SM-AC...   \n",
       "AACGAGAGCTAAACGTCCCGTT  /home/rstudio/data/anndata/ENC-1JKYN-179-SM-AC...   \n",
       "AACGAGAGCTAAACTAGCCCTA  /home/rstudio/data/anndata/ENC-1JKYN-179-SM-AC...   \n",
       "...                                                                   ...   \n",
       "TTTGGCGCTTTTTCGCGTGTAA  /home/rstudio/data/anndata/ENC-1JKYN-179-SM-AC...   \n",
       "TTTGGCGCTTTTTCTGCAGACT  /home/rstudio/data/anndata/ENC-1JKYN-179-SM-AC...   \n",
       "TTTGGCGCTTTTTCTGGCGCAG  /home/rstudio/data/anndata/ENC-1JKYN-179-SM-AC...   \n",
       "TTTGGCGCTTTTTGCCGGAAGG  /home/rstudio/data/anndata/ENC-1JKYN-179-SM-AC...   \n",
       "TTTGGCGCTTTTTGTGTTACCG  /home/rstudio/data/anndata/ENC-1JKYN-179-SM-AC...   \n",
       "\n",
       "                         sample  n_features_by_counts  \\\n",
       "barcode                                                 \n",
       "AACGAGAGCTAAACCCGAGATA  sample1                     4   \n",
       "AACGAGAGCTAAACCTAAGTGG  sample1                     2   \n",
       "AACGAGAGCTAAACGGATCAGT  sample1                     0   \n",
       "AACGAGAGCTAAACGTCCCGTT  sample1                     1   \n",
       "AACGAGAGCTAAACTAGCCCTA  sample1                     0   \n",
       "...                         ...                   ...   \n",
       "TTTGGCGCTTTTTCGCGTGTAA  sample1                     0   \n",
       "TTTGGCGCTTTTTCTGCAGACT  sample1                     1   \n",
       "TTTGGCGCTTTTTCTGGCGCAG  sample1                    89   \n",
       "TTTGGCGCTTTTTGCCGGAAGG  sample1                   386   \n",
       "TTTGGCGCTTTTTGTGTTACCG  sample1                     1   \n",
       "\n",
       "                        log1p_n_features_by_counts  total_counts  \\\n",
       "barcode                                                            \n",
       "AACGAGAGCTAAACCCGAGATA                    1.609438           4.0   \n",
       "AACGAGAGCTAAACCTAAGTGG                    1.098612           2.0   \n",
       "AACGAGAGCTAAACGGATCAGT                    0.000000           0.0   \n",
       "AACGAGAGCTAAACGTCCCGTT                    0.693147           1.0   \n",
       "AACGAGAGCTAAACTAGCCCTA                    0.000000           0.0   \n",
       "...                                            ...           ...   \n",
       "TTTGGCGCTTTTTCGCGTGTAA                    0.000000           0.0   \n",
       "TTTGGCGCTTTTTCTGCAGACT                    0.693147           1.0   \n",
       "TTTGGCGCTTTTTCTGGCGCAG                    4.499810         130.0   \n",
       "TTTGGCGCTTTTTGCCGGAAGG                    5.958425         541.0   \n",
       "TTTGGCGCTTTTTGTGTTACCG                    0.693147           1.0   \n",
       "\n",
       "                        log1p_total_counts  \n",
       "barcode                                     \n",
       "AACGAGAGCTAAACCCGAGATA            1.609438  \n",
       "AACGAGAGCTAAACCTAAGTGG            1.098612  \n",
       "AACGAGAGCTAAACGGATCAGT            0.000000  \n",
       "AACGAGAGCTAAACGTCCCGTT            0.693147  \n",
       "AACGAGAGCTAAACTAGCCCTA            0.000000  \n",
       "...                                    ...  \n",
       "TTTGGCGCTTTTTCGCGTGTAA            0.000000  \n",
       "TTTGGCGCTTTTTCTGCAGACT            0.693147  \n",
       "TTTGGCGCTTTTTCTGGCGCAG            4.875197  \n",
       "TTTGGCGCTTTTTGCCGGAAGG            6.295266  \n",
       "TTTGGCGCTTTTTGTGTTACCG            0.693147  \n",
       "\n",
       "[73623 rows x 11 columns]"
      ]
     },
     "execution_count": 19,
     "metadata": {},
     "output_type": "execute_result"
    }
   ],
   "source": [
    "if qc_columns['n_features_by_counts'] is None or qc_columns['log1p_n_features_by_counts'] is None:\n",
    "    adata = analyser.calculate_qc_metrics(adata, var_type='features')\n",
    "    \n",
    "    qc_columns['n_features_by_counts'] = 'n_features_by_counts'\n",
    "    qc_columns['log1p_n_features_by_counts'] = 'log1p_n_features_by_counts'\n",
    "    qc_columns['total_counts'] = 'total_counts'\n",
    "    qc_columns['log1p_total_counts'] = 'log1p_total_counts'\n",
    "    \n",
    "    build_legend(adata, 'n_features_by_counts', 'n_features_by_counts')\n",
    "    build_legend(adata, 'log1p_n_features_by_counts', 'log1p_n_features_by_counts')\n",
    "    build_legend(adata, 'total_counts', 'total_counts')\n",
    "    build_legend(adata, 'log1p_total_counts', 'log1p_total_counts')\n",
    "\n",
    "adata.obs"
   ]
  },
  {
   "cell_type": "markdown",
   "id": "a26513bb",
   "metadata": {
    "pycharm": {
     "name": "#%% md\n"
    }
   },
   "source": [
    "### 2. calc mean insertsize and count if missing "
   ]
  },
  {
   "cell_type": "code",
   "execution_count": 20,
   "id": "c414cbec",
   "metadata": {},
   "outputs": [
    {
     "name": "stdout",
     "output_type": "stream",
     "text": [
      "Counting fragment lengths from fragments file...\n",
      "Done reading file - elapsed time: 0:01:39\n",
      "Converting counts to dataframe...\n"
     ]
    },
    {
     "ename": "KeyError",
     "evalue": "\"None of [Index(['insertsize_count', 'mean_insertsize'], dtype='object')] are in the [columns]\"",
     "output_type": "error",
     "traceback": [
      "\u001b[0;31m---------------------------------------------------------------------------\u001b[0m",
      "\u001b[0;31mKeyError\u001b[0m                                  Traceback (most recent call last)",
      "Cell \u001b[0;32mIn [20], line 2\u001b[0m\n\u001b[1;32m      1\u001b[0m \u001b[38;5;28;01mif\u001b[39;00m qc_columns[\u001b[38;5;124m'\u001b[39m\u001b[38;5;124mmean_insertsize\u001b[39m\u001b[38;5;124m'\u001b[39m] \u001b[38;5;129;01mis\u001b[39;00m \u001b[38;5;28;01mNone\u001b[39;00m \u001b[38;5;129;01mor\u001b[39;00m qc_columns[\u001b[38;5;124m'\u001b[39m\u001b[38;5;124minsertsize_count\u001b[39m\u001b[38;5;124m'\u001b[39m] \u001b[38;5;129;01mis\u001b[39;00m \u001b[38;5;28;01mNone\u001b[39;00m:\n\u001b[0;32m----> 2\u001b[0m     \u001b[43matac\u001b[49m\u001b[38;5;241;43m.\u001b[39;49m\u001b[43madd_insertsize\u001b[49m\u001b[43m(\u001b[49m\u001b[43madata\u001b[49m\u001b[43m,\u001b[49m\u001b[43m \u001b[49m\u001b[43mfragments\u001b[49m\u001b[38;5;241;43m=\u001b[39;49m\u001b[43mfragments_file\u001b[49m\u001b[43m)\u001b[49m \u001b[38;5;66;03m# or use bam=bam_file instead of fragments\u001b[39;00m\n\u001b[1;32m      4\u001b[0m     \u001b[38;5;66;03m# update column dictionary\u001b[39;00m\n\u001b[1;32m      5\u001b[0m     qc_columns[\u001b[38;5;124m'\u001b[39m\u001b[38;5;124mmean_insertsize\u001b[39m\u001b[38;5;124m'\u001b[39m] \u001b[38;5;241m=\u001b[39m \u001b[38;5;124m'\u001b[39m\u001b[38;5;124mmean_insertsize\u001b[39m\u001b[38;5;124m'\u001b[39m\n",
      "File \u001b[0;32m/usr/local/lib/python3.8/dist-packages/sctoolbox/atac.py:335\u001b[0m, in \u001b[0;36madd_insertsize\u001b[0;34m(adata, bam, fragments, barcode_col, barcode_tag, regions)\u001b[0m\n\u001b[1;32m    332\u001b[0m     table \u001b[38;5;241m=\u001b[39m insertsize_from_bam(bam, barcode_tag\u001b[38;5;241m=\u001b[39mbarcode_tag, regions\u001b[38;5;241m=\u001b[39mregions, barcodes\u001b[38;5;241m=\u001b[39madata_barcodes)\n\u001b[1;32m    334\u001b[0m \u001b[38;5;28;01melif\u001b[39;00m fragments \u001b[38;5;129;01mis\u001b[39;00m \u001b[38;5;129;01mnot\u001b[39;00m \u001b[38;5;28;01mNone\u001b[39;00m:\n\u001b[0;32m--> 335\u001b[0m     table \u001b[38;5;241m=\u001b[39m \u001b[43minsertsize_from_fragments\u001b[49m\u001b[43m(\u001b[49m\u001b[43mfragments\u001b[49m\u001b[43m,\u001b[49m\u001b[43m \u001b[49m\u001b[43mbarcodes\u001b[49m\u001b[38;5;241;43m=\u001b[39;49m\u001b[43madata_barcodes\u001b[49m\u001b[43m)\u001b[49m\n\u001b[1;32m    337\u001b[0m \u001b[38;5;28;01melse\u001b[39;00m:\n\u001b[1;32m    338\u001b[0m     \u001b[38;5;28;01mraise\u001b[39;00m \u001b[38;5;167;01mValueError\u001b[39;00m(\u001b[38;5;124m\"\u001b[39m\u001b[38;5;124mPlease provide either a bam file or a fragments file.\u001b[39m\u001b[38;5;124m\"\u001b[39m)\n",
      "File \u001b[0;32m/usr/local/lib/python3.8/dist-packages/sctoolbox/atac.py:549\u001b[0m, in \u001b[0;36minsertsize_from_fragments\u001b[0;34m(fragments, barcodes)\u001b[0m\n\u001b[1;32m    547\u001b[0m \u001b[38;5;28mprint\u001b[39m(\u001b[38;5;124m\"\u001b[39m\u001b[38;5;124mConverting counts to dataframe...\u001b[39m\u001b[38;5;124m\"\u001b[39m)\n\u001b[1;32m    548\u001b[0m table \u001b[38;5;241m=\u001b[39m pd\u001b[38;5;241m.\u001b[39mDataFrame\u001b[38;5;241m.\u001b[39mfrom_dict(count_dict, orient\u001b[38;5;241m=\u001b[39m\u001b[38;5;124m\"\u001b[39m\u001b[38;5;124mindex\u001b[39m\u001b[38;5;124m\"\u001b[39m)\n\u001b[0;32m--> 549\u001b[0m table \u001b[38;5;241m=\u001b[39m \u001b[43mtable\u001b[49m\u001b[43m[\u001b[49m\u001b[43m[\u001b[49m\u001b[38;5;124;43m\"\u001b[39;49m\u001b[38;5;124;43minsertsize_count\u001b[39;49m\u001b[38;5;124;43m\"\u001b[39;49m\u001b[43m,\u001b[49m\u001b[43m \u001b[49m\u001b[38;5;124;43m\"\u001b[39;49m\u001b[38;5;124;43mmean_insertsize\u001b[39;49m\u001b[38;5;124;43m\"\u001b[39;49m\u001b[43m]\u001b[49m\u001b[43m \u001b[49m\u001b[38;5;241;43m+\u001b[39;49m\u001b[43m \u001b[49m\u001b[38;5;28;43msorted\u001b[39;49m\u001b[43m(\u001b[49m\u001b[43mtable\u001b[49m\u001b[38;5;241;43m.\u001b[39;49m\u001b[43mcolumns\u001b[49m\u001b[43m[\u001b[49m\u001b[38;5;241;43m2\u001b[39;49m\u001b[43m:\u001b[49m\u001b[43m]\u001b[49m\u001b[43m)\u001b[49m\u001b[43m]\u001b[49m\n\u001b[1;32m    550\u001b[0m table[\u001b[38;5;124m\"\u001b[39m\u001b[38;5;124mmean_insertsize\u001b[39m\u001b[38;5;124m\"\u001b[39m] \u001b[38;5;241m=\u001b[39m table[\u001b[38;5;124m\"\u001b[39m\u001b[38;5;124mmean_insertsize\u001b[39m\u001b[38;5;124m\"\u001b[39m]\u001b[38;5;241m.\u001b[39mround(\u001b[38;5;241m2\u001b[39m)\n\u001b[1;32m    552\u001b[0m \u001b[38;5;28mprint\u001b[39m(\u001b[38;5;124m\"\u001b[39m\u001b[38;5;124mDone getting insertsizes from fragments!\u001b[39m\u001b[38;5;124m\"\u001b[39m)\n",
      "File \u001b[0;32m/usr/local/lib/python3.8/dist-packages/pandas/core/frame.py:3810\u001b[0m, in \u001b[0;36mDataFrame.__getitem__\u001b[0;34m(self, key)\u001b[0m\n\u001b[1;32m   3808\u001b[0m     \u001b[38;5;28;01mif\u001b[39;00m is_iterator(key):\n\u001b[1;32m   3809\u001b[0m         key \u001b[38;5;241m=\u001b[39m \u001b[38;5;28mlist\u001b[39m(key)\n\u001b[0;32m-> 3810\u001b[0m     indexer \u001b[38;5;241m=\u001b[39m \u001b[38;5;28;43mself\u001b[39;49m\u001b[38;5;241;43m.\u001b[39;49m\u001b[43mcolumns\u001b[49m\u001b[38;5;241;43m.\u001b[39;49m\u001b[43m_get_indexer_strict\u001b[49m\u001b[43m(\u001b[49m\u001b[43mkey\u001b[49m\u001b[43m,\u001b[49m\u001b[43m \u001b[49m\u001b[38;5;124;43m\"\u001b[39;49m\u001b[38;5;124;43mcolumns\u001b[39;49m\u001b[38;5;124;43m\"\u001b[39;49m\u001b[43m)\u001b[49m[\u001b[38;5;241m1\u001b[39m]\n\u001b[1;32m   3812\u001b[0m \u001b[38;5;66;03m# take() does not accept boolean indexers\u001b[39;00m\n\u001b[1;32m   3813\u001b[0m \u001b[38;5;28;01mif\u001b[39;00m \u001b[38;5;28mgetattr\u001b[39m(indexer, \u001b[38;5;124m\"\u001b[39m\u001b[38;5;124mdtype\u001b[39m\u001b[38;5;124m\"\u001b[39m, \u001b[38;5;28;01mNone\u001b[39;00m) \u001b[38;5;241m==\u001b[39m \u001b[38;5;28mbool\u001b[39m:\n",
      "File \u001b[0;32m/usr/local/lib/python3.8/dist-packages/pandas/core/indexes/base.py:6111\u001b[0m, in \u001b[0;36mIndex._get_indexer_strict\u001b[0;34m(self, key, axis_name)\u001b[0m\n\u001b[1;32m   6108\u001b[0m \u001b[38;5;28;01melse\u001b[39;00m:\n\u001b[1;32m   6109\u001b[0m     keyarr, indexer, new_indexer \u001b[38;5;241m=\u001b[39m \u001b[38;5;28mself\u001b[39m\u001b[38;5;241m.\u001b[39m_reindex_non_unique(keyarr)\n\u001b[0;32m-> 6111\u001b[0m \u001b[38;5;28;43mself\u001b[39;49m\u001b[38;5;241;43m.\u001b[39;49m\u001b[43m_raise_if_missing\u001b[49m\u001b[43m(\u001b[49m\u001b[43mkeyarr\u001b[49m\u001b[43m,\u001b[49m\u001b[43m \u001b[49m\u001b[43mindexer\u001b[49m\u001b[43m,\u001b[49m\u001b[43m \u001b[49m\u001b[43maxis_name\u001b[49m\u001b[43m)\u001b[49m\n\u001b[1;32m   6113\u001b[0m keyarr \u001b[38;5;241m=\u001b[39m \u001b[38;5;28mself\u001b[39m\u001b[38;5;241m.\u001b[39mtake(indexer)\n\u001b[1;32m   6114\u001b[0m \u001b[38;5;28;01mif\u001b[39;00m \u001b[38;5;28misinstance\u001b[39m(key, Index):\n\u001b[1;32m   6115\u001b[0m     \u001b[38;5;66;03m# GH 42790 - Preserve name from an Index\u001b[39;00m\n",
      "File \u001b[0;32m/usr/local/lib/python3.8/dist-packages/pandas/core/indexes/base.py:6171\u001b[0m, in \u001b[0;36mIndex._raise_if_missing\u001b[0;34m(self, key, indexer, axis_name)\u001b[0m\n\u001b[1;32m   6169\u001b[0m     \u001b[38;5;28;01mif\u001b[39;00m use_interval_msg:\n\u001b[1;32m   6170\u001b[0m         key \u001b[38;5;241m=\u001b[39m \u001b[38;5;28mlist\u001b[39m(key)\n\u001b[0;32m-> 6171\u001b[0m     \u001b[38;5;28;01mraise\u001b[39;00m \u001b[38;5;167;01mKeyError\u001b[39;00m(\u001b[38;5;124mf\u001b[39m\u001b[38;5;124m\"\u001b[39m\u001b[38;5;124mNone of [\u001b[39m\u001b[38;5;132;01m{\u001b[39;00mkey\u001b[38;5;132;01m}\u001b[39;00m\u001b[38;5;124m] are in the [\u001b[39m\u001b[38;5;132;01m{\u001b[39;00maxis_name\u001b[38;5;132;01m}\u001b[39;00m\u001b[38;5;124m]\u001b[39m\u001b[38;5;124m\"\u001b[39m)\n\u001b[1;32m   6173\u001b[0m not_found \u001b[38;5;241m=\u001b[39m \u001b[38;5;28mlist\u001b[39m(ensure_index(key)[missing_mask\u001b[38;5;241m.\u001b[39mnonzero()[\u001b[38;5;241m0\u001b[39m]]\u001b[38;5;241m.\u001b[39munique())\n\u001b[1;32m   6174\u001b[0m \u001b[38;5;28;01mraise\u001b[39;00m \u001b[38;5;167;01mKeyError\u001b[39;00m(\u001b[38;5;124mf\u001b[39m\u001b[38;5;124m\"\u001b[39m\u001b[38;5;132;01m{\u001b[39;00mnot_found\u001b[38;5;132;01m}\u001b[39;00m\u001b[38;5;124m not in index\u001b[39m\u001b[38;5;124m\"\u001b[39m)\n",
      "\u001b[0;31mKeyError\u001b[0m: \"None of [Index(['insertsize_count', 'mean_insertsize'], dtype='object')] are in the [columns]\""
     ]
    }
   ],
   "source": [
    "if qc_columns['mean_insertsize'] is None or qc_columns['insertsize_count'] is None:\n",
    "    atac.add_insertsize(adata, fragments=fragments_file) # or use bam=bam_file instead of fragments\n",
    "    \n",
    "    # update column dictionary\n",
    "    qc_columns['mean_insertsize'] = 'mean_insertsize'\n",
    "    qc_columns['insertsize_count'] = 'insertsize_count'\n",
    "    \n",
    "    # update infoprocess table\n",
    "    build_legend(adata, 'mean_insertsize', 'mean_insertsize')\n",
    "    build_legend(adata, 'insertsize_count', 'insertsize_count')\n",
    "    \n",
    "adata.obs"
   ]
  },
  {
   "cell_type": "code",
   "execution_count": null,
   "id": "43ab288f",
   "metadata": {},
   "outputs": [],
   "source": [
    "atac.plot_insertsize(adata, barcodes=None)"
   ]
  },
  {
   "cell_type": "markdown",
   "id": "5a1bfbd4",
   "metadata": {
    "pycharm": {
     "name": "#%% md\n"
    }
   },
   "source": [
    "### 3. promotor enrichment "
   ]
  },
  {
   "cell_type": "code",
   "execution_count": null,
   "id": "bee812e1",
   "metadata": {
    "pycharm": {
     "name": "#%%\n"
    }
   },
   "outputs": [],
   "source": [
    "if qc_columns['n_fragments_in_promoters'] is None:\n",
    "    overlap.pct_fragments_in_promoters(adata, gtf_file=promoters_gtf, species=species, bam_file=bam_file, cb_col=None, nproc=1)\n",
    "    \n",
    "    # n_total_fragments, n_fragments_in_promoters, pct_fragments_in_promoters\n",
    "    # update column dictionary\n",
    "    qc_columns['n_total_fragments'] = 'n_total_fragments'\n",
    "    qc_columns['n_fragments_in_promoters'] = 'n_fragments_in_promoters'\n",
    "    qc_columns['pct_fragments_in_promoters'] = 'pct_fragments_in_promoters'\n",
    "    # update infoprocess table\n",
    "    build_legend(adata, 'n_total_fragments', 'n_total_fragments')\n",
    "    build_legend(adata, 'n_fragments_in_promoters', 'n_fragments_in_promoters')\n",
    "    build_legend(adata, 'pct_fragments_in_promoters', 'pct_fragments_in_promoters')\n",
    "    "
   ]
  },
  {
   "cell_type": "markdown",
   "id": "4451f816",
   "metadata": {
    "pycharm": {
     "name": "#%% md\n"
    }
   },
   "source": [
    "## Inspect adata.obs"
   ]
  },
  {
   "cell_type": "code",
   "execution_count": null,
   "id": "e0b1e1d1",
   "metadata": {
    "pycharm": {
     "name": "#%%\n"
    }
   },
   "outputs": [],
   "source": [
    "adata.obs"
   ]
  },
  {
   "cell_type": "markdown",
   "id": "dae390c8",
   "metadata": {
    "pycharm": {
     "name": "#%% md\n"
    }
   },
   "source": [
    "## Save adata to .h5ad"
   ]
  },
  {
   "cell_type": "code",
   "execution_count": null,
   "id": "85e8cf07",
   "metadata": {
    "pycharm": {
     "name": "#%%\n"
    }
   },
   "outputs": [],
   "source": [
    "adata_output = tree.assembled_anndata\n",
    "adata_output"
   ]
  },
  {
   "cell_type": "code",
   "execution_count": null,
   "id": "33800239",
   "metadata": {
    "pycharm": {
     "name": "#%%\n"
    }
   },
   "outputs": [],
   "source": [
    "#Saving the data\n",
    "cr.build_infor(adata, \"Test_number\", test)\n",
    "cr.build_infor(adata, \"Anndata_path\", output_dir)\n",
    "\n",
    "adata_output = tree.assembled_anndata\n",
    "adata.write(filename=adata_output)"
   ]
  },
  {
   "cell_type": "code",
   "execution_count": null,
   "id": "c9437c45",
   "metadata": {},
   "outputs": [],
   "source": []
  }
 ],
 "metadata": {
  "kernelspec": {
   "display_name": "Python 3 (ipykernel)",
   "language": "python",
   "name": "python3"
  },
  "language_info": {
   "codemirror_mode": {
    "name": "ipython",
    "version": 3
   },
   "file_extension": ".py",
   "mimetype": "text/x-python",
   "name": "python",
   "nbconvert_exporter": "python",
   "pygments_lexer": "ipython3",
   "version": "3.8.10"
  }
 },
 "nbformat": 4,
 "nbformat_minor": 5
}
