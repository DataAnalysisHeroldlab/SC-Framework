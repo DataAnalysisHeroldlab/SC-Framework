{
 "cells": [
  {
   "cell_type": "markdown",
   "id": "bf52b2e2",
   "metadata": {},
   "source": [
    "# Assembling\n",
    "\n",
    "This notebook is used to assemble a processable h5ad object for subsequent notebooks."
   ]
  },
  {
   "cell_type": "markdown",
   "id": "c9e8b8fd",
   "metadata": {},
   "source": [
    "## Fill in input data, output and settings"
   ]
  },
  {
   "cell_type": "code",
   "execution_count": 1,
   "id": "0cee5cae",
   "metadata": {},
   "outputs": [],
   "source": [
    "####################### TEST NAME ###################################\n",
    "test = 'Aorta'\n",
    "################### DEFINING STRATEGY ###############################\n",
    "from_h5ad = True #option 1\n",
    "assembling_10_velocity = False #option 2\n",
    "assembling_10_public = False #option 3\n",
    "convert_seurat = False #option 4\n",
    "\n",
    "###################### INPUT DATA ###################################\n",
    "\n",
    "#For option 1: The path to an existing .h5ad file\n",
    "h5ad_path = '/home/rstudio/data/anndata/ENC-1JKYN-146-SM-A8CPH_snATAC_esophagus_muscularis_mucosa_Rep1.h5ad'\n",
    "\n",
    "##################### OUTPUT DATA ###################################\n",
    "output_dir = '/home/rstudio/processed_data'"
   ]
  },
  {
   "cell_type": "markdown",
   "id": "757771b4",
   "metadata": {},
   "source": [
    "## Import modules"
   ]
  },
  {
   "cell_type": "code",
   "execution_count": 2,
   "id": "41fe2538",
   "metadata": {},
   "outputs": [],
   "source": [
    "# sctoolbox modules \n",
    "import sctoolbox.atac_tree as sub_tree\n",
    "import sctoolbox.creators as cr\n",
    "# import episcanpy\n",
    "import episcanpy as epi"
   ]
  },
  {
   "cell_type": "markdown",
   "id": "6a233959",
   "metadata": {},
   "source": [
    "## Setup path handling object "
   ]
  },
  {
   "cell_type": "code",
   "execution_count": 3,
   "id": "bd6d7420",
   "metadata": {},
   "outputs": [
    {
     "name": "stdout",
     "output_type": "stream",
     "text": [
      "Warning: run is None\n",
      "/home/rstudio/processed_data/Aorta/assembling/anndata: NEWLY SETUP\n"
     ]
    }
   ],
   "source": [
    "# make an instance of the class\n",
    "tree = sub_tree.ATAC_tree()\n",
    "# set processing/output directory\n",
    "tree.processing_dir = output_dir\n",
    "# set sample/experiment.. \n",
    "tree.run = test"
   ]
  },
  {
   "cell_type": "markdown",
   "id": "2c097eef",
   "metadata": {},
   "source": [
    "## Read in data"
   ]
  },
  {
   "cell_type": "markdown",
   "id": "bbea2d7f",
   "metadata": {},
   "source": [
    "### Option 1: Read from .h5ad"
   ]
  },
  {
   "cell_type": "code",
   "execution_count": 4,
   "id": "e4205757",
   "metadata": {},
   "outputs": [],
   "source": [
    "if from_h5ad:\n",
    "    \n",
    "    adata = epi.read_h5ad(h5ad_path)\n",
    "    \n",
    "    #Add information to the infoprocess\n",
    "    cr.build_infor(adata, \"Input_for_assembling\", h5ad_path)\n",
    "    cr.build_infor(adata, \"Strategy\", \"Read from h5ad\")"
   ]
  },
  {
   "cell_type": "markdown",
   "id": "80f5835b",
   "metadata": {},
   "source": [
    "## Inspect adata"
   ]
  },
  {
   "cell_type": "code",
   "execution_count": 5,
   "id": "f442d368",
   "metadata": {},
   "outputs": [
    {
     "data": {
      "text/plain": [
       "AnnData object with n_obs × n_vars = 73652 × 150152\n",
       "    obs: 'barcode', 'TN', 'UM', 'PP', 'UQ', 'CM', 'file', 'sample'\n",
       "    uns: 'infoprocess', 'color_set'"
      ]
     },
     "metadata": {},
     "output_type": "display_data"
    }
   ],
   "source": [
    "display(adata)"
   ]
  },
  {
   "cell_type": "code",
   "execution_count": 6,
   "id": "cf193c1d",
   "metadata": {},
   "outputs": [
    {
     "data": {
      "text/html": [
       "<div>\n",
       "<style scoped>\n",
       "    .dataframe tbody tr th:only-of-type {\n",
       "        vertical-align: middle;\n",
       "    }\n",
       "\n",
       "    .dataframe tbody tr th {\n",
       "        vertical-align: top;\n",
       "    }\n",
       "\n",
       "    .dataframe thead th {\n",
       "        text-align: right;\n",
       "    }\n",
       "</style>\n",
       "<table border=\"1\" class=\"dataframe\">\n",
       "  <thead>\n",
       "    <tr style=\"text-align: right;\">\n",
       "      <th></th>\n",
       "    </tr>\n",
       "  </thead>\n",
       "  <tbody>\n",
       "    <tr>\n",
       "      <th>0</th>\n",
       "    </tr>\n",
       "    <tr>\n",
       "      <th>1</th>\n",
       "    </tr>\n",
       "    <tr>\n",
       "      <th>2</th>\n",
       "    </tr>\n",
       "    <tr>\n",
       "      <th>3</th>\n",
       "    </tr>\n",
       "    <tr>\n",
       "      <th>4</th>\n",
       "    </tr>\n",
       "    <tr>\n",
       "      <th>...</th>\n",
       "    </tr>\n",
       "    <tr>\n",
       "      <th>150147</th>\n",
       "    </tr>\n",
       "    <tr>\n",
       "      <th>150148</th>\n",
       "    </tr>\n",
       "    <tr>\n",
       "      <th>150149</th>\n",
       "    </tr>\n",
       "    <tr>\n",
       "      <th>150150</th>\n",
       "    </tr>\n",
       "    <tr>\n",
       "      <th>150151</th>\n",
       "    </tr>\n",
       "  </tbody>\n",
       "</table>\n",
       "<p>150152 rows × 0 columns</p>\n",
       "</div>"
      ],
      "text/plain": [
       "Empty DataFrame\n",
       "Columns: []\n",
       "Index: [0, 1, 2, 3, 4, 5, 6, 7, 8, 9, 10, 11, 12, 13, 14, 15, 16, 17, 18, 19, 20, 21, 22, 23, 24, 25, 26, 27, 28, 29, 30, 31, 32, 33, 34, 35, 36, 37, 38, 39, 40, 41, 42, 43, 44, 45, 46, 47, 48, 49, 50, 51, 52, 53, 54, 55, 56, 57, 58, 59, 60, 61, 62, 63, 64, 65, 66, 67, 68, 69, 70, 71, 72, 73, 74, 75, 76, 77, 78, 79, 80, 81, 82, 83, 84, 85, 86, 87, 88, 89, 90, 91, 92, 93, 94, 95, 96, 97, 98, 99, ...]\n",
       "\n",
       "[150152 rows x 0 columns]"
      ]
     },
     "metadata": {},
     "output_type": "display_data"
    }
   ],
   "source": [
    "display(adata.var)"
   ]
  },
  {
   "cell_type": "code",
   "execution_count": 7,
   "id": "97c42d68",
   "metadata": {},
   "outputs": [
    {
     "data": {
      "text/html": [
       "<div>\n",
       "<style scoped>\n",
       "    .dataframe tbody tr th:only-of-type {\n",
       "        vertical-align: middle;\n",
       "    }\n",
       "\n",
       "    .dataframe tbody tr th {\n",
       "        vertical-align: top;\n",
       "    }\n",
       "\n",
       "    .dataframe thead th {\n",
       "        text-align: right;\n",
       "    }\n",
       "</style>\n",
       "<table border=\"1\" class=\"dataframe\">\n",
       "  <thead>\n",
       "    <tr style=\"text-align: right;\">\n",
       "      <th></th>\n",
       "      <th>barcode</th>\n",
       "      <th>TN</th>\n",
       "      <th>UM</th>\n",
       "      <th>PP</th>\n",
       "      <th>UQ</th>\n",
       "      <th>CM</th>\n",
       "      <th>file</th>\n",
       "      <th>sample</th>\n",
       "    </tr>\n",
       "  </thead>\n",
       "  <tbody>\n",
       "    <tr>\n",
       "      <th>1</th>\n",
       "      <td>AAACTACCAGAAACCCGAGATA</td>\n",
       "      <td>33.0</td>\n",
       "      <td>18.0</td>\n",
       "      <td>18.0</td>\n",
       "      <td>15.0</td>\n",
       "      <td>0.0</td>\n",
       "      <td>/home/rstudio/data/snap/ENC-1JKYN-146-SM-A8CPH...</td>\n",
       "      <td>MB</td>\n",
       "    </tr>\n",
       "    <tr>\n",
       "      <th>2</th>\n",
       "      <td>AAACTACCAGAAACCTAAGTGG</td>\n",
       "      <td>52.0</td>\n",
       "      <td>36.0</td>\n",
       "      <td>35.0</td>\n",
       "      <td>32.0</td>\n",
       "      <td>1.0</td>\n",
       "      <td>/home/rstudio/data/snap/ENC-1JKYN-146-SM-A8CPH...</td>\n",
       "      <td>MB</td>\n",
       "    </tr>\n",
       "    <tr>\n",
       "      <th>3</th>\n",
       "      <td>AAACTACCAGAAACGGATCAGT</td>\n",
       "      <td>27.0</td>\n",
       "      <td>19.0</td>\n",
       "      <td>19.0</td>\n",
       "      <td>19.0</td>\n",
       "      <td>0.0</td>\n",
       "      <td>/home/rstudio/data/snap/ENC-1JKYN-146-SM-A8CPH...</td>\n",
       "      <td>MB</td>\n",
       "    </tr>\n",
       "    <tr>\n",
       "      <th>4</th>\n",
       "      <td>AAACTACCAGAAACGTCCCGTT</td>\n",
       "      <td>6223.0</td>\n",
       "      <td>5231.0</td>\n",
       "      <td>5213.0</td>\n",
       "      <td>3779.0</td>\n",
       "      <td>18.0</td>\n",
       "      <td>/home/rstudio/data/snap/ENC-1JKYN-146-SM-A8CPH...</td>\n",
       "      <td>MB</td>\n",
       "    </tr>\n",
       "    <tr>\n",
       "      <th>5</th>\n",
       "      <td>AAACTACCAGAAACTAGCCCTA</td>\n",
       "      <td>41.0</td>\n",
       "      <td>29.0</td>\n",
       "      <td>29.0</td>\n",
       "      <td>26.0</td>\n",
       "      <td>0.0</td>\n",
       "      <td>/home/rstudio/data/snap/ENC-1JKYN-146-SM-A8CPH...</td>\n",
       "      <td>MB</td>\n",
       "    </tr>\n",
       "    <tr>\n",
       "      <th>...</th>\n",
       "      <td>...</td>\n",
       "      <td>...</td>\n",
       "      <td>...</td>\n",
       "      <td>...</td>\n",
       "      <td>...</td>\n",
       "      <td>...</td>\n",
       "      <td>...</td>\n",
       "      <td>...</td>\n",
       "    </tr>\n",
       "    <tr>\n",
       "      <th>73648</th>\n",
       "      <td>TTCCATCCTCTTTCGCGTGTAA</td>\n",
       "      <td>9.0</td>\n",
       "      <td>6.0</td>\n",
       "      <td>6.0</td>\n",
       "      <td>6.0</td>\n",
       "      <td>0.0</td>\n",
       "      <td>/home/rstudio/data/snap/ENC-1JKYN-146-SM-A8CPH...</td>\n",
       "      <td>MB</td>\n",
       "    </tr>\n",
       "    <tr>\n",
       "      <th>73649</th>\n",
       "      <td>TTCCATCCTCTTTCTGCAGACT</td>\n",
       "      <td>10.0</td>\n",
       "      <td>6.0</td>\n",
       "      <td>6.0</td>\n",
       "      <td>6.0</td>\n",
       "      <td>1.0</td>\n",
       "      <td>/home/rstudio/data/snap/ENC-1JKYN-146-SM-A8CPH...</td>\n",
       "      <td>MB</td>\n",
       "    </tr>\n",
       "    <tr>\n",
       "      <th>73650</th>\n",
       "      <td>TTCCATCCTCTTTCTGGCGCAG</td>\n",
       "      <td>17.0</td>\n",
       "      <td>5.0</td>\n",
       "      <td>5.0</td>\n",
       "      <td>5.0</td>\n",
       "      <td>1.0</td>\n",
       "      <td>/home/rstudio/data/snap/ENC-1JKYN-146-SM-A8CPH...</td>\n",
       "      <td>MB</td>\n",
       "    </tr>\n",
       "    <tr>\n",
       "      <th>73651</th>\n",
       "      <td>TTCCATCCTCTTTGCCGGAAGG</td>\n",
       "      <td>8.0</td>\n",
       "      <td>7.0</td>\n",
       "      <td>7.0</td>\n",
       "      <td>7.0</td>\n",
       "      <td>0.0</td>\n",
       "      <td>/home/rstudio/data/snap/ENC-1JKYN-146-SM-A8CPH...</td>\n",
       "      <td>MB</td>\n",
       "    </tr>\n",
       "    <tr>\n",
       "      <th>73652</th>\n",
       "      <td>TTCCATCCTCTTTGTGTTACCG</td>\n",
       "      <td>19.0</td>\n",
       "      <td>9.0</td>\n",
       "      <td>9.0</td>\n",
       "      <td>7.0</td>\n",
       "      <td>0.0</td>\n",
       "      <td>/home/rstudio/data/snap/ENC-1JKYN-146-SM-A8CPH...</td>\n",
       "      <td>MB</td>\n",
       "    </tr>\n",
       "  </tbody>\n",
       "</table>\n",
       "<p>73652 rows × 8 columns</p>\n",
       "</div>"
      ],
      "text/plain": [
       "                      barcode      TN      UM      PP      UQ    CM  \\\n",
       "1      AAACTACCAGAAACCCGAGATA    33.0    18.0    18.0    15.0   0.0   \n",
       "2      AAACTACCAGAAACCTAAGTGG    52.0    36.0    35.0    32.0   1.0   \n",
       "3      AAACTACCAGAAACGGATCAGT    27.0    19.0    19.0    19.0   0.0   \n",
       "4      AAACTACCAGAAACGTCCCGTT  6223.0  5231.0  5213.0  3779.0  18.0   \n",
       "5      AAACTACCAGAAACTAGCCCTA    41.0    29.0    29.0    26.0   0.0   \n",
       "...                       ...     ...     ...     ...     ...   ...   \n",
       "73648  TTCCATCCTCTTTCGCGTGTAA     9.0     6.0     6.0     6.0   0.0   \n",
       "73649  TTCCATCCTCTTTCTGCAGACT    10.0     6.0     6.0     6.0   1.0   \n",
       "73650  TTCCATCCTCTTTCTGGCGCAG    17.0     5.0     5.0     5.0   1.0   \n",
       "73651  TTCCATCCTCTTTGCCGGAAGG     8.0     7.0     7.0     7.0   0.0   \n",
       "73652  TTCCATCCTCTTTGTGTTACCG    19.0     9.0     9.0     7.0   0.0   \n",
       "\n",
       "                                                    file sample  \n",
       "1      /home/rstudio/data/snap/ENC-1JKYN-146-SM-A8CPH...     MB  \n",
       "2      /home/rstudio/data/snap/ENC-1JKYN-146-SM-A8CPH...     MB  \n",
       "3      /home/rstudio/data/snap/ENC-1JKYN-146-SM-A8CPH...     MB  \n",
       "4      /home/rstudio/data/snap/ENC-1JKYN-146-SM-A8CPH...     MB  \n",
       "5      /home/rstudio/data/snap/ENC-1JKYN-146-SM-A8CPH...     MB  \n",
       "...                                                  ...    ...  \n",
       "73648  /home/rstudio/data/snap/ENC-1JKYN-146-SM-A8CPH...     MB  \n",
       "73649  /home/rstudio/data/snap/ENC-1JKYN-146-SM-A8CPH...     MB  \n",
       "73650  /home/rstudio/data/snap/ENC-1JKYN-146-SM-A8CPH...     MB  \n",
       "73651  /home/rstudio/data/snap/ENC-1JKYN-146-SM-A8CPH...     MB  \n",
       "73652  /home/rstudio/data/snap/ENC-1JKYN-146-SM-A8CPH...     MB  \n",
       "\n",
       "[73652 rows x 8 columns]"
      ]
     },
     "metadata": {},
     "output_type": "display_data"
    }
   ],
   "source": [
    "display(adata.obs)"
   ]
  },
  {
   "cell_type": "markdown",
   "id": "ca7f726d",
   "metadata": {},
   "source": [
    "## Check for QC related columns"
   ]
  },
  {
   "cell_type": "code",
   "execution_count": 8,
   "id": "b94ba81a",
   "metadata": {},
   "outputs": [],
   "source": [
    "# MISSING"
   ]
  },
  {
   "cell_type": "markdown",
   "id": "00d20302",
   "metadata": {},
   "source": [
    "## Calculate missing columns"
   ]
  },
  {
   "cell_type": "code",
   "execution_count": 9,
   "id": "b5020e5a",
   "metadata": {},
   "outputs": [],
   "source": [
    "# MISSING"
   ]
  },
  {
   "cell_type": "markdown",
   "id": "2cec4573",
   "metadata": {},
   "source": [
    "## Inspect adata.obs"
   ]
  },
  {
   "cell_type": "code",
   "execution_count": 10,
   "id": "96055949",
   "metadata": {},
   "outputs": [
    {
     "data": {
      "text/html": [
       "<div>\n",
       "<style scoped>\n",
       "    .dataframe tbody tr th:only-of-type {\n",
       "        vertical-align: middle;\n",
       "    }\n",
       "\n",
       "    .dataframe tbody tr th {\n",
       "        vertical-align: top;\n",
       "    }\n",
       "\n",
       "    .dataframe thead th {\n",
       "        text-align: right;\n",
       "    }\n",
       "</style>\n",
       "<table border=\"1\" class=\"dataframe\">\n",
       "  <thead>\n",
       "    <tr style=\"text-align: right;\">\n",
       "      <th></th>\n",
       "      <th>barcode</th>\n",
       "      <th>TN</th>\n",
       "      <th>UM</th>\n",
       "      <th>PP</th>\n",
       "      <th>UQ</th>\n",
       "      <th>CM</th>\n",
       "      <th>file</th>\n",
       "      <th>sample</th>\n",
       "    </tr>\n",
       "  </thead>\n",
       "  <tbody>\n",
       "    <tr>\n",
       "      <th>1</th>\n",
       "      <td>AAACTACCAGAAACCCGAGATA</td>\n",
       "      <td>33.0</td>\n",
       "      <td>18.0</td>\n",
       "      <td>18.0</td>\n",
       "      <td>15.0</td>\n",
       "      <td>0.0</td>\n",
       "      <td>/home/rstudio/data/snap/ENC-1JKYN-146-SM-A8CPH...</td>\n",
       "      <td>MB</td>\n",
       "    </tr>\n",
       "    <tr>\n",
       "      <th>2</th>\n",
       "      <td>AAACTACCAGAAACCTAAGTGG</td>\n",
       "      <td>52.0</td>\n",
       "      <td>36.0</td>\n",
       "      <td>35.0</td>\n",
       "      <td>32.0</td>\n",
       "      <td>1.0</td>\n",
       "      <td>/home/rstudio/data/snap/ENC-1JKYN-146-SM-A8CPH...</td>\n",
       "      <td>MB</td>\n",
       "    </tr>\n",
       "    <tr>\n",
       "      <th>3</th>\n",
       "      <td>AAACTACCAGAAACGGATCAGT</td>\n",
       "      <td>27.0</td>\n",
       "      <td>19.0</td>\n",
       "      <td>19.0</td>\n",
       "      <td>19.0</td>\n",
       "      <td>0.0</td>\n",
       "      <td>/home/rstudio/data/snap/ENC-1JKYN-146-SM-A8CPH...</td>\n",
       "      <td>MB</td>\n",
       "    </tr>\n",
       "    <tr>\n",
       "      <th>4</th>\n",
       "      <td>AAACTACCAGAAACGTCCCGTT</td>\n",
       "      <td>6223.0</td>\n",
       "      <td>5231.0</td>\n",
       "      <td>5213.0</td>\n",
       "      <td>3779.0</td>\n",
       "      <td>18.0</td>\n",
       "      <td>/home/rstudio/data/snap/ENC-1JKYN-146-SM-A8CPH...</td>\n",
       "      <td>MB</td>\n",
       "    </tr>\n",
       "    <tr>\n",
       "      <th>5</th>\n",
       "      <td>AAACTACCAGAAACTAGCCCTA</td>\n",
       "      <td>41.0</td>\n",
       "      <td>29.0</td>\n",
       "      <td>29.0</td>\n",
       "      <td>26.0</td>\n",
       "      <td>0.0</td>\n",
       "      <td>/home/rstudio/data/snap/ENC-1JKYN-146-SM-A8CPH...</td>\n",
       "      <td>MB</td>\n",
       "    </tr>\n",
       "    <tr>\n",
       "      <th>...</th>\n",
       "      <td>...</td>\n",
       "      <td>...</td>\n",
       "      <td>...</td>\n",
       "      <td>...</td>\n",
       "      <td>...</td>\n",
       "      <td>...</td>\n",
       "      <td>...</td>\n",
       "      <td>...</td>\n",
       "    </tr>\n",
       "    <tr>\n",
       "      <th>73648</th>\n",
       "      <td>TTCCATCCTCTTTCGCGTGTAA</td>\n",
       "      <td>9.0</td>\n",
       "      <td>6.0</td>\n",
       "      <td>6.0</td>\n",
       "      <td>6.0</td>\n",
       "      <td>0.0</td>\n",
       "      <td>/home/rstudio/data/snap/ENC-1JKYN-146-SM-A8CPH...</td>\n",
       "      <td>MB</td>\n",
       "    </tr>\n",
       "    <tr>\n",
       "      <th>73649</th>\n",
       "      <td>TTCCATCCTCTTTCTGCAGACT</td>\n",
       "      <td>10.0</td>\n",
       "      <td>6.0</td>\n",
       "      <td>6.0</td>\n",
       "      <td>6.0</td>\n",
       "      <td>1.0</td>\n",
       "      <td>/home/rstudio/data/snap/ENC-1JKYN-146-SM-A8CPH...</td>\n",
       "      <td>MB</td>\n",
       "    </tr>\n",
       "    <tr>\n",
       "      <th>73650</th>\n",
       "      <td>TTCCATCCTCTTTCTGGCGCAG</td>\n",
       "      <td>17.0</td>\n",
       "      <td>5.0</td>\n",
       "      <td>5.0</td>\n",
       "      <td>5.0</td>\n",
       "      <td>1.0</td>\n",
       "      <td>/home/rstudio/data/snap/ENC-1JKYN-146-SM-A8CPH...</td>\n",
       "      <td>MB</td>\n",
       "    </tr>\n",
       "    <tr>\n",
       "      <th>73651</th>\n",
       "      <td>TTCCATCCTCTTTGCCGGAAGG</td>\n",
       "      <td>8.0</td>\n",
       "      <td>7.0</td>\n",
       "      <td>7.0</td>\n",
       "      <td>7.0</td>\n",
       "      <td>0.0</td>\n",
       "      <td>/home/rstudio/data/snap/ENC-1JKYN-146-SM-A8CPH...</td>\n",
       "      <td>MB</td>\n",
       "    </tr>\n",
       "    <tr>\n",
       "      <th>73652</th>\n",
       "      <td>TTCCATCCTCTTTGTGTTACCG</td>\n",
       "      <td>19.0</td>\n",
       "      <td>9.0</td>\n",
       "      <td>9.0</td>\n",
       "      <td>7.0</td>\n",
       "      <td>0.0</td>\n",
       "      <td>/home/rstudio/data/snap/ENC-1JKYN-146-SM-A8CPH...</td>\n",
       "      <td>MB</td>\n",
       "    </tr>\n",
       "  </tbody>\n",
       "</table>\n",
       "<p>73652 rows × 8 columns</p>\n",
       "</div>"
      ],
      "text/plain": [
       "                      barcode      TN      UM      PP      UQ    CM  \\\n",
       "1      AAACTACCAGAAACCCGAGATA    33.0    18.0    18.0    15.0   0.0   \n",
       "2      AAACTACCAGAAACCTAAGTGG    52.0    36.0    35.0    32.0   1.0   \n",
       "3      AAACTACCAGAAACGGATCAGT    27.0    19.0    19.0    19.0   0.0   \n",
       "4      AAACTACCAGAAACGTCCCGTT  6223.0  5231.0  5213.0  3779.0  18.0   \n",
       "5      AAACTACCAGAAACTAGCCCTA    41.0    29.0    29.0    26.0   0.0   \n",
       "...                       ...     ...     ...     ...     ...   ...   \n",
       "73648  TTCCATCCTCTTTCGCGTGTAA     9.0     6.0     6.0     6.0   0.0   \n",
       "73649  TTCCATCCTCTTTCTGCAGACT    10.0     6.0     6.0     6.0   1.0   \n",
       "73650  TTCCATCCTCTTTCTGGCGCAG    17.0     5.0     5.0     5.0   1.0   \n",
       "73651  TTCCATCCTCTTTGCCGGAAGG     8.0     7.0     7.0     7.0   0.0   \n",
       "73652  TTCCATCCTCTTTGTGTTACCG    19.0     9.0     9.0     7.0   0.0   \n",
       "\n",
       "                                                    file sample  \n",
       "1      /home/rstudio/data/snap/ENC-1JKYN-146-SM-A8CPH...     MB  \n",
       "2      /home/rstudio/data/snap/ENC-1JKYN-146-SM-A8CPH...     MB  \n",
       "3      /home/rstudio/data/snap/ENC-1JKYN-146-SM-A8CPH...     MB  \n",
       "4      /home/rstudio/data/snap/ENC-1JKYN-146-SM-A8CPH...     MB  \n",
       "5      /home/rstudio/data/snap/ENC-1JKYN-146-SM-A8CPH...     MB  \n",
       "...                                                  ...    ...  \n",
       "73648  /home/rstudio/data/snap/ENC-1JKYN-146-SM-A8CPH...     MB  \n",
       "73649  /home/rstudio/data/snap/ENC-1JKYN-146-SM-A8CPH...     MB  \n",
       "73650  /home/rstudio/data/snap/ENC-1JKYN-146-SM-A8CPH...     MB  \n",
       "73651  /home/rstudio/data/snap/ENC-1JKYN-146-SM-A8CPH...     MB  \n",
       "73652  /home/rstudio/data/snap/ENC-1JKYN-146-SM-A8CPH...     MB  \n",
       "\n",
       "[73652 rows x 8 columns]"
      ]
     },
     "execution_count": 10,
     "metadata": {},
     "output_type": "execute_result"
    }
   ],
   "source": [
    "adata.obs"
   ]
  },
  {
   "cell_type": "markdown",
   "id": "c56aa20e",
   "metadata": {},
   "source": [
    "## Save adata to .h5ad"
   ]
  },
  {
   "cell_type": "code",
   "execution_count": 11,
   "id": "2826bda4",
   "metadata": {},
   "outputs": [
    {
     "data": {
      "text/plain": [
       "'/home/rstudio/processed_data/Aorta/assembling/anndata/Aorta.h5ad'"
      ]
     },
     "execution_count": 11,
     "metadata": {},
     "output_type": "execute_result"
    }
   ],
   "source": [
    "adata_output = tree.assembled_anndata\n",
    "adata_output"
   ]
  },
  {
   "cell_type": "code",
   "execution_count": 12,
   "id": "90773c16",
   "metadata": {},
   "outputs": [],
   "source": [
    "#Saving the data\n",
    "cr.build_infor(adata, \"Test_number\", test)\n",
    "cr.build_infor(adata, \"Anndata_path\", output_dir)\n",
    "\n",
    "adata_output = tree.assembled_anndata\n",
    "adata.write(filename=adata_output)"
   ]
  },
  {
   "cell_type": "code",
   "execution_count": null,
   "id": "cbf286aa",
   "metadata": {},
   "outputs": [],
   "source": []
  }
 ],
 "metadata": {
  "kernelspec": {
   "display_name": "Python 3 (ipykernel)",
   "language": "python",
   "name": "python3"
  },
  "language_info": {
   "codemirror_mode": {
    "name": "ipython",
    "version": 3
   },
   "file_extension": ".py",
   "mimetype": "text/x-python",
   "name": "python",
   "nbconvert_exporter": "python",
   "pygments_lexer": "ipython3",
   "version": "3.8.10"
  }
 },
 "nbformat": 4,
 "nbformat_minor": 5
}
