{
 "cells": [
  {
   "cell_type": "markdown",
   "id": "bf52b2e2",
   "metadata": {
    "pycharm": {
     "name": "#%% md\n"
    }
   },
   "source": [
    "# Assembling\n",
    "\n",
    "This notebook is used to assemble a processable h5ad object for subsequent notebooks."
   ]
  },
  {
   "cell_type": "markdown",
   "id": "c9e8b8fd",
   "metadata": {
    "pycharm": {
     "name": "#%% md\n"
    }
   },
   "source": [
    "## Fill in input data, output and settings"
   ]
  },
  {
   "cell_type": "code",
   "execution_count": 1,
   "id": "120c0f22",
   "metadata": {
    "pycharm": {
     "name": "#%%\n"
    }
   },
   "outputs": [],
   "source": [
    "####################### TEST NAME ###################################\n",
    "test = 'Esophagus'\n",
    "################### DEFINING STRATEGY ###############################\n",
    "from_h5ad = True #option 1\n",
    "assembling_10_velocity = False #option 2\n",
    "assembling_10_public = False #option 3\n",
    "convert_seurat = False #option 4\n",
    "\n",
    "###################### INPUT DATA ###################################\n",
    "\n",
    "#For option 1: The path to an existing .h5ad file\n",
    "h5ad_files = ['/home/rstudio/data/anndata/Esophagus.h5ad']\n",
    "#Manually set existing QC Columns\n",
    "n_features_by_counts = None\n",
    "log1p_n_features_by_counts = None\n",
    "total_counts = None\n",
    "log1p_total_counts = None\n",
    "mean_insertsize = None\n",
    "insertsize_count = None\n",
    "n_total_fragments = None\n",
    "n_fragments_in_promoters = None\n",
    "pct_fragments_in_promoters = None\n",
    "blacklist_overlaps = None\n",
    "#total_number_of_fragments\n",
    "TN = 'TN'\n",
    "#uniquely_mapped_fragments\n",
    "UM = 'UM'\n",
    "#properly_paired_fragments\n",
    "PP = 'PP'\n",
    "#uniq_fragments\n",
    "UQ = 'UQ'\n",
    "#chrM_fragments\n",
    "CM = 'CM'\n",
    "\n",
    "#################### Calc QC Columns ###############################\n",
    "#set available number of threads\n",
    "n_threads = 8\n",
    "\n",
    "#if the mean_insertsize should be calculated specify either a BAM file or a fragments file:\n",
    "fragments_file = '/home/rstudio/data/bamfiles/fragments_Esophagus.bed'\n",
    "bam_file = '/home/rstudio/data/bamfiles/sorted_Esophagus.bam'\n",
    "\n",
    "#specify promotors_gtf if another promoter than the fixed ones should be used\n",
    "#if promotors is None please specify species\n",
    "#promoters_gtf =  '/mnt/flatfiles/organisms/new_organism/homo_sapiens/104/homo_sapiens.104.promoters2000.gtf'\n",
    "promoters_gtf = '/home/rstudio/data/homo_sapiens.104.promoters2000.gtf'\n",
    "species = None\n",
    "\n",
    "##################### OUTPUT DATA ###################################\n",
    "output_dir = '/home/rstudio/processed_data'"
   ]
  },
  {
   "cell_type": "markdown",
   "id": "6d6dd817",
   "metadata": {
    "pycharm": {
     "name": "#%% md\n"
    }
   },
   "source": [
    "## Import modules"
   ]
  },
  {
   "cell_type": "code",
   "execution_count": 2,
   "id": "c997211a",
   "metadata": {
    "pycharm": {
     "name": "#%%\n"
    },
    "scrolled": true
   },
   "outputs": [],
   "source": [
    "# sctoolbox modules \n",
    "import sctoolbox.atac_tree as sub_tree\n",
    "import sctoolbox.creators as cr\n",
    "import sctoolbox.fragment_length as fragments\n",
    "import sctoolbox.atac as atac\n",
    "import sctoolbox.calc_overlap_pct as overlap\n",
    "import sctoolbox.analyser \n",
    "from sctoolbox.qc_filter import *\n",
    "from sctoolbox.atac_utils import *\n",
    "# import episcanpy\n",
    "import episcanpy as epi"
   ]
  },
  {
   "cell_type": "markdown",
   "id": "4fc0e3d7",
   "metadata": {
    "pycharm": {
     "name": "#%% md\n"
    }
   },
   "source": [
    "## Setup path handling object "
   ]
  },
  {
   "cell_type": "code",
   "execution_count": 3,
   "id": "880c04fb",
   "metadata": {
    "pycharm": {
     "name": "#%%\n"
    }
   },
   "outputs": [
    {
     "name": "stdout",
     "output_type": "stream",
     "text": [
      "Warning: run is None\n",
      "all directories existing\n",
      "all directories existing\n"
     ]
    }
   ],
   "source": [
    "# make an instance of the class\n",
    "tree = sub_tree.ATAC_tree()\n",
    "# set processing/output directory\n",
    "tree.processing_dir = output_dir\n",
    "# set sample/experiment.. \n",
    "tree.run = test"
   ]
  },
  {
   "cell_type": "markdown",
   "id": "84b9cddf",
   "metadata": {
    "pycharm": {
     "name": "#%% md\n"
    }
   },
   "source": [
    "## Read in data"
   ]
  },
  {
   "cell_type": "markdown",
   "id": "7e7b43d6",
   "metadata": {
    "pycharm": {
     "name": "#%% md\n"
    }
   },
   "source": [
    "### Option 1: Read from .h5ad"
   ]
  },
  {
   "cell_type": "code",
   "execution_count": 4,
   "id": "96a9a071",
   "metadata": {
    "pycharm": {
     "name": "#%%\n"
    }
   },
   "outputs": [],
   "source": [
    "qc_columns = {}\n",
    "qc_columns[\"n_features_by_counts\"] = n_features_by_counts\n",
    "qc_columns[\"log1p_n_features_by_count\"] = log1p_n_features_by_counts\n",
    "qc_columns[\"total_counts\"] = total_counts\n",
    "qc_columns[\"log1p_total_counts\"] = log1p_total_counts\n",
    "qc_columns[\"mean_insertsize\"] = mean_insertsize\n",
    "qc_columns['n_total_fragments'] = n_total_fragments\n",
    "qc_columns['n_fragments_in_promoters'] = n_fragments_in_promoters\n",
    "qc_columns['pct_fragments_in_promoters'] = pct_fragments_in_promoters\n",
    "qc_columns[\"blacklist_overlaps\"] = blacklist_overlaps\n",
    "qc_columns[\"TN\"] = TN\n",
    "qc_columns[\"UM\"] = UM\n",
    "qc_columns[\"PP\"] = PP\n",
    "qc_columns[\"UQ\"] = UQ\n",
    "qc_columns[\"CM\"] = CM"
   ]
  },
  {
   "cell_type": "code",
   "execution_count": 5,
   "id": "6b900535",
   "metadata": {},
   "outputs": [
    {
     "name": "stderr",
     "output_type": "stream",
     "text": [
      " ImplicitModificationWarning:/usr/local/lib/python3.8/dist-packages/anndata/_core/anndata.py:121: Transforming to str index.\n"
     ]
    },
    {
     "name": "stdout",
     "output_type": "stream",
     "text": [
      "add existing adata.obs columns to infoprocess:\n",
      "\n",
      "TN:TN\n",
      "UM:UM\n",
      "PP:PP\n",
      "UQ:UQ\n",
      "CM:CM\n",
      "setting adata.obs.index = adata.obs[barcode]\n"
     ]
    }
   ],
   "source": [
    "if from_h5ad:\n",
    "    \n",
    "    adata = assemble_from_h5ad(h5ad_files=h5ad_files, qc_columns=qc_columns)"
   ]
  },
  {
   "cell_type": "code",
   "execution_count": null,
   "id": "448b01bf",
   "metadata": {
    "pycharm": {
     "name": "#%%\n"
    }
   },
   "outputs": [],
   "source": [
    "if from_h5ad:\n",
    "    \n",
    "    sample = 'sample1'\n",
    "    \n",
    "    adata = epi.read_h5ad(h5ad_path)\n",
    "    \n",
    "    #Add information to the infoprocess\n",
    "    cr.build_infor(adata, \"Input_for_assembling\", h5ad_path)\n",
    "    cr.build_infor(adata, \"Strategy\", \"Read from h5ad\")\n",
    "    \n",
    "    print('add existing adata.obs columns to infoprocess:')\n",
    "    print()\n",
    "    for key, value in qc_columns.items():\n",
    "        if value is not None:\n",
    "            print(key + ':' + value)\n",
    "            if value in adata.obs.columns:\n",
    "                build_legend(adata, key, value)\n",
    "            else:\n",
    "                print('column:  ' + value + ' is not in adata.obs')\n",
    "    \n",
    "    if not adata.obs.index.name == \"barcode\":\n",
    "        print('setting adata.obs.index = adata.obs[barcode]')\n",
    "        adata.obs = adata.obs.set_index(\"barcode\")\n",
    "    else:\n",
    "        print('barcodes are already the index')\n",
    "    \n",
    "    adata.obs = adata.obs.assign(sample=sample)\n",
    "    adata.obs = adata.obs.assign(file=h5ad_path)\n",
    "    "
   ]
  },
  {
   "cell_type": "markdown",
   "id": "746f9da5",
   "metadata": {
    "pycharm": {
     "name": "#%% md\n"
    }
   },
   "source": [
    "## Inspect adata"
   ]
  },
  {
   "cell_type": "code",
   "execution_count": 6,
   "id": "9e059525",
   "metadata": {
    "pycharm": {
     "name": "#%%\n"
    }
   },
   "outputs": [
    {
     "data": {
      "text/plain": [
       "AnnData object with n_obs × n_vars = 73652 × 150152\n",
       "    obs: 'TN', 'UM', 'PP', 'UQ', 'CM', 'file', 'sample'\n",
       "    uns: 'infoprocess', 'color_set', 'legend'"
      ]
     },
     "metadata": {},
     "output_type": "display_data"
    }
   ],
   "source": [
    "display(adata)"
   ]
  },
  {
   "cell_type": "code",
   "execution_count": 7,
   "id": "9e65ff2d",
   "metadata": {},
   "outputs": [
    {
     "data": {
      "text/html": [
       "<div>\n",
       "<style scoped>\n",
       "    .dataframe tbody tr th:only-of-type {\n",
       "        vertical-align: middle;\n",
       "    }\n",
       "\n",
       "    .dataframe tbody tr th {\n",
       "        vertical-align: top;\n",
       "    }\n",
       "\n",
       "    .dataframe thead th {\n",
       "        text-align: right;\n",
       "    }\n",
       "</style>\n",
       "<table border=\"1\" class=\"dataframe\">\n",
       "  <thead>\n",
       "    <tr style=\"text-align: right;\">\n",
       "      <th></th>\n",
       "      <th>TN</th>\n",
       "      <th>UM</th>\n",
       "      <th>PP</th>\n",
       "      <th>UQ</th>\n",
       "      <th>CM</th>\n",
       "      <th>file</th>\n",
       "      <th>sample</th>\n",
       "    </tr>\n",
       "    <tr>\n",
       "      <th>barcode</th>\n",
       "      <th></th>\n",
       "      <th></th>\n",
       "      <th></th>\n",
       "      <th></th>\n",
       "      <th></th>\n",
       "      <th></th>\n",
       "      <th></th>\n",
       "    </tr>\n",
       "  </thead>\n",
       "  <tbody>\n",
       "    <tr>\n",
       "      <th>AAACTACCAGAAACCCGAGATA_sample1</th>\n",
       "      <td>33.0</td>\n",
       "      <td>18.0</td>\n",
       "      <td>18.0</td>\n",
       "      <td>15.0</td>\n",
       "      <td>0.0</td>\n",
       "      <td>/home/rstudio/data/anndata/Esophagus.h5ad</td>\n",
       "      <td>sample1</td>\n",
       "    </tr>\n",
       "    <tr>\n",
       "      <th>AAACTACCAGAAACCTAAGTGG_sample1</th>\n",
       "      <td>52.0</td>\n",
       "      <td>36.0</td>\n",
       "      <td>35.0</td>\n",
       "      <td>32.0</td>\n",
       "      <td>1.0</td>\n",
       "      <td>/home/rstudio/data/anndata/Esophagus.h5ad</td>\n",
       "      <td>sample1</td>\n",
       "    </tr>\n",
       "    <tr>\n",
       "      <th>AAACTACCAGAAACGGATCAGT_sample1</th>\n",
       "      <td>27.0</td>\n",
       "      <td>19.0</td>\n",
       "      <td>19.0</td>\n",
       "      <td>19.0</td>\n",
       "      <td>0.0</td>\n",
       "      <td>/home/rstudio/data/anndata/Esophagus.h5ad</td>\n",
       "      <td>sample1</td>\n",
       "    </tr>\n",
       "    <tr>\n",
       "      <th>AAACTACCAGAAACGTCCCGTT_sample1</th>\n",
       "      <td>6223.0</td>\n",
       "      <td>5231.0</td>\n",
       "      <td>5213.0</td>\n",
       "      <td>3779.0</td>\n",
       "      <td>18.0</td>\n",
       "      <td>/home/rstudio/data/anndata/Esophagus.h5ad</td>\n",
       "      <td>sample1</td>\n",
       "    </tr>\n",
       "    <tr>\n",
       "      <th>AAACTACCAGAAACTAGCCCTA_sample1</th>\n",
       "      <td>41.0</td>\n",
       "      <td>29.0</td>\n",
       "      <td>29.0</td>\n",
       "      <td>26.0</td>\n",
       "      <td>0.0</td>\n",
       "      <td>/home/rstudio/data/anndata/Esophagus.h5ad</td>\n",
       "      <td>sample1</td>\n",
       "    </tr>\n",
       "    <tr>\n",
       "      <th>...</th>\n",
       "      <td>...</td>\n",
       "      <td>...</td>\n",
       "      <td>...</td>\n",
       "      <td>...</td>\n",
       "      <td>...</td>\n",
       "      <td>...</td>\n",
       "      <td>...</td>\n",
       "    </tr>\n",
       "    <tr>\n",
       "      <th>TTCCATCCTCTTTCGCGTGTAA_sample1</th>\n",
       "      <td>9.0</td>\n",
       "      <td>6.0</td>\n",
       "      <td>6.0</td>\n",
       "      <td>6.0</td>\n",
       "      <td>0.0</td>\n",
       "      <td>/home/rstudio/data/anndata/Esophagus.h5ad</td>\n",
       "      <td>sample1</td>\n",
       "    </tr>\n",
       "    <tr>\n",
       "      <th>TTCCATCCTCTTTCTGCAGACT_sample1</th>\n",
       "      <td>10.0</td>\n",
       "      <td>6.0</td>\n",
       "      <td>6.0</td>\n",
       "      <td>6.0</td>\n",
       "      <td>1.0</td>\n",
       "      <td>/home/rstudio/data/anndata/Esophagus.h5ad</td>\n",
       "      <td>sample1</td>\n",
       "    </tr>\n",
       "    <tr>\n",
       "      <th>TTCCATCCTCTTTCTGGCGCAG_sample1</th>\n",
       "      <td>17.0</td>\n",
       "      <td>5.0</td>\n",
       "      <td>5.0</td>\n",
       "      <td>5.0</td>\n",
       "      <td>1.0</td>\n",
       "      <td>/home/rstudio/data/anndata/Esophagus.h5ad</td>\n",
       "      <td>sample1</td>\n",
       "    </tr>\n",
       "    <tr>\n",
       "      <th>TTCCATCCTCTTTGCCGGAAGG_sample1</th>\n",
       "      <td>8.0</td>\n",
       "      <td>7.0</td>\n",
       "      <td>7.0</td>\n",
       "      <td>7.0</td>\n",
       "      <td>0.0</td>\n",
       "      <td>/home/rstudio/data/anndata/Esophagus.h5ad</td>\n",
       "      <td>sample1</td>\n",
       "    </tr>\n",
       "    <tr>\n",
       "      <th>TTCCATCCTCTTTGTGTTACCG_sample1</th>\n",
       "      <td>19.0</td>\n",
       "      <td>9.0</td>\n",
       "      <td>9.0</td>\n",
       "      <td>7.0</td>\n",
       "      <td>0.0</td>\n",
       "      <td>/home/rstudio/data/anndata/Esophagus.h5ad</td>\n",
       "      <td>sample1</td>\n",
       "    </tr>\n",
       "  </tbody>\n",
       "</table>\n",
       "<p>73652 rows × 7 columns</p>\n",
       "</div>"
      ],
      "text/plain": [
       "                                    TN      UM      PP      UQ    CM  \\\n",
       "barcode                                                                \n",
       "AAACTACCAGAAACCCGAGATA_sample1    33.0    18.0    18.0    15.0   0.0   \n",
       "AAACTACCAGAAACCTAAGTGG_sample1    52.0    36.0    35.0    32.0   1.0   \n",
       "AAACTACCAGAAACGGATCAGT_sample1    27.0    19.0    19.0    19.0   0.0   \n",
       "AAACTACCAGAAACGTCCCGTT_sample1  6223.0  5231.0  5213.0  3779.0  18.0   \n",
       "AAACTACCAGAAACTAGCCCTA_sample1    41.0    29.0    29.0    26.0   0.0   \n",
       "...                                ...     ...     ...     ...   ...   \n",
       "TTCCATCCTCTTTCGCGTGTAA_sample1     9.0     6.0     6.0     6.0   0.0   \n",
       "TTCCATCCTCTTTCTGCAGACT_sample1    10.0     6.0     6.0     6.0   1.0   \n",
       "TTCCATCCTCTTTCTGGCGCAG_sample1    17.0     5.0     5.0     5.0   1.0   \n",
       "TTCCATCCTCTTTGCCGGAAGG_sample1     8.0     7.0     7.0     7.0   0.0   \n",
       "TTCCATCCTCTTTGTGTTACCG_sample1    19.0     9.0     9.0     7.0   0.0   \n",
       "\n",
       "                                                                     file  \\\n",
       "barcode                                                                     \n",
       "AAACTACCAGAAACCCGAGATA_sample1  /home/rstudio/data/anndata/Esophagus.h5ad   \n",
       "AAACTACCAGAAACCTAAGTGG_sample1  /home/rstudio/data/anndata/Esophagus.h5ad   \n",
       "AAACTACCAGAAACGGATCAGT_sample1  /home/rstudio/data/anndata/Esophagus.h5ad   \n",
       "AAACTACCAGAAACGTCCCGTT_sample1  /home/rstudio/data/anndata/Esophagus.h5ad   \n",
       "AAACTACCAGAAACTAGCCCTA_sample1  /home/rstudio/data/anndata/Esophagus.h5ad   \n",
       "...                                                                   ...   \n",
       "TTCCATCCTCTTTCGCGTGTAA_sample1  /home/rstudio/data/anndata/Esophagus.h5ad   \n",
       "TTCCATCCTCTTTCTGCAGACT_sample1  /home/rstudio/data/anndata/Esophagus.h5ad   \n",
       "TTCCATCCTCTTTCTGGCGCAG_sample1  /home/rstudio/data/anndata/Esophagus.h5ad   \n",
       "TTCCATCCTCTTTGCCGGAAGG_sample1  /home/rstudio/data/anndata/Esophagus.h5ad   \n",
       "TTCCATCCTCTTTGTGTTACCG_sample1  /home/rstudio/data/anndata/Esophagus.h5ad   \n",
       "\n",
       "                                 sample  \n",
       "barcode                                  \n",
       "AAACTACCAGAAACCCGAGATA_sample1  sample1  \n",
       "AAACTACCAGAAACCTAAGTGG_sample1  sample1  \n",
       "AAACTACCAGAAACGGATCAGT_sample1  sample1  \n",
       "AAACTACCAGAAACGTCCCGTT_sample1  sample1  \n",
       "AAACTACCAGAAACTAGCCCTA_sample1  sample1  \n",
       "...                                 ...  \n",
       "TTCCATCCTCTTTCGCGTGTAA_sample1  sample1  \n",
       "TTCCATCCTCTTTCTGCAGACT_sample1  sample1  \n",
       "TTCCATCCTCTTTCTGGCGCAG_sample1  sample1  \n",
       "TTCCATCCTCTTTGCCGGAAGG_sample1  sample1  \n",
       "TTCCATCCTCTTTGTGTTACCG_sample1  sample1  \n",
       "\n",
       "[73652 rows x 7 columns]"
      ]
     },
     "execution_count": 7,
     "metadata": {},
     "output_type": "execute_result"
    }
   ],
   "source": [
    "adata.obs"
   ]
  },
  {
   "cell_type": "code",
   "execution_count": 8,
   "id": "d4ec8cb1",
   "metadata": {
    "pycharm": {
     "name": "#%%\n"
    }
   },
   "outputs": [
    {
     "data": {
      "text/html": [
       "<div>\n",
       "<style scoped>\n",
       "    .dataframe tbody tr th:only-of-type {\n",
       "        vertical-align: middle;\n",
       "    }\n",
       "\n",
       "    .dataframe tbody tr th {\n",
       "        vertical-align: top;\n",
       "    }\n",
       "\n",
       "    .dataframe thead th {\n",
       "        text-align: right;\n",
       "    }\n",
       "</style>\n",
       "<table border=\"1\" class=\"dataframe\">\n",
       "  <thead>\n",
       "    <tr style=\"text-align: right;\">\n",
       "      <th></th>\n",
       "    </tr>\n",
       "  </thead>\n",
       "  <tbody>\n",
       "    <tr>\n",
       "      <th>0</th>\n",
       "    </tr>\n",
       "    <tr>\n",
       "      <th>1</th>\n",
       "    </tr>\n",
       "    <tr>\n",
       "      <th>2</th>\n",
       "    </tr>\n",
       "    <tr>\n",
       "      <th>3</th>\n",
       "    </tr>\n",
       "    <tr>\n",
       "      <th>4</th>\n",
       "    </tr>\n",
       "    <tr>\n",
       "      <th>...</th>\n",
       "    </tr>\n",
       "    <tr>\n",
       "      <th>150147</th>\n",
       "    </tr>\n",
       "    <tr>\n",
       "      <th>150148</th>\n",
       "    </tr>\n",
       "    <tr>\n",
       "      <th>150149</th>\n",
       "    </tr>\n",
       "    <tr>\n",
       "      <th>150150</th>\n",
       "    </tr>\n",
       "    <tr>\n",
       "      <th>150151</th>\n",
       "    </tr>\n",
       "  </tbody>\n",
       "</table>\n",
       "<p>150152 rows × 0 columns</p>\n",
       "</div>"
      ],
      "text/plain": [
       "Empty DataFrame\n",
       "Columns: []\n",
       "Index: [0, 1, 2, 3, 4, 5, 6, 7, 8, 9, 10, 11, 12, 13, 14, 15, 16, 17, 18, 19, 20, 21, 22, 23, 24, 25, 26, 27, 28, 29, 30, 31, 32, 33, 34, 35, 36, 37, 38, 39, 40, 41, 42, 43, 44, 45, 46, 47, 48, 49, 50, 51, 52, 53, 54, 55, 56, 57, 58, 59, 60, 61, 62, 63, 64, 65, 66, 67, 68, 69, 70, 71, 72, 73, 74, 75, 76, 77, 78, 79, 80, 81, 82, 83, 84, 85, 86, 87, 88, 89, 90, 91, 92, 93, 94, 95, 96, 97, 98, 99, ...]\n",
       "\n",
       "[150152 rows x 0 columns]"
      ]
     },
     "metadata": {},
     "output_type": "display_data"
    }
   ],
   "source": [
    "display(adata.var)"
   ]
  },
  {
   "cell_type": "code",
   "execution_count": 9,
   "id": "97a9760e",
   "metadata": {
    "pycharm": {
     "name": "#%%\n"
    }
   },
   "outputs": [
    {
     "data": {
      "text/html": [
       "<div>\n",
       "<style scoped>\n",
       "    .dataframe tbody tr th:only-of-type {\n",
       "        vertical-align: middle;\n",
       "    }\n",
       "\n",
       "    .dataframe tbody tr th {\n",
       "        vertical-align: top;\n",
       "    }\n",
       "\n",
       "    .dataframe thead th {\n",
       "        text-align: right;\n",
       "    }\n",
       "</style>\n",
       "<table border=\"1\" class=\"dataframe\">\n",
       "  <thead>\n",
       "    <tr style=\"text-align: right;\">\n",
       "      <th></th>\n",
       "      <th>TN</th>\n",
       "      <th>UM</th>\n",
       "      <th>PP</th>\n",
       "      <th>UQ</th>\n",
       "      <th>CM</th>\n",
       "      <th>file</th>\n",
       "      <th>sample</th>\n",
       "    </tr>\n",
       "    <tr>\n",
       "      <th>barcode</th>\n",
       "      <th></th>\n",
       "      <th></th>\n",
       "      <th></th>\n",
       "      <th></th>\n",
       "      <th></th>\n",
       "      <th></th>\n",
       "      <th></th>\n",
       "    </tr>\n",
       "  </thead>\n",
       "  <tbody>\n",
       "    <tr>\n",
       "      <th>AAACTACCAGAAACCCGAGATA_sample1</th>\n",
       "      <td>33.0</td>\n",
       "      <td>18.0</td>\n",
       "      <td>18.0</td>\n",
       "      <td>15.0</td>\n",
       "      <td>0.0</td>\n",
       "      <td>/home/rstudio/data/anndata/Esophagus.h5ad</td>\n",
       "      <td>sample1</td>\n",
       "    </tr>\n",
       "    <tr>\n",
       "      <th>AAACTACCAGAAACCTAAGTGG_sample1</th>\n",
       "      <td>52.0</td>\n",
       "      <td>36.0</td>\n",
       "      <td>35.0</td>\n",
       "      <td>32.0</td>\n",
       "      <td>1.0</td>\n",
       "      <td>/home/rstudio/data/anndata/Esophagus.h5ad</td>\n",
       "      <td>sample1</td>\n",
       "    </tr>\n",
       "    <tr>\n",
       "      <th>AAACTACCAGAAACGGATCAGT_sample1</th>\n",
       "      <td>27.0</td>\n",
       "      <td>19.0</td>\n",
       "      <td>19.0</td>\n",
       "      <td>19.0</td>\n",
       "      <td>0.0</td>\n",
       "      <td>/home/rstudio/data/anndata/Esophagus.h5ad</td>\n",
       "      <td>sample1</td>\n",
       "    </tr>\n",
       "    <tr>\n",
       "      <th>AAACTACCAGAAACGTCCCGTT_sample1</th>\n",
       "      <td>6223.0</td>\n",
       "      <td>5231.0</td>\n",
       "      <td>5213.0</td>\n",
       "      <td>3779.0</td>\n",
       "      <td>18.0</td>\n",
       "      <td>/home/rstudio/data/anndata/Esophagus.h5ad</td>\n",
       "      <td>sample1</td>\n",
       "    </tr>\n",
       "    <tr>\n",
       "      <th>AAACTACCAGAAACTAGCCCTA_sample1</th>\n",
       "      <td>41.0</td>\n",
       "      <td>29.0</td>\n",
       "      <td>29.0</td>\n",
       "      <td>26.0</td>\n",
       "      <td>0.0</td>\n",
       "      <td>/home/rstudio/data/anndata/Esophagus.h5ad</td>\n",
       "      <td>sample1</td>\n",
       "    </tr>\n",
       "    <tr>\n",
       "      <th>...</th>\n",
       "      <td>...</td>\n",
       "      <td>...</td>\n",
       "      <td>...</td>\n",
       "      <td>...</td>\n",
       "      <td>...</td>\n",
       "      <td>...</td>\n",
       "      <td>...</td>\n",
       "    </tr>\n",
       "    <tr>\n",
       "      <th>TTCCATCCTCTTTCGCGTGTAA_sample1</th>\n",
       "      <td>9.0</td>\n",
       "      <td>6.0</td>\n",
       "      <td>6.0</td>\n",
       "      <td>6.0</td>\n",
       "      <td>0.0</td>\n",
       "      <td>/home/rstudio/data/anndata/Esophagus.h5ad</td>\n",
       "      <td>sample1</td>\n",
       "    </tr>\n",
       "    <tr>\n",
       "      <th>TTCCATCCTCTTTCTGCAGACT_sample1</th>\n",
       "      <td>10.0</td>\n",
       "      <td>6.0</td>\n",
       "      <td>6.0</td>\n",
       "      <td>6.0</td>\n",
       "      <td>1.0</td>\n",
       "      <td>/home/rstudio/data/anndata/Esophagus.h5ad</td>\n",
       "      <td>sample1</td>\n",
       "    </tr>\n",
       "    <tr>\n",
       "      <th>TTCCATCCTCTTTCTGGCGCAG_sample1</th>\n",
       "      <td>17.0</td>\n",
       "      <td>5.0</td>\n",
       "      <td>5.0</td>\n",
       "      <td>5.0</td>\n",
       "      <td>1.0</td>\n",
       "      <td>/home/rstudio/data/anndata/Esophagus.h5ad</td>\n",
       "      <td>sample1</td>\n",
       "    </tr>\n",
       "    <tr>\n",
       "      <th>TTCCATCCTCTTTGCCGGAAGG_sample1</th>\n",
       "      <td>8.0</td>\n",
       "      <td>7.0</td>\n",
       "      <td>7.0</td>\n",
       "      <td>7.0</td>\n",
       "      <td>0.0</td>\n",
       "      <td>/home/rstudio/data/anndata/Esophagus.h5ad</td>\n",
       "      <td>sample1</td>\n",
       "    </tr>\n",
       "    <tr>\n",
       "      <th>TTCCATCCTCTTTGTGTTACCG_sample1</th>\n",
       "      <td>19.0</td>\n",
       "      <td>9.0</td>\n",
       "      <td>9.0</td>\n",
       "      <td>7.0</td>\n",
       "      <td>0.0</td>\n",
       "      <td>/home/rstudio/data/anndata/Esophagus.h5ad</td>\n",
       "      <td>sample1</td>\n",
       "    </tr>\n",
       "  </tbody>\n",
       "</table>\n",
       "<p>73652 rows × 7 columns</p>\n",
       "</div>"
      ],
      "text/plain": [
       "                                    TN      UM      PP      UQ    CM  \\\n",
       "barcode                                                                \n",
       "AAACTACCAGAAACCCGAGATA_sample1    33.0    18.0    18.0    15.0   0.0   \n",
       "AAACTACCAGAAACCTAAGTGG_sample1    52.0    36.0    35.0    32.0   1.0   \n",
       "AAACTACCAGAAACGGATCAGT_sample1    27.0    19.0    19.0    19.0   0.0   \n",
       "AAACTACCAGAAACGTCCCGTT_sample1  6223.0  5231.0  5213.0  3779.0  18.0   \n",
       "AAACTACCAGAAACTAGCCCTA_sample1    41.0    29.0    29.0    26.0   0.0   \n",
       "...                                ...     ...     ...     ...   ...   \n",
       "TTCCATCCTCTTTCGCGTGTAA_sample1     9.0     6.0     6.0     6.0   0.0   \n",
       "TTCCATCCTCTTTCTGCAGACT_sample1    10.0     6.0     6.0     6.0   1.0   \n",
       "TTCCATCCTCTTTCTGGCGCAG_sample1    17.0     5.0     5.0     5.0   1.0   \n",
       "TTCCATCCTCTTTGCCGGAAGG_sample1     8.0     7.0     7.0     7.0   0.0   \n",
       "TTCCATCCTCTTTGTGTTACCG_sample1    19.0     9.0     9.0     7.0   0.0   \n",
       "\n",
       "                                                                     file  \\\n",
       "barcode                                                                     \n",
       "AAACTACCAGAAACCCGAGATA_sample1  /home/rstudio/data/anndata/Esophagus.h5ad   \n",
       "AAACTACCAGAAACCTAAGTGG_sample1  /home/rstudio/data/anndata/Esophagus.h5ad   \n",
       "AAACTACCAGAAACGGATCAGT_sample1  /home/rstudio/data/anndata/Esophagus.h5ad   \n",
       "AAACTACCAGAAACGTCCCGTT_sample1  /home/rstudio/data/anndata/Esophagus.h5ad   \n",
       "AAACTACCAGAAACTAGCCCTA_sample1  /home/rstudio/data/anndata/Esophagus.h5ad   \n",
       "...                                                                   ...   \n",
       "TTCCATCCTCTTTCGCGTGTAA_sample1  /home/rstudio/data/anndata/Esophagus.h5ad   \n",
       "TTCCATCCTCTTTCTGCAGACT_sample1  /home/rstudio/data/anndata/Esophagus.h5ad   \n",
       "TTCCATCCTCTTTCTGGCGCAG_sample1  /home/rstudio/data/anndata/Esophagus.h5ad   \n",
       "TTCCATCCTCTTTGCCGGAAGG_sample1  /home/rstudio/data/anndata/Esophagus.h5ad   \n",
       "TTCCATCCTCTTTGTGTTACCG_sample1  /home/rstudio/data/anndata/Esophagus.h5ad   \n",
       "\n",
       "                                 sample  \n",
       "barcode                                  \n",
       "AAACTACCAGAAACCCGAGATA_sample1  sample1  \n",
       "AAACTACCAGAAACCTAAGTGG_sample1  sample1  \n",
       "AAACTACCAGAAACGGATCAGT_sample1  sample1  \n",
       "AAACTACCAGAAACGTCCCGTT_sample1  sample1  \n",
       "AAACTACCAGAAACTAGCCCTA_sample1  sample1  \n",
       "...                                 ...  \n",
       "TTCCATCCTCTTTCGCGTGTAA_sample1  sample1  \n",
       "TTCCATCCTCTTTCTGCAGACT_sample1  sample1  \n",
       "TTCCATCCTCTTTCTGGCGCAG_sample1  sample1  \n",
       "TTCCATCCTCTTTGCCGGAAGG_sample1  sample1  \n",
       "TTCCATCCTCTTTGTGTTACCG_sample1  sample1  \n",
       "\n",
       "[73652 rows x 7 columns]"
      ]
     },
     "metadata": {},
     "output_type": "display_data"
    }
   ],
   "source": [
    "display(adata.obs)"
   ]
  },
  {
   "cell_type": "markdown",
   "id": "3405de5d",
   "metadata": {
    "pycharm": {
     "name": "#%% md\n"
    }
   },
   "source": [
    "## Calculate missing columns"
   ]
  },
  {
   "cell_type": "markdown",
   "id": "e5d66924",
   "metadata": {},
   "source": [
    "### 1. calculate scanpy qc_metrics (n_features)"
   ]
  },
  {
   "cell_type": "code",
   "execution_count": null,
   "id": "d36a2d65",
   "metadata": {},
   "outputs": [],
   "source": [
    "if qc_columns['n_features_by_counts'] is None or qc_columns['log1p_n_features_by_counts'] is None:\n",
    "    adata = analyser.calculate_qc_metrics(adata, var_type='features')\n",
    "    \n",
    "    qc_columns['n_features_by_count'] = 'n_features_by_count'\n",
    "    qc_columns['log1p_n_features_by_counts'] = 'log1p_n_features_by_counts'\n",
    "    qc_columns['total_counts'] = 'total_counts'\n",
    "    qc_columns['log1p_total_counts'] = 'log1p_total_counts'\n",
    "    \n",
    "    build_legend(adata, 'n_features_by_count', 'n_features_by_count')\n",
    "    build_legend(adata, 'log1p_n_features_by_counts', 'log1p_n_features_by_counts')\n",
    "    build_legend(adata, 'total_counts', 'total_counts')\n",
    "    build_legend(adata, 'log1p_total_counts', 'log1p_total_counts')\n",
    "\n",
    "adata.obs"
   ]
  },
  {
   "cell_type": "markdown",
   "id": "a26513bb",
   "metadata": {
    "pycharm": {
     "name": "#%% md\n"
    }
   },
   "source": [
    "### 2. calc mean insertsize and count if missing "
   ]
  },
  {
   "cell_type": "code",
   "execution_count": null,
   "id": "c414cbec",
   "metadata": {},
   "outputs": [],
   "source": [
    "if qc_columns['mean_insertsize'] is None or qc_columns['insertsize_count'] is None:\n",
    "    atac.add_insertsize(adata, fragments=fragments_file) # or use bam=bam_file instead of fragments\n",
    "    \n",
    "    # update column dictionary\n",
    "    qc_columns['mean_insertsize'] = 'mean_insertsize'\n",
    "    qc_columns['insertsize_count'] = 'insertsize_count'\n",
    "    \n",
    "    # update infoprocess table\n",
    "    build_legend(adata, 'mean_insertsize', 'mean_insertsize')\n",
    "    build_legend(adata, 'insertsize_count', 'insertsize_count')\n",
    "    \n",
    "adata.obs"
   ]
  },
  {
   "cell_type": "code",
   "execution_count": null,
   "id": "43ab288f",
   "metadata": {},
   "outputs": [],
   "source": [
    "atac.plot_insertsize(adata, barcodes=None)"
   ]
  },
  {
   "cell_type": "markdown",
   "id": "5a1bfbd4",
   "metadata": {
    "pycharm": {
     "name": "#%% md\n"
    }
   },
   "source": [
    "### 3. promotor enrichment "
   ]
  },
  {
   "cell_type": "code",
   "execution_count": null,
   "id": "bee812e1",
   "metadata": {
    "pycharm": {
     "name": "#%%\n"
    }
   },
   "outputs": [],
   "source": [
    "if qc_columns['n_fragments_in_promoters'] is None:\n",
    "    overlap.pct_fragments_in_promoters(adata, gtf_file=promoters_gtf, species=species, bam_file=bam_file, cb_col=None, nproc=1)\n",
    "    \n",
    "    # n_total_fragments, n_fragments_in_promoters, pct_fragments_in_promoters\n",
    "    # update column dictionary\n",
    "    qc_columns['n_total_fragments'] = 'n_total_fragments'\n",
    "    qc_columns['n_fragments_in_promoters'] = 'n_fragments_in_promoters'\n",
    "    qc_columns['pct_fragments_in_promoters'] = 'pct_fragments_in_promoters'\n",
    "    # update infoprocess table\n",
    "    build_legend(adata, 'n_total_fragments', 'n_total_fragments')\n",
    "    build_legend(adata, 'n_fragments_in_promoters', 'n_fragments_in_promoters')\n",
    "    build_legend(adata, 'pct_fragments_in_promoters', 'pct_fragments_in_promoters')\n",
    "    "
   ]
  },
  {
   "cell_type": "markdown",
   "id": "4451f816",
   "metadata": {
    "pycharm": {
     "name": "#%% md\n"
    }
   },
   "source": [
    "## Inspect adata.obs"
   ]
  },
  {
   "cell_type": "code",
   "execution_count": null,
   "id": "e0b1e1d1",
   "metadata": {
    "pycharm": {
     "name": "#%%\n"
    }
   },
   "outputs": [],
   "source": [
    "adata.obs"
   ]
  },
  {
   "cell_type": "markdown",
   "id": "dae390c8",
   "metadata": {
    "pycharm": {
     "name": "#%% md\n"
    }
   },
   "source": [
    "## Save adata to .h5ad"
   ]
  },
  {
   "cell_type": "code",
   "execution_count": null,
   "id": "85e8cf07",
   "metadata": {
    "pycharm": {
     "name": "#%%\n"
    }
   },
   "outputs": [],
   "source": [
    "adata_output = tree.assembled_anndata\n",
    "adata_output"
   ]
  },
  {
   "cell_type": "code",
   "execution_count": null,
   "id": "33800239",
   "metadata": {
    "pycharm": {
     "name": "#%%\n"
    }
   },
   "outputs": [],
   "source": [
    "#Saving the data\n",
    "cr.build_infor(adata, \"Test_number\", test)\n",
    "cr.build_infor(adata, \"Anndata_path\", output_dir)\n",
    "\n",
    "adata_output = tree.assembled_anndata\n",
    "adata.write(filename=adata_output)"
   ]
  },
  {
   "cell_type": "code",
   "execution_count": null,
   "id": "c9437c45",
   "metadata": {},
   "outputs": [],
   "source": []
  }
 ],
 "metadata": {
  "kernelspec": {
   "display_name": "Python 3 (ipykernel)",
   "language": "python",
   "name": "python3"
  },
  "language_info": {
   "codemirror_mode": {
    "name": "ipython",
    "version": 3
   },
   "file_extension": ".py",
   "mimetype": "text/x-python",
   "name": "python",
   "nbconvert_exporter": "python",
   "pygments_lexer": "ipython3",
   "version": "3.8.10"
  }
 },
 "nbformat": 4,
 "nbformat_minor": 5
}
