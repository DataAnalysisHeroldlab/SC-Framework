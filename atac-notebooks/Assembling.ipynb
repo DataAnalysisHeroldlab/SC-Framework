{
 "cells": [
  {
   "cell_type": "markdown",
   "id": "bf52b2e2",
   "metadata": {
    "pycharm": {
     "name": "#%% md\n"
    }
   },
   "source": [
    "# Assembling\n",
    "\n",
    "This notebook is used to assemble a processable h5ad object for subsequent notebooks."
   ]
  },
  {
   "cell_type": "markdown",
   "id": "c9e8b8fd",
   "metadata": {
    "pycharm": {
     "name": "#%% md\n"
    }
   },
   "source": [
    "## Fill in input data, output and settings"
   ]
  },
  {
   "cell_type": "code",
   "execution_count": 1,
   "id": "120c0f22",
   "metadata": {
    "pycharm": {
     "name": "#%%\n"
    }
   },
   "outputs": [],
   "source": [
    "####################### TEST NAME ###################################\n",
    "test = 'cropped_146'\n",
    "################### DEFINING STRATEGY ###############################\n",
    "from_h5ad = True #option 1\n",
    "assembling_10_velocity = False #option 2\n",
    "assembling_10_public = False #option 3\n",
    "convert_seurat = False #option 4\n",
    "\n",
    "###################### INPUT DATA ###################################\n",
    "\n",
    "#For option 1: The path to an existing .h5ad file\n",
    "h5ad_path = '/home/rstudio/data/anndata/cropped_146.h5ad'\n",
    "#Manually set existing QC Columns\n",
    "mean_insertsize = None\n",
    "insertsize_count = None\n",
    "n_total_fragments = None\n",
    "n_fragments_in_promoters = None\n",
    "pct_fragments_in_promotors = None\n",
    "blacklist_overlaps = None\n",
    "#total_number_of_fragments\n",
    "TN = 'TN'\n",
    "#uniquely_mapped_fragments\n",
    "UM = 'UM'\n",
    "#properly_paired_fragments\n",
    "PP = 'PP'\n",
    "#uniq_fragments\n",
    "UQ = 'UQ'\n",
    "#chrM_fragments\n",
    "UM = 'UM'\n",
    "\n",
    "#################### Calc QC Columns ###############################\n",
    "#set available number of threads\n",
    "n_threads = 8\n",
    "\n",
    "#if the mean_insertsize should be calculated specify either a BAM file or a fragments file:\n",
    "fragments_file = '/home/rstudio/data/bamfiles/fragments_cropped_146.bed'\n",
    "bam_file = '/home/rstudio/data/bamfiles/sorted_cropped_146.bam'\n",
    "\n",
    "#specify promotors_gtf if another promoter than the fixed ones should be used\n",
    "#if promotors is None please specify species\n",
    "#promoters_gtf =  '/mnt/flatfiles/organisms/new_organism/homo_sapiens/104/homo_sapiens.104.promoters2000.gtf'\n",
    "promoters_gtf = '/home/rstudio/data/homo_sapiens.104.promoters2000.gtf'\n",
    "species = None\n",
    "\n",
    "##################### OUTPUT DATA ###################################\n",
    "output_dir = '/home/rstudio/processed_data'"
   ]
  },
  {
   "cell_type": "markdown",
   "id": "6d6dd817",
   "metadata": {
    "pycharm": {
     "name": "#%% md\n"
    }
   },
   "source": [
    "## Import modules"
   ]
  },
  {
   "cell_type": "code",
   "execution_count": 2,
   "id": "c997211a",
   "metadata": {
    "pycharm": {
     "name": "#%%\n"
    }
   },
   "outputs": [],
   "source": [
    "# sctoolbox modules \n",
    "import sctoolbox.atac_tree as sub_tree\n",
    "import sctoolbox.creators as cr\n",
    "import sctoolbox.fragment_length as fragments\n",
    "import sctoolbox.atac as atac\n",
    "import sctoolbox.calc_overlap_pct as overlap\n",
    "from sctoolbox.qc_filter import *\n",
    "from sctoolbox.atac_utils import *\n",
    "# import episcanpy\n",
    "import episcanpy as epi"
   ]
  },
  {
   "cell_type": "markdown",
   "id": "4fc0e3d7",
   "metadata": {
    "pycharm": {
     "name": "#%% md\n"
    }
   },
   "source": [
    "## Setup path handling object "
   ]
  },
  {
   "cell_type": "code",
   "execution_count": 3,
   "id": "880c04fb",
   "metadata": {
    "pycharm": {
     "name": "#%%\n"
    }
   },
   "outputs": [
    {
     "name": "stdout",
     "output_type": "stream",
     "text": [
      "Warning: run is None\n",
      "all directories existing\n",
      "all directories existing\n"
     ]
    }
   ],
   "source": [
    "# make an instance of the class\n",
    "tree = sub_tree.ATAC_tree()\n",
    "# set processing/output directory\n",
    "tree.processing_dir = output_dir\n",
    "# set sample/experiment.. \n",
    "tree.run = test"
   ]
  },
  {
   "cell_type": "markdown",
   "id": "84b9cddf",
   "metadata": {
    "pycharm": {
     "name": "#%% md\n"
    }
   },
   "source": [
    "## Read in data"
   ]
  },
  {
   "cell_type": "markdown",
   "id": "7e7b43d6",
   "metadata": {
    "pycharm": {
     "name": "#%% md\n"
    }
   },
   "source": [
    "### Option 1: Read from .h5ad"
   ]
  },
  {
   "cell_type": "code",
   "execution_count": 4,
   "id": "96a9a071",
   "metadata": {
    "pycharm": {
     "name": "#%%\n"
    }
   },
   "outputs": [],
   "source": [
    "qc_columns = {}\n",
    "qc_columns[\"mean_insertsize\"] = mean_insertsize\n",
    "qc_columns['n_total_fragments'] = n_total_fragments\n",
    "qc_columns['n_fragments_in_promoters'] = n_fragments_in_promoters\n",
    "qc_columns['pct_fragments_in_promotors'] = pct_fragments_in_promotors\n",
    "qc_columns[\"blacklist_overlaps\"] = blacklist_overlaps\n",
    "qc_columns[\"TN\"] = TN\n",
    "qc_columns[\"UM\"] = UM\n",
    "qc_columns[\"PP\"] = PP\n",
    "qc_columns[\"UQ\"] = UQ\n",
    "qc_columns[\"UM\"] = UM"
   ]
  },
  {
   "cell_type": "code",
   "execution_count": 5,
   "id": "448b01bf",
   "metadata": {
    "pycharm": {
     "name": "#%%\n"
    }
   },
   "outputs": [
    {
     "name": "stdout",
     "output_type": "stream",
     "text": [
      "add existing adata.obs columns to infoprocess:\n",
      "\n",
      "TN:TN\n",
      "UM:UM\n",
      "PP:PP\n",
      "UQ:UQ\n",
      "setting adata.obs.index = adata.obs[barcode]\n"
     ]
    },
    {
     "name": "stderr",
     "output_type": "stream",
     "text": [
      " ImplicitModificationWarning:/usr/local/lib/python3.8/dist-packages/anndata/_core/anndata.py:121: Transforming to str index.\n"
     ]
    }
   ],
   "source": [
    "if from_h5ad:\n",
    "    \n",
    "    adata = epi.read_h5ad(h5ad_path)\n",
    "    \n",
    "    #Add information to the infoprocess\n",
    "    cr.build_infor(adata, \"Input_for_assembling\", h5ad_path)\n",
    "    cr.build_infor(adata, \"Strategy\", \"Read from h5ad\")\n",
    "    \n",
    "    print('add existing adata.obs columns to infoprocess:')\n",
    "    print()\n",
    "    for key, value in qc_columns.items():\n",
    "        if value is not None:\n",
    "            print(key + ':' + value)\n",
    "            if value in adata.obs.columns:\n",
    "                build_legend(adata, key, value)\n",
    "            else:\n",
    "                print('column:  ' + value + ' is not in adata.obs')\n",
    "    \n",
    "    if not adata.obs.index.name == \"barcode\":\n",
    "        print('setting adata.obs.index = adata.obs[barcode]')\n",
    "        adata.obs = adata.obs.set_index(\"barcode\")\n",
    "    else:\n",
    "        print('barcodes are already the index')\n",
    "    "
   ]
  },
  {
   "cell_type": "markdown",
   "id": "746f9da5",
   "metadata": {
    "pycharm": {
     "name": "#%% md\n"
    }
   },
   "source": [
    "## Inspect adata"
   ]
  },
  {
   "cell_type": "code",
   "execution_count": 6,
   "id": "9e059525",
   "metadata": {
    "pycharm": {
     "name": "#%%\n"
    }
   },
   "outputs": [
    {
     "data": {
      "text/plain": [
       "AnnData object with n_obs × n_vars = 373 × 3830\n",
       "    obs: 'TN', 'UM', 'PP', 'UQ', 'CM', 'file', 'sample'\n",
       "    var: 'name'\n",
       "    uns: 'infoprocess', 'color_set', 'legend'"
      ]
     },
     "metadata": {},
     "output_type": "display_data"
    }
   ],
   "source": [
    "display(adata)"
   ]
  },
  {
   "cell_type": "code",
   "execution_count": 7,
   "id": "d4ec8cb1",
   "metadata": {
    "pycharm": {
     "name": "#%%\n"
    }
   },
   "outputs": [
    {
     "data": {
      "text/html": [
       "<div>\n",
       "<style scoped>\n",
       "    .dataframe tbody tr th:only-of-type {\n",
       "        vertical-align: middle;\n",
       "    }\n",
       "\n",
       "    .dataframe tbody tr th {\n",
       "        vertical-align: top;\n",
       "    }\n",
       "\n",
       "    .dataframe thead th {\n",
       "        text-align: right;\n",
       "    }\n",
       "</style>\n",
       "<table border=\"1\" class=\"dataframe\">\n",
       "  <thead>\n",
       "    <tr style=\"text-align: right;\">\n",
       "      <th></th>\n",
       "      <th>name</th>\n",
       "    </tr>\n",
       "  </thead>\n",
       "  <tbody>\n",
       "    <tr>\n",
       "      <th>0</th>\n",
       "      <td>b'chr1':9993-10421</td>\n",
       "    </tr>\n",
       "    <tr>\n",
       "      <th>1</th>\n",
       "      <td>b'chr1':29089-29368</td>\n",
       "    </tr>\n",
       "    <tr>\n",
       "      <th>2</th>\n",
       "      <td>b'chr1':180548-180799</td>\n",
       "    </tr>\n",
       "    <tr>\n",
       "      <th>3</th>\n",
       "      <td>b'chr1':199689-199928</td>\n",
       "    </tr>\n",
       "    <tr>\n",
       "      <th>4</th>\n",
       "      <td>b'chr1':629307-629902</td>\n",
       "    </tr>\n",
       "    <tr>\n",
       "      <th>...</th>\n",
       "      <td>...</td>\n",
       "    </tr>\n",
       "    <tr>\n",
       "      <th>3825</th>\n",
       "      <td>b'chrY':318869-319190</td>\n",
       "    </tr>\n",
       "    <tr>\n",
       "      <th>3826</th>\n",
       "      <td>b'chrY':386933-387197</td>\n",
       "    </tr>\n",
       "    <tr>\n",
       "      <th>3827</th>\n",
       "      <td>b'chrY':1453156-1453412</td>\n",
       "    </tr>\n",
       "    <tr>\n",
       "      <th>3828</th>\n",
       "      <td>b'chrY':1591522-1591761</td>\n",
       "    </tr>\n",
       "    <tr>\n",
       "      <th>3829</th>\n",
       "      <td>b'chrY':57216876-57217249</td>\n",
       "    </tr>\n",
       "  </tbody>\n",
       "</table>\n",
       "<p>3830 rows × 1 columns</p>\n",
       "</div>"
      ],
      "text/plain": [
       "                           name\n",
       "0            b'chr1':9993-10421\n",
       "1           b'chr1':29089-29368\n",
       "2         b'chr1':180548-180799\n",
       "3         b'chr1':199689-199928\n",
       "4         b'chr1':629307-629902\n",
       "...                         ...\n",
       "3825      b'chrY':318869-319190\n",
       "3826      b'chrY':386933-387197\n",
       "3827    b'chrY':1453156-1453412\n",
       "3828    b'chrY':1591522-1591761\n",
       "3829  b'chrY':57216876-57217249\n",
       "\n",
       "[3830 rows x 1 columns]"
      ]
     },
     "metadata": {},
     "output_type": "display_data"
    }
   ],
   "source": [
    "display(adata.var)"
   ]
  },
  {
   "cell_type": "code",
   "execution_count": 8,
   "id": "97a9760e",
   "metadata": {
    "pycharm": {
     "name": "#%%\n"
    }
   },
   "outputs": [
    {
     "data": {
      "text/html": [
       "<div>\n",
       "<style scoped>\n",
       "    .dataframe tbody tr th:only-of-type {\n",
       "        vertical-align: middle;\n",
       "    }\n",
       "\n",
       "    .dataframe tbody tr th {\n",
       "        vertical-align: top;\n",
       "    }\n",
       "\n",
       "    .dataframe thead th {\n",
       "        text-align: right;\n",
       "    }\n",
       "</style>\n",
       "<table border=\"1\" class=\"dataframe\">\n",
       "  <thead>\n",
       "    <tr style=\"text-align: right;\">\n",
       "      <th></th>\n",
       "      <th>TN</th>\n",
       "      <th>UM</th>\n",
       "      <th>PP</th>\n",
       "      <th>UQ</th>\n",
       "      <th>CM</th>\n",
       "      <th>file</th>\n",
       "      <th>sample</th>\n",
       "    </tr>\n",
       "    <tr>\n",
       "      <th>barcode</th>\n",
       "      <th></th>\n",
       "      <th></th>\n",
       "      <th></th>\n",
       "      <th></th>\n",
       "      <th></th>\n",
       "      <th></th>\n",
       "      <th></th>\n",
       "    </tr>\n",
       "  </thead>\n",
       "  <tbody>\n",
       "    <tr>\n",
       "      <th>AAACTACCAGAAACCCGAGATA</th>\n",
       "      <td>33.0</td>\n",
       "      <td>18.0</td>\n",
       "      <td>18.0</td>\n",
       "      <td>15.0</td>\n",
       "      <td>0.0</td>\n",
       "      <td>/opt/project/data/snap/cropped_146.snap</td>\n",
       "      <td>MB</td>\n",
       "    </tr>\n",
       "    <tr>\n",
       "      <th>AAACTACCAGAAACCTAAGTGG</th>\n",
       "      <td>52.0</td>\n",
       "      <td>36.0</td>\n",
       "      <td>35.0</td>\n",
       "      <td>32.0</td>\n",
       "      <td>1.0</td>\n",
       "      <td>/opt/project/data/snap/cropped_146.snap</td>\n",
       "      <td>MB</td>\n",
       "    </tr>\n",
       "    <tr>\n",
       "      <th>AAACTACCAGAAACGGATCAGT</th>\n",
       "      <td>27.0</td>\n",
       "      <td>19.0</td>\n",
       "      <td>19.0</td>\n",
       "      <td>19.0</td>\n",
       "      <td>0.0</td>\n",
       "      <td>/opt/project/data/snap/cropped_146.snap</td>\n",
       "      <td>MB</td>\n",
       "    </tr>\n",
       "    <tr>\n",
       "      <th>AAACTACCAGAAACGTCCCGTT</th>\n",
       "      <td>6223.0</td>\n",
       "      <td>5231.0</td>\n",
       "      <td>5213.0</td>\n",
       "      <td>3779.0</td>\n",
       "      <td>18.0</td>\n",
       "      <td>/opt/project/data/snap/cropped_146.snap</td>\n",
       "      <td>MB</td>\n",
       "    </tr>\n",
       "    <tr>\n",
       "      <th>AAACTACCAGAAACTAGCCCTA</th>\n",
       "      <td>41.0</td>\n",
       "      <td>29.0</td>\n",
       "      <td>29.0</td>\n",
       "      <td>26.0</td>\n",
       "      <td>0.0</td>\n",
       "      <td>/opt/project/data/snap/cropped_146.snap</td>\n",
       "      <td>MB</td>\n",
       "    </tr>\n",
       "    <tr>\n",
       "      <th>...</th>\n",
       "      <td>...</td>\n",
       "      <td>...</td>\n",
       "      <td>...</td>\n",
       "      <td>...</td>\n",
       "      <td>...</td>\n",
       "      <td>...</td>\n",
       "      <td>...</td>\n",
       "    </tr>\n",
       "    <tr>\n",
       "      <th>AAACTACCAGCTTGGCAACAGC</th>\n",
       "      <td>26.0</td>\n",
       "      <td>20.0</td>\n",
       "      <td>20.0</td>\n",
       "      <td>20.0</td>\n",
       "      <td>1.0</td>\n",
       "      <td>/opt/project/data/snap/cropped_146.snap</td>\n",
       "      <td>MB</td>\n",
       "    </tr>\n",
       "    <tr>\n",
       "      <th>AAACTACCAGCTTTAACTGCGC</th>\n",
       "      <td>29.0</td>\n",
       "      <td>20.0</td>\n",
       "      <td>20.0</td>\n",
       "      <td>19.0</td>\n",
       "      <td>0.0</td>\n",
       "      <td>/opt/project/data/snap/cropped_146.snap</td>\n",
       "      <td>MB</td>\n",
       "    </tr>\n",
       "    <tr>\n",
       "      <th>AAACTACCAGCTTTAGCCCTAT</th>\n",
       "      <td>32.0</td>\n",
       "      <td>24.0</td>\n",
       "      <td>24.0</td>\n",
       "      <td>24.0</td>\n",
       "      <td>1.0</td>\n",
       "      <td>/opt/project/data/snap/cropped_146.snap</td>\n",
       "      <td>MB</td>\n",
       "    </tr>\n",
       "    <tr>\n",
       "      <th>AAACTACCAGCTTTAGCTGACT</th>\n",
       "      <td>10437.0</td>\n",
       "      <td>9231.0</td>\n",
       "      <td>9206.0</td>\n",
       "      <td>6209.0</td>\n",
       "      <td>17.0</td>\n",
       "      <td>/opt/project/data/snap/cropped_146.snap</td>\n",
       "      <td>MB</td>\n",
       "    </tr>\n",
       "    <tr>\n",
       "      <th>AAACTACCAGCTTTGGGACGGT</th>\n",
       "      <td>10849.0</td>\n",
       "      <td>9484.0</td>\n",
       "      <td>9462.0</td>\n",
       "      <td>6968.0</td>\n",
       "      <td>14.0</td>\n",
       "      <td>/opt/project/data/snap/cropped_146.snap</td>\n",
       "      <td>MB</td>\n",
       "    </tr>\n",
       "  </tbody>\n",
       "</table>\n",
       "<p>373 rows × 7 columns</p>\n",
       "</div>"
      ],
      "text/plain": [
       "                             TN      UM      PP      UQ    CM  \\\n",
       "barcode                                                         \n",
       "AAACTACCAGAAACCCGAGATA     33.0    18.0    18.0    15.0   0.0   \n",
       "AAACTACCAGAAACCTAAGTGG     52.0    36.0    35.0    32.0   1.0   \n",
       "AAACTACCAGAAACGGATCAGT     27.0    19.0    19.0    19.0   0.0   \n",
       "AAACTACCAGAAACGTCCCGTT   6223.0  5231.0  5213.0  3779.0  18.0   \n",
       "AAACTACCAGAAACTAGCCCTA     41.0    29.0    29.0    26.0   0.0   \n",
       "...                         ...     ...     ...     ...   ...   \n",
       "AAACTACCAGCTTGGCAACAGC     26.0    20.0    20.0    20.0   1.0   \n",
       "AAACTACCAGCTTTAACTGCGC     29.0    20.0    20.0    19.0   0.0   \n",
       "AAACTACCAGCTTTAGCCCTAT     32.0    24.0    24.0    24.0   1.0   \n",
       "AAACTACCAGCTTTAGCTGACT  10437.0  9231.0  9206.0  6209.0  17.0   \n",
       "AAACTACCAGCTTTGGGACGGT  10849.0  9484.0  9462.0  6968.0  14.0   \n",
       "\n",
       "                                                           file sample  \n",
       "barcode                                                                 \n",
       "AAACTACCAGAAACCCGAGATA  /opt/project/data/snap/cropped_146.snap     MB  \n",
       "AAACTACCAGAAACCTAAGTGG  /opt/project/data/snap/cropped_146.snap     MB  \n",
       "AAACTACCAGAAACGGATCAGT  /opt/project/data/snap/cropped_146.snap     MB  \n",
       "AAACTACCAGAAACGTCCCGTT  /opt/project/data/snap/cropped_146.snap     MB  \n",
       "AAACTACCAGAAACTAGCCCTA  /opt/project/data/snap/cropped_146.snap     MB  \n",
       "...                                                         ...    ...  \n",
       "AAACTACCAGCTTGGCAACAGC  /opt/project/data/snap/cropped_146.snap     MB  \n",
       "AAACTACCAGCTTTAACTGCGC  /opt/project/data/snap/cropped_146.snap     MB  \n",
       "AAACTACCAGCTTTAGCCCTAT  /opt/project/data/snap/cropped_146.snap     MB  \n",
       "AAACTACCAGCTTTAGCTGACT  /opt/project/data/snap/cropped_146.snap     MB  \n",
       "AAACTACCAGCTTTGGGACGGT  /opt/project/data/snap/cropped_146.snap     MB  \n",
       "\n",
       "[373 rows x 7 columns]"
      ]
     },
     "metadata": {},
     "output_type": "display_data"
    }
   ],
   "source": [
    "display(adata.obs)"
   ]
  },
  {
   "cell_type": "markdown",
   "id": "3405de5d",
   "metadata": {
    "pycharm": {
     "name": "#%% md\n"
    }
   },
   "source": [
    "## Calculate missing columns"
   ]
  },
  {
   "cell_type": "markdown",
   "id": "a26513bb",
   "metadata": {
    "pycharm": {
     "name": "#%% md\n"
    }
   },
   "source": [
    "### 1. calc mean insertsize and count if missing "
   ]
  },
  {
   "cell_type": "code",
   "execution_count": 9,
   "id": "c414cbec",
   "metadata": {},
   "outputs": [
    {
     "name": "stdout",
     "output_type": "stream",
     "text": [
      "Opening bam file...\n",
      "Creating chunks of size 100000bp...\n",
      "Counting insertsizes across 30895 chunks...\n"
     ]
    },
    {
     "data": {
      "application/vnd.jupyter.widget-view+json": {
       "model_id": "68b06762511b4773a0e7ae191f4f609c",
       "version_major": 2,
       "version_minor": 0
      },
      "text/plain": [
       "Progress:   0%|          | 0/30895 [00:00<?, ?chunks/s]"
      ]
     },
     "metadata": {},
     "output_type": "display_data"
    },
    {
     "name": "stdout",
     "output_type": "stream",
     "text": [
      "Converting counts to dataframe\n",
      "Done getting insertsizes from bam!\n",
      "Added insertsize information to adata.obs[[\"insertsize_count\", \"mean_insertsize\"]] and adata.uns[\"insertsize_distribution\"].\n"
     ]
    },
    {
     "data": {
      "text/html": [
       "<div>\n",
       "<style scoped>\n",
       "    .dataframe tbody tr th:only-of-type {\n",
       "        vertical-align: middle;\n",
       "    }\n",
       "\n",
       "    .dataframe tbody tr th {\n",
       "        vertical-align: top;\n",
       "    }\n",
       "\n",
       "    .dataframe thead th {\n",
       "        text-align: right;\n",
       "    }\n",
       "</style>\n",
       "<table border=\"1\" class=\"dataframe\">\n",
       "  <thead>\n",
       "    <tr style=\"text-align: right;\">\n",
       "      <th></th>\n",
       "      <th>TN</th>\n",
       "      <th>UM</th>\n",
       "      <th>PP</th>\n",
       "      <th>UQ</th>\n",
       "      <th>CM</th>\n",
       "      <th>file</th>\n",
       "      <th>sample</th>\n",
       "      <th>insertsize_count</th>\n",
       "      <th>mean_insertsize</th>\n",
       "    </tr>\n",
       "    <tr>\n",
       "      <th>barcode</th>\n",
       "      <th></th>\n",
       "      <th></th>\n",
       "      <th></th>\n",
       "      <th></th>\n",
       "      <th></th>\n",
       "      <th></th>\n",
       "      <th></th>\n",
       "      <th></th>\n",
       "      <th></th>\n",
       "    </tr>\n",
       "  </thead>\n",
       "  <tbody>\n",
       "    <tr>\n",
       "      <th>AAACTACCAGAAACCCGAGATA</th>\n",
       "      <td>33.0</td>\n",
       "      <td>18.0</td>\n",
       "      <td>18.0</td>\n",
       "      <td>15.0</td>\n",
       "      <td>0.0</td>\n",
       "      <td>/opt/project/data/snap/cropped_146.snap</td>\n",
       "      <td>MB</td>\n",
       "      <td>44</td>\n",
       "      <td>90.91</td>\n",
       "    </tr>\n",
       "    <tr>\n",
       "      <th>AAACTACCAGAAACCTAAGTGG</th>\n",
       "      <td>52.0</td>\n",
       "      <td>36.0</td>\n",
       "      <td>35.0</td>\n",
       "      <td>32.0</td>\n",
       "      <td>1.0</td>\n",
       "      <td>/opt/project/data/snap/cropped_146.snap</td>\n",
       "      <td>MB</td>\n",
       "      <td>82</td>\n",
       "      <td>143.39</td>\n",
       "    </tr>\n",
       "    <tr>\n",
       "      <th>AAACTACCAGAAACGGATCAGT</th>\n",
       "      <td>27.0</td>\n",
       "      <td>19.0</td>\n",
       "      <td>19.0</td>\n",
       "      <td>19.0</td>\n",
       "      <td>0.0</td>\n",
       "      <td>/opt/project/data/snap/cropped_146.snap</td>\n",
       "      <td>MB</td>\n",
       "      <td>38</td>\n",
       "      <td>151.21</td>\n",
       "    </tr>\n",
       "    <tr>\n",
       "      <th>AAACTACCAGAAACGTCCCGTT</th>\n",
       "      <td>6223.0</td>\n",
       "      <td>5231.0</td>\n",
       "      <td>5213.0</td>\n",
       "      <td>3779.0</td>\n",
       "      <td>18.0</td>\n",
       "      <td>/opt/project/data/snap/cropped_146.snap</td>\n",
       "      <td>MB</td>\n",
       "      <td>11860</td>\n",
       "      <td>130.28</td>\n",
       "    </tr>\n",
       "    <tr>\n",
       "      <th>AAACTACCAGAAACTAGCCCTA</th>\n",
       "      <td>41.0</td>\n",
       "      <td>29.0</td>\n",
       "      <td>29.0</td>\n",
       "      <td>26.0</td>\n",
       "      <td>0.0</td>\n",
       "      <td>/opt/project/data/snap/cropped_146.snap</td>\n",
       "      <td>MB</td>\n",
       "      <td>60</td>\n",
       "      <td>113.80</td>\n",
       "    </tr>\n",
       "    <tr>\n",
       "      <th>...</th>\n",
       "      <td>...</td>\n",
       "      <td>...</td>\n",
       "      <td>...</td>\n",
       "      <td>...</td>\n",
       "      <td>...</td>\n",
       "      <td>...</td>\n",
       "      <td>...</td>\n",
       "      <td>...</td>\n",
       "      <td>...</td>\n",
       "    </tr>\n",
       "    <tr>\n",
       "      <th>AAACTACCAGCTTGGCAACAGC</th>\n",
       "      <td>26.0</td>\n",
       "      <td>20.0</td>\n",
       "      <td>20.0</td>\n",
       "      <td>20.0</td>\n",
       "      <td>1.0</td>\n",
       "      <td>/opt/project/data/snap/cropped_146.snap</td>\n",
       "      <td>MB</td>\n",
       "      <td>44</td>\n",
       "      <td>102.77</td>\n",
       "    </tr>\n",
       "    <tr>\n",
       "      <th>AAACTACCAGCTTTAACTGCGC</th>\n",
       "      <td>29.0</td>\n",
       "      <td>20.0</td>\n",
       "      <td>20.0</td>\n",
       "      <td>19.0</td>\n",
       "      <td>0.0</td>\n",
       "      <td>/opt/project/data/snap/cropped_146.snap</td>\n",
       "      <td>MB</td>\n",
       "      <td>42</td>\n",
       "      <td>124.00</td>\n",
       "    </tr>\n",
       "    <tr>\n",
       "      <th>AAACTACCAGCTTTAGCCCTAT</th>\n",
       "      <td>32.0</td>\n",
       "      <td>24.0</td>\n",
       "      <td>24.0</td>\n",
       "      <td>24.0</td>\n",
       "      <td>1.0</td>\n",
       "      <td>/opt/project/data/snap/cropped_146.snap</td>\n",
       "      <td>MB</td>\n",
       "      <td>54</td>\n",
       "      <td>117.11</td>\n",
       "    </tr>\n",
       "    <tr>\n",
       "      <th>AAACTACCAGCTTTAGCTGACT</th>\n",
       "      <td>10437.0</td>\n",
       "      <td>9231.0</td>\n",
       "      <td>9206.0</td>\n",
       "      <td>6209.0</td>\n",
       "      <td>17.0</td>\n",
       "      <td>/opt/project/data/snap/cropped_146.snap</td>\n",
       "      <td>MB</td>\n",
       "      <td>19861</td>\n",
       "      <td>116.48</td>\n",
       "    </tr>\n",
       "    <tr>\n",
       "      <th>AAACTACCAGCTTTGGGACGGT</th>\n",
       "      <td>10849.0</td>\n",
       "      <td>9484.0</td>\n",
       "      <td>9462.0</td>\n",
       "      <td>6968.0</td>\n",
       "      <td>14.0</td>\n",
       "      <td>/opt/project/data/snap/cropped_146.snap</td>\n",
       "      <td>MB</td>\n",
       "      <td>20495</td>\n",
       "      <td>136.58</td>\n",
       "    </tr>\n",
       "  </tbody>\n",
       "</table>\n",
       "<p>373 rows × 9 columns</p>\n",
       "</div>"
      ],
      "text/plain": [
       "                             TN      UM      PP      UQ    CM  \\\n",
       "barcode                                                         \n",
       "AAACTACCAGAAACCCGAGATA     33.0    18.0    18.0    15.0   0.0   \n",
       "AAACTACCAGAAACCTAAGTGG     52.0    36.0    35.0    32.0   1.0   \n",
       "AAACTACCAGAAACGGATCAGT     27.0    19.0    19.0    19.0   0.0   \n",
       "AAACTACCAGAAACGTCCCGTT   6223.0  5231.0  5213.0  3779.0  18.0   \n",
       "AAACTACCAGAAACTAGCCCTA     41.0    29.0    29.0    26.0   0.0   \n",
       "...                         ...     ...     ...     ...   ...   \n",
       "AAACTACCAGCTTGGCAACAGC     26.0    20.0    20.0    20.0   1.0   \n",
       "AAACTACCAGCTTTAACTGCGC     29.0    20.0    20.0    19.0   0.0   \n",
       "AAACTACCAGCTTTAGCCCTAT     32.0    24.0    24.0    24.0   1.0   \n",
       "AAACTACCAGCTTTAGCTGACT  10437.0  9231.0  9206.0  6209.0  17.0   \n",
       "AAACTACCAGCTTTGGGACGGT  10849.0  9484.0  9462.0  6968.0  14.0   \n",
       "\n",
       "                                                           file sample  \\\n",
       "barcode                                                                  \n",
       "AAACTACCAGAAACCCGAGATA  /opt/project/data/snap/cropped_146.snap     MB   \n",
       "AAACTACCAGAAACCTAAGTGG  /opt/project/data/snap/cropped_146.snap     MB   \n",
       "AAACTACCAGAAACGGATCAGT  /opt/project/data/snap/cropped_146.snap     MB   \n",
       "AAACTACCAGAAACGTCCCGTT  /opt/project/data/snap/cropped_146.snap     MB   \n",
       "AAACTACCAGAAACTAGCCCTA  /opt/project/data/snap/cropped_146.snap     MB   \n",
       "...                                                         ...    ...   \n",
       "AAACTACCAGCTTGGCAACAGC  /opt/project/data/snap/cropped_146.snap     MB   \n",
       "AAACTACCAGCTTTAACTGCGC  /opt/project/data/snap/cropped_146.snap     MB   \n",
       "AAACTACCAGCTTTAGCCCTAT  /opt/project/data/snap/cropped_146.snap     MB   \n",
       "AAACTACCAGCTTTAGCTGACT  /opt/project/data/snap/cropped_146.snap     MB   \n",
       "AAACTACCAGCTTTGGGACGGT  /opt/project/data/snap/cropped_146.snap     MB   \n",
       "\n",
       "                        insertsize_count  mean_insertsize  \n",
       "barcode                                                    \n",
       "AAACTACCAGAAACCCGAGATA                44            90.91  \n",
       "AAACTACCAGAAACCTAAGTGG                82           143.39  \n",
       "AAACTACCAGAAACGGATCAGT                38           151.21  \n",
       "AAACTACCAGAAACGTCCCGTT             11860           130.28  \n",
       "AAACTACCAGAAACTAGCCCTA                60           113.80  \n",
       "...                                  ...              ...  \n",
       "AAACTACCAGCTTGGCAACAGC                44           102.77  \n",
       "AAACTACCAGCTTTAACTGCGC                42           124.00  \n",
       "AAACTACCAGCTTTAGCCCTAT                54           117.11  \n",
       "AAACTACCAGCTTTAGCTGACT             19861           116.48  \n",
       "AAACTACCAGCTTTGGGACGGT             20495           136.58  \n",
       "\n",
       "[373 rows x 9 columns]"
      ]
     },
     "execution_count": 9,
     "metadata": {},
     "output_type": "execute_result"
    }
   ],
   "source": [
    "if qc_columns['mean_insertsize'] is None or qc_columns['insertsize_count'] is None:\n",
    "    atac.add_insertsize(adata, bam=bam_file)\n",
    "    \n",
    "    # update column dictionary\n",
    "    qc_columns['mean_insertsize'] = 'mean_insertsize'\n",
    "    qc_columns['insertsize_count'] = 'insertsize_count'\n",
    "    \n",
    "    # update infoprocess table\n",
    "    build_legend(adata, 'mean_insertsize', 'mean_insertsize')\n",
    "    build_legend(adata, 'insertsize_count', 'insertsize_count')\n",
    "    \n",
    "adata.obs"
   ]
  },
  {
   "cell_type": "markdown",
   "id": "5a1bfbd4",
   "metadata": {
    "pycharm": {
     "name": "#%% md\n"
    }
   },
   "source": [
    "### 2. promotor enrichment "
   ]
  },
  {
   "cell_type": "code",
   "execution_count": 11,
   "id": "bee812e1",
   "metadata": {
    "pycharm": {
     "name": "#%%\n"
    }
   },
   "outputs": [
    {
     "name": "stdout",
     "output_type": "stream",
     "text": [
      "Converting GTF to BED...\n",
      "Converting BAM to fragments file! This may take a while...\n",
      "Finished creating fragments file. Now sorting...\n",
      "Finished sorting fragments\n",
      "Finding overlaps...\n",
      "Calculating percentage...\n",
      "Adding results to adata object...\n"
     ]
    },
    {
     "ename": "TypeError",
     "evalue": "Cannot setitem on a Categorical with a new category (0), set the categories first",
     "output_type": "error",
     "traceback": [
      "\u001b[0;31m---------------------------------------------------------------------------\u001b[0m",
      "\u001b[0;31mTypeError\u001b[0m                                 Traceback (most recent call last)",
      "Input \u001b[0;32mIn [11]\u001b[0m, in \u001b[0;36m<cell line: 1>\u001b[0;34m()\u001b[0m\n\u001b[1;32m      1\u001b[0m \u001b[38;5;28;01mif\u001b[39;00m qc_columns[\u001b[38;5;124m'\u001b[39m\u001b[38;5;124mn_fragments_in_promoters\u001b[39m\u001b[38;5;124m'\u001b[39m] \u001b[38;5;129;01mis\u001b[39;00m \u001b[38;5;28;01mNone\u001b[39;00m:\n\u001b[0;32m----> 2\u001b[0m     \u001b[43moverlap\u001b[49m\u001b[38;5;241;43m.\u001b[39;49m\u001b[43mpct_fragments_in_promoters\u001b[49m\u001b[43m(\u001b[49m\u001b[43madata\u001b[49m\u001b[43m,\u001b[49m\u001b[43m \u001b[49m\u001b[43mpromoters_gtf\u001b[49m\u001b[43m,\u001b[49m\u001b[43m \u001b[49m\u001b[43mspecies\u001b[49m\u001b[38;5;241;43m=\u001b[39;49m\u001b[43mspecies\u001b[49m\u001b[43m,\u001b[49m\u001b[43m \u001b[49m\u001b[43mbam_file\u001b[49m\u001b[38;5;241;43m=\u001b[39;49m\u001b[43mbam_file\u001b[49m\u001b[43m,\u001b[49m\u001b[43m \u001b[49m\u001b[43mcb_col\u001b[49m\u001b[38;5;241;43m=\u001b[39;49m\u001b[38;5;28;43;01mNone\u001b[39;49;00m\u001b[43m,\u001b[49m\u001b[43m \u001b[49m\u001b[43mnproc\u001b[49m\u001b[38;5;241;43m=\u001b[39;49m\u001b[38;5;241;43m1\u001b[39;49m\u001b[43m)\u001b[49m\n\u001b[1;32m      4\u001b[0m     \u001b[38;5;66;03m# n_total_fragments, n_fragments_in_promoters, pct_fragments_in_promoters\u001b[39;00m\n\u001b[1;32m      5\u001b[0m     \u001b[38;5;66;03m# update column dictionary\u001b[39;00m\n\u001b[1;32m      6\u001b[0m     qc_columns[\u001b[38;5;124m'\u001b[39m\u001b[38;5;124mn_total_fragments\u001b[39m\u001b[38;5;124m'\u001b[39m] \u001b[38;5;241m=\u001b[39m \u001b[38;5;124m'\u001b[39m\u001b[38;5;124mn_total_fragments\u001b[39m\u001b[38;5;124m'\u001b[39m\n",
      "File \u001b[0;32m/usr/local/lib/python3.8/dist-packages/sctoolbox/calc_overlap_pct.py:223\u001b[0m, in \u001b[0;36mpct_fragments_in_promoters\u001b[0;34m(adata, gtf_file, bam_file, fragments_file, cb_col, species, nproc, sort_bam)\u001b[0m\n\u001b[1;32m    220\u001b[0m     promoters_gtf \u001b[38;5;241m=\u001b[39m gtf_file\n\u001b[1;32m    222\u001b[0m \u001b[38;5;66;03m# call function\u001b[39;00m\n\u001b[0;32m--> 223\u001b[0m \u001b[43mpct_fragments_overlap\u001b[49m\u001b[43m(\u001b[49m\u001b[43madata\u001b[49m\u001b[43m,\u001b[49m\u001b[43m \u001b[49m\u001b[43mregions_file\u001b[49m\u001b[38;5;241;43m=\u001b[39;49m\u001b[43mpromoters_gtf\u001b[49m\u001b[43m,\u001b[49m\u001b[43m \u001b[49m\u001b[43mbam_file\u001b[49m\u001b[38;5;241;43m=\u001b[39;49m\u001b[43mbam_file\u001b[49m\u001b[43m,\u001b[49m\u001b[43m \u001b[49m\u001b[43mfragments_file\u001b[49m\u001b[38;5;241;43m=\u001b[39;49m\u001b[43mfragments_file\u001b[49m\u001b[43m,\u001b[49m\n\u001b[1;32m    224\u001b[0m \u001b[43m                      \u001b[49m\u001b[43mcb_col\u001b[49m\u001b[38;5;241;43m=\u001b[39;49m\u001b[43mcb_col\u001b[49m\u001b[43m,\u001b[49m\u001b[43m \u001b[49m\u001b[43mregions_name\u001b[49m\u001b[38;5;241;43m=\u001b[39;49m\u001b[38;5;124;43m'\u001b[39;49m\u001b[38;5;124;43mpromoters\u001b[39;49m\u001b[38;5;124;43m'\u001b[39;49m\u001b[43m,\u001b[49m\u001b[43m \u001b[49m\u001b[43mnproc\u001b[49m\u001b[38;5;241;43m=\u001b[39;49m\u001b[43mnproc\u001b[49m\u001b[43m,\u001b[49m\u001b[43m \u001b[49m\u001b[43msort_bam\u001b[49m\u001b[38;5;241;43m=\u001b[39;49m\u001b[43msort_bam\u001b[49m\u001b[43m)\u001b[49m\n",
      "File \u001b[0;32m/usr/local/lib/python3.8/dist-packages/sctoolbox/calc_overlap_pct.py:339\u001b[0m, in \u001b[0;36mpct_fragments_overlap\u001b[0;34m(adata, regions_file, bam_file, fragments_file, cb_col, regions_name, nproc, sort_bam, sort_regions)\u001b[0m\n\u001b[1;32m    337\u001b[0m     adata\u001b[38;5;241m.\u001b[39mobs \u001b[38;5;241m=\u001b[39m adata\u001b[38;5;241m.\u001b[39mobs\u001b[38;5;241m.\u001b[39mmerge(fragments_df, left_on\u001b[38;5;241m=\u001b[39mcb_col, right_index\u001b[38;5;241m=\u001b[39m\u001b[38;5;28;01mTrue\u001b[39;00m, how\u001b[38;5;241m=\u001b[39m\u001b[38;5;124m'\u001b[39m\u001b[38;5;124mleft\u001b[39m\u001b[38;5;124m'\u001b[39m)\u001b[38;5;241m.\u001b[39mfillna(\u001b[38;5;241m0\u001b[39m)\n\u001b[1;32m    338\u001b[0m \u001b[38;5;28;01melse\u001b[39;00m:\n\u001b[0;32m--> 339\u001b[0m     adata\u001b[38;5;241m.\u001b[39mobs \u001b[38;5;241m=\u001b[39m \u001b[43madata\u001b[49m\u001b[38;5;241;43m.\u001b[39;49m\u001b[43mobs\u001b[49m\u001b[38;5;241;43m.\u001b[39;49m\u001b[43mmerge\u001b[49m\u001b[43m(\u001b[49m\u001b[43mfragments_df\u001b[49m\u001b[43m,\u001b[49m\u001b[43m \u001b[49m\u001b[43mhow\u001b[49m\u001b[38;5;241;43m=\u001b[39;49m\u001b[38;5;124;43m'\u001b[39;49m\u001b[38;5;124;43mleft\u001b[39;49m\u001b[38;5;124;43m'\u001b[39;49m\u001b[43m,\u001b[49m\u001b[43m \u001b[49m\u001b[43mleft_index\u001b[49m\u001b[38;5;241;43m=\u001b[39;49m\u001b[38;5;28;43;01mTrue\u001b[39;49;00m\u001b[43m,\u001b[49m\u001b[43m \u001b[49m\u001b[43mright_index\u001b[49m\u001b[38;5;241;43m=\u001b[39;49m\u001b[38;5;28;43;01mTrue\u001b[39;49;00m\u001b[43m)\u001b[49m\u001b[38;5;241;43m.\u001b[39;49m\u001b[43mfillna\u001b[49m\u001b[43m(\u001b[49m\u001b[38;5;241;43m0\u001b[39;49m\u001b[43m)\u001b[49m\n\u001b[1;32m    341\u001b[0m \u001b[38;5;28mprint\u001b[39m(\u001b[38;5;124m'\u001b[39m\u001b[38;5;124mDone\u001b[39m\u001b[38;5;124m'\u001b[39m)\n",
      "File \u001b[0;32m/usr/local/lib/python3.8/dist-packages/pandas/util/_decorators.py:311\u001b[0m, in \u001b[0;36mdeprecate_nonkeyword_arguments.<locals>.decorate.<locals>.wrapper\u001b[0;34m(*args, **kwargs)\u001b[0m\n\u001b[1;32m    305\u001b[0m \u001b[38;5;28;01mif\u001b[39;00m \u001b[38;5;28mlen\u001b[39m(args) \u001b[38;5;241m>\u001b[39m num_allow_args:\n\u001b[1;32m    306\u001b[0m     warnings\u001b[38;5;241m.\u001b[39mwarn(\n\u001b[1;32m    307\u001b[0m         msg\u001b[38;5;241m.\u001b[39mformat(arguments\u001b[38;5;241m=\u001b[39marguments),\n\u001b[1;32m    308\u001b[0m         \u001b[38;5;167;01mFutureWarning\u001b[39;00m,\n\u001b[1;32m    309\u001b[0m         stacklevel\u001b[38;5;241m=\u001b[39mstacklevel,\n\u001b[1;32m    310\u001b[0m     )\n\u001b[0;32m--> 311\u001b[0m \u001b[38;5;28;01mreturn\u001b[39;00m \u001b[43mfunc\u001b[49m\u001b[43m(\u001b[49m\u001b[38;5;241;43m*\u001b[39;49m\u001b[43margs\u001b[49m\u001b[43m,\u001b[49m\u001b[43m \u001b[49m\u001b[38;5;241;43m*\u001b[39;49m\u001b[38;5;241;43m*\u001b[39;49m\u001b[43mkwargs\u001b[49m\u001b[43m)\u001b[49m\n",
      "File \u001b[0;32m/usr/local/lib/python3.8/dist-packages/pandas/core/frame.py:5220\u001b[0m, in \u001b[0;36mDataFrame.fillna\u001b[0;34m(self, value, method, axis, inplace, limit, downcast)\u001b[0m\n\u001b[1;32m   5209\u001b[0m \u001b[38;5;129m@deprecate_nonkeyword_arguments\u001b[39m(version\u001b[38;5;241m=\u001b[39m\u001b[38;5;28;01mNone\u001b[39;00m, allowed_args\u001b[38;5;241m=\u001b[39m[\u001b[38;5;124m\"\u001b[39m\u001b[38;5;124mself\u001b[39m\u001b[38;5;124m\"\u001b[39m, \u001b[38;5;124m\"\u001b[39m\u001b[38;5;124mvalue\u001b[39m\u001b[38;5;124m\"\u001b[39m])\n\u001b[1;32m   5210\u001b[0m \u001b[38;5;129m@doc\u001b[39m(NDFrame\u001b[38;5;241m.\u001b[39mfillna, \u001b[38;5;241m*\u001b[39m\u001b[38;5;241m*\u001b[39m_shared_doc_kwargs)\n\u001b[1;32m   5211\u001b[0m \u001b[38;5;28;01mdef\u001b[39;00m \u001b[38;5;21mfillna\u001b[39m(\n\u001b[0;32m   (...)\u001b[0m\n\u001b[1;32m   5218\u001b[0m     downcast\u001b[38;5;241m=\u001b[39m\u001b[38;5;28;01mNone\u001b[39;00m,\n\u001b[1;32m   5219\u001b[0m ) \u001b[38;5;241m-\u001b[39m\u001b[38;5;241m>\u001b[39m DataFrame \u001b[38;5;241m|\u001b[39m \u001b[38;5;28;01mNone\u001b[39;00m:\n\u001b[0;32m-> 5220\u001b[0m     \u001b[38;5;28;01mreturn\u001b[39;00m \u001b[38;5;28;43msuper\u001b[39;49m\u001b[43m(\u001b[49m\u001b[43m)\u001b[49m\u001b[38;5;241;43m.\u001b[39;49m\u001b[43mfillna\u001b[49m\u001b[43m(\u001b[49m\n\u001b[1;32m   5221\u001b[0m \u001b[43m        \u001b[49m\u001b[43mvalue\u001b[49m\u001b[38;5;241;43m=\u001b[39;49m\u001b[43mvalue\u001b[49m\u001b[43m,\u001b[49m\n\u001b[1;32m   5222\u001b[0m \u001b[43m        \u001b[49m\u001b[43mmethod\u001b[49m\u001b[38;5;241;43m=\u001b[39;49m\u001b[43mmethod\u001b[49m\u001b[43m,\u001b[49m\n\u001b[1;32m   5223\u001b[0m \u001b[43m        \u001b[49m\u001b[43maxis\u001b[49m\u001b[38;5;241;43m=\u001b[39;49m\u001b[43maxis\u001b[49m\u001b[43m,\u001b[49m\n\u001b[1;32m   5224\u001b[0m \u001b[43m        \u001b[49m\u001b[43minplace\u001b[49m\u001b[38;5;241;43m=\u001b[39;49m\u001b[43minplace\u001b[49m\u001b[43m,\u001b[49m\n\u001b[1;32m   5225\u001b[0m \u001b[43m        \u001b[49m\u001b[43mlimit\u001b[49m\u001b[38;5;241;43m=\u001b[39;49m\u001b[43mlimit\u001b[49m\u001b[43m,\u001b[49m\n\u001b[1;32m   5226\u001b[0m \u001b[43m        \u001b[49m\u001b[43mdowncast\u001b[49m\u001b[38;5;241;43m=\u001b[39;49m\u001b[43mdowncast\u001b[49m\u001b[43m,\u001b[49m\n\u001b[1;32m   5227\u001b[0m \u001b[43m    \u001b[49m\u001b[43m)\u001b[49m\n",
      "File \u001b[0;32m/usr/local/lib/python3.8/dist-packages/pandas/core/generic.py:6496\u001b[0m, in \u001b[0;36mNDFrame.fillna\u001b[0;34m(self, value, method, axis, inplace, limit, downcast)\u001b[0m\n\u001b[1;32m   6493\u001b[0m         new_data \u001b[38;5;241m=\u001b[39m result\n\u001b[1;32m   6494\u001b[0m     \u001b[38;5;28;01melse\u001b[39;00m:\n\u001b[0;32m-> 6496\u001b[0m         new_data \u001b[38;5;241m=\u001b[39m \u001b[38;5;28;43mself\u001b[39;49m\u001b[38;5;241;43m.\u001b[39;49m\u001b[43m_mgr\u001b[49m\u001b[38;5;241;43m.\u001b[39;49m\u001b[43mfillna\u001b[49m\u001b[43m(\u001b[49m\n\u001b[1;32m   6497\u001b[0m \u001b[43m            \u001b[49m\u001b[43mvalue\u001b[49m\u001b[38;5;241;43m=\u001b[39;49m\u001b[43mvalue\u001b[49m\u001b[43m,\u001b[49m\u001b[43m \u001b[49m\u001b[43mlimit\u001b[49m\u001b[38;5;241;43m=\u001b[39;49m\u001b[43mlimit\u001b[49m\u001b[43m,\u001b[49m\u001b[43m \u001b[49m\u001b[43minplace\u001b[49m\u001b[38;5;241;43m=\u001b[39;49m\u001b[43minplace\u001b[49m\u001b[43m,\u001b[49m\u001b[43m \u001b[49m\u001b[43mdowncast\u001b[49m\u001b[38;5;241;43m=\u001b[39;49m\u001b[43mdowncast\u001b[49m\n\u001b[1;32m   6498\u001b[0m \u001b[43m        \u001b[49m\u001b[43m)\u001b[49m\n\u001b[1;32m   6499\u001b[0m \u001b[38;5;28;01melif\u001b[39;00m \u001b[38;5;28misinstance\u001b[39m(value, ABCDataFrame) \u001b[38;5;129;01mand\u001b[39;00m \u001b[38;5;28mself\u001b[39m\u001b[38;5;241m.\u001b[39mndim \u001b[38;5;241m==\u001b[39m \u001b[38;5;241m2\u001b[39m:\n\u001b[1;32m   6501\u001b[0m     new_data \u001b[38;5;241m=\u001b[39m \u001b[38;5;28mself\u001b[39m\u001b[38;5;241m.\u001b[39mwhere(\u001b[38;5;28mself\u001b[39m\u001b[38;5;241m.\u001b[39mnotna(), value)\u001b[38;5;241m.\u001b[39m_mgr\n",
      "File \u001b[0;32m/usr/local/lib/python3.8/dist-packages/pandas/core/internals/managers.py:414\u001b[0m, in \u001b[0;36mBaseBlockManager.fillna\u001b[0;34m(self, value, limit, inplace, downcast)\u001b[0m\n\u001b[1;32m    413\u001b[0m \u001b[38;5;28;01mdef\u001b[39;00m \u001b[38;5;21mfillna\u001b[39m(\u001b[38;5;28mself\u001b[39m: T, value, limit, inplace: \u001b[38;5;28mbool\u001b[39m, downcast) \u001b[38;5;241m-\u001b[39m\u001b[38;5;241m>\u001b[39m T:\n\u001b[0;32m--> 414\u001b[0m     \u001b[38;5;28;01mreturn\u001b[39;00m \u001b[38;5;28;43mself\u001b[39;49m\u001b[38;5;241;43m.\u001b[39;49m\u001b[43mapply\u001b[49m\u001b[43m(\u001b[49m\n\u001b[1;32m    415\u001b[0m \u001b[43m        \u001b[49m\u001b[38;5;124;43m\"\u001b[39;49m\u001b[38;5;124;43mfillna\u001b[39;49m\u001b[38;5;124;43m\"\u001b[39;49m\u001b[43m,\u001b[49m\u001b[43m \u001b[49m\u001b[43mvalue\u001b[49m\u001b[38;5;241;43m=\u001b[39;49m\u001b[43mvalue\u001b[49m\u001b[43m,\u001b[49m\u001b[43m \u001b[49m\u001b[43mlimit\u001b[49m\u001b[38;5;241;43m=\u001b[39;49m\u001b[43mlimit\u001b[49m\u001b[43m,\u001b[49m\u001b[43m \u001b[49m\u001b[43minplace\u001b[49m\u001b[38;5;241;43m=\u001b[39;49m\u001b[43minplace\u001b[49m\u001b[43m,\u001b[49m\u001b[43m \u001b[49m\u001b[43mdowncast\u001b[49m\u001b[38;5;241;43m=\u001b[39;49m\u001b[43mdowncast\u001b[49m\n\u001b[1;32m    416\u001b[0m \u001b[43m    \u001b[49m\u001b[43m)\u001b[49m\n",
      "File \u001b[0;32m/usr/local/lib/python3.8/dist-packages/pandas/core/internals/managers.py:304\u001b[0m, in \u001b[0;36mBaseBlockManager.apply\u001b[0;34m(self, f, align_keys, ignore_failures, **kwargs)\u001b[0m\n\u001b[1;32m    302\u001b[0m         applied \u001b[38;5;241m=\u001b[39m b\u001b[38;5;241m.\u001b[39mapply(f, \u001b[38;5;241m*\u001b[39m\u001b[38;5;241m*\u001b[39mkwargs)\n\u001b[1;32m    303\u001b[0m     \u001b[38;5;28;01melse\u001b[39;00m:\n\u001b[0;32m--> 304\u001b[0m         applied \u001b[38;5;241m=\u001b[39m \u001b[38;5;28;43mgetattr\u001b[39;49m\u001b[43m(\u001b[49m\u001b[43mb\u001b[49m\u001b[43m,\u001b[49m\u001b[43m \u001b[49m\u001b[43mf\u001b[49m\u001b[43m)\u001b[49m\u001b[43m(\u001b[49m\u001b[38;5;241;43m*\u001b[39;49m\u001b[38;5;241;43m*\u001b[39;49m\u001b[43mkwargs\u001b[49m\u001b[43m)\u001b[49m\n\u001b[1;32m    305\u001b[0m \u001b[38;5;28;01mexcept\u001b[39;00m (\u001b[38;5;167;01mTypeError\u001b[39;00m, \u001b[38;5;167;01mNotImplementedError\u001b[39;00m):\n\u001b[1;32m    306\u001b[0m     \u001b[38;5;28;01mif\u001b[39;00m \u001b[38;5;129;01mnot\u001b[39;00m ignore_failures:\n",
      "File \u001b[0;32m/usr/local/lib/python3.8/dist-packages/pandas/core/internals/blocks.py:1703\u001b[0m, in \u001b[0;36mExtensionBlock.fillna\u001b[0;34m(self, value, limit, inplace, downcast)\u001b[0m\n\u001b[1;32m   1700\u001b[0m \u001b[38;5;28;01mdef\u001b[39;00m \u001b[38;5;21mfillna\u001b[39m(\n\u001b[1;32m   1701\u001b[0m     \u001b[38;5;28mself\u001b[39m, value, limit\u001b[38;5;241m=\u001b[39m\u001b[38;5;28;01mNone\u001b[39;00m, inplace: \u001b[38;5;28mbool\u001b[39m \u001b[38;5;241m=\u001b[39m \u001b[38;5;28;01mFalse\u001b[39;00m, downcast\u001b[38;5;241m=\u001b[39m\u001b[38;5;28;01mNone\u001b[39;00m\n\u001b[1;32m   1702\u001b[0m ) \u001b[38;5;241m-\u001b[39m\u001b[38;5;241m>\u001b[39m \u001b[38;5;28mlist\u001b[39m[Block]:\n\u001b[0;32m-> 1703\u001b[0m     values \u001b[38;5;241m=\u001b[39m \u001b[38;5;28;43mself\u001b[39;49m\u001b[38;5;241;43m.\u001b[39;49m\u001b[43mvalues\u001b[49m\u001b[38;5;241;43m.\u001b[39;49m\u001b[43mfillna\u001b[49m\u001b[43m(\u001b[49m\u001b[43mvalue\u001b[49m\u001b[38;5;241;43m=\u001b[39;49m\u001b[43mvalue\u001b[49m\u001b[43m,\u001b[49m\u001b[43m \u001b[49m\u001b[43mlimit\u001b[49m\u001b[38;5;241;43m=\u001b[39;49m\u001b[43mlimit\u001b[49m\u001b[43m)\u001b[49m\n\u001b[1;32m   1704\u001b[0m     \u001b[38;5;28;01mreturn\u001b[39;00m [\u001b[38;5;28mself\u001b[39m\u001b[38;5;241m.\u001b[39mmake_block_same_class(values\u001b[38;5;241m=\u001b[39mvalues)]\n",
      "File \u001b[0;32m/usr/local/lib/python3.8/dist-packages/pandas/core/arrays/_mixins.py:328\u001b[0m, in \u001b[0;36mNDArrayBackedExtensionArray.fillna\u001b[0;34m(self, value, method, limit)\u001b[0m\n\u001b[1;32m    325\u001b[0m \u001b[38;5;28;01melse\u001b[39;00m:\n\u001b[1;32m    326\u001b[0m     \u001b[38;5;66;03m# We validate the fill_value even if there is nothing to fill\u001b[39;00m\n\u001b[1;32m    327\u001b[0m     \u001b[38;5;28;01mif\u001b[39;00m value \u001b[38;5;129;01mis\u001b[39;00m \u001b[38;5;129;01mnot\u001b[39;00m \u001b[38;5;28;01mNone\u001b[39;00m:\n\u001b[0;32m--> 328\u001b[0m         \u001b[38;5;28;43mself\u001b[39;49m\u001b[38;5;241;43m.\u001b[39;49m\u001b[43m_validate_setitem_value\u001b[49m\u001b[43m(\u001b[49m\u001b[43mvalue\u001b[49m\u001b[43m)\u001b[49m\n\u001b[1;32m    330\u001b[0m     new_values \u001b[38;5;241m=\u001b[39m \u001b[38;5;28mself\u001b[39m\u001b[38;5;241m.\u001b[39mcopy()\n\u001b[1;32m    331\u001b[0m \u001b[38;5;28;01mreturn\u001b[39;00m new_values\n",
      "File \u001b[0;32m/usr/local/lib/python3.8/dist-packages/pandas/core/arrays/categorical.py:1457\u001b[0m, in \u001b[0;36mCategorical._validate_setitem_value\u001b[0;34m(self, value)\u001b[0m\n\u001b[1;32m   1455\u001b[0m     \u001b[38;5;28;01mreturn\u001b[39;00m \u001b[38;5;28mself\u001b[39m\u001b[38;5;241m.\u001b[39m_validate_listlike(value)\n\u001b[1;32m   1456\u001b[0m \u001b[38;5;28;01melse\u001b[39;00m:\n\u001b[0;32m-> 1457\u001b[0m     \u001b[38;5;28;01mreturn\u001b[39;00m \u001b[38;5;28;43mself\u001b[39;49m\u001b[38;5;241;43m.\u001b[39;49m\u001b[43m_validate_scalar\u001b[49m\u001b[43m(\u001b[49m\u001b[43mvalue\u001b[49m\u001b[43m)\u001b[49m\n",
      "File \u001b[0;32m/usr/local/lib/python3.8/dist-packages/pandas/core/arrays/categorical.py:1484\u001b[0m, in \u001b[0;36mCategorical._validate_scalar\u001b[0;34m(self, fill_value)\u001b[0m\n\u001b[1;32m   1482\u001b[0m     fill_value \u001b[38;5;241m=\u001b[39m \u001b[38;5;28mself\u001b[39m\u001b[38;5;241m.\u001b[39m_unbox_scalar(fill_value)\n\u001b[1;32m   1483\u001b[0m \u001b[38;5;28;01melse\u001b[39;00m:\n\u001b[0;32m-> 1484\u001b[0m     \u001b[38;5;28;01mraise\u001b[39;00m \u001b[38;5;167;01mTypeError\u001b[39;00m(\n\u001b[1;32m   1485\u001b[0m         \u001b[38;5;124m\"\u001b[39m\u001b[38;5;124mCannot setitem on a Categorical with a new \u001b[39m\u001b[38;5;124m\"\u001b[39m\n\u001b[1;32m   1486\u001b[0m         \u001b[38;5;124mf\u001b[39m\u001b[38;5;124m\"\u001b[39m\u001b[38;5;124mcategory (\u001b[39m\u001b[38;5;132;01m{\u001b[39;00mfill_value\u001b[38;5;132;01m}\u001b[39;00m\u001b[38;5;124m), set the categories first\u001b[39m\u001b[38;5;124m\"\u001b[39m\n\u001b[1;32m   1487\u001b[0m     )\n\u001b[1;32m   1488\u001b[0m \u001b[38;5;28;01mreturn\u001b[39;00m fill_value\n",
      "\u001b[0;31mTypeError\u001b[0m: Cannot setitem on a Categorical with a new category (0), set the categories first"
     ]
    }
   ],
   "source": [
    "if qc_columns['n_fragments_in_promoters'] is None:\n",
    "    overlap.pct_fragments_in_promoters(adata, promoters_gtf, species=species, bam_file=bam_file, cb_col=None, nproc=1)\n",
    "    \n",
    "    # n_total_fragments, n_fragments_in_promoters, pct_fragments_in_promoters\n",
    "    # update column dictionary\n",
    "    qc_columns['n_total_fragments'] = 'n_total_fragments'\n",
    "    qc_columns['n_fragments_in_promoters'] = 'n_fragments_in_promoters'\n",
    "    qc_columns['pct_fragments_in_promotors'] = 'pct_fragments_in_promotors'\n",
    "    # update infoprocess table\n",
    "    build_legend(adata, 'n_total_fragments', 'n_total_fragments')\n",
    "    build_legend(adata, 'promotor_enrichment', 'promotor_enrichment')\n",
    "    build_legend(adata, 'pct_fragments_in_promotors', 'pct_fragments_in_promotors')\n",
    "    "
   ]
  },
  {
   "cell_type": "markdown",
   "id": "4451f816",
   "metadata": {
    "pycharm": {
     "name": "#%% md\n"
    }
   },
   "source": [
    "## Inspect adata.obs"
   ]
  },
  {
   "cell_type": "code",
   "execution_count": null,
   "id": "e0b1e1d1",
   "metadata": {
    "pycharm": {
     "name": "#%%\n"
    }
   },
   "outputs": [],
   "source": [
    "adata.obs"
   ]
  },
  {
   "cell_type": "markdown",
   "id": "dae390c8",
   "metadata": {
    "pycharm": {
     "name": "#%% md\n"
    }
   },
   "source": [
    "## Save adata to .h5ad"
   ]
  },
  {
   "cell_type": "code",
   "execution_count": null,
   "id": "85e8cf07",
   "metadata": {
    "pycharm": {
     "name": "#%%\n"
    }
   },
   "outputs": [],
   "source": [
    "adata_output = tree.assembled_anndata\n",
    "adata_output"
   ]
  },
  {
   "cell_type": "code",
   "execution_count": null,
   "id": "fe8dde1e",
   "metadata": {},
   "outputs": [],
   "source": [
    "import numpy as np\n",
    "import pandas as pd"
   ]
  },
  {
   "cell_type": "code",
   "execution_count": null,
   "id": "33aee5ab",
   "metadata": {},
   "outputs": [],
   "source": [
    "adata.uns['insertsize_distribution'] = adata.uns['insertsize_distribution'].swapaxes('index', 'columns')"
   ]
  },
  {
   "cell_type": "code",
   "execution_count": null,
   "id": "b9820d2f",
   "metadata": {},
   "outputs": [],
   "source": [
    "adata.uns['insertsize_distribution'] = adata.uns['insertsize_distribution'].reset_index(drop=True)"
   ]
  },
  {
   "cell_type": "code",
   "execution_count": null,
   "id": "3c4a98e4",
   "metadata": {},
   "outputs": [],
   "source": [
    "adata.uns['insertsize_distribution']"
   ]
  },
  {
   "cell_type": "code",
   "execution_count": null,
   "id": "33800239",
   "metadata": {
    "pycharm": {
     "name": "#%%\n"
    }
   },
   "outputs": [],
   "source": [
    "#Saving the data\n",
    "cr.build_infor(adata, \"Test_number\", test)\n",
    "cr.build_infor(adata, \"Anndata_path\", output_dir)\n",
    "\n",
    "adata_output = tree.assembled_anndata\n",
    "adata.write(filename=adata_output)"
   ]
  },
  {
   "cell_type": "code",
   "execution_count": null,
   "id": "c9437c45",
   "metadata": {},
   "outputs": [],
   "source": []
  }
 ],
 "metadata": {
  "kernelspec": {
   "display_name": "Python 3 (ipykernel)",
   "language": "python",
   "name": "python3"
  },
  "language_info": {
   "codemirror_mode": {
    "name": "ipython",
    "version": 3
   },
   "file_extension": ".py",
   "mimetype": "text/x-python",
   "name": "python",
   "nbconvert_exporter": "python",
   "pygments_lexer": "ipython3",
   "version": "3.8.10"
  }
 },
 "nbformat": 4,
 "nbformat_minor": 5
}
