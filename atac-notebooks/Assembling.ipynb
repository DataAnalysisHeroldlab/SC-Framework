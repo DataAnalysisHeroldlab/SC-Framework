{
 "cells": [
  {
   "cell_type": "markdown",
   "id": "bf52b2e2",
   "metadata": {
    "pycharm": {
     "name": "#%% md\n"
    }
   },
   "source": [
    "# Assembling\n",
    "\n",
    "This notebook is used to assemble a processable h5ad object for subsequent notebooks."
   ]
  },
  {
   "cell_type": "markdown",
   "id": "c9e8b8fd",
   "metadata": {
    "pycharm": {
     "name": "#%% md\n"
    }
   },
   "source": [
    "## Fill in input data, output and settings"
   ]
  },
  {
   "cell_type": "code",
   "execution_count": null,
   "id": "120c0f22",
   "metadata": {
    "pycharm": {
     "name": "#%%\n"
    }
   },
   "outputs": [],
   "source": [
    "####################### TEST NAME ###################################\n",
    "test = 'Esophagus'\n",
    "################### DEFINING STRATEGY ###############################\n",
    "from_h5ad = True #option 1\n",
    "assembling_10_velocity = False #option 2\n",
    "assembling_10_public = False #option 3\n",
    "convert_seurat = False #option 4\n",
    "\n",
    "###################### INPUT DATA ###################################\n",
    "\n",
    "#For option 1: The path to an existing .h5ad file\n",
    "h5ad_files = ['/mnt/workspace/jdetlef/data/anndata/Esophagus.h5ad']\n",
    "#Manually set existing QC Columns\n",
    "n_features_by_counts = None\n",
    "log1p_n_features_by_counts = None\n",
    "total_counts = None\n",
    "log1p_total_counts = None\n",
    "mean_insertsize = None\n",
    "insertsize_count = None\n",
    "n_total_fragments = None\n",
    "n_fragments_in_promoters = None\n",
    "pct_fragments_in_promoters = None\n",
    "blacklist_overlaps = None\n",
    "#total_number_of_fragments\n",
    "TN = 'TN'\n",
    "#uniquely_mapped_fragments\n",
    "UM = 'UM'\n",
    "#properly_paired_fragments\n",
    "PP = 'PP'\n",
    "#uniq_fragments\n",
    "UQ = 'UQ'\n",
    "#chrM_fragments\n",
    "CM = 'CM'\n",
    "\n",
    "#################### Calc QC Columns ###############################\n",
    "#set available number of threads\n",
    "n_threads = 8\n",
    "\n",
    "#if the mean_insertsize should be calculated specify either a BAM file or a fragments file:\n",
    "fragments_file = '/mnt/workspace/jdetlef/data/bamfiles/fragments_Esophagus.bed'\n",
    "bam_file = '/mnt/workspace/jdetlef/data/bamfiles/sorted_Esophagus.bam'\n",
    "\n",
    "#specify promotors_gtf if another promoter than the fixed ones should be used\n",
    "#if promotors is None please specify species\n",
    "#promoters_gtf =  '/mnt/flatfiles/organisms/new_organism/homo_sapiens/104/homo_sapiens.104.promoters2000.gtf'\n",
    "promoters_gtf = '/mnt/workspace/jdetlef/data/homo_sapiens.104.promoters2000.gtf'\n",
    "species = None\n",
    "\n",
    "##################### OUTPUT DATA ###################################\n",
    "output_dir = '/mnt/workspace/jdetlef/processed_data'"
   ]
  },
  {
   "cell_type": "markdown",
   "id": "6d6dd817",
   "metadata": {
    "pycharm": {
     "name": "#%% md\n"
    }
   },
   "source": [
    "## Import modules"
   ]
  },
  {
   "cell_type": "code",
   "execution_count": null,
   "id": "c997211a",
   "metadata": {
    "pycharm": {
     "name": "#%%\n"
    }
   },
   "outputs": [],
   "source": [
    "# sctoolbox modules \n",
    "import sctoolbox.atac_tree as sub_tree\n",
    "import sctoolbox.creators as cr\n",
    "import sctoolbox.fragment_length as fragments\n",
    "import sctoolbox.atac as atac\n",
    "import sctoolbox.calc_overlap_pct as overlap\n",
    "import sctoolbox.analyser \n",
    "from sctoolbox.qc_filter import *\n",
    "from sctoolbox.atac_utils import *\n",
    "# import episcanpy\n",
    "import episcanpy as epi"
   ]
  },
  {
   "cell_type": "code",
   "execution_count": null,
   "id": "2f3a755e",
   "metadata": {},
   "outputs": [],
   "source": [
    "#adata = epi.read_h5ad(h5ad_files[0])"
   ]
  },
  {
   "cell_type": "code",
   "execution_count": null,
   "id": "eb0985a7",
   "metadata": {},
   "outputs": [],
   "source": [
    "#adata.var"
   ]
  },
  {
   "cell_type": "markdown",
   "id": "4fc0e3d7",
   "metadata": {
    "pycharm": {
     "name": "#%% md\n"
    }
   },
   "source": [
    "## Setup path handling object "
   ]
  },
  {
   "cell_type": "code",
   "execution_count": null,
   "id": "880c04fb",
   "metadata": {
    "pycharm": {
     "name": "#%%\n"
    }
   },
   "outputs": [],
   "source": [
    "# make an instance of the class\n",
    "tree = sub_tree.ATAC_tree()\n",
    "# set processing/output directory\n",
    "tree.processing_dir = output_dir\n",
    "# set sample/experiment.. \n",
    "tree.run = test"
   ]
  },
  {
   "cell_type": "markdown",
   "id": "84b9cddf",
   "metadata": {
    "pycharm": {
     "name": "#%% md\n"
    }
   },
   "source": [
    "## Read in data"
   ]
  },
  {
   "cell_type": "markdown",
   "id": "7e7b43d6",
   "metadata": {
    "pycharm": {
     "name": "#%% md\n"
    }
   },
   "source": [
    "### Option 1: Read from .h5ad"
   ]
  },
  {
   "cell_type": "code",
   "execution_count": null,
   "id": "96a9a071",
   "metadata": {
    "pycharm": {
     "name": "#%%\n"
    }
   },
   "outputs": [],
   "source": [
    "qc_columns = {}\n",
    "qc_columns[\"n_features_by_counts\"] = n_features_by_counts\n",
    "qc_columns[\"log1p_n_features_by_counts\"] = log1p_n_features_by_counts\n",
    "qc_columns[\"total_counts\"] = total_counts\n",
    "qc_columns[\"log1p_total_counts\"] = log1p_total_counts\n",
    "qc_columns[\"mean_insertsize\"] = mean_insertsize\n",
    "qc_columns['n_total_fragments'] = n_total_fragments\n",
    "qc_columns['n_fragments_in_promoters'] = n_fragments_in_promoters\n",
    "qc_columns['pct_fragments_in_promoters'] = pct_fragments_in_promoters\n",
    "qc_columns[\"blacklist_overlaps\"] = blacklist_overlaps\n",
    "qc_columns[\"TN\"] = TN\n",
    "qc_columns[\"UM\"] = UM\n",
    "qc_columns[\"PP\"] = PP\n",
    "qc_columns[\"UQ\"] = UQ\n",
    "qc_columns[\"CM\"] = CM"
   ]
  },
  {
   "cell_type": "code",
   "execution_count": null,
   "id": "6b900535",
   "metadata": {},
   "outputs": [],
   "source": [
    "if from_h5ad:\n",
    "    \n",
    "    adata = assemble_from_h5ad(h5ad_files=h5ad_files, from_snapatac=True, qc_columns=qc_columns)"
   ]
  },
  {
   "cell_type": "markdown",
   "id": "746f9da5",
   "metadata": {
    "pycharm": {
     "name": "#%% md\n"
    }
   },
   "source": [
    "## Inspect adata"
   ]
  },
  {
   "cell_type": "code",
   "execution_count": null,
   "id": "9e059525",
   "metadata": {
    "pycharm": {
     "name": "#%%\n"
    }
   },
   "outputs": [],
   "source": [
    "display(adata)"
   ]
  },
  {
   "cell_type": "code",
   "execution_count": null,
   "id": "9e65ff2d",
   "metadata": {},
   "outputs": [],
   "source": [
    "adata.var"
   ]
  },
  {
   "cell_type": "code",
   "execution_count": null,
   "id": "d4ec8cb1",
   "metadata": {
    "pycharm": {
     "name": "#%%\n"
    }
   },
   "outputs": [],
   "source": [
    "display(adata.var)"
   ]
  },
  {
   "cell_type": "code",
   "execution_count": null,
   "id": "97a9760e",
   "metadata": {
    "pycharm": {
     "name": "#%%\n"
    }
   },
   "outputs": [],
   "source": [
    "display(adata.obs)"
   ]
  },
  {
   "cell_type": "markdown",
   "id": "3405de5d",
   "metadata": {
    "pycharm": {
     "name": "#%% md\n"
    }
   },
   "source": [
    "## Calculate missing columns"
   ]
  },
  {
   "cell_type": "markdown",
   "id": "e5d66924",
   "metadata": {},
   "source": [
    "### 1. calculate scanpy qc_metrics (n_features)"
   ]
  },
  {
   "cell_type": "code",
   "execution_count": null,
   "id": "d36a2d65",
   "metadata": {},
   "outputs": [],
   "source": [
    "if qc_columns['n_features_by_counts'] is None or qc_columns['log1p_n_features_by_counts'] is None:\n",
    "    adata = analyser.calculate_qc_metrics(adata, var_type='features')\n",
    "    \n",
    "    qc_columns['n_features_by_counts'] = 'n_features_by_counts'\n",
    "    qc_columns['log1p_n_features_by_counts'] = 'log1p_n_features_by_counts'\n",
    "    qc_columns['total_counts'] = 'total_counts'\n",
    "    qc_columns['log1p_total_counts'] = 'log1p_total_counts'\n",
    "    \n",
    "    build_legend(adata, 'n_features_by_counts', 'n_features_by_counts')\n",
    "    build_legend(adata, 'log1p_n_features_by_counts', 'log1p_n_features_by_counts')\n",
    "    build_legend(adata, 'total_counts', 'total_counts')\n",
    "    build_legend(adata, 'log1p_total_counts', 'log1p_total_counts')\n",
    "\n",
    "adata.obs"
   ]
  },
  {
   "cell_type": "markdown",
   "id": "a26513bb",
   "metadata": {
    "pycharm": {
     "name": "#%% md\n"
    }
   },
   "source": [
    "### 2. calc mean insertsize and count if missing "
   ]
  },
  {
   "cell_type": "code",
   "execution_count": null,
   "id": "c414cbec",
   "metadata": {},
   "outputs": [],
   "source": [
    "if qc_columns['mean_insertsize'] is None or qc_columns['insertsize_count'] is None:\n",
    "    atac.add_insertsize(adata, fragments=fragments_file) # fragments=fragments_file or use bam=bam_file instead of fragments\n",
    "    \n",
    "    # update column dictionary\n",
    "    qc_columns['mean_insertsize'] = 'mean_insertsize'\n",
    "    qc_columns['insertsize_count'] = 'insertsize_count'\n",
    "    \n",
    "    # update infoprocess table\n",
    "    build_legend(adata, 'mean_insertsize', 'mean_insertsize')\n",
    "    build_legend(adata, 'insertsize_count', 'insertsize_count')\n",
    "    \n",
    "adata.obs"
   ]
  },
  {
   "cell_type": "code",
   "execution_count": null,
   "id": "43ab288f",
   "metadata": {},
   "outputs": [],
   "source": [
    "atac.plot_insertsize(adata, barcodes=None)"
   ]
  },
  {
   "cell_type": "markdown",
   "id": "5a1bfbd4",
   "metadata": {
    "pycharm": {
     "name": "#%% md\n"
    }
   },
   "source": [
    "### 3. promotor enrichment "
   ]
  },
  {
   "cell_type": "code",
   "execution_count": null,
   "id": "bee812e1",
   "metadata": {
    "pycharm": {
     "name": "#%%\n"
    }
   },
   "outputs": [],
   "source": [
    "if qc_columns['n_fragments_in_promoters'] is None:\n",
    "    overlap.pct_fragments_in_promoters(adata, gtf_file=promoters_gtf, species=species, bam_file=bam_file, cb_col=None, nproc=1)\n",
    "    \n",
    "    # n_total_fragments, n_fragments_in_promoters, pct_fragments_in_promoters\n",
    "    # update column dictionary\n",
    "    qc_columns['n_total_fragments'] = 'n_total_fragments'\n",
    "    qc_columns['n_fragments_in_promoters'] = 'n_fragments_in_promoters'\n",
    "    qc_columns['pct_fragments_in_promoters'] = 'pct_fragments_in_promoters'\n",
    "    # update infoprocess table\n",
    "    build_legend(adata, 'n_total_fragments', 'n_total_fragments')\n",
    "    build_legend(adata, 'n_fragments_in_promoters', 'n_fragments_in_promoters')\n",
    "    build_legend(adata, 'pct_fragments_in_promoters', 'pct_fragments_in_promoters')\n",
    "    "
   ]
  },
  {
   "cell_type": "markdown",
   "id": "4451f816",
   "metadata": {
    "pycharm": {
     "name": "#%% md\n"
    }
   },
   "source": [
    "## Inspect adata.obs"
   ]
  },
  {
   "cell_type": "code",
   "execution_count": null,
   "id": "e0b1e1d1",
   "metadata": {
    "pycharm": {
     "name": "#%%\n"
    }
   },
   "outputs": [],
   "source": [
    "adata.obs"
   ]
  },
  {
   "cell_type": "markdown",
   "id": "dae390c8",
   "metadata": {
    "pycharm": {
     "name": "#%% md\n"
    }
   },
   "source": [
    "## Save adata to .h5ad"
   ]
  },
  {
   "cell_type": "code",
   "execution_count": null,
   "id": "85e8cf07",
   "metadata": {
    "pycharm": {
     "name": "#%%\n"
    }
   },
   "outputs": [],
   "source": [
    "adata_output = tree.assembled_anndata\n",
    "adata_output"
   ]
  },
  {
   "cell_type": "code",
   "execution_count": null,
   "id": "33800239",
   "metadata": {
    "pycharm": {
     "name": "#%%\n"
    }
   },
   "outputs": [],
   "source": [
    "#Saving the data\n",
    "cr.build_infor(adata, \"Test_number\", test)\n",
    "cr.build_infor(adata, \"Anndata_path\", output_dir)\n",
    "\n",
    "adata_output = tree.assembled_anndata\n",
    "adata.write(filename=adata_output)"
   ]
  },
  {
   "cell_type": "code",
   "execution_count": null,
   "id": "c9437c45",
   "metadata": {},
   "outputs": [],
   "source": []
  }
 ],
 "metadata": {
  "kernelspec": {
   "display_name": "Python 3",
   "language": "python",
   "name": "python3"
  },
  "language_info": {
   "codemirror_mode": {
    "name": "ipython",
    "version": 3
   },
   "file_extension": ".py",
   "mimetype": "text/x-python",
   "name": "python",
   "nbconvert_exporter": "python",
   "pygments_lexer": "ipython3",
   "version": "3.10.9 (tags/v3.10.9:1dd9be6, Dec  6 2022, 20:01:21) [MSC v.1934 64 bit (AMD64)]"
  },
  "vscode": {
   "interpreter": {
    "hash": "dfe5b233e8d6b612e56e0501f5590cb08def4cd0b82a93d32e726fee69782c1d"
   }
  }
 },
 "nbformat": 4,
 "nbformat_minor": 5
}
