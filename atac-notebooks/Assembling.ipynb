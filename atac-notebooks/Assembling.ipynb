{
 "cells": [
  {
   "cell_type": "markdown",
   "id": "bf52b2e2",
   "metadata": {
    "pycharm": {
     "name": "#%% md\n"
    }
   },
   "source": [
    "# Assembling\n",
    "\n",
    "This notebook is used to assemble a processable h5ad object for subsequent notebooks."
   ]
  },
  {
   "cell_type": "markdown",
   "id": "c9e8b8fd",
   "metadata": {
    "pycharm": {
     "name": "#%% md\n"
    }
   },
   "source": [
    "## Fill in input data, output and settings"
   ]
  },
  {
   "cell_type": "code",
   "execution_count": 1,
   "id": "120c0f22",
   "metadata": {
    "pycharm": {
     "name": "#%%\n"
    }
   },
   "outputs": [],
   "source": [
    "####################### TEST NAME ###################################\n",
    "test = 'Esophagus'\n",
    "################### DEFINING STRATEGY ###############################\n",
    "from_h5ad = True #option 1\n",
    "assembling_10_velocity = False #option 2\n",
    "assembling_10_public = False #option 3\n",
    "convert_seurat = False #option 4\n",
    "\n",
    "###################### INPUT DATA ###################################\n",
    "\n",
    "#For option 1: The path to an existing .h5ad file\n",
    "h5ad_files = ['/mnt/workspace/jdetlef/data/anndata/Esophagus.h5ad']\n",
    "#Manually set existing QC Columns\n",
    "n_features_by_counts = None\n",
    "log1p_n_features_by_counts = None\n",
    "total_counts = None\n",
    "log1p_total_counts = None\n",
    "mean_insertsize = None\n",
    "insertsize_count = None\n",
    "n_total_fragments = None\n",
    "n_fragments_in_promoters = None\n",
    "pct_fragments_in_promoters = None\n",
    "blacklist_overlaps = None\n",
    "#total_number_of_fragments\n",
    "TN = 'TN'\n",
    "#uniquely_mapped_fragments\n",
    "UM = 'UM'\n",
    "#properly_paired_fragments\n",
    "PP = 'PP'\n",
    "#uniq_fragments\n",
    "UQ = 'UQ'\n",
    "#chrM_fragments\n",
    "CM = 'CM'\n",
    "\n",
    "#################### Calc QC Columns ###############################\n",
    "#set available number of threads\n",
    "n_threads = 8\n",
    "\n",
    "#if the mean_insertsize should be calculated specify either a BAM file or a fragments file:\n",
    "fragments_file = '/mnt/workspace/jdetlef/data/bamfiles/fragments_Esophagus.bed'\n",
    "bam_file = '/mnt/workspace/jdetlef/data/bamfiles/Esophagus.bam'\n",
    "\n",
    "#specify promotors_gtf if another promoter than the fixed ones should be used\n",
    "#if promotors is None please specify species\n",
    "#promoters_gtf =  '/mnt/flatfiles/organisms/new_organism/homo_sapiens/104/homo_sapiens.104.promoters2000.gtf'\n",
    "promoters_gtf = '/mnt/workspace/jdetlef/data/homo_sapiens.104.promoters2000.gtf'\n",
    "species = None\n",
    "\n",
    "##################### OUTPUT DATA ###################################\n",
    "output_dir = '/mnt/workspace/jdetlef/processed_data'"
   ]
  },
  {
   "cell_type": "markdown",
   "id": "6d6dd817",
   "metadata": {
    "pycharm": {
     "name": "#%% md\n"
    }
   },
   "source": [
    "## Import modules"
   ]
  },
  {
   "cell_type": "code",
   "execution_count": 2,
   "id": "c997211a",
   "metadata": {
    "pycharm": {
     "name": "#%%\n"
    },
    "scrolled": true
   },
   "outputs": [],
   "source": [
    "# sctoolbox modules \n",
    "import sctoolbox.atac_tree as sub_tree\n",
    "import sctoolbox.creators as cr\n",
    "import sctoolbox.fragment_length as fragments\n",
    "import sctoolbox.atac as atac\n",
    "import sctoolbox.calc_overlap_pct as overlap\n",
    "import sctoolbox.analyser \n",
    "from sctoolbox.qc_filter import *\n",
    "from sctoolbox.atac_utils import *\n",
    "# import episcanpy\n",
    "import episcanpy as epi"
   ]
  },
  {
   "cell_type": "code",
   "execution_count": 3,
   "id": "2f3a755e",
   "metadata": {},
   "outputs": [],
   "source": [
    "#adata = epi.read_h5ad(h5ad_files[0])"
   ]
  },
  {
   "cell_type": "code",
   "execution_count": 4,
   "id": "eb0985a7",
   "metadata": {},
   "outputs": [],
   "source": [
    "#adata.var"
   ]
  },
  {
   "cell_type": "markdown",
   "id": "4fc0e3d7",
   "metadata": {
    "pycharm": {
     "name": "#%% md\n"
    }
   },
   "source": [
    "## Setup path handling object "
   ]
  },
  {
   "cell_type": "code",
   "execution_count": 5,
   "id": "880c04fb",
   "metadata": {
    "pycharm": {
     "name": "#%%\n"
    }
   },
   "outputs": [
    {
     "name": "stdout",
     "output_type": "stream",
     "text": [
      "Warning: run is None\n",
      "all directories existing\n",
      "all directories existing\n"
     ]
    }
   ],
   "source": [
    "# make an instance of the class\n",
    "tree = sub_tree.ATAC_tree()\n",
    "# set processing/output directory\n",
    "tree.processing_dir = output_dir\n",
    "# set sample/experiment.. \n",
    "tree.run = test"
   ]
  },
  {
   "cell_type": "markdown",
   "id": "84b9cddf",
   "metadata": {
    "pycharm": {
     "name": "#%% md\n"
    }
   },
   "source": [
    "## Read in data"
   ]
  },
  {
   "cell_type": "markdown",
   "id": "7e7b43d6",
   "metadata": {
    "pycharm": {
     "name": "#%% md\n"
    }
   },
   "source": [
    "### Option 1: Read from .h5ad"
   ]
  },
  {
   "cell_type": "code",
   "execution_count": 6,
   "id": "96a9a071",
   "metadata": {
    "pycharm": {
     "name": "#%%\n"
    }
   },
   "outputs": [],
   "source": [
    "qc_columns = {}\n",
    "qc_columns[\"n_features_by_counts\"] = n_features_by_counts\n",
    "qc_columns[\"log1p_n_features_by_counts\"] = log1p_n_features_by_counts\n",
    "qc_columns[\"total_counts\"] = total_counts\n",
    "qc_columns[\"log1p_total_counts\"] = log1p_total_counts\n",
    "qc_columns[\"mean_insertsize\"] = mean_insertsize\n",
    "qc_columns['n_total_fragments'] = n_total_fragments\n",
    "qc_columns['n_fragments_in_promoters'] = n_fragments_in_promoters\n",
    "qc_columns['pct_fragments_in_promoters'] = pct_fragments_in_promoters\n",
    "qc_columns[\"blacklist_overlaps\"] = blacklist_overlaps\n",
    "qc_columns[\"TN\"] = TN\n",
    "qc_columns[\"UM\"] = UM\n",
    "qc_columns[\"PP\"] = PP\n",
    "qc_columns[\"UQ\"] = UQ\n",
    "qc_columns[\"CM\"] = CM"
   ]
  },
  {
   "cell_type": "code",
   "execution_count": 7,
   "id": "6b900535",
   "metadata": {},
   "outputs": [
    {
     "name": "stderr",
     "output_type": "stream",
     "text": [
      " ImplicitModificationWarning:/home/jdetlef/.conda/envs/sc-env/lib/python3.10/site-packages/anndata/_core/anndata.py:121: Transforming to str index.\n"
     ]
    },
    {
     "name": "stdout",
     "output_type": "stream",
     "text": [
      "add existing adata.obs columns to infoprocess:\n",
      "\n",
      "TN:TN\n",
      "UM:UM\n",
      "PP:PP\n",
      "UQ:UQ\n",
      "CM:CM\n",
      "setting adata.obs.index = adata.obs[barcode]\n"
     ]
    }
   ],
   "source": [
    "if from_h5ad:\n",
    "    \n",
    "    adata = assemble_from_h5ad(h5ad_files=h5ad_files, from_snapatac=True, qc_columns=qc_columns)"
   ]
  },
  {
   "cell_type": "markdown",
   "id": "746f9da5",
   "metadata": {
    "pycharm": {
     "name": "#%% md\n"
    }
   },
   "source": [
    "## Inspect adata"
   ]
  },
  {
   "cell_type": "code",
   "execution_count": 8,
   "id": "9e059525",
   "metadata": {
    "pycharm": {
     "name": "#%%\n"
    }
   },
   "outputs": [
    {
     "data": {
      "text/plain": [
       "AnnData object with n_obs × n_vars = 73652 × 174285\n",
       "    obs: 'TN', 'UM', 'PP', 'UQ', 'CM', 'file', 'sample'\n",
       "    var: 'peak_chr', 'peak_start', 'peak_end'\n",
       "    uns: 'infoprocess', 'color_set', 'legend'"
      ]
     },
     "metadata": {},
     "output_type": "display_data"
    }
   ],
   "source": [
    "display(adata)"
   ]
  },
  {
   "cell_type": "code",
   "execution_count": 9,
   "id": "9e65ff2d",
   "metadata": {},
   "outputs": [
    {
     "data": {
      "text/html": [
       "<div>\n",
       "<style scoped>\n",
       "    .dataframe tbody tr th:only-of-type {\n",
       "        vertical-align: middle;\n",
       "    }\n",
       "\n",
       "    .dataframe tbody tr th {\n",
       "        vertical-align: top;\n",
       "    }\n",
       "\n",
       "    .dataframe thead th {\n",
       "        text-align: right;\n",
       "    }\n",
       "</style>\n",
       "<table border=\"1\" class=\"dataframe\">\n",
       "  <thead>\n",
       "    <tr style=\"text-align: right;\">\n",
       "      <th></th>\n",
       "      <th>peak_chr</th>\n",
       "      <th>peak_start</th>\n",
       "      <th>peak_end</th>\n",
       "    </tr>\n",
       "    <tr>\n",
       "      <th>name</th>\n",
       "      <th></th>\n",
       "      <th></th>\n",
       "      <th></th>\n",
       "    </tr>\n",
       "  </thead>\n",
       "  <tbody>\n",
       "    <tr>\n",
       "      <th>b'chr1':10005-10731</th>\n",
       "      <td>chr1</td>\n",
       "      <td>10005</td>\n",
       "      <td>10731</td>\n",
       "    </tr>\n",
       "    <tr>\n",
       "      <th>b'chr1':11169-11386</th>\n",
       "      <td>chr1</td>\n",
       "      <td>11169</td>\n",
       "      <td>11386</td>\n",
       "    </tr>\n",
       "    <tr>\n",
       "      <th>b'chr1':28730-29439</th>\n",
       "      <td>chr1</td>\n",
       "      <td>28730</td>\n",
       "      <td>29439</td>\n",
       "    </tr>\n",
       "    <tr>\n",
       "      <th>b'chr1':29492-29686</th>\n",
       "      <td>chr1</td>\n",
       "      <td>29492</td>\n",
       "      <td>29686</td>\n",
       "    </tr>\n",
       "    <tr>\n",
       "      <th>b'chr1':34644-35030</th>\n",
       "      <td>chr1</td>\n",
       "      <td>34644</td>\n",
       "      <td>35030</td>\n",
       "    </tr>\n",
       "    <tr>\n",
       "      <th>...</th>\n",
       "      <td>...</td>\n",
       "      <td>...</td>\n",
       "      <td>...</td>\n",
       "    </tr>\n",
       "    <tr>\n",
       "      <th>b'chrY':57203298-57203493</th>\n",
       "      <td>chrY</td>\n",
       "      <td>57203298</td>\n",
       "      <td>57203493</td>\n",
       "    </tr>\n",
       "    <tr>\n",
       "      <th>b'chrY':57206407-57206560</th>\n",
       "      <td>chrY</td>\n",
       "      <td>57206407</td>\n",
       "      <td>57206560</td>\n",
       "    </tr>\n",
       "    <tr>\n",
       "      <th>b'chrY':57215319-57215415</th>\n",
       "      <td>chrY</td>\n",
       "      <td>57215319</td>\n",
       "      <td>57215415</td>\n",
       "    </tr>\n",
       "    <tr>\n",
       "      <th>b'chrY':57215519-57215848</th>\n",
       "      <td>chrY</td>\n",
       "      <td>57215519</td>\n",
       "      <td>57215848</td>\n",
       "    </tr>\n",
       "    <tr>\n",
       "      <th>b'chrY':57216524-57217319</th>\n",
       "      <td>chrY</td>\n",
       "      <td>57216524</td>\n",
       "      <td>57217319</td>\n",
       "    </tr>\n",
       "  </tbody>\n",
       "</table>\n",
       "<p>174285 rows × 3 columns</p>\n",
       "</div>"
      ],
      "text/plain": [
       "                          peak_chr peak_start  peak_end\n",
       "name                                                   \n",
       "b'chr1':10005-10731           chr1      10005     10731\n",
       "b'chr1':11169-11386           chr1      11169     11386\n",
       "b'chr1':28730-29439           chr1      28730     29439\n",
       "b'chr1':29492-29686           chr1      29492     29686\n",
       "b'chr1':34644-35030           chr1      34644     35030\n",
       "...                            ...        ...       ...\n",
       "b'chrY':57203298-57203493     chrY   57203298  57203493\n",
       "b'chrY':57206407-57206560     chrY   57206407  57206560\n",
       "b'chrY':57215319-57215415     chrY   57215319  57215415\n",
       "b'chrY':57215519-57215848     chrY   57215519  57215848\n",
       "b'chrY':57216524-57217319     chrY   57216524  57217319\n",
       "\n",
       "[174285 rows x 3 columns]"
      ]
     },
     "execution_count": 9,
     "metadata": {},
     "output_type": "execute_result"
    }
   ],
   "source": [
    "adata.var"
   ]
  },
  {
   "cell_type": "code",
   "execution_count": 10,
   "id": "d4ec8cb1",
   "metadata": {
    "pycharm": {
     "name": "#%%\n"
    }
   },
   "outputs": [
    {
     "data": {
      "text/html": [
       "<div>\n",
       "<style scoped>\n",
       "    .dataframe tbody tr th:only-of-type {\n",
       "        vertical-align: middle;\n",
       "    }\n",
       "\n",
       "    .dataframe tbody tr th {\n",
       "        vertical-align: top;\n",
       "    }\n",
       "\n",
       "    .dataframe thead th {\n",
       "        text-align: right;\n",
       "    }\n",
       "</style>\n",
       "<table border=\"1\" class=\"dataframe\">\n",
       "  <thead>\n",
       "    <tr style=\"text-align: right;\">\n",
       "      <th></th>\n",
       "      <th>peak_chr</th>\n",
       "      <th>peak_start</th>\n",
       "      <th>peak_end</th>\n",
       "    </tr>\n",
       "    <tr>\n",
       "      <th>name</th>\n",
       "      <th></th>\n",
       "      <th></th>\n",
       "      <th></th>\n",
       "    </tr>\n",
       "  </thead>\n",
       "  <tbody>\n",
       "    <tr>\n",
       "      <th>b'chr1':10005-10731</th>\n",
       "      <td>chr1</td>\n",
       "      <td>10005</td>\n",
       "      <td>10731</td>\n",
       "    </tr>\n",
       "    <tr>\n",
       "      <th>b'chr1':11169-11386</th>\n",
       "      <td>chr1</td>\n",
       "      <td>11169</td>\n",
       "      <td>11386</td>\n",
       "    </tr>\n",
       "    <tr>\n",
       "      <th>b'chr1':28730-29439</th>\n",
       "      <td>chr1</td>\n",
       "      <td>28730</td>\n",
       "      <td>29439</td>\n",
       "    </tr>\n",
       "    <tr>\n",
       "      <th>b'chr1':29492-29686</th>\n",
       "      <td>chr1</td>\n",
       "      <td>29492</td>\n",
       "      <td>29686</td>\n",
       "    </tr>\n",
       "    <tr>\n",
       "      <th>b'chr1':34644-35030</th>\n",
       "      <td>chr1</td>\n",
       "      <td>34644</td>\n",
       "      <td>35030</td>\n",
       "    </tr>\n",
       "    <tr>\n",
       "      <th>...</th>\n",
       "      <td>...</td>\n",
       "      <td>...</td>\n",
       "      <td>...</td>\n",
       "    </tr>\n",
       "    <tr>\n",
       "      <th>b'chrY':57203298-57203493</th>\n",
       "      <td>chrY</td>\n",
       "      <td>57203298</td>\n",
       "      <td>57203493</td>\n",
       "    </tr>\n",
       "    <tr>\n",
       "      <th>b'chrY':57206407-57206560</th>\n",
       "      <td>chrY</td>\n",
       "      <td>57206407</td>\n",
       "      <td>57206560</td>\n",
       "    </tr>\n",
       "    <tr>\n",
       "      <th>b'chrY':57215319-57215415</th>\n",
       "      <td>chrY</td>\n",
       "      <td>57215319</td>\n",
       "      <td>57215415</td>\n",
       "    </tr>\n",
       "    <tr>\n",
       "      <th>b'chrY':57215519-57215848</th>\n",
       "      <td>chrY</td>\n",
       "      <td>57215519</td>\n",
       "      <td>57215848</td>\n",
       "    </tr>\n",
       "    <tr>\n",
       "      <th>b'chrY':57216524-57217319</th>\n",
       "      <td>chrY</td>\n",
       "      <td>57216524</td>\n",
       "      <td>57217319</td>\n",
       "    </tr>\n",
       "  </tbody>\n",
       "</table>\n",
       "<p>174285 rows × 3 columns</p>\n",
       "</div>"
      ],
      "text/plain": [
       "                          peak_chr peak_start  peak_end\n",
       "name                                                   \n",
       "b'chr1':10005-10731           chr1      10005     10731\n",
       "b'chr1':11169-11386           chr1      11169     11386\n",
       "b'chr1':28730-29439           chr1      28730     29439\n",
       "b'chr1':29492-29686           chr1      29492     29686\n",
       "b'chr1':34644-35030           chr1      34644     35030\n",
       "...                            ...        ...       ...\n",
       "b'chrY':57203298-57203493     chrY   57203298  57203493\n",
       "b'chrY':57206407-57206560     chrY   57206407  57206560\n",
       "b'chrY':57215319-57215415     chrY   57215319  57215415\n",
       "b'chrY':57215519-57215848     chrY   57215519  57215848\n",
       "b'chrY':57216524-57217319     chrY   57216524  57217319\n",
       "\n",
       "[174285 rows x 3 columns]"
      ]
     },
     "metadata": {},
     "output_type": "display_data"
    }
   ],
   "source": [
    "display(adata.var)"
   ]
  },
  {
   "cell_type": "code",
   "execution_count": 11,
   "id": "97a9760e",
   "metadata": {
    "pycharm": {
     "name": "#%%\n"
    }
   },
   "outputs": [
    {
     "data": {
      "text/html": [
       "<div>\n",
       "<style scoped>\n",
       "    .dataframe tbody tr th:only-of-type {\n",
       "        vertical-align: middle;\n",
       "    }\n",
       "\n",
       "    .dataframe tbody tr th {\n",
       "        vertical-align: top;\n",
       "    }\n",
       "\n",
       "    .dataframe thead th {\n",
       "        text-align: right;\n",
       "    }\n",
       "</style>\n",
       "<table border=\"1\" class=\"dataframe\">\n",
       "  <thead>\n",
       "    <tr style=\"text-align: right;\">\n",
       "      <th></th>\n",
       "      <th>TN</th>\n",
       "      <th>UM</th>\n",
       "      <th>PP</th>\n",
       "      <th>UQ</th>\n",
       "      <th>CM</th>\n",
       "      <th>file</th>\n",
       "      <th>sample</th>\n",
       "    </tr>\n",
       "    <tr>\n",
       "      <th>barcode</th>\n",
       "      <th></th>\n",
       "      <th></th>\n",
       "      <th></th>\n",
       "      <th></th>\n",
       "      <th></th>\n",
       "      <th></th>\n",
       "      <th></th>\n",
       "    </tr>\n",
       "  </thead>\n",
       "  <tbody>\n",
       "    <tr>\n",
       "      <th>AAACTACCAGAAACCCGAGATA</th>\n",
       "      <td>33.0</td>\n",
       "      <td>18.0</td>\n",
       "      <td>18.0</td>\n",
       "      <td>15.0</td>\n",
       "      <td>0.0</td>\n",
       "      <td>/mnt/workspace/jdetlef/data/anndata/Esophagus....</td>\n",
       "      <td>sample1</td>\n",
       "    </tr>\n",
       "    <tr>\n",
       "      <th>AAACTACCAGAAACCTAAGTGG</th>\n",
       "      <td>52.0</td>\n",
       "      <td>36.0</td>\n",
       "      <td>35.0</td>\n",
       "      <td>32.0</td>\n",
       "      <td>1.0</td>\n",
       "      <td>/mnt/workspace/jdetlef/data/anndata/Esophagus....</td>\n",
       "      <td>sample1</td>\n",
       "    </tr>\n",
       "    <tr>\n",
       "      <th>AAACTACCAGAAACGGATCAGT</th>\n",
       "      <td>27.0</td>\n",
       "      <td>19.0</td>\n",
       "      <td>19.0</td>\n",
       "      <td>19.0</td>\n",
       "      <td>0.0</td>\n",
       "      <td>/mnt/workspace/jdetlef/data/anndata/Esophagus....</td>\n",
       "      <td>sample1</td>\n",
       "    </tr>\n",
       "    <tr>\n",
       "      <th>AAACTACCAGAAACGTCCCGTT</th>\n",
       "      <td>6223.0</td>\n",
       "      <td>5232.0</td>\n",
       "      <td>5214.0</td>\n",
       "      <td>3780.0</td>\n",
       "      <td>18.0</td>\n",
       "      <td>/mnt/workspace/jdetlef/data/anndata/Esophagus....</td>\n",
       "      <td>sample1</td>\n",
       "    </tr>\n",
       "    <tr>\n",
       "      <th>AAACTACCAGAAACTAGCCCTA</th>\n",
       "      <td>41.0</td>\n",
       "      <td>29.0</td>\n",
       "      <td>29.0</td>\n",
       "      <td>26.0</td>\n",
       "      <td>0.0</td>\n",
       "      <td>/mnt/workspace/jdetlef/data/anndata/Esophagus....</td>\n",
       "      <td>sample1</td>\n",
       "    </tr>\n",
       "    <tr>\n",
       "      <th>...</th>\n",
       "      <td>...</td>\n",
       "      <td>...</td>\n",
       "      <td>...</td>\n",
       "      <td>...</td>\n",
       "      <td>...</td>\n",
       "      <td>...</td>\n",
       "      <td>...</td>\n",
       "    </tr>\n",
       "    <tr>\n",
       "      <th>TTCCATCCTCTTTCGCGTGTAA</th>\n",
       "      <td>9.0</td>\n",
       "      <td>6.0</td>\n",
       "      <td>6.0</td>\n",
       "      <td>6.0</td>\n",
       "      <td>0.0</td>\n",
       "      <td>/mnt/workspace/jdetlef/data/anndata/Esophagus....</td>\n",
       "      <td>sample1</td>\n",
       "    </tr>\n",
       "    <tr>\n",
       "      <th>TTCCATCCTCTTTCTGCAGACT</th>\n",
       "      <td>10.0</td>\n",
       "      <td>6.0</td>\n",
       "      <td>6.0</td>\n",
       "      <td>6.0</td>\n",
       "      <td>1.0</td>\n",
       "      <td>/mnt/workspace/jdetlef/data/anndata/Esophagus....</td>\n",
       "      <td>sample1</td>\n",
       "    </tr>\n",
       "    <tr>\n",
       "      <th>TTCCATCCTCTTTCTGGCGCAG</th>\n",
       "      <td>17.0</td>\n",
       "      <td>5.0</td>\n",
       "      <td>5.0</td>\n",
       "      <td>5.0</td>\n",
       "      <td>1.0</td>\n",
       "      <td>/mnt/workspace/jdetlef/data/anndata/Esophagus....</td>\n",
       "      <td>sample1</td>\n",
       "    </tr>\n",
       "    <tr>\n",
       "      <th>TTCCATCCTCTTTGCCGGAAGG</th>\n",
       "      <td>8.0</td>\n",
       "      <td>7.0</td>\n",
       "      <td>7.0</td>\n",
       "      <td>7.0</td>\n",
       "      <td>0.0</td>\n",
       "      <td>/mnt/workspace/jdetlef/data/anndata/Esophagus....</td>\n",
       "      <td>sample1</td>\n",
       "    </tr>\n",
       "    <tr>\n",
       "      <th>TTCCATCCTCTTTGTGTTACCG</th>\n",
       "      <td>19.0</td>\n",
       "      <td>9.0</td>\n",
       "      <td>9.0</td>\n",
       "      <td>7.0</td>\n",
       "      <td>0.0</td>\n",
       "      <td>/mnt/workspace/jdetlef/data/anndata/Esophagus....</td>\n",
       "      <td>sample1</td>\n",
       "    </tr>\n",
       "  </tbody>\n",
       "</table>\n",
       "<p>73652 rows × 7 columns</p>\n",
       "</div>"
      ],
      "text/plain": [
       "                            TN      UM      PP      UQ    CM  \\\n",
       "barcode                                                        \n",
       "AAACTACCAGAAACCCGAGATA    33.0    18.0    18.0    15.0   0.0   \n",
       "AAACTACCAGAAACCTAAGTGG    52.0    36.0    35.0    32.0   1.0   \n",
       "AAACTACCAGAAACGGATCAGT    27.0    19.0    19.0    19.0   0.0   \n",
       "AAACTACCAGAAACGTCCCGTT  6223.0  5232.0  5214.0  3780.0  18.0   \n",
       "AAACTACCAGAAACTAGCCCTA    41.0    29.0    29.0    26.0   0.0   \n",
       "...                        ...     ...     ...     ...   ...   \n",
       "TTCCATCCTCTTTCGCGTGTAA     9.0     6.0     6.0     6.0   0.0   \n",
       "TTCCATCCTCTTTCTGCAGACT    10.0     6.0     6.0     6.0   1.0   \n",
       "TTCCATCCTCTTTCTGGCGCAG    17.0     5.0     5.0     5.0   1.0   \n",
       "TTCCATCCTCTTTGCCGGAAGG     8.0     7.0     7.0     7.0   0.0   \n",
       "TTCCATCCTCTTTGTGTTACCG    19.0     9.0     9.0     7.0   0.0   \n",
       "\n",
       "                                                                     file  \\\n",
       "barcode                                                                     \n",
       "AAACTACCAGAAACCCGAGATA  /mnt/workspace/jdetlef/data/anndata/Esophagus....   \n",
       "AAACTACCAGAAACCTAAGTGG  /mnt/workspace/jdetlef/data/anndata/Esophagus....   \n",
       "AAACTACCAGAAACGGATCAGT  /mnt/workspace/jdetlef/data/anndata/Esophagus....   \n",
       "AAACTACCAGAAACGTCCCGTT  /mnt/workspace/jdetlef/data/anndata/Esophagus....   \n",
       "AAACTACCAGAAACTAGCCCTA  /mnt/workspace/jdetlef/data/anndata/Esophagus....   \n",
       "...                                                                   ...   \n",
       "TTCCATCCTCTTTCGCGTGTAA  /mnt/workspace/jdetlef/data/anndata/Esophagus....   \n",
       "TTCCATCCTCTTTCTGCAGACT  /mnt/workspace/jdetlef/data/anndata/Esophagus....   \n",
       "TTCCATCCTCTTTCTGGCGCAG  /mnt/workspace/jdetlef/data/anndata/Esophagus....   \n",
       "TTCCATCCTCTTTGCCGGAAGG  /mnt/workspace/jdetlef/data/anndata/Esophagus....   \n",
       "TTCCATCCTCTTTGTGTTACCG  /mnt/workspace/jdetlef/data/anndata/Esophagus....   \n",
       "\n",
       "                         sample  \n",
       "barcode                          \n",
       "AAACTACCAGAAACCCGAGATA  sample1  \n",
       "AAACTACCAGAAACCTAAGTGG  sample1  \n",
       "AAACTACCAGAAACGGATCAGT  sample1  \n",
       "AAACTACCAGAAACGTCCCGTT  sample1  \n",
       "AAACTACCAGAAACTAGCCCTA  sample1  \n",
       "...                         ...  \n",
       "TTCCATCCTCTTTCGCGTGTAA  sample1  \n",
       "TTCCATCCTCTTTCTGCAGACT  sample1  \n",
       "TTCCATCCTCTTTCTGGCGCAG  sample1  \n",
       "TTCCATCCTCTTTGCCGGAAGG  sample1  \n",
       "TTCCATCCTCTTTGTGTTACCG  sample1  \n",
       "\n",
       "[73652 rows x 7 columns]"
      ]
     },
     "metadata": {},
     "output_type": "display_data"
    }
   ],
   "source": [
    "display(adata.obs)"
   ]
  },
  {
   "cell_type": "markdown",
   "id": "3405de5d",
   "metadata": {
    "pycharm": {
     "name": "#%% md\n"
    }
   },
   "source": [
    "## Calculate missing columns"
   ]
  },
  {
   "cell_type": "markdown",
   "id": "e5d66924",
   "metadata": {},
   "source": [
    "### 1. calculate scanpy qc_metrics (n_features)"
   ]
  },
  {
   "cell_type": "code",
   "execution_count": 12,
   "id": "d36a2d65",
   "metadata": {},
   "outputs": [
    {
     "data": {
      "text/html": [
       "<div>\n",
       "<style scoped>\n",
       "    .dataframe tbody tr th:only-of-type {\n",
       "        vertical-align: middle;\n",
       "    }\n",
       "\n",
       "    .dataframe tbody tr th {\n",
       "        vertical-align: top;\n",
       "    }\n",
       "\n",
       "    .dataframe thead th {\n",
       "        text-align: right;\n",
       "    }\n",
       "</style>\n",
       "<table border=\"1\" class=\"dataframe\">\n",
       "  <thead>\n",
       "    <tr style=\"text-align: right;\">\n",
       "      <th></th>\n",
       "      <th>TN</th>\n",
       "      <th>UM</th>\n",
       "      <th>PP</th>\n",
       "      <th>UQ</th>\n",
       "      <th>CM</th>\n",
       "      <th>file</th>\n",
       "      <th>sample</th>\n",
       "      <th>n_features_by_counts</th>\n",
       "      <th>log1p_n_features_by_counts</th>\n",
       "      <th>total_counts</th>\n",
       "      <th>log1p_total_counts</th>\n",
       "    </tr>\n",
       "    <tr>\n",
       "      <th>barcode</th>\n",
       "      <th></th>\n",
       "      <th></th>\n",
       "      <th></th>\n",
       "      <th></th>\n",
       "      <th></th>\n",
       "      <th></th>\n",
       "      <th></th>\n",
       "      <th></th>\n",
       "      <th></th>\n",
       "      <th></th>\n",
       "      <th></th>\n",
       "    </tr>\n",
       "  </thead>\n",
       "  <tbody>\n",
       "    <tr>\n",
       "      <th>AAACTACCAGAAACCCGAGATA</th>\n",
       "      <td>33.0</td>\n",
       "      <td>18.0</td>\n",
       "      <td>18.0</td>\n",
       "      <td>15.0</td>\n",
       "      <td>0.0</td>\n",
       "      <td>/mnt/workspace/jdetlef/data/anndata/Esophagus....</td>\n",
       "      <td>sample1</td>\n",
       "      <td>5</td>\n",
       "      <td>1.791759</td>\n",
       "      <td>5.0</td>\n",
       "      <td>1.791759</td>\n",
       "    </tr>\n",
       "    <tr>\n",
       "      <th>AAACTACCAGAAACCTAAGTGG</th>\n",
       "      <td>52.0</td>\n",
       "      <td>36.0</td>\n",
       "      <td>35.0</td>\n",
       "      <td>32.0</td>\n",
       "      <td>1.0</td>\n",
       "      <td>/mnt/workspace/jdetlef/data/anndata/Esophagus....</td>\n",
       "      <td>sample1</td>\n",
       "      <td>17</td>\n",
       "      <td>2.890372</td>\n",
       "      <td>17.0</td>\n",
       "      <td>2.890372</td>\n",
       "    </tr>\n",
       "    <tr>\n",
       "      <th>AAACTACCAGAAACGGATCAGT</th>\n",
       "      <td>27.0</td>\n",
       "      <td>19.0</td>\n",
       "      <td>19.0</td>\n",
       "      <td>19.0</td>\n",
       "      <td>0.0</td>\n",
       "      <td>/mnt/workspace/jdetlef/data/anndata/Esophagus....</td>\n",
       "      <td>sample1</td>\n",
       "      <td>10</td>\n",
       "      <td>2.397895</td>\n",
       "      <td>10.0</td>\n",
       "      <td>2.397895</td>\n",
       "    </tr>\n",
       "    <tr>\n",
       "      <th>AAACTACCAGAAACGTCCCGTT</th>\n",
       "      <td>6223.0</td>\n",
       "      <td>5232.0</td>\n",
       "      <td>5214.0</td>\n",
       "      <td>3780.0</td>\n",
       "      <td>18.0</td>\n",
       "      <td>/mnt/workspace/jdetlef/data/anndata/Esophagus....</td>\n",
       "      <td>sample1</td>\n",
       "      <td>1648</td>\n",
       "      <td>7.407924</td>\n",
       "      <td>1791.0</td>\n",
       "      <td>7.491087</td>\n",
       "    </tr>\n",
       "    <tr>\n",
       "      <th>AAACTACCAGAAACTAGCCCTA</th>\n",
       "      <td>41.0</td>\n",
       "      <td>29.0</td>\n",
       "      <td>29.0</td>\n",
       "      <td>26.0</td>\n",
       "      <td>0.0</td>\n",
       "      <td>/mnt/workspace/jdetlef/data/anndata/Esophagus....</td>\n",
       "      <td>sample1</td>\n",
       "      <td>13</td>\n",
       "      <td>2.639057</td>\n",
       "      <td>13.0</td>\n",
       "      <td>2.639057</td>\n",
       "    </tr>\n",
       "    <tr>\n",
       "      <th>...</th>\n",
       "      <td>...</td>\n",
       "      <td>...</td>\n",
       "      <td>...</td>\n",
       "      <td>...</td>\n",
       "      <td>...</td>\n",
       "      <td>...</td>\n",
       "      <td>...</td>\n",
       "      <td>...</td>\n",
       "      <td>...</td>\n",
       "      <td>...</td>\n",
       "      <td>...</td>\n",
       "    </tr>\n",
       "    <tr>\n",
       "      <th>TTCCATCCTCTTTCGCGTGTAA</th>\n",
       "      <td>9.0</td>\n",
       "      <td>6.0</td>\n",
       "      <td>6.0</td>\n",
       "      <td>6.0</td>\n",
       "      <td>0.0</td>\n",
       "      <td>/mnt/workspace/jdetlef/data/anndata/Esophagus....</td>\n",
       "      <td>sample1</td>\n",
       "      <td>3</td>\n",
       "      <td>1.386294</td>\n",
       "      <td>3.0</td>\n",
       "      <td>1.386294</td>\n",
       "    </tr>\n",
       "    <tr>\n",
       "      <th>TTCCATCCTCTTTCTGCAGACT</th>\n",
       "      <td>10.0</td>\n",
       "      <td>6.0</td>\n",
       "      <td>6.0</td>\n",
       "      <td>6.0</td>\n",
       "      <td>1.0</td>\n",
       "      <td>/mnt/workspace/jdetlef/data/anndata/Esophagus....</td>\n",
       "      <td>sample1</td>\n",
       "      <td>3</td>\n",
       "      <td>1.386294</td>\n",
       "      <td>3.0</td>\n",
       "      <td>1.386294</td>\n",
       "    </tr>\n",
       "    <tr>\n",
       "      <th>TTCCATCCTCTTTCTGGCGCAG</th>\n",
       "      <td>17.0</td>\n",
       "      <td>5.0</td>\n",
       "      <td>5.0</td>\n",
       "      <td>5.0</td>\n",
       "      <td>1.0</td>\n",
       "      <td>/mnt/workspace/jdetlef/data/anndata/Esophagus....</td>\n",
       "      <td>sample1</td>\n",
       "      <td>0</td>\n",
       "      <td>0.000000</td>\n",
       "      <td>0.0</td>\n",
       "      <td>0.000000</td>\n",
       "    </tr>\n",
       "    <tr>\n",
       "      <th>TTCCATCCTCTTTGCCGGAAGG</th>\n",
       "      <td>8.0</td>\n",
       "      <td>7.0</td>\n",
       "      <td>7.0</td>\n",
       "      <td>7.0</td>\n",
       "      <td>0.0</td>\n",
       "      <td>/mnt/workspace/jdetlef/data/anndata/Esophagus....</td>\n",
       "      <td>sample1</td>\n",
       "      <td>5</td>\n",
       "      <td>1.791759</td>\n",
       "      <td>5.0</td>\n",
       "      <td>1.791759</td>\n",
       "    </tr>\n",
       "    <tr>\n",
       "      <th>TTCCATCCTCTTTGTGTTACCG</th>\n",
       "      <td>19.0</td>\n",
       "      <td>9.0</td>\n",
       "      <td>9.0</td>\n",
       "      <td>7.0</td>\n",
       "      <td>0.0</td>\n",
       "      <td>/mnt/workspace/jdetlef/data/anndata/Esophagus....</td>\n",
       "      <td>sample1</td>\n",
       "      <td>2</td>\n",
       "      <td>1.098612</td>\n",
       "      <td>2.0</td>\n",
       "      <td>1.098612</td>\n",
       "    </tr>\n",
       "  </tbody>\n",
       "</table>\n",
       "<p>73652 rows × 11 columns</p>\n",
       "</div>"
      ],
      "text/plain": [
       "                            TN      UM      PP      UQ    CM  \\\n",
       "barcode                                                        \n",
       "AAACTACCAGAAACCCGAGATA    33.0    18.0    18.0    15.0   0.0   \n",
       "AAACTACCAGAAACCTAAGTGG    52.0    36.0    35.0    32.0   1.0   \n",
       "AAACTACCAGAAACGGATCAGT    27.0    19.0    19.0    19.0   0.0   \n",
       "AAACTACCAGAAACGTCCCGTT  6223.0  5232.0  5214.0  3780.0  18.0   \n",
       "AAACTACCAGAAACTAGCCCTA    41.0    29.0    29.0    26.0   0.0   \n",
       "...                        ...     ...     ...     ...   ...   \n",
       "TTCCATCCTCTTTCGCGTGTAA     9.0     6.0     6.0     6.0   0.0   \n",
       "TTCCATCCTCTTTCTGCAGACT    10.0     6.0     6.0     6.0   1.0   \n",
       "TTCCATCCTCTTTCTGGCGCAG    17.0     5.0     5.0     5.0   1.0   \n",
       "TTCCATCCTCTTTGCCGGAAGG     8.0     7.0     7.0     7.0   0.0   \n",
       "TTCCATCCTCTTTGTGTTACCG    19.0     9.0     9.0     7.0   0.0   \n",
       "\n",
       "                                                                     file  \\\n",
       "barcode                                                                     \n",
       "AAACTACCAGAAACCCGAGATA  /mnt/workspace/jdetlef/data/anndata/Esophagus....   \n",
       "AAACTACCAGAAACCTAAGTGG  /mnt/workspace/jdetlef/data/anndata/Esophagus....   \n",
       "AAACTACCAGAAACGGATCAGT  /mnt/workspace/jdetlef/data/anndata/Esophagus....   \n",
       "AAACTACCAGAAACGTCCCGTT  /mnt/workspace/jdetlef/data/anndata/Esophagus....   \n",
       "AAACTACCAGAAACTAGCCCTA  /mnt/workspace/jdetlef/data/anndata/Esophagus....   \n",
       "...                                                                   ...   \n",
       "TTCCATCCTCTTTCGCGTGTAA  /mnt/workspace/jdetlef/data/anndata/Esophagus....   \n",
       "TTCCATCCTCTTTCTGCAGACT  /mnt/workspace/jdetlef/data/anndata/Esophagus....   \n",
       "TTCCATCCTCTTTCTGGCGCAG  /mnt/workspace/jdetlef/data/anndata/Esophagus....   \n",
       "TTCCATCCTCTTTGCCGGAAGG  /mnt/workspace/jdetlef/data/anndata/Esophagus....   \n",
       "TTCCATCCTCTTTGTGTTACCG  /mnt/workspace/jdetlef/data/anndata/Esophagus....   \n",
       "\n",
       "                         sample  n_features_by_counts  \\\n",
       "barcode                                                 \n",
       "AAACTACCAGAAACCCGAGATA  sample1                     5   \n",
       "AAACTACCAGAAACCTAAGTGG  sample1                    17   \n",
       "AAACTACCAGAAACGGATCAGT  sample1                    10   \n",
       "AAACTACCAGAAACGTCCCGTT  sample1                  1648   \n",
       "AAACTACCAGAAACTAGCCCTA  sample1                    13   \n",
       "...                         ...                   ...   \n",
       "TTCCATCCTCTTTCGCGTGTAA  sample1                     3   \n",
       "TTCCATCCTCTTTCTGCAGACT  sample1                     3   \n",
       "TTCCATCCTCTTTCTGGCGCAG  sample1                     0   \n",
       "TTCCATCCTCTTTGCCGGAAGG  sample1                     5   \n",
       "TTCCATCCTCTTTGTGTTACCG  sample1                     2   \n",
       "\n",
       "                        log1p_n_features_by_counts  total_counts  \\\n",
       "barcode                                                            \n",
       "AAACTACCAGAAACCCGAGATA                    1.791759           5.0   \n",
       "AAACTACCAGAAACCTAAGTGG                    2.890372          17.0   \n",
       "AAACTACCAGAAACGGATCAGT                    2.397895          10.0   \n",
       "AAACTACCAGAAACGTCCCGTT                    7.407924        1791.0   \n",
       "AAACTACCAGAAACTAGCCCTA                    2.639057          13.0   \n",
       "...                                            ...           ...   \n",
       "TTCCATCCTCTTTCGCGTGTAA                    1.386294           3.0   \n",
       "TTCCATCCTCTTTCTGCAGACT                    1.386294           3.0   \n",
       "TTCCATCCTCTTTCTGGCGCAG                    0.000000           0.0   \n",
       "TTCCATCCTCTTTGCCGGAAGG                    1.791759           5.0   \n",
       "TTCCATCCTCTTTGTGTTACCG                    1.098612           2.0   \n",
       "\n",
       "                        log1p_total_counts  \n",
       "barcode                                     \n",
       "AAACTACCAGAAACCCGAGATA            1.791759  \n",
       "AAACTACCAGAAACCTAAGTGG            2.890372  \n",
       "AAACTACCAGAAACGGATCAGT            2.397895  \n",
       "AAACTACCAGAAACGTCCCGTT            7.491087  \n",
       "AAACTACCAGAAACTAGCCCTA            2.639057  \n",
       "...                                    ...  \n",
       "TTCCATCCTCTTTCGCGTGTAA            1.386294  \n",
       "TTCCATCCTCTTTCTGCAGACT            1.386294  \n",
       "TTCCATCCTCTTTCTGGCGCAG            0.000000  \n",
       "TTCCATCCTCTTTGCCGGAAGG            1.791759  \n",
       "TTCCATCCTCTTTGTGTTACCG            1.098612  \n",
       "\n",
       "[73652 rows x 11 columns]"
      ]
     },
     "execution_count": 12,
     "metadata": {},
     "output_type": "execute_result"
    }
   ],
   "source": [
    "if qc_columns['n_features_by_counts'] is None or qc_columns['log1p_n_features_by_counts'] is None:\n",
    "    adata = analyser.calculate_qc_metrics(adata, var_type='features')\n",
    "    \n",
    "    qc_columns['n_features_by_counts'] = 'n_features_by_counts'\n",
    "    qc_columns['log1p_n_features_by_counts'] = 'log1p_n_features_by_counts'\n",
    "    qc_columns['total_counts'] = 'total_counts'\n",
    "    qc_columns['log1p_total_counts'] = 'log1p_total_counts'\n",
    "    \n",
    "    build_legend(adata, 'n_features_by_counts', 'n_features_by_counts')\n",
    "    build_legend(adata, 'log1p_n_features_by_counts', 'log1p_n_features_by_counts')\n",
    "    build_legend(adata, 'total_counts', 'total_counts')\n",
    "    build_legend(adata, 'log1p_total_counts', 'log1p_total_counts')\n",
    "\n",
    "adata.obs"
   ]
  },
  {
   "cell_type": "markdown",
   "id": "a26513bb",
   "metadata": {
    "pycharm": {
     "name": "#%% md\n"
    }
   },
   "source": [
    "### 2. calc mean insertsize and count if missing "
   ]
  },
  {
   "cell_type": "code",
   "execution_count": null,
   "id": "c414cbec",
   "metadata": {},
   "outputs": [
    {
     "name": "stdout",
     "output_type": "stream",
     "text": [
      "Counting fragment lengths from fragments file...\n"
     ]
    }
   ],
   "source": [
    "if qc_columns['mean_insertsize'] is None or qc_columns['insertsize_count'] is None:\n",
    "    atac.add_insertsize(adata, fragments=fragments_file) # or use bam=bam_file instead of fragments\n",
    "    \n",
    "    # update column dictionary\n",
    "    qc_columns['mean_insertsize'] = 'mean_insertsize'\n",
    "    qc_columns['insertsize_count'] = 'insertsize_count'\n",
    "    \n",
    "    # update infoprocess table\n",
    "    build_legend(adata, 'mean_insertsize', 'mean_insertsize')\n",
    "    build_legend(adata, 'insertsize_count', 'insertsize_count')\n",
    "    \n",
    "adata.obs"
   ]
  },
  {
   "cell_type": "code",
   "execution_count": null,
   "id": "43ab288f",
   "metadata": {},
   "outputs": [],
   "source": [
    "atac.plot_insertsize(adata, barcodes=None)"
   ]
  },
  {
   "cell_type": "markdown",
   "id": "5a1bfbd4",
   "metadata": {
    "pycharm": {
     "name": "#%% md\n"
    }
   },
   "source": [
    "### 3. promotor enrichment "
   ]
  },
  {
   "cell_type": "code",
   "execution_count": 11,
   "id": "bee812e1",
   "metadata": {
    "pycharm": {
     "name": "#%%\n"
    }
   },
   "outputs": [
    {
     "name": "stdout",
     "output_type": "stream",
     "text": [
      "Converting GTF to BED...\n",
      "Finding overlaps...\n"
     ]
    },
    {
     "name": "stderr",
     "output_type": "stream",
     "text": [
      "[E::idx_find_and_load] Could not retrieve index file for '/mnt/workspace/jdetlef/data/bamfiles/Esophagus.bam'\n"
     ]
    },
    {
     "ename": "NotImplementedError",
     "evalue": "\"intersectBed\" does not appear to be installed or on the path, so this method is disabled.  Please install a more recent version of BEDTools and re-import to use this method.",
     "output_type": "error",
     "traceback": [
      "\u001b[0;31m---------------------------------------------------------------------------\u001b[0m",
      "\u001b[0;31mNotImplementedError\u001b[0m                       Traceback (most recent call last)",
      "Cell \u001b[0;32mIn[11], line 2\u001b[0m\n\u001b[1;32m      1\u001b[0m \u001b[38;5;28;01mif\u001b[39;00m qc_columns[\u001b[38;5;124m'\u001b[39m\u001b[38;5;124mn_fragments_in_promoters\u001b[39m\u001b[38;5;124m'\u001b[39m] \u001b[38;5;129;01mis\u001b[39;00m \u001b[38;5;28;01mNone\u001b[39;00m:\n\u001b[0;32m----> 2\u001b[0m     \u001b[43moverlap\u001b[49m\u001b[38;5;241;43m.\u001b[39;49m\u001b[43mpct_fragments_in_promoters\u001b[49m\u001b[43m(\u001b[49m\u001b[43madata\u001b[49m\u001b[43m,\u001b[49m\u001b[43m \u001b[49m\u001b[43mgtf_file\u001b[49m\u001b[38;5;241;43m=\u001b[39;49m\u001b[43mpromoters_gtf\u001b[49m\u001b[43m,\u001b[49m\u001b[43m \u001b[49m\u001b[43mspecies\u001b[49m\u001b[38;5;241;43m=\u001b[39;49m\u001b[43mspecies\u001b[49m\u001b[43m,\u001b[49m\u001b[43m \u001b[49m\u001b[43mfragments_file\u001b[49m\u001b[38;5;241;43m=\u001b[39;49m\u001b[43mbam_file\u001b[49m\u001b[43m,\u001b[49m\u001b[43m \u001b[49m\u001b[43mcb_col\u001b[49m\u001b[38;5;241;43m=\u001b[39;49m\u001b[38;5;28;43;01mNone\u001b[39;49;00m\u001b[43m,\u001b[49m\u001b[43m \u001b[49m\u001b[43mnproc\u001b[49m\u001b[38;5;241;43m=\u001b[39;49m\u001b[38;5;241;43m1\u001b[39;49m\u001b[43m)\u001b[49m\n\u001b[1;32m      4\u001b[0m     \u001b[38;5;66;03m# n_total_fragments, n_fragments_in_promoters, pct_fragments_in_promoters\u001b[39;00m\n\u001b[1;32m      5\u001b[0m     \u001b[38;5;66;03m# update column dictionary\u001b[39;00m\n\u001b[1;32m      6\u001b[0m     qc_columns[\u001b[38;5;124m'\u001b[39m\u001b[38;5;124mn_total_fragments\u001b[39m\u001b[38;5;124m'\u001b[39m] \u001b[38;5;241m=\u001b[39m \u001b[38;5;124m'\u001b[39m\u001b[38;5;124mn_total_fragments\u001b[39m\u001b[38;5;124m'\u001b[39m\n",
      "File \u001b[0;32m~/.conda/envs/sc-env/lib/python3.10/site-packages/sctoolbox/calc_overlap_pct.py:223\u001b[0m, in \u001b[0;36mpct_fragments_in_promoters\u001b[0;34m(adata, gtf_file, bam_file, fragments_file, cb_col, species, nproc, sort_bam)\u001b[0m\n\u001b[1;32m    220\u001b[0m     promoters_gtf \u001b[38;5;241m=\u001b[39m gtf_file\n\u001b[1;32m    222\u001b[0m \u001b[38;5;66;03m# call function\u001b[39;00m\n\u001b[0;32m--> 223\u001b[0m \u001b[43mpct_fragments_overlap\u001b[49m\u001b[43m(\u001b[49m\u001b[43madata\u001b[49m\u001b[43m,\u001b[49m\u001b[43m \u001b[49m\u001b[43mregions_file\u001b[49m\u001b[38;5;241;43m=\u001b[39;49m\u001b[43mpromoters_gtf\u001b[49m\u001b[43m,\u001b[49m\u001b[43m \u001b[49m\u001b[43mbam_file\u001b[49m\u001b[38;5;241;43m=\u001b[39;49m\u001b[43mbam_file\u001b[49m\u001b[43m,\u001b[49m\u001b[43m \u001b[49m\u001b[43mfragments_file\u001b[49m\u001b[38;5;241;43m=\u001b[39;49m\u001b[43mfragments_file\u001b[49m\u001b[43m,\u001b[49m\n\u001b[1;32m    224\u001b[0m \u001b[43m                      \u001b[49m\u001b[43mcb_col\u001b[49m\u001b[38;5;241;43m=\u001b[39;49m\u001b[43mcb_col\u001b[49m\u001b[43m,\u001b[49m\u001b[43m \u001b[49m\u001b[43mregions_name\u001b[49m\u001b[38;5;241;43m=\u001b[39;49m\u001b[38;5;124;43m'\u001b[39;49m\u001b[38;5;124;43mpromoters\u001b[39;49m\u001b[38;5;124;43m'\u001b[39;49m\u001b[43m,\u001b[49m\u001b[43m \u001b[49m\u001b[43mnproc\u001b[49m\u001b[38;5;241;43m=\u001b[39;49m\u001b[43mnproc\u001b[49m\u001b[43m,\u001b[49m\u001b[43m \u001b[49m\u001b[43msort_bam\u001b[49m\u001b[38;5;241;43m=\u001b[39;49m\u001b[43msort_bam\u001b[49m\u001b[43m)\u001b[49m\n",
      "File \u001b[0;32m~/.conda/envs/sc-env/lib/python3.10/site-packages/sctoolbox/calc_overlap_pct.py:286\u001b[0m, in \u001b[0;36mpct_fragments_overlap\u001b[0;34m(adata, regions_file, bam_file, fragments_file, cb_col, regions_name, nproc, sort_bam, sort_regions)\u001b[0m\n\u001b[1;32m    284\u001b[0m \u001b[38;5;66;03m# overlap reads in fragments with promoter regions, return path to overlapped file\u001b[39;00m\n\u001b[1;32m    285\u001b[0m \u001b[38;5;28mprint\u001b[39m(\u001b[38;5;124m'\u001b[39m\u001b[38;5;124mFinding overlaps...\u001b[39m\u001b[38;5;124m'\u001b[39m)\n\u001b[0;32m--> 286\u001b[0m overlap_file \u001b[38;5;241m=\u001b[39m \u001b[43m_overlap_two_beds\u001b[49m\u001b[43m(\u001b[49m\u001b[43mfragments_file\u001b[49m\u001b[43m,\u001b[49m\u001b[43m \u001b[49m\u001b[43mbed_file\u001b[49m\u001b[43m,\u001b[49m\u001b[43m \u001b[49m\u001b[43mout\u001b[49m\u001b[38;5;241;43m=\u001b[39;49m\u001b[38;5;28;43;01mNone\u001b[39;49;00m\u001b[43m)\u001b[49m\n\u001b[1;32m    288\u001b[0m \u001b[38;5;66;03m# check if there was an overlap\u001b[39;00m\n\u001b[1;32m    289\u001b[0m \u001b[38;5;28;01mif\u001b[39;00m \u001b[38;5;129;01mnot\u001b[39;00m overlap_file:\n",
      "File \u001b[0;32m~/.conda/envs/sc-env/lib/python3.10/site-packages/sctoolbox/calc_overlap_pct.py:169\u001b[0m, in \u001b[0;36m_overlap_two_beds\u001b[0;34m(bed1, bed2, out)\u001b[0m\n\u001b[1;32m    166\u001b[0m a \u001b[38;5;241m=\u001b[39m pybedtools\u001b[38;5;241m.\u001b[39mBedTool(bed1)\n\u001b[1;32m    167\u001b[0m b \u001b[38;5;241m=\u001b[39m pybedtools\u001b[38;5;241m.\u001b[39mBedTool(bed2)\n\u001b[0;32m--> 169\u001b[0m \u001b[43ma\u001b[49m\u001b[38;5;241;43m.\u001b[39;49m\u001b[43mintersect\u001b[49m\u001b[43m(\u001b[49m\u001b[43mb\u001b[49m\u001b[43m,\u001b[49m\u001b[43m \u001b[49m\u001b[43mu\u001b[49m\u001b[38;5;241;43m=\u001b[39;49m\u001b[38;5;28;43;01mTrue\u001b[39;49;00m\u001b[43m,\u001b[49m\u001b[43m \u001b[49m\u001b[38;5;28;43msorted\u001b[39;49m\u001b[38;5;241;43m=\u001b[39;49m\u001b[38;5;28;43;01mTrue\u001b[39;49;00m\u001b[43m,\u001b[49m\u001b[43m \u001b[49m\u001b[43moutput\u001b[49m\u001b[38;5;241;43m=\u001b[39;49m\u001b[43mout_overlap\u001b[49m\u001b[43m)\u001b[49m\n\u001b[1;32m    171\u001b[0m \u001b[38;5;66;03m# check if there is an overlap\u001b[39;00m\n\u001b[1;32m    172\u001b[0m bed_file \u001b[38;5;241m=\u001b[39m pybedtools\u001b[38;5;241m.\u001b[39mBedTool(out_overlap)\n",
      "File \u001b[0;32m~/.conda/envs/sc-env/lib/python3.10/site-packages/pybedtools/bedtool.py:923\u001b[0m, in \u001b[0;36mBedTool._log_to_history.<locals>.decorated\u001b[0;34m(self, *args, **kwargs)\u001b[0m\n\u001b[1;32m    919\u001b[0m \u001b[38;5;28;01mdef\u001b[39;00m \u001b[38;5;21mdecorated\u001b[39m(\u001b[38;5;28mself\u001b[39m, \u001b[38;5;241m*\u001b[39margs, \u001b[38;5;241m*\u001b[39m\u001b[38;5;241m*\u001b[39mkwargs):\n\u001b[1;32m    920\u001b[0m \n\u001b[1;32m    921\u001b[0m     \u001b[38;5;66;03m# this calls the actual method in the first place; *result* is\u001b[39;00m\n\u001b[1;32m    922\u001b[0m     \u001b[38;5;66;03m# whatever you get back\u001b[39;00m\n\u001b[0;32m--> 923\u001b[0m     result \u001b[38;5;241m=\u001b[39m \u001b[43mmethod\u001b[49m\u001b[43m(\u001b[49m\u001b[38;5;28;43mself\u001b[39;49m\u001b[43m,\u001b[49m\u001b[43m \u001b[49m\u001b[38;5;241;43m*\u001b[39;49m\u001b[43margs\u001b[49m\u001b[43m,\u001b[49m\u001b[43m \u001b[49m\u001b[38;5;241;43m*\u001b[39;49m\u001b[38;5;241;43m*\u001b[39;49m\u001b[43mkwargs\u001b[49m\u001b[43m)\u001b[49m\n\u001b[1;32m    925\u001b[0m     \u001b[38;5;66;03m# add appropriate tags\u001b[39;00m\n\u001b[1;32m    926\u001b[0m     parent_tag \u001b[38;5;241m=\u001b[39m \u001b[38;5;28mself\u001b[39m\u001b[38;5;241m.\u001b[39m_tag\n",
      "File \u001b[0;32m~/.conda/envs/sc-env/lib/python3.10/site-packages/pybedtools/bedtool.py:244\u001b[0m, in \u001b[0;36m_wraps.<locals>.decorator.<locals>.not_implemented_func\u001b[0;34m(*args, **kwargs)\u001b[0m\n\u001b[1;32m    243\u001b[0m \u001b[38;5;28;01mdef\u001b[39;00m \u001b[38;5;21mnot_implemented_func\u001b[39m(\u001b[38;5;241m*\u001b[39margs, \u001b[38;5;241m*\u001b[39m\u001b[38;5;241m*\u001b[39mkwargs):\n\u001b[0;32m--> 244\u001b[0m     \u001b[38;5;28;01mraise\u001b[39;00m \u001b[38;5;167;01mNotImplementedError\u001b[39;00m(help_str)\n",
      "\u001b[0;31mNotImplementedError\u001b[0m: \"intersectBed\" does not appear to be installed or on the path, so this method is disabled.  Please install a more recent version of BEDTools and re-import to use this method."
     ]
    }
   ],
   "source": [
    "if qc_columns['n_fragments_in_promoters'] is None:\n",
    "    overlap.pct_fragments_in_promoters(adata, gtf_file=promoters_gtf, species=species, fragments_file=bam_file, cb_col=None, nproc=1)\n",
    "    \n",
    "    # n_total_fragments, n_fragments_in_promoters, pct_fragments_in_promoters\n",
    "    # update column dictionary\n",
    "    qc_columns['n_total_fragments'] = 'n_total_fragments'\n",
    "    qc_columns['n_fragments_in_promoters'] = 'n_fragments_in_promoters'\n",
    "    qc_columns['pct_fragments_in_promoters'] = 'pct_fragments_in_promoters'\n",
    "    # update infoprocess table\n",
    "    build_legend(adata, 'n_total_fragments', 'n_total_fragments')\n",
    "    build_legend(adata, 'n_fragments_in_promoters', 'n_fragments_in_promoters')\n",
    "    build_legend(adata, 'pct_fragments_in_promoters', 'pct_fragments_in_promoters')\n",
    "    "
   ]
  },
  {
   "cell_type": "markdown",
   "id": "4451f816",
   "metadata": {
    "pycharm": {
     "name": "#%% md\n"
    }
   },
   "source": [
    "## Inspect adata.obs"
   ]
  },
  {
   "cell_type": "code",
   "execution_count": null,
   "id": "e0b1e1d1",
   "metadata": {
    "pycharm": {
     "name": "#%%\n"
    }
   },
   "outputs": [],
   "source": [
    "adata.obs"
   ]
  },
  {
   "cell_type": "markdown",
   "id": "dae390c8",
   "metadata": {
    "pycharm": {
     "name": "#%% md\n"
    }
   },
   "source": [
    "## Save adata to .h5ad"
   ]
  },
  {
   "cell_type": "code",
   "execution_count": null,
   "id": "85e8cf07",
   "metadata": {
    "pycharm": {
     "name": "#%%\n"
    }
   },
   "outputs": [],
   "source": [
    "adata_output = tree.assembled_anndata\n",
    "adata_output"
   ]
  },
  {
   "cell_type": "code",
   "execution_count": null,
   "id": "33800239",
   "metadata": {
    "pycharm": {
     "name": "#%%\n"
    }
   },
   "outputs": [],
   "source": [
    "#Saving the data\n",
    "cr.build_infor(adata, \"Test_number\", test)\n",
    "cr.build_infor(adata, \"Anndata_path\", output_dir)\n",
    "\n",
    "adata_output = tree.assembled_anndata\n",
    "adata.write(filename=adata_output)"
   ]
  },
  {
   "cell_type": "code",
   "execution_count": null,
   "id": "c9437c45",
   "metadata": {},
   "outputs": [],
   "source": []
  }
 ],
 "metadata": {
  "kernelspec": {
   "display_name": "single-cell-kernel",
   "language": "python",
   "name": "sc-env"
  },
  "language_info": {
   "codemirror_mode": {
    "name": "ipython",
    "version": 3
   },
   "file_extension": ".py",
   "mimetype": "text/x-python",
   "name": "python",
   "nbconvert_exporter": "python",
   "pygments_lexer": "ipython3",
   "version": "3.10.8"
  }
 },
 "nbformat": 4,
 "nbformat_minor": 5
}
