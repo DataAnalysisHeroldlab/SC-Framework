{
 "cells": [
  {
   "cell_type": "markdown",
   "id": "bf52b2e2",
   "metadata": {
    "pycharm": {
     "name": "#%% md\n"
    }
   },
   "source": [
    "# Assembling\n",
    "\n",
    "This notebook is used to assemble a processable h5ad object for subsequent notebooks."
   ]
  },
  {
   "cell_type": "markdown",
   "id": "c9e8b8fd",
   "metadata": {
    "pycharm": {
     "name": "#%% md\n"
    }
   },
   "source": [
    "## Fill in input data, output and settings"
   ]
  },
  {
   "cell_type": "code",
   "execution_count": 13,
   "id": "0cee5cae",
   "metadata": {
    "pycharm": {
     "name": "#%%\n"
    }
   },
   "outputs": [],
   "source": [
    "####################### TEST NAME ###################################\n",
    "test = 'Aorta'\n",
    "################### DEFINING STRATEGY ###############################\n",
    "from_h5ad = True #option 1\n",
    "assembling_10_velocity = False #option 2\n",
    "assembling_10_public = False #option 3\n",
    "convert_seurat = False #option 4\n",
    "\n",
    "###################### INPUT DATA ###################################\n",
    "\n",
    "#For option 1: The path to an existing .h5ad file\n",
    "h5ad_path = '/home/rstudio/data/anndata/cropped_146.h5ad'\n",
    "#################### Calc QC Columns ###############################\n",
    "n_threads = 8\n",
    "\n",
    "fragments_file = '/home/rstudio/data/bamfiles/fragments_cropped_146.bed'\n",
    "bam_file = '/home/rstudio/data/bamfiles/sorted_cropped_146.bam'\n",
    "#promoters_gtf =  '/mnt/flatfiles/organisms/new_organism/homo_sapiens/104/homo_sapiens.104.promoters2000.gtf'\n",
    "promoters_gtf = '/home/rstudio/data/homo_sapiens.104.promoters2000.gtf'\n",
    "\n",
    "\n",
    "##################### OUTPUT DATA ###################################\n",
    "output_dir = '/home/rstudio/processed_data'"
   ]
  },
  {
   "cell_type": "markdown",
   "id": "757771b4",
   "metadata": {
    "pycharm": {
     "name": "#%% md\n"
    }
   },
   "source": [
    "## Import modules"
   ]
  },
  {
   "cell_type": "code",
   "execution_count": 14,
   "id": "41fe2538",
   "metadata": {
    "pycharm": {
     "name": "#%%\n"
    }
   },
   "outputs": [],
   "source": [
    "# sctoolbox modules \n",
    "import sctoolbox.atac_tree as sub_tree\n",
    "import sctoolbox.creators as cr\n",
    "import sctoolbox.fragment_length as fragments\n",
    "import sctoolbox.calc_overlap_pct as overlap\n",
    "# import episcanpy\n",
    "import episcanpy as epi"
   ]
  },
  {
   "cell_type": "markdown",
   "id": "6a233959",
   "metadata": {
    "pycharm": {
     "name": "#%% md\n"
    }
   },
   "source": [
    "## Setup path handling object "
   ]
  },
  {
   "cell_type": "code",
   "execution_count": 15,
   "id": "bd6d7420",
   "metadata": {
    "pycharm": {
     "name": "#%%\n"
    }
   },
   "outputs": [
    {
     "name": "stdout",
     "output_type": "stream",
     "text": [
      "Warning: run is None\n"
     ]
    }
   ],
   "source": [
    "# make an instance of the class\n",
    "tree = sub_tree.ATAC_tree()\n",
    "# set processing/output directory\n",
    "tree.processing_dir = output_dir\n",
    "# set sample/experiment.. \n",
    "tree.run = test"
   ]
  },
  {
   "cell_type": "markdown",
   "id": "2c097eef",
   "metadata": {
    "pycharm": {
     "name": "#%% md\n"
    }
   },
   "source": [
    "## Read in data"
   ]
  },
  {
   "cell_type": "markdown",
   "id": "bbea2d7f",
   "metadata": {
    "pycharm": {
     "name": "#%% md\n"
    }
   },
   "source": [
    "### Option 1: Read from .h5ad"
   ]
  },
  {
   "cell_type": "code",
   "execution_count": 16,
   "id": "e4205757",
   "metadata": {
    "pycharm": {
     "name": "#%%\n"
    }
   },
   "outputs": [
    {
     "name": "stderr",
     "output_type": "stream",
     "text": [
      " ImplicitModificationWarning:/usr/local/lib/python3.8/dist-packages/anndata/_core/anndata.py:121: Transforming to str index.\n"
     ]
    }
   ],
   "source": [
    "if from_h5ad:\n",
    "    \n",
    "    adata = epi.read_h5ad(h5ad_path)\n",
    "    \n",
    "    #Add information to the infoprocess\n",
    "    cr.build_infor(adata, \"Input_for_assembling\", h5ad_path)\n",
    "    cr.build_infor(adata, \"Strategy\", \"Read from h5ad\")"
   ]
  },
  {
   "cell_type": "markdown",
   "id": "80f5835b",
   "metadata": {
    "pycharm": {
     "name": "#%% md\n"
    }
   },
   "source": [
    "## Inspect adata"
   ]
  },
  {
   "cell_type": "code",
   "execution_count": 17,
   "id": "f442d368",
   "metadata": {
    "pycharm": {
     "name": "#%%\n"
    }
   },
   "outputs": [
    {
     "data": {
      "text/plain": [
       "AnnData object with n_obs × n_vars = 373 × 3830\n",
       "    obs: 'barcode', 'TN', 'UM', 'PP', 'UQ', 'CM', 'file', 'sample'\n",
       "    var: 'name'\n",
       "    uns: 'infoprocess', 'color_set'"
      ]
     },
     "metadata": {},
     "output_type": "display_data"
    }
   ],
   "source": [
    "display(adata)"
   ]
  },
  {
   "cell_type": "code",
   "execution_count": 18,
   "id": "cf193c1d",
   "metadata": {
    "pycharm": {
     "name": "#%%\n"
    }
   },
   "outputs": [
    {
     "data": {
      "text/html": [
       "<div>\n",
       "<style scoped>\n",
       "    .dataframe tbody tr th:only-of-type {\n",
       "        vertical-align: middle;\n",
       "    }\n",
       "\n",
       "    .dataframe tbody tr th {\n",
       "        vertical-align: top;\n",
       "    }\n",
       "\n",
       "    .dataframe thead th {\n",
       "        text-align: right;\n",
       "    }\n",
       "</style>\n",
       "<table border=\"1\" class=\"dataframe\">\n",
       "  <thead>\n",
       "    <tr style=\"text-align: right;\">\n",
       "      <th></th>\n",
       "      <th>name</th>\n",
       "    </tr>\n",
       "  </thead>\n",
       "  <tbody>\n",
       "    <tr>\n",
       "      <th>0</th>\n",
       "      <td>b'chr1':9993-10421</td>\n",
       "    </tr>\n",
       "    <tr>\n",
       "      <th>1</th>\n",
       "      <td>b'chr1':29089-29368</td>\n",
       "    </tr>\n",
       "    <tr>\n",
       "      <th>2</th>\n",
       "      <td>b'chr1':180548-180799</td>\n",
       "    </tr>\n",
       "    <tr>\n",
       "      <th>3</th>\n",
       "      <td>b'chr1':199689-199928</td>\n",
       "    </tr>\n",
       "    <tr>\n",
       "      <th>4</th>\n",
       "      <td>b'chr1':629307-629902</td>\n",
       "    </tr>\n",
       "    <tr>\n",
       "      <th>...</th>\n",
       "      <td>...</td>\n",
       "    </tr>\n",
       "    <tr>\n",
       "      <th>3825</th>\n",
       "      <td>b'chrY':318869-319190</td>\n",
       "    </tr>\n",
       "    <tr>\n",
       "      <th>3826</th>\n",
       "      <td>b'chrY':386933-387197</td>\n",
       "    </tr>\n",
       "    <tr>\n",
       "      <th>3827</th>\n",
       "      <td>b'chrY':1453156-1453412</td>\n",
       "    </tr>\n",
       "    <tr>\n",
       "      <th>3828</th>\n",
       "      <td>b'chrY':1591522-1591761</td>\n",
       "    </tr>\n",
       "    <tr>\n",
       "      <th>3829</th>\n",
       "      <td>b'chrY':57216876-57217249</td>\n",
       "    </tr>\n",
       "  </tbody>\n",
       "</table>\n",
       "<p>3830 rows × 1 columns</p>\n",
       "</div>"
      ],
      "text/plain": [
       "                           name\n",
       "0            b'chr1':9993-10421\n",
       "1           b'chr1':29089-29368\n",
       "2         b'chr1':180548-180799\n",
       "3         b'chr1':199689-199928\n",
       "4         b'chr1':629307-629902\n",
       "...                         ...\n",
       "3825      b'chrY':318869-319190\n",
       "3826      b'chrY':386933-387197\n",
       "3827    b'chrY':1453156-1453412\n",
       "3828    b'chrY':1591522-1591761\n",
       "3829  b'chrY':57216876-57217249\n",
       "\n",
       "[3830 rows x 1 columns]"
      ]
     },
     "metadata": {},
     "output_type": "display_data"
    }
   ],
   "source": [
    "display(adata.var)"
   ]
  },
  {
   "cell_type": "code",
   "execution_count": 19,
   "id": "97c42d68",
   "metadata": {
    "pycharm": {
     "name": "#%%\n"
    }
   },
   "outputs": [
    {
     "data": {
      "text/html": [
       "<div>\n",
       "<style scoped>\n",
       "    .dataframe tbody tr th:only-of-type {\n",
       "        vertical-align: middle;\n",
       "    }\n",
       "\n",
       "    .dataframe tbody tr th {\n",
       "        vertical-align: top;\n",
       "    }\n",
       "\n",
       "    .dataframe thead th {\n",
       "        text-align: right;\n",
       "    }\n",
       "</style>\n",
       "<table border=\"1\" class=\"dataframe\">\n",
       "  <thead>\n",
       "    <tr style=\"text-align: right;\">\n",
       "      <th></th>\n",
       "      <th>barcode</th>\n",
       "      <th>TN</th>\n",
       "      <th>UM</th>\n",
       "      <th>PP</th>\n",
       "      <th>UQ</th>\n",
       "      <th>CM</th>\n",
       "      <th>file</th>\n",
       "      <th>sample</th>\n",
       "    </tr>\n",
       "  </thead>\n",
       "  <tbody>\n",
       "    <tr>\n",
       "      <th>1</th>\n",
       "      <td>AAACTACCAGAAACCCGAGATA</td>\n",
       "      <td>33.0</td>\n",
       "      <td>18.0</td>\n",
       "      <td>18.0</td>\n",
       "      <td>15.0</td>\n",
       "      <td>0.0</td>\n",
       "      <td>/home/rstudio/data/snap/cropped_146.snap</td>\n",
       "      <td>MB</td>\n",
       "    </tr>\n",
       "    <tr>\n",
       "      <th>2</th>\n",
       "      <td>AAACTACCAGAAACCTAAGTGG</td>\n",
       "      <td>52.0</td>\n",
       "      <td>36.0</td>\n",
       "      <td>35.0</td>\n",
       "      <td>32.0</td>\n",
       "      <td>1.0</td>\n",
       "      <td>/home/rstudio/data/snap/cropped_146.snap</td>\n",
       "      <td>MB</td>\n",
       "    </tr>\n",
       "    <tr>\n",
       "      <th>3</th>\n",
       "      <td>AAACTACCAGAAACGGATCAGT</td>\n",
       "      <td>27.0</td>\n",
       "      <td>19.0</td>\n",
       "      <td>19.0</td>\n",
       "      <td>19.0</td>\n",
       "      <td>0.0</td>\n",
       "      <td>/home/rstudio/data/snap/cropped_146.snap</td>\n",
       "      <td>MB</td>\n",
       "    </tr>\n",
       "    <tr>\n",
       "      <th>4</th>\n",
       "      <td>AAACTACCAGAAACGTCCCGTT</td>\n",
       "      <td>6223.0</td>\n",
       "      <td>5231.0</td>\n",
       "      <td>5213.0</td>\n",
       "      <td>3779.0</td>\n",
       "      <td>18.0</td>\n",
       "      <td>/home/rstudio/data/snap/cropped_146.snap</td>\n",
       "      <td>MB</td>\n",
       "    </tr>\n",
       "    <tr>\n",
       "      <th>5</th>\n",
       "      <td>AAACTACCAGAAACTAGCCCTA</td>\n",
       "      <td>41.0</td>\n",
       "      <td>29.0</td>\n",
       "      <td>29.0</td>\n",
       "      <td>26.0</td>\n",
       "      <td>0.0</td>\n",
       "      <td>/home/rstudio/data/snap/cropped_146.snap</td>\n",
       "      <td>MB</td>\n",
       "    </tr>\n",
       "    <tr>\n",
       "      <th>...</th>\n",
       "      <td>...</td>\n",
       "      <td>...</td>\n",
       "      <td>...</td>\n",
       "      <td>...</td>\n",
       "      <td>...</td>\n",
       "      <td>...</td>\n",
       "      <td>...</td>\n",
       "      <td>...</td>\n",
       "    </tr>\n",
       "    <tr>\n",
       "      <th>369</th>\n",
       "      <td>AAACTACCAGCTTGGCAACAGC</td>\n",
       "      <td>26.0</td>\n",
       "      <td>20.0</td>\n",
       "      <td>20.0</td>\n",
       "      <td>20.0</td>\n",
       "      <td>1.0</td>\n",
       "      <td>/home/rstudio/data/snap/cropped_146.snap</td>\n",
       "      <td>MB</td>\n",
       "    </tr>\n",
       "    <tr>\n",
       "      <th>370</th>\n",
       "      <td>AAACTACCAGCTTTAACTGCGC</td>\n",
       "      <td>29.0</td>\n",
       "      <td>20.0</td>\n",
       "      <td>20.0</td>\n",
       "      <td>19.0</td>\n",
       "      <td>0.0</td>\n",
       "      <td>/home/rstudio/data/snap/cropped_146.snap</td>\n",
       "      <td>MB</td>\n",
       "    </tr>\n",
       "    <tr>\n",
       "      <th>371</th>\n",
       "      <td>AAACTACCAGCTTTAGCCCTAT</td>\n",
       "      <td>32.0</td>\n",
       "      <td>24.0</td>\n",
       "      <td>24.0</td>\n",
       "      <td>24.0</td>\n",
       "      <td>1.0</td>\n",
       "      <td>/home/rstudio/data/snap/cropped_146.snap</td>\n",
       "      <td>MB</td>\n",
       "    </tr>\n",
       "    <tr>\n",
       "      <th>372</th>\n",
       "      <td>AAACTACCAGCTTTAGCTGACT</td>\n",
       "      <td>10437.0</td>\n",
       "      <td>9231.0</td>\n",
       "      <td>9206.0</td>\n",
       "      <td>6209.0</td>\n",
       "      <td>17.0</td>\n",
       "      <td>/home/rstudio/data/snap/cropped_146.snap</td>\n",
       "      <td>MB</td>\n",
       "    </tr>\n",
       "    <tr>\n",
       "      <th>373</th>\n",
       "      <td>AAACTACCAGCTTTGGGACGGT</td>\n",
       "      <td>10849.0</td>\n",
       "      <td>9484.0</td>\n",
       "      <td>9462.0</td>\n",
       "      <td>6968.0</td>\n",
       "      <td>14.0</td>\n",
       "      <td>/home/rstudio/data/snap/cropped_146.snap</td>\n",
       "      <td>MB</td>\n",
       "    </tr>\n",
       "  </tbody>\n",
       "</table>\n",
       "<p>373 rows × 8 columns</p>\n",
       "</div>"
      ],
      "text/plain": [
       "                    barcode       TN      UM      PP      UQ    CM  \\\n",
       "1    AAACTACCAGAAACCCGAGATA     33.0    18.0    18.0    15.0   0.0   \n",
       "2    AAACTACCAGAAACCTAAGTGG     52.0    36.0    35.0    32.0   1.0   \n",
       "3    AAACTACCAGAAACGGATCAGT     27.0    19.0    19.0    19.0   0.0   \n",
       "4    AAACTACCAGAAACGTCCCGTT   6223.0  5231.0  5213.0  3779.0  18.0   \n",
       "5    AAACTACCAGAAACTAGCCCTA     41.0    29.0    29.0    26.0   0.0   \n",
       "..                      ...      ...     ...     ...     ...   ...   \n",
       "369  AAACTACCAGCTTGGCAACAGC     26.0    20.0    20.0    20.0   1.0   \n",
       "370  AAACTACCAGCTTTAACTGCGC     29.0    20.0    20.0    19.0   0.0   \n",
       "371  AAACTACCAGCTTTAGCCCTAT     32.0    24.0    24.0    24.0   1.0   \n",
       "372  AAACTACCAGCTTTAGCTGACT  10437.0  9231.0  9206.0  6209.0  17.0   \n",
       "373  AAACTACCAGCTTTGGGACGGT  10849.0  9484.0  9462.0  6968.0  14.0   \n",
       "\n",
       "                                         file sample  \n",
       "1    /home/rstudio/data/snap/cropped_146.snap     MB  \n",
       "2    /home/rstudio/data/snap/cropped_146.snap     MB  \n",
       "3    /home/rstudio/data/snap/cropped_146.snap     MB  \n",
       "4    /home/rstudio/data/snap/cropped_146.snap     MB  \n",
       "5    /home/rstudio/data/snap/cropped_146.snap     MB  \n",
       "..                                        ...    ...  \n",
       "369  /home/rstudio/data/snap/cropped_146.snap     MB  \n",
       "370  /home/rstudio/data/snap/cropped_146.snap     MB  \n",
       "371  /home/rstudio/data/snap/cropped_146.snap     MB  \n",
       "372  /home/rstudio/data/snap/cropped_146.snap     MB  \n",
       "373  /home/rstudio/data/snap/cropped_146.snap     MB  \n",
       "\n",
       "[373 rows x 8 columns]"
      ]
     },
     "metadata": {},
     "output_type": "display_data"
    }
   ],
   "source": [
    "display(adata.obs)"
   ]
  },
  {
   "cell_type": "markdown",
   "id": "ca7f726d",
   "metadata": {
    "pycharm": {
     "name": "#%% md\n"
    }
   },
   "source": [
    "## Check for QC related columns"
   ]
  },
  {
   "cell_type": "markdown",
   "id": "c3339a44",
   "metadata": {
    "pycharm": {
     "name": "#%% md\n"
    }
   },
   "source": [
    "### 1. Check if mean fragment length column exists\n"
   ]
  },
  {
   "cell_type": "code",
   "execution_count": 20,
   "id": "8c14ec6a",
   "metadata": {
    "pycharm": {
     "name": "#%%\n"
    }
   },
   "outputs": [
    {
     "data": {
      "text/plain": [
       "False"
      ]
     },
     "execution_count": 20,
     "metadata": {},
     "output_type": "execute_result"
    }
   ],
   "source": [
    "mfl_column = fragments.check_mfl(adata)\n",
    "mfl_column"
   ]
  },
  {
   "cell_type": "markdown",
   "id": "19b92fb6",
   "metadata": {
    "pycharm": {
     "name": "#%% md\n"
    }
   },
   "source": [
    "### 2. Check if percentage of reads in promoters column exists"
   ]
  },
  {
   "cell_type": "code",
   "execution_count": 21,
   "id": "4176d686",
   "metadata": {
    "pycharm": {
     "name": "#%%\n"
    }
   },
   "outputs": [
    {
     "data": {
      "text/plain": [
       "False"
      ]
     },
     "execution_count": 21,
     "metadata": {},
     "output_type": "execute_result"
    }
   ],
   "source": [
    "pct_rip_column = overlap.check_pct_fragments_in_promoters(adata)\n",
    "pct_rip_column"
   ]
  },
  {
   "cell_type": "markdown",
   "id": "00d20302",
   "metadata": {
    "pycharm": {
     "name": "#%% md\n"
    }
   },
   "source": [
    "## Calculate missing columns"
   ]
  },
  {
   "cell_type": "markdown",
   "id": "a9fa34ce",
   "metadata": {
    "pycharm": {
     "name": "#%% md\n"
    }
   },
   "source": [
    "### 1. calc mean fragment length if missing "
   ]
  },
  {
   "cell_type": "code",
   "execution_count": 22,
   "id": "f53e9aa4",
   "metadata": {
    "pycharm": {
     "name": "#%%\n"
    },
    "scrolled": true
   },
   "outputs": [
    {
     "data": {
      "text/html": [
       "<div>\n",
       "<style scoped>\n",
       "    .dataframe tbody tr th:only-of-type {\n",
       "        vertical-align: middle;\n",
       "    }\n",
       "\n",
       "    .dataframe tbody tr th {\n",
       "        vertical-align: top;\n",
       "    }\n",
       "\n",
       "    .dataframe thead th {\n",
       "        text-align: right;\n",
       "    }\n",
       "</style>\n",
       "<table border=\"1\" class=\"dataframe\">\n",
       "  <thead>\n",
       "    <tr style=\"text-align: right;\">\n",
       "      <th></th>\n",
       "      <th>TN</th>\n",
       "      <th>UM</th>\n",
       "      <th>PP</th>\n",
       "      <th>UQ</th>\n",
       "      <th>CM</th>\n",
       "      <th>file</th>\n",
       "      <th>sample</th>\n",
       "      <th>mean_fragment_length</th>\n",
       "    </tr>\n",
       "    <tr>\n",
       "      <th>barcode</th>\n",
       "      <th></th>\n",
       "      <th></th>\n",
       "      <th></th>\n",
       "      <th></th>\n",
       "      <th></th>\n",
       "      <th></th>\n",
       "      <th></th>\n",
       "      <th></th>\n",
       "    </tr>\n",
       "  </thead>\n",
       "  <tbody>\n",
       "    <tr>\n",
       "      <th>AAACTACCAGAAACCCGAGATA</th>\n",
       "      <td>33.0</td>\n",
       "      <td>18.0</td>\n",
       "      <td>18.0</td>\n",
       "      <td>15.0</td>\n",
       "      <td>0.0</td>\n",
       "      <td>/home/rstudio/data/snap/cropped_146.snap</td>\n",
       "      <td>MB</td>\n",
       "      <td>76.833333</td>\n",
       "    </tr>\n",
       "    <tr>\n",
       "      <th>AAACTACCAGAAACCTAAGTGG</th>\n",
       "      <td>52.0</td>\n",
       "      <td>36.0</td>\n",
       "      <td>35.0</td>\n",
       "      <td>32.0</td>\n",
       "      <td>1.0</td>\n",
       "      <td>/home/rstudio/data/snap/cropped_146.snap</td>\n",
       "      <td>MB</td>\n",
       "      <td>155.064516</td>\n",
       "    </tr>\n",
       "    <tr>\n",
       "      <th>AAACTACCAGAAACGGATCAGT</th>\n",
       "      <td>27.0</td>\n",
       "      <td>19.0</td>\n",
       "      <td>19.0</td>\n",
       "      <td>19.0</td>\n",
       "      <td>0.0</td>\n",
       "      <td>/home/rstudio/data/snap/cropped_146.snap</td>\n",
       "      <td>MB</td>\n",
       "      <td>134.562500</td>\n",
       "    </tr>\n",
       "    <tr>\n",
       "      <th>AAACTACCAGAAACGTCCCGTT</th>\n",
       "      <td>6223.0</td>\n",
       "      <td>5231.0</td>\n",
       "      <td>5213.0</td>\n",
       "      <td>3779.0</td>\n",
       "      <td>18.0</td>\n",
       "      <td>/home/rstudio/data/snap/cropped_146.snap</td>\n",
       "      <td>MB</td>\n",
       "      <td>140.355033</td>\n",
       "    </tr>\n",
       "    <tr>\n",
       "      <th>AAACTACCAGAAACTAGCCCTA</th>\n",
       "      <td>41.0</td>\n",
       "      <td>29.0</td>\n",
       "      <td>29.0</td>\n",
       "      <td>26.0</td>\n",
       "      <td>0.0</td>\n",
       "      <td>/home/rstudio/data/snap/cropped_146.snap</td>\n",
       "      <td>MB</td>\n",
       "      <td>105.727273</td>\n",
       "    </tr>\n",
       "    <tr>\n",
       "      <th>...</th>\n",
       "      <td>...</td>\n",
       "      <td>...</td>\n",
       "      <td>...</td>\n",
       "      <td>...</td>\n",
       "      <td>...</td>\n",
       "      <td>...</td>\n",
       "      <td>...</td>\n",
       "      <td>...</td>\n",
       "    </tr>\n",
       "    <tr>\n",
       "      <th>AAACTACCAGCTTGGCAACAGC</th>\n",
       "      <td>26.0</td>\n",
       "      <td>20.0</td>\n",
       "      <td>20.0</td>\n",
       "      <td>20.0</td>\n",
       "      <td>1.0</td>\n",
       "      <td>/home/rstudio/data/snap/cropped_146.snap</td>\n",
       "      <td>MB</td>\n",
       "      <td>103.733333</td>\n",
       "    </tr>\n",
       "    <tr>\n",
       "      <th>AAACTACCAGCTTTAACTGCGC</th>\n",
       "      <td>29.0</td>\n",
       "      <td>20.0</td>\n",
       "      <td>20.0</td>\n",
       "      <td>19.0</td>\n",
       "      <td>0.0</td>\n",
       "      <td>/home/rstudio/data/snap/cropped_146.snap</td>\n",
       "      <td>MB</td>\n",
       "      <td>107.692308</td>\n",
       "    </tr>\n",
       "    <tr>\n",
       "      <th>AAACTACCAGCTTTAGCCCTAT</th>\n",
       "      <td>32.0</td>\n",
       "      <td>24.0</td>\n",
       "      <td>24.0</td>\n",
       "      <td>24.0</td>\n",
       "      <td>1.0</td>\n",
       "      <td>/home/rstudio/data/snap/cropped_146.snap</td>\n",
       "      <td>MB</td>\n",
       "      <td>140.850000</td>\n",
       "    </tr>\n",
       "    <tr>\n",
       "      <th>AAACTACCAGCTTTAGCTGACT</th>\n",
       "      <td>10437.0</td>\n",
       "      <td>9231.0</td>\n",
       "      <td>9206.0</td>\n",
       "      <td>6209.0</td>\n",
       "      <td>17.0</td>\n",
       "      <td>/home/rstudio/data/snap/cropped_146.snap</td>\n",
       "      <td>MB</td>\n",
       "      <td>125.825601</td>\n",
       "    </tr>\n",
       "    <tr>\n",
       "      <th>AAACTACCAGCTTTGGGACGGT</th>\n",
       "      <td>10849.0</td>\n",
       "      <td>9484.0</td>\n",
       "      <td>9462.0</td>\n",
       "      <td>6968.0</td>\n",
       "      <td>14.0</td>\n",
       "      <td>/home/rstudio/data/snap/cropped_146.snap</td>\n",
       "      <td>MB</td>\n",
       "      <td>144.718487</td>\n",
       "    </tr>\n",
       "  </tbody>\n",
       "</table>\n",
       "<p>373 rows × 8 columns</p>\n",
       "</div>"
      ],
      "text/plain": [
       "                             TN      UM      PP      UQ    CM  \\\n",
       "barcode                                                         \n",
       "AAACTACCAGAAACCCGAGATA     33.0    18.0    18.0    15.0   0.0   \n",
       "AAACTACCAGAAACCTAAGTGG     52.0    36.0    35.0    32.0   1.0   \n",
       "AAACTACCAGAAACGGATCAGT     27.0    19.0    19.0    19.0   0.0   \n",
       "AAACTACCAGAAACGTCCCGTT   6223.0  5231.0  5213.0  3779.0  18.0   \n",
       "AAACTACCAGAAACTAGCCCTA     41.0    29.0    29.0    26.0   0.0   \n",
       "...                         ...     ...     ...     ...   ...   \n",
       "AAACTACCAGCTTGGCAACAGC     26.0    20.0    20.0    20.0   1.0   \n",
       "AAACTACCAGCTTTAACTGCGC     29.0    20.0    20.0    19.0   0.0   \n",
       "AAACTACCAGCTTTAGCCCTAT     32.0    24.0    24.0    24.0   1.0   \n",
       "AAACTACCAGCTTTAGCTGACT  10437.0  9231.0  9206.0  6209.0  17.0   \n",
       "AAACTACCAGCTTTGGGACGGT  10849.0  9484.0  9462.0  6968.0  14.0   \n",
       "\n",
       "                                                            file sample  \\\n",
       "barcode                                                                   \n",
       "AAACTACCAGAAACCCGAGATA  /home/rstudio/data/snap/cropped_146.snap     MB   \n",
       "AAACTACCAGAAACCTAAGTGG  /home/rstudio/data/snap/cropped_146.snap     MB   \n",
       "AAACTACCAGAAACGGATCAGT  /home/rstudio/data/snap/cropped_146.snap     MB   \n",
       "AAACTACCAGAAACGTCCCGTT  /home/rstudio/data/snap/cropped_146.snap     MB   \n",
       "AAACTACCAGAAACTAGCCCTA  /home/rstudio/data/snap/cropped_146.snap     MB   \n",
       "...                                                          ...    ...   \n",
       "AAACTACCAGCTTGGCAACAGC  /home/rstudio/data/snap/cropped_146.snap     MB   \n",
       "AAACTACCAGCTTTAACTGCGC  /home/rstudio/data/snap/cropped_146.snap     MB   \n",
       "AAACTACCAGCTTTAGCCCTAT  /home/rstudio/data/snap/cropped_146.snap     MB   \n",
       "AAACTACCAGCTTTAGCTGACT  /home/rstudio/data/snap/cropped_146.snap     MB   \n",
       "AAACTACCAGCTTTGGGACGGT  /home/rstudio/data/snap/cropped_146.snap     MB   \n",
       "\n",
       "                        mean_fragment_length  \n",
       "barcode                                       \n",
       "AAACTACCAGAAACCCGAGATA             76.833333  \n",
       "AAACTACCAGAAACCTAAGTGG            155.064516  \n",
       "AAACTACCAGAAACGGATCAGT            134.562500  \n",
       "AAACTACCAGAAACGTCCCGTT            140.355033  \n",
       "AAACTACCAGAAACTAGCCCTA            105.727273  \n",
       "...                                      ...  \n",
       "AAACTACCAGCTTGGCAACAGC            103.733333  \n",
       "AAACTACCAGCTTTAACTGCGC            107.692308  \n",
       "AAACTACCAGCTTTAGCCCTAT            140.850000  \n",
       "AAACTACCAGCTTTAGCTGACT            125.825601  \n",
       "AAACTACCAGCTTTGGGACGGT            144.718487  \n",
       "\n",
       "[373 rows x 8 columns]"
      ]
     },
     "execution_count": 22,
     "metadata": {},
     "output_type": "execute_result"
    }
   ],
   "source": [
    "if not mfl_column:\n",
    "    adata = fragments.add_mfl_fragment(fragments_file, adata, n_threads)\n",
    "adata.obs"
   ]
  },
  {
   "cell_type": "markdown",
   "id": "b6ce8d55",
   "metadata": {
    "pycharm": {
     "name": "#%% md\n"
    }
   },
   "source": [
    "### 2. Promotor enrichment "
   ]
  },
  {
   "cell_type": "code",
   "execution_count": 10,
   "id": "f8bcc9d3",
   "metadata": {},
   "outputs": [],
   "source": [
    "adata.obs = adata.obs.set_index('barcode')"
   ]
  },
  {
   "cell_type": "code",
   "execution_count": null,
   "id": "a459fc62",
   "metadata": {
    "pycharm": {
     "name": "#%%\n"
    }
   },
   "outputs": [
    {
     "name": "stdout",
     "output_type": "stream",
     "text": [
      "Converting BAM to fragments file! This may take a while...\n"
     ]
    }
   ],
   "source": [
    "if not pct_rip_column:\n",
    "    overlap.pct_fragments_in_promoters(adata, promoters_gtf, bam_file=bam_file, cb_col=None, nproc=1)\n",
    "adata.obs"
   ]
  },
  {
   "cell_type": "markdown",
   "id": "2cec4573",
   "metadata": {
    "pycharm": {
     "name": "#%% md\n"
    }
   },
   "source": [
    "## Inspect adata.obs"
   ]
  },
  {
   "cell_type": "code",
   "execution_count": null,
   "id": "96055949",
   "metadata": {
    "pycharm": {
     "name": "#%%\n"
    }
   },
   "outputs": [],
   "source": [
    "adata.obs"
   ]
  },
  {
   "cell_type": "markdown",
   "id": "c56aa20e",
   "metadata": {
    "pycharm": {
     "name": "#%% md\n"
    }
   },
   "source": [
    "## Save adata to .h5ad"
   ]
  },
  {
   "cell_type": "code",
   "execution_count": null,
   "id": "2826bda4",
   "metadata": {
    "pycharm": {
     "name": "#%%\n"
    }
   },
   "outputs": [],
   "source": [
    "adata_output = tree.assembled_anndata\n",
    "adata_output"
   ]
  },
  {
   "cell_type": "code",
   "execution_count": null,
   "id": "90773c16",
   "metadata": {
    "pycharm": {
     "name": "#%%\n"
    }
   },
   "outputs": [],
   "source": [
    "#Saving the data\n",
    "cr.build_infor(adata, \"Test_number\", test)\n",
    "cr.build_infor(adata, \"Anndata_path\", output_dir)\n",
    "\n",
    "adata_output = tree.assembled_anndata\n",
    "adata.write(filename=adata_output)"
   ]
  }
 ],
 "metadata": {
  "kernelspec": {
   "display_name": "Python 3 (ipykernel)",
   "language": "python",
   "name": "python3"
  },
  "language_info": {
   "codemirror_mode": {
    "name": "ipython",
    "version": 3
   },
   "file_extension": ".py",
   "mimetype": "text/x-python",
   "name": "python",
   "nbconvert_exporter": "python",
   "pygments_lexer": "ipython3",
   "version": "3.8.10"
  }
 },
 "nbformat": 4,
 "nbformat_minor": 5
}
