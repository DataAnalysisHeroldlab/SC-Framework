{
 "cells": [
  {
   "cell_type": "markdown",
   "id": "bf52b2e2",
   "metadata": {
    "pycharm": {
     "name": "#%% md\n"
    }
   },
   "source": [
    "# Assembling\n",
    "\n",
    "This notebook is used to assemble a processable h5ad object for subsequent notebooks."
   ]
  },
  {
   "cell_type": "markdown",
   "id": "c9e8b8fd",
   "metadata": {
    "pycharm": {
     "name": "#%% md\n"
    }
   },
   "source": [
    "## Fill in input data, output and settings"
   ]
  },
  {
   "cell_type": "code",
   "execution_count": null,
   "id": "0cee5cae",
   "metadata": {
    "pycharm": {
     "name": "#%%\n"
    }
   },
   "outputs": [],
   "source": [
    "####################### TEST NAME ###################################\n",
    "test = 'Aorta'\n",
    "################### DEFINING STRATEGY ###############################\n",
    "from_h5ad = True #option 1\n",
    "assembling_10_velocity = False #option 2\n",
    "assembling_10_public = False #option 3\n",
    "convert_seurat = False #option 4\n",
    "\n",
    "###################### INPUT DATA ###################################\n",
    "\n",
    "#For option 1: The path to an existing .h5ad file\n",
    "h5ad_path = '/home/rstudio/preprocessing/data/anndata/cropped_146.h5ad'\n",
    "#################### Calc QC Columns ###############################\n",
    "n_threads = 8\n",
    "\n",
    "fragments_file = '/home/rstudio/preprocessing/data/bamfiles/fragments_cropped_146.bed'\n",
    "promoters_gtf = '/home/rstudio/preprocessing/data/homo_sapiens.104.promoters2000.gtf'\n",
    "\n",
    "\n",
    "##################### OUTPUT DATA ###################################\n",
    "output_dir = '/home/rstudio/processed_data'"
   ]
  },
  {
   "cell_type": "markdown",
   "id": "757771b4",
   "metadata": {
    "pycharm": {
     "name": "#%% md\n"
    }
   },
   "source": [
    "## Import modules"
   ]
  },
  {
   "cell_type": "code",
   "execution_count": null,
   "id": "41fe2538",
   "metadata": {
    "pycharm": {
     "name": "#%%\n"
    }
   },
   "outputs": [],
   "source": [
    "# sctoolbox modules \n",
    "import sctoolbox.atac_tree as sub_tree\n",
    "import sctoolbox.creators as cr\n",
    "import sctoolbox.fragment_length as fragments\n",
    "import sctoolbox.calc_overlap_pct as overlap\n",
    "# import episcanpy\n",
    "import episcanpy as epi"
   ]
  },
  {
   "cell_type": "markdown",
   "id": "6a233959",
   "metadata": {
    "pycharm": {
     "name": "#%% md\n"
    }
   },
   "source": [
    "## Setup path handling object "
   ]
  },
  {
   "cell_type": "code",
   "execution_count": null,
   "id": "bd6d7420",
   "metadata": {
    "pycharm": {
     "name": "#%%\n"
    }
   },
   "outputs": [],
   "source": [
    "# make an instance of the class\n",
    "tree = sub_tree.ATAC_tree()\n",
    "# set processing/output directory\n",
    "tree.processing_dir = output_dir\n",
    "# set sample/experiment.. \n",
    "tree.run = test"
   ]
  },
  {
   "cell_type": "markdown",
   "id": "2c097eef",
   "metadata": {
    "pycharm": {
     "name": "#%% md\n"
    }
   },
   "source": [
    "## Read in data"
   ]
  },
  {
   "cell_type": "markdown",
   "id": "bbea2d7f",
   "metadata": {
    "pycharm": {
     "name": "#%% md\n"
    }
   },
   "source": [
    "### Option 1: Read from .h5ad"
   ]
  },
  {
   "cell_type": "code",
   "execution_count": null,
   "id": "e4205757",
   "metadata": {
    "pycharm": {
     "name": "#%%\n"
    }
   },
   "outputs": [],
   "source": [
    "if from_h5ad:\n",
    "    \n",
    "    adata = epi.read_h5ad(h5ad_path)\n",
    "    \n",
    "    #Add information to the infoprocess\n",
    "    cr.build_infor(adata, \"Input_for_assembling\", h5ad_path)\n",
    "    cr.build_infor(adata, \"Strategy\", \"Read from h5ad\")"
   ]
  },
  {
   "cell_type": "markdown",
   "id": "80f5835b",
   "metadata": {
    "pycharm": {
     "name": "#%% md\n"
    }
   },
   "source": [
    "## Inspect adata"
   ]
  },
  {
   "cell_type": "code",
   "execution_count": null,
   "id": "f442d368",
   "metadata": {
    "pycharm": {
     "name": "#%%\n"
    }
   },
   "outputs": [],
   "source": [
    "display(adata)"
   ]
  },
  {
   "cell_type": "code",
   "execution_count": null,
   "id": "cf193c1d",
   "metadata": {
    "pycharm": {
     "name": "#%%\n"
    }
   },
   "outputs": [],
   "source": [
    "display(adata.var)"
   ]
  },
  {
   "cell_type": "code",
   "execution_count": null,
   "id": "97c42d68",
   "metadata": {
    "pycharm": {
     "name": "#%%\n"
    }
   },
   "outputs": [],
   "source": [
    "display(adata.obs)"
   ]
  },
  {
   "cell_type": "markdown",
   "id": "ca7f726d",
   "metadata": {
    "pycharm": {
     "name": "#%% md\n"
    }
   },
   "source": [
    "## Check for QC related columns"
   ]
  },
  {
   "cell_type": "markdown",
   "id": "c3339a44",
   "metadata": {
    "pycharm": {
     "name": "#%% md\n"
    }
   },
   "source": [
    "### 1. Check if mean fragment length column exists\n"
   ]
  },
  {
   "cell_type": "code",
   "execution_count": null,
   "id": "8c14ec6a",
   "metadata": {
    "pycharm": {
     "name": "#%%\n"
    }
   },
   "outputs": [],
   "source": [
    "mfl_column = fragments.check_mfl(adata)\n",
    "mfl_column"
   ]
  },
  {
   "cell_type": "markdown",
   "id": "19b92fb6",
   "metadata": {
    "pycharm": {
     "name": "#%% md\n"
    }
   },
   "source": [
    "### 2. Check if percentage of reads in promoters column exists"
   ]
  },
  {
   "cell_type": "code",
   "execution_count": null,
   "id": "4176d686",
   "metadata": {
    "pycharm": {
     "name": "#%%\n"
    }
   },
   "outputs": [],
   "source": [
    "pct_rip_column = overlap.check_pct_fragments_in_promoters(adata)\n",
    "pct_rip_column"
   ]
  },
  {
   "cell_type": "markdown",
   "id": "00d20302",
   "metadata": {
    "pycharm": {
     "name": "#%% md\n"
    }
   },
   "source": [
    "## Calculate missing columns"
   ]
  },
  {
   "cell_type": "markdown",
   "id": "a9fa34ce",
   "metadata": {
    "pycharm": {
     "name": "#%% md\n"
    }
   },
   "source": [
    "### 1. calc mean fragment length if missing "
   ]
  },
  {
   "cell_type": "code",
   "execution_count": null,
   "id": "f53e9aa4",
   "metadata": {
    "scrolled": true,
    "pycharm": {
     "name": "#%%\n"
    }
   },
   "outputs": [],
   "source": [
    "if not mfl_column:\n",
    "    adata = fragments.add_mfl_fragment(fragments_file, adata, n_threads)\n",
    "adata.obs"
   ]
  },
  {
   "cell_type": "markdown",
   "id": "b6ce8d55",
   "metadata": {
    "pycharm": {
     "name": "#%% md\n"
    }
   },
   "source": [
    "### 2. Promotor enrichment "
   ]
  },
  {
   "cell_type": "code",
   "execution_count": null,
   "id": "a459fc62",
   "metadata": {
    "pycharm": {
     "name": "#%%\n"
    }
   },
   "outputs": [],
   "source": [
    "if not pct_rip_column:\n",
    "    overlap.pct_fragments_in_promoters(adata, promoters_gtf, fragments_file, cb_col=None, nproc=1)\n",
    "adata.obs"
   ]
  },
  {
   "cell_type": "markdown",
   "id": "2cec4573",
   "metadata": {
    "pycharm": {
     "name": "#%% md\n"
    }
   },
   "source": [
    "## Inspect adata.obs"
   ]
  },
  {
   "cell_type": "code",
   "execution_count": null,
   "id": "96055949",
   "metadata": {
    "pycharm": {
     "name": "#%%\n"
    }
   },
   "outputs": [],
   "source": [
    "adata.obs"
   ]
  },
  {
   "cell_type": "markdown",
   "id": "c56aa20e",
   "metadata": {
    "pycharm": {
     "name": "#%% md\n"
    }
   },
   "source": [
    "## Save adata to .h5ad"
   ]
  },
  {
   "cell_type": "code",
   "execution_count": null,
   "id": "2826bda4",
   "metadata": {
    "pycharm": {
     "name": "#%%\n"
    }
   },
   "outputs": [],
   "source": [
    "adata_output = tree.assembled_anndata\n",
    "adata_output"
   ]
  },
  {
   "cell_type": "code",
   "execution_count": null,
   "id": "90773c16",
   "metadata": {
    "pycharm": {
     "name": "#%%\n"
    }
   },
   "outputs": [],
   "source": [
    "#Saving the data\n",
    "cr.build_infor(adata, \"Test_number\", test)\n",
    "cr.build_infor(adata, \"Anndata_path\", output_dir)\n",
    "\n",
    "adata_output = tree.assembled_anndata\n",
    "adata.write(filename=adata_output)"
   ]
  }
 ],
 "metadata": {
  "kernelspec": {
   "display_name": "Python 3 (ipykernel)",
   "language": "python",
   "name": "python3"
  },
  "language_info": {
   "codemirror_mode": {
    "name": "ipython",
    "version": 3
   },
   "file_extension": ".py",
   "mimetype": "text/x-python",
   "name": "python",
   "nbconvert_exporter": "python",
   "pygments_lexer": "ipython3",
   "version": "3.9.13"
  }
 },
 "nbformat": 4,
 "nbformat_minor": 5
}