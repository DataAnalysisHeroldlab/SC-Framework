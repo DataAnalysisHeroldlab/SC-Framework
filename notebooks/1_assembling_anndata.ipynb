{
 "cells": [
  {
   "cell_type": "markdown",
   "id": "2cf01f69",
   "metadata": {},
   "source": [
    "# Assembling or loading anndata object\n",
    "**In case assemble new object, it will be used in the velocity analysis**"
   ]
  },
  {
   "cell_type": "markdown",
   "id": "6cdd6b4e",
   "metadata": {},
   "source": [
    "# A: set up"
   ]
  },
  {
   "cell_type": "code",
   "execution_count": 1,
   "id": "013266fd",
   "metadata": {
    "ExecuteTime": {
     "end_time": "2022-03-10T13:00:19.171884Z",
     "start_time": "2022-03-10T13:00:19.164178Z"
    }
   },
   "outputs": [],
   "source": [
    "#####################DEFINING TEST NUMBER##############################\n",
    "test=\"Test1\"\n",
    "\n",
    "##########################DEFINING IMPUTS##############################\n",
    "path_solo_quant=\"/mnt/workspace/gvalent/5_SC_automatation/data1/raw_data\" #This is the directory where the quant folder from snakemake preprocessing is located\n",
    "path_outout=\"/mnt/workspace/gvalent/5_SC_automatation/data1/raw_data\" #The path were the folders results/Test* will be created to export your results\n",
    "\n",
    "#To create the anndata object for velocity analyis, paste bellow the sample descriptions of 10X.yml\n",
    "the_10X_yml=[    \n",
    "\"sample1:condition:room_air\",\n",
    "\"sample2:condition:room_air\",\n",
    "\"sample3:condition:smooke_exposure\",\n",
    "\"sample4:condition:smooke_exposure\",\n",
    "]\n",
    "\n",
    "#Which Solo dataset do you wanna use?\n",
    "data_type='filtered' #set 'raw' or 'filtered'"
   ]
  },
  {
   "cell_type": "markdown",
   "id": "88e80c98",
   "metadata": {},
   "source": [
    "# B: checking and creating output directory"
   ]
  },
  {
   "cell_type": "code",
   "execution_count": 2,
   "id": "affae1df",
   "metadata": {
    "ExecuteTime": {
     "end_time": "2022-03-10T13:00:19.255174Z",
     "start_time": "2022-03-10T13:00:19.187622Z"
    }
   },
   "outputs": [
    {
     "name": "stdout",
     "output_type": "stream",
     "text": [
      "The info.yml was created.\n",
      "Sample sample1 have the proper data for assembling an anndata for velocity analysis.\n",
      "Sample sample2 have the proper data for assembling an anndata for velocity analysis.\n",
      "Sample sample3 have the proper data for assembling an anndata for velocity analysis.\n",
      "Sample sample4 have the proper data for assembling an anndata for velocity analysis.\n",
      "Creating the /mnt/workspace/gvalent/5_SC_automatation/data1/raw_data/results directory.\n",
      "The /mnt/workspace/gvalent/5_SC_automatation/data1/raw_data/results directory is ready.\n",
      "Creating the /mnt/workspace/gvalent/5_SC_automatation/data1/raw_data/results/Test1 directory.\n",
      "The /mnt/workspace/gvalent/5_SC_automatation/data1/raw_data/results/Test1 directory is ready.\n",
      "The info.yml has a new key.\n"
     ]
    }
   ],
   "source": [
    "import checker\n",
    "import creators\n",
    "from imp import reload\n",
    "reload(checker)\n",
    "reload(creators)\n",
    "\n",
    "checker.input_path_velocity(path_solo_quant, the_10X_yml, data_type) #Check if the input path exist and also if the necessary data to assembling the anndata for velocity is there\n",
    "checker.output_path(path_outout, test) #Check if the output path exist. Otherwise, it will create the directory"
   ]
  },
  {
   "cell_type": "markdown",
   "id": "b49d2063",
   "metadata": {},
   "source": [
    "# C: assembling anndata"
   ]
  },
  {
   "cell_type": "code",
   "execution_count": 3,
   "id": "4fc89bbd",
   "metadata": {
    "ExecuteTime": {
     "end_time": "2022-03-10T13:09:31.321052Z",
     "start_time": "2022-03-10T13:00:19.256747Z"
    }
   },
   "outputs": [
    {
     "name": "stdout",
     "output_type": "stream",
     "text": [
      "Runing sample number 1 out of 4 samples.\n",
      "\t\tLoading matrix to compose the X object: sample1\n",
      "\t\tLoading genes and cells identifiers to make the obs object: sample1\n",
      "\t\tLoading the gene features to make the var object: sample1\n",
      "\t\tLoading spliced, unspliced and ambigous matrix to compose the X object: sample1\n"
     ]
    },
    {
     "name": "stderr",
     "output_type": "stream",
     "text": [
      "Variable names are not unique. To make them unique, call `.var_names_make_unique`.\n"
     ]
    },
    {
     "name": "stdout",
     "output_type": "stream",
     "text": [
      "\t\tCreating partial anndata object: sample1\n",
      "Runing sample number 2 out of 4 samples.\n",
      "\t\tLoading matrix to compose the X object: sample2\n",
      "\t\tLoading genes and cells identifiers to make the obs object: sample2\n",
      "\t\tLoading the gene features to make the var object: sample2\n",
      "\t\tLoading spliced, unspliced and ambigous matrix to compose the X object: sample2\n"
     ]
    },
    {
     "name": "stderr",
     "output_type": "stream",
     "text": [
      "Variable names are not unique. To make them unique, call `.var_names_make_unique`.\n"
     ]
    },
    {
     "name": "stdout",
     "output_type": "stream",
     "text": [
      "\t\tCreating partial anndata object: sample2\n",
      "Runing sample number 3 out of 4 samples.\n",
      "\t\tLoading matrix to compose the X object: sample3\n",
      "\t\tLoading genes and cells identifiers to make the obs object: sample3\n",
      "\t\tLoading the gene features to make the var object: sample3\n",
      "\t\tLoading spliced, unspliced and ambigous matrix to compose the X object: sample3\n"
     ]
    },
    {
     "name": "stderr",
     "output_type": "stream",
     "text": [
      "Variable names are not unique. To make them unique, call `.var_names_make_unique`.\n"
     ]
    },
    {
     "name": "stdout",
     "output_type": "stream",
     "text": [
      "\t\tCreating partial anndata object: sample3\n",
      "Runing sample number 4 out of 4 samples.\n",
      "\t\tLoading matrix to compose the X object: sample4\n",
      "\t\tLoading genes and cells identifiers to make the obs object: sample4\n",
      "\t\tLoading the gene features to make the var object: sample4\n",
      "\t\tLoading spliced, unspliced and ambigous matrix to compose the X object: sample4\n"
     ]
    },
    {
     "name": "stderr",
     "output_type": "stream",
     "text": [
      "Variable names are not unique. To make them unique, call `.var_names_make_unique`.\n"
     ]
    },
    {
     "name": "stdout",
     "output_type": "stream",
     "text": [
      "\t\tCreating partial anndata object: sample4\n",
      "Creating the final anndata object.\n",
      "\t\tConcatenating objects.\n"
     ]
    },
    {
     "name": "stderr",
     "output_type": "stream",
     "text": [
      "... storing 'condition' as categorical\n",
      "... storing 'feature_types' as categorical\n"
     ]
    },
    {
     "name": "stdout",
     "output_type": "stream",
     "text": [
      "\t\tRenaming batches.\n",
      "\t\tSaving and loading.\n",
      "Loading the anndata for velocity and storing as an adata variable.\n"
     ]
    },
    {
     "data": {
      "text/plain": [
       "AnnData object with n_obs × n_vars = 40377 × 55359\n",
       "    obs: 'condition'\n",
       "    var: 'gene_ids', 'feature_types'\n",
       "    layers: 'ambiguous', 'spliced', 'unspliced'"
      ]
     },
     "metadata": {},
     "output_type": "display_data"
    }
   ],
   "source": [
    "import assemblers\n",
    "import checker\n",
    "from imp import reload\n",
    "reload(assemblers)\n",
    "reload(checker)\n",
    "\n",
    "adata=assemblers.velocity(the_10X_yml, test, data_type) #This module will assembling the 10X anndata object able to run velocity analysis.\n",
    "display(adata)"
   ]
  }
 ],
 "metadata": {
  "kernelspec": {
   "display_name": "scRNAseq",
   "language": "python",
   "name": "scrnaseq"
  },
  "language_info": {
   "codemirror_mode": {
    "name": "ipython",
    "version": 3
   },
   "file_extension": ".py",
   "mimetype": "text/x-python",
   "name": "python",
   "nbconvert_exporter": "python",
   "pygments_lexer": "ipython3",
   "version": "3.8.10"
  }
 },
 "nbformat": 4,
 "nbformat_minor": 5
}
