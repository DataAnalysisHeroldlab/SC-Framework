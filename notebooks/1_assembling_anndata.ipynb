{
 "cells": [
  {
   "cell_type": "markdown",
   "id": "2cf01f69",
   "metadata": {},
   "source": [
    "# Assembling or loading anndata object\n",
    "**In case assemble new object, it will be used in the velocity analysis**"
   ]
  },
  {
   "cell_type": "markdown",
   "id": "6cdd6b4e",
   "metadata": {},
   "source": [
    "# A: set up"
   ]
  },
  {
   "cell_type": "code",
   "execution_count": 1,
   "id": "013266fd",
   "metadata": {
    "ExecuteTime": {
     "end_time": "2022-04-04T08:40:32.485979Z",
     "start_time": "2022-04-04T08:40:32.478453Z"
    }
   },
   "outputs": [],
   "source": [
    "#####################DEFINING TEST NUMBER##############################\n",
    "test=\"Test1\"\n",
    "\n",
    "##########################DEFINING IMPUTS##############################\n",
    "path_solo_quant=\"/mnt/workspace/gvalent/5_SC_automatation/data1/raw_data\" #This is the directory where the quant folder from snakemake preprocessing is located\n",
    "path_outout=\"/mnt/workspace/gvalent/5_SC_automatation/data1/raw_data\" #The path were the folders results/Test* will be created to export your results\n"
   ]
  },
  {
   "cell_type": "markdown",
   "id": "88e80c98",
   "metadata": {},
   "source": [
    "# B: checking and creating output directory"
   ]
  },
  {
   "cell_type": "code",
   "execution_count": 2,
   "id": "affae1df",
   "metadata": {
    "ExecuteTime": {
     "end_time": "2022-04-04T08:40:32.523044Z",
     "start_time": "2022-04-04T08:40:32.487943Z"
    }
   },
   "outputs": [
    {
     "name": "stdout",
     "output_type": "stream",
     "text": [
      "Creating the /mnt/workspace/gvalent/5_SC_automatation/data1/raw_data/results directory.\n",
      "The /mnt/workspace/gvalent/5_SC_automatation/data1/raw_data/results directory is ready.\n",
      "Creating the /mnt/workspace/gvalent/5_SC_automatation/data1/raw_data/results/Test1 directory.\n",
      "The /mnt/workspace/gvalent/5_SC_automatation/data1/raw_data/results/Test1 directory is ready.\n"
     ]
    }
   ],
   "source": [
    "from imp import reload\n",
    "import sctoolbox\n",
    "import sctoolbox.checker as checker\n",
    "import sctoolbox.creators as creators\n",
    "reload(checker)\n",
    "reload(creators)\n",
    "\n",
    "checker.output_path(path_outout, test) #Check if the output path exist. Otherwise, it will create the directory"
   ]
  },
  {
   "cell_type": "markdown",
   "id": "b49d2063",
   "metadata": {},
   "source": [
    "# C: assembling 10X anndata for velocity"
   ]
  },
  {
   "cell_type": "code",
   "execution_count": 3,
   "id": "4fc89bbd",
   "metadata": {
    "ExecuteTime": {
     "end_time": "2022-04-04T08:50:21.444464Z",
     "start_time": "2022-04-04T08:40:32.524615Z"
    }
   },
   "outputs": [
    {
     "name": "stdout",
     "output_type": "stream",
     "text": [
      "Sample sample1 have the proper data for assembling an anndata for velocity analysis.\n",
      "Sample sample2 have the proper data for assembling an anndata for velocity analysis.\n",
      "Sample sample3 have the proper data for assembling an anndata for velocity analysis.\n",
      "Sample sample4 have the proper data for assembling an anndata for velocity analysis.\n",
      "Runing sample number 1 out of 4 samples.\n",
      "\t\tLoading matrix to compose the X object: sample1\n",
      "\t\tLoading genes and cells identifiers to make the obs object: sample1\n",
      "\t\tLoading the gene features to make the var object: sample1\n",
      "\t\tLoading spliced, unspliced and ambigous matrix to compose the X object: sample1\n"
     ]
    },
    {
     "name": "stderr",
     "output_type": "stream",
     "text": [
      "Variable names are not unique. To make them unique, call `.var_names_make_unique`.\n"
     ]
    },
    {
     "name": "stdout",
     "output_type": "stream",
     "text": [
      "\t\tCreating partial anndata object: sample1\n",
      "Runing sample number 2 out of 4 samples.\n",
      "\t\tLoading matrix to compose the X object: sample2\n",
      "\t\tLoading genes and cells identifiers to make the obs object: sample2\n",
      "\t\tLoading the gene features to make the var object: sample2\n",
      "\t\tLoading spliced, unspliced and ambigous matrix to compose the X object: sample2\n"
     ]
    },
    {
     "name": "stderr",
     "output_type": "stream",
     "text": [
      "Variable names are not unique. To make them unique, call `.var_names_make_unique`.\n"
     ]
    },
    {
     "name": "stdout",
     "output_type": "stream",
     "text": [
      "\t\tCreating partial anndata object: sample2\n",
      "Runing sample number 3 out of 4 samples.\n",
      "\t\tLoading matrix to compose the X object: sample3\n",
      "\t\tLoading genes and cells identifiers to make the obs object: sample3\n",
      "\t\tLoading the gene features to make the var object: sample3\n",
      "\t\tLoading spliced, unspliced and ambigous matrix to compose the X object: sample3\n"
     ]
    },
    {
     "name": "stderr",
     "output_type": "stream",
     "text": [
      "Variable names are not unique. To make them unique, call `.var_names_make_unique`.\n"
     ]
    },
    {
     "name": "stdout",
     "output_type": "stream",
     "text": [
      "\t\tCreating partial anndata object: sample3\n",
      "Runing sample number 4 out of 4 samples.\n",
      "\t\tLoading matrix to compose the X object: sample4\n",
      "\t\tLoading genes and cells identifiers to make the obs object: sample4\n",
      "\t\tLoading the gene features to make the var object: sample4\n",
      "\t\tLoading spliced, unspliced and ambigous matrix to compose the X object: sample4\n"
     ]
    },
    {
     "name": "stderr",
     "output_type": "stream",
     "text": [
      "Variable names are not unique. To make them unique, call `.var_names_make_unique`.\n"
     ]
    },
    {
     "name": "stdout",
     "output_type": "stream",
     "text": [
      "\t\tCreating partial anndata object: sample4\n",
      "Creating the final anndata object.\n",
      "\t\tConcatenating objects.\n",
      "\t\tRenaming batches.\n",
      "\t\tInserting informations\n"
     ]
    },
    {
     "name": "stderr",
     "output_type": "stream",
     "text": [
      "... storing 'condition' as categorical\n",
      "... storing 'feature_types' as categorical\n"
     ]
    },
    {
     "name": "stdout",
     "output_type": "stream",
     "text": [
      "\t\tSaving and loading.\n",
      "Loading the anndata for velocity and storing as an adata variable.\n"
     ]
    },
    {
     "data": {
      "text/plain": [
       "AnnData object with n_obs × n_vars = 40377 × 55359\n",
       "    obs: 'condition'\n",
       "    var: 'gene_ids', 'feature_types'\n",
       "    uns: 'infoprocess'\n",
       "    layers: 'ambiguous', 'spliced', 'unspliced'"
      ]
     },
     "metadata": {},
     "output_type": "display_data"
    }
   ],
   "source": [
    "#Assembling an anndata object for velocity analysis\n",
    "#Set up the information bellow\n",
    "the_10X_yml=[    \n",
    "\"sample1:condition:room_air\",\n",
    "\"sample2:condition:room_air\",\n",
    "\"sample3:condition:smooke_exposure\",\n",
    "\"sample4:condition:smooke_exposure\",\n",
    "]\n",
    "#Which Solo dataset do you wanna use?\n",
    "data_type='filtered' #set 'raw' or 'filtered'\n",
    "\n",
    "##########################################################################\n",
    "from imp import reload\n",
    "import sctoolbox\n",
    "import sctoolbox.checker as checker\n",
    "import sctoolbox.creators as creators\n",
    "import sctoolbox.assemblers as assemblers\n",
    "reload(checker)\n",
    "reload(creators)\n",
    "reload(assemblers)\n",
    "\n",
    "##########################################################################\n",
    "checker.input_path_velocity(path_solo_quant, the_10X_yml, data_type) #Check if the input path exist and also if the necessary data to assembling the anndata for velocity is there\n",
    "adata=assemblers.velocity(the_10X_yml, test, data_type) #Assembling the 10X anndata object\n",
    "display(adata)"
   ]
  },
  {
   "cell_type": "markdown",
   "id": "5e4b5821",
   "metadata": {},
   "source": [
    "# D: converting from Seurat to anndata object"
   ]
  },
  {
   "cell_type": "code",
   "execution_count": 5,
   "id": "e9453b2a",
   "metadata": {
    "ExecuteTime": {
     "end_time": "2022-04-04T08:50:21.468757Z",
     "start_time": "2022-04-04T08:50:21.453985Z"
    }
   },
   "outputs": [
    {
     "data": {
      "text/plain": [
       "<module 'sctoolbox.assemblers' from '/home/gvalent/.conda/envs/scRNAseq/lib/python3.8/site-packages/sctoolbox/assemblers.py'>"
      ]
     },
     "execution_count": 5,
     "metadata": {},
     "output_type": "execute_result"
    }
   ],
   "source": [
    "#Converting from Seurat to anndata object\n",
    "from imp import reload\n",
    "import sctoolbox\n",
    "import sctoolbox.checker as checker\n",
    "import sctoolbox.creators as creators\n",
    "import sctoolbox.assemblers as assemblers\n",
    "reload(checker)\n",
    "reload(creators)\n",
    "reload(assemblers)\n",
    "##########################################################################\n",
    "\n",
    "#adata=assemblers.seuratconv()\n",
    "#display(adata)"
   ]
  },
  {
   "cell_type": "markdown",
   "id": "be9a9510",
   "metadata": {},
   "source": [
    "# E: assembling an anndata object from 10X public data"
   ]
  },
  {
   "cell_type": "code",
   "execution_count": 6,
   "id": "f4042d32",
   "metadata": {
    "ExecuteTime": {
     "end_time": "2022-04-04T08:50:21.491911Z",
     "start_time": "2022-04-04T08:50:21.470091Z"
    }
   },
   "outputs": [
    {
     "data": {
      "text/plain": [
       "<module 'sctoolbox.assemblers' from '/home/gvalent/.conda/envs/scRNAseq/lib/python3.8/site-packages/sctoolbox/assemblers.py'>"
      ]
     },
     "execution_count": 6,
     "metadata": {},
     "output_type": "execute_result"
    }
   ],
   "source": [
    "#Assembling an anndata object from 10X public data\n",
    "from imp import reload\n",
    "import sctoolbox\n",
    "import sctoolbox.checker as checker\n",
    "import sctoolbox.creators as creators\n",
    "import sctoolbox.assemblers as assemblers\n",
    "reload(checker)\n",
    "reload(creators)\n",
    "reload(assemblers)\n",
    "##########################################################################\n",
    "\n",
    "#adata=assemblers.tenxpublic()\n",
    "#display(adata)"
   ]
  }
 ],
 "metadata": {
  "kernelspec": {
   "display_name": "scRNAseq",
   "language": "python",
   "name": "scrnaseq"
  },
  "language_info": {
   "codemirror_mode": {
    "name": "ipython",
    "version": 3
   },
   "file_extension": ".py",
   "mimetype": "text/x-python",
   "name": "python",
   "nbconvert_exporter": "python",
   "pygments_lexer": "ipython3",
   "version": "3.8.10"
  }
 },
 "nbformat": 4,
 "nbformat_minor": 5
}
