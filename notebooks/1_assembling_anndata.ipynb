{
 "cells": [
  {
   "cell_type": "markdown",
   "id": "2cf01f69",
   "metadata": {},
   "source": [
    "<h1 align=\"center\">Assembling or loading anndata object</h1> \n",
    "<hr style=\"border:2px solid black\"> </hr>"
   ]
  },
  {
   "cell_type": "markdown",
   "id": "6cdd6b4e",
   "metadata": {},
   "source": [
    "# A: set up"
   ]
  },
  {
   "cell_type": "code",
   "execution_count": 1,
   "id": "013266fd",
   "metadata": {
    "ExecuteTime": {
     "end_time": "2022-07-14T14:06:09.887781Z",
     "start_time": "2022-07-14T14:06:08.083000Z"
    }
   },
   "outputs": [],
   "source": [
    "#####################IMPORTING PACKAGES################################\n",
    "import sctoolbox\n",
    "from sctoolbox.utilities import *\n",
    "from sctoolbox.checker import *\n",
    "from sctoolbox.creators import *\n",
    "from sctoolbox.file_converter import *\n",
    "from sctoolbox.assemblers import *\n",
    "\n",
    "#####################DEFINING TEST NUMBER##############################\n",
    "test=\"Test1\"\n",
    "\n",
    "#####################DEFINING STRATEGY#################################\n",
    "assembling_10_velocity=True #cells C:\n",
    "assembling_10_public=False #cells D:\n",
    "convert_seurat=False #cells E:\n",
    "\n",
    "######################OUTPUT PATH######################################\n",
    "path_out=\"pipeline_output/\" #The path where the folders results/Test* will be created to export your results\n",
    "#NOTE: Remember the leading \"/\"\n",
    "\n",
    "##########################DEFINING IMPUTS##############################\n",
    "#####10X assembling for velocity (cell C:)\n",
    "path_solo_quant=\"/mnt/agnerds/loosolab_SC_RNA_framework/examples/assembling_10_velocity/quant/\" #This is the directory where the quant folder from snakemake preprocessing is located\n",
    "                #NOTE: insert the pathway including the /quant folder\n",
    "                #e.g., /path/quant \n",
    "\n",
    "#####10X assembling from public data (cell D:)\n",
    "path_public_10X=\"/mnt/agnerds/loosolab_SC_RNA_framework/examples/assembling_10_public/\"\n",
    "\n",
    "#####Converting from seurat to anndata (cell E:)\n",
    "path_rds=\"/mnt/agnerds/loosolab_SC_RNA_framework/examples/convert_seurat/GSE135893_ILD_annotated_fullsize.rds\" #This is the directory with the Seurat (.rds) file"
   ]
  },
  {
   "cell_type": "markdown",
   "id": "88e80c98",
   "metadata": {},
   "source": [
    "# B: checking and creating the output directory"
   ]
  },
  {
   "cell_type": "code",
   "execution_count": 2,
   "id": "192cdd9c",
   "metadata": {
    "ExecuteTime": {
     "end_time": "2022-07-14T14:06:12.206292Z",
     "start_time": "2022-07-14T14:06:12.201171Z"
    }
   },
   "outputs": [
    {
     "name": "stdout",
     "output_type": "stream",
     "text": [
      "Output directory is ready: pipeline_output/results/Test1\n"
     ]
    }
   ],
   "source": [
    "#Creating directories to store the outputs and storing this information\n",
    "create_dir(path_out, test)\n",
    "result_path=fetch_info_txt() #Loading the output path"
   ]
  },
  {
   "cell_type": "markdown",
   "id": "b49d2063",
   "metadata": {},
   "source": [
    "# C: assembling 10X anndata for velocity"
   ]
  },
  {
   "cell_type": "code",
   "execution_count": 5,
   "id": "4fc89bbd",
   "metadata": {
    "ExecuteTime": {
     "end_time": "2022-07-14T14:24:00.956338Z",
     "start_time": "2022-07-14T14:18:09.294649Z"
    }
   },
   "outputs": [
    {
     "name": "stdout",
     "output_type": "stream",
     "text": [
      "Found samples: ['sample1', 'sample2']\n",
      "Assembling sample 'sample1'\n",
      "Setting up adata from solo files\n",
      "Adding velocity information from spliced/unspliced/ambiguous\n",
      "Assembling sample 'sample2'\n",
      "Setting up adata from solo files\n",
      "Adding velocity information from spliced/unspliced/ambiguous\n",
      "Concatenating anndata objects\n"
     ]
    },
    {
     "data": {
      "text/plain": [
       "AnnData object with n_obs × n_vars = 20192 × 55359\n",
       "    obs: 'sample', 'condition', 'batch'\n",
       "    var: 'gene', 'type'\n",
       "    layers: 'spliced', 'unspliced', 'ambiguous'"
      ]
     },
     "metadata": {},
     "output_type": "display_data"
    }
   ],
   "source": [
    "#Assembling an anndata object for velocity analysis\n",
    "if assembling_10_velocity == True:\n",
    "    #Set up the information below\n",
    "    the_10X_yml=[    \n",
    "        \"sample1:condition:room_air\",\n",
    "        \"sample2:condition:smooke_exposure\",\n",
    "    ]\n",
    "\n",
    "    adata = sctoolbox.assemblers.from_quant(path_solo_quant, the_10X_yml)\n",
    "    display(adata)\n",
    "\n",
    "    #Add information to the infoprocess\n",
    "    build_infor(adata, \"Input_for_assembling\", path_solo_quant)\n",
    "    build_infor(adata, \"Strategy\", \"Assembling for velocity\")"
   ]
  },
  {
   "cell_type": "markdown",
   "id": "5e4b5821",
   "metadata": {},
   "source": [
    "# D: assembling an anndata object from 10X public data"
   ]
  },
  {
   "cell_type": "code",
   "execution_count": 6,
   "id": "e9453b2a",
   "metadata": {
    "ExecuteTime": {
     "end_time": "2022-07-14T14:24:00.973573Z",
     "start_time": "2022-07-14T14:24:00.961556Z"
    },
    "scrolled": true
   },
   "outputs": [],
   "source": [
    "#Assembling an anndata object from 10X public data\n",
    "#Set up the information bellow\n",
    "mtx = [\"path_mtx_file\"] #Path to matrix file(s)\n",
    "barcodes = [\"path_barcode_file\"] #Path to barcode file(s)\n",
    "genes = [\"path_genes_file\"] #Path to genes file(s)\n",
    "\n",
    "if assembling_10_public == True:\n",
    "    adata=from_mtx(mtx, barcodes, genes, **kwargs)\n",
    "    display(adata)\n",
    "\n",
    "    #Add information to the infoprocess\n",
    "    build_infor(adata, \"Input_for_assembling\", path_public_10X)\n",
    "    build_infor(adata, \"Strategy\", \"Assembling from public 10X data\")"
   ]
  },
  {
   "cell_type": "markdown",
   "id": "be9a9510",
   "metadata": {},
   "source": [
    "# E: converting from Seurat to anndata object"
   ]
  },
  {
   "cell_type": "code",
   "execution_count": 7,
   "id": "f4042d32",
   "metadata": {
    "ExecuteTime": {
     "end_time": "2022-07-14T14:24:01.012555Z",
     "start_time": "2022-07-14T14:24:00.975093Z"
    }
   },
   "outputs": [],
   "source": [
    "# Converting from Seurat to anndata object\n",
    "if convert_seurat == True:\n",
    "    adata = converter.convertToAdata(file=path_rds)\n",
    "    display(adata)\n",
    "\n",
    "    #Add information to the infoprocess\n",
    "    #Anndata, key and value for anndata.uns[\"infoprocess\"]\n",
    "    build_infor(adata, \"Input_for_assembling\", path_rds)\n",
    "    build_infor(adata, \"Strategy\", \"Assembling from RDS data\")"
   ]
  },
  {
   "cell_type": "markdown",
   "id": "db1d2497",
   "metadata": {},
   "source": [
    "# F: saving anndata object"
   ]
  },
  {
   "cell_type": "code",
   "execution_count": 8,
   "id": "5d79b618",
   "metadata": {
    "ExecuteTime": {
     "end_time": "2022-07-14T14:24:04.399052Z",
     "start_time": "2022-07-14T14:24:01.014829Z"
    }
   },
   "outputs": [
    {
     "name": "stderr",
     "output_type": "stream",
     "text": [
      "... storing 'sample' as categorical\n",
      "... storing 'condition' as categorical\n",
      "... storing 'gene' as categorical\n",
      "... storing 'type' as categorical\n"
     ]
    }
   ],
   "source": [
    "#Saving the data\n",
    "build_infor(adata, \"Test_number\", test)\n",
    "build_infor(adata, \"Anndata_path\", result_path)\n",
    "adata_output = result_path + \"/anndata_1_\" + test +\".h5ad\"\n",
    "adata.write(filename=adata_output)"
   ]
  }
 ],
 "metadata": {
  "kernelspec": {
   "display_name": "scRNAseq",
   "language": "python",
   "name": "scrnaseq"
  },
  "language_info": {
   "codemirror_mode": {
    "name": "ipython",
    "version": 3
   },
   "file_extension": ".py",
   "mimetype": "text/x-python",
   "name": "python",
   "nbconvert_exporter": "python",
   "pygments_lexer": "ipython3",
   "version": "3.8.10"
  }
 },
 "nbformat": 4,
 "nbformat_minor": 5
}
