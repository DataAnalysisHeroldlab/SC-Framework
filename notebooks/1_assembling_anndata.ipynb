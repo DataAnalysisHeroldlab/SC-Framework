{
 "cells": [
  {
   "cell_type": "markdown",
   "id": "2cf01f69",
   "metadata": {},
   "source": [
    "<h1 align=\"center\">Assembling or loading anndata object</h1> \n",
    "<hr style=\"border:2px solid black\"> </hr>"
   ]
  },
  {
   "cell_type": "markdown",
   "id": "6cdd6b4e",
   "metadata": {},
   "source": [
    "# A: set up"
   ]
  },
  {
   "cell_type": "code",
   "execution_count": 1,
   "id": "013266fd",
   "metadata": {
    "ExecuteTime": {
     "end_time": "2022-06-17T10:59:46.320585Z",
     "start_time": "2022-06-17T10:59:44.502099Z"
    }
   },
   "outputs": [],
   "source": [
    "#####################IMPORTING PACKAGES################################\n",
    "import sctoolbox\n",
    "import sctoolbox.utilities\n",
    "import sctoolbox.checker as ch\n",
    "from sctoolbox.checker import *\n",
    "from sctoolbox.creators import *\n",
    "from sctoolbox.file_converter import *\n",
    "from sctoolbox.assemblers import *\n",
    "\n",
    "#####################DEFINING TEST NUMBER##############################\n",
    "test=\"Test1\"\n",
    "\n",
    "#####################DEFINING STRATEGY#################################\n",
    "assembling_10_velocity=True #cells C:\n",
    "assembling_10_public=False #cells D:\n",
    "convert_seurat=False #cells E:\n",
    "\n",
    "######################OUTPUT PATH######################################\n",
    "path_out=\"pipeline_output/\" #The path where the folders results/Test* will be created to export your results\n",
    "#NOTE: Remember the leading \"/\"\n",
    "\n",
    "##########################DEFINING IMPUTS##############################\n",
    "#####10X assembling for velocity (cell C:)\n",
    "path_solo_quant=\"/mnt/agnerds/loosolab_SC_RNA_framework/examples/assembling_10_velocity/quant/\" #This is the directory where the quant folder from snakemake preprocessing is located\n",
    "                #NOTE: insert the pathway including the /quant folder\n",
    "                #e.g., /path/quant \n",
    "\n",
    "#####Converting from seurat to anndata (cell E:)\n",
    "path_rds=\"/mnt/agnerds/loosolab_SC_RNA_framework/examples/convert_seurat/GSE135893_ILD_annotated_fullsize.rds\" #This is the directory with the Seurat (.rds) file\n",
    "\n",
    "#####10X assembling from public data (cell D:)\n",
    "#See set up in cell D"
   ]
  },
  {
   "cell_type": "markdown",
   "id": "88e80c98",
   "metadata": {},
   "source": [
    "# B: checking and creating the output directory"
   ]
  },
  {
   "cell_type": "code",
   "execution_count": 2,
   "id": "192cdd9c",
   "metadata": {},
   "outputs": [],
   "source": [
    "sctoolbox.utilities.create_dir(path_out)"
   ]
  },
  {
   "cell_type": "code",
   "execution_count": 3,
   "id": "affae1df",
   "metadata": {
    "ExecuteTime": {
     "end_time": "2022-06-17T10:59:50.398476Z",
     "start_time": "2022-06-17T10:59:50.393409Z"
    }
   },
   "outputs": [
    {
     "ename": "SystemExit",
     "evalue": "Define an appropriate path_out to stablish a place to save your results, e.g., /mnt/workspace/YOUR_NAME",
     "output_type": "error",
     "traceback": [
      "An exception has occurred, use %tb to see the full traceback.\n",
      "\u001b[0;31mSystemExit\u001b[0m\u001b[0;31m:\u001b[0m Define an appropriate path_out to stablish a place to save your results, e.g., /mnt/workspace/YOUR_NAME\n"
     ]
    },
    {
     "name": "stderr",
     "output_type": "stream",
     "text": [
      "/home/mbentse/.conda/envs/py3/lib/python3.7/site-packages/IPython/core/interactiveshell.py:3452: UserWarning: To exit: use 'exit', 'quit', or Ctrl-D.\n",
      "  warn(\"To exit: use 'exit', 'quit', or Ctrl-D.\", stacklevel=1)\n"
     ]
    }
   ],
   "source": [
    "#Creating directories to store the outputs and storing this information\n",
    "sctoolbox.creators.output_path(path_out, test)"
   ]
  },
  {
   "cell_type": "code",
   "execution_count": null,
   "id": "207a509b",
   "metadata": {},
   "outputs": [],
   "source": [
    "result_path = ch.check_infoyml(TASK=\"give_path\") #Loading the output path"
   ]
  },
  {
   "cell_type": "code",
   "execution_count": null,
   "id": "28ee3d5b",
   "metadata": {},
   "outputs": [],
   "source": [
    "sctoolbox.utilities.create_dir(result_path)"
   ]
  },
  {
   "cell_type": "markdown",
   "id": "b49d2063",
   "metadata": {},
   "source": [
    "# C: assembling 10X anndata for velocity"
   ]
  },
  {
   "cell_type": "code",
   "execution_count": null,
   "id": "4fc89bbd",
   "metadata": {
    "ExecuteTime": {
     "end_time": "2022-06-17T11:06:09.785392Z",
     "start_time": "2022-06-17T10:59:52.206603Z"
    }
   },
   "outputs": [],
   "source": [
    "if assembling_10_velocity == True:\n",
    "    \n",
    "    #Assembling an anndata object for velocity analysis\n",
    "    #Set up the information below\n",
    "    the_10X_yml=[    \n",
    "        \"sample1:condition:room_air\",\n",
    "        \"sample2:condition:smooke_exposure\",\n",
    "    ]\n",
    "\n",
    "    ##########################################################################\n",
    "    #adata = sctoolbox.assemblers.from_quant(path_solo_quant, the_10X_yml)\n",
    "\n",
    "    #Add information to the infoprocess\n",
    "    cr.build_infor(adata, \"Test_number\", test) #Anndata, key and value for anndata.uns[\"infoprocess\"]\n",
    "    cr.build_infor(adata, \"Input_for_assembling\", path_solo_quant)\n",
    "    cr.build_infor(adata, \"Strategy\", \"Assembling for velocity\")\n",
    "    cr.build_infor(adata, \"Anndata_path\", result_path)\n",
    "    \n",
    "    #Saving the data\n",
    "    print(\"Saving and returning adata\")\n",
    "    adata_output = result_path + \"/anndata_1_\" + test +\".h5ad\"\n",
    "    adata.write(filename=adata_output)\n",
    "\n",
    "    display(adata)"
   ]
  },
  {
   "cell_type": "markdown",
   "id": "5e4b5821",
   "metadata": {},
   "source": [
    "# D: assembling an anndata object from 10X public data"
   ]
  },
  {
   "cell_type": "code",
   "execution_count": null,
   "id": "e9453b2a",
   "metadata": {
    "ExecuteTime": {
     "end_time": "2022-06-17T11:07:02.016121Z",
     "start_time": "2022-06-17T11:07:02.012056Z"
    },
    "scrolled": true
   },
   "outputs": [],
   "source": [
    "#Assembling an anndata object from 10X public data\n",
    "#Set up the information bellow\n",
    "mtx = [\"path_mtx_file\"] #Path to matrix file(s)\n",
    "barcodes = [\"path_barcode_file\"] #Path to barcode file(s)\n",
    "genes = [\"path_genes_file\"] #Path to genes file(s)\n",
    "\n",
    "if assembling_10_public == True:\n",
    "    adata=assemblers.from_mtx(mtx, barcodes, genes, **kwargs)\n",
    "    display(adata)"
   ]
  },
  {
   "cell_type": "markdown",
   "id": "be9a9510",
   "metadata": {},
   "source": [
    "# E: converting from Seurat to anndata object"
   ]
  },
  {
   "cell_type": "code",
   "execution_count": null,
   "id": "f4042d32",
   "metadata": {
    "ExecuteTime": {
     "end_time": "2022-06-17T11:07:03.529298Z",
     "start_time": "2022-06-17T11:07:03.526272Z"
    }
   },
   "outputs": [],
   "source": [
    "# Converting from Seurat to anndata object\n",
    "if convert_seurat == True:\n",
    "    adata = converter.convertToAdata(file=path_rds)\n",
    "    display(adata)"
   ]
  }
 ],
 "metadata": {
  "kernelspec": {
   "display_name": "py3",
   "language": "python",
   "name": "py3"
  },
  "language_info": {
   "codemirror_mode": {
    "name": "ipython",
    "version": 3
   },
   "file_extension": ".py",
   "mimetype": "text/x-python",
   "name": "python",
   "nbconvert_exporter": "python",
   "pygments_lexer": "ipython3",
   "version": "3.7.8"
  }
 },
 "nbformat": 4,
 "nbformat_minor": 5
}
