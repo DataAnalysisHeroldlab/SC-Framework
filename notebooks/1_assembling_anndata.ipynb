{
 "cells": [
  {
   "cell_type": "markdown",
   "id": "2cf01f69",
   "metadata": {},
   "source": [
    "# Assembling or loading anndata object\n",
    "<hr style=\"border:2px solid black\"> </hr>"
   ]
  },
  {
   "cell_type": "markdown",
   "id": "4d4d124c",
   "metadata": {},
   "source": [
    "<h1><center>⬐ Fill in input data here ⬎</center></h1>"
   ]
  },
  {
   "cell_type": "code",
   "execution_count": 1,
   "id": "6fd2a83b",
   "metadata": {},
   "outputs": [],
   "source": [
    "#####################DEFINING TEST NUMBER##############################\n",
    "test = \"Test1\"\n",
    "\n",
    "#####################DEFINING STRATEGY#################################\n",
    "from_h5ad = True #option 1\n",
    "assembling_10_velocity = False #option 2\n",
    "assembling_10_public = False #option 3\n",
    "convert_seurat = False #option 4\n",
    "\n",
    "###################### INPUT DATA ##############################\n",
    "\n",
    "#For option 1: The path to an existing .h5ad file\n",
    "h5ad_path = \"test_data/adata_rna.h5ad\"\n",
    "\n",
    "#For option 2: This is the directory where the quant folder from snakemake preprocessing is located\n",
    "path_solo_quant = \"/mnt/agnerds/loosolab_SC_RNA_framework/examples/assembling_10_velocity/quant/\"\n",
    "\n",
    "#For option 3: 10X assembling from public data\n",
    "path_public_10X = \"/mnt/agnerds/loosolab_SC_RNA_framework/examples/assembling_10_public/\"\n",
    "\n",
    "#For option 4: This is the path to the Seurat (.rds) file\n",
    "path_rds = \"/mnt/agnerds/loosolab_SC_RNA_framework/examples/convert_seurat/GSE135893_ILD_annotated_fullsize.rds\"\n",
    "\n",
    "######################OUTPUT PATH######################################\n",
    "path_out = \"pipeline_output/\" #The path where the folders results/Test* will be created to export your results\n",
    "#NOTE: Remember the leading \"/\""
   ]
  },
  {
   "cell_type": "markdown",
   "id": "c5bb0896",
   "metadata": {},
   "source": [
    "<hr style=\"border:2px solid black\"> </hr>"
   ]
  },
  {
   "cell_type": "markdown",
   "id": "3918c093",
   "metadata": {},
   "source": [
    "## Setup"
   ]
  },
  {
   "cell_type": "code",
   "execution_count": 2,
   "id": "70496f93",
   "metadata": {},
   "outputs": [],
   "source": [
    "#####################IMPORTING PACKAGES################################\n",
    "import os\n",
    "import scanpy as sc\n",
    "import sctoolbox\n",
    "import sctoolbox.utilities as utils\n",
    "import sctoolbox.checker as ch\n",
    "import sctoolbox.creators as cr\n",
    "import sctoolbox.assemblers as assembler\n",
    "import sctoolbox.file_converter as converter"
   ]
  },
  {
   "cell_type": "code",
   "execution_count": 3,
   "id": "77a34205",
   "metadata": {},
   "outputs": [],
   "source": [
    "#Creating directories to store the outputs and storing this information\n",
    "output_dir = os.path.join(path_out, \"results\", test)\n",
    "utils.create_dir(output_dir)\n",
    "\n",
    "ch.write_info_txt(path_value=output_dir)  # Printing the output dir detailed in the info.txt\n",
    "result_path = ch.fetch_info_txt()         # Loading the output path"
   ]
  },
  {
   "cell_type": "markdown",
   "id": "7ef8776e",
   "metadata": {},
   "source": [
    "---------"
   ]
  },
  {
   "cell_type": "markdown",
   "id": "f3a2d6fe",
   "metadata": {},
   "source": [
    "## Read in data"
   ]
  },
  {
   "cell_type": "markdown",
   "id": "872a9852",
   "metadata": {},
   "source": [
    "### Option 1: Read from h5ad"
   ]
  },
  {
   "cell_type": "code",
   "execution_count": 4,
   "id": "93b46ab3",
   "metadata": {},
   "outputs": [],
   "source": [
    "if from_h5ad:\n",
    "    \n",
    "    adata = sc.read_h5ad(h5ad_path)\n",
    "    \n",
    "    #Add information to the infoprocess\n",
    "    cr.build_infor(adata, \"Input_for_assembling\", h5ad_path)\n",
    "    cr.build_infor(adata, \"Strategy\", \"Read from h5ad\")"
   ]
  },
  {
   "cell_type": "markdown",
   "id": "ba401229",
   "metadata": {},
   "source": [
    "### Option 2: Assemble from preprocessing pipeline 'quant' folder"
   ]
  },
  {
   "cell_type": "code",
   "execution_count": 5,
   "id": "4fc89bbd",
   "metadata": {
    "ExecuteTime": {
     "end_time": "2022-07-14T14:24:00.956338Z",
     "start_time": "2022-07-14T14:18:09.294649Z"
    }
   },
   "outputs": [],
   "source": [
    "#Assembling an anndata object for velocity analysis\n",
    "if assembling_10_velocity == True:\n",
    "    \n",
    "    #Set up the information below\n",
    "    the_10X_yml = [    \n",
    "        \"sample1:condition:room_air\",\n",
    "        \"sample2:condition:smooke_exposure\",\n",
    "    ]\n",
    "\n",
    "    adata = assembler.from_quant(path_solo_quant, the_10X_yml)\n",
    "    display(adata)\n",
    "\n",
    "    #Add information to the infoprocess\n",
    "    cr.build_infor(adata, \"Input_for_assembling\", path_solo_quant)\n",
    "    cr.build_infor(adata, \"Strategy\", \"Assembling for velocity\")"
   ]
  },
  {
   "cell_type": "markdown",
   "id": "81cf3738",
   "metadata": {},
   "source": [
    "### Option 3: Assembling an anndata object from 10X public data (mtx, barcodes, genes)"
   ]
  },
  {
   "cell_type": "code",
   "execution_count": 6,
   "id": "e9453b2a",
   "metadata": {
    "ExecuteTime": {
     "end_time": "2022-07-14T14:24:00.973573Z",
     "start_time": "2022-07-14T14:24:00.961556Z"
    },
    "scrolled": true
   },
   "outputs": [],
   "source": [
    "#Assembling an anndata object from 10X public data\n",
    "#Set up the information bellow\n",
    "mtx = [\"path_mtx_file\"] #Path to matrix file(s)\n",
    "barcodes = [\"path_barcode_file\"] #Path to barcode file(s)\n",
    "genes = [\"path_genes_file\"] #Path to genes file(s)\n",
    "\n",
    "if assembling_10_public == True:\n",
    "    adata = assembler.from_mtx(mtx, barcodes, genes, **kwargs)\n",
    "    display(adata)\n",
    "\n",
    "    #Add information to the infoprocess\n",
    "    cr.build_infor(adata, \"Input_for_assembling\", path_public_10X)\n",
    "    cr.build_infor(adata, \"Strategy\", \"Assembling from public 10X data\")"
   ]
  },
  {
   "cell_type": "markdown",
   "id": "ffc8ce99",
   "metadata": {},
   "source": [
    "### Option 4: Convert from Seurat to anndata object"
   ]
  },
  {
   "cell_type": "code",
   "execution_count": 7,
   "id": "f4042d32",
   "metadata": {
    "ExecuteTime": {
     "end_time": "2022-07-14T14:24:01.012555Z",
     "start_time": "2022-07-14T14:24:00.975093Z"
    }
   },
   "outputs": [],
   "source": [
    "# Converting from Seurat to anndata object\n",
    "if convert_seurat == True:\n",
    "    adata = converter.convertToAdata(file=path_rds)\n",
    "\n",
    "    #Add information to the infoprocess\n",
    "    #Anndata, key and value for anndata.uns[\"infoprocess\"]\n",
    "    cr.build_infor(adata, \"Input_for_assembling\", path_rds)\n",
    "    cr.build_infor(adata, \"Strategy\", \"Assembling from RDS data\")"
   ]
  },
  {
   "cell_type": "markdown",
   "id": "13db317e",
   "metadata": {},
   "source": [
    "------------"
   ]
  },
  {
   "cell_type": "markdown",
   "id": "db1d2497",
   "metadata": {},
   "source": [
    "## Saving the loaded anndata object"
   ]
  },
  {
   "cell_type": "code",
   "execution_count": 8,
   "id": "64aecc20",
   "metadata": {},
   "outputs": [
    {
     "data": {
      "text/plain": [
       "AnnData object with n_obs × n_vars = 5000 × 26128\n",
       "    obs: 'orig.ident', 'chamber', 'donor', 'batch', 'sample', 'celltype'\n",
       "    uns: 'infoprocess', 'color_set'"
      ]
     },
     "metadata": {},
     "output_type": "display_data"
    }
   ],
   "source": [
    "#Overview of loaded adata\n",
    "display(adata)"
   ]
  },
  {
   "cell_type": "code",
   "execution_count": 9,
   "id": "5d79b618",
   "metadata": {
    "ExecuteTime": {
     "end_time": "2022-07-14T14:24:04.399052Z",
     "start_time": "2022-07-14T14:24:01.014829Z"
    }
   },
   "outputs": [],
   "source": [
    "#Saving the data\n",
    "cr.build_infor(adata, \"Test_number\", test)\n",
    "cr.build_infor(adata, \"Anndata_path\", result_path)\n",
    "\n",
    "adata_output = result_path + \"/anndata_1_\" + test +\".h5ad\"\n",
    "adata.write(filename=adata_output)"
   ]
  }
 ],
 "metadata": {
  "kernelspec": {
   "display_name": "sctoolbox",
   "language": "python",
   "name": "sctoolbox"
  },
  "language_info": {
   "codemirror_mode": {
    "name": "ipython",
    "version": 3
   },
   "file_extension": ".py",
   "mimetype": "text/x-python",
   "name": "python",
   "nbconvert_exporter": "python",
   "pygments_lexer": "ipython3",
   "version": "3.10.6"
  }
 },
 "nbformat": 4,
 "nbformat_minor": 5
}
