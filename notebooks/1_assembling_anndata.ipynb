{
 "cells": [
  {
   "cell_type": "markdown",
   "id": "2cf01f69",
   "metadata": {},
   "source": [
    "# Assembling an anndata object\n",
    "**This new anndata object will be assembled to be used in the velocity analysis**"
   ]
  },
  {
   "cell_type": "markdown",
   "id": "9a910bcb",
   "metadata": {},
   "source": [
    "# A: loading packages"
   ]
  },
  {
   "cell_type": "code",
   "execution_count": 1,
   "id": "514360fe",
   "metadata": {
    "ExecuteTime": {
     "end_time": "2022-03-01T11:29:29.494367Z",
     "start_time": "2022-03-01T11:29:28.240817Z"
    }
   },
   "outputs": [],
   "source": [
    "import os\n",
    "from os import path\n",
    "import scanpy as sc\n",
    "import pandas as pd\n",
    "from scipy import sparse\n",
    "from scipy.io import mmread\n",
    "import anndata\n",
    "from anndata import AnnData"
   ]
  },
  {
   "cell_type": "markdown",
   "id": "6cdd6b4e",
   "metadata": {},
   "source": [
    "# B: set up"
   ]
  },
  {
   "cell_type": "code",
   "execution_count": 2,
   "id": "013266fd",
   "metadata": {
    "ExecuteTime": {
     "end_time": "2022-03-01T11:29:29.499744Z",
     "start_time": "2022-03-01T11:29:29.496433Z"
    }
   },
   "outputs": [],
   "source": [
    "#####################DEFINING TEST NUMBER##############################\n",
    "test=\"Test1\"\n",
    "\n",
    "##########################DEFINING IMPUTS##############################\n",
    "path_imput=\"/mnt/workspace/gvalent/5_SC_automatation/data1/raw_data\" #This is the directory where the preprocessed data is located\n",
    "\n",
    "#To create the anndata object for velocity analyis, paste bellow the sample descriptions of 10X.yml\n",
    "the_10X_yml=[    \n",
    "\"sample1:condition:room_air\",\n",
    "\"sample2:condition:room_air\",\n",
    "\"sample3:condition:smooke_exposure\",\n",
    "\"sample4:condition:smooke_exposure\"\n",
    "]\n",
    "\n",
    "#Which Solo dataset do you wanna use?\n",
    "data_type='filtered' #set 'raw' or 'filtered'"
   ]
  },
  {
   "cell_type": "markdown",
   "id": "88e80c98",
   "metadata": {},
   "source": [
    "# C: checking and creating output directory"
   ]
  },
  {
   "cell_type": "code",
   "execution_count": 3,
   "id": "affae1df",
   "metadata": {
    "ExecuteTime": {
     "end_time": "2022-03-01T11:29:29.530319Z",
     "start_time": "2022-03-01T11:29:29.500990Z"
    }
   },
   "outputs": [
    {
     "name": "stdout",
     "output_type": "stream",
     "text": [
      "Creating the /mnt/workspace/gvalent/5_SC_automatation/data1/raw_data/results directory.\n",
      "Creating the /mnt/workspace/gvalent/5_SC_automatation/data1/raw_data/results/Test1 directory.\n"
     ]
    }
   ],
   "source": [
    "def error_message(DIRE):\n",
    "    print(\"The \" + DIRE + \"\\nis wrong or not found.\\n\")\n",
    "\n",
    "def dir_creator(DIREC):\n",
    "    print(\"Creating the \" + DIREC + \" directory.\")\n",
    "    os.mkdir(DIREC)\n",
    "##################################\n",
    "\n",
    "#Checking the correct set of imput directory and if the files exist to assembly the anndata object for velocyt analysis\n",
    "def checker_path(SAMPLE, GENVELO):\n",
    "    global path_imput\n",
    "    global data_type\n",
    "    return path.exists(path_imput + \"/quant/\" + SAMPLE + \"/solo/\" + GENVELO + \"/\" + data_type)\n",
    "\n",
    "def listing(DIR):\n",
    "    global list_words\n",
    "    for b in os.listdir(DIR):\n",
    "        if b not in list_words:\n",
    "            list_words.append(b)\n",
    "\n",
    "list_data=[\"barcodes.tsv\", \"genes.tsv\", \"matrix.mtx\", \"spliced.mtx\", \"unspliced.mtx\", \"ambiguous.mtx\"]\n",
    "if path.exists(path_imput): #Check if the main directory exist\n",
    "        for a in the_10X_yml: #Checking the presence of all sample directories\n",
    "            list_words=[]\n",
    "            list_data_not_found=[]\n",
    "            sample=a.split(\":\")[0]\n",
    "            if checker_path(sample, \"Gene\") == True and checker_path(sample, \"Velocyto\") == True: #Checking the existence of quant/sampleX/solo/Gene/ or Velocyto\n",
    "                listing(path_imput + \"/quant/\" + sample + \"/solo/Gene/\" + data_type)\n",
    "                listing(path_imput + \"/quant/\" + sample + \"/solo/Velocyto/\" + data_type)\n",
    "                for c in list_data: #Checking if Gene and Velocyto data_type have the proper data (.tsv and .mtx)\n",
    "                    if c not in list_words:\n",
    "                        list_data_not_found.append(c)\n",
    "            else:\n",
    "                error_message(path_imput + \"/quant/\" + sample + \"/solo/Gene/\" + data_type)\n",
    "                print(\"OR\\n\")\n",
    "                error_message(path_imput + \"/quant/\" + sample + \"/solo/Velocyto/\" + data_type)\n",
    "            if len(list_data_not_found) == 0:\n",
    "                path_data_vel=path_imput + \"/quant\" #Seting final pathway where the sampleX/solo is located.\n",
    "            else:\n",
    "                print(\"These \" + str(list_data_not_found) + \" data is missing in Gene or Velocyto directories.\")\n",
    "else:\n",
    "    error_message(path_imput)\n",
    "\n",
    "#Checking whether the results dir exist\n",
    "path1=path_imput + \"/results\"\n",
    "path2=path_imput + \"/results/\" + test\n",
    "if path.exists(path1): #Check if result dir exist\n",
    "    if path.exists(path2):  #Check if result/Test* dir exist\n",
    "        print(\"The \" + path2 + \" directory is read.\")\n",
    "        path_results=path2\n",
    "    else:\n",
    "        dir_creator(path2)\n",
    "else:\n",
    "    dir_creator(path1)\n",
    "    if path.exists(path2):  #Check if result/Test* dir exist\n",
    "        print(\"The \" + path2 + \" directory is read.\")\n",
    "        path_results=path2\n",
    "    else:\n",
    "        dir_creator(path2)"
   ]
  },
  {
   "cell_type": "markdown",
   "id": "5ebb5a69",
   "metadata": {},
   "source": [
    "# D: assembling anndata"
   ]
  },
  {
   "cell_type": "code",
   "execution_count": 4,
   "id": "63430f38",
   "metadata": {
    "ExecuteTime": {
     "end_time": "2022-03-01T11:38:19.942177Z",
     "start_time": "2022-03-01T11:29:29.531917Z"
    },
    "scrolled": false
   },
   "outputs": [
    {
     "name": "stdout",
     "output_type": "stream",
     "text": [
      "Creating the anndata object for velocyte analysis.\n",
      "Runing sample number 1 out of 4 samples.\n",
      "\t\tLoading matrix to compose the X object: sample1\n",
      "\t\tLoading genes and cells identifiers to make the obs object: sample1\n",
      "\t\tLoading the gene features to make the var object: sample1\n",
      "\t\tLoading spliced, unspliced and ambigous matrix to compose the X object: sample1\n"
     ]
    },
    {
     "name": "stderr",
     "output_type": "stream",
     "text": [
      "Variable names are not unique. To make them unique, call `.var_names_make_unique`.\n"
     ]
    },
    {
     "name": "stdout",
     "output_type": "stream",
     "text": [
      "\t\tCreating partial anndata object: sample1\n",
      "Runing sample number 2 out of 4 samples.\n",
      "\t\tLoading matrix to compose the X object: sample2\n",
      "\t\tLoading genes and cells identifiers to make the obs object: sample2\n",
      "\t\tLoading the gene features to make the var object: sample2\n",
      "\t\tLoading spliced, unspliced and ambigous matrix to compose the X object: sample2\n"
     ]
    },
    {
     "name": "stderr",
     "output_type": "stream",
     "text": [
      "Variable names are not unique. To make them unique, call `.var_names_make_unique`.\n"
     ]
    },
    {
     "name": "stdout",
     "output_type": "stream",
     "text": [
      "\t\tCreating partial anndata object: sample2\n",
      "Runing sample number 3 out of 4 samples.\n",
      "\t\tLoading matrix to compose the X object: sample3\n",
      "\t\tLoading genes and cells identifiers to make the obs object: sample3\n",
      "\t\tLoading the gene features to make the var object: sample3\n",
      "\t\tLoading spliced, unspliced and ambigous matrix to compose the X object: sample3\n"
     ]
    },
    {
     "name": "stderr",
     "output_type": "stream",
     "text": [
      "Variable names are not unique. To make them unique, call `.var_names_make_unique`.\n"
     ]
    },
    {
     "name": "stdout",
     "output_type": "stream",
     "text": [
      "\t\tCreating partial anndata object: sample3\n",
      "Runing sample number 4 out of 4 samples.\n",
      "\t\tLoading matrix to compose the X object: sample4\n",
      "\t\tLoading genes and cells identifiers to make the obs object: sample4\n",
      "\t\tLoading the gene features to make the var object: sample4\n",
      "\t\tLoading spliced, unspliced and ambigous matrix to compose the X object: sample4\n"
     ]
    },
    {
     "name": "stderr",
     "output_type": "stream",
     "text": [
      "Variable names are not unique. To make them unique, call `.var_names_make_unique`.\n"
     ]
    },
    {
     "name": "stdout",
     "output_type": "stream",
     "text": [
      "\t\tCreating partial anndata object: sample4\n",
      "Creating the final anndata object.\n",
      "\t\tConcatenating objects.\n"
     ]
    },
    {
     "name": "stderr",
     "output_type": "stream",
     "text": [
      "... storing 'condition' as categorical\n",
      "... storing 'feature_types' as categorical\n"
     ]
    },
    {
     "name": "stdout",
     "output_type": "stream",
     "text": [
      "\t\tRenaming batches.\n",
      "\t\tSaving and loading.\n",
      "Loading the anndata for velocity and storing as an adata variable.\n"
     ]
    },
    {
     "data": {
      "text/plain": [
       "AnnData object with n_obs × n_vars = 40377 × 55359\n",
       "    obs: 'condition'\n",
       "    var: 'gene_ids', 'feature_types'\n",
       "    layers: 'ambiguous', 'spliced', 'unspliced'"
      ]
     },
     "metadata": {},
     "output_type": "display_data"
    }
   ],
   "source": [
    "#Creating or only loading the anndata object for velocity analysis\n",
    "#Provided by Philipp. See also: https://github.com/alexdobin/STAR/issues/774 \n",
    "#Function to load data\n",
    "print(\"Creating the anndata object for velocyte analysis.\")\n",
    "def buildvdata(SAMPLE):\n",
    "    global conditions_name\n",
    "    path1=path_data_vel + \"/\" + SAMPLE + \"/solo/Velocyto/\"\n",
    "    path2=path_data_vel + \"/\" + SAMPLE + \"/solo/Gene/\" + data_type\n",
    "    path_for_X_spl_unpl_ambig=path1 + data_type\n",
    "    path_for_obs=path1 + data_type + '/barcodes.tsv'\n",
    "    path_for_var=path1 + data_type + '/genes.tsv'\n",
    "    print(\"\\t\\tLoading matrix to compose the X object: \" + SAMPLE)\n",
    "    X = sc.read_mtx(path2 + '/matrix.mtx')\n",
    "    X = X.X.transpose()\n",
    "    print(\"\\t\\tLoading genes and cells identifiers to make the obs object: \" + SAMPLE)\n",
    "    obs = pd.read_csv(path_for_obs, header = None, index_col = 0)\n",
    "    obs.index.name = None #Remove index column name to make it compliant with the anndata format\n",
    "    obs = obs + '-' + str(''.join(conditions_name))\n",
    "    print(\"\\t\\tLoading the gene features to make the var object: \" + SAMPLE)\n",
    "    var = pd.read_csv(path_for_var, sep='\\t', names = ('gene_ids', 'feature_types'), index_col = 1)\n",
    "    print(\"\\t\\tLoading spliced, unspliced and ambigous matrix to compose the X object: \" + SAMPLE)\n",
    "    spliced = sparse.csr_matrix(mmread(path_for_X_spl_unpl_ambig + '/spliced.mtx')).transpose()\n",
    "    unspliced  = sparse.csr_matrix(mmread(path_for_X_spl_unpl_ambig + '/unspliced.mtx')).transpose()\n",
    "    ambiguous  = sparse.csr_matrix(mmread(path_for_X_spl_unpl_ambig + '/ambiguous.mtx')).transpose()\n",
    "    print(\"\\t\\tCreating partial anndata object: \" + SAMPLE)\n",
    "    adata = anndata.AnnData(X = X, obs = obs, var = var, layers = {'spliced': spliced, 'unspliced': unspliced, 'ambiguous': ambiguous})\n",
    "    adata.var_names_make_unique()\n",
    "    return adata.copy()\n",
    "\n",
    "#Executing the function\n",
    "adata_list=list()\n",
    "conditions_name=[]\n",
    "dict_rename_samples={}\n",
    "timer=0\n",
    "for a in the_10X_yml:\n",
    "    print(\"Runing sample number \" + str(timer + 1) + \" out of \" + str(len(the_10X_yml)) + \" samples.\")\n",
    "    sample=a.split(\":\")[0]\n",
    "    condition=a.split(\":\")[1]\n",
    "    condition_description=a.split(\":\")[2]\n",
    "    dict_rename_samples[str(timer)]=condition_description\n",
    "    if condition not in conditions_name:\n",
    "        conditions_name.append(condition)\n",
    "    adata_list.append(buildvdata(sample))\n",
    "    timer=timer+1\n",
    "\n",
    "#Creating the final anndata and saving\n",
    "print(\"Creating the final anndata object.\")\n",
    "print(\"\\t\\tConcatenating objects.\")\n",
    "adata = adata_list[0].concatenate(adata_list[1:])\n",
    "print(\"\\t\\tRenaming batches.\")\n",
    "adata.obs[\"batch\"].replace(dict_rename_samples, inplace=True)\n",
    "adata.obs.rename(columns = {\"batch\": ''.join(conditions_name)}, inplace = True)\n",
    "print(\"\\t\\tSaving and loading.\")\n",
    "adata_output= path2 + \"/anndata_1_\" + test +\".h5ad\"\n",
    "adata.write(filename=adata_output) #SAVIND THE ADATA FILE WITH SPLICED UNSPLICED; AMBIGOUS COUNTINGS\n",
    "\n",
    "#Loading adata file and printing num cells and num genes\n",
    "print(\"Loading the anndata for velocity and storing as an adata variable.\")\n",
    "adata = sc.read_h5ad(filename=adata_output)\n",
    "display(adata)"
   ]
  },
  {
   "cell_type": "markdown",
   "id": "e517cf53",
   "metadata": {},
   "source": [
    "# E: saving information"
   ]
  },
  {
   "cell_type": "code",
   "execution_count": 5,
   "id": "7d51d422",
   "metadata": {
    "ExecuteTime": {
     "end_time": "2022-03-01T11:38:19.952122Z",
     "start_time": "2022-03-01T11:38:19.943911Z"
    }
   },
   "outputs": [],
   "source": [
    "if \"information.txt\" not in os.listdir(path2):\n",
    "    displayoutput=str(adata)\n",
    "    information=\"Test:\" + test + \"\\nPath:\" + path2 + \"\\n##########\\n\" + \"1_assembling_anndata\\n\" \"\\nSample_description:\\n\" + '\\n'.join(the_10X_yml) + \"\\nOutput_1:anndata_1_\" + test + \".h5ad\" + \"\\nAnndata:\\n\" + displayoutput\n",
    "    print(information, file=open(path2 + \"/information.txt\", \"a\"))\n",
    "else:\n",
    "    displayoutput=str(adata)\n",
    "    information=\"Test:\" + test + \"\\nPath:\" + path2 + \"\\n##########\\n\" + \"1_assembling_anndata\\n\" \"\\nSample_description:\\n\" + '\\n'.join(the_10X_yml) + \"\\nOutput_1:anndata_1_\" + test + \".h5ad\" + \"\\nAnndata:\\n\" + displayoutput\n",
    "    print(information, file=open(path2 + \"/information.txt\", \"w\"))"
   ]
  }
 ],
 "metadata": {
  "kernelspec": {
   "display_name": "scRNAseq",
   "language": "python",
   "name": "scrnaseq"
  },
  "language_info": {
   "codemirror_mode": {
    "name": "ipython",
    "version": 3
   },
   "file_extension": ".py",
   "mimetype": "text/x-python",
   "name": "python",
   "nbconvert_exporter": "python",
   "pygments_lexer": "ipython3",
   "version": "3.8.10"
  }
 },
 "nbformat": 4,
 "nbformat_minor": 5
}
