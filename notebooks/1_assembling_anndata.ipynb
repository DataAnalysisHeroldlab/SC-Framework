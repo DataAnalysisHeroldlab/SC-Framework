{
 "cells": [
  {
   "cell_type": "markdown",
   "id": "2cf01f69",
   "metadata": {},
   "source": [
    "<h1 align=\"center\">Assembling or loading anndata object</h1> \n",
    "<hr style=\"border:2px solid black\"> </hr>"
   ]
  },
  {
   "cell_type": "markdown",
   "id": "6cdd6b4e",
   "metadata": {},
   "source": [
    "# A: set up"
   ]
  },
  {
   "cell_type": "code",
   "execution_count": 1,
   "id": "013266fd",
   "metadata": {
    "ExecuteTime": {
     "end_time": "2022-07-04T09:42:49.719758Z",
     "start_time": "2022-07-04T09:42:47.092956Z"
    }
   },
   "outputs": [],
   "source": [
    "#####################IMPORTING PACKAGES################################\n",
    "import sctoolbox\n",
    "from sctoolbox.checker import *\n",
    "from sctoolbox.creators import *\n",
    "from sctoolbox.file_converter import *\n",
    "from sctoolbox.assemblers import *\n",
    "\n",
    "#####################DEFINING TEST NUMBER##############################\n",
    "test=\"Test1\"\n",
    "\n",
    "#####################DEFINING STRATEGY#################################\n",
    "assembling_10_velocity=True #cells C:\n",
    "assembling_10_public=False #cells D:\n",
    "convert_seurat=False #cells E:\n",
    "\n",
    "######################OUTPUT PATH######################################\n",
    "path_out=\"/mnt/workspace/gvalent/5_SC_automatation/data2\" #The path where the folders results/Test* will be created to export your results\n",
    "\n",
    "##########################DEFINING IMPUTS##############################\n",
    "#####10X assembling for velocity (cell C:)\n",
    "path_solo_quant=\"/mnt/agnerds/loosolab_SC_RNA_framework/examples/assembling_10_velocity/quant/\" #This is the directory where the quant folder from snakemake preprocessing is located\n",
    "                #NOTE: insert the pathway including the /quant folder\n",
    "                #e.g., /path/quant \n",
    "\n",
    "#####Converting from seurat to anndata (cell E:)\n",
    "path_rds=\"/mnt/agnerds/loosolab_SC_RNA_framework/examples/convert_seurat/GSE135893_ILD_annotated_fullsize.rds\" #This is the directory with the Seurat (.rds) file\n",
    "\n",
    "#####10X assembling from public data (cell D:)\n",
    "#See set up in cell D"
   ]
  },
  {
   "cell_type": "markdown",
   "id": "88e80c98",
   "metadata": {},
   "source": [
    "# B: checking and creating the output directory"
   ]
  },
  {
   "cell_type": "code",
   "execution_count": 2,
   "id": "affae1df",
   "metadata": {
    "ExecuteTime": {
     "end_time": "2022-07-04T09:42:52.897946Z",
     "start_time": "2022-07-04T09:42:52.664023Z"
    }
   },
   "outputs": [
    {
     "name": "stdout",
     "output_type": "stream",
     "text": [
      "Output directory is ready: /mnt/workspace/gvalent/5_SC_automatation/data2/results/Test1/\n"
     ]
    }
   ],
   "source": [
    "#Creating directories to store the outputs and storing this information\n",
    "output_path(path_out, test)"
   ]
  },
  {
   "cell_type": "markdown",
   "id": "b49d2063",
   "metadata": {},
   "source": [
    "# C: assembling 10X anndata for velocity"
   ]
  },
  {
   "cell_type": "code",
   "execution_count": 3,
   "id": "4fc89bbd",
   "metadata": {
    "ExecuteTime": {
     "end_time": "2022-07-04T09:45:08.012928Z",
     "start_time": "2022-07-04T09:42:58.527941Z"
    }
   },
   "outputs": [
    {
     "name": "stdout",
     "output_type": "stream",
     "text": [
      "Num samples: 2\n",
      "sample1:condition:room_air\n",
      "Assembling sample 1\n",
      "\t\tLoading matrix to compose the .X object\n",
      "\t\tLoading matrix to compose the .obs\n",
      "\t\tLoading matrix to compose the .var\n"
     ]
    },
    {
     "ename": "KeyboardInterrupt",
     "evalue": "",
     "output_type": "error",
     "traceback": [
      "\u001b[0;31m---------------------------------------------------------------------------\u001b[0m",
      "\u001b[0;31mKeyboardInterrupt\u001b[0m                         Traceback (most recent call last)",
      "\u001b[0;32m/tmp/ipykernel_6784/1564123932.py\u001b[0m in \u001b[0;36m<module>\u001b[0;34m\u001b[0m\n\u001b[1;32m      8\u001b[0m \u001b[0;31m##########################################################################\u001b[0m\u001b[0;34m\u001b[0m\u001b[0;34m\u001b[0m\u001b[0;34m\u001b[0m\u001b[0m\n\u001b[1;32m      9\u001b[0m \u001b[0;32mif\u001b[0m \u001b[0massembling_10_velocity\u001b[0m \u001b[0;34m==\u001b[0m \u001b[0;32mTrue\u001b[0m\u001b[0;34m:\u001b[0m\u001b[0;34m\u001b[0m\u001b[0;34m\u001b[0m\u001b[0m\n\u001b[0;32m---> 10\u001b[0;31m     \u001b[0madata\u001b[0m\u001b[0;34m=\u001b[0m\u001b[0massembling_velocity\u001b[0m\u001b[0;34m(\u001b[0m\u001b[0mpath_solo_quant\u001b[0m\u001b[0;34m,\u001b[0m \u001b[0mthe_10X_yml\u001b[0m\u001b[0;34m,\u001b[0m \u001b[0massembling_10_velocity\u001b[0m\u001b[0;34m,\u001b[0m \u001b[0mtest\u001b[0m\u001b[0;34m)\u001b[0m\u001b[0;34m\u001b[0m\u001b[0;34m\u001b[0m\u001b[0m\n\u001b[0m\u001b[1;32m     11\u001b[0m     \u001b[0mdisplay\u001b[0m\u001b[0;34m(\u001b[0m\u001b[0madata\u001b[0m\u001b[0;34m)\u001b[0m\u001b[0;34m\u001b[0m\u001b[0;34m\u001b[0m\u001b[0m\n",
      "\u001b[0;32m~/.conda/envs/scRNAseq/lib/python3.8/site-packages/sctoolbox/assemblers.py\u001b[0m in \u001b[0;36massembling_velocity\u001b[0;34m(path_QUANT, tenX, assembling_10_velocity, TEST, dtype)\u001b[0m\n\u001b[1;32m     95\u001b[0m         \u001b[0;32mif\u001b[0m \u001b[0mcondition\u001b[0m \u001b[0;32mnot\u001b[0m \u001b[0;32min\u001b[0m \u001b[0mconditions_name\u001b[0m\u001b[0;34m:\u001b[0m\u001b[0;34m\u001b[0m\u001b[0;34m\u001b[0m\u001b[0m\n\u001b[1;32m     96\u001b[0m             \u001b[0mconditions_name\u001b[0m\u001b[0;34m.\u001b[0m\u001b[0mappend\u001b[0m\u001b[0;34m(\u001b[0m\u001b[0mcondition\u001b[0m\u001b[0;34m)\u001b[0m\u001b[0;34m\u001b[0m\u001b[0;34m\u001b[0m\u001b[0m\n\u001b[0;32m---> 97\u001b[0;31m         \u001b[0madata_list\u001b[0m\u001b[0;34m.\u001b[0m\u001b[0mappend\u001b[0m\u001b[0;34m(\u001b[0m\u001b[0massembler\u001b[0m\u001b[0;34m(\u001b[0m\u001b[0msample\u001b[0m\u001b[0;34m,\u001b[0m \u001b[0mpath_QUANT2\u001b[0m \u001b[0;34m+\u001b[0m \u001b[0;34m\"/\"\u001b[0m\u001b[0;34m,\u001b[0m \u001b[0mdtype\u001b[0m\u001b[0;34m,\u001b[0m \u001b[0mconditions_name\u001b[0m\u001b[0;34m)\u001b[0m\u001b[0;34m)\u001b[0m \u001b[0;31m#EXECUTING THE ASSEMBLER\u001b[0m\u001b[0;34m\u001b[0m\u001b[0;34m\u001b[0m\u001b[0m\n\u001b[0m\u001b[1;32m     98\u001b[0m         \u001b[0mtimer\u001b[0m\u001b[0;34m=\u001b[0m\u001b[0mtimer\u001b[0m\u001b[0;34m+\u001b[0m\u001b[0;36m1\u001b[0m\u001b[0;34m\u001b[0m\u001b[0;34m\u001b[0m\u001b[0m\n\u001b[1;32m     99\u001b[0m     \u001b[0;31m#Creating the final anndata and saving\u001b[0m\u001b[0;34m\u001b[0m\u001b[0;34m\u001b[0m\u001b[0;34m\u001b[0m\u001b[0m\n",
      "\u001b[0;32m~/.conda/envs/scRNAseq/lib/python3.8/site-packages/sctoolbox/assemblers.py\u001b[0m in \u001b[0;36massembler\u001b[0;34m(SAMPLE, PATH, DTYPE, COND_NAME)\u001b[0m\n\u001b[1;32m     50\u001b[0m     \u001b[0mprint\u001b[0m\u001b[0;34m(\u001b[0m\u001b[0mm3\u001b[0m\u001b[0;34m)\u001b[0m\u001b[0;34m\u001b[0m\u001b[0;34m\u001b[0m\u001b[0m\n\u001b[1;32m     51\u001b[0m     \u001b[0mvar\u001b[0m \u001b[0;34m=\u001b[0m \u001b[0mpd\u001b[0m\u001b[0;34m.\u001b[0m\u001b[0mread_csv\u001b[0m\u001b[0;34m(\u001b[0m\u001b[0mpath_for_var\u001b[0m\u001b[0;34m,\u001b[0m \u001b[0msep\u001b[0m\u001b[0;34m=\u001b[0m\u001b[0;34m'\\t'\u001b[0m\u001b[0;34m,\u001b[0m \u001b[0mnames\u001b[0m \u001b[0;34m=\u001b[0m \u001b[0;34m(\u001b[0m\u001b[0;34m'gene_ids'\u001b[0m\u001b[0;34m,\u001b[0m \u001b[0;34m'feature_types'\u001b[0m\u001b[0;34m)\u001b[0m\u001b[0;34m,\u001b[0m \u001b[0mindex_col\u001b[0m \u001b[0;34m=\u001b[0m \u001b[0;36m1\u001b[0m\u001b[0;34m)\u001b[0m\u001b[0;34m\u001b[0m\u001b[0;34m\u001b[0m\u001b[0m\n\u001b[0;32m---> 52\u001b[0;31m     \u001b[0mspliced\u001b[0m\u001b[0;34m,\u001b[0m \u001b[0munspliced\u001b[0m\u001b[0;34m,\u001b[0m \u001b[0mambiguous\u001b[0m \u001b[0;34m=\u001b[0m \u001b[0msparse\u001b[0m\u001b[0;34m.\u001b[0m\u001b[0mcsr_matrix\u001b[0m\u001b[0;34m(\u001b[0m\u001b[0mmmread\u001b[0m\u001b[0;34m(\u001b[0m\u001b[0mpath_for_X_spl_unspl_ambig\u001b[0m \u001b[0;34m+\u001b[0m \u001b[0;34m'/spliced.mtx'\u001b[0m\u001b[0;34m)\u001b[0m\u001b[0;34m)\u001b[0m\u001b[0;34m.\u001b[0m\u001b[0mtranspose\u001b[0m\u001b[0;34m(\u001b[0m\u001b[0;34m)\u001b[0m\u001b[0;34m,\u001b[0m \u001b[0msparse\u001b[0m\u001b[0;34m.\u001b[0m\u001b[0mcsr_matrix\u001b[0m\u001b[0;34m(\u001b[0m\u001b[0mmmread\u001b[0m\u001b[0;34m(\u001b[0m\u001b[0mpath_for_X_spl_unspl_ambig\u001b[0m \u001b[0;34m+\u001b[0m \u001b[0;34m'/unspliced.mtx'\u001b[0m\u001b[0;34m)\u001b[0m\u001b[0;34m)\u001b[0m\u001b[0;34m.\u001b[0m\u001b[0mtranspose\u001b[0m\u001b[0;34m(\u001b[0m\u001b[0;34m)\u001b[0m\u001b[0;34m,\u001b[0m \u001b[0msparse\u001b[0m\u001b[0;34m.\u001b[0m\u001b[0mcsr_matrix\u001b[0m\u001b[0;34m(\u001b[0m\u001b[0mmmread\u001b[0m\u001b[0;34m(\u001b[0m\u001b[0mpath_for_X_spl_unspl_ambig\u001b[0m \u001b[0;34m+\u001b[0m \u001b[0;34m'/ambiguous.mtx'\u001b[0m\u001b[0;34m)\u001b[0m\u001b[0;34m)\u001b[0m\u001b[0;34m.\u001b[0m\u001b[0mtranspose\u001b[0m\u001b[0;34m(\u001b[0m\u001b[0;34m)\u001b[0m\u001b[0;34m\u001b[0m\u001b[0;34m\u001b[0m\u001b[0m\n\u001b[0m\u001b[1;32m     53\u001b[0m     \u001b[0madata\u001b[0m \u001b[0;34m=\u001b[0m \u001b[0manndata\u001b[0m\u001b[0;34m.\u001b[0m\u001b[0mAnnData\u001b[0m\u001b[0;34m(\u001b[0m\u001b[0mX\u001b[0m \u001b[0;34m=\u001b[0m \u001b[0mX\u001b[0m\u001b[0;34m,\u001b[0m \u001b[0mobs\u001b[0m \u001b[0;34m=\u001b[0m \u001b[0mobs\u001b[0m\u001b[0;34m,\u001b[0m \u001b[0mvar\u001b[0m \u001b[0;34m=\u001b[0m \u001b[0mvar\u001b[0m\u001b[0;34m,\u001b[0m \u001b[0mlayers\u001b[0m \u001b[0;34m=\u001b[0m \u001b[0;34m{\u001b[0m\u001b[0;34m'spliced'\u001b[0m\u001b[0;34m:\u001b[0m \u001b[0mspliced\u001b[0m\u001b[0;34m,\u001b[0m \u001b[0;34m'unspliced'\u001b[0m\u001b[0;34m:\u001b[0m \u001b[0munspliced\u001b[0m\u001b[0;34m,\u001b[0m \u001b[0;34m'ambiguous'\u001b[0m\u001b[0;34m:\u001b[0m \u001b[0mambiguous\u001b[0m\u001b[0;34m}\u001b[0m\u001b[0;34m)\u001b[0m\u001b[0;34m\u001b[0m\u001b[0;34m\u001b[0m\u001b[0m\n\u001b[1;32m     54\u001b[0m     \u001b[0madata\u001b[0m\u001b[0;34m.\u001b[0m\u001b[0mvar_names_make_unique\u001b[0m\u001b[0;34m(\u001b[0m\u001b[0;34m)\u001b[0m\u001b[0;34m\u001b[0m\u001b[0;34m\u001b[0m\u001b[0m\n",
      "\u001b[0;32m~/.conda/envs/scRNAseq/lib/python3.8/site-packages/scipy/io/_mmio.py\u001b[0m in \u001b[0;36mmmread\u001b[0;34m(source)\u001b[0m\n\u001b[1;32m     74\u001b[0m         \u001b[0mMatrix\u001b[0m \u001b[0mMarket\u001b[0m \u001b[0mfile\u001b[0m\u001b[0;34m.\u001b[0m\u001b[0;34m\u001b[0m\u001b[0;34m\u001b[0m\u001b[0m\n\u001b[1;32m     75\u001b[0m     \"\"\"\n\u001b[0;32m---> 76\u001b[0;31m     \u001b[0;32mreturn\u001b[0m \u001b[0mMMFile\u001b[0m\u001b[0;34m(\u001b[0m\u001b[0;34m)\u001b[0m\u001b[0;34m.\u001b[0m\u001b[0mread\u001b[0m\u001b[0;34m(\u001b[0m\u001b[0msource\u001b[0m\u001b[0;34m)\u001b[0m\u001b[0;34m\u001b[0m\u001b[0;34m\u001b[0m\u001b[0m\n\u001b[0m\u001b[1;32m     77\u001b[0m \u001b[0;34m\u001b[0m\u001b[0m\n\u001b[1;32m     78\u001b[0m \u001b[0;31m# -----------------------------------------------------------------------------\u001b[0m\u001b[0;34m\u001b[0m\u001b[0;34m\u001b[0m\u001b[0;34m\u001b[0m\u001b[0m\n",
      "\u001b[0;32m~/.conda/envs/scRNAseq/lib/python3.8/site-packages/scipy/io/_mmio.py\u001b[0m in \u001b[0;36mread\u001b[0;34m(self, source)\u001b[0m\n\u001b[1;32m    434\u001b[0m         \u001b[0;32mtry\u001b[0m\u001b[0;34m:\u001b[0m\u001b[0;34m\u001b[0m\u001b[0;34m\u001b[0m\u001b[0m\n\u001b[1;32m    435\u001b[0m             \u001b[0mself\u001b[0m\u001b[0;34m.\u001b[0m\u001b[0m_parse_header\u001b[0m\u001b[0;34m(\u001b[0m\u001b[0mstream\u001b[0m\u001b[0;34m)\u001b[0m\u001b[0;34m\u001b[0m\u001b[0;34m\u001b[0m\u001b[0m\n\u001b[0;32m--> 436\u001b[0;31m             \u001b[0;32mreturn\u001b[0m \u001b[0mself\u001b[0m\u001b[0;34m.\u001b[0m\u001b[0m_parse_body\u001b[0m\u001b[0;34m(\u001b[0m\u001b[0mstream\u001b[0m\u001b[0;34m)\u001b[0m\u001b[0;34m\u001b[0m\u001b[0;34m\u001b[0m\u001b[0m\n\u001b[0m\u001b[1;32m    437\u001b[0m \u001b[0;34m\u001b[0m\u001b[0m\n\u001b[1;32m    438\u001b[0m         \u001b[0;32mfinally\u001b[0m\u001b[0;34m:\u001b[0m\u001b[0;34m\u001b[0m\u001b[0;34m\u001b[0m\u001b[0m\n",
      "\u001b[0;32m~/.conda/envs/scRNAseq/lib/python3.8/site-packages/scipy/io/_mmio.py\u001b[0m in \u001b[0;36m_parse_body\u001b[0;34m(self, stream)\u001b[0m\n\u001b[1;32m    634\u001b[0m                                      \"number of entries\")\n\u001b[1;32m    635\u001b[0m                 \u001b[0ml\u001b[0m \u001b[0;34m=\u001b[0m \u001b[0mline\u001b[0m\u001b[0;34m.\u001b[0m\u001b[0msplit\u001b[0m\u001b[0;34m(\u001b[0m\u001b[0;34m)\u001b[0m\u001b[0;34m\u001b[0m\u001b[0;34m\u001b[0m\u001b[0m\n\u001b[0;32m--> 636\u001b[0;31m                 \u001b[0mI\u001b[0m\u001b[0;34m[\u001b[0m\u001b[0mentry_number\u001b[0m\u001b[0;34m]\u001b[0m\u001b[0;34m,\u001b[0m \u001b[0mJ\u001b[0m\u001b[0;34m[\u001b[0m\u001b[0mentry_number\u001b[0m\u001b[0;34m]\u001b[0m \u001b[0;34m=\u001b[0m \u001b[0mmap\u001b[0m\u001b[0;34m(\u001b[0m\u001b[0mint\u001b[0m\u001b[0;34m,\u001b[0m \u001b[0ml\u001b[0m\u001b[0;34m[\u001b[0m\u001b[0;34m:\u001b[0m\u001b[0;36m2\u001b[0m\u001b[0;34m]\u001b[0m\u001b[0;34m)\u001b[0m\u001b[0;34m\u001b[0m\u001b[0;34m\u001b[0m\u001b[0m\n\u001b[0m\u001b[1;32m    637\u001b[0m \u001b[0;34m\u001b[0m\u001b[0m\n\u001b[1;32m    638\u001b[0m                 \u001b[0;32mif\u001b[0m \u001b[0;32mnot\u001b[0m \u001b[0mis_pattern\u001b[0m\u001b[0;34m:\u001b[0m\u001b[0;34m\u001b[0m\u001b[0;34m\u001b[0m\u001b[0m\n",
      "\u001b[0;31mKeyboardInterrupt\u001b[0m: "
     ]
    }
   ],
   "source": [
    "#Assembling an anndata object for velocity analysis\n",
    "#Set up the information bellow\n",
    "the_10X_yml=[    \n",
    "\"sample1:condition:room_air\",\n",
    "\"sample2:condition:smooke_exposure\",\n",
    "]\n",
    "\n",
    "##########################################################################\n",
    "if assembling_10_velocity == True:\n",
    "    adata=assembling_velocity(path_solo_quant, the_10X_yml, assembling_10_velocity, test)\n",
    "    display(adata)"
   ]
  },
  {
   "cell_type": "markdown",
   "id": "5e4b5821",
   "metadata": {},
   "source": [
    "# D: assembling an anndata object from 10X public data"
   ]
  },
  {
   "cell_type": "code",
   "execution_count": 6,
   "id": "e9453b2a",
   "metadata": {
    "ExecuteTime": {
     "end_time": "2022-06-17T11:07:02.016121Z",
     "start_time": "2022-06-17T11:07:02.012056Z"
    },
    "scrolled": true
   },
   "outputs": [],
   "source": [
    "#Assembling an anndata object from 10X public data\n",
    "#Set up the information bellow\n",
    "mtx = [\"path_mtx_file\"] #Path to matrix file(s)\n",
    "barcodes = [\"path_barcode_file\"] #Path to barcode file(s)\n",
    "genes = [\"path_genes_file\"] #Path to genes file(s)\n",
    "\n",
    "if assembling_10_public == True:\n",
    "    adata=assemblers.from_mtx(mtx, barcodes, genes, **kwargs)\n",
    "    display(adata)"
   ]
  },
  {
   "cell_type": "markdown",
   "id": "be9a9510",
   "metadata": {},
   "source": [
    "# E: converting from Seurat to anndata object"
   ]
  },
  {
   "cell_type": "code",
   "execution_count": 7,
   "id": "f4042d32",
   "metadata": {
    "ExecuteTime": {
     "end_time": "2022-06-17T11:07:03.529298Z",
     "start_time": "2022-06-17T11:07:03.526272Z"
    }
   },
   "outputs": [],
   "source": [
    "# Converting from Seurat to anndata object\n",
    "if convert_seurat == True:\n",
    "    adata = converter.convertToAdata(file=path_rds)\n",
    "    display(adata)"
   ]
  }
 ],
 "metadata": {
  "kernelspec": {
   "display_name": "scRNAseq",
   "language": "python",
   "name": "scrnaseq"
  },
  "language_info": {
   "codemirror_mode": {
    "name": "ipython",
    "version": 3
   },
   "file_extension": ".py",
   "mimetype": "text/x-python",
   "name": "python",
   "nbconvert_exporter": "python",
   "pygments_lexer": "ipython3",
   "version": "3.8.10"
  }
 },
 "nbformat": 4,
 "nbformat_minor": 5
}
