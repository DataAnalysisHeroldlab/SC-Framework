{
 "cells": [
  {
   "cell_type": "markdown",
   "metadata": {},
   "source": [
    "# QC and filtering\n",
    "<hr style=\"border:2px solid black\"> </hr>"
   ]
  },
  {
   "cell_type": "markdown",
   "metadata": {},
   "source": [
    "**Quality control**\n",
    "\n",
    "\"We must ensure that all cellular barcode data correspond to viable cells.\n",
    "\n",
    "Cell QC is commonly performed based on three QC covariates: the number of counts per barcode (count depth), the number of genes per barcode, and the fraction of counts from mitochondrial genes per barcode.\n",
    "\n",
    "The distributions of these QC covariates are examined for outlier peaks that are filtered out by thresholding.\n",
    "\n",
    "These outlier barcodes can correspond to dying cells, cells whose membranes are broken, or doublets\".\n",
    "\n",
    "Samples with a low count depth, few detected genes, and a high fraction of mitochondrial counts are indicative of cells whose cytoplasmic mRNA has leaked out through a broken membrane.\n",
    "\n",
    "In contrast, cells with unexpectedly high counts and a large number of detected genes may represent doublets.\n",
    "\n",
    "**DOI: 10.15252/msb.20188746**"
   ]
  },
  {
   "cell_type": "markdown",
   "metadata": {},
   "source": [
    "## A: loading packages and setup"
   ]
  },
  {
   "cell_type": "code",
   "execution_count": 1,
   "metadata": {
    "ExecuteTime": {
     "end_time": "2022-06-28T11:00:30.872371Z",
     "start_time": "2022-06-28T11:00:28.955891Z"
    }
   },
   "outputs": [],
   "source": [
    "#####################IMPORTING PACKAGES#############################\n",
    "import sctoolbox\n",
    "from sctoolbox.checker import *\n",
    "from sctoolbox.creators import *\n",
    "from sctoolbox.qc_filter import *\n",
    "from sctoolbox.analyser import *\n",
    "from sctoolbox.plotting import *\n",
    "from sctoolbox.marker_genes import *\n",
    "from sctoolbox.utilities import *"
   ]
  },
  {
   "cell_type": "markdown",
   "metadata": {},
   "source": [
    "## B: loading the anndata setting the condition"
   ]
  },
  {
   "cell_type": "code",
   "execution_count": 9,
   "metadata": {
    "ExecuteTime": {
     "end_time": "2022-06-28T11:00:36.416927Z",
     "start_time": "2022-06-28T11:00:31.340986Z"
    },
    "scrolled": false
   },
   "outputs": [
    {
     "data": {
      "text/plain": [
       "AnnData object with n_obs × n_vars = 8000 × 10000\n",
       "    obs: 'donor'\n",
       "    var: 'gene_name'\n",
       "    uns: 'color_set', 'infoprocess'"
      ]
     },
     "metadata": {},
     "output_type": "display_data"
    }
   ],
   "source": [
    "#Set parameter bellow\n",
    "#help(load_anndata)\n",
    "adata = load_anndata(is_from_previous_note=True, which_notebook=1, data_to_evaluate=\"donor\")\n",
    "display(adata)"
   ]
  },
  {
   "cell_type": "markdown",
   "metadata": {},
   "source": [
    "## Set information for the adata"
   ]
  },
  {
   "cell_type": "code",
   "execution_count": 10,
   "metadata": {},
   "outputs": [
    {
     "data": {
      "text/plain": [
       "{'Anndata_path': 'pipeline_output/results/Test1',\n",
       " 'Input_for_assembling': 'test_data/PBMC.h5ad',\n",
       " 'Strategy': 'Read from h5ad',\n",
       " 'Test_number': 'Test1',\n",
       " 'data_to_evaluate': 'donor'}"
      ]
     },
     "execution_count": 10,
     "metadata": {},
     "output_type": "execute_result"
    }
   ],
   "source": [
    "adata.uns[\"infoprocess\"]"
   ]
  },
  {
   "cell_type": "code",
   "execution_count": null,
   "metadata": {},
   "outputs": [],
   "source": [
    "adata.uns[\"infoprocess\"][\"gene_name_column\"] = \"gene_name\""
   ]
  },
  {
   "cell_type": "markdown",
   "metadata": {},
   "source": [
    "## C: Labelling genes"
   ]
  },
  {
   "cell_type": "code",
   "execution_count": 11,
   "metadata": {
    "ExecuteTime": {
     "end_time": "2022-06-28T11:00:45.647678Z",
     "start_time": "2022-06-28T11:00:36.419588Z"
    },
    "scrolled": false
   },
   "outputs": [
    {
     "name": "stdout",
     "output_type": "stream",
     "text": [
      "Annotate mitochondrial? Choose y or ny\n",
      "Type the string (case sensitivy) used to identify mit genes, e.g., mt, Mt-, so on.mt\n",
      "Annotate cell_cycle? Choose y or ny\n",
      "Choose one species: human, mouse, rat, zebrafishhuman\n",
      "Annotate gender_genes? Choose y or nn\n",
      "Annotate custom? Choose y or nn\n"
     ]
    },
    {
     "data": {
      "text/plain": [
       "['is_mitochondrial', 'is_cell_cycle']"
      ]
     },
     "metadata": {},
     "output_type": "display_data"
    }
   ],
   "source": [
    "#Labeling genes (Optional). Set label=False to skip\n",
    "adata = label_genes(adata, label=True)\n",
    "display(adata.uns[\"infoprocess\"][\"genes_labeled\"])"
   ]
  },
  {
   "cell_type": "code",
   "execution_count": 12,
   "metadata": {},
   "outputs": [
    {
     "data": {
      "text/html": [
       "<div>\n",
       "<style scoped>\n",
       "    .dataframe tbody tr th:only-of-type {\n",
       "        vertical-align: middle;\n",
       "    }\n",
       "\n",
       "    .dataframe tbody tr th {\n",
       "        vertical-align: top;\n",
       "    }\n",
       "\n",
       "    .dataframe thead th {\n",
       "        text-align: right;\n",
       "    }\n",
       "</style>\n",
       "<table border=\"1\" class=\"dataframe\">\n",
       "  <thead>\n",
       "    <tr style=\"text-align: right;\">\n",
       "      <th></th>\n",
       "      <th>gene_name</th>\n",
       "      <th>is_mitochondrial</th>\n",
       "      <th>is_cell_cycle</th>\n",
       "    </tr>\n",
       "    <tr>\n",
       "      <th>index</th>\n",
       "      <th></th>\n",
       "      <th></th>\n",
       "      <th></th>\n",
       "    </tr>\n",
       "  </thead>\n",
       "  <tbody>\n",
       "    <tr>\n",
       "      <th>ENSG00000273165</th>\n",
       "      <td>RP11-1057B6.1</td>\n",
       "      <td>False</td>\n",
       "      <td>False</td>\n",
       "    </tr>\n",
       "    <tr>\n",
       "      <th>ENSG00000146731</th>\n",
       "      <td>CCT6A</td>\n",
       "      <td>False</td>\n",
       "      <td>False</td>\n",
       "    </tr>\n",
       "    <tr>\n",
       "      <th>ENSG00000143434</th>\n",
       "      <td>SEMA6C</td>\n",
       "      <td>False</td>\n",
       "      <td>False</td>\n",
       "    </tr>\n",
       "    <tr>\n",
       "      <th>ENSG00000104998</th>\n",
       "      <td>IL27RA</td>\n",
       "      <td>False</td>\n",
       "      <td>False</td>\n",
       "    </tr>\n",
       "    <tr>\n",
       "      <th>ENSG00000139668</th>\n",
       "      <td>WDFY2</td>\n",
       "      <td>False</td>\n",
       "      <td>False</td>\n",
       "    </tr>\n",
       "    <tr>\n",
       "      <th>...</th>\n",
       "      <td>...</td>\n",
       "      <td>...</td>\n",
       "      <td>...</td>\n",
       "    </tr>\n",
       "    <tr>\n",
       "      <th>ENSG00000163406</th>\n",
       "      <td>SLC15A2</td>\n",
       "      <td>False</td>\n",
       "      <td>False</td>\n",
       "    </tr>\n",
       "    <tr>\n",
       "      <th>ENSG00000187800</th>\n",
       "      <td>PEAR1</td>\n",
       "      <td>False</td>\n",
       "      <td>False</td>\n",
       "    </tr>\n",
       "    <tr>\n",
       "      <th>ENSG00000147383</th>\n",
       "      <td>NSDHL</td>\n",
       "      <td>False</td>\n",
       "      <td>False</td>\n",
       "    </tr>\n",
       "    <tr>\n",
       "      <th>ENSG00000037749</th>\n",
       "      <td>MFAP3</td>\n",
       "      <td>False</td>\n",
       "      <td>False</td>\n",
       "    </tr>\n",
       "    <tr>\n",
       "      <th>ENSG00000197599</th>\n",
       "      <td>CCDC154</td>\n",
       "      <td>False</td>\n",
       "      <td>False</td>\n",
       "    </tr>\n",
       "  </tbody>\n",
       "</table>\n",
       "<p>10000 rows × 3 columns</p>\n",
       "</div>"
      ],
      "text/plain": [
       "                     gene_name  is_mitochondrial  is_cell_cycle\n",
       "index                                                          \n",
       "ENSG00000273165  RP11-1057B6.1             False          False\n",
       "ENSG00000146731          CCT6A             False          False\n",
       "ENSG00000143434         SEMA6C             False          False\n",
       "ENSG00000104998         IL27RA             False          False\n",
       "ENSG00000139668          WDFY2             False          False\n",
       "...                        ...               ...            ...\n",
       "ENSG00000163406        SLC15A2             False          False\n",
       "ENSG00000187800          PEAR1             False          False\n",
       "ENSG00000147383          NSDHL             False          False\n",
       "ENSG00000037749          MFAP3             False          False\n",
       "ENSG00000197599        CCDC154             False          False\n",
       "\n",
       "[10000 rows x 3 columns]"
      ]
     },
     "execution_count": 12,
     "metadata": {},
     "output_type": "execute_result"
    }
   ],
   "source": [
    "adata.var"
   ]
  },
  {
   "cell_type": "markdown",
   "metadata": {},
   "source": [
    "## D: calculating QC metrics"
   ]
  },
  {
   "cell_type": "code",
   "execution_count": 13,
   "metadata": {
    "ExecuteTime": {
     "end_time": "2022-06-28T11:01:14.194126Z",
     "start_time": "2022-06-28T11:00:46.479647Z"
    }
   },
   "outputs": [],
   "source": [
    "#Calculating QC metrics\n",
    "#If control_var=True, the anndata.var labeled genes you want to control the metrics calculation\n",
    "adata = qcmetric_calculator(adata, control_var=True)"
   ]
  },
  {
   "cell_type": "markdown",
   "metadata": {},
   "source": [
    "## E: Establishing the cutoffs for QC and filtering steps"
   ]
  },
  {
   "cell_type": "markdown",
   "metadata": {},
   "source": [
    "**E1: DEFINING DEFAULT CUTOFFS FOR THE total_counts**\n",
    "\n",
    "Low and high count depth indicates cells with low integrity and doublets, respectively (DOI: 10.15252/msb.20188746)."
   ]
  },
  {
   "cell_type": "code",
   "execution_count": 14,
   "metadata": {
    "ExecuteTime": {
     "end_time": "2022-06-28T11:01:16.012592Z",
     "start_time": "2022-06-28T11:01:14.198088Z"
    }
   },
   "outputs": [
    {
     "data": {
      "image/png": "[encoded data removed]",
      "text/plain": [
       "<Figure size 1080x720 with 6 Axes>"
      ]
     },
     "metadata": {
      "needs_background": "light"
     },
     "output_type": "display_data"
    }
   ],
   "source": [
    "#Defining the default cutoffs for total_counts and ploting data\n",
    "def_cut = set_def_cuts(adata, interval=0.95, save=True)"
   ]
  },
  {
   "cell_type": "markdown",
   "metadata": {
    "ExecuteTime": {
     "end_time": "2022-05-23T08:17:32.639612Z",
     "start_time": "2022-05-23T08:17:32.636065Z"
    }
   },
   "source": [
    "**E2: DEFINING CUSTOM CUTOFFS FOR total_counts**"
   ]
  },
  {
   "cell_type": "code",
   "execution_count": 15,
   "metadata": {
    "ExecuteTime": {
     "end_time": "2022-06-28T11:02:26.293213Z",
     "start_time": "2022-06-28T11:02:04.818402Z"
    },
    "scrolled": false
   },
   "outputs": [
    {
     "name": "stdout",
     "output_type": "stream",
     "text": [
      "The default setting is:\n"
     ]
    },
    {
     "data": {
      "text/html": [
       "<div>\n",
       "<style scoped>\n",
       "    .dataframe tbody tr th:only-of-type {\n",
       "        vertical-align: middle;\n",
       "    }\n",
       "\n",
       "    .dataframe tbody tr th {\n",
       "        vertical-align: top;\n",
       "    }\n",
       "\n",
       "    .dataframe thead th {\n",
       "        text-align: right;\n",
       "    }\n",
       "</style>\n",
       "<table border=\"1\" class=\"dataframe\">\n",
       "  <thead>\n",
       "    <tr style=\"text-align: right;\">\n",
       "      <th></th>\n",
       "      <th>data_to_evaluate</th>\n",
       "      <th>parameters</th>\n",
       "      <th>cutoff</th>\n",
       "      <th>strategy</th>\n",
       "    </tr>\n",
       "  </thead>\n",
       "  <tbody>\n",
       "  </tbody>\n",
       "</table>\n",
       "</div>"
      ],
      "text/plain": [
       "Empty DataFrame\n",
       "Columns: [data_to_evaluate, parameters, cutoff, strategy]\n",
       "Index: []"
      ]
     },
     "metadata": {},
     "output_type": "display_data"
    },
    {
     "name": "stdout",
     "output_type": "stream",
     "text": [
      "\n",
      "\n",
      "#########################################################\n",
      "NOTE. Choose: \n",
      "\t1) custom to define new cutoffs\n",
      "\t2) def to use the previously defined cutoffs\n",
      "#########################################################\n",
      "\n"
     ]
    },
    {
     "data": {
      "text/html": [
       "<div>\n",
       "<style scoped>\n",
       "    .dataframe tbody tr th:only-of-type {\n",
       "        vertical-align: middle;\n",
       "    }\n",
       "\n",
       "    .dataframe tbody tr th {\n",
       "        vertical-align: top;\n",
       "    }\n",
       "\n",
       "    .dataframe thead th {\n",
       "        text-align: right;\n",
       "    }\n",
       "</style>\n",
       "<table border=\"1\" class=\"dataframe\">\n",
       "  <thead>\n",
       "    <tr style=\"text-align: right;\">\n",
       "      <th></th>\n",
       "      <th>data_to_evaluate</th>\n",
       "      <th>parameters</th>\n",
       "      <th>cutoff</th>\n",
       "      <th>strategy</th>\n",
       "    </tr>\n",
       "  </thead>\n",
       "  <tbody>\n",
       "  </tbody>\n",
       "</table>\n",
       "</div>"
      ],
      "text/plain": [
       "Empty DataFrame\n",
       "Columns: [data_to_evaluate, parameters, cutoff, strategy]\n",
       "Index: []"
      ]
     },
     "metadata": {},
     "output_type": "display_data"
    }
   ],
   "source": [
    "#Refining cutoffs\n",
    "go_cut = refining_cuts(adata, def_cut)\n",
    "display(go_cut)"
   ]
  },
  {
   "cell_type": "markdown",
   "metadata": {},
   "source": [
    "**E3: FILTERING THE total_counts**\n",
    "\n",
    "Low and high count depth indicates cells with low integrity and doublets, respectively (DOI: 10.15252/msb.20188746)."
   ]
  },
  {
   "cell_type": "code",
   "execution_count": 16,
   "metadata": {
    "ExecuteTime": {
     "end_time": "2022-06-28T11:02:51.295144Z",
     "start_time": "2022-06-28T11:02:32.331063Z"
    },
    "scrolled": false
   },
   "outputs": [
    {
     "ename": "IndexError",
     "evalue": "list index out of range",
     "output_type": "error",
     "traceback": [
      "\u001b[0;31m---------------------------------------------------------------------------\u001b[0m",
      "\u001b[0;31mIndexError\u001b[0m                                Traceback (most recent call last)",
      "\u001b[0;32m/tmp/ipykernel_25029/3773056732.py\u001b[0m in \u001b[0;36m<module>\u001b[0;34m\u001b[0m\n\u001b[1;32m      1\u001b[0m \u001b[0;31m#Filtering the total counts\u001b[0m\u001b[0;34m\u001b[0m\u001b[0;34m\u001b[0m\u001b[0;34m\u001b[0m\u001b[0m\n\u001b[0;32m----> 2\u001b[0;31m \u001b[0madata2\u001b[0m \u001b[0;34m=\u001b[0m \u001b[0manndata_filter\u001b[0m\u001b[0;34m(\u001b[0m\u001b[0madata\u001b[0m\u001b[0;34m,\u001b[0m \u001b[0mgo_cut\u001b[0m\u001b[0;34m)\u001b[0m\u001b[0;34m\u001b[0m\u001b[0;34m\u001b[0m\u001b[0m\n\u001b[0m",
      "\u001b[0;32m~/.conda/envs/py3/lib/python3.7/site-packages/sctoolbox/qc_filter.py\u001b[0m in \u001b[0;36manndata_filter\u001b[0;34m(ANNDATA, GO_CUT)\u001b[0m\n\u001b[1;32m    340\u001b[0m                     \u001b[0mgo_info_cell\u001b[0m\u001b[0;34m.\u001b[0m\u001b[0mappend\u001b[0m\u001b[0;34m(\u001b[0m\u001b[0mm1\u001b[0m \u001b[0;34m+\u001b[0m \u001b[0;34m\"min_genes= \"\u001b[0m \u001b[0;34m+\u001b[0m \u001b[0mstr\u001b[0m\u001b[0;34m(\u001b[0m\u001b[0mmin_cut\u001b[0m\u001b[0;34m)\u001b[0m\u001b[0;34m)\u001b[0m\u001b[0;34m\u001b[0m\u001b[0;34m\u001b[0m\u001b[0m\n\u001b[1;32m    341\u001b[0m \u001b[0;34m\u001b[0m\u001b[0m\n\u001b[0;32m--> 342\u001b[0;31m     \u001b[0mANNDATA_CP2\u001b[0m \u001b[0;34m=\u001b[0m \u001b[0mconcatenating\u001b[0m\u001b[0;34m(\u001b[0m\u001b[0mlst_adata_sub\u001b[0m\u001b[0;34m)\u001b[0m\u001b[0;34m\u001b[0m\u001b[0;34m\u001b[0m\u001b[0m\n\u001b[0m\u001b[1;32m    343\u001b[0m     \u001b[0mlst_adata_sub\u001b[0m \u001b[0;34m=\u001b[0m \u001b[0mlist\u001b[0m\u001b[0;34m(\u001b[0m\u001b[0;34m)\u001b[0m\u001b[0;34m\u001b[0m\u001b[0;34m\u001b[0m\u001b[0m\n\u001b[1;32m    344\u001b[0m \u001b[0;34m\u001b[0m\u001b[0m\n",
      "\u001b[0;32m~/.conda/envs/py3/lib/python3.7/site-packages/sctoolbox/qc_filter.py\u001b[0m in \u001b[0;36mconcatenating\u001b[0;34m(LISTA_ADATA)\u001b[0m\n\u001b[1;32m    280\u001b[0m             \u001b[0madata_conc\u001b[0m \u001b[0;34m=\u001b[0m \u001b[0mLISTA_ADATA\u001b[0m\u001b[0;34m[\u001b[0m\u001b[0;36m0\u001b[0m\u001b[0;34m]\u001b[0m\u001b[0;34m.\u001b[0m\u001b[0mconcatenate\u001b[0m\u001b[0;34m(\u001b[0m\u001b[0mLISTA_ADATA\u001b[0m\u001b[0;34m[\u001b[0m\u001b[0;36m1\u001b[0m\u001b[0;34m:\u001b[0m\u001b[0;34m]\u001b[0m\u001b[0;34m,\u001b[0m \u001b[0mjoin\u001b[0m\u001b[0;34m=\u001b[0m\u001b[0;34m'inner'\u001b[0m\u001b[0;34m,\u001b[0m \u001b[0mbatch_key\u001b[0m\u001b[0;34m=\u001b[0m\u001b[0;32mNone\u001b[0m\u001b[0;34m)\u001b[0m\u001b[0;34m\u001b[0m\u001b[0;34m\u001b[0m\u001b[0m\n\u001b[1;32m    281\u001b[0m         \u001b[0;32melse\u001b[0m\u001b[0;34m:\u001b[0m\u001b[0;34m\u001b[0m\u001b[0;34m\u001b[0m\u001b[0m\n\u001b[0;32m--> 282\u001b[0;31m             \u001b[0madata_conc\u001b[0m \u001b[0;34m=\u001b[0m \u001b[0mLISTA_ADATA\u001b[0m\u001b[0;34m[\u001b[0m\u001b[0;36m0\u001b[0m\u001b[0;34m]\u001b[0m\u001b[0;34m\u001b[0m\u001b[0;34m\u001b[0m\u001b[0m\n\u001b[0m\u001b[1;32m    283\u001b[0m         \u001b[0;32mreturn\u001b[0m \u001b[0madata_conc\u001b[0m\u001b[0;34m\u001b[0m\u001b[0;34m\u001b[0m\u001b[0m\n\u001b[1;32m    284\u001b[0m \u001b[0;34m\u001b[0m\u001b[0m\n",
      "\u001b[0;31mIndexError\u001b[0m: list index out of range"
     ]
    }
   ],
   "source": [
    "#Filtering the total counts\n",
    "adata2 = anndata_filter(adata, go_cut)"
   ]
  },
  {
   "cell_type": "markdown",
   "metadata": {
    "ExecuteTime": {
     "end_time": "2022-05-23T13:09:13.494528Z",
     "start_time": "2022-05-23T13:09:13.491057Z"
    }
   },
   "source": [
    "**E4: DEFINING DEFAULT CUTOFFS FOR THE OTHER PARAMETERS**\n",
    "\n",
    "This step needs to be performed only after satisfatory total_counts filtering.\n",
    "\n",
    "NOTE: use the adata2, because this is the object with the total_counts filtered"
   ]
  },
  {
   "cell_type": "code",
   "execution_count": null,
   "metadata": {
    "ExecuteTime": {
     "end_time": "2022-06-28T11:03:01.193747Z",
     "start_time": "2022-06-28T11:02:52.164582Z"
    },
    "scrolled": false
   },
   "outputs": [],
   "source": [
    "#Defining the default cutoffs for all other parameters\n",
    "def_cut=set_def_cuts(adata2, interval=0.95, save=True)"
   ]
  },
  {
   "cell_type": "markdown",
   "metadata": {
    "ExecuteTime": {
     "end_time": "2022-05-25T06:13:30.229640Z",
     "start_time": "2022-05-25T06:13:30.226091Z"
    }
   },
   "source": [
    "**E5: DEFINING CUSTOM CUTOFFS FOR ALL OTHER VARIABLES**\n",
    "\n",
    "Here you need to use the adata3, because this is the one that had the total_counts already filtered"
   ]
  },
  {
   "cell_type": "code",
   "execution_count": null,
   "metadata": {
    "ExecuteTime": {
     "end_time": "2022-06-28T11:03:11.110157Z",
     "start_time": "2022-06-28T11:03:01.196219Z"
    }
   },
   "outputs": [],
   "source": [
    "#Refining cutoffs\n",
    "go_cut=refining_cuts(adata2, def_cut)\n",
    "display(go_cut)"
   ]
  },
  {
   "cell_type": "markdown",
   "metadata": {},
   "source": [
    "**E6: FILTERING THE OTHER PARAMETERS**"
   ]
  },
  {
   "cell_type": "code",
   "execution_count": null,
   "metadata": {
    "ExecuteTime": {
     "end_time": "2022-06-28T11:03:40.257196Z",
     "start_time": "2022-06-28T11:03:13.738010Z"
    },
    "scrolled": false
   },
   "outputs": [],
   "source": [
    "#Filtering other parameters\n",
    "adata3=anndata_filter(adata2, go_cut)"
   ]
  },
  {
   "cell_type": "markdown",
   "metadata": {
    "ExecuteTime": {
     "end_time": "2022-06-13T13:09:34.519228Z",
     "start_time": "2022-06-13T13:09:34.515398Z"
    }
   },
   "source": [
    "**E7: Remove ribosomal/mitochrondrial/gender genes/and others**\n",
    "\n",
    "Optional"
   ]
  },
  {
   "cell_type": "code",
   "execution_count": null,
   "metadata": {
    "ExecuteTime": {
     "end_time": "2022-06-28T11:03:40.262604Z",
     "start_time": "2022-06-28T11:03:40.259711Z"
    }
   },
   "outputs": [],
   "source": [
    "#remove mitochondrial\n",
    "#adata4 = sctoolbox.qc_filter.filter_genes(adata3, \"is_mitochondrial\")\n",
    "    \n",
    "#remove cell cycle\n",
    "#adata4 = sctoolbox.qc_filter.filter_genes(adata3, \"is_cell_cycle\")\n",
    "\n",
    "#Remove gender genes\n",
    "#adata4 = sctoolbox.qc_filter.filter_genes(adata3, \"is_gender_genes\")\n",
    "\n",
    "#Remove custom genes from list\n",
    "#adata4 = sctoolbox.qc_filter.filter_genes(adata3, \"is_custom\")"
   ]
  },
  {
   "cell_type": "markdown",
   "metadata": {},
   "source": [
    "**E8: Final plotting**"
   ]
  },
  {
   "cell_type": "code",
   "execution_count": null,
   "metadata": {
    "ExecuteTime": {
     "end_time": "2022-06-28T11:03:41.522424Z",
     "start_time": "2022-06-28T11:03:40.264496Z"
    }
   },
   "outputs": [],
   "source": [
    "#Raw anndata\n",
    "set_def_cuts(adata, only_plot=True, save=False)"
   ]
  },
  {
   "cell_type": "code",
   "execution_count": null,
   "metadata": {
    "ExecuteTime": {
     "end_time": "2022-06-28T11:03:48.882393Z",
     "start_time": "2022-06-28T11:03:47.818145Z"
    },
    "scrolled": false
   },
   "outputs": [],
   "source": [
    "#Filtered annadta\n",
    "set_def_cuts(adata3, only_plot=True, save=False)"
   ]
  },
  {
   "cell_type": "markdown",
   "metadata": {},
   "source": [
    "## F: Save the final adata"
   ]
  },
  {
   "cell_type": "code",
   "execution_count": null,
   "metadata": {
    "ExecuteTime": {
     "end_time": "2022-06-28T11:04:03.460774Z",
     "start_time": "2022-06-28T11:03:51.495023Z"
    }
   },
   "outputs": [],
   "source": [
    "#Saving the anndata\n",
    "saving_anndata(adata3, current_notebook=2)"
   ]
  },
  {
   "cell_type": "code",
   "execution_count": null,
   "metadata": {},
   "outputs": [],
   "source": []
  }
 ],
 "metadata": {
  "kernelspec": {
   "display_name": "py3",
   "language": "python",
   "name": "py3"
  },
  "language_info": {
   "codemirror_mode": {
    "name": "ipython",
    "version": 3
   },
   "file_extension": ".py",
   "mimetype": "text/x-python",
   "name": "python",
   "nbconvert_exporter": "python",
   "pygments_lexer": "ipython3",
   "version": "3.7.8"
  }
 },
 "nbformat": 4,
 "nbformat_minor": 4
}
