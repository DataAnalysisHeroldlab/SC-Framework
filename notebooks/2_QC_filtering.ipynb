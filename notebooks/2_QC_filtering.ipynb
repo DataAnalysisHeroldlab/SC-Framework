{
 "cells": [
  {
   "cell_type": "markdown",
   "metadata": {},
   "source": [
    "<h1 align=\"center\">QC and filtering</h1> \n",
    "<hr style=\"border:2px solid black\"> </hr>"
   ]
  },
  {
   "cell_type": "markdown",
   "metadata": {},
   "source": [
    "# A: loading packages and setup"
   ]
  },
  {
   "cell_type": "code",
   "execution_count": 1,
   "metadata": {
    "ExecuteTime": {
     "end_time": "2022-04-25T12:33:25.640089Z",
     "start_time": "2022-04-25T12:33:24.267184Z"
    }
   },
   "outputs": [],
   "source": [
    "#####################IMPORTING PACKAGES AND SETUP################################\n",
    "notebook=2 #Here is the number of present notebook\n",
    "import sctoolbox.checker as checker\n",
    "import scanpy as sc\n",
    "import os\n",
    "from os import path\n",
    "from scipy import sparse\n",
    "import matplotlib.pyplot as plt\n",
    "import numpy as np\n",
    "import seaborn as sns\n",
    "import sctoolbox\n",
    "from sctoolbox.qc_filter import *"
   ]
  },
  {
   "cell_type": "markdown",
   "metadata": {},
   "source": [
    "# B: loading the anndata"
   ]
  },
  {
   "cell_type": "code",
   "execution_count": 2,
   "metadata": {
    "ExecuteTime": {
     "end_time": "2022-04-25T12:33:35.437928Z",
     "start_time": "2022-04-25T12:33:33.022794Z"
    },
    "scrolled": false
   },
   "outputs": [
    {
     "data": {
      "text/plain": [
       "AnnData object with n_obs × n_vars = 20202 × 55359\n",
       "    obs: 'condition'\n",
       "    var: 'gene_ids', 'feature_types'\n",
       "    uns: 'infoprocess'\n",
       "    layers: 'ambiguous', 'spliced', 'unspliced'"
      ]
     },
     "metadata": {},
     "output_type": "display_data"
    }
   ],
   "source": [
    "#Loading adata file and printing num cells and num genes\n",
    "adata = sc.read_h5ad(filename=checker.load_anndata(\"Output_path\", notebook))\n",
    "display(adata)"
   ]
  },
  {
   "cell_type": "markdown",
   "metadata": {},
   "source": [
    "# B: set up parameters. THIS WILL BE DELETED AFTER FINISH THE NOTEBOOK"
   ]
  },
  {
   "cell_type": "code",
   "execution_count": null,
   "metadata": {
    "ExecuteTime": {
     "end_time": "2022-03-01T11:56:03.098840Z",
     "start_time": "2022-03-01T11:56:03.091049Z"
    },
    "code_folding": []
   },
   "outputs": [],
   "source": [
    "#####################DEFINING TEST NUMBER##############################\n",
    "test=\"Test1\"\n",
    "\n",
    "##########################DEFINING IMPUTS##############################\n",
    "path_imput=\"/mnt/agnerds/loosolab_SC_RNA_framework/raw_data\" #This is the directory where the preprocessed data is located\n",
    "\n",
    "#################DEFINING THE STAGE OF ANALYSIS#######################\n",
    "is_it_the_final_run=\"No\" #Set to Yes if this is the final running before send to colaborators\n",
    "\n",
    "########DEFINING THE EXPERIMENTAL CONDITION TO BE EVALUATED###########\n",
    "data_to_evaluate='timepoint' #Define the anndata.obs choose for analysis\n",
    "\n",
    "####################CELL FILTERING########################\n",
    "\n",
    "#Filter dataset based on the Minimum number of genes expressed required for a cell to pass filtering?\n",
    "#Types Yes or No, followed by the minimum QUANTILE for filter. E.g. \"Yes:0.2\"\n",
    "filt_min_gen=\"Yes:0.2\"\n",
    "\n",
    "#Filter dataset excluding cells with some mitochondrial content?\n",
    "#Types Yes or No, followed by the minimum PERCENTAGE for filter (type from 0 to 1). E.g. \"Yes:0.03\"\n",
    "filt_mito_content=\"Yes:0.035\"\n",
    "\n",
    "#Filtering genes concerning expression in a certain number of cells\n",
    "#Types Yes or No, followed by the minimum PERCENTAGE for filter (type from 0 to 1). E.g. \"Yes:0.001\". 0.01 means 1%\n",
    "filt_min_cells=\"Yes:0.01\"\n",
    "\n",
    "#Predict doublets (when different cells are mistakenly considered as a single cell)?\n",
    "test_doublets=\"Yes\"\n",
    "\n",
    "##################GENE FILTERING######################\n",
    "\n",
    "remove_mito = False     #Remove mitochrondrial genes from the anndata object (FALSE: keep, TRUE: remove)\n",
    "remove_ribo = True     #Remove ribosomal genes from the anndata object (FALSE: keep, TRUE: remove)\n",
    "remove_gender = False   #Remove gender-specific genes from the anndata object (FALSE: keep, TRUE: remove)\n",
    "remove_custom = []      #A custom list of genes (names) to remove from the anndata object\n",
    "\n",
    "###################DEFINING COLLORS AND FIGURE PATH####################\n",
    "color_list=['green', 'red', 'blue', 'pink', 'chartreuse', 'gray', 'yellow', 'brown', 'purple', 'orange', 'wheat', 'lightseagreen', 'cyan', 'khaki', 'cornflowerblue', 'olive', 'gainsboro', 'darkmagenta', 'slategray', 'ivory', 'darkorchid', 'papayawhip', 'paleturquoise', 'oldlace', 'orangered', 'lavenderblush', 'gold', 'seagreen', 'deepskyblue', 'lavender', 'peru', 'silver', 'midnightblue', 'antiquewhite', 'blanchedalmond', 'firebrick', 'greenyellow', 'thistle', 'powderblue', 'darkseagreen', 'darkolivegreen', 'moccasin', 'olivedrab', 'mediumseagreen', 'lightgray', 'darkgreen', 'tan', 'yellowgreen', 'peachpuff', 'cornsilk', 'darkblue', 'violet', 'cadetblue', 'palegoldenrod', 'darkturquoise', 'sienna', 'mediumorchid', 'springgreen', 'darkgoldenrod', 'magenta', 'steelblue', 'navy', 'lightgoldenrodyellow', 'saddlebrown', 'aliceblue', 'beige', 'hotpink', 'aquamarine', 'tomato', 'darksalmon', 'navajowhite', 'lawngreen', 'lightsteelblue', 'crimson', 'mediumturquoise', 'mistyrose', 'lightcoral', 'mediumaquamarine', 'mediumblue', 'darkred', 'lightskyblue', 'mediumspringgreen', 'darkviolet', 'royalblue', 'seashell', 'azure', 'lightgreen', 'fuchsia', 'floralwhite', 'mintcream', 'lightcyan', 'bisque', 'deeppink', 'limegreen', 'lightblue', 'darkkhaki', 'maroon', 'aqua', 'lightyellow', 'plum', 'indianred', 'linen', 'honeydew', 'burlywood', 'goldenrod', 'mediumslateblue', 'lime', 'lightslategray', 'forestgreen', 'dimgray', 'lemonchiffon', 'darkgray', 'dodgerblue', 'darkcyan', 'orchid', 'blueviolet', 'mediumpurple', 'darkslategray', 'turquoise', 'salmon', 'lightsalmon', 'coral', 'lightpink', 'slateblue', 'darkslateblue', 'white', 'sandybrown', 'chocolate', 'teal', 'mediumvioletred', 'skyblue', 'snow', 'palegreen', 'ghostwhite', 'indigo', 'rosybrown', 'palevioletred', 'darkorange', 'whitesmoke']"
   ]
  },
  {
   "cell_type": "markdown",
   "metadata": {},
   "source": [
    "# D: Cell QC and filtering"
   ]
  },
  {
   "cell_type": "code",
   "execution_count": null,
   "metadata": {},
   "outputs": [],
   "source": [
    "# Initial filter to remove cells without any genes\n",
    "sc.pp.filter_cells(adata, min_genes=1)"
   ]
  },
  {
   "cell_type": "code",
   "execution_count": null,
   "metadata": {
    "ExecuteTime": {
     "end_time": "2022-03-01T11:56:10.229345Z",
     "start_time": "2022-03-01T11:56:10.207419Z"
    },
    "code_folding": []
   },
   "outputs": [],
   "source": [
    "#Assign mitochondrial genes\n",
    "is_mito = adata.var_names.str.startswith(('mt', 'Mt', 'MT'))\n",
    "adata.var['is_mito'] = is_mito\n",
    "\n",
    "#Assign ribosomal genes\n",
    "is_ribo = adata.var_names.str.startswith((\"RPS\",\"RPL\",\"MRPS\",\"MRPL\",\"Mrps\",\"Mrpl\",\"Rps\",\"Rpl\"))\n",
    "adata.var['is_ribo'] = is_ribo"
   ]
  },
  {
   "cell_type": "code",
   "execution_count": null,
   "metadata": {},
   "outputs": [],
   "source": [
    "#calculating qc metrics. Here, genes counts, num mitochondrial genes, and num cells will be calculated\n",
    "obs_qc, var_qc = sc.pp.calculate_qc_metrics(adata=adata, qc_vars=['is_mito', 'is_ribo'], inplace=False)\n",
    "\n",
    "obs_metrics = ['n_genes_by_counts', 'total_counts', 'log1p_total_counts', 'pct_counts_is_mito', 'pct_counts_is_ribo']\n",
    "adata.obs[obs_metrics] = obs_qc[obs_metrics] #Add metrics to adata.obs"
   ]
  },
  {
   "cell_type": "code",
   "execution_count": null,
   "metadata": {},
   "outputs": [],
   "source": [
    "#Overview of all quality measures\n",
    "filename=\"cell_quality_before_filtering.png\"\n",
    "quality_violin(adata, groupby=data_to_evaluate,\n",
    "                      columns=['n_genes_by_counts', 'log1p_total_counts', 'pct_counts_is_mito', 'pct_counts_is_ribo'],\n",
    "                      header=['Genes expressed (count)', 'Total counts (log)', 'Mitochondrial content (%)', 'Ribosomal content (%)'],\n",
    "                      color_list=color_list,\n",
    "                      title=\"Quality before filtering\",\n",
    "                      save=filename)"
   ]
  },
  {
   "cell_type": "markdown",
   "metadata": {},
   "source": [
    "## Apply individual filters"
   ]
  },
  {
   "cell_type": "code",
   "execution_count": null,
   "metadata": {
    "code_folding": []
   },
   "outputs": [],
   "source": [
    "#Stablishing the filterings cutoff and filtering\n",
    "def filtering_steps(QUANTILE, COND, IDX):\n",
    "    global data_to_evaluate\n",
    "    global conditions\n",
    "    value_append=np.quantile(adata.obs[adata.obs[data_to_evaluate]==conditions[conditions.index(IDX)]][COND], QUANTILE)\n",
    "    return value_append"
   ]
  },
  {
   "cell_type": "markdown",
   "metadata": {},
   "source": [
    "### Minimum number of genes"
   ]
  },
  {
   "cell_type": "code",
   "execution_count": null,
   "metadata": {},
   "outputs": [],
   "source": [
    "#Filtering cells by min genes\n",
    "conditions=adata.obs[data_to_evaluate].unique().tolist()\n",
    "raw_total_genes_content=[]\n",
    "\n",
    "if filt_min_gen.split(\":\")[0] == \"Yes\":\n",
    "    for a in conditions:\n",
    "        raw_total_genes_content.append(filtering_steps(float(filt_min_gen.split(\":\")[1]), \"n_genes_by_counts\", a))\n",
    "    sc.pp.filter_cells(adata, min_genes=min(raw_total_genes_content)) #Minimum number of genes expressed required for a cell to pass filtering.\n",
    "    print(str(adata.shape) + \" Shape after filter by minimun number of expressed genes.\")\n",
    "    print(\"\\tExcluded cells with less than \" + str(int(min(raw_total_genes_content))) + \" genes expressed.\")\n",
    "else:\n",
    "    message_filt(\"It was not choose to filter by the minimum number of genes per cell.\")"
   ]
  },
  {
   "cell_type": "markdown",
   "metadata": {},
   "source": [
    "### Maximum mitochrondrial content"
   ]
  },
  {
   "cell_type": "code",
   "execution_count": null,
   "metadata": {
    "ExecuteTime": {
     "end_time": "2022-03-01T11:56:15.463502Z",
     "start_time": "2022-03-01T11:56:13.620309Z"
    }
   },
   "outputs": [],
   "source": [
    "#Filtering cells by mitochondrial content\n",
    "if filt_mito_content.split(\":\")[0] == \"Yes\":\n",
    "    adata = adata[adata.obs['pct_counts_is_mito'] < float(filt_mito_content.split(\":\")[1])*100]\n",
    "    print(str(adata.shape) + \" Shape after filter mitochondrial content\")\n",
    "    print(\"\\tExcluded cells with more than \" + str(float(filt_mito_content.split(\":\")[1])*100) + \" mitochondrial counts.\")\n",
    "else:\n",
    "    message_filt(\"It was not choose to filter by the mitochondrial content.\")"
   ]
  },
  {
   "cell_type": "markdown",
   "metadata": {},
   "source": [
    "### Doublet filtering"
   ]
  },
  {
   "cell_type": "raw",
   "metadata": {},
   "source": [
    "███████ ██ ██      ██          ██   ██ ███████ ██████  ███████              ██  \n",
    "██      ██ ██      ██          ██   ██ ██      ██   ██ ██          ██        ██ \n",
    "█████   ██ ██      ██          ███████ █████   ██████  █████          █████  ██ \n",
    "██      ██ ██      ██          ██   ██ ██      ██   ██ ██          ██        ██ \n",
    "██      ██ ███████ ███████     ██   ██ ███████ ██   ██ ███████              ██    "
   ]
  },
  {
   "cell_type": "markdown",
   "metadata": {},
   "source": [
    "## Final violin plot"
   ]
  },
  {
   "cell_type": "code",
   "execution_count": null,
   "metadata": {},
   "outputs": [],
   "source": [
    "filename=\"cell_quality_after_filtering.png\"\n",
    "\n",
    "quality_violin(adata, groupby=data_to_evaluate,\n",
    "                      columns=['n_genes_by_counts', 'log1p_total_counts', 'pct_counts_is_mito', 'pct_counts_is_ribo'],\n",
    "                      header=['Genes expressed (count)', 'Total counts (log)', 'Mitochondrial content (%)', 'Ribosomal content (%)'],\n",
    "                      color_list=color_list,\n",
    "                      title=\"Quality after filtering\",\n",
    "                      save=filename)"
   ]
  },
  {
   "cell_type": "markdown",
   "metadata": {},
   "source": [
    "---------------"
   ]
  },
  {
   "cell_type": "markdown",
   "metadata": {},
   "source": [
    "# E: Gene QC and filtering"
   ]
  },
  {
   "cell_type": "code",
   "execution_count": null,
   "metadata": {},
   "outputs": [],
   "source": [
    "#Plotting highest expressed genes\n",
    "sc.pl.highest_expr_genes(adata, n_top=20, show=False)"
   ]
  },
  {
   "cell_type": "code",
   "execution_count": null,
   "metadata": {},
   "outputs": [],
   "source": [
    "#calculating qc metrics for genes\n",
    "_, var_qc = sc.pp.calculate_qc_metrics(adata=adata, inplace=False)\n",
    "\n",
    "var_metrics = ['n_cells_by_counts', 'mean_counts', 'log1p_mean_counts']\n",
    "adata.var[var_metrics] = var_qc[var_metrics] #Add metrics to adata.var"
   ]
  },
  {
   "cell_type": "markdown",
   "metadata": {},
   "source": [
    "### Filtering genes concerning expression in a certain number of cells"
   ]
  },
  {
   "cell_type": "code",
   "execution_count": null,
   "metadata": {},
   "outputs": [],
   "source": [
    "if filt_min_cells.split(\":\")[0] == \"Yes\":\n",
    "    X_cells=round((float(adata.shape[0])*(float(filt_min_cells.split(\":\")[1])*100))/100) #Min num cells of a given gene needs to be present to pass the filter\n",
    "    sc.pp.filter_genes(adata, min_cells = X_cells)\n",
    "    print(\"\\tExcluded genes expressed in less than \" + str(X_cells) + \" cells.\")\n",
    "    print(str(adata.shape) + \" Final shape\")"
   ]
  },
  {
   "cell_type": "markdown",
   "metadata": {},
   "source": [
    "### Remove ribosomal/mitochrondrial/gender genes"
   ]
  },
  {
   "cell_type": "code",
   "execution_count": null,
   "metadata": {},
   "outputs": [],
   "source": [
    "#remove ribosomal genes\n",
    "if remove_ribo: \n",
    "    ribo_genes = adata.var_names[adata.var['is_ribo']]\n",
    "    print(\"Ribosomal filtering:\")\n",
    "    adata = sctoolbox.qc_filter.filter_genes(adata, ribo_genes)\n",
    "    \n",
    "#remove mitochrondrial genes\n",
    "if remove_mito: \n",
    "    mito_genes = adata.var_names[adata.var['is_mito']]\n",
    "    print(\"Mitochrondrial filtering:\")\n",
    "    adata = sctoolbox.qc_filter.filter_genes(adata, mito_genes)\n",
    "\n",
    "#Remove gender genes\n",
    "if remove_gender:\n",
    "    pass\n",
    "    #TODO\n",
    "    #get gender genes\n",
    "    #adata = sctoolbox.qc_filter.filter_genes(adata, gender_genes)\n",
    "    \n",
    "#Remove custom genes from list\n",
    "if len(remove_custom) > 0:\n",
    "    adata = sctoolbox.qc_filter.filter_genes(adata, remove_custom)"
   ]
  },
  {
   "cell_type": "markdown",
   "metadata": {},
   "source": [
    "-----------------------------"
   ]
  },
  {
   "cell_type": "markdown",
   "metadata": {},
   "source": [
    "# F: Save the final adata"
   ]
  },
  {
   "cell_type": "code",
   "execution_count": null,
   "metadata": {},
   "outputs": [],
   "source": [
    "path_results=path_imput"
   ]
  },
  {
   "cell_type": "code",
   "execution_count": null,
   "metadata": {},
   "outputs": [],
   "source": [
    "#Saving the anndata\n",
    "print(\"Saving the anndata.\")\n",
    "adata_output= path_results + \"/anndata_2_\" + test +\".h5ad\"\n",
    "adata.write(filename=adata_output)"
   ]
  },
  {
   "cell_type": "markdown",
   "metadata": {},
   "source": [
    "# G: Saving information"
   ]
  },
  {
   "cell_type": "code",
   "execution_count": null,
   "metadata": {
    "ExecuteTime": {
     "end_time": "2022-03-01T11:56:33.774684Z",
     "start_time": "2022-03-01T11:56:33.768498Z"
    }
   },
   "outputs": [],
   "source": [
    "display(adata)\n",
    "displayoutput=str(adata)\n",
    "information=\"\\n2_QC_filtering\\n\" + \"\\nOutput_2:anndata_2_\" + test + \".h5ad\" + \"\\nAnndata:\\n\" + displayoutput\n",
    "print(information, file=open(path_results + \"/information.txt\", \"a\"))"
   ]
  }
 ],
 "metadata": {
  "kernelspec": {
   "display_name": "scRNAseq",
   "language": "python",
   "name": "scrnaseq"
  },
  "language_info": {
   "codemirror_mode": {
    "name": "ipython",
    "version": 3
   },
   "file_extension": ".py",
   "mimetype": "text/x-python",
   "name": "python",
   "nbconvert_exporter": "python",
   "pygments_lexer": "ipython3",
   "version": "3.8.10"
  }
 },
 "nbformat": 4,
 "nbformat_minor": 4
}
