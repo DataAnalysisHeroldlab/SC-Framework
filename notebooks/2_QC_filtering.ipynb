{
 "cells": [
  {
   "cell_type": "markdown",
   "metadata": {},
   "source": [
    "<h1 align=\"center\">QC and filtering</h1> \n",
    "<hr style=\"border:2px solid black\"> </hr>"
   ]
  },
  {
   "cell_type": "markdown",
   "metadata": {},
   "source": [
    "**Quality control**\n",
    "\n",
    "\"We must ensure that all cellular barcode data correspond to viable cells.\n",
    "\n",
    "Cell QC is commonly performed based on three QC covariates: the number of counts per barcode (count depth), the number of genes per barcode, and the fraction of counts from mitochondrial genes per barcode.\n",
    "\n",
    "The distributions of these QC covariates are examined for outlier peaks that are filtered out by thresholding.\n",
    "\n",
    "These outlier barcodes can correspond to dying cells, cells whose membranes are broken, or doublets\".\n",
    "\n",
    "Samples with a low count depth, few detected genes, and a high fraction of mitochondrial counts are indicative of cells whose cytoplasmic mRNA has leaked out through a broken membrane.\n",
    "\n",
    "In contrast, cells with unexpectedly high counts and a large number of detected genes may represent doublets.\n",
    "\n",
    "**DOI: 10.15252/msb.20188746**"
   ]
  },
  {
   "cell_type": "markdown",
   "metadata": {},
   "source": [
    "-------------"
   ]
  },
  {
   "cell_type": "markdown",
   "metadata": {},
   "source": [
    "## vvv Fill in input data here vvv"
   ]
  },
  {
   "cell_type": "code",
   "execution_count": 2,
   "metadata": {},
   "outputs": [],
   "source": [
    "species = \"human\"\n",
    "sample_column = \"donor\"\n",
    "gene_column = \"gene_name\""
   ]
  },
  {
   "cell_type": "markdown",
   "metadata": {},
   "source": [
    "---------------"
   ]
  },
  {
   "cell_type": "markdown",
   "metadata": {},
   "source": [
    "# A: loading packages and setup"
   ]
  },
  {
   "cell_type": "code",
   "execution_count": 1,
   "metadata": {
    "ExecuteTime": {
     "end_time": "2022-06-28T11:00:30.872371Z",
     "start_time": "2022-06-28T11:00:28.955891Z"
    }
   },
   "outputs": [],
   "source": [
    "#####################IMPORTING PACKAGES#############################\n",
    "import sctoolbox\n",
    "import sctoolbox.marker_genes as marker_genes\n",
    "import sctoolbox.utilities as utils\n",
    "import sctoolbox.analyser as analyser\n",
    "\n",
    "from sctoolbox.checker import *\n",
    "from sctoolbox.creators import *\n",
    "from sctoolbox.qc_filter import *\n",
    "from sctoolbox.analyser import *\n",
    "from sctoolbox.plotting import *\n",
    "from sctoolbox.marker_genes import *\n",
    "from sctoolbox.utilities import *"
   ]
  },
  {
   "cell_type": "markdown",
   "metadata": {},
   "source": [
    "# B: loading the anndata setting the condition"
   ]
  },
  {
   "cell_type": "code",
   "execution_count": 3,
   "metadata": {
    "ExecuteTime": {
     "end_time": "2022-06-28T11:00:36.416927Z",
     "start_time": "2022-06-28T11:00:31.340986Z"
    },
    "scrolled": false
   },
   "outputs": [
    {
     "data": {
      "text/plain": [
       "AnnData object with n_obs × n_vars = 8000 × 10000\n",
       "    obs: 'donor'\n",
       "    var: 'gene_name'\n",
       "    uns: 'color_set', 'infoprocess'"
      ]
     },
     "metadata": {},
     "output_type": "display_data"
    }
   ],
   "source": [
    "adata = utils.load_anndata(is_from_previous_note=True, which_notebook=1, data_to_evaluate=sample_column)\n",
    "display(adata)"
   ]
  },
  {
   "cell_type": "markdown",
   "metadata": {},
   "source": [
    "# C: Labelling genes"
   ]
  },
  {
   "cell_type": "code",
   "execution_count": 4,
   "metadata": {},
   "outputs": [],
   "source": [
    "adata.uns[\"infoprocess\"][\"species\"] = species"
   ]
  },
  {
   "cell_type": "code",
   "execution_count": 5,
   "metadata": {
    "ExecuteTime": {
     "end_time": "2022-06-28T11:00:45.647678Z",
     "start_time": "2022-06-28T11:00:36.419588Z"
    },
    "scrolled": false
   },
   "outputs": [
    {
     "data": {
      "text/plain": [
       "['is_ribo', 'is_mito', 'is_gender']"
      ]
     },
     "metadata": {},
     "output_type": "display_data"
    }
   ],
   "source": [
    "mg.label_genes(adata, gene_column=gene_column)\n",
    "\n",
    "display(adata.uns[\"infoprocess\"][\"genes_labeled\"])"
   ]
  },
  {
   "cell_type": "markdown",
   "metadata": {},
   "source": [
    "# D: Calculating QC metrics"
   ]
  },
  {
   "cell_type": "code",
   "execution_count": 6,
   "metadata": {
    "ExecuteTime": {
     "end_time": "2022-06-28T11:01:14.194126Z",
     "start_time": "2022-06-28T11:00:46.479647Z"
    }
   },
   "outputs": [],
   "source": [
    "#Calculating QC metrics\n",
    "#If control_var=True, the anndata.var labeled genes you want to control the metrics calculation\n",
    "adata = analyser.qcmetric_calculator(adata, control_var=True)"
   ]
  },
  {
   "cell_type": "code",
   "execution_count": 14,
   "metadata": {},
   "outputs": [
    {
     "data": {
      "text/html": [
       "<div>\n",
       "<style scoped>\n",
       "    .dataframe tbody tr th:only-of-type {\n",
       "        vertical-align: middle;\n",
       "    }\n",
       "\n",
       "    .dataframe tbody tr th {\n",
       "        vertical-align: top;\n",
       "    }\n",
       "\n",
       "    .dataframe thead th {\n",
       "        text-align: right;\n",
       "    }\n",
       "</style>\n",
       "<table border=\"1\" class=\"dataframe\">\n",
       "  <thead>\n",
       "    <tr style=\"text-align: right;\">\n",
       "      <th></th>\n",
       "      <th>donor</th>\n",
       "      <th>n_genes_by_counts</th>\n",
       "      <th>total_counts</th>\n",
       "      <th>log1p_total_counts</th>\n",
       "      <th>total_counts_is_ribo</th>\n",
       "      <th>pct_counts_is_ribo</th>\n",
       "      <th>total_counts_is_mito</th>\n",
       "      <th>pct_counts_is_mito</th>\n",
       "      <th>total_counts_is_gender</th>\n",
       "      <th>pct_counts_is_gender</th>\n",
       "    </tr>\n",
       "  </thead>\n",
       "  <tbody>\n",
       "    <tr>\n",
       "      <th>AAGCAAGAGATAGA-1-A</th>\n",
       "      <td>A</td>\n",
       "      <td>367</td>\n",
       "      <td>1092.0</td>\n",
       "      <td>6.996682</td>\n",
       "      <td>548.0</td>\n",
       "      <td>50.183151</td>\n",
       "      <td>0.0</td>\n",
       "      <td>0.0</td>\n",
       "      <td>0.0</td>\n",
       "      <td>0.0</td>\n",
       "    </tr>\n",
       "    <tr>\n",
       "      <th>CACGGGACGAGGCA-1-B</th>\n",
       "      <td>B</td>\n",
       "      <td>635</td>\n",
       "      <td>2330.0</td>\n",
       "      <td>7.754053</td>\n",
       "      <td>1149.0</td>\n",
       "      <td>49.313305</td>\n",
       "      <td>0.0</td>\n",
       "      <td>0.0</td>\n",
       "      <td>0.0</td>\n",
       "      <td>0.0</td>\n",
       "    </tr>\n",
       "    <tr>\n",
       "      <th>TAGTTAGACATGAC-1-B</th>\n",
       "      <td>B</td>\n",
       "      <td>213</td>\n",
       "      <td>347.0</td>\n",
       "      <td>5.852202</td>\n",
       "      <td>51.0</td>\n",
       "      <td>14.697406</td>\n",
       "      <td>0.0</td>\n",
       "      <td>0.0</td>\n",
       "      <td>0.0</td>\n",
       "      <td>0.0</td>\n",
       "    </tr>\n",
       "    <tr>\n",
       "      <th>TCTCCACTTAGAGA-1-A</th>\n",
       "      <td>A</td>\n",
       "      <td>518</td>\n",
       "      <td>1820.0</td>\n",
       "      <td>7.507141</td>\n",
       "      <td>947.0</td>\n",
       "      <td>52.032967</td>\n",
       "      <td>0.0</td>\n",
       "      <td>0.0</td>\n",
       "      <td>0.0</td>\n",
       "      <td>0.0</td>\n",
       "    </tr>\n",
       "    <tr>\n",
       "      <th>GCGAGCACGACACT-1-A</th>\n",
       "      <td>A</td>\n",
       "      <td>493</td>\n",
       "      <td>1395.0</td>\n",
       "      <td>7.241366</td>\n",
       "      <td>609.0</td>\n",
       "      <td>43.655914</td>\n",
       "      <td>0.0</td>\n",
       "      <td>0.0</td>\n",
       "      <td>0.0</td>\n",
       "      <td>0.0</td>\n",
       "    </tr>\n",
       "    <tr>\n",
       "      <th>...</th>\n",
       "      <td>...</td>\n",
       "      <td>...</td>\n",
       "      <td>...</td>\n",
       "      <td>...</td>\n",
       "      <td>...</td>\n",
       "      <td>...</td>\n",
       "      <td>...</td>\n",
       "      <td>...</td>\n",
       "      <td>...</td>\n",
       "      <td>...</td>\n",
       "    </tr>\n",
       "    <tr>\n",
       "      <th>GAGTCTGAGGCAAG-1-C</th>\n",
       "      <td>C</td>\n",
       "      <td>818</td>\n",
       "      <td>2509.0</td>\n",
       "      <td>7.828038</td>\n",
       "      <td>576.0</td>\n",
       "      <td>22.957354</td>\n",
       "      <td>0.0</td>\n",
       "      <td>0.0</td>\n",
       "      <td>0.0</td>\n",
       "      <td>0.0</td>\n",
       "    </tr>\n",
       "    <tr>\n",
       "      <th>CCTAAGGAACCACA-1-B</th>\n",
       "      <td>B</td>\n",
       "      <td>516</td>\n",
       "      <td>1050.0</td>\n",
       "      <td>6.957498</td>\n",
       "      <td>157.0</td>\n",
       "      <td>14.952381</td>\n",
       "      <td>0.0</td>\n",
       "      <td>0.0</td>\n",
       "      <td>0.0</td>\n",
       "      <td>0.0</td>\n",
       "    </tr>\n",
       "    <tr>\n",
       "      <th>TCAGTTACGGGAGT-1-B</th>\n",
       "      <td>B</td>\n",
       "      <td>446</td>\n",
       "      <td>1066.0</td>\n",
       "      <td>6.972606</td>\n",
       "      <td>269.0</td>\n",
       "      <td>25.234520</td>\n",
       "      <td>0.0</td>\n",
       "      <td>0.0</td>\n",
       "      <td>0.0</td>\n",
       "      <td>0.0</td>\n",
       "    </tr>\n",
       "    <tr>\n",
       "      <th>TAGGTCGATCAGTG-1-C</th>\n",
       "      <td>C</td>\n",
       "      <td>304</td>\n",
       "      <td>862.0</td>\n",
       "      <td>6.760415</td>\n",
       "      <td>425.0</td>\n",
       "      <td>49.303944</td>\n",
       "      <td>0.0</td>\n",
       "      <td>0.0</td>\n",
       "      <td>0.0</td>\n",
       "      <td>0.0</td>\n",
       "    </tr>\n",
       "    <tr>\n",
       "      <th>ACGCTGCTTTACTC-1-B</th>\n",
       "      <td>B</td>\n",
       "      <td>505</td>\n",
       "      <td>1233.0</td>\n",
       "      <td>7.118016</td>\n",
       "      <td>244.0</td>\n",
       "      <td>19.789133</td>\n",
       "      <td>0.0</td>\n",
       "      <td>0.0</td>\n",
       "      <td>0.0</td>\n",
       "      <td>0.0</td>\n",
       "    </tr>\n",
       "  </tbody>\n",
       "</table>\n",
       "<p>8000 rows × 10 columns</p>\n",
       "</div>"
      ],
      "text/plain": [
       "                   donor  n_genes_by_counts  total_counts  log1p_total_counts  \\\n",
       "AAGCAAGAGATAGA-1-A     A                367        1092.0            6.996682   \n",
       "CACGGGACGAGGCA-1-B     B                635        2330.0            7.754053   \n",
       "TAGTTAGACATGAC-1-B     B                213         347.0            5.852202   \n",
       "TCTCCACTTAGAGA-1-A     A                518        1820.0            7.507141   \n",
       "GCGAGCACGACACT-1-A     A                493        1395.0            7.241366   \n",
       "...                  ...                ...           ...                 ...   \n",
       "GAGTCTGAGGCAAG-1-C     C                818        2509.0            7.828038   \n",
       "CCTAAGGAACCACA-1-B     B                516        1050.0            6.957498   \n",
       "TCAGTTACGGGAGT-1-B     B                446        1066.0            6.972606   \n",
       "TAGGTCGATCAGTG-1-C     C                304         862.0            6.760415   \n",
       "ACGCTGCTTTACTC-1-B     B                505        1233.0            7.118016   \n",
       "\n",
       "                    total_counts_is_ribo  pct_counts_is_ribo  \\\n",
       "AAGCAAGAGATAGA-1-A                 548.0           50.183151   \n",
       "CACGGGACGAGGCA-1-B                1149.0           49.313305   \n",
       "TAGTTAGACATGAC-1-B                  51.0           14.697406   \n",
       "TCTCCACTTAGAGA-1-A                 947.0           52.032967   \n",
       "GCGAGCACGACACT-1-A                 609.0           43.655914   \n",
       "...                                  ...                 ...   \n",
       "GAGTCTGAGGCAAG-1-C                 576.0           22.957354   \n",
       "CCTAAGGAACCACA-1-B                 157.0           14.952381   \n",
       "TCAGTTACGGGAGT-1-B                 269.0           25.234520   \n",
       "TAGGTCGATCAGTG-1-C                 425.0           49.303944   \n",
       "ACGCTGCTTTACTC-1-B                 244.0           19.789133   \n",
       "\n",
       "                    total_counts_is_mito  pct_counts_is_mito  \\\n",
       "AAGCAAGAGATAGA-1-A                   0.0                 0.0   \n",
       "CACGGGACGAGGCA-1-B                   0.0                 0.0   \n",
       "TAGTTAGACATGAC-1-B                   0.0                 0.0   \n",
       "TCTCCACTTAGAGA-1-A                   0.0                 0.0   \n",
       "GCGAGCACGACACT-1-A                   0.0                 0.0   \n",
       "...                                  ...                 ...   \n",
       "GAGTCTGAGGCAAG-1-C                   0.0                 0.0   \n",
       "CCTAAGGAACCACA-1-B                   0.0                 0.0   \n",
       "TCAGTTACGGGAGT-1-B                   0.0                 0.0   \n",
       "TAGGTCGATCAGTG-1-C                   0.0                 0.0   \n",
       "ACGCTGCTTTACTC-1-B                   0.0                 0.0   \n",
       "\n",
       "                    total_counts_is_gender  pct_counts_is_gender  \n",
       "AAGCAAGAGATAGA-1-A                     0.0                   0.0  \n",
       "CACGGGACGAGGCA-1-B                     0.0                   0.0  \n",
       "TAGTTAGACATGAC-1-B                     0.0                   0.0  \n",
       "TCTCCACTTAGAGA-1-A                     0.0                   0.0  \n",
       "GCGAGCACGACACT-1-A                     0.0                   0.0  \n",
       "...                                    ...                   ...  \n",
       "GAGTCTGAGGCAAG-1-C                     0.0                   0.0  \n",
       "CCTAAGGAACCACA-1-B                     0.0                   0.0  \n",
       "TCAGTTACGGGAGT-1-B                     0.0                   0.0  \n",
       "TAGGTCGATCAGTG-1-C                     0.0                   0.0  \n",
       "ACGCTGCTTTACTC-1-B                     0.0                   0.0  \n",
       "\n",
       "[8000 rows x 10 columns]"
      ]
     },
     "execution_count": 14,
     "metadata": {},
     "output_type": "execute_result"
    }
   ],
   "source": [
    "adata.obs"
   ]
  },
  {
   "cell_type": "markdown",
   "metadata": {},
   "source": [
    "# E: Establishing the cutoffs for QC and filtering steps"
   ]
  },
  {
   "cell_type": "markdown",
   "metadata": {},
   "source": [
    "**E1: DEFINING DEFAULT CUTOFFS FOR THE total_counts**\n",
    "\n",
    "Low and high count depth indicates cells with low integrity and doublets, respectively (DOI: 10.15252/msb.20188746)."
   ]
  },
  {
   "cell_type": "code",
   "execution_count": 7,
   "metadata": {
    "ExecuteTime": {
     "end_time": "2022-06-28T11:01:16.012592Z",
     "start_time": "2022-06-28T11:01:14.198088Z"
    }
   },
   "outputs": [
    {
     "data": {
      "image/png": "[encoded data removed]",
      "text/plain": [
       "<Figure size 1080x720 with 6 Axes>"
      ]
     },
     "metadata": {
      "needs_background": "light"
     },
     "output_type": "display_data"
    }
   ],
   "source": [
    "#Defining the default cutoffs for total_counts and ploting data\n",
    "def_cut = set_def_cuts(adata, interval=0.95, save=True)"
   ]
  },
  {
   "cell_type": "code",
   "execution_count": 11,
   "metadata": {},
   "outputs": [
    {
     "data": {
      "text/html": [
       "<div>\n",
       "<style scoped>\n",
       "    .dataframe tbody tr th:only-of-type {\n",
       "        vertical-align: middle;\n",
       "    }\n",
       "\n",
       "    .dataframe tbody tr th {\n",
       "        vertical-align: top;\n",
       "    }\n",
       "\n",
       "    .dataframe thead th {\n",
       "        text-align: right;\n",
       "    }\n",
       "</style>\n",
       "<table border=\"1\" class=\"dataframe\">\n",
       "  <thead>\n",
       "    <tr style=\"text-align: right;\">\n",
       "      <th></th>\n",
       "      <th>data_to_evaluate</th>\n",
       "      <th>parameters</th>\n",
       "      <th>cutoff</th>\n",
       "      <th>strategy</th>\n",
       "    </tr>\n",
       "  </thead>\n",
       "  <tbody>\n",
       "  </tbody>\n",
       "</table>\n",
       "</div>"
      ],
      "text/plain": [
       "Empty DataFrame\n",
       "Columns: [data_to_evaluate, parameters, cutoff, strategy]\n",
       "Index: []"
      ]
     },
     "execution_count": 11,
     "metadata": {},
     "output_type": "execute_result"
    }
   ],
   "source": [
    "def_cut"
   ]
  },
  {
   "cell_type": "markdown",
   "metadata": {
    "ExecuteTime": {
     "end_time": "2022-05-23T08:17:32.639612Z",
     "start_time": "2022-05-23T08:17:32.636065Z"
    }
   },
   "source": [
    "**E2: DEFINING CUSTOM CUTOFFS FOR total_counts**"
   ]
  },
  {
   "cell_type": "code",
   "execution_count": 8,
   "metadata": {
    "ExecuteTime": {
     "end_time": "2022-06-28T11:02:26.293213Z",
     "start_time": "2022-06-28T11:02:04.818402Z"
    },
    "scrolled": false
   },
   "outputs": [
    {
     "name": "stdout",
     "output_type": "stream",
     "text": [
      "The default setting is:\n"
     ]
    },
    {
     "data": {
      "text/html": [
       "<div>\n",
       "<style scoped>\n",
       "    .dataframe tbody tr th:only-of-type {\n",
       "        vertical-align: middle;\n",
       "    }\n",
       "\n",
       "    .dataframe tbody tr th {\n",
       "        vertical-align: top;\n",
       "    }\n",
       "\n",
       "    .dataframe thead th {\n",
       "        text-align: right;\n",
       "    }\n",
       "</style>\n",
       "<table border=\"1\" class=\"dataframe\">\n",
       "  <thead>\n",
       "    <tr style=\"text-align: right;\">\n",
       "      <th></th>\n",
       "      <th>data_to_evaluate</th>\n",
       "      <th>parameters</th>\n",
       "      <th>cutoff</th>\n",
       "      <th>strategy</th>\n",
       "    </tr>\n",
       "  </thead>\n",
       "  <tbody>\n",
       "  </tbody>\n",
       "</table>\n",
       "</div>"
      ],
      "text/plain": [
       "Empty DataFrame\n",
       "Columns: [data_to_evaluate, parameters, cutoff, strategy]\n",
       "Index: []"
      ]
     },
     "metadata": {},
     "output_type": "display_data"
    },
    {
     "name": "stdout",
     "output_type": "stream",
     "text": [
      "\n",
      "\n",
      "#########################################################\n",
      "NOTE. Choose: \n",
      "\t1) custom to define new cutoffs\n",
      "\t2) def to use the previously defined cutoffs\n",
      "#########################################################\n",
      "\n"
     ]
    },
    {
     "data": {
      "text/html": [
       "<div>\n",
       "<style scoped>\n",
       "    .dataframe tbody tr th:only-of-type {\n",
       "        vertical-align: middle;\n",
       "    }\n",
       "\n",
       "    .dataframe tbody tr th {\n",
       "        vertical-align: top;\n",
       "    }\n",
       "\n",
       "    .dataframe thead th {\n",
       "        text-align: right;\n",
       "    }\n",
       "</style>\n",
       "<table border=\"1\" class=\"dataframe\">\n",
       "  <thead>\n",
       "    <tr style=\"text-align: right;\">\n",
       "      <th></th>\n",
       "      <th>data_to_evaluate</th>\n",
       "      <th>parameters</th>\n",
       "      <th>cutoff</th>\n",
       "      <th>strategy</th>\n",
       "    </tr>\n",
       "  </thead>\n",
       "  <tbody>\n",
       "  </tbody>\n",
       "</table>\n",
       "</div>"
      ],
      "text/plain": [
       "Empty DataFrame\n",
       "Columns: [data_to_evaluate, parameters, cutoff, strategy]\n",
       "Index: []"
      ]
     },
     "metadata": {},
     "output_type": "display_data"
    }
   ],
   "source": [
    "#Refining cutoffs\n",
    "go_cut = refining_cuts(adata, def_cut)\n",
    "display(go_cut)"
   ]
  },
  {
   "cell_type": "code",
   "execution_count": 10,
   "metadata": {},
   "outputs": [
    {
     "data": {
      "text/html": [
       "<div>\n",
       "<style scoped>\n",
       "    .dataframe tbody tr th:only-of-type {\n",
       "        vertical-align: middle;\n",
       "    }\n",
       "\n",
       "    .dataframe tbody tr th {\n",
       "        vertical-align: top;\n",
       "    }\n",
       "\n",
       "    .dataframe thead th {\n",
       "        text-align: right;\n",
       "    }\n",
       "</style>\n",
       "<table border=\"1\" class=\"dataframe\">\n",
       "  <thead>\n",
       "    <tr style=\"text-align: right;\">\n",
       "      <th></th>\n",
       "      <th>data_to_evaluate</th>\n",
       "      <th>parameters</th>\n",
       "      <th>cutoff</th>\n",
       "      <th>strategy</th>\n",
       "    </tr>\n",
       "  </thead>\n",
       "  <tbody>\n",
       "  </tbody>\n",
       "</table>\n",
       "</div>"
      ],
      "text/plain": [
       "Empty DataFrame\n",
       "Columns: [data_to_evaluate, parameters, cutoff, strategy]\n",
       "Index: []"
      ]
     },
     "execution_count": 10,
     "metadata": {},
     "output_type": "execute_result"
    }
   ],
   "source": [
    "go_cut"
   ]
  },
  {
   "cell_type": "markdown",
   "metadata": {},
   "source": [
    "**E3: FILTERING THE total_counts**\n",
    "\n",
    "Low and high count depth indicates cells with low integrity and doublets, respectively (DOI: 10.15252/msb.20188746)."
   ]
  },
  {
   "cell_type": "code",
   "execution_count": 9,
   "metadata": {
    "ExecuteTime": {
     "end_time": "2022-06-28T11:02:51.295144Z",
     "start_time": "2022-06-28T11:02:32.331063Z"
    },
    "scrolled": false
   },
   "outputs": [
    {
     "ename": "IndexError",
     "evalue": "list index out of range",
     "output_type": "error",
     "traceback": [
      "\u001b[0;31m---------------------------------------------------------------------------\u001b[0m",
      "\u001b[0;31mIndexError\u001b[0m                                Traceback (most recent call last)",
      "\u001b[0;32m/tmp/ipykernel_30643/508658511.py\u001b[0m in \u001b[0;36m<module>\u001b[0;34m\u001b[0m\n\u001b[1;32m      1\u001b[0m \u001b[0;31m#Filtering the total counts\u001b[0m\u001b[0;34m\u001b[0m\u001b[0;34m\u001b[0m\u001b[0;34m\u001b[0m\u001b[0m\n\u001b[0;32m----> 2\u001b[0;31m \u001b[0madata2\u001b[0m\u001b[0;34m=\u001b[0m\u001b[0manndata_filter\u001b[0m\u001b[0;34m(\u001b[0m\u001b[0madata\u001b[0m\u001b[0;34m,\u001b[0m \u001b[0mgo_cut\u001b[0m\u001b[0;34m)\u001b[0m\u001b[0;34m\u001b[0m\u001b[0;34m\u001b[0m\u001b[0m\n\u001b[0m",
      "\u001b[0;32m~/.conda/envs/py3/lib/python3.7/site-packages/sctoolbox/qc_filter.py\u001b[0m in \u001b[0;36manndata_filter\u001b[0;34m(ANNDATA, GO_CUT)\u001b[0m\n\u001b[1;32m    340\u001b[0m                     \u001b[0mgo_info_cell\u001b[0m\u001b[0;34m.\u001b[0m\u001b[0mappend\u001b[0m\u001b[0;34m(\u001b[0m\u001b[0mm1\u001b[0m \u001b[0;34m+\u001b[0m \u001b[0;34m\"min_genes= \"\u001b[0m \u001b[0;34m+\u001b[0m \u001b[0mstr\u001b[0m\u001b[0;34m(\u001b[0m\u001b[0mmin_cut\u001b[0m\u001b[0;34m)\u001b[0m\u001b[0;34m)\u001b[0m\u001b[0;34m\u001b[0m\u001b[0;34m\u001b[0m\u001b[0m\n\u001b[1;32m    341\u001b[0m \u001b[0;34m\u001b[0m\u001b[0m\n\u001b[0;32m--> 342\u001b[0;31m     \u001b[0mANNDATA_CP2\u001b[0m \u001b[0;34m=\u001b[0m \u001b[0mconcatenating\u001b[0m\u001b[0;34m(\u001b[0m\u001b[0mlst_adata_sub\u001b[0m\u001b[0;34m)\u001b[0m\u001b[0;34m\u001b[0m\u001b[0;34m\u001b[0m\u001b[0m\n\u001b[0m\u001b[1;32m    343\u001b[0m     \u001b[0mlst_adata_sub\u001b[0m \u001b[0;34m=\u001b[0m \u001b[0mlist\u001b[0m\u001b[0;34m(\u001b[0m\u001b[0;34m)\u001b[0m\u001b[0;34m\u001b[0m\u001b[0;34m\u001b[0m\u001b[0m\n\u001b[1;32m    344\u001b[0m \u001b[0;34m\u001b[0m\u001b[0m\n",
      "\u001b[0;32m~/.conda/envs/py3/lib/python3.7/site-packages/sctoolbox/qc_filter.py\u001b[0m in \u001b[0;36mconcatenating\u001b[0;34m(LISTA_ADATA)\u001b[0m\n\u001b[1;32m    280\u001b[0m             \u001b[0madata_conc\u001b[0m \u001b[0;34m=\u001b[0m \u001b[0mLISTA_ADATA\u001b[0m\u001b[0;34m[\u001b[0m\u001b[0;36m0\u001b[0m\u001b[0;34m]\u001b[0m\u001b[0;34m.\u001b[0m\u001b[0mconcatenate\u001b[0m\u001b[0;34m(\u001b[0m\u001b[0mLISTA_ADATA\u001b[0m\u001b[0;34m[\u001b[0m\u001b[0;36m1\u001b[0m\u001b[0;34m:\u001b[0m\u001b[0;34m]\u001b[0m\u001b[0;34m,\u001b[0m \u001b[0mjoin\u001b[0m\u001b[0;34m=\u001b[0m\u001b[0;34m'inner'\u001b[0m\u001b[0;34m,\u001b[0m \u001b[0mbatch_key\u001b[0m\u001b[0;34m=\u001b[0m\u001b[0;32mNone\u001b[0m\u001b[0;34m)\u001b[0m\u001b[0;34m\u001b[0m\u001b[0;34m\u001b[0m\u001b[0m\n\u001b[1;32m    281\u001b[0m         \u001b[0;32melse\u001b[0m\u001b[0;34m:\u001b[0m\u001b[0;34m\u001b[0m\u001b[0;34m\u001b[0m\u001b[0m\n\u001b[0;32m--> 282\u001b[0;31m             \u001b[0madata_conc\u001b[0m \u001b[0;34m=\u001b[0m \u001b[0mLISTA_ADATA\u001b[0m\u001b[0;34m[\u001b[0m\u001b[0;36m0\u001b[0m\u001b[0;34m]\u001b[0m\u001b[0;34m\u001b[0m\u001b[0;34m\u001b[0m\u001b[0m\n\u001b[0m\u001b[1;32m    283\u001b[0m         \u001b[0;32mreturn\u001b[0m \u001b[0madata_conc\u001b[0m\u001b[0;34m\u001b[0m\u001b[0;34m\u001b[0m\u001b[0m\n\u001b[1;32m    284\u001b[0m \u001b[0;34m\u001b[0m\u001b[0m\n",
      "\u001b[0;31mIndexError\u001b[0m: list index out of range"
     ]
    }
   ],
   "source": [
    "#Filtering the total counts\n",
    "adata2 = anndata_filter(adata, go_cut)"
   ]
  },
  {
   "cell_type": "markdown",
   "metadata": {
    "ExecuteTime": {
     "end_time": "2022-05-23T13:09:13.494528Z",
     "start_time": "2022-05-23T13:09:13.491057Z"
    }
   },
   "source": [
    "**E4: DEFINING DEFAULT CUTOFFS FOR THE OTHER PARAMETERS**\n",
    "\n",
    "This step needs to be performed only after satisfatory total_counts filtering.\n",
    "\n",
    "NOTE: use the adata2, because this is the object with the total_counts filtered"
   ]
  },
  {
   "cell_type": "code",
   "execution_count": null,
   "metadata": {
    "ExecuteTime": {
     "end_time": "2022-06-28T11:03:01.193747Z",
     "start_time": "2022-06-28T11:02:52.164582Z"
    },
    "scrolled": false
   },
   "outputs": [],
   "source": [
    "#Defining the default cutoffs for all other parameters\n",
    "def_cut = set_def_cuts(adata2, interval=0.95, save=True)"
   ]
  },
  {
   "cell_type": "markdown",
   "metadata": {
    "ExecuteTime": {
     "end_time": "2022-05-25T06:13:30.229640Z",
     "start_time": "2022-05-25T06:13:30.226091Z"
    }
   },
   "source": [
    "**E5: DEFINING CUSTOM CUTOFFS FOR ALL OTHER VARIABLES**\n",
    "\n",
    "Here you need to use the adata3, because this is the one that had the total_counts already filtered"
   ]
  },
  {
   "cell_type": "code",
   "execution_count": null,
   "metadata": {
    "ExecuteTime": {
     "end_time": "2022-06-28T11:03:11.110157Z",
     "start_time": "2022-06-28T11:03:01.196219Z"
    }
   },
   "outputs": [],
   "source": [
    "#Refining cutoffs\n",
    "go_cut = refining_cuts(adata2, def_cut)\n",
    "display(go_cut)"
   ]
  },
  {
   "cell_type": "markdown",
   "metadata": {},
   "source": [
    "**E6: FILTERING THE OTHER PARAMETERS**"
   ]
  },
  {
   "cell_type": "code",
   "execution_count": null,
   "metadata": {
    "ExecuteTime": {
     "end_time": "2022-06-28T11:03:40.257196Z",
     "start_time": "2022-06-28T11:03:13.738010Z"
    },
    "scrolled": false
   },
   "outputs": [],
   "source": [
    "#Filtering other parameters\n",
    "adata3 = anndata_filter(adata2, go_cut)"
   ]
  },
  {
   "cell_type": "markdown",
   "metadata": {
    "ExecuteTime": {
     "end_time": "2022-06-13T13:09:34.519228Z",
     "start_time": "2022-06-13T13:09:34.515398Z"
    }
   },
   "source": [
    "**E7: Remove ribosomal/mitochrondrial/gender genes/and others**\n",
    "\n",
    "Optional"
   ]
  },
  {
   "cell_type": "code",
   "execution_count": null,
   "metadata": {
    "ExecuteTime": {
     "end_time": "2022-06-28T11:03:40.262604Z",
     "start_time": "2022-06-28T11:03:40.259711Z"
    }
   },
   "outputs": [],
   "source": [
    "#remove mitochondrial\n",
    "#adata4 = sctoolbox.qc_filter.filter_genes(adata3, \"is_mitochondrial\")\n",
    "    \n",
    "#remove cell cycle\n",
    "#adata4 = sctoolbox.qc_filter.filter_genes(adata3, \"is_cell_cycle\")\n",
    "\n",
    "#Remove gender genes\n",
    "#adata4 = sctoolbox.qc_filter.filter_genes(adata3, \"is_gender_genes\")\n",
    "\n",
    "#Remove custom genes from list\n",
    "#adata4 = sctoolbox.qc_filter.filter_genes(adata3, \"is_custom\")"
   ]
  },
  {
   "cell_type": "markdown",
   "metadata": {},
   "source": [
    "**E8: Final plotting**"
   ]
  },
  {
   "cell_type": "code",
   "execution_count": null,
   "metadata": {
    "ExecuteTime": {
     "end_time": "2022-06-28T11:03:41.522424Z",
     "start_time": "2022-06-28T11:03:40.264496Z"
    }
   },
   "outputs": [],
   "source": [
    "#Raw anndata\n",
    "set_def_cuts(adata, only_plot=True, save=False)"
   ]
  },
  {
   "cell_type": "code",
   "execution_count": null,
   "metadata": {
    "ExecuteTime": {
     "end_time": "2022-06-28T11:03:48.882393Z",
     "start_time": "2022-06-28T11:03:47.818145Z"
    },
    "scrolled": false
   },
   "outputs": [],
   "source": [
    "#Filtered annadta\n",
    "set_def_cuts(adata3, only_plot=True, save=False)"
   ]
  },
  {
   "cell_type": "markdown",
   "metadata": {},
   "source": [
    "# F: Save the final adata"
   ]
  },
  {
   "cell_type": "code",
   "execution_count": null,
   "metadata": {
    "ExecuteTime": {
     "end_time": "2022-06-28T11:04:03.460774Z",
     "start_time": "2022-06-28T11:03:51.495023Z"
    }
   },
   "outputs": [],
   "source": [
    "#Saving the anndata\n",
    "saving_anndata(adata3, current_notebook=2)"
   ]
  }
 ],
 "metadata": {
  "kernelspec": {
   "display_name": "py3",
   "language": "python",
   "name": "py3"
  },
  "language_info": {
   "codemirror_mode": {
    "name": "ipython",
    "version": 3
   },
   "file_extension": ".py",
   "mimetype": "text/x-python",
   "name": "python",
   "nbconvert_exporter": "python",
   "pygments_lexer": "ipython3",
   "version": "3.7.8"
  }
 },
 "nbformat": 4,
 "nbformat_minor": 4
}
