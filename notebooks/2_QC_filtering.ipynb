{
 "cells": [
  {
   "cell_type": "code",
   "execution_count": 3,
   "metadata": {
    "ExecuteTime": {
     "end_time": "2022-09-02T08:25:17.091414Z",
     "start_time": "2022-09-02T08:25:14.272638Z"
    },
    "editable": false,
    "init_cell": true,
    "run_control": {
     "marked": false
    }
   },
   "outputs": [],
   "source": [
    "from sctoolbox.utilities import bgcolor"
   ]
  },
  {
   "cell_type": "markdown",
   "metadata": {},
   "source": [
    "# QC and filtering\n",
    "<hr style=\"border:2px solid black\"> </hr>"
   ]
  },
  {
   "cell_type": "markdown",
   "metadata": {},
   "source": [
    "**Quality control**\n",
    "\n",
    "\"We must ensure that all cellular barcode data correspond to viable cells.\n",
    "\n",
    "Cell QC is commonly performed based on three QC covariates: the number of counts per barcode (count depth), the number of genes per barcode, and the fraction of counts from mitochondrial genes per barcode.\n",
    "\n",
    "The distributions of these QC covariates are examined for outlier peaks that are filtered out by thresholding.\n",
    "\n",
    "These outlier barcodes can correspond to dying cells, cells whose membranes are broken, or doublets\".\n",
    "\n",
    "Samples with a low count depth, few detected genes, and a high fraction of mitochondrial counts are indicative of cells whose cytoplasmic mRNA has leaked out through a broken membrane.\n",
    "\n",
    "In contrast, cells with unexpectedly high counts and a large number of detected genes may represent doublets.\n",
    "\n",
    "**DOI: 10.15252/msb.20188746**"
   ]
  },
  {
   "cell_type": "markdown",
   "metadata": {},
   "source": [
    "<hr style=\"border:2px solid black\"> </hr>\n",
    "<h1><center>⬐ Fill in input data here ⬎</center></h1>"
   ]
  },
  {
   "cell_type": "code",
   "execution_count": 4,
   "metadata": {
    "ExecuteTime": {
     "end_time": "2022-09-02T08:25:17.103934Z",
     "start_time": "2022-09-02T08:25:17.094212Z"
    },
    "init_cell": true,
    "run_control": {
     "marked": false
    }
   },
   "outputs": [
    {
     "data": {
      "text/html": [
       "<img src onerror=\"\n",
       "                var cell = this.closest('.code_cell');\n",
       "                var editor = cell.querySelector('.CodeMirror-sizer');\n",
       "                editor.style.background='PowderBlue';\n",
       "                this.parentNode.removeChild(this)\n",
       "                \">"
      ],
      "text/plain": [
       "<IPython.core.display.HTML object>"
      ]
     },
     "metadata": {},
     "output_type": "display_data"
    }
   ],
   "source": [
    "%bgcolor PowderBlue\n",
    "\n",
    "# Set the species of the data\n",
    "species = \"human\"\n",
    "\n",
    "# Set the column in adata.obs containing the biological condition to evaluate\n",
    "condition_column = \"sample\"\n",
    "\n",
    "# Set the column in adata.var containing gene names (or set to None to use adata.var index)\n",
    "gene_column = None\n",
    "\n",
    "# Absolute minimum number of genes for pre-selection of cells before QC plotting\n",
    "min_genes = 1\n",
    "\n",
    "# Decide whether to remove doublets using scrublet (True) or to skip doublet calculation (False)\n",
    "filter_doublets = False\n",
    "\n",
    "# Whether to try to predict sex of samples using the expression of a female gene\n",
    "predict_sex = True\n",
    "female_gene = \"Xist\"  #name of gene to use for assignment\n",
    "\n",
    "# Decide whether to estimate thresholds individual per condition (False) or globally (True)\n",
    "global_threshold = False\n",
    "\n",
    "# Removal of gene subsets\n",
    "filter_mito = True\n",
    "filter_ribo = False\n",
    "filter_gender = False"
   ]
  },
  {
   "cell_type": "markdown",
   "metadata": {},
   "source": [
    "<hr style=\"border:2px solid black\"> </hr>"
   ]
  },
  {
   "cell_type": "markdown",
   "metadata": {},
   "source": [
    "## Setup"
   ]
  },
  {
   "cell_type": "code",
   "execution_count": 5,
   "metadata": {
    "ExecuteTime": {
     "end_time": "2022-09-02T08:25:18.166358Z",
     "start_time": "2022-09-02T08:25:17.105775Z"
    },
    "editable": false,
    "run_control": {
     "marked": false
    }
   },
   "outputs": [],
   "source": [
    "#####################IMPORTING PACKAGES#############################\n",
    "import sctoolbox.utilities as utils\n",
    "import sctoolbox.marker_genes as marker_genes\n",
    "import sctoolbox.analyser as analyser\n",
    "import sctoolbox.qc_filter as qc\n",
    "import sctoolbox.plotting as pl"
   ]
  },
  {
   "cell_type": "markdown",
   "metadata": {},
   "source": [
    "## Load anndata\n",
    "Uses anndata object written by the previous notebook."
   ]
  },
  {
   "cell_type": "code",
   "execution_count": 6,
   "metadata": {
    "ExecuteTime": {
     "end_time": "2022-09-02T08:25:21.105479Z",
     "start_time": "2022-09-02T08:25:18.169366Z"
    },
    "editable": false,
    "run_control": {
     "marked": false
    },
    "scrolled": false
   },
   "outputs": [
    {
     "data": {
      "text/plain": [
       "AnnData object with n_obs × n_vars = 5000 × 26128\n",
       "    obs: 'orig.ident', 'chamber', 'donor', 'batch', 'sample', 'celltype'\n",
       "    uns: 'color_set', 'infoprocess'"
      ]
     },
     "metadata": {},
     "output_type": "display_data"
    }
   ],
   "source": [
    "adata = utils.load_anndata(is_from_previous_note=True, which_notebook=1, data_to_evaluate=condition_column)\n",
    "display(adata)"
   ]
  },
  {
   "cell_type": "code",
   "execution_count": 7,
   "metadata": {
    "editable": false,
    "run_control": {
     "marked": false
    }
   },
   "outputs": [],
   "source": [
    "#Ensure that condition column is a category\n",
    "adata.obs[condition_column] = adata.obs[condition_column].astype(\"category\")"
   ]
  },
  {
   "cell_type": "code",
   "execution_count": 8,
   "metadata": {
    "ExecuteTime": {
     "end_time": "2022-09-02T08:25:21.111768Z",
     "start_time": "2022-09-02T08:25:21.108399Z"
    },
    "editable": false,
    "run_control": {
     "marked": false
    }
   },
   "outputs": [],
   "source": [
    "figure_path = adata.uns[\"infoprocess\"][\"Anndata_path\"] + \"/\"\n",
    "adata.uns[\"infoprocess\"][\"plot_metrics\"] = []  # metrics for later plotting"
   ]
  },
  {
   "cell_type": "markdown",
   "metadata": {},
   "source": [
    "## Label genes\n",
    "Mark genes on their general association. E.g. mitochondrial."
   ]
  },
  {
   "cell_type": "code",
   "execution_count": 9,
   "metadata": {
    "ExecuteTime": {
     "end_time": "2022-09-02T08:25:21.185930Z",
     "start_time": "2022-09-02T08:25:21.114129Z"
    },
    "editable": false,
    "run_control": {
     "marked": false
    },
    "scrolled": false
   },
   "outputs": [
    {
     "data": {
      "text/plain": [
       "['is_ribo', 'is_mito', 'is_gender']"
      ]
     },
     "metadata": {},
     "output_type": "display_data"
    }
   ],
   "source": [
    "marker_genes.label_genes(adata, gene_column=gene_column, species=species)\n",
    "\n",
    "display(adata.uns[\"infoprocess\"][\"genes_labeled\"])"
   ]
  },
  {
   "cell_type": "markdown",
   "metadata": {},
   "source": [
    "## Calculate QC metrics\n",
    "Create quality control metrics to filter the data on."
   ]
  },
  {
   "cell_type": "code",
   "execution_count": 10,
   "metadata": {
    "ExecuteTime": {
     "end_time": "2022-09-02T08:25:25.225509Z",
     "start_time": "2022-09-02T08:25:21.187688Z"
    },
    "editable": false,
    "run_control": {
     "marked": false
    }
   },
   "outputs": [],
   "source": [
    "# If control_var=True, include gene labels from in qc computation\n",
    "# TODO can't be disabled at the moment\n",
    "adata = analyser.calculate_qc_metrics(adata, qc_vars=adata.uns[\"infoprocess\"][\"genes_labeled\"])"
   ]
  },
  {
   "cell_type": "markdown",
   "metadata": {},
   "source": [
    "## Set filter for number of genes before calculating doublets"
   ]
  },
  {
   "cell_type": "code",
   "execution_count": 11,
   "metadata": {
    "editable": false,
    "run_control": {
     "marked": false
    }
   },
   "outputs": [
    {
     "name": "stdout",
     "output_type": "stream",
     "text": [
      "Filtered out 0 cells which had less than 1 gene(s) expressed.\n"
     ]
    }
   ],
   "source": [
    "n_cells_before = len(adata)\n",
    "adata = adata[adata.obs[\"n_genes\"] >= min_genes]\n",
    "n_cells_after = len(adata)\n",
    "print(f\"Filtered out {n_cells_before-n_cells_after} cells which had less than {min_genes} gene(s) expressed.\")"
   ]
  },
  {
   "cell_type": "markdown",
   "metadata": {},
   "source": [
    "## Calculate doublet scores"
   ]
  },
  {
   "cell_type": "code",
   "execution_count": 12,
   "metadata": {
    "ExecuteTime": {
     "end_time": "2022-09-02T08:25:25.230766Z",
     "start_time": "2022-09-02T08:25:25.227493Z"
    },
    "editable": false,
    "run_control": {
     "marked": false
    }
   },
   "outputs": [],
   "source": [
    "if filter_doublets:\n",
    "    \n",
    "    qc.estimate_doublets(adata)\n",
    "    \n",
    "    #Remove the duplicates from adata\n",
    "    qc.filter_cells(adata, \"predicted_doublet\", remove_bool=True)\n",
    "    \n",
    "    #Save to adata to plot later on\n",
    "    adata.uns[\"infoprocess\"][\"plot_metrics\"].append(\"doublet_score\")"
   ]
  },
  {
   "cell_type": "markdown",
   "metadata": {},
   "source": [
    "## Predict sex per sample"
   ]
  },
  {
   "cell_type": "code",
   "execution_count": 13,
   "metadata": {
    "editable": false,
    "run_control": {
     "marked": true
    }
   },
   "outputs": [
    {
     "name": "stdout",
     "output_type": "stream",
     "text": [
      "Normalizing adata\n",
      "Estimating male/female per group\n",
      "Plotting violins\n"
     ]
    },
    {
     "data": {
      "image/png": "[encoded data removed]",
      "text/plain": [
       "<Figure size 640x400 with 2 Axes>"
      ]
     },
     "metadata": {},
     "output_type": "display_data"
    }
   ],
   "source": [
    "if predict_sex:\n",
    "    qc.predict_sex(adata, groupby=condition_column, gene_column=gene_column, gene=female_gene, \n",
    "                   #save=figure_path + \"female_prediction.pdf\" #to be implemented\n",
    "                   )\n",
    "    adata.uns[\"infoprocess\"][\"plot_metrics\"].append(\"predicted_sex\")"
   ]
  },
  {
   "cell_type": "markdown",
   "metadata": {},
   "source": [
    "------------------"
   ]
  },
  {
   "cell_type": "markdown",
   "metadata": {},
   "source": [
    "## Cell filtering"
   ]
  },
  {
   "cell_type": "markdown",
   "metadata": {},
   "source": [
    "Low and high count depth indicates cells with low integrity and doublets, respectively (DOI: 10.15252/msb.20188746)."
   ]
  },
  {
   "cell_type": "code",
   "execution_count": 14,
   "metadata": {
    "ExecuteTime": {
     "end_time": "2022-09-02T08:25:25.237094Z",
     "start_time": "2022-09-02T08:25:25.232618Z"
    },
    "editable": false,
    "run_control": {
     "marked": false
    }
   },
   "outputs": [],
   "source": [
    "# Choose columns to be used for filtering\n",
    "obs_columns = [\"n_genes\", \"log1p_total_counts\"]\n",
    "obs_columns += [\"pct_counts_\" + var for var in adata.uns[\"infoprocess\"][\"genes_labeled\"] if var != \"is_gender\"]\n",
    "\n",
    "adata.uns[\"infoprocess\"][\"qc_columns_obs\"] = obs_columns # save to infoprocess\n",
    "adata.uns[\"infoprocess\"][\"plot_metrics\"].extend(obs_columns)"
   ]
  },
  {
   "cell_type": "markdown",
   "metadata": {},
   "source": [
    "### Estimate initial thresholds automatically"
   ]
  },
  {
   "cell_type": "code",
   "execution_count": 15,
   "metadata": {
    "ExecuteTime": {
     "end_time": "2022-09-02T08:25:33.004359Z",
     "start_time": "2022-09-02T08:25:25.240381Z"
    },
    "editable": false,
    "run_control": {
     "marked": false
    }
   },
   "outputs": [
    {
     "data": {
      "text/html": [
       "<div>\n",
       "<style scoped>\n",
       "    .dataframe tbody tr th:only-of-type {\n",
       "        vertical-align: middle;\n",
       "    }\n",
       "\n",
       "    .dataframe tbody tr th {\n",
       "        vertical-align: top;\n",
       "    }\n",
       "\n",
       "    .dataframe thead th {\n",
       "        text-align: right;\n",
       "    }\n",
       "</style>\n",
       "<table border=\"1\" class=\"dataframe\">\n",
       "  <thead>\n",
       "    <tr style=\"text-align: right;\">\n",
       "      <th></th>\n",
       "      <th>Parameter</th>\n",
       "      <th>Group</th>\n",
       "      <th>Minimum</th>\n",
       "      <th>Maximum</th>\n",
       "    </tr>\n",
       "  </thead>\n",
       "  <tbody>\n",
       "    <tr>\n",
       "      <th>0</th>\n",
       "      <td>n_genes</td>\n",
       "      <td>2A</td>\n",
       "      <td>232.108639</td>\n",
       "      <td>1012.676408</td>\n",
       "    </tr>\n",
       "    <tr>\n",
       "      <th>1</th>\n",
       "      <td>n_genes</td>\n",
       "      <td>2B</td>\n",
       "      <td>273.666574</td>\n",
       "      <td>919.876719</td>\n",
       "    </tr>\n",
       "    <tr>\n",
       "      <th>2</th>\n",
       "      <td>n_genes</td>\n",
       "      <td>2C</td>\n",
       "      <td>274.644593</td>\n",
       "      <td>531.704949</td>\n",
       "    </tr>\n",
       "    <tr>\n",
       "      <th>3</th>\n",
       "      <td>n_genes</td>\n",
       "      <td>2D</td>\n",
       "      <td>296.292700</td>\n",
       "      <td>920.766460</td>\n",
       "    </tr>\n",
       "    <tr>\n",
       "      <th>4</th>\n",
       "      <td>n_genes</td>\n",
       "      <td>3B</td>\n",
       "      <td>316.131698</td>\n",
       "      <td>1144.364877</td>\n",
       "    </tr>\n",
       "    <tr>\n",
       "      <th>5</th>\n",
       "      <td>n_genes</td>\n",
       "      <td>3C</td>\n",
       "      <td>406.910360</td>\n",
       "      <td>902.970920</td>\n",
       "    </tr>\n",
       "    <tr>\n",
       "      <th>6</th>\n",
       "      <td>n_genes</td>\n",
       "      <td>3D</td>\n",
       "      <td>284.735018</td>\n",
       "      <td>992.309213</td>\n",
       "    </tr>\n",
       "    <tr>\n",
       "      <th>7</th>\n",
       "      <td>log1p_total_counts</td>\n",
       "      <td>2A</td>\n",
       "      <td>6.369489</td>\n",
       "      <td>7.054188</td>\n",
       "    </tr>\n",
       "    <tr>\n",
       "      <th>8</th>\n",
       "      <td>log1p_total_counts</td>\n",
       "      <td>2B</td>\n",
       "      <td>6.489265</td>\n",
       "      <td>7.254222</td>\n",
       "    </tr>\n",
       "    <tr>\n",
       "      <th>9</th>\n",
       "      <td>log1p_total_counts</td>\n",
       "      <td>2C</td>\n",
       "      <td>5.975036</td>\n",
       "      <td>6.669905</td>\n",
       "    </tr>\n",
       "    <tr>\n",
       "      <th>10</th>\n",
       "      <td>log1p_total_counts</td>\n",
       "      <td>2D</td>\n",
       "      <td>6.115411</td>\n",
       "      <td>7.359812</td>\n",
       "    </tr>\n",
       "    <tr>\n",
       "      <th>11</th>\n",
       "      <td>log1p_total_counts</td>\n",
       "      <td>3B</td>\n",
       "      <td>6.504408</td>\n",
       "      <td>7.142554</td>\n",
       "    </tr>\n",
       "    <tr>\n",
       "      <th>12</th>\n",
       "      <td>log1p_total_counts</td>\n",
       "      <td>3C</td>\n",
       "      <td>5.992269</td>\n",
       "      <td>6.655045</td>\n",
       "    </tr>\n",
       "    <tr>\n",
       "      <th>13</th>\n",
       "      <td>log1p_total_counts</td>\n",
       "      <td>3D</td>\n",
       "      <td>6.147959</td>\n",
       "      <td>7.346718</td>\n",
       "    </tr>\n",
       "    <tr>\n",
       "      <th>14</th>\n",
       "      <td>pct_counts_is_ribo</td>\n",
       "      <td>2A</td>\n",
       "      <td>-0.371517</td>\n",
       "      <td>0.779925</td>\n",
       "    </tr>\n",
       "    <tr>\n",
       "      <th>15</th>\n",
       "      <td>pct_counts_is_ribo</td>\n",
       "      <td>2B</td>\n",
       "      <td>-0.284671</td>\n",
       "      <td>1.684201</td>\n",
       "    </tr>\n",
       "    <tr>\n",
       "      <th>16</th>\n",
       "      <td>pct_counts_is_ribo</td>\n",
       "      <td>2C</td>\n",
       "      <td>-0.551306</td>\n",
       "      <td>1.033498</td>\n",
       "    </tr>\n",
       "    <tr>\n",
       "      <th>17</th>\n",
       "      <td>pct_counts_is_ribo</td>\n",
       "      <td>2D</td>\n",
       "      <td>-0.258618</td>\n",
       "      <td>1.364217</td>\n",
       "    </tr>\n",
       "    <tr>\n",
       "      <th>18</th>\n",
       "      <td>pct_counts_is_ribo</td>\n",
       "      <td>3B</td>\n",
       "      <td>-0.307320</td>\n",
       "      <td>1.432560</td>\n",
       "    </tr>\n",
       "    <tr>\n",
       "      <th>19</th>\n",
       "      <td>pct_counts_is_ribo</td>\n",
       "      <td>3C</td>\n",
       "      <td>-0.800654</td>\n",
       "      <td>1.399313</td>\n",
       "    </tr>\n",
       "    <tr>\n",
       "      <th>20</th>\n",
       "      <td>pct_counts_is_ribo</td>\n",
       "      <td>3D</td>\n",
       "      <td>-0.337061</td>\n",
       "      <td>1.421516</td>\n",
       "    </tr>\n",
       "    <tr>\n",
       "      <th>21</th>\n",
       "      <td>pct_counts_is_mito</td>\n",
       "      <td>2A</td>\n",
       "      <td>-0.307683</td>\n",
       "      <td>0.609855</td>\n",
       "    </tr>\n",
       "    <tr>\n",
       "      <th>22</th>\n",
       "      <td>pct_counts_is_mito</td>\n",
       "      <td>2B</td>\n",
       "      <td>-0.223096</td>\n",
       "      <td>1.139997</td>\n",
       "    </tr>\n",
       "    <tr>\n",
       "      <th>23</th>\n",
       "      <td>pct_counts_is_mito</td>\n",
       "      <td>2C</td>\n",
       "      <td>-0.359835</td>\n",
       "      <td>0.781453</td>\n",
       "    </tr>\n",
       "    <tr>\n",
       "      <th>24</th>\n",
       "      <td>pct_counts_is_mito</td>\n",
       "      <td>2D</td>\n",
       "      <td>-0.274008</td>\n",
       "      <td>1.352562</td>\n",
       "    </tr>\n",
       "    <tr>\n",
       "      <th>25</th>\n",
       "      <td>pct_counts_is_mito</td>\n",
       "      <td>3B</td>\n",
       "      <td>-0.250891</td>\n",
       "      <td>0.877225</td>\n",
       "    </tr>\n",
       "    <tr>\n",
       "      <th>26</th>\n",
       "      <td>pct_counts_is_mito</td>\n",
       "      <td>3C</td>\n",
       "      <td>-0.257170</td>\n",
       "      <td>0.480239</td>\n",
       "    </tr>\n",
       "    <tr>\n",
       "      <th>27</th>\n",
       "      <td>pct_counts_is_mito</td>\n",
       "      <td>3D</td>\n",
       "      <td>-0.309791</td>\n",
       "      <td>0.875124</td>\n",
       "    </tr>\n",
       "  </tbody>\n",
       "</table>\n",
       "</div>"
      ],
      "text/plain": [
       "             Parameter Group     Minimum      Maximum\n",
       "0              n_genes    2A  232.108639  1012.676408\n",
       "1              n_genes    2B  273.666574   919.876719\n",
       "2              n_genes    2C  274.644593   531.704949\n",
       "3              n_genes    2D  296.292700   920.766460\n",
       "4              n_genes    3B  316.131698  1144.364877\n",
       "5              n_genes    3C  406.910360   902.970920\n",
       "6              n_genes    3D  284.735018   992.309213\n",
       "7   log1p_total_counts    2A    6.369489     7.054188\n",
       "8   log1p_total_counts    2B    6.489265     7.254222\n",
       "9   log1p_total_counts    2C    5.975036     6.669905\n",
       "10  log1p_total_counts    2D    6.115411     7.359812\n",
       "11  log1p_total_counts    3B    6.504408     7.142554\n",
       "12  log1p_total_counts    3C    5.992269     6.655045\n",
       "13  log1p_total_counts    3D    6.147959     7.346718\n",
       "14  pct_counts_is_ribo    2A   -0.371517     0.779925\n",
       "15  pct_counts_is_ribo    2B   -0.284671     1.684201\n",
       "16  pct_counts_is_ribo    2C   -0.551306     1.033498\n",
       "17  pct_counts_is_ribo    2D   -0.258618     1.364217\n",
       "18  pct_counts_is_ribo    3B   -0.307320     1.432560\n",
       "19  pct_counts_is_ribo    3C   -0.800654     1.399313\n",
       "20  pct_counts_is_ribo    3D   -0.337061     1.421516\n",
       "21  pct_counts_is_mito    2A   -0.307683     0.609855\n",
       "22  pct_counts_is_mito    2B   -0.223096     1.139997\n",
       "23  pct_counts_is_mito    2C   -0.359835     0.781453\n",
       "24  pct_counts_is_mito    2D   -0.274008     1.352562\n",
       "25  pct_counts_is_mito    3B   -0.250891     0.877225\n",
       "26  pct_counts_is_mito    3C   -0.257170     0.480239\n",
       "27  pct_counts_is_mito    3D   -0.309791     0.875124"
      ]
     },
     "execution_count": 15,
     "metadata": {},
     "output_type": "execute_result"
    }
   ],
   "source": [
    "groupby = condition_column if global_threshold is False else None\n",
    "initial_thresholds = qc.automatic_thresholds(adata, which=\"obs\", groupby=groupby, columns=obs_columns)\n",
    "qc.thresholds_as_table(initial_thresholds) # show thresholds"
   ]
  },
  {
   "cell_type": "markdown",
   "metadata": {},
   "source": [
    "### Customize thresholds via sliders"
   ]
  },
  {
   "cell_type": "markdown",
   "metadata": {},
   "source": [
    " (Rerun cell if plot is not shown)"
   ]
  },
  {
   "cell_type": "code",
   "execution_count": 16,
   "metadata": {
    "ExecuteTime": {
     "end_time": "2022-09-02T08:25:35.153959Z",
     "start_time": "2022-09-02T08:25:33.007273Z"
    },
    "editable": false,
    "run_control": {
     "marked": false
    },
    "scrolled": true
   },
   "outputs": [
    {
     "data": {
      "text/html": [
       "<img src onerror=\"\n",
       "                var cell = this.closest('.code_cell');\n",
       "                var editor = cell.querySelector('.CodeMirror-sizer');\n",
       "                editor.style.background='PowderBlue';\n",
       "                this.parentNode.removeChild(this)\n",
       "                \">"
      ],
      "text/plain": [
       "<IPython.core.display.HTML object>"
      ]
     },
     "metadata": {},
     "output_type": "display_data"
    },
    {
     "data": {
      "application/vnd.jupyter.widget-view+json": {
       "model_id": "cf8e721da6ca46f5bbe42cc9008466f0",
       "version_major": 2,
       "version_minor": 0
      },
      "text/plain": [
       "HBox(children=(Accordion(children=(VBox(children=(Checkbox(value=False, description='Global threshold', indent…"
      ]
     },
     "execution_count": 16,
     "metadata": {},
     "output_type": "execute_result"
    }
   ],
   "source": [
    "%matplotlib widget\n",
    "%bgcolor PowderBlue\n",
    "\n",
    "#Plot violins and sliders\n",
    "obs_figure, obs_slider_dict = qc.quality_violin(adata, obs_columns,\n",
    "                                            groupby=condition_column,\n",
    "                                            which=\"obs\",\n",
    "                                            thresholds=initial_thresholds,\n",
    "                                            global_threshold=global_threshold,\n",
    "                                            title=\"Cell quality control (before)\",\n",
    "                                            save=figure_path + \"cell_filtering.png\")\n",
    "obs_figure"
   ]
  },
  {
   "cell_type": "code",
   "execution_count": 17,
   "metadata": {
    "ExecuteTime": {
     "end_time": "2022-09-02T08:25:35.167842Z",
     "start_time": "2022-09-02T08:25:35.156243Z"
    },
    "editable": false,
    "run_control": {
     "marked": false
    }
   },
   "outputs": [
    {
     "data": {
      "text/html": [
       "<div>\n",
       "<style scoped>\n",
       "    .dataframe tbody tr th:only-of-type {\n",
       "        vertical-align: middle;\n",
       "    }\n",
       "\n",
       "    .dataframe tbody tr th {\n",
       "        vertical-align: top;\n",
       "    }\n",
       "\n",
       "    .dataframe thead th {\n",
       "        text-align: right;\n",
       "    }\n",
       "</style>\n",
       "<table border=\"1\" class=\"dataframe\">\n",
       "  <thead>\n",
       "    <tr style=\"text-align: right;\">\n",
       "      <th></th>\n",
       "      <th>Parameter</th>\n",
       "      <th>Group</th>\n",
       "      <th>Minimum</th>\n",
       "      <th>Maximum</th>\n",
       "    </tr>\n",
       "  </thead>\n",
       "  <tbody>\n",
       "    <tr>\n",
       "      <th>0</th>\n",
       "      <td>n_genes</td>\n",
       "      <td>2A</td>\n",
       "      <td>308.000000</td>\n",
       "      <td>1012.676408</td>\n",
       "    </tr>\n",
       "    <tr>\n",
       "      <th>1</th>\n",
       "      <td>n_genes</td>\n",
       "      <td>2B</td>\n",
       "      <td>308.000000</td>\n",
       "      <td>919.876719</td>\n",
       "    </tr>\n",
       "    <tr>\n",
       "      <th>2</th>\n",
       "      <td>n_genes</td>\n",
       "      <td>2C</td>\n",
       "      <td>308.000000</td>\n",
       "      <td>531.704949</td>\n",
       "    </tr>\n",
       "    <tr>\n",
       "      <th>3</th>\n",
       "      <td>n_genes</td>\n",
       "      <td>2D</td>\n",
       "      <td>308.000000</td>\n",
       "      <td>920.766460</td>\n",
       "    </tr>\n",
       "    <tr>\n",
       "      <th>4</th>\n",
       "      <td>n_genes</td>\n",
       "      <td>3B</td>\n",
       "      <td>316.131698</td>\n",
       "      <td>1144.364877</td>\n",
       "    </tr>\n",
       "    <tr>\n",
       "      <th>5</th>\n",
       "      <td>n_genes</td>\n",
       "      <td>3C</td>\n",
       "      <td>406.910360</td>\n",
       "      <td>902.970920</td>\n",
       "    </tr>\n",
       "    <tr>\n",
       "      <th>6</th>\n",
       "      <td>n_genes</td>\n",
       "      <td>3D</td>\n",
       "      <td>308.000000</td>\n",
       "      <td>992.309213</td>\n",
       "    </tr>\n",
       "    <tr>\n",
       "      <th>7</th>\n",
       "      <td>log1p_total_counts</td>\n",
       "      <td>2A</td>\n",
       "      <td>6.369489</td>\n",
       "      <td>7.054188</td>\n",
       "    </tr>\n",
       "    <tr>\n",
       "      <th>8</th>\n",
       "      <td>log1p_total_counts</td>\n",
       "      <td>2B</td>\n",
       "      <td>6.489265</td>\n",
       "      <td>7.254222</td>\n",
       "    </tr>\n",
       "    <tr>\n",
       "      <th>9</th>\n",
       "      <td>log1p_total_counts</td>\n",
       "      <td>2C</td>\n",
       "      <td>5.998937</td>\n",
       "      <td>6.669905</td>\n",
       "    </tr>\n",
       "    <tr>\n",
       "      <th>10</th>\n",
       "      <td>log1p_total_counts</td>\n",
       "      <td>2D</td>\n",
       "      <td>6.115411</td>\n",
       "      <td>7.268223</td>\n",
       "    </tr>\n",
       "    <tr>\n",
       "      <th>11</th>\n",
       "      <td>log1p_total_counts</td>\n",
       "      <td>3B</td>\n",
       "      <td>6.504408</td>\n",
       "      <td>7.142554</td>\n",
       "    </tr>\n",
       "    <tr>\n",
       "      <th>12</th>\n",
       "      <td>log1p_total_counts</td>\n",
       "      <td>3C</td>\n",
       "      <td>5.998937</td>\n",
       "      <td>6.655045</td>\n",
       "    </tr>\n",
       "    <tr>\n",
       "      <th>13</th>\n",
       "      <td>log1p_total_counts</td>\n",
       "      <td>3D</td>\n",
       "      <td>6.147959</td>\n",
       "      <td>7.268223</td>\n",
       "    </tr>\n",
       "    <tr>\n",
       "      <th>14</th>\n",
       "      <td>pct_counts_is_ribo</td>\n",
       "      <td>2A</td>\n",
       "      <td>0.000000</td>\n",
       "      <td>0.779925</td>\n",
       "    </tr>\n",
       "    <tr>\n",
       "      <th>15</th>\n",
       "      <td>pct_counts_is_ribo</td>\n",
       "      <td>2B</td>\n",
       "      <td>0.000000</td>\n",
       "      <td>1.684201</td>\n",
       "    </tr>\n",
       "    <tr>\n",
       "      <th>16</th>\n",
       "      <td>pct_counts_is_ribo</td>\n",
       "      <td>2C</td>\n",
       "      <td>0.000000</td>\n",
       "      <td>1.033498</td>\n",
       "    </tr>\n",
       "    <tr>\n",
       "      <th>17</th>\n",
       "      <td>pct_counts_is_ribo</td>\n",
       "      <td>2D</td>\n",
       "      <td>0.000000</td>\n",
       "      <td>1.364217</td>\n",
       "    </tr>\n",
       "    <tr>\n",
       "      <th>18</th>\n",
       "      <td>pct_counts_is_ribo</td>\n",
       "      <td>3B</td>\n",
       "      <td>0.000000</td>\n",
       "      <td>1.432560</td>\n",
       "    </tr>\n",
       "    <tr>\n",
       "      <th>19</th>\n",
       "      <td>pct_counts_is_ribo</td>\n",
       "      <td>3C</td>\n",
       "      <td>0.000000</td>\n",
       "      <td>1.399313</td>\n",
       "    </tr>\n",
       "    <tr>\n",
       "      <th>20</th>\n",
       "      <td>pct_counts_is_ribo</td>\n",
       "      <td>3D</td>\n",
       "      <td>0.000000</td>\n",
       "      <td>1.421516</td>\n",
       "    </tr>\n",
       "    <tr>\n",
       "      <th>21</th>\n",
       "      <td>pct_counts_is_mito</td>\n",
       "      <td>2A</td>\n",
       "      <td>0.000000</td>\n",
       "      <td>0.609855</td>\n",
       "    </tr>\n",
       "    <tr>\n",
       "      <th>22</th>\n",
       "      <td>pct_counts_is_mito</td>\n",
       "      <td>2B</td>\n",
       "      <td>0.000000</td>\n",
       "      <td>1.139997</td>\n",
       "    </tr>\n",
       "    <tr>\n",
       "      <th>23</th>\n",
       "      <td>pct_counts_is_mito</td>\n",
       "      <td>2C</td>\n",
       "      <td>0.000000</td>\n",
       "      <td>0.781453</td>\n",
       "    </tr>\n",
       "    <tr>\n",
       "      <th>24</th>\n",
       "      <td>pct_counts_is_mito</td>\n",
       "      <td>2D</td>\n",
       "      <td>0.000000</td>\n",
       "      <td>1.352562</td>\n",
       "    </tr>\n",
       "    <tr>\n",
       "      <th>25</th>\n",
       "      <td>pct_counts_is_mito</td>\n",
       "      <td>3B</td>\n",
       "      <td>0.000000</td>\n",
       "      <td>0.877225</td>\n",
       "    </tr>\n",
       "    <tr>\n",
       "      <th>26</th>\n",
       "      <td>pct_counts_is_mito</td>\n",
       "      <td>3C</td>\n",
       "      <td>0.000000</td>\n",
       "      <td>0.480239</td>\n",
       "    </tr>\n",
       "    <tr>\n",
       "      <th>27</th>\n",
       "      <td>pct_counts_is_mito</td>\n",
       "      <td>3D</td>\n",
       "      <td>0.000000</td>\n",
       "      <td>0.875124</td>\n",
       "    </tr>\n",
       "  </tbody>\n",
       "</table>\n",
       "</div>"
      ],
      "text/plain": [
       "             Parameter Group     Minimum      Maximum\n",
       "0              n_genes    2A  308.000000  1012.676408\n",
       "1              n_genes    2B  308.000000   919.876719\n",
       "2              n_genes    2C  308.000000   531.704949\n",
       "3              n_genes    2D  308.000000   920.766460\n",
       "4              n_genes    3B  316.131698  1144.364877\n",
       "5              n_genes    3C  406.910360   902.970920\n",
       "6              n_genes    3D  308.000000   992.309213\n",
       "7   log1p_total_counts    2A    6.369489     7.054188\n",
       "8   log1p_total_counts    2B    6.489265     7.254222\n",
       "9   log1p_total_counts    2C    5.998937     6.669905\n",
       "10  log1p_total_counts    2D    6.115411     7.268223\n",
       "11  log1p_total_counts    3B    6.504408     7.142554\n",
       "12  log1p_total_counts    3C    5.998937     6.655045\n",
       "13  log1p_total_counts    3D    6.147959     7.268223\n",
       "14  pct_counts_is_ribo    2A    0.000000     0.779925\n",
       "15  pct_counts_is_ribo    2B    0.000000     1.684201\n",
       "16  pct_counts_is_ribo    2C    0.000000     1.033498\n",
       "17  pct_counts_is_ribo    2D    0.000000     1.364217\n",
       "18  pct_counts_is_ribo    3B    0.000000     1.432560\n",
       "19  pct_counts_is_ribo    3C    0.000000     1.399313\n",
       "20  pct_counts_is_ribo    3D    0.000000     1.421516\n",
       "21  pct_counts_is_mito    2A    0.000000     0.609855\n",
       "22  pct_counts_is_mito    2B    0.000000     1.139997\n",
       "23  pct_counts_is_mito    2C    0.000000     0.781453\n",
       "24  pct_counts_is_mito    2D    0.000000     1.352562\n",
       "25  pct_counts_is_mito    3B    0.000000     0.877225\n",
       "26  pct_counts_is_mito    3C    0.000000     0.480239\n",
       "27  pct_counts_is_mito    3D    0.000000     0.875124"
      ]
     },
     "execution_count": 17,
     "metadata": {},
     "output_type": "execute_result"
    }
   ],
   "source": [
    "# Get final thresholds\n",
    "final_thresholds = qc.get_slider_thresholds(obs_slider_dict)\n",
    "qc.thresholds_as_table(final_thresholds) # show thresholds"
   ]
  },
  {
   "cell_type": "markdown",
   "metadata": {},
   "source": [
    "### Apply final thresholds\n",
    "Filter the anndata object based on the thresholds in the threshold table."
   ]
  },
  {
   "cell_type": "code",
   "execution_count": 18,
   "metadata": {
    "ExecuteTime": {
     "end_time": "2022-09-02T08:25:45.928381Z",
     "start_time": "2022-09-02T08:25:35.170685Z"
    },
    "editable": false,
    "run_control": {
     "marked": false
    },
    "scrolled": true
   },
   "outputs": [
    {
     "name": "stdout",
     "output_type": "stream",
     "text": [
      "Filtering based on 'n_genes' from 5000 -> 4102 cells\n",
      "Filtering based on 'log1p_total_counts' from 4102 -> 3698 cells\n",
      "Filtering based on 'pct_counts_is_ribo' from 3698 -> 3347 cells\n",
      "Filtering based on 'pct_counts_is_mito' from 3347 -> 2829 cells\n"
     ]
    }
   ],
   "source": [
    "qc.apply_qc_thresholds(adata, which=\"obs\", thresholds=final_thresholds, groupby=groupby)"
   ]
  },
  {
   "cell_type": "markdown",
   "metadata": {},
   "source": [
    "### Show data after filtering"
   ]
  },
  {
   "cell_type": "code",
   "execution_count": 19,
   "metadata": {
    "ExecuteTime": {
     "end_time": "2022-09-02T08:25:49.611977Z",
     "start_time": "2022-09-02T08:25:45.930721Z"
    },
    "editable": false,
    "run_control": {
     "marked": false
    },
    "scrolled": true
   },
   "outputs": [
    {
     "data": {
      "image/png": "[encoded data removed]",
      "text/plain": [
       "<Figure size 1200x800 with 6 Axes>"
      ]
     },
     "execution_count": 19,
     "metadata": {},
     "output_type": "execute_result"
    }
   ],
   "source": [
    "%matplotlib inline \n",
    "\n",
    "#Plot violins and sliders\n",
    "figure, slider_dict = qc.quality_violin(adata, obs_columns,\n",
    "                                     groupby=condition_column,\n",
    "                                     which=\"obs\", ncols=3,\n",
    "                                     global_threshold = global_threshold,\n",
    "                                     title=\"Cell quality control (after)\",\n",
    "                                     save=figure_path + \"cell_filtering_final.png\")\n",
    "figure"
   ]
  },
  {
   "cell_type": "code",
   "execution_count": 20,
   "metadata": {
    "editable": false,
    "run_control": {
     "marked": false
    }
   },
   "outputs": [],
   "source": [
    "#Save final thresholds to infoprocess\n",
    "adata.uns[\"infoprocess\"][\"cell_qc_thresholds\"] = final_thresholds"
   ]
  },
  {
   "cell_type": "markdown",
   "metadata": {},
   "source": [
    "-------------------"
   ]
  },
  {
   "cell_type": "markdown",
   "metadata": {},
   "source": [
    "## Gene filtering"
   ]
  },
  {
   "cell_type": "code",
   "execution_count": 21,
   "metadata": {
    "ExecuteTime": {
     "end_time": "2022-09-02T08:27:11.459027Z",
     "start_time": "2022-09-02T08:27:08.653998Z"
    },
    "editable": false,
    "run_control": {
     "marked": false
    }
   },
   "outputs": [],
   "source": [
    "#Recalculate quality measures for genes\n",
    "adata = analyser.calculate_qc_metrics(adata)"
   ]
  },
  {
   "cell_type": "code",
   "execution_count": 22,
   "metadata": {
    "ExecuteTime": {
     "end_time": "2022-09-02T08:27:15.700856Z",
     "start_time": "2022-09-02T08:27:15.682826Z"
    },
    "editable": false,
    "run_control": {
     "marked": false
    }
   },
   "outputs": [],
   "source": [
    "#Remove genes with 0 count\n",
    "zero_bool = adata.var[\"n_cells_by_counts\"] == 0\n",
    "adata = adata[:,~zero_bool]"
   ]
  },
  {
   "cell_type": "code",
   "execution_count": 23,
   "metadata": {
    "ExecuteTime": {
     "end_time": "2022-09-02T08:27:15.856649Z",
     "start_time": "2022-09-02T08:27:15.853805Z"
    },
    "editable": false,
    "run_control": {
     "marked": false
    }
   },
   "outputs": [],
   "source": [
    "#Choose columns for quality control\n",
    "var_columns = [\"n_cells_by_counts\", \"log1p_mean_counts\"]"
   ]
  },
  {
   "cell_type": "markdown",
   "metadata": {},
   "source": [
    "### Customize thresholds via sliders"
   ]
  },
  {
   "cell_type": "markdown",
   "metadata": {},
   "source": [
    " (Rerun cell if plot is not shown)"
   ]
  },
  {
   "cell_type": "code",
   "execution_count": 24,
   "metadata": {
    "ExecuteTime": {
     "end_time": "2022-09-02T08:27:52.417803Z",
     "start_time": "2022-09-02T08:27:51.419907Z"
    },
    "editable": false,
    "run_control": {
     "marked": false
    }
   },
   "outputs": [
    {
     "data": {
      "text/html": [
       "<img src onerror=\"\n",
       "                var cell = this.closest('.code_cell');\n",
       "                var editor = cell.querySelector('.CodeMirror-sizer');\n",
       "                editor.style.background='PowderBlue';\n",
       "                this.parentNode.removeChild(this)\n",
       "                \">"
      ],
      "text/plain": [
       "<IPython.core.display.HTML object>"
      ]
     },
     "metadata": {},
     "output_type": "display_data"
    },
    {
     "data": {
      "application/vnd.jupyter.widget-view+json": {
       "model_id": "8f417fa55869488e8865fa5a7ba58eea",
       "version_major": 2,
       "version_minor": 0
      },
      "text/plain": [
       "HBox(children=(Accordion(children=(VBox(children=(FloatRangeSlider(value=(1.0, 2616.0), continuous_update=Fals…"
      ]
     },
     "execution_count": 24,
     "metadata": {},
     "output_type": "execute_result"
    }
   ],
   "source": [
    "%matplotlib widget\n",
    "%bgcolor PowderBlue\n",
    "\n",
    "#Plot violins and sliders\n",
    "var_figure, var_slider_dict = qc.quality_violin(adata, var_columns,\n",
    "                                            which=\"var\",\n",
    "                                            title=\"Gene quality control (before)\",\n",
    "                                            save=figure_path + \"gene_filtering.png\")\n",
    "var_figure"
   ]
  },
  {
   "cell_type": "markdown",
   "metadata": {},
   "source": [
    "### Apply gene filtering"
   ]
  },
  {
   "cell_type": "code",
   "execution_count": 25,
   "metadata": {
    "ExecuteTime": {
     "end_time": "2022-09-02T08:27:17.395273Z",
     "start_time": "2022-09-02T08:27:17.384606Z"
    },
    "editable": false,
    "run_control": {
     "marked": false
    }
   },
   "outputs": [
    {
     "data": {
      "text/html": [
       "<div>\n",
       "<style scoped>\n",
       "    .dataframe tbody tr th:only-of-type {\n",
       "        vertical-align: middle;\n",
       "    }\n",
       "\n",
       "    .dataframe tbody tr th {\n",
       "        vertical-align: top;\n",
       "    }\n",
       "\n",
       "    .dataframe thead th {\n",
       "        text-align: right;\n",
       "    }\n",
       "</style>\n",
       "<table border=\"1\" class=\"dataframe\">\n",
       "  <thead>\n",
       "    <tr style=\"text-align: right;\">\n",
       "      <th></th>\n",
       "      <th>Parameter</th>\n",
       "      <th>Minimum</th>\n",
       "      <th>Maximum</th>\n",
       "    </tr>\n",
       "  </thead>\n",
       "  <tbody>\n",
       "    <tr>\n",
       "      <th>0</th>\n",
       "      <td>n_cells_by_counts</td>\n",
       "      <td>1.000000</td>\n",
       "      <td>2616.000000</td>\n",
       "    </tr>\n",
       "    <tr>\n",
       "      <th>1</th>\n",
       "      <td>log1p_mean_counts</td>\n",
       "      <td>0.000353</td>\n",
       "      <td>1.147251</td>\n",
       "    </tr>\n",
       "  </tbody>\n",
       "</table>\n",
       "</div>"
      ],
      "text/plain": [
       "           Parameter   Minimum      Maximum\n",
       "0  n_cells_by_counts  1.000000  2616.000000\n",
       "1  log1p_mean_counts  0.000353     1.147251"
      ]
     },
     "execution_count": 25,
     "metadata": {},
     "output_type": "execute_result"
    }
   ],
   "source": [
    "# Get final thresholds\n",
    "final_thresholds = qc.get_slider_thresholds(var_slider_dict)\n",
    "qc.thresholds_as_table(final_thresholds) # show thresholds"
   ]
  },
  {
   "cell_type": "code",
   "execution_count": 26,
   "metadata": {
    "ExecuteTime": {
     "end_time": "2022-09-02T08:27:25.153607Z",
     "start_time": "2022-09-02T08:27:17.397991Z"
    },
    "editable": false,
    "run_control": {
     "marked": false
    }
   },
   "outputs": [
    {
     "name": "stdout",
     "output_type": "stream",
     "text": [
      "Filtering based on 'n_cells_by_counts' from 21192 -> 21192 .var features\n",
      "Filtering based on 'log1p_mean_counts' from 21192 -> 21192 .var features\n"
     ]
    }
   ],
   "source": [
    "qc.apply_qc_thresholds(adata, which=\"var\", thresholds=final_thresholds)"
   ]
  },
  {
   "cell_type": "code",
   "execution_count": 27,
   "metadata": {
    "ExecuteTime": {
     "end_time": "2022-09-02T08:27:25.161267Z",
     "start_time": "2022-09-02T08:27:25.156469Z"
    },
    "editable": false,
    "run_control": {
     "marked": false
    }
   },
   "outputs": [
    {
     "data": {
      "text/plain": [
       "AnnData object with n_obs × n_vars = 2829 × 21192\n",
       "    obs: 'orig.ident', 'chamber', 'donor', 'batch', 'sample', 'celltype', 'total_counts', 'log1p_total_counts', 'total_counts_is_ribo', 'log1p_total_counts_is_ribo', 'pct_counts_is_ribo', 'total_counts_is_mito', 'log1p_total_counts_is_mito', 'pct_counts_is_mito', 'total_counts_is_gender', 'log1p_total_counts_is_gender', 'pct_counts_is_gender', 'predicted_sex', 'n_genes', 'log1p_n_genes'\n",
       "    var: 'is_ribo', 'is_mito', 'cellcycle', 'is_gender', 'n_cells_by_counts', 'mean_counts', 'log1p_mean_counts', 'pct_dropout_by_counts', 'total_counts', 'log1p_total_counts'\n",
       "    uns: 'color_set', 'infoprocess'"
      ]
     },
     "execution_count": 27,
     "metadata": {},
     "output_type": "execute_result"
    }
   ],
   "source": [
    "adata"
   ]
  },
  {
   "cell_type": "markdown",
   "metadata": {},
   "source": [
    "### Show data after filtering"
   ]
  },
  {
   "cell_type": "code",
   "execution_count": 28,
   "metadata": {
    "ExecuteTime": {
     "end_time": "2022-09-02T08:27:26.584527Z",
     "start_time": "2022-09-02T08:27:25.218287Z"
    },
    "editable": false,
    "run_control": {
     "marked": false
    }
   },
   "outputs": [
    {
     "data": {
      "image/png": "[encoded data removed]",
      "text/plain": [
       "<Figure size 800x400 with 2 Axes>"
      ]
     },
     "execution_count": 28,
     "metadata": {},
     "output_type": "execute_result"
    }
   ],
   "source": [
    "%matplotlib inline \n",
    "\n",
    "#Plot violins and sliders\n",
    "figure, slider_dict = qc.quality_violin(adata, var_columns,\n",
    "                                        which=\"var\", ncols=3,\n",
    "                                        title=\"Gene quality control (after)\",\n",
    "                                        save=figure_path + \"gene_filtering_final.png\")\n",
    "figure"
   ]
  },
  {
   "cell_type": "markdown",
   "metadata": {
    "ExecuteTime": {
     "end_time": "2022-06-13T13:09:34.519228Z",
     "start_time": "2022-06-13T13:09:34.515398Z"
    }
   },
   "source": [
    "### Filter additional marked genes\n",
    "Remove genes that are labeled as e.g. mitochondrial genes."
   ]
  },
  {
   "cell_type": "code",
   "execution_count": 29,
   "metadata": {
    "ExecuteTime": {
     "end_time": "2022-09-02T08:27:29.287445Z",
     "start_time": "2022-09-02T08:27:26.606795Z"
    },
    "editable": false,
    "run_control": {
     "marked": false
    }
   },
   "outputs": [
    {
     "name": "stdout",
     "output_type": "stream",
     "text": [
      "Removing mitochrondrial genes:\n",
      "Filtered out 13 genes from adata. New number of genes is: 21179\n"
     ]
    }
   ],
   "source": [
    "#Remove mitochrondrial genes\n",
    "if filter_mito is True:\n",
    "    print(\"Removing mitochrondrial genes:\")\n",
    "    qc.filter_genes(adata, \"is_mito\")\n",
    "\n",
    "#Remove ribosomal genes\n",
    "if filter_ribo is True:\n",
    "    print(\"Removing ribosomal genes:\")\n",
    "    qc_filter_genes(adata, \"is_ribo\")\n",
    "\n",
    "#Remove gender genes    \n",
    "if filter_gender is True:\n",
    "    print(\"Removing gender genes:\")\n",
    "    qc.filter_genes(adata, \"is_gender\")"
   ]
  },
  {
   "cell_type": "markdown",
   "metadata": {},
   "source": [
    "-------------"
   ]
  },
  {
   "cell_type": "markdown",
   "metadata": {},
   "source": [
    "## Save filtered adata\n",
    "Store the final results"
   ]
  },
  {
   "cell_type": "code",
   "execution_count": 30,
   "metadata": {
    "ExecuteTime": {
     "end_time": "2022-09-02T08:27:29.293849Z",
     "start_time": "2022-09-02T08:27:29.289434Z"
    },
    "editable": false,
    "run_control": {
     "marked": false
    }
   },
   "outputs": [
    {
     "data": {
      "text/plain": [
       "AnnData object with n_obs × n_vars = 2829 × 21179\n",
       "    obs: 'orig.ident', 'chamber', 'donor', 'batch', 'sample', 'celltype', 'total_counts', 'log1p_total_counts', 'total_counts_is_ribo', 'log1p_total_counts_is_ribo', 'pct_counts_is_ribo', 'total_counts_is_mito', 'log1p_total_counts_is_mito', 'pct_counts_is_mito', 'total_counts_is_gender', 'log1p_total_counts_is_gender', 'pct_counts_is_gender', 'predicted_sex', 'n_genes', 'log1p_n_genes'\n",
       "    var: 'is_ribo', 'is_mito', 'cellcycle', 'is_gender', 'n_cells_by_counts', 'mean_counts', 'log1p_mean_counts', 'pct_dropout_by_counts', 'total_counts', 'log1p_total_counts'\n",
       "    uns: 'color_set', 'infoprocess'"
      ]
     },
     "execution_count": 30,
     "metadata": {},
     "output_type": "execute_result"
    }
   ],
   "source": [
    "adata"
   ]
  },
  {
   "cell_type": "code",
   "execution_count": 31,
   "metadata": {
    "ExecuteTime": {
     "end_time": "2022-09-02T08:27:39.999822Z",
     "start_time": "2022-09-02T08:27:29.296815Z"
    },
    "editable": false,
    "run_control": {
     "marked": false
    }
   },
   "outputs": [
    {
     "name": "stdout",
     "output_type": "stream",
     "text": [
      "Your new anndata object is saved here: pipeline_output/results/Test1/anndata_2_Test1.h5ad\n"
     ]
    }
   ],
   "source": [
    "utils.saving_anndata(adata, current_notebook=2)"
   ]
  }
 ],
 "metadata": {
  "kernelspec": {
   "display_name": "sctoolbox",
   "language": "python",
   "name": "sctoolbox"
  },
  "language_info": {
   "codemirror_mode": {
    "name": "ipython",
    "version": 3
   },
   "file_extension": ".py",
   "mimetype": "text/x-python",
   "name": "python",
   "nbconvert_exporter": "python",
   "pygments_lexer": "ipython3",
   "version": "3.10.8"
  }
 },
 "nbformat": 4,
 "nbformat_minor": 4
}
