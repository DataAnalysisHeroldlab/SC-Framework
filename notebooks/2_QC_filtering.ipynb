{
 "cells": [
  {
   "cell_type": "markdown",
   "metadata": {},
   "source": [
    "# QC and filtering\n",
    "<hr style=\"border:2px solid black\"> </hr>"
   ]
  },
  {
   "cell_type": "markdown",
   "metadata": {},
   "source": [
    "**Quality control**\n",
    "\n",
    "\"We must ensure that all cellular barcode data correspond to viable cells.\n",
    "\n",
    "Cell QC is commonly performed based on three QC covariates: the number of counts per barcode (count depth), the number of genes per barcode, and the fraction of counts from mitochondrial genes per barcode.\n",
    "\n",
    "The distributions of these QC covariates are examined for outlier peaks that are filtered out by thresholding.\n",
    "\n",
    "These outlier barcodes can correspond to dying cells, cells whose membranes are broken, or doublets\".\n",
    "\n",
    "Samples with a low count depth, few detected genes, and a high fraction of mitochondrial counts are indicative of cells whose cytoplasmic mRNA has leaked out through a broken membrane.\n",
    "\n",
    "In contrast, cells with unexpectedly high counts and a large number of detected genes may represent doublets.\n",
    "\n",
    "**DOI: 10.15252/msb.20188746**"
   ]
  },
  {
   "cell_type": "markdown",
   "metadata": {},
   "source": [
    "<hr style=\"border:2px solid black\"> </hr>\n",
    "<h1><center>⬐ Fill in input data here ⬎</center></h1>"
   ]
  },
  {
   "cell_type": "code",
   "execution_count": 1,
   "metadata": {
    "ExecuteTime": {
     "end_time": "2022-08-18T08:08:50.490248Z",
     "start_time": "2022-08-18T08:08:50.483473Z"
    }
   },
   "outputs": [],
   "source": [
    "# Set the species of the data\n",
    "species = \"mouse\"\n",
    "\n",
    "# Set the column in adata.obs containing the biological condition to evaluate\n",
    "condition_column = \"condition\"\n",
    "\n",
    "# Set the column in adata.var containing gene names\n",
    "gene_column = \"gene\"\n",
    "\n",
    "# Decide whether to remove doublets using scrublet (True) or to skip doublet calculation (False)\n",
    "filter_doublets = False\n",
    "\n",
    "# Decide whether to estimate thresholds individual per condition (False) or globally (True)\n",
    "global_threshold = False \n",
    "\n",
    "# Removal of gene subsets\n",
    "filter_mito = True\n",
    "filter_gender = False"
   ]
  },
  {
   "cell_type": "markdown",
   "metadata": {},
   "source": [
    "<hr style=\"border:2px solid black\"> </hr>"
   ]
  },
  {
   "cell_type": "markdown",
   "metadata": {},
   "source": [
    "## Setup"
   ]
  },
  {
   "cell_type": "code",
   "execution_count": 2,
   "metadata": {
    "ExecuteTime": {
     "end_time": "2022-08-18T08:08:55.429273Z",
     "start_time": "2022-08-18T08:08:50.994843Z"
    }
   },
   "outputs": [],
   "source": [
    "#####################IMPORTING PACKAGES#############################\n",
    "import sctoolbox.utilities as utils\n",
    "import sctoolbox.marker_genes as marker_genes\n",
    "import sctoolbox.analyser as analyser\n",
    "import sctoolbox.qc_filter as qc\n",
    "import sctoolbox.plotting as pl"
   ]
  },
  {
   "cell_type": "markdown",
   "metadata": {},
   "source": [
    "## Load anndata\n",
    "Uses anndata object written by the previous notebook."
   ]
  },
  {
   "cell_type": "code",
   "execution_count": 3,
   "metadata": {
    "ExecuteTime": {
     "end_time": "2022-08-18T08:08:58.981613Z",
     "start_time": "2022-08-18T08:08:55.432483Z"
    },
    "scrolled": false
   },
   "outputs": [
    {
     "data": {
      "text/plain": [
       "AnnData object with n_obs × n_vars = 20192 × 55359\n",
       "    obs: 'sample', 'condition', 'batch'\n",
       "    var: 'gene', 'type'\n",
       "    uns: 'color_set', 'infoprocess'\n",
       "    layers: 'ambiguous', 'spliced', 'unspliced'"
      ]
     },
     "metadata": {},
     "output_type": "display_data"
    }
   ],
   "source": [
    "adata = utils.load_anndata(is_from_previous_note=True, which_notebook=1, data_to_evaluate=condition_column)\n",
    "display(adata)"
   ]
  },
  {
   "cell_type": "code",
   "execution_count": 4,
   "metadata": {},
   "outputs": [],
   "source": [
    "figure_path = adata.uns[\"infoprocess\"][\"Anndata_path\"] + \"/\""
   ]
  },
  {
   "cell_type": "markdown",
   "metadata": {},
   "source": [
    "## Label genes\n",
    "Mark genes on their general association. E.g. mitochondrial."
   ]
  },
  {
   "cell_type": "code",
   "execution_count": 5,
   "metadata": {
    "ExecuteTime": {
     "end_time": "2022-08-18T08:08:59.207922Z",
     "start_time": "2022-08-18T08:08:58.984193Z"
    },
    "scrolled": false
   },
   "outputs": [
    {
     "data": {
      "text/plain": [
       "['is_ribo', 'is_mito', 'is_gender']"
      ]
     },
     "metadata": {},
     "output_type": "display_data"
    }
   ],
   "source": [
    "marker_genes.label_genes(adata, gene_column=gene_column, species=species)\n",
    "\n",
    "display(adata.uns[\"infoprocess\"][\"genes_labeled\"])"
   ]
  },
  {
   "cell_type": "markdown",
   "metadata": {},
   "source": [
    "## Calculate QC metrics\n",
    "Create quality control metrics to filter the data on."
   ]
  },
  {
   "cell_type": "code",
   "execution_count": 6,
   "metadata": {
    "ExecuteTime": {
     "end_time": "2022-08-18T08:09:02.748219Z",
     "start_time": "2022-08-18T08:08:59.211116Z"
    }
   },
   "outputs": [],
   "source": [
    "# If control_var=True, include gene labels from in qc computation\n",
    "# TODO can't be disabled at the moment\n",
    "adata = analyser.qcmetric_calculator(adata, control_var=True)"
   ]
  },
  {
   "cell_type": "markdown",
   "metadata": {},
   "source": [
    "## Calculate doublet scores"
   ]
  },
  {
   "cell_type": "code",
   "execution_count": 7,
   "metadata": {},
   "outputs": [],
   "source": [
    "if filter_doublets:\n",
    "    \n",
    "    qc.estimate_doublets(adata)\n",
    "    \n",
    "    #Remove the duplicates from adata\n",
    "    qc.filter_genes(adata, \"predicted_doublet\", remove_bool=True)"
   ]
  },
  {
   "cell_type": "markdown",
   "metadata": {},
   "source": [
    "------------------"
   ]
  },
  {
   "cell_type": "markdown",
   "metadata": {},
   "source": [
    "## Cell filtering"
   ]
  },
  {
   "cell_type": "markdown",
   "metadata": {},
   "source": [
    "Low and high count depth indicates cells with low integrity and doublets, respectively (DOI: 10.15252/msb.20188746)."
   ]
  },
  {
   "cell_type": "code",
   "execution_count": 8,
   "metadata": {},
   "outputs": [
    {
     "data": {
      "text/plain": [
       "['n_genes_by_counts',\n",
       " 'log1p_total_counts',\n",
       " 'pct_counts_is_ribo',\n",
       " 'pct_counts_is_mito']"
      ]
     },
     "execution_count": 8,
     "metadata": {},
     "output_type": "execute_result"
    }
   ],
   "source": [
    "# Choose columns to be used for filtering\n",
    "obs_columns = [\"n_genes_by_counts\", \"log1p_total_counts\"]\n",
    "obs_columns += [\"pct_counts_\" + var for var in adata.uns[\"infoprocess\"][\"genes_labeled\"] if var != \"is_gender\"]\n",
    "obs_columns"
   ]
  },
  {
   "cell_type": "markdown",
   "metadata": {},
   "source": [
    "### Estimate initial thresholds automatically"
   ]
  },
  {
   "cell_type": "code",
   "execution_count": 9,
   "metadata": {},
   "outputs": [
    {
     "data": {
      "text/html": [
       "<div>\n",
       "<style scoped>\n",
       "    .dataframe tbody tr th:only-of-type {\n",
       "        vertical-align: middle;\n",
       "    }\n",
       "\n",
       "    .dataframe tbody tr th {\n",
       "        vertical-align: top;\n",
       "    }\n",
       "\n",
       "    .dataframe thead th {\n",
       "        text-align: right;\n",
       "    }\n",
       "</style>\n",
       "<table border=\"1\" class=\"dataframe\">\n",
       "  <thead>\n",
       "    <tr style=\"text-align: right;\">\n",
       "      <th></th>\n",
       "      <th>Parameter</th>\n",
       "      <th>Group</th>\n",
       "      <th>Minimum</th>\n",
       "      <th>Maximum</th>\n",
       "    </tr>\n",
       "  </thead>\n",
       "  <tbody>\n",
       "    <tr>\n",
       "      <th>0</th>\n",
       "      <td>n_genes_by_counts</td>\n",
       "      <td>room_air</td>\n",
       "      <td>1600.015979</td>\n",
       "      <td>8235.213156</td>\n",
       "    </tr>\n",
       "    <tr>\n",
       "      <th>1</th>\n",
       "      <td>n_genes_by_counts</td>\n",
       "      <td>smooke_exposure</td>\n",
       "      <td>947.275383</td>\n",
       "      <td>4839.443288</td>\n",
       "    </tr>\n",
       "    <tr>\n",
       "      <th>2</th>\n",
       "      <td>log1p_total_counts</td>\n",
       "      <td>room_air</td>\n",
       "      <td>9.102985</td>\n",
       "      <td>10.456527</td>\n",
       "    </tr>\n",
       "    <tr>\n",
       "      <th>3</th>\n",
       "      <td>log1p_total_counts</td>\n",
       "      <td>smooke_exposure</td>\n",
       "      <td>7.756745</td>\n",
       "      <td>10.404857</td>\n",
       "    </tr>\n",
       "    <tr>\n",
       "      <th>4</th>\n",
       "      <td>pct_counts_is_ribo</td>\n",
       "      <td>room_air</td>\n",
       "      <td>3.550919</td>\n",
       "      <td>4.483863</td>\n",
       "    </tr>\n",
       "    <tr>\n",
       "      <th>5</th>\n",
       "      <td>pct_counts_is_ribo</td>\n",
       "      <td>smooke_exposure</td>\n",
       "      <td>3.941160</td>\n",
       "      <td>5.347794</td>\n",
       "    </tr>\n",
       "    <tr>\n",
       "      <th>6</th>\n",
       "      <td>pct_counts_is_mito</td>\n",
       "      <td>room_air</td>\n",
       "      <td>2.829283</td>\n",
       "      <td>3.671975</td>\n",
       "    </tr>\n",
       "    <tr>\n",
       "      <th>7</th>\n",
       "      <td>pct_counts_is_mito</td>\n",
       "      <td>smooke_exposure</td>\n",
       "      <td>3.208609</td>\n",
       "      <td>4.491894</td>\n",
       "    </tr>\n",
       "  </tbody>\n",
       "</table>\n",
       "</div>"
      ],
      "text/plain": [
       "            Parameter            Group      Minimum      Maximum\n",
       "0   n_genes_by_counts         room_air  1600.015979  8235.213156\n",
       "1   n_genes_by_counts  smooke_exposure   947.275383  4839.443288\n",
       "2  log1p_total_counts         room_air     9.102985    10.456527\n",
       "3  log1p_total_counts  smooke_exposure     7.756745    10.404857\n",
       "4  pct_counts_is_ribo         room_air     3.550919     4.483863\n",
       "5  pct_counts_is_ribo  smooke_exposure     3.941160     5.347794\n",
       "6  pct_counts_is_mito         room_air     2.829283     3.671975\n",
       "7  pct_counts_is_mito  smooke_exposure     3.208609     4.491894"
      ]
     },
     "execution_count": 9,
     "metadata": {},
     "output_type": "execute_result"
    }
   ],
   "source": [
    "groupby = condition_column if global_threshold is False else None\n",
    "initial_thresholds = qc.automatic_thresholds(adata, which=\"obs\", groupby=groupby, columns=obs_columns)\n",
    "qc.thresholds_as_table(initial_thresholds) # show thresholds"
   ]
  },
  {
   "cell_type": "markdown",
   "metadata": {},
   "source": [
    "### Customize thresholds via sliders"
   ]
  },
  {
   "cell_type": "markdown",
   "metadata": {},
   "source": [
    " (Rerun cell if plot is not shown)"
   ]
  },
  {
   "cell_type": "code",
   "execution_count": 10,
   "metadata": {},
   "outputs": [
    {
     "data": {
      "application/vnd.jupyter.widget-view+json": {
       "model_id": "5217f6758d30497e8fab3faa5a7d4df8",
       "version_major": 2,
       "version_minor": 0
      },
      "text/plain": [
       "HBox(children=(Accordion(children=(VBox(children=(Checkbox(value=False, description='Global threshold', indent…"
      ]
     },
     "metadata": {},
     "output_type": "display_data"
    }
   ],
   "source": [
    "%matplotlib widget\n",
    "\n",
    "#Plot violins and sliders\n",
    "obs_figure, obs_slider_dict = qc.quality_violin(adata, obs_columns,\n",
    "                                            groupby=condition_column,\n",
    "                                            which=\"obs\",\n",
    "                                            thresholds=initial_thresholds,\n",
    "                                            global_threshold=global_threshold,\n",
    "                                            title=\"Cell quality control (before)\",\n",
    "                                            save=figure_path + \"cell_filtering.png\")\n",
    "obs_figure"
   ]
  },
  {
   "cell_type": "code",
   "execution_count": 11,
   "metadata": {},
   "outputs": [
    {
     "data": {
      "text/html": [
       "<div>\n",
       "<style scoped>\n",
       "    .dataframe tbody tr th:only-of-type {\n",
       "        vertical-align: middle;\n",
       "    }\n",
       "\n",
       "    .dataframe tbody tr th {\n",
       "        vertical-align: top;\n",
       "    }\n",
       "\n",
       "    .dataframe thead th {\n",
       "        text-align: right;\n",
       "    }\n",
       "</style>\n",
       "<table border=\"1\" class=\"dataframe\">\n",
       "  <thead>\n",
       "    <tr style=\"text-align: right;\">\n",
       "      <th></th>\n",
       "      <th>Parameter</th>\n",
       "      <th>Group</th>\n",
       "      <th>Minimum</th>\n",
       "      <th>Maximum</th>\n",
       "    </tr>\n",
       "  </thead>\n",
       "  <tbody>\n",
       "    <tr>\n",
       "      <th>0</th>\n",
       "      <td>n_genes_by_counts</td>\n",
       "      <td>room_air</td>\n",
       "      <td>1600.015979</td>\n",
       "      <td>8235.213156</td>\n",
       "    </tr>\n",
       "    <tr>\n",
       "      <th>1</th>\n",
       "      <td>n_genes_by_counts</td>\n",
       "      <td>smooke_exposure</td>\n",
       "      <td>1560.000000</td>\n",
       "      <td>4839.443288</td>\n",
       "    </tr>\n",
       "    <tr>\n",
       "      <th>2</th>\n",
       "      <td>log1p_total_counts</td>\n",
       "      <td>room_air</td>\n",
       "      <td>9.102985</td>\n",
       "      <td>10.456527</td>\n",
       "    </tr>\n",
       "    <tr>\n",
       "      <th>3</th>\n",
       "      <td>log1p_total_counts</td>\n",
       "      <td>smooke_exposure</td>\n",
       "      <td>8.083328</td>\n",
       "      <td>10.404857</td>\n",
       "    </tr>\n",
       "    <tr>\n",
       "      <th>4</th>\n",
       "      <td>pct_counts_is_ribo</td>\n",
       "      <td>room_air</td>\n",
       "      <td>3.550919</td>\n",
       "      <td>4.483863</td>\n",
       "    </tr>\n",
       "    <tr>\n",
       "      <th>5</th>\n",
       "      <td>pct_counts_is_ribo</td>\n",
       "      <td>smooke_exposure</td>\n",
       "      <td>3.941160</td>\n",
       "      <td>5.347794</td>\n",
       "    </tr>\n",
       "    <tr>\n",
       "      <th>6</th>\n",
       "      <td>pct_counts_is_mito</td>\n",
       "      <td>room_air</td>\n",
       "      <td>2.829283</td>\n",
       "      <td>3.671975</td>\n",
       "    </tr>\n",
       "    <tr>\n",
       "      <th>7</th>\n",
       "      <td>pct_counts_is_mito</td>\n",
       "      <td>smooke_exposure</td>\n",
       "      <td>3.208609</td>\n",
       "      <td>4.491894</td>\n",
       "    </tr>\n",
       "  </tbody>\n",
       "</table>\n",
       "</div>"
      ],
      "text/plain": [
       "            Parameter            Group      Minimum      Maximum\n",
       "0   n_genes_by_counts         room_air  1600.015979  8235.213156\n",
       "1   n_genes_by_counts  smooke_exposure  1560.000000  4839.443288\n",
       "2  log1p_total_counts         room_air     9.102985    10.456527\n",
       "3  log1p_total_counts  smooke_exposure     8.083328    10.404857\n",
       "4  pct_counts_is_ribo         room_air     3.550919     4.483863\n",
       "5  pct_counts_is_ribo  smooke_exposure     3.941160     5.347794\n",
       "6  pct_counts_is_mito         room_air     2.829283     3.671975\n",
       "7  pct_counts_is_mito  smooke_exposure     3.208609     4.491894"
      ]
     },
     "execution_count": 11,
     "metadata": {},
     "output_type": "execute_result"
    }
   ],
   "source": [
    "# Get final thresholds\n",
    "final_thresholds = qc.get_slider_thresholds(obs_slider_dict)\n",
    "qc.thresholds_as_table(final_thresholds) # show thresholds"
   ]
  },
  {
   "cell_type": "markdown",
   "metadata": {},
   "source": [
    "### Apply final thresholds\n",
    "Filter the anndata object based on the thresholds in the threshold table."
   ]
  },
  {
   "cell_type": "code",
   "execution_count": 12,
   "metadata": {},
   "outputs": [
    {
     "name": "stdout",
     "output_type": "stream",
     "text": [
      "Filtering based on 'n_genes_by_counts' from 20192 -> 19449 cells\n",
      "Filtering based on 'log1p_total_counts' from 19449 -> 18569 cells\n",
      "Filtering based on 'pct_counts_is_ribo' from 18569 -> 18480 cells\n",
      "Filtering based on 'pct_counts_is_mito' from 18480 -> 18362 cells\n"
     ]
    }
   ],
   "source": [
    "qc.apply_qc_thresholds(adata, which=\"obs\", thresholds=final_thresholds, groupby=groupby)"
   ]
  },
  {
   "cell_type": "markdown",
   "metadata": {},
   "source": [
    "### Show data after filtering"
   ]
  },
  {
   "cell_type": "code",
   "execution_count": 13,
   "metadata": {},
   "outputs": [
    {
     "data": {
      "image/png": "[encoded data removed]",
      "text/plain": [
       "<Figure size 1200x800 with 6 Axes>"
      ]
     },
     "execution_count": 13,
     "metadata": {},
     "output_type": "execute_result"
    }
   ],
   "source": [
    "%matplotlib inline \n",
    "\n",
    "#Plot violins and sliders\n",
    "figure, slider_dict = qc.quality_violin(adata, obs_columns,\n",
    "                                     groupby=condition_column,\n",
    "                                     which=\"obs\", ncols=3,\n",
    "                                     global_threshold = global_threshold,\n",
    "                                     title=\"Cell quality control (after)\",\n",
    "                                     save=figure_path + \"cell_filtering_final.png\")\n",
    "figure"
   ]
  },
  {
   "cell_type": "markdown",
   "metadata": {},
   "source": [
    "-------------------"
   ]
  },
  {
   "cell_type": "markdown",
   "metadata": {},
   "source": [
    "## Gene filtering"
   ]
  },
  {
   "cell_type": "code",
   "execution_count": 14,
   "metadata": {},
   "outputs": [],
   "source": [
    "#Recalculate quality measures for genes\n",
    "adata = analyser.qcmetric_calculator(adata)"
   ]
  },
  {
   "cell_type": "code",
   "execution_count": 15,
   "metadata": {},
   "outputs": [],
   "source": [
    "#Remove genes with 0 count\n",
    "zero_bool = adata.var[\"n_cells_by_counts\"] == 0\n",
    "adata = adata[:,~zero_bool]"
   ]
  },
  {
   "cell_type": "code",
   "execution_count": 16,
   "metadata": {},
   "outputs": [],
   "source": [
    "#Choose columns for quality control\n",
    "var_columns = [\"n_cells_by_counts\", \"log1p_mean_counts\"]"
   ]
  },
  {
   "cell_type": "markdown",
   "metadata": {},
   "source": [
    "### Customize thresholds via sliders"
   ]
  },
  {
   "cell_type": "markdown",
   "metadata": {},
   "source": [
    " (Rerun cell if plot is not shown)"
   ]
  },
  {
   "cell_type": "code",
   "execution_count": 17,
   "metadata": {},
   "outputs": [
    {
     "data": {
      "application/vnd.jupyter.widget-view+json": {
       "model_id": "5d7bee344fc64e90891405f7a6222d52",
       "version_major": 2,
       "version_minor": 0
      },
      "text/plain": [
       "HBox(children=(Accordion(children=(VBox(children=(FloatRangeSlider(value=(1.0, 18362.0), continuous_update=Fal…"
      ]
     },
     "metadata": {},
     "output_type": "display_data"
    }
   ],
   "source": [
    "%matplotlib widget\n",
    "\n",
    "#Plot violins and sliders\n",
    "var_figure, var_slider_dict = qc.quality_violin(adata, var_columns,\n",
    "                                            which=\"var\",\n",
    "                                            title=\"Gene quality control (before)\",\n",
    "                                            save=figure_path + \"gene_filtering.png\")\n",
    "var_figure"
   ]
  },
  {
   "cell_type": "markdown",
   "metadata": {},
   "source": [
    "### Apply gene filtering"
   ]
  },
  {
   "cell_type": "code",
   "execution_count": 18,
   "metadata": {},
   "outputs": [
    {
     "data": {
      "text/html": [
       "<div>\n",
       "<style scoped>\n",
       "    .dataframe tbody tr th:only-of-type {\n",
       "        vertical-align: middle;\n",
       "    }\n",
       "\n",
       "    .dataframe tbody tr th {\n",
       "        vertical-align: top;\n",
       "    }\n",
       "\n",
       "    .dataframe thead th {\n",
       "        text-align: right;\n",
       "    }\n",
       "</style>\n",
       "<table border=\"1\" class=\"dataframe\">\n",
       "  <thead>\n",
       "    <tr style=\"text-align: right;\">\n",
       "      <th></th>\n",
       "      <th>Parameter</th>\n",
       "      <th>Minimum</th>\n",
       "      <th>Maximum</th>\n",
       "    </tr>\n",
       "  </thead>\n",
       "  <tbody>\n",
       "    <tr>\n",
       "      <th>0</th>\n",
       "      <td>n_cells_by_counts</td>\n",
       "      <td>1.000000</td>\n",
       "      <td>18362.000000</td>\n",
       "    </tr>\n",
       "    <tr>\n",
       "      <th>1</th>\n",
       "      <td>log1p_mean_counts</td>\n",
       "      <td>0.000054</td>\n",
       "      <td>6.920063</td>\n",
       "    </tr>\n",
       "  </tbody>\n",
       "</table>\n",
       "</div>"
      ],
      "text/plain": [
       "           Parameter   Minimum       Maximum\n",
       "0  n_cells_by_counts  1.000000  18362.000000\n",
       "1  log1p_mean_counts  0.000054      6.920063"
      ]
     },
     "execution_count": 18,
     "metadata": {},
     "output_type": "execute_result"
    }
   ],
   "source": [
    "# Get final thresholds\n",
    "final_thresholds = qc.get_slider_thresholds(var_slider_dict)\n",
    "qc.thresholds_as_table(final_thresholds) # show thresholds"
   ]
  },
  {
   "cell_type": "code",
   "execution_count": 19,
   "metadata": {},
   "outputs": [
    {
     "name": "stdout",
     "output_type": "stream",
     "text": [
      "Filtering based on 'n_cells_by_counts' from 32106 -> 32106 .var features\n",
      "Filtering based on 'log1p_mean_counts' from 32106 -> 32106 .var features\n"
     ]
    }
   ],
   "source": [
    "qc.apply_qc_thresholds(adata, which=\"var\", thresholds=final_thresholds)"
   ]
  },
  {
   "cell_type": "code",
   "execution_count": 20,
   "metadata": {},
   "outputs": [
    {
     "data": {
      "text/plain": [
       "AnnData object with n_obs × n_vars = 18362 × 32106\n",
       "    obs: 'sample', 'condition', 'batch', 'n_genes_by_counts', 'total_counts', 'log1p_total_counts', 'total_counts_is_ribo', 'pct_counts_is_ribo', 'total_counts_is_mito', 'pct_counts_is_mito', 'total_counts_is_gender', 'pct_counts_is_gender'\n",
       "    var: 'gene', 'type', 'is_ribo', 'is_mito', 'cellcycle', 'is_gender', 'n_cells_by_counts', 'mean_counts', 'log1p_mean_counts', 'pct_dropout_by_counts'\n",
       "    uns: 'color_set', 'infoprocess'\n",
       "    layers: 'ambiguous', 'spliced', 'unspliced'"
      ]
     },
     "execution_count": 20,
     "metadata": {},
     "output_type": "execute_result"
    }
   ],
   "source": [
    "adata"
   ]
  },
  {
   "cell_type": "markdown",
   "metadata": {},
   "source": [
    "### Show data after filtering"
   ]
  },
  {
   "cell_type": "code",
   "execution_count": 21,
   "metadata": {},
   "outputs": [
    {
     "data": {
      "image/png": "[encoded data removed]",
      "text/plain": [
       "<Figure size 800x400 with 2 Axes>"
      ]
     },
     "execution_count": 21,
     "metadata": {},
     "output_type": "execute_result"
    }
   ],
   "source": [
    "%matplotlib inline \n",
    "\n",
    "#Plot violins and sliders\n",
    "figure, slider_dict = qc.quality_violin(adata, var_columns,\n",
    "                                        which=\"var\", ncols=3,\n",
    "                                        title=\"Gene quality control (after)\",\n",
    "                                        save=figure_path + \"gene_filtering_final.png\")\n",
    "figure"
   ]
  },
  {
   "cell_type": "markdown",
   "metadata": {
    "ExecuteTime": {
     "end_time": "2022-06-13T13:09:34.519228Z",
     "start_time": "2022-06-13T13:09:34.515398Z"
    }
   },
   "source": [
    "### Filter additional marked genes\n",
    "Remove genes that are labeled as e.g. mitochondrial genes."
   ]
  },
  {
   "cell_type": "code",
   "execution_count": 22,
   "metadata": {
    "ExecuteTime": {
     "end_time": "2022-08-18T08:09:14.906993Z",
     "start_time": "2022-08-18T08:09:14.904498Z"
    }
   },
   "outputs": [
    {
     "name": "stdout",
     "output_type": "stream",
     "text": [
      "Removing mitochrondrial genes:\n",
      "Filtered out 37 genes from adata. New number of genes is: 32069.\n"
     ]
    }
   ],
   "source": [
    "# TODO test code\n",
    "\n",
    "#Remove mitochrondrial genes\n",
    "if filter_mito is True:\n",
    "    print(\"Removing mitochrondrial genes:\")\n",
    "    qc.filter_genes(adata, \"is_mito\")\n",
    "\n",
    "#Remove gender genes    \n",
    "if filter_gender is True:\n",
    "    print(\"Removing gender genes:\")\n",
    "    qc.filter_genes(adata, \"is_gender\")\n",
    "\n",
    "#Remove custom genes from list\n",
    "#adata4 = qc.filter_genes(adata3, \"is_custom\")"
   ]
  },
  {
   "cell_type": "markdown",
   "metadata": {},
   "source": [
    "-------------"
   ]
  },
  {
   "cell_type": "markdown",
   "metadata": {},
   "source": [
    "## Save filtered adata\n",
    "Store the final results"
   ]
  },
  {
   "cell_type": "code",
   "execution_count": 23,
   "metadata": {},
   "outputs": [
    {
     "data": {
      "text/plain": [
       "AnnData object with n_obs × n_vars = 18362 × 32069\n",
       "    obs: 'sample', 'condition', 'batch', 'n_genes_by_counts', 'total_counts', 'log1p_total_counts', 'total_counts_is_ribo', 'pct_counts_is_ribo', 'total_counts_is_mito', 'pct_counts_is_mito', 'total_counts_is_gender', 'pct_counts_is_gender'\n",
       "    var: 'gene', 'type', 'is_ribo', 'is_mito', 'cellcycle', 'is_gender', 'n_cells_by_counts', 'mean_counts', 'log1p_mean_counts', 'pct_dropout_by_counts'\n",
       "    uns: 'color_set', 'infoprocess'\n",
       "    layers: 'ambiguous', 'spliced', 'unspliced'"
      ]
     },
     "execution_count": 23,
     "metadata": {},
     "output_type": "execute_result"
    }
   ],
   "source": [
    "adata"
   ]
  },
  {
   "cell_type": "code",
   "execution_count": 24,
   "metadata": {
    "ExecuteTime": {
     "end_time": "2022-08-18T08:09:44.116856Z",
     "start_time": "2022-08-18T08:09:33.213870Z"
    }
   },
   "outputs": [
    {
     "name": "stdout",
     "output_type": "stream",
     "text": [
      "Your new anndata object is saved here: pipeline_output/results/Test1/anndata_2_Test1.h5ad\n"
     ]
    }
   ],
   "source": [
    "utils.saving_anndata(adata, current_notebook=2)"
   ]
  }
 ],
 "metadata": {
  "kernelspec": {
   "display_name": "sctoolbox",
   "language": "python",
   "name": "sctoolbox"
  },
  "language_info": {
   "codemirror_mode": {
    "name": "ipython",
    "version": 3
   },
   "file_extension": ".py",
   "mimetype": "text/x-python",
   "name": "python",
   "nbconvert_exporter": "python",
   "pygments_lexer": "ipython3",
   "version": "3.10.5"
  }
 },
 "nbformat": 4,
 "nbformat_minor": 4
}
