{
 "cells": [
  {
   "cell_type": "code",
   "execution_count": 30,
   "metadata": {
    "ExecuteTime": {
     "end_time": "2022-09-02T08:25:17.091414Z",
     "start_time": "2022-09-02T08:25:14.272638Z"
    },
    "editable": false,
    "init_cell": true,
    "run_control": {
     "marked": false
    }
   },
   "outputs": [],
   "source": [
    "from sctoolbox.utilities import bgcolor"
   ]
  },
  {
   "cell_type": "markdown",
   "metadata": {},
   "source": [
    "# QC and filtering\n",
    "<hr style=\"border:2px solid black\"> </hr>"
   ]
  },
  {
   "cell_type": "markdown",
   "metadata": {},
   "source": [
    "**Quality control**\n",
    "\n",
    "\"We must ensure that all cellular barcode data correspond to viable cells.\n",
    "\n",
    "Cell QC is commonly performed based on three QC covariates: the number of counts per barcode (count depth), the number of genes per barcode, and the fraction of counts from mitochondrial genes per barcode.\n",
    "\n",
    "The distributions of these QC covariates are examined for outlier peaks that are filtered out by thresholding.\n",
    "\n",
    "These outlier barcodes can correspond to dying cells, cells whose membranes are broken, or doublets\".\n",
    "\n",
    "Samples with a low count depth, few detected genes, and a high fraction of mitochondrial counts are indicative of cells whose cytoplasmic mRNA has leaked out through a broken membrane.\n",
    "\n",
    "In contrast, cells with unexpectedly high counts and a large number of detected genes may represent doublets.\n",
    "\n",
    "**DOI: 10.15252/msb.20188746**"
   ]
  },
  {
   "cell_type": "markdown",
   "metadata": {},
   "source": [
    "<hr style=\"border:2px solid black\"> </hr>\n",
    "<h1><center>⬐ Fill in input data here ⬎</center></h1>"
   ]
  },
  {
   "cell_type": "code",
   "execution_count": 31,
   "metadata": {
    "ExecuteTime": {
     "end_time": "2022-09-02T08:25:17.103934Z",
     "start_time": "2022-09-02T08:25:17.094212Z"
    },
    "init_cell": true,
    "run_control": {
     "marked": false
    }
   },
   "outputs": [
    {
     "data": {
      "text/html": [
       "<img src onerror=\"\n",
       "                var cell = this.closest('.code_cell');\n",
       "                var editor = cell.querySelector('.CodeMirror-sizer');\n",
       "                editor.style.background='PowderBlue';\n",
       "                this.parentNode.removeChild(this)\n",
       "                \">"
      ],
      "text/plain": [
       "<IPython.core.display.HTML object>"
      ]
     },
     "metadata": {},
     "output_type": "display_data"
    }
   ],
   "source": [
    "%bgcolor PowderBlue\n",
    "\n",
    "# Set the species of the data\n",
    "species = \"human\"\n",
    "\n",
    "# Set the column in adata.obs containing the biological condition to evaluate\n",
    "condition_column = \"sample\"\n",
    "\n",
    "# Set the column in adata.var containing gene names (or set to None to use adata.var index)\n",
    "gene_column = None\n",
    "\n",
    "# Decide the sex of each sample\n",
    "predict_sex = True\n",
    "female_gene = \"Xist\"\n",
    "\n",
    "# Decide whether to remove doublets using scrublet (True) or to skip doublet calculation (False)\n",
    "filter_doublets = True\n",
    "threads = 4\n",
    "doublet_threshold = 0.2\n",
    "\n",
    "# Decide whether to estimate thresholds individual per condition (False) or globally (True)\n",
    "global_threshold = False\n",
    "\n",
    "# Removal of gene subsets\n",
    "filter_mito = True\n",
    "filter_ribo = False\n",
    "filter_gender = False"
   ]
  },
  {
   "cell_type": "markdown",
   "metadata": {},
   "source": [
    "<hr style=\"border:2px solid black\"> </hr>"
   ]
  },
  {
   "cell_type": "markdown",
   "metadata": {},
   "source": [
    "## Setup"
   ]
  },
  {
   "cell_type": "code",
   "execution_count": 5,
   "metadata": {
    "ExecuteTime": {
     "end_time": "2022-09-02T08:25:18.166358Z",
     "start_time": "2022-09-02T08:25:17.105775Z"
    },
    "editable": false,
    "run_control": {
     "marked": false
    }
   },
   "outputs": [],
   "source": [
    "#####################IMPORTING PACKAGES#############################\n",
    "import sctoolbox.utilities as utils\n",
    "import sctoolbox.marker_genes as marker_genes\n",
    "import sctoolbox.analyser as analyser\n",
    "import sctoolbox.qc_filter as qc\n",
    "import sctoolbox.plotting as pl"
   ]
  },
  {
   "cell_type": "markdown",
   "metadata": {},
   "source": [
    "## Load anndata\n",
    "Uses anndata object written by the previous notebook."
   ]
  },
  {
   "cell_type": "code",
   "execution_count": 6,
   "metadata": {
    "ExecuteTime": {
     "end_time": "2022-09-02T08:25:21.105479Z",
     "start_time": "2022-09-02T08:25:18.169366Z"
    },
    "editable": false,
    "run_control": {
     "marked": false
    },
    "scrolled": false
   },
   "outputs": [
    {
     "data": {
      "text/plain": [
       "AnnData object with n_obs × n_vars = 5000 × 26128\n",
       "    obs: 'orig.ident', 'chamber', 'donor', 'batch', 'sample', 'celltype'\n",
       "    uns: 'color_set', 'infoprocess'"
      ]
     },
     "metadata": {},
     "output_type": "display_data"
    }
   ],
   "source": [
    "adata = utils.load_anndata(is_from_previous_note=True, which_notebook=1, data_to_evaluate=condition_column)\n",
    "display(adata)"
   ]
  },
  {
   "cell_type": "code",
   "execution_count": 7,
   "metadata": {
    "editable": false,
    "run_control": {
     "marked": false
    }
   },
   "outputs": [],
   "source": [
    "#Ensure that condition column is a category\n",
    "adata.obs[condition_column] = adata.obs[condition_column].astype(\"category\")"
   ]
  },
  {
   "cell_type": "code",
   "execution_count": 8,
   "metadata": {
    "ExecuteTime": {
     "end_time": "2022-09-02T08:25:21.111768Z",
     "start_time": "2022-09-02T08:25:21.108399Z"
    },
    "editable": false,
    "run_control": {
     "marked": false
    }
   },
   "outputs": [],
   "source": [
    "figure_path = adata.uns[\"infoprocess\"][\"Anndata_path\"] + \"/\""
   ]
  },
  {
   "cell_type": "markdown",
   "metadata": {},
   "source": [
    "## Label genes\n",
    "Mark genes on their general association. E.g. mitochondrial."
   ]
  },
  {
   "cell_type": "code",
   "execution_count": 9,
   "metadata": {
    "ExecuteTime": {
     "end_time": "2022-09-02T08:25:21.185930Z",
     "start_time": "2022-09-02T08:25:21.114129Z"
    },
    "editable": false,
    "run_control": {
     "marked": false
    },
    "scrolled": false
   },
   "outputs": [
    {
     "data": {
      "text/plain": [
       "['is_ribo', 'is_mito', 'is_gender']"
      ]
     },
     "metadata": {},
     "output_type": "display_data"
    }
   ],
   "source": [
    "marker_genes.label_genes(adata, gene_column=gene_column, species=species)\n",
    "\n",
    "display(adata.uns[\"infoprocess\"][\"genes_labeled\"])"
   ]
  },
  {
   "cell_type": "markdown",
   "metadata": {},
   "source": [
    "## Calculate QC metrics\n",
    "Create quality control metrics to filter the data on."
   ]
  },
  {
   "cell_type": "code",
   "execution_count": 10,
   "metadata": {
    "ExecuteTime": {
     "end_time": "2022-09-02T08:25:25.225509Z",
     "start_time": "2022-09-02T08:25:21.187688Z"
    },
    "editable": false,
    "run_control": {
     "marked": false
    }
   },
   "outputs": [],
   "source": [
    "# If control_var=True, include gene labels from in qc computation\n",
    "# TODO can't be disabled at the moment\n",
    "adata = analyser.calculate_qc_metrics(adata, qc_vars=adata.uns[\"infoprocess\"][\"genes_labeled\"])"
   ]
  },
  {
   "cell_type": "markdown",
   "metadata": {},
   "source": [
    "## Calculate doublet scores"
   ]
  },
  {
   "cell_type": "code",
   "execution_count": 11,
   "metadata": {
    "ExecuteTime": {
     "end_time": "2022-09-02T08:25:25.230766Z",
     "start_time": "2022-09-02T08:25:25.227493Z"
    },
    "editable": false,
    "run_control": {
     "marked": false
    }
   },
   "outputs": [
    {
     "name": "stdout",
     "output_type": "stream",
     "text": [
      "Sending 7 batches to 4 threads\n"
     ]
    },
    {
     "data": {
      "application/vnd.jupyter.widget-view+json": {
       "model_id": "f10919b20f344231821e1868c30813bf",
       "version_major": 2,
       "version_minor": 0
      },
      "text/plain": [
       "Scrublet per group:   0%|          | 0/7 [00:00<?, ?it/s]"
      ]
     },
     "metadata": {},
     "output_type": "display_data"
    },
    {
     "data": {
      "image/png": "[encoded data removed]",
      "text/plain": [
       "<Figure size 800x300 with 2 Axes>"
      ]
     },
     "metadata": {},
     "output_type": "display_data"
    },
    {
     "name": "stdout",
     "output_type": "stream",
     "text": [
      "Filtered out 96 cells from adata. New number of cells is: 4904\n"
     ]
    }
   ],
   "source": [
    "if filter_doublets:\n",
    "    \n",
    "    qc.estimate_doublets(adata, groupby=condition_column, threads=threads, threshold=doublet_threshold)\n",
    "    \n",
    "    #Remove the duplicates from adata\n",
    "    qc.filter_cells(adata, \"predicted_doublet\", remove_bool=True)"
   ]
  },
  {
   "cell_type": "markdown",
   "metadata": {},
   "source": [
    "## Predict sex per sample"
   ]
  },
  {
   "cell_type": "code",
   "execution_count": 12,
   "metadata": {
    "editable": false,
    "run_control": {
     "marked": false
    }
   },
   "outputs": [
    {
     "name": "stdout",
     "output_type": "stream",
     "text": [
      "Normalizing adata\n",
      "Estimating male/female per group\n",
      "Plotting violins\n"
     ]
    },
    {
     "data": {
      "image/png": "[encoded data removed]",
      "text/plain": [
       "<Figure size 640x400 with 2 Axes>"
      ]
     },
     "metadata": {},
     "output_type": "display_data"
    }
   ],
   "source": [
    "if predict_sex:\n",
    "    qc.predict_sex(adata, gene=female_gene, \n",
    "                          groupby=condition_column, \n",
    "                          gene_column=gene_column, \n",
    "                          save=figure_path + \"female_prediction.png\")"
   ]
  },
  {
   "cell_type": "markdown",
   "metadata": {},
   "source": [
    "------------------"
   ]
  },
  {
   "cell_type": "markdown",
   "metadata": {},
   "source": [
    "## Cell filtering"
   ]
  },
  {
   "cell_type": "markdown",
   "metadata": {},
   "source": [
    "Low and high count depth indicates cells with low integrity and doublets, respectively (DOI: 10.15252/msb.20188746)."
   ]
  },
  {
   "cell_type": "code",
   "execution_count": 13,
   "metadata": {
    "ExecuteTime": {
     "end_time": "2022-09-02T08:25:25.237094Z",
     "start_time": "2022-09-02T08:25:25.232618Z"
    },
    "editable": false,
    "run_control": {
     "marked": false
    }
   },
   "outputs": [
    {
     "data": {
      "text/plain": [
       "['n_genes_by_counts',\n",
       " 'log1p_total_counts',\n",
       " 'pct_counts_is_ribo',\n",
       " 'pct_counts_is_mito']"
      ]
     },
     "execution_count": 13,
     "metadata": {},
     "output_type": "execute_result"
    }
   ],
   "source": [
    "# Choose columns to be used for filtering\n",
    "obs_columns = [\"n_genes_by_counts\", \"log1p_total_counts\"]\n",
    "obs_columns += [\"pct_counts_\" + var for var in adata.uns[\"infoprocess\"][\"genes_labeled\"] if var != \"is_gender\"]\n",
    "obs_columns"
   ]
  },
  {
   "cell_type": "markdown",
   "metadata": {},
   "source": [
    "### Estimate initial thresholds automatically"
   ]
  },
  {
   "cell_type": "code",
   "execution_count": 14,
   "metadata": {
    "ExecuteTime": {
     "end_time": "2022-09-02T08:25:33.004359Z",
     "start_time": "2022-09-02T08:25:25.240381Z"
    },
    "editable": false,
    "run_control": {
     "marked": false
    }
   },
   "outputs": [
    {
     "data": {
      "text/html": [
       "<div>\n",
       "<style scoped>\n",
       "    .dataframe tbody tr th:only-of-type {\n",
       "        vertical-align: middle;\n",
       "    }\n",
       "\n",
       "    .dataframe tbody tr th {\n",
       "        vertical-align: top;\n",
       "    }\n",
       "\n",
       "    .dataframe thead th {\n",
       "        text-align: right;\n",
       "    }\n",
       "</style>\n",
       "<table border=\"1\" class=\"dataframe\">\n",
       "  <thead>\n",
       "    <tr style=\"text-align: right;\">\n",
       "      <th></th>\n",
       "      <th>Parameter</th>\n",
       "      <th>Group</th>\n",
       "      <th>Minimum</th>\n",
       "      <th>Maximum</th>\n",
       "    </tr>\n",
       "  </thead>\n",
       "  <tbody>\n",
       "    <tr>\n",
       "      <th>0</th>\n",
       "      <td>n_genes_by_counts</td>\n",
       "      <td>2A</td>\n",
       "      <td>405.252544</td>\n",
       "      <td>949.779722</td>\n",
       "    </tr>\n",
       "    <tr>\n",
       "      <th>1</th>\n",
       "      <td>n_genes_by_counts</td>\n",
       "      <td>2B</td>\n",
       "      <td>272.117995</td>\n",
       "      <td>926.086762</td>\n",
       "    </tr>\n",
       "    <tr>\n",
       "      <th>2</th>\n",
       "      <td>n_genes_by_counts</td>\n",
       "      <td>2C</td>\n",
       "      <td>274.003392</td>\n",
       "      <td>532.586969</td>\n",
       "    </tr>\n",
       "    <tr>\n",
       "      <th>3</th>\n",
       "      <td>n_genes_by_counts</td>\n",
       "      <td>2D</td>\n",
       "      <td>296.133704</td>\n",
       "      <td>921.360082</td>\n",
       "    </tr>\n",
       "    <tr>\n",
       "      <th>4</th>\n",
       "      <td>n_genes_by_counts</td>\n",
       "      <td>3B</td>\n",
       "      <td>317.753616</td>\n",
       "      <td>1144.850551</td>\n",
       "    </tr>\n",
       "    <tr>\n",
       "      <th>5</th>\n",
       "      <td>n_genes_by_counts</td>\n",
       "      <td>3C</td>\n",
       "      <td>409.382860</td>\n",
       "      <td>902.522442</td>\n",
       "    </tr>\n",
       "    <tr>\n",
       "      <th>6</th>\n",
       "      <td>n_genes_by_counts</td>\n",
       "      <td>3D</td>\n",
       "      <td>283.805647</td>\n",
       "      <td>996.055788</td>\n",
       "    </tr>\n",
       "    <tr>\n",
       "      <th>7</th>\n",
       "      <td>log1p_total_counts</td>\n",
       "      <td>2A</td>\n",
       "      <td>6.373046</td>\n",
       "      <td>7.047137</td>\n",
       "    </tr>\n",
       "    <tr>\n",
       "      <th>8</th>\n",
       "      <td>log1p_total_counts</td>\n",
       "      <td>2B</td>\n",
       "      <td>6.487980</td>\n",
       "      <td>7.255464</td>\n",
       "    </tr>\n",
       "    <tr>\n",
       "      <th>9</th>\n",
       "      <td>log1p_total_counts</td>\n",
       "      <td>2C</td>\n",
       "      <td>5.974850</td>\n",
       "      <td>6.671568</td>\n",
       "    </tr>\n",
       "    <tr>\n",
       "      <th>10</th>\n",
       "      <td>log1p_total_counts</td>\n",
       "      <td>2D</td>\n",
       "      <td>6.116061</td>\n",
       "      <td>7.361048</td>\n",
       "    </tr>\n",
       "    <tr>\n",
       "      <th>11</th>\n",
       "      <td>log1p_total_counts</td>\n",
       "      <td>3B</td>\n",
       "      <td>6.503778</td>\n",
       "      <td>7.141741</td>\n",
       "    </tr>\n",
       "    <tr>\n",
       "      <th>12</th>\n",
       "      <td>log1p_total_counts</td>\n",
       "      <td>3C</td>\n",
       "      <td>5.990641</td>\n",
       "      <td>6.657248</td>\n",
       "    </tr>\n",
       "    <tr>\n",
       "      <th>13</th>\n",
       "      <td>log1p_total_counts</td>\n",
       "      <td>3D</td>\n",
       "      <td>6.147006</td>\n",
       "      <td>7.347761</td>\n",
       "    </tr>\n",
       "    <tr>\n",
       "      <th>14</th>\n",
       "      <td>pct_counts_is_ribo</td>\n",
       "      <td>2A</td>\n",
       "      <td>-0.365349</td>\n",
       "      <td>0.768860</td>\n",
       "    </tr>\n",
       "    <tr>\n",
       "      <th>15</th>\n",
       "      <td>pct_counts_is_ribo</td>\n",
       "      <td>2B</td>\n",
       "      <td>-0.286552</td>\n",
       "      <td>1.682555</td>\n",
       "    </tr>\n",
       "    <tr>\n",
       "      <th>16</th>\n",
       "      <td>pct_counts_is_ribo</td>\n",
       "      <td>2C</td>\n",
       "      <td>-0.548463</td>\n",
       "      <td>1.028195</td>\n",
       "    </tr>\n",
       "    <tr>\n",
       "      <th>17</th>\n",
       "      <td>pct_counts_is_ribo</td>\n",
       "      <td>2D</td>\n",
       "      <td>-0.254717</td>\n",
       "      <td>1.352587</td>\n",
       "    </tr>\n",
       "    <tr>\n",
       "      <th>18</th>\n",
       "      <td>pct_counts_is_ribo</td>\n",
       "      <td>3B</td>\n",
       "      <td>-0.290321</td>\n",
       "      <td>1.386977</td>\n",
       "    </tr>\n",
       "    <tr>\n",
       "      <th>19</th>\n",
       "      <td>pct_counts_is_ribo</td>\n",
       "      <td>3C</td>\n",
       "      <td>-0.753365</td>\n",
       "      <td>1.328860</td>\n",
       "    </tr>\n",
       "    <tr>\n",
       "      <th>20</th>\n",
       "      <td>pct_counts_is_ribo</td>\n",
       "      <td>3D</td>\n",
       "      <td>-0.333711</td>\n",
       "      <td>1.419054</td>\n",
       "    </tr>\n",
       "    <tr>\n",
       "      <th>21</th>\n",
       "      <td>pct_counts_is_mito</td>\n",
       "      <td>2A</td>\n",
       "      <td>-0.303537</td>\n",
       "      <td>0.602882</td>\n",
       "    </tr>\n",
       "    <tr>\n",
       "      <th>22</th>\n",
       "      <td>pct_counts_is_mito</td>\n",
       "      <td>2B</td>\n",
       "      <td>-0.225065</td>\n",
       "      <td>1.144073</td>\n",
       "    </tr>\n",
       "    <tr>\n",
       "      <th>23</th>\n",
       "      <td>pct_counts_is_mito</td>\n",
       "      <td>2C</td>\n",
       "      <td>-0.353150</td>\n",
       "      <td>0.764950</td>\n",
       "    </tr>\n",
       "    <tr>\n",
       "      <th>24</th>\n",
       "      <td>pct_counts_is_mito</td>\n",
       "      <td>2D</td>\n",
       "      <td>-0.274140</td>\n",
       "      <td>1.352106</td>\n",
       "    </tr>\n",
       "    <tr>\n",
       "      <th>25</th>\n",
       "      <td>pct_counts_is_mito</td>\n",
       "      <td>3B</td>\n",
       "      <td>-0.250863</td>\n",
       "      <td>0.868300</td>\n",
       "    </tr>\n",
       "    <tr>\n",
       "      <th>26</th>\n",
       "      <td>pct_counts_is_mito</td>\n",
       "      <td>3C</td>\n",
       "      <td>-0.252154</td>\n",
       "      <td>0.471598</td>\n",
       "    </tr>\n",
       "    <tr>\n",
       "      <th>27</th>\n",
       "      <td>pct_counts_is_mito</td>\n",
       "      <td>3D</td>\n",
       "      <td>-0.309710</td>\n",
       "      <td>0.873598</td>\n",
       "    </tr>\n",
       "  </tbody>\n",
       "</table>\n",
       "</div>"
      ],
      "text/plain": [
       "             Parameter Group     Minimum      Maximum\n",
       "0    n_genes_by_counts    2A  405.252544   949.779722\n",
       "1    n_genes_by_counts    2B  272.117995   926.086762\n",
       "2    n_genes_by_counts    2C  274.003392   532.586969\n",
       "3    n_genes_by_counts    2D  296.133704   921.360082\n",
       "4    n_genes_by_counts    3B  317.753616  1144.850551\n",
       "5    n_genes_by_counts    3C  409.382860   902.522442\n",
       "6    n_genes_by_counts    3D  283.805647   996.055788\n",
       "7   log1p_total_counts    2A    6.373046     7.047137\n",
       "8   log1p_total_counts    2B    6.487980     7.255464\n",
       "9   log1p_total_counts    2C    5.974850     6.671568\n",
       "10  log1p_total_counts    2D    6.116061     7.361048\n",
       "11  log1p_total_counts    3B    6.503778     7.141741\n",
       "12  log1p_total_counts    3C    5.990641     6.657248\n",
       "13  log1p_total_counts    3D    6.147006     7.347761\n",
       "14  pct_counts_is_ribo    2A   -0.365349     0.768860\n",
       "15  pct_counts_is_ribo    2B   -0.286552     1.682555\n",
       "16  pct_counts_is_ribo    2C   -0.548463     1.028195\n",
       "17  pct_counts_is_ribo    2D   -0.254717     1.352587\n",
       "18  pct_counts_is_ribo    3B   -0.290321     1.386977\n",
       "19  pct_counts_is_ribo    3C   -0.753365     1.328860\n",
       "20  pct_counts_is_ribo    3D   -0.333711     1.419054\n",
       "21  pct_counts_is_mito    2A   -0.303537     0.602882\n",
       "22  pct_counts_is_mito    2B   -0.225065     1.144073\n",
       "23  pct_counts_is_mito    2C   -0.353150     0.764950\n",
       "24  pct_counts_is_mito    2D   -0.274140     1.352106\n",
       "25  pct_counts_is_mito    3B   -0.250863     0.868300\n",
       "26  pct_counts_is_mito    3C   -0.252154     0.471598\n",
       "27  pct_counts_is_mito    3D   -0.309710     0.873598"
      ]
     },
     "execution_count": 14,
     "metadata": {},
     "output_type": "execute_result"
    }
   ],
   "source": [
    "groupby = condition_column if global_threshold is False else None\n",
    "initial_thresholds = qc.automatic_thresholds(adata, which=\"obs\", groupby=groupby, columns=obs_columns)\n",
    "qc.thresholds_as_table(initial_thresholds) # show thresholds"
   ]
  },
  {
   "cell_type": "markdown",
   "metadata": {},
   "source": [
    "### Customize thresholds via sliders"
   ]
  },
  {
   "cell_type": "markdown",
   "metadata": {},
   "source": [
    " (Rerun cell if plot is not shown)"
   ]
  },
  {
   "cell_type": "code",
   "execution_count": 15,
   "metadata": {
    "ExecuteTime": {
     "end_time": "2022-09-02T08:25:35.153959Z",
     "start_time": "2022-09-02T08:25:33.007273Z"
    },
    "editable": false,
    "run_control": {
     "marked": false
    },
    "scrolled": true
   },
   "outputs": [
    {
     "data": {
      "text/html": [
       "<img src onerror=\"\n",
       "                var cell = this.closest('.code_cell');\n",
       "                var editor = cell.querySelector('.CodeMirror-sizer');\n",
       "                editor.style.background='PowderBlue';\n",
       "                this.parentNode.removeChild(this)\n",
       "                \">"
      ],
      "text/plain": [
       "<IPython.core.display.HTML object>"
      ]
     },
     "metadata": {},
     "output_type": "display_data"
    },
    {
     "data": {
      "application/vnd.jupyter.widget-view+json": {
       "model_id": "46012e5a4f58460585c5e0b3922ad0fb",
       "version_major": 2,
       "version_minor": 0
      },
      "text/plain": [
       "HBox(children=(Accordion(children=(VBox(children=(Checkbox(value=False, description='Global threshold', indent…"
      ]
     },
     "execution_count": 15,
     "metadata": {},
     "output_type": "execute_result"
    }
   ],
   "source": [
    "%matplotlib widget\n",
    "%bgcolor PowderBlue\n",
    "\n",
    "#Plot violins and sliders\n",
    "obs_figure, obs_slider_dict = qc.quality_violin(adata, obs_columns,\n",
    "                                            groupby=condition_column,\n",
    "                                            which=\"obs\",\n",
    "                                            thresholds=initial_thresholds,\n",
    "                                            global_threshold=global_threshold,\n",
    "                                            title=\"Cell quality control (before)\",\n",
    "                                            save=figure_path + \"cell_filtering.png\")\n",
    "obs_figure"
   ]
  },
  {
   "cell_type": "code",
   "execution_count": 16,
   "metadata": {
    "ExecuteTime": {
     "end_time": "2022-09-02T08:25:35.167842Z",
     "start_time": "2022-09-02T08:25:35.156243Z"
    },
    "editable": false,
    "run_control": {
     "marked": false
    }
   },
   "outputs": [
    {
     "data": {
      "text/html": [
       "<div>\n",
       "<style scoped>\n",
       "    .dataframe tbody tr th:only-of-type {\n",
       "        vertical-align: middle;\n",
       "    }\n",
       "\n",
       "    .dataframe tbody tr th {\n",
       "        vertical-align: top;\n",
       "    }\n",
       "\n",
       "    .dataframe thead th {\n",
       "        text-align: right;\n",
       "    }\n",
       "</style>\n",
       "<table border=\"1\" class=\"dataframe\">\n",
       "  <thead>\n",
       "    <tr style=\"text-align: right;\">\n",
       "      <th></th>\n",
       "      <th>Parameter</th>\n",
       "      <th>Group</th>\n",
       "      <th>Minimum</th>\n",
       "      <th>Maximum</th>\n",
       "    </tr>\n",
       "  </thead>\n",
       "  <tbody>\n",
       "    <tr>\n",
       "      <th>0</th>\n",
       "      <td>n_genes_by_counts</td>\n",
       "      <td>2A</td>\n",
       "      <td>405.252544</td>\n",
       "      <td>949.779722</td>\n",
       "    </tr>\n",
       "    <tr>\n",
       "      <th>1</th>\n",
       "      <td>n_genes_by_counts</td>\n",
       "      <td>2B</td>\n",
       "      <td>308.000000</td>\n",
       "      <td>926.086762</td>\n",
       "    </tr>\n",
       "    <tr>\n",
       "      <th>2</th>\n",
       "      <td>n_genes_by_counts</td>\n",
       "      <td>2C</td>\n",
       "      <td>308.000000</td>\n",
       "      <td>532.586969</td>\n",
       "    </tr>\n",
       "    <tr>\n",
       "      <th>3</th>\n",
       "      <td>n_genes_by_counts</td>\n",
       "      <td>2D</td>\n",
       "      <td>308.000000</td>\n",
       "      <td>921.360082</td>\n",
       "    </tr>\n",
       "    <tr>\n",
       "      <th>4</th>\n",
       "      <td>n_genes_by_counts</td>\n",
       "      <td>3B</td>\n",
       "      <td>317.753616</td>\n",
       "      <td>1144.850551</td>\n",
       "    </tr>\n",
       "    <tr>\n",
       "      <th>5</th>\n",
       "      <td>n_genes_by_counts</td>\n",
       "      <td>3C</td>\n",
       "      <td>409.382860</td>\n",
       "      <td>902.522442</td>\n",
       "    </tr>\n",
       "    <tr>\n",
       "      <th>6</th>\n",
       "      <td>n_genes_by_counts</td>\n",
       "      <td>3D</td>\n",
       "      <td>308.000000</td>\n",
       "      <td>996.055788</td>\n",
       "    </tr>\n",
       "    <tr>\n",
       "      <th>7</th>\n",
       "      <td>log1p_total_counts</td>\n",
       "      <td>2A</td>\n",
       "      <td>6.373046</td>\n",
       "      <td>7.047137</td>\n",
       "    </tr>\n",
       "    <tr>\n",
       "      <th>8</th>\n",
       "      <td>log1p_total_counts</td>\n",
       "      <td>2B</td>\n",
       "      <td>6.487980</td>\n",
       "      <td>7.255464</td>\n",
       "    </tr>\n",
       "    <tr>\n",
       "      <th>9</th>\n",
       "      <td>log1p_total_counts</td>\n",
       "      <td>2C</td>\n",
       "      <td>5.998937</td>\n",
       "      <td>6.671568</td>\n",
       "    </tr>\n",
       "    <tr>\n",
       "      <th>10</th>\n",
       "      <td>log1p_total_counts</td>\n",
       "      <td>2D</td>\n",
       "      <td>6.116061</td>\n",
       "      <td>7.268223</td>\n",
       "    </tr>\n",
       "    <tr>\n",
       "      <th>11</th>\n",
       "      <td>log1p_total_counts</td>\n",
       "      <td>3B</td>\n",
       "      <td>6.503778</td>\n",
       "      <td>7.141741</td>\n",
       "    </tr>\n",
       "    <tr>\n",
       "      <th>12</th>\n",
       "      <td>log1p_total_counts</td>\n",
       "      <td>3C</td>\n",
       "      <td>5.998937</td>\n",
       "      <td>6.657248</td>\n",
       "    </tr>\n",
       "    <tr>\n",
       "      <th>13</th>\n",
       "      <td>log1p_total_counts</td>\n",
       "      <td>3D</td>\n",
       "      <td>6.147006</td>\n",
       "      <td>7.268223</td>\n",
       "    </tr>\n",
       "    <tr>\n",
       "      <th>14</th>\n",
       "      <td>pct_counts_is_ribo</td>\n",
       "      <td>2A</td>\n",
       "      <td>0.000000</td>\n",
       "      <td>0.768860</td>\n",
       "    </tr>\n",
       "    <tr>\n",
       "      <th>15</th>\n",
       "      <td>pct_counts_is_ribo</td>\n",
       "      <td>2B</td>\n",
       "      <td>0.000000</td>\n",
       "      <td>1.682555</td>\n",
       "    </tr>\n",
       "    <tr>\n",
       "      <th>16</th>\n",
       "      <td>pct_counts_is_ribo</td>\n",
       "      <td>2C</td>\n",
       "      <td>0.000000</td>\n",
       "      <td>1.028195</td>\n",
       "    </tr>\n",
       "    <tr>\n",
       "      <th>17</th>\n",
       "      <td>pct_counts_is_ribo</td>\n",
       "      <td>2D</td>\n",
       "      <td>0.000000</td>\n",
       "      <td>1.352587</td>\n",
       "    </tr>\n",
       "    <tr>\n",
       "      <th>18</th>\n",
       "      <td>pct_counts_is_ribo</td>\n",
       "      <td>3B</td>\n",
       "      <td>0.000000</td>\n",
       "      <td>1.386977</td>\n",
       "    </tr>\n",
       "    <tr>\n",
       "      <th>19</th>\n",
       "      <td>pct_counts_is_ribo</td>\n",
       "      <td>3C</td>\n",
       "      <td>0.000000</td>\n",
       "      <td>1.328860</td>\n",
       "    </tr>\n",
       "    <tr>\n",
       "      <th>20</th>\n",
       "      <td>pct_counts_is_ribo</td>\n",
       "      <td>3D</td>\n",
       "      <td>0.000000</td>\n",
       "      <td>1.419054</td>\n",
       "    </tr>\n",
       "    <tr>\n",
       "      <th>21</th>\n",
       "      <td>pct_counts_is_mito</td>\n",
       "      <td>2A</td>\n",
       "      <td>0.000000</td>\n",
       "      <td>0.602882</td>\n",
       "    </tr>\n",
       "    <tr>\n",
       "      <th>22</th>\n",
       "      <td>pct_counts_is_mito</td>\n",
       "      <td>2B</td>\n",
       "      <td>0.000000</td>\n",
       "      <td>1.144073</td>\n",
       "    </tr>\n",
       "    <tr>\n",
       "      <th>23</th>\n",
       "      <td>pct_counts_is_mito</td>\n",
       "      <td>2C</td>\n",
       "      <td>0.000000</td>\n",
       "      <td>0.764950</td>\n",
       "    </tr>\n",
       "    <tr>\n",
       "      <th>24</th>\n",
       "      <td>pct_counts_is_mito</td>\n",
       "      <td>2D</td>\n",
       "      <td>0.000000</td>\n",
       "      <td>1.352106</td>\n",
       "    </tr>\n",
       "    <tr>\n",
       "      <th>25</th>\n",
       "      <td>pct_counts_is_mito</td>\n",
       "      <td>3B</td>\n",
       "      <td>0.000000</td>\n",
       "      <td>0.868300</td>\n",
       "    </tr>\n",
       "    <tr>\n",
       "      <th>26</th>\n",
       "      <td>pct_counts_is_mito</td>\n",
       "      <td>3C</td>\n",
       "      <td>0.000000</td>\n",
       "      <td>0.471598</td>\n",
       "    </tr>\n",
       "    <tr>\n",
       "      <th>27</th>\n",
       "      <td>pct_counts_is_mito</td>\n",
       "      <td>3D</td>\n",
       "      <td>0.000000</td>\n",
       "      <td>0.873598</td>\n",
       "    </tr>\n",
       "  </tbody>\n",
       "</table>\n",
       "</div>"
      ],
      "text/plain": [
       "             Parameter Group     Minimum      Maximum\n",
       "0    n_genes_by_counts    2A  405.252544   949.779722\n",
       "1    n_genes_by_counts    2B  308.000000   926.086762\n",
       "2    n_genes_by_counts    2C  308.000000   532.586969\n",
       "3    n_genes_by_counts    2D  308.000000   921.360082\n",
       "4    n_genes_by_counts    3B  317.753616  1144.850551\n",
       "5    n_genes_by_counts    3C  409.382860   902.522442\n",
       "6    n_genes_by_counts    3D  308.000000   996.055788\n",
       "7   log1p_total_counts    2A    6.373046     7.047137\n",
       "8   log1p_total_counts    2B    6.487980     7.255464\n",
       "9   log1p_total_counts    2C    5.998937     6.671568\n",
       "10  log1p_total_counts    2D    6.116061     7.268223\n",
       "11  log1p_total_counts    3B    6.503778     7.141741\n",
       "12  log1p_total_counts    3C    5.998937     6.657248\n",
       "13  log1p_total_counts    3D    6.147006     7.268223\n",
       "14  pct_counts_is_ribo    2A    0.000000     0.768860\n",
       "15  pct_counts_is_ribo    2B    0.000000     1.682555\n",
       "16  pct_counts_is_ribo    2C    0.000000     1.028195\n",
       "17  pct_counts_is_ribo    2D    0.000000     1.352587\n",
       "18  pct_counts_is_ribo    3B    0.000000     1.386977\n",
       "19  pct_counts_is_ribo    3C    0.000000     1.328860\n",
       "20  pct_counts_is_ribo    3D    0.000000     1.419054\n",
       "21  pct_counts_is_mito    2A    0.000000     0.602882\n",
       "22  pct_counts_is_mito    2B    0.000000     1.144073\n",
       "23  pct_counts_is_mito    2C    0.000000     0.764950\n",
       "24  pct_counts_is_mito    2D    0.000000     1.352106\n",
       "25  pct_counts_is_mito    3B    0.000000     0.868300\n",
       "26  pct_counts_is_mito    3C    0.000000     0.471598\n",
       "27  pct_counts_is_mito    3D    0.000000     0.873598"
      ]
     },
     "execution_count": 16,
     "metadata": {},
     "output_type": "execute_result"
    }
   ],
   "source": [
    "# Get final thresholds\n",
    "final_thresholds = qc.get_slider_thresholds(obs_slider_dict)\n",
    "qc.thresholds_as_table(final_thresholds) # show thresholds"
   ]
  },
  {
   "cell_type": "markdown",
   "metadata": {},
   "source": [
    "### Apply final thresholds\n",
    "Filter the anndata object based on the thresholds in the threshold table."
   ]
  },
  {
   "cell_type": "code",
   "execution_count": 17,
   "metadata": {
    "ExecuteTime": {
     "end_time": "2022-09-02T08:25:45.928381Z",
     "start_time": "2022-09-02T08:25:35.170685Z"
    },
    "editable": false,
    "run_control": {
     "marked": false
    },
    "scrolled": true
   },
   "outputs": [
    {
     "name": "stdout",
     "output_type": "stream",
     "text": [
      "Filtering based on 'n_genes_by_counts' from 4904 -> 3975 cells\n",
      "Filtering based on 'log1p_total_counts' from 3975 -> 3632 cells\n",
      "Filtering based on 'pct_counts_is_ribo' from 3632 -> 3278 cells\n",
      "Filtering based on 'pct_counts_is_mito' from 3278 -> 2778 cells\n"
     ]
    }
   ],
   "source": [
    "qc.apply_qc_thresholds(adata, which=\"obs\", thresholds=final_thresholds, groupby=groupby)"
   ]
  },
  {
   "cell_type": "markdown",
   "metadata": {},
   "source": [
    "### Show data after filtering"
   ]
  },
  {
   "cell_type": "code",
   "execution_count": 18,
   "metadata": {
    "ExecuteTime": {
     "end_time": "2022-09-02T08:25:49.611977Z",
     "start_time": "2022-09-02T08:25:45.930721Z"
    },
    "editable": false,
    "run_control": {
     "marked": false
    },
    "scrolled": true
   },
   "outputs": [
    {
     "data": {
      "image/png": "[encoded data removed]",
      "text/plain": [
       "<Figure size 1200x800 with 6 Axes>"
      ]
     },
     "execution_count": 18,
     "metadata": {},
     "output_type": "execute_result"
    }
   ],
   "source": [
    "%matplotlib inline \n",
    "\n",
    "#Plot violins and sliders\n",
    "figure, slider_dict = qc.quality_violin(adata, obs_columns,\n",
    "                                     groupby=condition_column,\n",
    "                                     which=\"obs\", ncols=3,\n",
    "                                     global_threshold = global_threshold,\n",
    "                                     title=\"Cell quality control (after)\",\n",
    "                                     save=figure_path + \"cell_filtering_final.png\")\n",
    "figure"
   ]
  },
  {
   "cell_type": "markdown",
   "metadata": {},
   "source": [
    "-------------------"
   ]
  },
  {
   "cell_type": "markdown",
   "metadata": {},
   "source": [
    "## Gene filtering"
   ]
  },
  {
   "cell_type": "code",
   "execution_count": 19,
   "metadata": {
    "ExecuteTime": {
     "end_time": "2022-09-02T08:27:11.459027Z",
     "start_time": "2022-09-02T08:27:08.653998Z"
    },
    "editable": false,
    "run_control": {
     "marked": false
    }
   },
   "outputs": [],
   "source": [
    "#Recalculate quality measures for genes\n",
    "adata = analyser.calculate_qc_metrics(adata)"
   ]
  },
  {
   "cell_type": "code",
   "execution_count": 20,
   "metadata": {
    "ExecuteTime": {
     "end_time": "2022-09-02T08:27:15.700856Z",
     "start_time": "2022-09-02T08:27:15.682826Z"
    },
    "editable": false,
    "run_control": {
     "marked": false
    }
   },
   "outputs": [],
   "source": [
    "#Remove genes with 0 count\n",
    "zero_bool = adata.var[\"n_cells_by_counts\"] == 0\n",
    "adata = adata[:,~zero_bool]"
   ]
  },
  {
   "cell_type": "code",
   "execution_count": 21,
   "metadata": {
    "ExecuteTime": {
     "end_time": "2022-09-02T08:27:15.856649Z",
     "start_time": "2022-09-02T08:27:15.853805Z"
    },
    "run_control": {
     "marked": false
    }
   },
   "outputs": [],
   "source": [
    "#Choose columns for quality control\n",
    "var_columns = [\"n_cells_by_counts\", \"log1p_mean_counts\"]"
   ]
  },
  {
   "cell_type": "markdown",
   "metadata": {},
   "source": [
    "### Customize thresholds via sliders"
   ]
  },
  {
   "cell_type": "markdown",
   "metadata": {},
   "source": [
    " (Rerun cell if plot is not shown)"
   ]
  },
  {
   "cell_type": "code",
   "execution_count": 22,
   "metadata": {
    "ExecuteTime": {
     "end_time": "2022-09-02T08:27:52.417803Z",
     "start_time": "2022-09-02T08:27:51.419907Z"
    },
    "editable": false,
    "run_control": {
     "marked": false
    }
   },
   "outputs": [
    {
     "data": {
      "text/html": [
       "<img src onerror=\"\n",
       "                var cell = this.closest('.code_cell');\n",
       "                var editor = cell.querySelector('.CodeMirror-sizer');\n",
       "                editor.style.background='PowderBlue';\n",
       "                this.parentNode.removeChild(this)\n",
       "                \">"
      ],
      "text/plain": [
       "<IPython.core.display.HTML object>"
      ]
     },
     "metadata": {},
     "output_type": "display_data"
    },
    {
     "data": {
      "application/vnd.jupyter.widget-view+json": {
       "model_id": "63bfdc663f20429d97f8b2e0e5bca1ae",
       "version_major": 2,
       "version_minor": 0
      },
      "text/plain": [
       "HBox(children=(Accordion(children=(VBox(children=(FloatRangeSlider(value=(1.0, 2566.0), continuous_update=Fals…"
      ]
     },
     "execution_count": 22,
     "metadata": {},
     "output_type": "execute_result"
    }
   ],
   "source": [
    "%matplotlib widget\n",
    "%bgcolor PowderBlue\n",
    "\n",
    "#Plot violins and sliders\n",
    "var_figure, var_slider_dict = qc.quality_violin(adata, var_columns,\n",
    "                                            which=\"var\",\n",
    "                                            title=\"Gene quality control (before)\",\n",
    "                                            save=figure_path + \"gene_filtering.png\")\n",
    "var_figure"
   ]
  },
  {
   "cell_type": "markdown",
   "metadata": {},
   "source": [
    "### Apply gene filtering"
   ]
  },
  {
   "cell_type": "code",
   "execution_count": 23,
   "metadata": {
    "ExecuteTime": {
     "end_time": "2022-09-02T08:27:17.395273Z",
     "start_time": "2022-09-02T08:27:17.384606Z"
    },
    "editable": false,
    "run_control": {
     "marked": false
    }
   },
   "outputs": [
    {
     "data": {
      "text/html": [
       "<div>\n",
       "<style scoped>\n",
       "    .dataframe tbody tr th:only-of-type {\n",
       "        vertical-align: middle;\n",
       "    }\n",
       "\n",
       "    .dataframe tbody tr th {\n",
       "        vertical-align: top;\n",
       "    }\n",
       "\n",
       "    .dataframe thead th {\n",
       "        text-align: right;\n",
       "    }\n",
       "</style>\n",
       "<table border=\"1\" class=\"dataframe\">\n",
       "  <thead>\n",
       "    <tr style=\"text-align: right;\">\n",
       "      <th></th>\n",
       "      <th>Parameter</th>\n",
       "      <th>Minimum</th>\n",
       "      <th>Maximum</th>\n",
       "    </tr>\n",
       "  </thead>\n",
       "  <tbody>\n",
       "    <tr>\n",
       "      <th>0</th>\n",
       "      <td>n_cells_by_counts</td>\n",
       "      <td>1.00000</td>\n",
       "      <td>2566.000000</td>\n",
       "    </tr>\n",
       "    <tr>\n",
       "      <th>1</th>\n",
       "      <td>log1p_mean_counts</td>\n",
       "      <td>0.00036</td>\n",
       "      <td>1.144691</td>\n",
       "    </tr>\n",
       "  </tbody>\n",
       "</table>\n",
       "</div>"
      ],
      "text/plain": [
       "           Parameter  Minimum      Maximum\n",
       "0  n_cells_by_counts  1.00000  2566.000000\n",
       "1  log1p_mean_counts  0.00036     1.144691"
      ]
     },
     "execution_count": 23,
     "metadata": {},
     "output_type": "execute_result"
    }
   ],
   "source": [
    "# Get final thresholds\n",
    "final_thresholds = qc.get_slider_thresholds(var_slider_dict)\n",
    "qc.thresholds_as_table(final_thresholds) # show thresholds"
   ]
  },
  {
   "cell_type": "code",
   "execution_count": 24,
   "metadata": {
    "ExecuteTime": {
     "end_time": "2022-09-02T08:27:25.153607Z",
     "start_time": "2022-09-02T08:27:17.397991Z"
    },
    "editable": false,
    "run_control": {
     "marked": false
    }
   },
   "outputs": [
    {
     "name": "stdout",
     "output_type": "stream",
     "text": [
      "Filtering based on 'n_cells_by_counts' from 21171 -> 21171 .var features\n",
      "Filtering based on 'log1p_mean_counts' from 21171 -> 21171 .var features\n"
     ]
    }
   ],
   "source": [
    "qc.apply_qc_thresholds(adata, which=\"var\", thresholds=final_thresholds)"
   ]
  },
  {
   "cell_type": "code",
   "execution_count": 25,
   "metadata": {
    "ExecuteTime": {
     "end_time": "2022-09-02T08:27:25.161267Z",
     "start_time": "2022-09-02T08:27:25.156469Z"
    },
    "editable": false,
    "run_control": {
     "marked": false
    }
   },
   "outputs": [
    {
     "data": {
      "text/plain": [
       "AnnData object with n_obs × n_vars = 2778 × 21171\n",
       "    obs: 'orig.ident', 'chamber', 'donor', 'batch', 'sample', 'celltype', 'n_genes_by_counts', 'log1p_n_genes_by_counts', 'total_counts', 'log1p_total_counts', 'total_counts_is_ribo', 'log1p_total_counts_is_ribo', 'pct_counts_is_ribo', 'total_counts_is_mito', 'log1p_total_counts_is_mito', 'pct_counts_is_mito', 'total_counts_is_gender', 'log1p_total_counts_is_gender', 'pct_counts_is_gender', 'doublet_score', 'predicted_doublet', 'predicted_sex'\n",
       "    var: 'is_ribo', 'is_mito', 'cellcycle', 'is_gender', 'n_cells_by_counts', 'mean_counts', 'log1p_mean_counts', 'pct_dropout_by_counts', 'total_counts', 'log1p_total_counts'\n",
       "    uns: 'color_set', 'infoprocess', 'scrublet'"
      ]
     },
     "execution_count": 25,
     "metadata": {},
     "output_type": "execute_result"
    }
   ],
   "source": [
    "adata"
   ]
  },
  {
   "cell_type": "markdown",
   "metadata": {},
   "source": [
    "### Show data after filtering"
   ]
  },
  {
   "cell_type": "code",
   "execution_count": 26,
   "metadata": {
    "ExecuteTime": {
     "end_time": "2022-09-02T08:27:26.584527Z",
     "start_time": "2022-09-02T08:27:25.218287Z"
    },
    "editable": false,
    "run_control": {
     "marked": false
    }
   },
   "outputs": [
    {
     "data": {
      "image/png": "[encoded data removed]",
      "text/plain": [
       "<Figure size 800x400 with 2 Axes>"
      ]
     },
     "execution_count": 26,
     "metadata": {},
     "output_type": "execute_result"
    }
   ],
   "source": [
    "%matplotlib inline \n",
    "\n",
    "#Plot violins and sliders\n",
    "figure, slider_dict = qc.quality_violin(adata, var_columns,\n",
    "                                        which=\"var\", ncols=3,\n",
    "                                        title=\"Gene quality control (after)\",\n",
    "                                        save=figure_path + \"gene_filtering_final.png\")\n",
    "figure"
   ]
  },
  {
   "cell_type": "markdown",
   "metadata": {
    "ExecuteTime": {
     "end_time": "2022-06-13T13:09:34.519228Z",
     "start_time": "2022-06-13T13:09:34.515398Z"
    }
   },
   "source": [
    "### Filter additional marked genes\n",
    "Remove genes that are labeled as e.g. mitochondrial genes."
   ]
  },
  {
   "cell_type": "code",
   "execution_count": 27,
   "metadata": {
    "ExecuteTime": {
     "end_time": "2022-09-02T08:27:29.287445Z",
     "start_time": "2022-09-02T08:27:26.606795Z"
    },
    "editable": false,
    "run_control": {
     "marked": false
    }
   },
   "outputs": [
    {
     "name": "stdout",
     "output_type": "stream",
     "text": [
      "Removing mitochrondrial genes:\n",
      "Filtered out 13 genes from adata. New number of genes is: 21158\n"
     ]
    }
   ],
   "source": [
    "#Remove mitochrondrial genes\n",
    "if filter_mito is True:\n",
    "    print(\"Removing mitochrondrial genes:\")\n",
    "    qc.filter_genes(adata, \"is_mito\")\n",
    "\n",
    "#Remove ribosomal genes\n",
    "if filter_ribo is True:\n",
    "    print(\"Removing ribosomal genes:\")\n",
    "    qc_filter_genes(adata, \"is_ribo\")\n",
    "\n",
    "#Remove gender genes    \n",
    "if filter_gender is True:\n",
    "    print(\"Removing gender genes:\")\n",
    "    qc.filter_genes(adata, \"is_gender\")\n",
    "\n",
    "#Remove custom genes from list\n",
    "#adata4 = qc.filter_genes(adata3, \"is_custom\")"
   ]
  },
  {
   "cell_type": "markdown",
   "metadata": {},
   "source": [
    "-------------"
   ]
  },
  {
   "cell_type": "markdown",
   "metadata": {},
   "source": [
    "## Save filtered adata\n",
    "Store the final results"
   ]
  },
  {
   "cell_type": "code",
   "execution_count": 28,
   "metadata": {
    "ExecuteTime": {
     "end_time": "2022-09-02T08:27:29.293849Z",
     "start_time": "2022-09-02T08:27:29.289434Z"
    },
    "editable": false,
    "run_control": {
     "marked": false
    }
   },
   "outputs": [
    {
     "data": {
      "text/plain": [
       "AnnData object with n_obs × n_vars = 2778 × 21158\n",
       "    obs: 'orig.ident', 'chamber', 'donor', 'batch', 'sample', 'celltype', 'n_genes_by_counts', 'log1p_n_genes_by_counts', 'total_counts', 'log1p_total_counts', 'total_counts_is_ribo', 'log1p_total_counts_is_ribo', 'pct_counts_is_ribo', 'total_counts_is_mito', 'log1p_total_counts_is_mito', 'pct_counts_is_mito', 'total_counts_is_gender', 'log1p_total_counts_is_gender', 'pct_counts_is_gender', 'doublet_score', 'predicted_doublet', 'predicted_sex'\n",
       "    var: 'is_ribo', 'is_mito', 'cellcycle', 'is_gender', 'n_cells_by_counts', 'mean_counts', 'log1p_mean_counts', 'pct_dropout_by_counts', 'total_counts', 'log1p_total_counts'\n",
       "    uns: 'color_set', 'infoprocess', 'scrublet'"
      ]
     },
     "execution_count": 28,
     "metadata": {},
     "output_type": "execute_result"
    }
   ],
   "source": [
    "adata"
   ]
  },
  {
   "cell_type": "code",
   "execution_count": 29,
   "metadata": {
    "ExecuteTime": {
     "end_time": "2022-09-02T08:27:39.999822Z",
     "start_time": "2022-09-02T08:27:29.296815Z"
    },
    "editable": false,
    "run_control": {
     "marked": false
    }
   },
   "outputs": [
    {
     "name": "stdout",
     "output_type": "stream",
     "text": [
      "Your new anndata object is saved here: pipeline_output/results/Test1/anndata_2_Test1.h5ad\n"
     ]
    }
   ],
   "source": [
    "utils.saving_anndata(adata, current_notebook=2)"
   ]
  }
 ],
 "metadata": {
  "kernelspec": {
   "display_name": "sctoolbox",
   "language": "python",
   "name": "sctoolbox"
  },
  "language_info": {
   "codemirror_mode": {
    "name": "ipython",
    "version": 3
   },
   "file_extension": ".py",
   "mimetype": "text/x-python",
   "name": "python",
   "nbconvert_exporter": "python",
   "pygments_lexer": "ipython3",
   "version": "3.10.6"
  }
 },
 "nbformat": 4,
 "nbformat_minor": 4
}
