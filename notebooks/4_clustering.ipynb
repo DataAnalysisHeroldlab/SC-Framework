{
 "cells": [
  {
   "cell_type": "code",
   "execution_count": null,
   "metadata": {},
   "outputs": [],
   "source": [
    "from sctoolbox.utilities import bgcolor"
   ]
  },
  {
   "cell_type": "markdown",
   "metadata": {},
   "source": [
    "# Embedding and clustering\n",
    "<hr style=\"border:2px solid black\"> </hr>"
   ]
  },
  {
   "cell_type": "markdown",
   "metadata": {},
   "source": [
    "<h1><center>⬐ Fill in input data here ⬎</center></h1>"
   ]
  },
  {
   "cell_type": "code",
   "execution_count": null,
   "metadata": {},
   "outputs": [],
   "source": [
    "%bgcolor PowderBlue\n",
    "\n",
    "#Number of threads to use for multiprocessing\n",
    "threads = 4\n",
    "\n",
    "# Number of PCs\n",
    "n_pcs = None #this overwrites the automatic selection of PCs. Set to None to set number of PCs automatically\n",
    "\n",
    "#Set number of neighbors\n",
    "n_neighbors = 15 #Set the number of nearest neighbors to be used in clustering. Default=15\n",
    "\n",
    "# Search umap parameters (or set parameters later)\n",
    "search_umap_parameters = True\n",
    "dist_range = (0.1, 1, 0.2) # Set min_dist range for umap\n",
    "spread_range = (1.0, 3.5, 0.5) # Set spread range for umap\n",
    "\n",
    "# Search different clustering resolutions\n",
    "search_clustering_parameters = True\n",
    "clustering_method = \"leiden\" #leiden/louvain"
   ]
  },
  {
   "cell_type": "markdown",
   "metadata": {},
   "source": [
    "<hr style=\"border:2px solid black\"> </hr>"
   ]
  },
  {
   "cell_type": "markdown",
   "metadata": {},
   "source": [
    "## Loading packages"
   ]
  },
  {
   "cell_type": "code",
   "execution_count": null,
   "metadata": {},
   "outputs": [],
   "source": [
    "import os\n",
    "from os import path\n",
    "import scanpy as sc\n",
    "from kneed import KneeLocator\n",
    "import matplotlib.pyplot as plt\n",
    "\n",
    "import sctoolbox.utilities as utils\n",
    "import sctoolbox.analyser as analyser\n",
    "import sctoolbox.plotting as pl"
   ]
  },
  {
   "cell_type": "markdown",
   "metadata": {},
   "source": [
    "## Load anndata from previous notebook"
   ]
  },
  {
   "cell_type": "code",
   "execution_count": null,
   "metadata": {},
   "outputs": [],
   "source": [
    "adata = utils.load_anndata(is_from_previous_note=True, which_notebook=3)\n",
    "display(adata)"
   ]
  },
  {
   "cell_type": "code",
   "execution_count": null,
   "metadata": {},
   "outputs": [],
   "source": [
    "condition_column = adata.uns['infoprocess']['data_to_evaluate']"
   ]
  },
  {
   "cell_type": "code",
   "execution_count": null,
   "metadata": {},
   "outputs": [],
   "source": [
    "figure_path = adata.uns[\"infoprocess\"][\"Anndata_path\"] + \"/\""
   ]
  },
  {
   "cell_type": "markdown",
   "metadata": {},
   "source": [
    "## Subset number of PCs \n",
    " Find initial neighbors and calculate differential expression\n",
    "- NOTE: trim: Set to 0 to skip default 10. trims neighbours of cells can help to identify individual populations. Lower value more population but more batch\n",
    "- NOTE: n_pcs: number of pca dimensions"
   ]
  },
  {
   "cell_type": "code",
   "execution_count": null,
   "metadata": {},
   "outputs": [],
   "source": [
    "if n_pcs is None:\n",
    "    n_pcs = analyser.define_PC(adata)"
   ]
  },
  {
   "cell_type": "code",
   "execution_count": null,
   "metadata": {},
   "outputs": [],
   "source": [
    "ax = pl.plot_pca_variance(adata)\n",
    "ax.axvline(n_pcs-0.5, color=\"red\", label=f\"n PCs included: {n_pcs}\")\n",
    "plt.legend()\n",
    "utils.save_figure(figure_path + \"PC_selection.pdf\")"
   ]
  },
  {
   "cell_type": "code",
   "execution_count": null,
   "metadata": {},
   "outputs": [],
   "source": [
    "# Subset PCA\n",
    "analyser.subset_PCA(adata, n_pcs)"
   ]
  },
  {
   "cell_type": "markdown",
   "metadata": {},
   "source": [
    "## Rerun neighbors"
   ]
  },
  {
   "cell_type": "code",
   "execution_count": null,
   "metadata": {},
   "outputs": [],
   "source": [
    "sc.pp.neighbors(adata, n_neighbors=n_neighbors, n_pcs=n_pcs)"
   ]
  },
  {
   "cell_type": "markdown",
   "metadata": {},
   "source": [
    "## Calculate UMAP and find best setting"
   ]
  },
  {
   "cell_type": "markdown",
   "metadata": {},
   "source": [
    "- NOTE: min_dist: distances between points to make the plot looks more 'clustered'\n",
    "- NOTE: spread: The effective scale of embedded points value be de default is 1"
   ]
  },
  {
   "cell_type": "code",
   "execution_count": null,
   "metadata": {},
   "outputs": [],
   "source": [
    "if search_umap_parameters:\n",
    "    pl.search_umap_parameters(adata,dist_range=dist_range,\n",
    "                              spread_range=spread_range,\n",
    "                              metacol=condition_column,\n",
    "                              save=figure_path + \"UMAP_parameter_search.pdf\")"
   ]
  },
  {
   "cell_type": "code",
   "execution_count": null,
   "metadata": {},
   "outputs": [],
   "source": [
    "%bgcolor PowderBlue\n",
    "\n",
    "# Final choice of spread / dist\n",
    "min_dist = 0.4\n",
    "spread = 2.5"
   ]
  },
  {
   "cell_type": "code",
   "execution_count": null,
   "metadata": {},
   "outputs": [],
   "source": [
    "# Plot final UMAP with quality measures\n",
    "sc.tl.umap(adata, min_dist=min_dist, spread=spread, n_components=3)\n",
    "sc.pl.umap(adata, color=condition_column)"
   ]
  },
  {
   "cell_type": "code",
   "execution_count": null,
   "metadata": {},
   "outputs": [],
   "source": [
    "# Plot distribution of samples in umap\n",
    "pl.plot_group_embeddings(adata, groupby=condition_column, save=figure_path + \"sample_distribution_umap.png\")"
   ]
  },
  {
   "cell_type": "markdown",
   "metadata": {},
   "source": [
    "## Cell clustering\n",
    "- NOTE: resolution: controls the coarseness of the clustering. Higher values lead to more clusters."
   ]
  },
  {
   "cell_type": "code",
   "execution_count": null,
   "metadata": {},
   "outputs": [],
   "source": [
    "if search_clustering_parameters:\n",
    "    pl.search_clustering_parameters(adata, ncols=4, method=clustering_method, \n",
    "                                    save=figure_path + \"clustering_search.png\")"
   ]
  },
  {
   "cell_type": "code",
   "execution_count": null,
   "metadata": {},
   "outputs": [],
   "source": [
    "%bgcolor PowderBlue\n",
    "\n",
    "#Choose final resolution\n",
    "clustering_column = \"leiden_0.5\""
   ]
  },
  {
   "cell_type": "markdown",
   "metadata": {},
   "source": [
    "### Reclustering"
   ]
  },
  {
   "cell_type": "markdown",
   "metadata": {},
   "source": [
    "Here you can use the `analyser.recluser` function to iteratively adjust clustering"
   ]
  },
  {
   "cell_type": "code",
   "execution_count": null,
   "metadata": {},
   "outputs": [],
   "source": [
    "analyser.recluster(adata, clustering_column, [\"1\", \"3\"], task=\"join\")\n",
    "clustering_column = \"leiden_0.5_recluster\"  #update clustering column"
   ]
  },
  {
   "cell_type": "code",
   "execution_count": null,
   "metadata": {},
   "outputs": [],
   "source": [
    "analyser.recluster(adata, clustering_column, [\"3\"], task=\"split\", resolution=0.15, key_added=clustering_column)  #overwrite column"
   ]
  },
  {
   "cell_type": "code",
   "execution_count": null,
   "metadata": {},
   "outputs": [],
   "source": [
    "#Create final clustering\n",
    "adata.obs[\"clustering\"] = analyser.rename_categories(adata.obs[clustering_column])\n",
    "adata.uns[\"infoprocess\"][\"plot_metrics\"] = list(adata.uns[\"infoprocess\"][\"plot_metrics\"]) + [\"clustering\"]"
   ]
  },
  {
   "cell_type": "markdown",
   "metadata": {},
   "source": [
    "### Final clustering"
   ]
  },
  {
   "cell_type": "code",
   "execution_count": null,
   "metadata": {},
   "outputs": [],
   "source": [
    "#Plot final leiden\n",
    "sc.pl.umap(adata, color=[condition_column, \"clustering\"], show=False)\n",
    "utils.save_figure(figure_path + \"umap_final.pdf\")"
   ]
  },
  {
   "cell_type": "code",
   "execution_count": null,
   "metadata": {},
   "outputs": [],
   "source": [
    "# Plot final plot with QC metrics\n",
    "sc.pl.umap(adata, color=adata.uns[\"infoprocess\"][\"plot_metrics\"], ncols=3, show=False)\n",
    "utils.save_figure(figure_path + \"umap_qc.pdf\")"
   ]
  },
  {
   "cell_type": "markdown",
   "metadata": {},
   "source": [
    "## Plot distribution of cells across clusters"
   ]
  },
  {
   "cell_type": "code",
   "execution_count": null,
   "metadata": {},
   "outputs": [],
   "source": [
    "pl.n_cells_barplot(adata, \"clustering\", groupby=condition_column, \n",
    "                   save=figure_path + \"cell_distribution_barplot.pdf\")"
   ]
  },
  {
   "cell_type": "markdown",
   "metadata": {},
   "source": [
    "## Generating 3d Object with UMAP coordinates in HTML"
   ]
  },
  {
   "cell_type": "code",
   "execution_count": null,
   "metadata": {},
   "outputs": [],
   "source": [
    "#plot 3d html for the \"clustering\" adata.obs, change to indivudual leiden or if needed\n",
    "pl.plot_3D_UMAP(adata,\"clustering\",save=figure_path + \"umap_3d_clustering\")\n"
   ]
  },
  {
   "cell_type": "markdown",
   "metadata": {
    "ExecuteTime": {
     "end_time": "2022-02-23T08:59:45.129236Z",
     "start_time": "2022-02-23T08:59:31.820370Z"
    }
   },
   "source": [
    "## Saving adata for next notebook"
   ]
  },
  {
   "cell_type": "code",
   "execution_count": null,
   "metadata": {},
   "outputs": [],
   "source": [
    "utils.saving_anndata(adata, current_notebook=4)"
   ]
  }
 ],
 "metadata": {
  "language_info": {
   "name": "python"
  }
 },
 "nbformat": 4,
 "nbformat_minor": 4
}
