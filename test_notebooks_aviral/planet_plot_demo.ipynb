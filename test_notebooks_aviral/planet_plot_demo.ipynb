{
 "cells": [
  {
   "cell_type": "markdown",
   "id": "22d406ba",
   "metadata": {},
   "source": [
    "## Planet Plot Demo"
   ]
  },
  {
   "cell_type": "code",
   "execution_count": null,
   "id": "084ef04f",
   "metadata": {},
   "outputs": [],
   "source": [
    "import sctoolbox.utilities as utils\n",
    "import sctoolbox.plotting.planet_plot as pp"
   ]
  },
  {
   "cell_type": "markdown",
   "id": "6300f9a0",
   "metadata": {},
   "source": [
    "#### load adata"
   ]
  },
  {
   "cell_type": "code",
   "execution_count": null,
   "id": "3922b990",
   "metadata": {},
   "outputs": [],
   "source": [
    "adata = utils.load_h5ad(\"/mnt/agnerds/user/aviral.jain/all-snRNA.h5ad\")"
   ]
  },
  {
   "cell_type": "code",
   "execution_count": null,
   "id": "a95f71a9",
   "metadata": {},
   "outputs": [],
   "source": [
    "adata.obs_keys"
   ]
  },
  {
   "cell_type": "code",
   "execution_count": null,
   "id": "b4d4ea57",
   "metadata": {
    "scrolled": false
   },
   "outputs": [],
   "source": [
    "adata.var"
   ]
  },
  {
   "cell_type": "code",
   "execution_count": null,
   "id": "4d8be4e1",
   "metadata": {},
   "outputs": [],
   "source": [
    "fibroblast_marker_genes = [\"COL1A1\", \"COL3A1\",\"TGFB1\", \"MMP2\", \"ACTA2\"]\n",
    "vascular_endothelium_marker_genes = [\"NOS3\",\"VCAM1\",\"ICAM1\",\"SELE\" ,\"KLF2\"]\n",
    "myocardium_marker_genes = [\"TNF\",\"NPPB\",\"NPPA\",\"MYH7\",\"ACTC1\"]\n",
    "blood_marker_genes = [\"IL6\",\"CRP\",\"MMP9\",\"TNF\",\"CXCL8\"]\n",
    "immune_marker_genes = [\"IL1B\",\"TNF\",\"CCL2\",\"CD68\",\"TGFBR2\"]"
   ]
  },
  {
   "cell_type": "code",
   "execution_count": null,
   "id": "6179ac2b",
   "metadata": {},
   "outputs": [],
   "source": [
    "x_col = \"disease\"\n",
    "y_col = \"cell_type_original\"\n",
    "x_label = \"disease\"\n",
    "y_label = \"cell type\"\n",
    "expression_threshold = 0\n",
    "color_schema = \"viridis\""
   ]
  },
  {
   "cell_type": "code",
   "execution_count": null,
   "id": "1afa054e",
   "metadata": {},
   "outputs": [],
   "source": [
    "plot_vars = pp.planet_plot_anndata_preprocess(adata,\n",
    "                                  x_col,\n",
    "                                  y_col,\n",
    "                                  genes = myocardium_marker_genes,\n",
    "                                  gene_symbols= 'feature_name',\n",
    "                                  layer_value_aggregator = \"mean\",\n",
    "                                  gene_count_aggregator = \"median\",\n",
    "                                  gene_expression_aggregator = \"median\",\n",
    "                              )"
   ]
  },
  {
   "cell_type": "code",
   "execution_count": null,
   "id": "04949407",
   "metadata": {
    "scrolled": true
   },
   "outputs": [],
   "source": [
    "plot_vars"
   ]
  },
  {
   "cell_type": "markdown",
   "id": "842a3025",
   "metadata": {},
   "source": [
    "#### Dotplot like plot\n",
    "Here you only see the percentage of cells expressed in the cluster."
   ]
  },
  {
   "cell_type": "code",
   "execution_count": null,
   "id": "e5de6ce8",
   "metadata": {},
   "outputs": [],
   "source": [
    "pp.planet_plot_render(plot_vars,\n",
    "                  x_col,\n",
    "                  y_col,\n",
    "                  mode = \"aggregate\",\n",
    "                  size_value = \"percentage\",\n",
    "                  color_value = \"value\",\n",
    "                  use_log_scale = False,\n",
    "                  planet_columns = myocardium_marker_genes,\n",
    "                  color_schema = color_schema)"
   ]
  },
  {
   "cell_type": "markdown",
   "id": "1b74a3b6",
   "metadata": {},
   "source": [
    "#### Count as size_value\n",
    "Here you see also the count of cells in the cluster. It can be noted that different clusters have different count."
   ]
  },
  {
   "cell_type": "code",
   "execution_count": null,
   "id": "5fa9c6b8",
   "metadata": {},
   "outputs": [],
   "source": [
    "pp.planet_plot_render(plot_vars,\n",
    "                  x_col,\n",
    "                  y_col,\n",
    "                  mode = \"aggregate\",\n",
    "                  size_value = \"count\",\n",
    "                  color_value = \"value\", \n",
    "                  use_log_scale = False,\n",
    "                  planet_columns = myocardium_marker_genes,\n",
    "                  color_schema = color_schema)"
   ]
  },
  {
   "cell_type": "markdown",
   "id": "2427b354",
   "metadata": {},
   "source": [
    "#### Planet mode\n",
    "In order to see the individual contributions of the genes to the aggregate, we use the planet mode."
   ]
  },
  {
   "cell_type": "code",
   "execution_count": null,
   "id": "4201b64b",
   "metadata": {},
   "outputs": [],
   "source": [
    "pp.planet_plot_render(plot_vars,\n",
    "                  x_col,\n",
    "                  y_col,\n",
    "                  mode = \"planet\",\n",
    "                  size_value = \"count\",\n",
    "                  color_value = \"value\",\n",
    "                  use_log_scale = False,\n",
    "                  planet_columns = myocardium_marker_genes,\n",
    "                  color_schema = color_schema)"
   ]
  },
  {
   "cell_type": "markdown",
   "id": "839e94cb",
   "metadata": {},
   "source": [
    "#### percentage_max as color_value\n",
    "The gene expressions in the last plot have become similar coloured, this is because including the individual gene expressions has greatly increased the range of gene expressions. In order to be able to do a better comparative analysis across the clusters for different genes. we set the color value to percentage_max, where the expression value for the dot (center or planet)  is calculated as a percentage of the maximum expression of that dot across all the clusters."
   ]
  },
  {
   "cell_type": "code",
   "execution_count": null,
   "id": "0ac739e5",
   "metadata": {},
   "outputs": [],
   "source": [
    "pp.planet_plot_render(plot_vars,\n",
    "                  x_col,\n",
    "                  y_col,\n",
    "                  mode = \"planet\",\n",
    "                  size_value = \"count\",\n",
    "                  color_value = \"percentage_max\",\n",
    "                  use_log_scale = False,\n",
    "                  planet_columns = myocardium_marker_genes,\n",
    "                  color_schema = color_schema)"
   ]
  },
  {
   "cell_type": "markdown",
   "id": "b31752cd",
   "metadata": {},
   "source": [
    "#### use_log_scale\n",
    "As some clusters have a relatively very small size compared to others, it is hard to get an estimate of the difference in count across different clusters. We can use log scale to shift the distribution a bit to get a better view and may be able to filter out insignificant values."
   ]
  },
  {
   "cell_type": "code",
   "execution_count": null,
   "id": "a8ff23b4",
   "metadata": {},
   "outputs": [],
   "source": [
    "pp.planet_plot_render(plot_vars,\n",
    "                  x_col,\n",
    "                  y_col,\n",
    "                  mode = \"planet\",\n",
    "                  size_value = \"count\",\n",
    "                  color_value = \"percentage_max\",\n",
    "                  use_log_scale = True,\n",
    "                  planet_columns = myocardium_marker_genes,\n",
    "                  color_schema = color_schema)"
   ]
  },
  {
   "cell_type": "markdown",
   "id": "d15b7082",
   "metadata": {},
   "source": [
    "#### Plot obs_columns\n",
    "But, filtering cannot be done solely on the basis of cell count, we have many scoring metrics stored in the obs column. The planet plot also has an advanced preprocessing function where you can pass the obs columns and get the aggregate values to plot them as planets."
   ]
  },
  {
   "cell_type": "code",
   "execution_count": null,
   "id": "b73eeb48",
   "metadata": {},
   "outputs": [],
   "source": [
    "# Prepare df with obs_cols\n",
    "plot_vars_2 = pp.planet_plot_anndata_preprocess_advanced(adata,\n",
    "                                  x_col,\n",
    "                                  y_col,\n",
    "                                  genes = myocardium_marker_genes,\n",
    "                                  obs_columns=['percent_mito', 'doublet_score', 'dissociation_score'],\n",
    "                                  gene_symbols= 'feature_name',\n",
    "                                  layer_value_aggregator = \"mean\",\n",
    "                                  gene_count_aggregator = \"median\",\n",
    "                                  gene_expression_aggregator = \"median\",\n",
    "                              )"
   ]
  },
  {
   "cell_type": "code",
   "execution_count": null,
   "id": "6d174972",
   "metadata": {},
   "outputs": [],
   "source": [
    "# Plot obs_columns using individual planet color schema\n",
    "pp.planet_plot_render(plot_vars_2,\n",
    "                  x_col,\n",
    "                  y_col,\n",
    "                  mode = \"planet\",\n",
    "                  size_value = \"count\",\n",
    "                  color_value = \"value\",\n",
    "                  use_log_scale = False,\n",
    "                  planet_columns = ['percent_mito', 'doublet_score', 'dissociation_score'],\n",
    "                  color_schema = color_schema,\n",
    "                  planet_color_schemas=[ \"coolwarm\", \"cividis\", \"gray\"])"
   ]
  },
  {
   "cell_type": "markdown",
   "id": "4a2f01c3",
   "metadata": {},
   "source": [
    "#### obs columns with individual thresholds\n",
    "Ofcoarse, we do not need to use the default threshold that we use for the gene expression also for the obs columns. We can pass a list of custom thresholds corresponding to each obs column.#"
   ]
  },
  {
   "cell_type": "code",
   "execution_count": null,
   "id": "4fc6ba40",
   "metadata": {},
   "outputs": [],
   "source": [
    "# Prepare df with individual thresholds\n",
    "plot_vars_3 = pp.planet_plot_anndata_preprocess_advanced(adata,\n",
    "                                  x_col,\n",
    "                                  y_col,\n",
    "                                  genes = myocardium_marker_genes,\n",
    "                                  obs_columns=['percent_mito', 'doublet_score', 'dissociation_score'],\n",
    "                                  obs_thresholds=[0.1, 0 ,0],\n",
    "                                  gene_symbols= 'feature_name',\n",
    "                                  layer_value_aggregator = \"mean\",\n",
    "                                  gene_count_aggregator = \"median\",\n",
    "                                  gene_expression_aggregator = \"median\",\n",
    "                              )"
   ]
  },
  {
   "cell_type": "code",
   "execution_count": null,
   "id": "54f7f358",
   "metadata": {},
   "outputs": [],
   "source": [
    "# Plot obs_columns using individual thresholds\n",
    "pp.planet_plot_render(plot_vars_3,\n",
    "                  x_col,\n",
    "                  y_col,\n",
    "                  mode = \"planet\",\n",
    "                  size_value = \"count\",\n",
    "                  color_value = \"value\",\n",
    "                  use_log_scale = False,\n",
    "                  planet_columns = ['percent_mito', 'doublet_score', 'dissociation_score'],\n",
    "                  color_schema = color_schema,\n",
    "                  planet_color_schemas=[ \"coolwarm\", \"cividis\", \"gray\"])"
   ]
  },
  {
   "cell_type": "markdown",
   "id": "4ff465d2",
   "metadata": {},
   "source": [
    "#### Switching percent_mito aggregator to 'median'\n",
    "We can also pass custom aggregators corresponding to obs columns. Uppon switching to median, the range of percent_mito is reduced and as a result it is easier to filter out the good quality clusters. We also modify the colorbar labels to show that now the median is displayed. There is a range of arguments customize all the labels in the plot."
   ]
  },
  {
   "cell_type": "code",
   "execution_count": null,
   "id": "86c0d14b",
   "metadata": {},
   "outputs": [],
   "source": [
    "# Switching percent_mito aggregator to 'median'\n",
    "plot_vars_4 = pp.planet_plot_anndata_preprocess_advanced(adata,\n",
    "                                  x_col,\n",
    "                                  y_col,\n",
    "                                  genes = myocardium_marker_genes,\n",
    "                                  obs_columns=['percent_mito', 'doublet_score', 'dissociation_score'],\n",
    "                                  obs_aggregator_array=['median','median','median'],\n",
    "                                  obs_thresholds=[0.1, 0 ,0],\n",
    "                                  gene_symbols= 'feature_name',\n",
    "                                  layer_value_aggregator = \"mean\",\n",
    "                                  gene_count_aggregator = \"median\",\n",
    "                                  gene_expression_aggregator = \"median\",\n",
    "                              )"
   ]
  },
  {
   "cell_type": "code",
   "execution_count": null,
   "id": "47a9ebd4",
   "metadata": {},
   "outputs": [],
   "source": [
    "# Plotting with new aggregator, the range is reduced, better decisions can be made using the color.\n",
    "pp.planet_plot_render(plot_vars_4,\n",
    "                  x_col,\n",
    "                  y_col,\n",
    "                  mode = \"planet\",\n",
    "                  size_value = \"count\",\n",
    "                  color_value = \"value\",\n",
    "                  use_log_scale = False,\n",
    "                  planet_columns = ['percent_mito', 'doublet_score', 'dissociation_score'],\n",
    "                  color_schema = color_schema,\n",
    "                  planet_color_schemas=[ \"coolwarm\", \"cividis\", \"gray\"],\n",
    "                  colorbar_label_array = ['percent mito (median)', 'doublet score (median)', 'dissociation score (median)']\n",
    "                  )"
   ]
  },
  {
   "cell_type": "markdown",
   "id": "ebdb8c7f",
   "metadata": {},
   "source": [
    "#### Column subsetting\n",
    "Now, we pass the filtered clusters in y_col_subset, to only use this subset for our plotting."
   ]
  },
  {
   "cell_type": "code",
   "execution_count": null,
   "id": "93ed90d8",
   "metadata": {},
   "outputs": [],
   "source": [
    "# subsetting according to percent mito\n",
    "plot_vars_5 = pp.planet_plot_anndata_preprocess_advanced(adata,\n",
    "                                  x_col,\n",
    "                                  y_col,\n",
    "                                  y_col_subset=['Cardiomyocite', 'Cycling cells', 'Adipocyte', 'Fibroblast'],\n",
    "                                  genes = myocardium_marker_genes,\n",
    "                                  obs_columns=['percent_mito', 'doublet_score', 'dissociation_score'],\n",
    "                                  obs_thresholds=[0.1, 0 ,0],\n",
    "                                  obs_aggregator_array=['median','median','median'],\n",
    "                                  gene_symbols= 'feature_name',\n",
    "                                  layer_value_aggregator = \"mean\",\n",
    "                                  gene_count_aggregator = \"median\",\n",
    "                                  gene_expression_aggregator = \"median\")"
   ]
  },
  {
   "cell_type": "code",
   "execution_count": null,
   "id": "4514f985",
   "metadata": {},
   "outputs": [],
   "source": [
    "# plot the subset, better comparision\n",
    "pp.planet_plot_render(plot_vars_5,\n",
    "                  x_col,\n",
    "                  y_col,\n",
    "                  mode = \"planet\",\n",
    "                  size_value = \"count\",\n",
    "                  color_value = \"value\",\n",
    "                  use_log_scale = False,\n",
    "                  planet_columns = ['percent_mito', 'doublet_score', 'dissociation_score'],\n",
    "                  color_schema = color_schema,\n",
    "                  planet_color_schemas=[ \"coolwarm\", \"cividis\", \"gray\"],\n",
    "                  colorbar_label_array = ['percent mito (median)', 'doublet score (median)', 'dissociation score (median)']\n",
    "                  )"
   ]
  },
  {
   "cell_type": "code",
   "execution_count": null,
   "id": "383ec4b8",
   "metadata": {},
   "outputs": [],
   "source": [
    "# use the same df for gene expression plot\n",
    "pp.planet_plot_render(plot_vars_5,\n",
    "                  x_col,\n",
    "                  y_col,\n",
    "                  mode = \"planet\",\n",
    "                  size_value = \"count\",\n",
    "                  color_value = \"percentage_max\",\n",
    "                  use_log_scale = False,\n",
    "                  planet_columns = myocardium_marker_genes,\n",
    "                  color_schema = color_schema)"
   ]
  },
  {
   "cell_type": "markdown",
   "id": "73a20429",
   "metadata": {},
   "source": [
    "#### Figure size adjustment\n",
    "Ther two parameters FIG_SIZE_SCALER and PLANET_DIST_SCALER can be tuned to adjust the figure size and planet distance in order to achieve a perfect looking plot."
   ]
  },
  {
   "cell_type": "code",
   "execution_count": null,
   "id": "5edb42b3",
   "metadata": {},
   "outputs": [],
   "source": [
    "# saving space, reducing plot size, FIG_SIZE_SCALER=1.5 from 2 (default)\n",
    "pp.planet_plot_render(plot_vars_5,\n",
    "                  x_col,\n",
    "                  y_col,\n",
    "                  mode = \"planet\",\n",
    "                  size_value = \"count\",\n",
    "                  color_value = \"percentage_max\",\n",
    "                  use_log_scale = False,\n",
    "                  planet_columns = myocardium_marker_genes,\n",
    "                  color_schema = color_schema,\n",
    "                  FIG_SIZE_SCALER=1.5)"
   ]
  },
  {
   "cell_type": "code",
   "execution_count": null,
   "id": "08449589",
   "metadata": {},
   "outputs": [],
   "source": [
    "# Planets messed up, not problem! set adjust the PLANET_DIST_SCALER\n",
    "pp.planet_plot_render(plot_vars_5,\n",
    "                  x_col,\n",
    "                  y_col,\n",
    "                  mode = \"planet\",\n",
    "                  size_value = \"count\",\n",
    "                  color_value = \"percentage_max\",\n",
    "                  use_log_scale = False,\n",
    "                  planet_columns = myocardium_marker_genes,\n",
    "                  color_schema = color_schema,\n",
    "                  FIG_SIZE_SCALER=1.5,\n",
    "                  PLANET_DIST_SCALER=2.35)"
   ]
  },
  {
   "cell_type": "markdown",
   "id": "c985e06c",
   "metadata": {},
   "source": [
    "#### Legend \n",
    "There is a great range of parameters to tune size and alignment of the legends individually."
   ]
  },
  {
   "cell_type": "code",
   "execution_count": null,
   "id": "db72d327",
   "metadata": {},
   "outputs": [],
   "source": [
    "# Adjust legend sizes\n",
    "pp.planet_plot_render(plot_vars_5,\n",
    "                  x_col,\n",
    "                  y_col,\n",
    "                  mode = \"planet\",\n",
    "                  size_value = \"count\",\n",
    "                  color_value = \"percentage_max\",\n",
    "                  use_log_scale = False,\n",
    "                  planet_columns = myocardium_marker_genes,\n",
    "                  color_schema = color_schema,\n",
    "                  FIG_SIZE_SCALER=1.5,\n",
    "                  PLANET_DIST_SCALER=2.35,\n",
    "                  LEGEND_COLOR_WIDTH=1.5,\n",
    "                  LEGEND_DOT_WIDTH=1.5,\n",
    "                  LEGEND_DOT_HEIGHT=1.5,\n",
    "                  LEGEND_PLANET_WIDTH=1.5,\n",
    "                  LEGEND_PLANET_HEIGHT=1.5\n",
    "                  )"
   ]
  },
  {
   "cell_type": "code",
   "execution_count": null,
   "id": "000e1860",
   "metadata": {},
   "outputs": [],
   "source": [
    "# Make it even more compact, adjust legend alignments!\n",
    "pp.planet_plot_render(plot_vars_5,\n",
    "                  x_col,\n",
    "                  y_col,\n",
    "                  mode = \"planet\",\n",
    "                  size_value = \"count\",\n",
    "                  color_value = \"percentage_max\",\n",
    "                  use_log_scale = False,\n",
    "                  planet_columns = myocardium_marker_genes,\n",
    "                  color_schema = color_schema,\n",
    "                  FIG_SIZE_SCALER=1.5,\n",
    "                  PLANET_DIST_SCALER=2.35,\n",
    "                  LEGEND_COLOR_WIDTH=1.5,\n",
    "                  LEGEND_DOT_WIDTH=1.5,\n",
    "                  LEGEND_DOT_HEIGHT=1.5,\n",
    "                  LEGEND_PLANET_WIDTH=1.5,\n",
    "                  LEGEND_PLANET_HEIGHT=1.5,\n",
    "                  LEGEND_COLOR_X_ALIGNMENT=-2,\n",
    "                  LEGEND_COLOR_Y_ALIGNMENT=3,\n",
    "                  LEGEND_DOT_Y_ALIGNMENT=-1.5,\n",
    "                  LEGEND_PLANET_Y_ALIGNMENT=-1.5\n",
    "                  )"
   ]
  },
  {
   "cell_type": "markdown",
   "id": "1cea32fe",
   "metadata": {},
   "source": [
    "### For more features read the documentation!"
   ]
  }
 ],
 "metadata": {
  "kernelspec": {
   "display_name": "sctoolbox-no-r",
   "language": "python",
   "name": "sctoolbox-no-r"
  },
  "language_info": {
   "codemirror_mode": {
    "name": "ipython",
    "version": 3
   },
   "file_extension": ".py",
   "mimetype": "text/x-python",
   "name": "python",
   "nbconvert_exporter": "python",
   "pygments_lexer": "ipython3",
   "version": "3.10.13"
  }
 },
 "nbformat": 4,
 "nbformat_minor": 5
}
