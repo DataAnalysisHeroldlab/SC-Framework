{
 "cells": [
  {
   "cell_type": "code",
   "execution_count": null,
   "id": "41a19f00",
   "metadata": {},
   "outputs": [],
   "source": [
    "import scanpy\n",
    "import sctoolbox.receptor_ligand as rl"
   ]
  },
  {
   "cell_type": "markdown",
   "id": "2a862666",
   "metadata": {},
   "source": [
    "__Use `help(<function_name>)` for information on the parameters. E.g. `help(rl.download_db)`__"
   ]
  },
  {
   "cell_type": "markdown",
   "id": "0b949b6b",
   "metadata": {},
   "source": [
    "# Setup"
   ]
  },
  {
   "cell_type": "markdown",
   "id": "b1c7691c",
   "metadata": {},
   "source": [
    "## Load data\n",
    "The dataset must be clustered for a receptor-ligand analysis."
   ]
  },
  {
   "cell_type": "code",
   "execution_count": null,
   "id": "cd45e497",
   "metadata": {},
   "outputs": [],
   "source": [
    "# TODO add correct data location\n",
    "# adata = scanpy.read_h5ad(filename='')\n",
    "adata = scanpy.datasets.pbmc3k_processed()"
   ]
  },
  {
   "cell_type": "markdown",
   "id": "8d234315",
   "metadata": {},
   "source": [
    "## Download receptor-ligand database\n",
    "Provide a path to a table with receptor-ligand interactions. Will be stored in the adata object (`adata.uns['receptor-ligand]['database']`)."
   ]
  },
  {
   "cell_type": "code",
   "execution_count": null,
   "id": "e16291e6",
   "metadata": {},
   "outputs": [],
   "source": [
    "rl.download_db(adata=adata,\n",
    "               db_path='http://tcm.zju.edu.cn/celltalkdb/download/processed_data/human_lr_pair.txt',\n",
    "               ligand_column='ligand_gene_symbol',\n",
    "               receptor_column='receptor_gene_symbol',\n",
    "               inplace=True,\n",
    "               overwrite=False)"
   ]
  },
  {
   "cell_type": "markdown",
   "id": "ae0934e8",
   "metadata": {
    "code_folding": []
   },
   "source": [
    "## Compute interactions\n",
    "Create a table of receptor-ligand interactions between given groups. This table is used for plotting. Will be stored in the adata object (`adata.uns['receptor-ligand']['interactions']`)"
   ]
  },
  {
   "cell_type": "code",
   "execution_count": null,
   "id": "49132f76",
   "metadata": {},
   "outputs": [],
   "source": [
    "rl.calculate_interaction_table(adata=adata,\n",
    "                               cluster_column=\"louvain\",\n",
    "                               gene_index=None,\n",
    "                               normalize=1000,\n",
    "                               inplace=True,\n",
    "                               overwrite=False)"
   ]
  },
  {
   "cell_type": "markdown",
   "id": "6fcae646",
   "metadata": {},
   "source": [
    "# Plotting"
   ]
  },
  {
   "cell_type": "markdown",
   "id": "9f075f5e",
   "metadata": {},
   "source": [
    "## Violin\n",
    "Show the distribution of interaction scores for all group combinations.\n",
    "\n",
    "Scores `> 0` can be interpreted as receptor-ligand interactions enriched for group combination.  \n",
    "Scores `< 0` can be interpreted as receptor-ligand interactions depleted for group combination."
   ]
  },
  {
   "cell_type": "code",
   "execution_count": null,
   "id": "35a60053",
   "metadata": {},
   "outputs": [],
   "source": [
    "rl.interaction_violin_plot(adata,\n",
    "                           min_perc=0,\n",
    "                           output=None,\n",
    "                           figsize=(5, 30),\n",
    "                           dpi=100)"
   ]
  },
  {
   "cell_type": "markdown",
   "id": "cb6ca70d",
   "metadata": {},
   "source": [
    "## Network\n",
    "Show a network graph of number of interactions between groups."
   ]
  },
  {
   "cell_type": "code",
   "execution_count": null,
   "id": "fea164b4",
   "metadata": {},
   "outputs": [],
   "source": [
    "rl.hairball(adata,\n",
    "            min_perc=0,\n",
    "            interaction_score=0,\n",
    "            interaction_perc=90,\n",
    "            output=None,\n",
    "            title=None,\n",
    "            color_min=0,\n",
    "            color_max=None,\n",
    "            restrict_to=[],\n",
    "            show_count=True\n",
    "           )"
   ]
  },
  {
   "cell_type": "markdown",
   "id": "fbc63b48",
   "metadata": {},
   "source": [
    "## Receptor-ligand connections\n",
    "Show a detailed view on receptor-ligand pairs and their strength between groups.\n",
    "\n",
    "- __receptor-/ ligand score__: Gene enriched (`> 0`) or depleted (`< 0`) for specific group.\n",
    "- __receptor-/ ligand percent__: Percent of cells in a group expressing gene.\n",
    "- __interaction score__: receptor-ligand pair enriched (`> 0`) or depleted (`< 0`) between groups."
   ]
  },
  {
   "cell_type": "code",
   "execution_count": null,
   "id": "6305aa84",
   "metadata": {},
   "outputs": [],
   "source": [
    "rl.connectionPlot(adata=adata, \n",
    "                  restrict_to=None,\n",
    "                  figsize=(5, 10),\n",
    "                  dpi=100,\n",
    "                  connection_alpha=\"interaction_score\",\n",
    "                  output=None,\n",
    "                  title=None,\n",
    "                  receptor_cluster_col=\"receptor_cluster\",\n",
    "                  receptor_col=\"receptor_gene\",\n",
    "                  receptor_hue=\"receptor_score\",\n",
    "                  receptor_size=\"receptor_percent\",\n",
    "                  ligand_cluster_col=\"ligand_cluster\",\n",
    "                  ligand_col=\"ligand_gene\",\n",
    "                  ligand_hue=\"ligand_score\",\n",
    "                  ligand_size=\"ligand_percent\",\n",
    "                  filter=\"receptor_score > 0 & ligand_score > 0 & interaction_score > 0\",\n",
    "                  lw_multiplier=2,\n",
    "                  wspace=0.4,\n",
    "                  line_colors=\"rainbow\")"
   ]
  }
 ],
 "metadata": {
  "kernelspec": {
   "display_name": "sctoolbox",
   "language": "python",
   "name": "sctoolbox"
  },
  "language_info": {
   "codemirror_mode": {
    "name": "ipython",
    "version": 3
   },
   "file_extension": ".py",
   "mimetype": "text/x-python",
   "name": "python",
   "nbconvert_exporter": "python",
   "pygments_lexer": "ipython3",
   "version": "3.10.8"
  }
 },
 "nbformat": 4,
 "nbformat_minor": 5
}
