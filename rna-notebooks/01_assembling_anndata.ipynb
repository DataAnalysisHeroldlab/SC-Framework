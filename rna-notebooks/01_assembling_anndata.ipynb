{
 "cells": [
  {
   "cell_type": "code",
   "execution_count": null,
   "id": "2b9518df",
   "metadata": {
    "editable": false,
    "hide_input": true
   },
   "outputs": [],
   "source": [
    "import sctoolbox\n",
    "from sctoolbox.utilities import bgcolor"
   ]
  },
  {
   "cell_type": "markdown",
   "id": "2cf01f69",
   "metadata": {},
   "source": [
    "# Assembling or loading anndata object\n",
    "<hr style=\"border:2px solid black\"> </hr>"
   ]
  },
  {
   "cell_type": "markdown",
   "id": "4d4d124c",
   "metadata": {},
   "source": [
    "<h1><center>⬐ Fill in input data here ⬎</center></h1>"
   ]
  },
  {
   "cell_type": "code",
   "execution_count": null,
   "id": "6fd2a83b",
   "metadata": {},
   "outputs": [],
   "source": [
    "%bgcolor PowderBlue\n",
    "\n",
    "############### DEFINING STRATEGY ####################################\n",
    "from_h5ad = True #option 1\n",
    "assembling_10_velocity = False #option 2\n",
    "assembling_10_public = False #option 3\n",
    "convert_seurat = False #option 4\n",
    "\n",
    "############### INPUT DATA ###########################################\n",
    "\n",
    "#For option 1: The path to an existing .h5ad file\n",
    "h5ad_path = \"test_data/adata_rna.h5ad\"\n",
    "\n",
    "#For option 2: This is the directory of ext_* or dst_* experiment\n",
    "path_solo_quant = \"/mnt/agnerds/loosolab_SC_RNA_framework/examples/assembling_10_velocity/quant/\"\n",
    "\n",
    "#For option 3: 10X assembling from public data\n",
    "path_public_10X = \"/mnt/agnerds/loosolab_SC_RNA_framework/examples/assembling_10_public/\"\n",
    "\n",
    "#For option 4: This is the path to the Seurat (.rds) file\n",
    "path_rds = \"/mnt/agnerds/loosolab_SC_RNA_framework/examples/convert_seurat/GSE135893_ILD_annotated_fullsize.rds\""
   ]
  },
  {
   "cell_type": "markdown",
   "id": "c5bb0896",
   "metadata": {},
   "source": [
    "<hr style=\"border:2px solid black\"> </hr>"
   ]
  },
  {
   "cell_type": "markdown",
   "id": "3918c093",
   "metadata": {},
   "source": [
    "## Setup"
   ]
  },
  {
   "cell_type": "code",
   "execution_count": null,
   "id": "70496f93",
   "metadata": {
    "editable": false
   },
   "outputs": [],
   "source": [
    "import sctoolbox.utilities as utils\n",
    "import sctoolbox.assemblers as assembler\n",
    "import sctoolbox.file_converter as converter\n",
    "\n",
    "utils.settings_from_config(\"config.yaml\", key=\"01\")"
   ]
  },
  {
   "cell_type": "markdown",
   "id": "7ef8776e",
   "metadata": {},
   "source": [
    "---------"
   ]
  },
  {
   "cell_type": "markdown",
   "id": "f3a2d6fe",
   "metadata": {},
   "source": [
    "## Read in data"
   ]
  },
  {
   "cell_type": "markdown",
   "id": "872a9852",
   "metadata": {},
   "source": [
    "### Option 1: Read from h5ad"
   ]
  },
  {
   "cell_type": "code",
   "execution_count": null,
   "id": "93b46ab3",
   "metadata": {
    "editable": false
   },
   "outputs": [],
   "source": [
    "if from_h5ad:\n",
    "    adata = utils.load_h5ad(h5ad_path)"
   ]
  },
  {
   "cell_type": "markdown",
   "id": "ba401229",
   "metadata": {},
   "source": [
    "### Option 2: Assemble from preprocessing pipeline 'quant' folder"
   ]
  },
  {
   "cell_type": "code",
   "execution_count": null,
   "id": "4fc89bbd",
   "metadata": {},
   "outputs": [],
   "source": [
    "#Assembling an anndata object for velocity analysis\n",
    "if assembling_10_velocity == True:\n",
    "    \n",
    "    #Set up the information below\n",
    "    the_10X_yml = [\n",
    "        \"sample1:condition:room_air\",\n",
    "        \"sample2:condition:smooke_exposure\",\n",
    "    ]\n",
    "\n",
    "    adata = assembler.from_quant(path_solo_quant, the_10X_yml)"
   ]
  },
  {
   "cell_type": "markdown",
   "id": "81cf3738",
   "metadata": {},
   "source": [
    "### Option 3: Assembling an anndata object from 10X public data (mtx, barcodes, genes)"
   ]
  },
  {
   "cell_type": "code",
   "execution_count": null,
   "id": "e9453b2a",
   "metadata": {
    "editable": false
   },
   "outputs": [],
   "source": [
    "#Assembling an anndata object from 10X public data\n",
    "if assembling_10_public == True:\n",
    "    adata = assembler.from_mtx(path_public_10X)"
   ]
  },
  {
   "cell_type": "markdown",
   "id": "ffc8ce99",
   "metadata": {},
   "source": [
    "### Option 4: Convert from Seurat to anndata object"
   ]
  },
  {
   "cell_type": "code",
   "execution_count": null,
   "id": "f4042d32",
   "metadata": {
    "editable": false
   },
   "outputs": [],
   "source": [
    "# Converting from Seurat to anndata object\n",
    "if convert_seurat == True:\n",
    "    adata = converter.convertToAdata(file=path_rds)"
   ]
  },
  {
   "cell_type": "markdown",
   "id": "13db317e",
   "metadata": {},
   "source": [
    "------------"
   ]
  },
  {
   "cell_type": "markdown",
   "id": "db1d2497",
   "metadata": {},
   "source": [
    "## Saving the loaded anndata object"
   ]
  },
  {
   "cell_type": "code",
   "execution_count": null,
   "id": "64aecc20",
   "metadata": {
    "editable": false
   },
   "outputs": [],
   "source": [
    "#Overview of loaded adata\n",
    "display(adata)"
   ]
  },
  {
   "cell_type": "code",
   "execution_count": null,
   "id": "5d79b618",
   "metadata": {
    "editable": false
   },
   "outputs": [],
   "source": [
    "#Saving the data\n",
    "adata_output = \"anndata_1.h5ad\"\n",
    "utils.save_h5ad(adata, adata_output)"
   ]
  },
  {
   "cell_type": "code",
   "execution_count": null,
   "id": "ef0c80a0",
   "metadata": {},
   "outputs": [],
   "source": []
  }
 ],
 "metadata": {
  "language_info": {
   "name": "python"
  }
 },
 "nbformat": 4,
 "nbformat_minor": 5
}
