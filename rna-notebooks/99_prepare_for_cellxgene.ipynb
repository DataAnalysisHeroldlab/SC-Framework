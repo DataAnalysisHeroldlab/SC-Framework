{
 "cells": [
  {
   "cell_type": "markdown",
   "id": "4aba1889",
   "metadata": {},
   "source": [
    "# Preparing adata for cellxgene / MaMPlan creation"
   ]
  },
  {
   "cell_type": "markdown",
   "id": "13a7b71c",
   "metadata": {},
   "source": [
    "### Preparing for cellxgene\n",
    "This Notebook prepares the anndata object for cellxgene.\n",
    "This preparation includes:\n",
    " - Removing unnessesary data to keep the resulting h5ad file as small as possible\n",
    " - Renaming columns for a nicer presentation in cellxgene\n",
    " - Converting unsupported datatypes to supported datatypes\n",
    " - Additional fixes for bugs between scanpy, anndata and cellxgene\n",
    "   \n",
    "### MaMPlan creation\n",
    "Additionally, a MaMPlan can be created which is needed to deploy the dataset to the BCU repository using mampok or the BCU repository overlay.  \n",
    "A MaMPlan acts as the config file for each specific dataset. It holds a variety of different parameters needed by mampok and the BCU repository.  \n",
    "To simplyfy the creation process only the importent parameters can be set. The other parameters get a (often) required default value.\n",
    "\n",
    "See the [MaMpok wiki](https://gitlab.gwdg.de/loosolab/software/mampok/-/wikis/Getting-Started/MaMPlan_keys) for more detailed information about each parameter.\n",
    "\n",
    "#### Parameters\n",
    "| Parameter | Description | Options |\n",
    "|:---:|:---|:---|\n",
    "| project_id | Project ID, e.g. 'ext123', 'dst123' | str |\n",
    "| tool | Select the cellxgene docker container. | 'cellxgene-new', 'cellxgene-fix', 'cellxgene-vip-latest'  |\n",
    "| cluster | Select the kubernetes cluster. | 'BN', 'GI', 'GWDG', 'GWDGmanagt' |\n",
    "| organization | Select organizations related to the project.<br> Every user in one of the organizations will be able to access the dataset via the BCU repository. | [Options](https://gitlab.gwdg.de/loosolab/software/metadata_whitelists/-/blob/main/whitelists/department?ref_type=heads) |\n",
    "| label | Set label shown in the browser tab. | str |\n",
    "| user | List of users that, additonally to the organization, get access to the dataset via the BCU repository.  | List of LDAP user IDs |\n",
    "| pubmedid | Pubmed ID of public datasets. | Pubmed user ID |\n",
    "| citation | Citation of public dataset. | str |\n",
    "| cpu_limit | Set the limit of cpu cores that can be used by the deplyoment. | int |\n",
    "| mem_limit | Set the limit (in GB) of memory that can be used by the deplyoment. | int |\n",
    "| cpu_request | Set the requested amount of cpu cores that can be used by the deplyoment. | int |\n",
    "| mem_request | Set the requested amount (in GB) of memory that can be used by the deplyoment. | int |"
   ]
  },
  {
   "cell_type": "markdown",
   "id": "93cbd04a",
   "metadata": {},
   "source": [
    "## Input - 1"
   ]
  },
  {
   "cell_type": "code",
   "execution_count": 1,
   "id": "1d676578",
   "metadata": {
    "ExecuteTime": {
     "end_time": "2023-08-25T12:41:21.521302Z",
     "start_time": "2023-08-25T12:41:21.513766Z"
    }
   },
   "outputs": [],
   "source": [
    "last_notebook_adata = \"anndata_5.h5ad\"\n",
    "datatype = \"scRNA\"\n",
    "\n",
    "# MaMPlan options\n",
    "\n",
    "## Project options\n",
    "project_id = \"ID\"\n",
    "tool = \"cellxgene-fix\" #cellxgene-vip-latest\n",
    "cluster = \"BN\"\n",
    "organization = [\"AG-nerds\"]\n",
    "label = None\n",
    "user = None\n",
    "\n",
    "## Options for public datasets\n",
    "pubmedid = None\n",
    "citation = None\n",
    "\n",
    "## Options for computational resource manangemnt\n",
    "\n",
    "### Limit\n",
    "cpu_limit = None\n",
    "mem_limit = None\n",
    "### Requested\n",
    "cpu_request = None\n",
    "mem_request = None\n",
    "\n",
    "mamplan_filename = f\"{project_id}_MaMPlan.yaml\""
   ]
  },
  {
   "cell_type": "markdown",
   "id": "df6b1586",
   "metadata": {
    "ExecuteTime": {
     "end_time": "2023-08-25T07:56:44.056692Z",
     "start_time": "2023-08-25T07:56:43.996638Z"
    }
   },
   "source": [
    "## Setup"
   ]
  },
  {
   "cell_type": "code",
   "execution_count": 2,
   "id": "25449c61",
   "metadata": {
    "ExecuteTime": {
     "end_time": "2023-08-25T12:41:28.220046Z",
     "start_time": "2023-08-25T12:41:21.523340Z"
    }
   },
   "outputs": [
    {
     "name": "stdout",
     "output_type": "stream",
     "text": [
      "[WARNING] Log file 'pipeline_output/logs/99_log.txt' already exists. The file will be overwritten since 'overwrite_log' is set to True.\n"
     ]
    }
   ],
   "source": [
    "try:\n",
    "    from mampok import mamplan_creator\n",
    "except ModuleNotFoundError:\n",
    "    raise ModuleNotFoundError(\"Please install the latest mampok version.\")\n",
    "import sctoolbox.utilities as utils\n",
    "\n",
    "\n",
    "utils.settings_from_config(\"config.yaml\", key=\"99\")"
   ]
  },
  {
   "cell_type": "code",
   "execution_count": 3,
   "id": "a7ec48f1",
   "metadata": {
    "ExecuteTime": {
     "end_time": "2023-08-25T12:41:29.910228Z",
     "start_time": "2023-08-25T12:41:28.222706Z"
    }
   },
   "outputs": [
    {
     "name": "stdout",
     "output_type": "stream",
     "text": [
      "[INFO] The adata object was loaded from: pipeline_output/adatas/anndata_5.h5ad\n"
     ]
    },
    {
     "data": {
      "text/plain": [
       "AnnData object with n_obs × n_vars = 2773 × 21154\n",
       "    obs: 'orig.ident', 'chamber', 'donor', 'batch', 'sample', 'celltype', 'total_counts', 'log1p_total_counts', 'total_counts_is_ribo', 'log1p_total_counts_is_ribo', 'pct_counts_is_ribo', 'total_counts_is_mito', 'log1p_total_counts_is_mito', 'pct_counts_is_mito', 'total_counts_is_gender', 'log1p_total_counts_is_gender', 'pct_counts_is_gender', 'doublet_score', 'predicted_doublet', 'predicted_sex', 'n_genes', 'log1p_n_genes', 'S_score', 'G2M_score', 'phase', 'leiden', 'LISI_score_X_pca', 'LISI_score_X_umap', 'leiden_0.1', 'leiden_0.2', 'leiden_0.3', 'leiden_0.4', 'leiden_0.5', 'leiden_0.6', 'leiden_0.7', 'leiden_0.8', 'leiden_0.9', 'leiden_0.5_recluster', 'clustering', 'SCSA_pred_celltype', 'marker_pred_celltype'\n",
       "    var: 'is_ribo', 'is_mito', 'cellcycle', 'is_gender', 'n_cells_by_counts', 'mean_counts', 'log1p_mean_counts', 'pct_dropout_by_counts', 'total_counts', 'log1p_total_counts', 'highly_variable', 'means', 'dispersions', 'dispersions_norm', 'mean', 'std'\n",
       "    uns: 'SCSA', 'SCSA_pred_celltype_colors', 'batch_colors', 'clustering_colors', 'dendrogram_clustering', 'hvg', 'leiden', 'leiden_0.1_colors', 'leiden_0.2_colors', 'leiden_0.3_colors', 'leiden_0.4_colors', 'leiden_0.5_colors', 'leiden_0.5_recluster_colors', 'leiden_0.6_colors', 'leiden_0.7_colors', 'leiden_0.8_colors', 'leiden_0.9_colors', 'leiden_colors', 'log1p', 'marker_pred_celltype_colors', 'neighbors', 'pca', 'rank_genes_clustering', 'rank_genes_groups', 'sample_colors', 'scrublet', 'sctoolbox', 'umap'\n",
       "    obsm: 'X_pca', 'X_scanorama', 'X_umap'\n",
       "    varm: 'PCs'\n",
       "    layers: 'raw', 'raw_norm'\n",
       "    obsp: 'connectivities', 'distances'"
      ]
     },
     "metadata": {},
     "output_type": "display_data"
    }
   ],
   "source": [
    "adata = utils.load_h5ad(last_notebook_adata)\n",
    "display(adata)"
   ]
  },
  {
   "cell_type": "markdown",
   "id": "c3b8d100",
   "metadata": {},
   "source": [
    "## Prepare adata for cellxgene"
   ]
  },
  {
   "cell_type": "markdown",
   "id": "9bd64d77",
   "metadata": {},
   "source": [
    "### Input - 2 "
   ]
  },
  {
   "cell_type": "code",
   "execution_count": 4,
   "id": "6e5fa668",
   "metadata": {
    "ExecuteTime": {
     "end_time": "2023-08-25T12:41:29.918115Z",
     "start_time": "2023-08-25T12:41:29.913725Z"
    }
   },
   "outputs": [],
   "source": [
    "# Keep columns in adata.obs (Cell metadata)\n",
    "keep_obs = [\n",
    "    \"sample\",\n",
    "    \"batch\",\n",
    "    \"celltype\",\n",
    "    \"pct_counts_is_mito\",\n",
    "    \"pct_counts_is_ribo\",\n",
    "    \"phase\",\n",
    "    \"clustering\",\n",
    "    \"SCSA_pred_celltype\",\n",
    "    \"marker_pred_celltype\"\n",
    "]\n",
    "\n",
    "# Rename columns in adata.obs\n",
    "rename_obs = {\n",
    "    \"sample\": \"Sample\",\n",
    "    \"batch\": \"Batch\",\n",
    "    \"celltype\": \"Celltype\",\n",
    "    \"pct_counts_is_mito\": \"Mitochondiral content (%)\",\n",
    "    \"pct_counts_is_ribo\": \"Ribosomal content (%)\",\n",
    "    \"phase\": \"Phase\",\n",
    "    \"clustering\": \"Final Clustering\",\n",
    "    \"SCSA_pred_celltype\": \"Predicted Celltype (SCSA)\",\n",
    "    \"marker_pred_celltype\": \"Predicted Celltype (Marker)\"\n",
    "}\n",
    "\n",
    "# Keep columns in adata.var (Gene metadata)\n",
    "# An empty list removes all columns\n",
    "keep_var = []\n",
    "rename_var = {}"
   ]
  },
  {
   "cell_type": "markdown",
   "id": "37a92570",
   "metadata": {
    "ExecuteTime": {
     "end_time": "2023-08-25T09:59:39.046458Z",
     "start_time": "2023-08-25T09:59:39.042760Z"
    }
   },
   "source": [
    "### Add leiden columns"
   ]
  },
  {
   "cell_type": "code",
   "execution_count": 5,
   "id": "869f2eac",
   "metadata": {
    "ExecuteTime": {
     "end_time": "2023-08-25T12:41:29.926712Z",
     "start_time": "2023-08-25T12:41:29.921890Z"
    }
   },
   "outputs": [],
   "source": [
    "leiden_cols = [col for col in adata.obs.columns if col.startswith(\"leiden\")]\n",
    "keep_obs += leiden_cols\n",
    "rename_obs |= {c: c.replace(\"_\", \" \").capitalize() for c in leiden_cols}"
   ]
  },
  {
   "cell_type": "markdown",
   "id": "d914d062",
   "metadata": {},
   "source": [
    "The cellxgene preparation removes all data from the anndata object that is not required for the cellxgene deplyoment.  \n",
    "This saves memory on the cluster and increases runtime.\n",
    "\n",
    "In addition, every invvalid or problematic datatype is checked for and casted to a fitting datatype if possible.\n",
    "\n",
    "**Note: Keep in mind that the resulting adata object should not be used for further analysis.**"
   ]
  },
  {
   "cell_type": "code",
   "execution_count": 6,
   "id": "9f448a74",
   "metadata": {
    "ExecuteTime": {
     "end_time": "2023-08-25T12:41:29.952704Z",
     "start_time": "2023-08-25T12:41:29.929646Z"
    }
   },
   "outputs": [],
   "source": [
    "utils.prepare_for_cellxgene(adata,\n",
    "                           keep_obs=keep_obs,\n",
    "                           keep_var=keep_var,\n",
    "                           rename_obs=rename_obs,\n",
    "                           rename_var=rename_var,\n",
    "                           inplace=True)"
   ]
  },
  {
   "cell_type": "code",
   "execution_count": 7,
   "id": "5fe0f8bb",
   "metadata": {
    "ExecuteTime": {
     "end_time": "2023-08-25T12:41:29.959935Z",
     "start_time": "2023-08-25T12:41:29.954734Z"
    }
   },
   "outputs": [
    {
     "data": {
      "text/plain": [
       "AnnData object with n_obs × n_vars = 2773 × 21154\n",
       "    obs: 'Batch', 'Sample', 'Celltype', 'Ribosomal content (%)', 'Mitochondiral content (%)', 'Phase', 'Leiden', 'Leiden 0.1', 'Leiden 0.2', 'Leiden 0.3', 'Leiden 0.4', 'Leiden 0.5', 'Leiden 0.6', 'Leiden 0.7', 'Leiden 0.8', 'Leiden 0.9', 'Leiden 0.5 recluster', 'Final Clustering', 'Predicted Celltype (SCSA)', 'Predicted Celltype (Marker)'\n",
       "    uns: 'SCSA', 'dendrogram_clustering', 'hvg', 'leiden', 'log1p', 'neighbors', 'pca', 'rank_genes_clustering', 'rank_genes_groups', 'scrublet', 'sctoolbox', 'umap', 'Sample_colors', 'Batch_colors', 'Final Clustering_colors', 'Predicted Celltype (SCSA)_colors', 'Predicted Celltype (Marker)_colors', 'Leiden_colors', 'Leiden 0.1_colors', 'Leiden 0.2_colors', 'Leiden 0.3_colors', 'Leiden 0.4_colors', 'Leiden 0.5_colors', 'Leiden 0.6_colors', 'Leiden 0.7_colors', 'Leiden 0.8_colors', 'Leiden 0.9_colors', 'Leiden 0.5 recluster_colors'\n",
       "    obsm: 'X_pca', 'X_scanorama', 'X_umap'\n",
       "    varm: 'PCs'\n",
       "    layers: 'raw', 'raw_norm'\n",
       "    obsp: 'connectivities', 'distances'"
      ]
     },
     "metadata": {},
     "output_type": "display_data"
    }
   ],
   "source": [
    "display(adata)"
   ]
  },
  {
   "cell_type": "markdown",
   "id": "56a447de",
   "metadata": {},
   "source": [
    "### Save adata"
   ]
  },
  {
   "cell_type": "code",
   "execution_count": 8,
   "id": "8f8d3ce3",
   "metadata": {
    "ExecuteTime": {
     "end_time": "2023-08-25T12:41:32.021147Z",
     "start_time": "2023-08-25T12:41:29.961877Z"
    }
   },
   "outputs": [
    {
     "name": "stdout",
     "output_type": "stream",
     "text": [
      "[INFO] The adata object was saved to: pipeline_output/adatas/deployment/ID_cellxgene.h5ad\n"
     ]
    }
   ],
   "source": [
    "#Saving the data\n",
    "adata_output = f\"{project_id}_cellxgene.h5ad\"\n",
    "utils.save_h5ad(adata, adata_output)"
   ]
  },
  {
   "cell_type": "markdown",
   "id": "c9230877",
   "metadata": {},
   "source": [
    "## Write MaMPlan"
   ]
  },
  {
   "cell_type": "code",
   "execution_count": 9,
   "id": "790a4a99",
   "metadata": {
    "ExecuteTime": {
     "end_time": "2023-08-25T12:41:32.883857Z",
     "start_time": "2023-08-25T12:41:32.024668Z"
    }
   },
   "outputs": [],
   "source": [
    "mamplan = mamplan_creator.SimpleMamplan(\n",
    "    exp_id = project_id,\n",
    "    files = adata_output,\n",
    "    tool = tool,\n",
    "    analyst = utils.get_user(),\n",
    "    datatype = datatype,\n",
    "    cluster = cluster,\n",
    "    label = label,\n",
    "    organization = organization,\n",
    "    user = user,\n",
    "    pubmedid = pubmedid,\n",
    "    citation = citation,\n",
    "    cpu_limit = cpu_limit,\n",
    "    mem_limit = mem_limit,\n",
    "    cpu_request = cpu_request,\n",
    "    mem_request = mem_request\n",
    ")"
   ]
  },
  {
   "cell_type": "code",
   "execution_count": 10,
   "id": "3d9299e3",
   "metadata": {
    "ExecuteTime": {
     "end_time": "2023-08-25T12:41:32.895205Z",
     "start_time": "2023-08-25T12:41:32.886740Z"
    }
   },
   "outputs": [],
   "source": [
    "mamplan.save(f\"{project_id}\")"
   ]
  }
 ],
 "metadata": {
  "kernelspec": {
   "display_name": "sctoolbox",
   "language": "python",
   "name": "sctoolbox"
  },
  "language_info": {
   "codemirror_mode": {
    "name": "ipython",
    "version": 3
   },
   "file_extension": ".py",
   "mimetype": "text/x-python",
   "name": "python",
   "nbconvert_exporter": "python",
   "pygments_lexer": "ipython3",
   "version": "3.10.8"
  }
 },
 "nbformat": 4,
 "nbformat_minor": 5
}
