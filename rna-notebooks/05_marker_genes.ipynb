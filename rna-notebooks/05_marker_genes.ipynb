{
 "cells": [
  {
   "cell_type": "code",
   "execution_count": null,
   "id": "e81ec1f2",
   "metadata": {
    "editable": false,
    "hide_input": true,
    "init_cell": true
   },
   "outputs": [],
   "source": [
    "from sctoolbox.utilities import bgcolor"
   ]
  },
  {
   "cell_type": "markdown",
   "id": "02e0b422",
   "metadata": {},
   "source": [
    "# Marker genes and cell type assignment\n",
    "<hr style=\"border:2px solid black\"> </hr>"
   ]
  },
  {
   "cell_type": "markdown",
   "id": "cbb28ac5",
   "metadata": {},
   "source": [
    "<h1><center>⬐ Fill in input data here ⬎</center></h1>"
   ]
  },
  {
   "cell_type": "code",
   "execution_count": null,
   "id": "f5606282",
   "metadata": {
    "init_cell": true
   },
   "outputs": [],
   "source": [
    "%bgcolor PowderBlue\n",
    "\n",
    "#Final clustering column to use for cell type assignment\n",
    "clustering_col = \"clustering\"\n",
    "\n",
    "#SCSA options\n",
    "species = \"human\"\n",
    "\n",
    "#Known marker genes\n",
    "marker_genes_dict = {\"Atrial Cardiomyocyte\": [\"KCNJ3\"],\n",
    "                     \"Ventricular Cardiomyocyte\": [\"MYH7\"],\n",
    "                     \"Endothelium\": [\"APLN\"],\n",
    "                     \"Fibroblast\": [\"DCN\"],\n",
    "                     \"Macrophages\": [\"CD163\"]\n",
    "                    }\n",
    "\n",
    "#Name of column to add with the marker gene predicted celltype\n",
    "celltype_column_name = \"marker_pred_celltype\""
   ]
  },
  {
   "cell_type": "markdown",
   "id": "efd67d29",
   "metadata": {},
   "source": [
    "<hr style=\"border:2px solid black\"> </hr>"
   ]
  },
  {
   "cell_type": "markdown",
   "id": "f5fe7842",
   "metadata": {},
   "source": [
    "## Loading packages"
   ]
  },
  {
   "cell_type": "code",
   "execution_count": null,
   "id": "98c38347",
   "metadata": {},
   "outputs": [],
   "source": [
    "import scanpy as sc\n",
    "import pandas as pd\n",
    "pd.set_option('display.max_columns', None)  #no limit to the number of columns shown\n",
    "import sctoolbox.utilities as utils\n",
    "import sctoolbox.celltype_annotation as celltype_anno\n",
    "import sctoolbox.plotting as pl\n",
    "import sctoolbox.marker_genes as mg\n",
    "\n",
    "utils.settings_from_config(\"config.yaml\", key=\"05\")"
   ]
  },
  {
   "cell_type": "markdown",
   "id": "7a9534c2",
   "metadata": {},
   "source": [
    "## Loading adata"
   ]
  },
  {
   "cell_type": "code",
   "execution_count": null,
   "id": "358b2039",
   "metadata": {},
   "outputs": [],
   "source": [
    "adata = utils.load_h5ad(\"anndata_4.h5ad\")\n",
    "display(adata)"
   ]
  },
  {
   "cell_type": "markdown",
   "id": "2792f551",
   "metadata": {},
   "source": [
    "--------------"
   ]
  },
  {
   "cell_type": "markdown",
   "id": "01bc7c4e",
   "metadata": {},
   "source": [
    "## Automatic cell type prediction with SCSA"
   ]
  },
  {
   "cell_type": "code",
   "execution_count": null,
   "id": "903d14ad",
   "metadata": {
    "editable": false
   },
   "outputs": [],
   "source": [
    "mg.run_rank_genes(adata, clustering_col)"
   ]
  },
  {
   "cell_type": "code",
   "execution_count": null,
   "id": "79cc678f",
   "metadata": {
    "editable": false
   },
   "outputs": [],
   "source": [
    "celltype_anno.run_scsa(adata, species=species)"
   ]
  },
  {
   "cell_type": "code",
   "execution_count": null,
   "id": "0ca78821",
   "metadata": {
    "editable": false
   },
   "outputs": [],
   "source": [
    "pl.umap_pub(adata, color=\"SCSA_pred_celltype\", title=\"Automatic celltype assignment\", \n",
    "            save=\"SCSA_assignment.pdf\")"
   ]
  },
  {
   "cell_type": "markdown",
   "id": "52135b4c",
   "metadata": {},
   "source": [
    "-------"
   ]
  },
  {
   "cell_type": "markdown",
   "id": "f5f1f953",
   "metadata": {},
   "source": [
    "## Automatic markers per cluster using rank_genes_groups"
   ]
  },
  {
   "cell_type": "code",
   "execution_count": null,
   "id": "653aebcd",
   "metadata": {
    "editable": false
   },
   "outputs": [],
   "source": [
    "g = sc.pl.rank_genes_groups_dotplot(adata, key=\"rank_genes_groups_filtered\", n_genes=15, show=False)\n",
    "g[\"mainplot_ax\"].set_xticklabels(g[\"mainplot_ax\"].get_xticklabels(), ha=\"right\", rotation=45)\n",
    "\n",
    "utils.save_figure(\"celltype_marker_genes_dotplot.pdf\")"
   ]
  },
  {
   "cell_type": "markdown",
   "id": "9191edd5",
   "metadata": {},
   "source": [
    "-----"
   ]
  },
  {
   "cell_type": "markdown",
   "id": "9a008f34",
   "metadata": {},
   "source": [
    "## Plot expression of known markers"
   ]
  },
  {
   "cell_type": "code",
   "execution_count": null,
   "id": "6f4d9eec",
   "metadata": {
    "editable": false
   },
   "outputs": [],
   "source": [
    "marker_gene_names = []\n",
    "marker_gene_titles = []\n",
    "for key, genes in marker_genes_dict.items():\n",
    "    if isinstance(genes, str):\n",
    "        genes = [genes]\n",
    "        \n",
    "    for gene in genes:\n",
    "        marker_gene_names.append(gene)\n",
    "        marker_gene_titles.append(f\"{gene} ({key})\")"
   ]
  },
  {
   "cell_type": "code",
   "execution_count": null,
   "id": "96471005",
   "metadata": {
    "editable": false
   },
   "outputs": [],
   "source": [
    "sc.pl.umap(adata, color=marker_gene_names, title=marker_gene_titles, cmap=pl.sc_colormap(), ncols=3, show=False)\n",
    "utils.save_figure(\"marker_gene_expression_umap.png\")"
   ]
  },
  {
   "cell_type": "markdown",
   "id": "e05e94d9",
   "metadata": {},
   "source": [
    "## Assign celltypes"
   ]
  },
  {
   "cell_type": "code",
   "execution_count": null,
   "id": "0dbe9cc4",
   "metadata": {
    "editable": false
   },
   "outputs": [],
   "source": [
    "sc.tl.dendrogram(adata, clustering_col)\n",
    "pl.marker_gene_clustering(adata, clustering_col, marker_genes_dict, \n",
    "                          save=\"marker_gene_expression_dotplot.png\")"
   ]
  },
  {
   "cell_type": "code",
   "execution_count": null,
   "id": "48f870d5",
   "metadata": {
    "editable": false
   },
   "outputs": [],
   "source": [
    "cluster2celltype = mg.get_celltype_assignment(adata, clustering_col, marker_genes_dict, column_name=celltype_column_name)\n",
    "cluster2celltype"
   ]
  },
  {
   "cell_type": "code",
   "execution_count": null,
   "id": "a8002397",
   "metadata": {},
   "outputs": [],
   "source": [
    "# Adjust cluster2celltype if needed\n",
    "\n",
    "#cluster2celltype[\"1\"] = \"replacement\""
   ]
  },
  {
   "cell_type": "code",
   "execution_count": null,
   "id": "86a97070",
   "metadata": {
    "editable": false
   },
   "outputs": [],
   "source": [
    "adata.obs[\"celltype\"] = adata.obs[clustering_col].map(cluster2celltype)"
   ]
  },
  {
   "cell_type": "code",
   "execution_count": null,
   "id": "cd92d169",
   "metadata": {
    "editable": false
   },
   "outputs": [],
   "source": [
    "# Final plot of celltypes\n",
    "ax = pl.umap_pub(adata, color=celltype_column_name, legend_loc=\"on data\",\n",
    "                 save=\"celltype_assignment_umap_ondata.png\")\n",
    "\n",
    "ax = pl.umap_pub(adata, color=celltype_column_name,\n",
    "                 save=\"celltype_assignment_umap_legend.png\")"
   ]
  },
  {
   "cell_type": "markdown",
   "id": "40f33740",
   "metadata": {},
   "source": [
    "-------------"
   ]
  },
  {
   "cell_type": "markdown",
   "id": "2981b3c0",
   "metadata": {},
   "source": [
    " ## Run DEseq2 between conditions/clusters"
   ]
  },
  {
   "cell_type": "code",
   "execution_count": null,
   "id": "07812f3e",
   "metadata": {
    "editable": false
   },
   "outputs": [],
   "source": [
    "# Normalize raw counts across cells\n",
    "d = sc.pp.normalize_total(adata, layer=\"raw\", inplace=False) # returns a dict\n",
    "adata.layers[\"raw_norm\"] = d[\"X\"]\n",
    "adata.layers[\"raw_norm\"] = adata.layers[\"raw_norm\"].ceil().astype(int)"
   ]
  },
  {
   "cell_type": "code",
   "execution_count": null,
   "id": "356d4d24",
   "metadata": {
    "init_cell": true
   },
   "outputs": [],
   "source": [
    "%bgcolor PowderBlue\n",
    "\n",
    "# Adjust which columns to use for DEseq2\n",
    "sample_col = \"sample\"\n",
    "condition_col = \"chamber\""
   ]
  },
  {
   "cell_type": "code",
   "execution_count": null,
   "id": "973c1d71",
   "metadata": {
    "editable": false
   },
   "outputs": [],
   "source": [
    "# Run DEseq2\n",
    "deseq_table = mg.run_deseq2(adata, sample_col, condition_col, layer=\"raw_norm\")"
   ]
  },
  {
   "cell_type": "code",
   "execution_count": null,
   "id": "af8a1f93",
   "metadata": {
    "editable": false
   },
   "outputs": [],
   "source": [
    "deseq_table.head(10)"
   ]
  },
  {
   "cell_type": "markdown",
   "id": "6f1a0f1e",
   "metadata": {},
   "source": [
    "--------------"
   ]
  },
  {
   "cell_type": "markdown",
   "id": "3c0070f9",
   "metadata": {},
   "source": [
    "## Save adata"
   ]
  },
  {
   "cell_type": "code",
   "execution_count": null,
   "id": "3f88381c",
   "metadata": {
    "editable": false
   },
   "outputs": [],
   "source": [
    "del adata.uns[\"rank_genes_groups_filtered\"] #error when saving filtered names"
   ]
  },
  {
   "cell_type": "code",
   "execution_count": null,
   "id": "610bce07",
   "metadata": {
    "editable": false
   },
   "outputs": [],
   "source": [
    "adata"
   ]
  },
  {
   "cell_type": "code",
   "execution_count": null,
   "id": "8abc5688",
   "metadata": {
    "editable": false
   },
   "outputs": [],
   "source": [
    "utils.save_h5ad(adata, \"anndata_5.h5ad\")"
   ]
  },
  {
   "cell_type": "code",
   "execution_count": null,
   "id": "5cb32353",
   "metadata": {},
   "outputs": [],
   "source": []
  }
 ],
 "metadata": {
  "language_info": {
   "name": "python"
  }
 },
 "nbformat": 4,
 "nbformat_minor": 5
}
